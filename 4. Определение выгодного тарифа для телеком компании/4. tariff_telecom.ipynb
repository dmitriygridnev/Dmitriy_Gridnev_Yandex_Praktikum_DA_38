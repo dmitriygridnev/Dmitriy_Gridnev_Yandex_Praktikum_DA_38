{
 "cells": [
  {
   "cell_type": "markdown",
   "metadata": {},
   "source": [
    "# Шаг 1. Знакомство с данными"
   ]
  },
  {
   "cell_type": "markdown",
   "metadata": {},
   "source": [
    "**Примерный план:**\n",
    "- добавить легенду\n",
    "- изучить каждый датасет\n",
    "- определить проблемы с данными (пропуски, ошибочные значения, неверные типы данных)"
   ]
  },
  {
   "cell_type": "markdown",
   "metadata": {},
   "source": [
    "## Описание данных\n",
    "\n",
    "**Таблица users (информация о пользователях):**\n",
    "- user_id — уникальный идентификатор пользователя\n",
    "- first_name — имя пользователя\n",
    "- last_name — фамилия пользователя\n",
    "- age — возраст пользователя (годы)\n",
    "- reg_date — дата подключения тарифа (день, месяц, год)\n",
    "- churn_date — дата прекращения пользования тарифом (если значение пропущено, то тариф ещё действовал на момент выгрузки данных)\n",
    "- city — город проживания пользователя\n",
    "- tarif — название тарифного плана\n",
    "\n",
    "**Таблица calls (информация о звонках):**\n",
    "- id — уникальный номер звонка\n",
    "- call_date — дата звонка\n",
    "- duration — длительность звонка в минутах\n",
    "- user_id — идентификатор пользователя, сделавшего звонок\n",
    "\n",
    "**Таблица messages (информация о сообщениях):**\n",
    "- id — уникальный номер сообщения\n",
    "- message_date — дата сообщения\n",
    "- user_id — идентификатор пользователя, отправившего сообщение\n",
    "\n",
    "**Таблица internet (информация об интернет-сессиях):**\n",
    "- id — уникальный номер сессии\n",
    "- mb_used — объём потраченного за сессию интернет-трафика (в мегабайтах)\n",
    "- session_date — дата интернет-сессии\n",
    "- user_id — идентификатор пользователя\n",
    "\n",
    "**Таблица tariffs (информация о тарифах):**\n",
    "- tariff_name — название тарифа\n",
    "- rub_monthly_fee — ежемесячная абонентская плата в рублях\n",
    "- minutes_included — количество минут разговора в месяц, включённых в абонентскую плату\n",
    "- messages_included — количество сообщений в месяц, включённых в абонентскую плату\n",
    "- mb_per_month_included — объём интернет-трафика, включённого в абонентскую плату (в мегабайтах)\n",
    "- rub_per_minute — стоимость минуты разговора сверх тарифного пакета (например, если в тарифе 100 минут разговора в месяц, то со 101 минуты будет взиматься плата)\n",
    "- rub_per_message — стоимость отправки сообщения сверх тарифного пакета\n",
    "- rub_per_gb — стоимость дополнительного гигабайта интернет-трафика сверх тарифного пакета (1 гигабайт = 1024 мегабайта)"
   ]
  },
  {
   "cell_type": "markdown",
   "metadata": {},
   "source": [
    "## Наименование исследования: определение перспективного тарифа для телеком-компании"
   ]
  },
  {
   "cell_type": "markdown",
   "metadata": {},
   "source": [
    "- **Цель исследования:** с помощью имеющихся данных предоставить рекомендацию коммерческому департаменту компании \"Мегалайн\", какой из тарифных планов оператора мобильной связи является более прибыльным.\n",
    "\n",
    "- **Задачи исследования:** изучить ключевые метрики (интернет, СМС, звонки), по которым можно сделать выводы об экономической эффективности/нерентабельности тарифного плана, а также, составить примерный \"портрет\" пользователя тарифного плана. Также, для подготовки рекомендации коммерческому отделу необходимо установить, как часто клиенты приносят дополнительную прибыль, путем пополнения своих ресурсов связи, сверх предусмотренного тарифным планом."
   ]
  },
  {
   "cell_type": "markdown",
   "metadata": {},
   "source": [
    "**Аннотация:** исследование будет произведено на примере 500 пользователей и их активности в рамках 2018 года"
   ]
  },
  {
   "cell_type": "markdown",
   "metadata": {},
   "source": [
    "**Ожидаемый результат исследования:** предоставление обоснованной рекомендации коммерческому отделу, сделаной на основании выявленных зависимостей, наблюдений и проверки гипотез"
   ]
  },
  {
   "cell_type": "markdown",
   "metadata": {},
   "source": [
    "## Описание тарифных планов, по которым будет изучена активность пользователей и экономическая эффективность в рамках исследования:"
   ]
  },
  {
   "cell_type": "markdown",
   "metadata": {},
   "source": [
    "**Тариф «Смарт»:**\n",
    "- Ежемесячная плата: 550 рублей\n",
    "- Включено 500 минут разговора, 50 сообщений и 15 Гб интернет-трафика\n",
    "- Стоимость услуг сверх тарифного пакета:\n",
    "минута разговора: 3 рубля\n",
    "сообщение: 3 рубля\n",
    "1 Гб интернет-трафика: 200 рублей\n",
    "\n",
    "**Тариф «Ультра»**\n",
    "- Ежемесячная плата: 1950 рублей\n",
    "- Включено 3000 минут разговора, 1000 сообщений и 30 Гб интернет-трафика\n",
    "- Стоимость услуг сверх тарифного пакета:\n",
    "минута разговора: 1 рубль\n",
    "сообщение: 1 рубль\n",
    "1 Гб интернет-трафика: 150 рублей"
   ]
  },
  {
   "cell_type": "markdown",
   "metadata": {},
   "source": [
    "**Выдержки из правил изпользования тарифных планов, согласно которым происходит итоговой расчет использованных ресурсов мобильной связи**\n",
    "\n",
    "- «Мегалайн» всегда округляет секунды до минут, а мегабайты — до гигабайт. Каждый звонок округляется отдельно: даже если он длился всего 1 секунду, будет засчитан как 1 минута.\n",
    "- Для веб-трафика отдельные сессии не считаются. Вместо этого общая сумма за месяц округляется в бо́льшую сторону. Если абонент использует 1025 мегабайт в этом месяце, с него возьмут плату за 2 гигабайта."
   ]
  },
  {
   "cell_type": "code",
   "execution_count": 1,
   "metadata": {},
   "outputs": [],
   "source": [
    "import pandas as pd\n",
    "import matplotlib.pyplot as plt\n",
    "import numpy as np\n",
    "from scipy import stats as st"
   ]
  },
  {
   "cell_type": "code",
   "execution_count": 2,
   "metadata": {},
   "outputs": [
    {
     "data": {
      "text/html": [
       "<div>\n",
       "<style scoped>\n",
       "    .dataframe tbody tr th:only-of-type {\n",
       "        vertical-align: middle;\n",
       "    }\n",
       "\n",
       "    .dataframe tbody tr th {\n",
       "        vertical-align: top;\n",
       "    }\n",
       "\n",
       "    .dataframe thead th {\n",
       "        text-align: right;\n",
       "    }\n",
       "</style>\n",
       "<table border=\"1\" class=\"dataframe\">\n",
       "  <thead>\n",
       "    <tr style=\"text-align: right;\">\n",
       "      <th></th>\n",
       "      <th>id</th>\n",
       "      <th>call_date</th>\n",
       "      <th>duration</th>\n",
       "      <th>user_id</th>\n",
       "    </tr>\n",
       "  </thead>\n",
       "  <tbody>\n",
       "    <tr>\n",
       "      <th>0</th>\n",
       "      <td>1000_0</td>\n",
       "      <td>2018-07-25</td>\n",
       "      <td>0.00</td>\n",
       "      <td>1000</td>\n",
       "    </tr>\n",
       "    <tr>\n",
       "      <th>1</th>\n",
       "      <td>1000_1</td>\n",
       "      <td>2018-08-17</td>\n",
       "      <td>0.00</td>\n",
       "      <td>1000</td>\n",
       "    </tr>\n",
       "    <tr>\n",
       "      <th>2</th>\n",
       "      <td>1000_2</td>\n",
       "      <td>2018-06-11</td>\n",
       "      <td>2.85</td>\n",
       "      <td>1000</td>\n",
       "    </tr>\n",
       "    <tr>\n",
       "      <th>3</th>\n",
       "      <td>1000_3</td>\n",
       "      <td>2018-09-21</td>\n",
       "      <td>13.80</td>\n",
       "      <td>1000</td>\n",
       "    </tr>\n",
       "    <tr>\n",
       "      <th>4</th>\n",
       "      <td>1000_4</td>\n",
       "      <td>2018-12-15</td>\n",
       "      <td>5.18</td>\n",
       "      <td>1000</td>\n",
       "    </tr>\n",
       "    <tr>\n",
       "      <th>5</th>\n",
       "      <td>1000_5</td>\n",
       "      <td>2018-11-02</td>\n",
       "      <td>0.00</td>\n",
       "      <td>1000</td>\n",
       "    </tr>\n",
       "    <tr>\n",
       "      <th>6</th>\n",
       "      <td>1000_6</td>\n",
       "      <td>2018-10-18</td>\n",
       "      <td>0.00</td>\n",
       "      <td>1000</td>\n",
       "    </tr>\n",
       "    <tr>\n",
       "      <th>7</th>\n",
       "      <td>1000_7</td>\n",
       "      <td>2018-08-22</td>\n",
       "      <td>18.31</td>\n",
       "      <td>1000</td>\n",
       "    </tr>\n",
       "    <tr>\n",
       "      <th>8</th>\n",
       "      <td>1000_8</td>\n",
       "      <td>2018-09-15</td>\n",
       "      <td>18.44</td>\n",
       "      <td>1000</td>\n",
       "    </tr>\n",
       "    <tr>\n",
       "      <th>9</th>\n",
       "      <td>1000_9</td>\n",
       "      <td>2018-08-15</td>\n",
       "      <td>0.00</td>\n",
       "      <td>1000</td>\n",
       "    </tr>\n",
       "  </tbody>\n",
       "</table>\n",
       "</div>"
      ],
      "text/plain": [
       "       id   call_date  duration  user_id\n",
       "0  1000_0  2018-07-25      0.00     1000\n",
       "1  1000_1  2018-08-17      0.00     1000\n",
       "2  1000_2  2018-06-11      2.85     1000\n",
       "3  1000_3  2018-09-21     13.80     1000\n",
       "4  1000_4  2018-12-15      5.18     1000\n",
       "5  1000_5  2018-11-02      0.00     1000\n",
       "6  1000_6  2018-10-18      0.00     1000\n",
       "7  1000_7  2018-08-22     18.31     1000\n",
       "8  1000_8  2018-09-15     18.44     1000\n",
       "9  1000_9  2018-08-15      0.00     1000"
      ]
     },
     "execution_count": 2,
     "metadata": {},
     "output_type": "execute_result"
    }
   ],
   "source": [
    "calls = pd.read_csv('/datasets/calls.csv')\n",
    "calls.head(10)"
   ]
  },
  {
   "cell_type": "code",
   "execution_count": 3,
   "metadata": {},
   "outputs": [
    {
     "name": "stdout",
     "output_type": "stream",
     "text": [
      "<class 'pandas.core.frame.DataFrame'>\n",
      "RangeIndex: 202607 entries, 0 to 202606\n",
      "Data columns (total 4 columns):\n",
      " #   Column     Non-Null Count   Dtype  \n",
      "---  ------     --------------   -----  \n",
      " 0   id         202607 non-null  object \n",
      " 1   call_date  202607 non-null  object \n",
      " 2   duration   202607 non-null  float64\n",
      " 3   user_id    202607 non-null  int64  \n",
      "dtypes: float64(1), int64(1), object(2)\n",
      "memory usage: 6.2+ MB\n"
     ]
    }
   ],
   "source": [
    "calls.info()"
   ]
  },
  {
   "cell_type": "code",
   "execution_count": 4,
   "metadata": {},
   "outputs": [
    {
     "data": {
      "text/html": [
       "<div>\n",
       "<style scoped>\n",
       "    .dataframe tbody tr th:only-of-type {\n",
       "        vertical-align: middle;\n",
       "    }\n",
       "\n",
       "    .dataframe tbody tr th {\n",
       "        vertical-align: top;\n",
       "    }\n",
       "\n",
       "    .dataframe thead th {\n",
       "        text-align: right;\n",
       "    }\n",
       "</style>\n",
       "<table border=\"1\" class=\"dataframe\">\n",
       "  <thead>\n",
       "    <tr style=\"text-align: right;\">\n",
       "      <th></th>\n",
       "      <th>Unnamed: 0</th>\n",
       "      <th>id</th>\n",
       "      <th>mb_used</th>\n",
       "      <th>session_date</th>\n",
       "      <th>user_id</th>\n",
       "    </tr>\n",
       "  </thead>\n",
       "  <tbody>\n",
       "    <tr>\n",
       "      <th>0</th>\n",
       "      <td>0</td>\n",
       "      <td>1000_0</td>\n",
       "      <td>112.95</td>\n",
       "      <td>2018-11-25</td>\n",
       "      <td>1000</td>\n",
       "    </tr>\n",
       "    <tr>\n",
       "      <th>1</th>\n",
       "      <td>1</td>\n",
       "      <td>1000_1</td>\n",
       "      <td>1052.81</td>\n",
       "      <td>2018-09-07</td>\n",
       "      <td>1000</td>\n",
       "    </tr>\n",
       "    <tr>\n",
       "      <th>2</th>\n",
       "      <td>2</td>\n",
       "      <td>1000_2</td>\n",
       "      <td>1197.26</td>\n",
       "      <td>2018-06-25</td>\n",
       "      <td>1000</td>\n",
       "    </tr>\n",
       "    <tr>\n",
       "      <th>3</th>\n",
       "      <td>3</td>\n",
       "      <td>1000_3</td>\n",
       "      <td>550.27</td>\n",
       "      <td>2018-08-22</td>\n",
       "      <td>1000</td>\n",
       "    </tr>\n",
       "    <tr>\n",
       "      <th>4</th>\n",
       "      <td>4</td>\n",
       "      <td>1000_4</td>\n",
       "      <td>302.56</td>\n",
       "      <td>2018-09-24</td>\n",
       "      <td>1000</td>\n",
       "    </tr>\n",
       "    <tr>\n",
       "      <th>5</th>\n",
       "      <td>5</td>\n",
       "      <td>1000_5</td>\n",
       "      <td>399.97</td>\n",
       "      <td>2018-10-02</td>\n",
       "      <td>1000</td>\n",
       "    </tr>\n",
       "    <tr>\n",
       "      <th>6</th>\n",
       "      <td>6</td>\n",
       "      <td>1000_6</td>\n",
       "      <td>540.08</td>\n",
       "      <td>2018-09-07</td>\n",
       "      <td>1000</td>\n",
       "    </tr>\n",
       "    <tr>\n",
       "      <th>7</th>\n",
       "      <td>7</td>\n",
       "      <td>1000_7</td>\n",
       "      <td>415.70</td>\n",
       "      <td>2018-07-11</td>\n",
       "      <td>1000</td>\n",
       "    </tr>\n",
       "    <tr>\n",
       "      <th>8</th>\n",
       "      <td>8</td>\n",
       "      <td>1000_8</td>\n",
       "      <td>505.40</td>\n",
       "      <td>2018-10-08</td>\n",
       "      <td>1000</td>\n",
       "    </tr>\n",
       "    <tr>\n",
       "      <th>9</th>\n",
       "      <td>9</td>\n",
       "      <td>1000_9</td>\n",
       "      <td>345.54</td>\n",
       "      <td>2018-09-03</td>\n",
       "      <td>1000</td>\n",
       "    </tr>\n",
       "  </tbody>\n",
       "</table>\n",
       "</div>"
      ],
      "text/plain": [
       "   Unnamed: 0      id  mb_used session_date  user_id\n",
       "0           0  1000_0   112.95   2018-11-25     1000\n",
       "1           1  1000_1  1052.81   2018-09-07     1000\n",
       "2           2  1000_2  1197.26   2018-06-25     1000\n",
       "3           3  1000_3   550.27   2018-08-22     1000\n",
       "4           4  1000_4   302.56   2018-09-24     1000\n",
       "5           5  1000_5   399.97   2018-10-02     1000\n",
       "6           6  1000_6   540.08   2018-09-07     1000\n",
       "7           7  1000_7   415.70   2018-07-11     1000\n",
       "8           8  1000_8   505.40   2018-10-08     1000\n",
       "9           9  1000_9   345.54   2018-09-03     1000"
      ]
     },
     "execution_count": 4,
     "metadata": {},
     "output_type": "execute_result"
    }
   ],
   "source": [
    "internet = pd.read_csv('/datasets/internet.csv')\n",
    "internet.head(10)"
   ]
  },
  {
   "cell_type": "code",
   "execution_count": 5,
   "metadata": {},
   "outputs": [
    {
     "name": "stdout",
     "output_type": "stream",
     "text": [
      "<class 'pandas.core.frame.DataFrame'>\n",
      "RangeIndex: 149396 entries, 0 to 149395\n",
      "Data columns (total 5 columns):\n",
      " #   Column        Non-Null Count   Dtype  \n",
      "---  ------        --------------   -----  \n",
      " 0   Unnamed: 0    149396 non-null  int64  \n",
      " 1   id            149396 non-null  object \n",
      " 2   mb_used       149396 non-null  float64\n",
      " 3   session_date  149396 non-null  object \n",
      " 4   user_id       149396 non-null  int64  \n",
      "dtypes: float64(1), int64(2), object(2)\n",
      "memory usage: 5.7+ MB\n"
     ]
    }
   ],
   "source": [
    "internet.info()"
   ]
  },
  {
   "cell_type": "code",
   "execution_count": 6,
   "metadata": {},
   "outputs": [
    {
     "data": {
      "text/html": [
       "<div>\n",
       "<style scoped>\n",
       "    .dataframe tbody tr th:only-of-type {\n",
       "        vertical-align: middle;\n",
       "    }\n",
       "\n",
       "    .dataframe tbody tr th {\n",
       "        vertical-align: top;\n",
       "    }\n",
       "\n",
       "    .dataframe thead th {\n",
       "        text-align: right;\n",
       "    }\n",
       "</style>\n",
       "<table border=\"1\" class=\"dataframe\">\n",
       "  <thead>\n",
       "    <tr style=\"text-align: right;\">\n",
       "      <th></th>\n",
       "      <th>id</th>\n",
       "      <th>message_date</th>\n",
       "      <th>user_id</th>\n",
       "    </tr>\n",
       "  </thead>\n",
       "  <tbody>\n",
       "    <tr>\n",
       "      <th>0</th>\n",
       "      <td>1000_0</td>\n",
       "      <td>2018-06-27</td>\n",
       "      <td>1000</td>\n",
       "    </tr>\n",
       "    <tr>\n",
       "      <th>1</th>\n",
       "      <td>1000_1</td>\n",
       "      <td>2018-10-08</td>\n",
       "      <td>1000</td>\n",
       "    </tr>\n",
       "    <tr>\n",
       "      <th>2</th>\n",
       "      <td>1000_2</td>\n",
       "      <td>2018-08-04</td>\n",
       "      <td>1000</td>\n",
       "    </tr>\n",
       "    <tr>\n",
       "      <th>3</th>\n",
       "      <td>1000_3</td>\n",
       "      <td>2018-06-16</td>\n",
       "      <td>1000</td>\n",
       "    </tr>\n",
       "    <tr>\n",
       "      <th>4</th>\n",
       "      <td>1000_4</td>\n",
       "      <td>2018-12-05</td>\n",
       "      <td>1000</td>\n",
       "    </tr>\n",
       "    <tr>\n",
       "      <th>5</th>\n",
       "      <td>1000_5</td>\n",
       "      <td>2018-06-20</td>\n",
       "      <td>1000</td>\n",
       "    </tr>\n",
       "    <tr>\n",
       "      <th>6</th>\n",
       "      <td>1000_6</td>\n",
       "      <td>2018-11-19</td>\n",
       "      <td>1000</td>\n",
       "    </tr>\n",
       "    <tr>\n",
       "      <th>7</th>\n",
       "      <td>1000_7</td>\n",
       "      <td>2018-10-29</td>\n",
       "      <td>1000</td>\n",
       "    </tr>\n",
       "    <tr>\n",
       "      <th>8</th>\n",
       "      <td>1000_8</td>\n",
       "      <td>2018-06-25</td>\n",
       "      <td>1000</td>\n",
       "    </tr>\n",
       "    <tr>\n",
       "      <th>9</th>\n",
       "      <td>1000_9</td>\n",
       "      <td>2018-12-18</td>\n",
       "      <td>1000</td>\n",
       "    </tr>\n",
       "  </tbody>\n",
       "</table>\n",
       "</div>"
      ],
      "text/plain": [
       "       id message_date  user_id\n",
       "0  1000_0   2018-06-27     1000\n",
       "1  1000_1   2018-10-08     1000\n",
       "2  1000_2   2018-08-04     1000\n",
       "3  1000_3   2018-06-16     1000\n",
       "4  1000_4   2018-12-05     1000\n",
       "5  1000_5   2018-06-20     1000\n",
       "6  1000_6   2018-11-19     1000\n",
       "7  1000_7   2018-10-29     1000\n",
       "8  1000_8   2018-06-25     1000\n",
       "9  1000_9   2018-12-18     1000"
      ]
     },
     "execution_count": 6,
     "metadata": {},
     "output_type": "execute_result"
    }
   ],
   "source": [
    "messages = pd.read_csv('/datasets/messages.csv')\n",
    "messages.head(10)"
   ]
  },
  {
   "cell_type": "code",
   "execution_count": 7,
   "metadata": {},
   "outputs": [
    {
     "name": "stdout",
     "output_type": "stream",
     "text": [
      "<class 'pandas.core.frame.DataFrame'>\n",
      "RangeIndex: 123036 entries, 0 to 123035\n",
      "Data columns (total 3 columns):\n",
      " #   Column        Non-Null Count   Dtype \n",
      "---  ------        --------------   ----- \n",
      " 0   id            123036 non-null  object\n",
      " 1   message_date  123036 non-null  object\n",
      " 2   user_id       123036 non-null  int64 \n",
      "dtypes: int64(1), object(2)\n",
      "memory usage: 2.8+ MB\n"
     ]
    }
   ],
   "source": [
    "messages.info()"
   ]
  },
  {
   "cell_type": "code",
   "execution_count": 8,
   "metadata": {},
   "outputs": [
    {
     "data": {
      "text/html": [
       "<div>\n",
       "<style scoped>\n",
       "    .dataframe tbody tr th:only-of-type {\n",
       "        vertical-align: middle;\n",
       "    }\n",
       "\n",
       "    .dataframe tbody tr th {\n",
       "        vertical-align: top;\n",
       "    }\n",
       "\n",
       "    .dataframe thead th {\n",
       "        text-align: right;\n",
       "    }\n",
       "</style>\n",
       "<table border=\"1\" class=\"dataframe\">\n",
       "  <thead>\n",
       "    <tr style=\"text-align: right;\">\n",
       "      <th></th>\n",
       "      <th>messages_included</th>\n",
       "      <th>mb_per_month_included</th>\n",
       "      <th>minutes_included</th>\n",
       "      <th>rub_monthly_fee</th>\n",
       "      <th>rub_per_gb</th>\n",
       "      <th>rub_per_message</th>\n",
       "      <th>rub_per_minute</th>\n",
       "      <th>tariff_name</th>\n",
       "    </tr>\n",
       "  </thead>\n",
       "  <tbody>\n",
       "    <tr>\n",
       "      <th>0</th>\n",
       "      <td>50</td>\n",
       "      <td>15360</td>\n",
       "      <td>500</td>\n",
       "      <td>550</td>\n",
       "      <td>200</td>\n",
       "      <td>3</td>\n",
       "      <td>3</td>\n",
       "      <td>smart</td>\n",
       "    </tr>\n",
       "    <tr>\n",
       "      <th>1</th>\n",
       "      <td>1000</td>\n",
       "      <td>30720</td>\n",
       "      <td>3000</td>\n",
       "      <td>1950</td>\n",
       "      <td>150</td>\n",
       "      <td>1</td>\n",
       "      <td>1</td>\n",
       "      <td>ultra</td>\n",
       "    </tr>\n",
       "  </tbody>\n",
       "</table>\n",
       "</div>"
      ],
      "text/plain": [
       "   messages_included  mb_per_month_included  minutes_included  \\\n",
       "0                 50                  15360               500   \n",
       "1               1000                  30720              3000   \n",
       "\n",
       "   rub_monthly_fee  rub_per_gb  rub_per_message  rub_per_minute tariff_name  \n",
       "0              550         200                3               3       smart  \n",
       "1             1950         150                1               1       ultra  "
      ]
     },
     "execution_count": 8,
     "metadata": {},
     "output_type": "execute_result"
    }
   ],
   "source": [
    "tariffs = pd.read_csv('/datasets/tariffs.csv')\n",
    "tariffs.head(10)"
   ]
  },
  {
   "cell_type": "code",
   "execution_count": 9,
   "metadata": {},
   "outputs": [
    {
     "name": "stdout",
     "output_type": "stream",
     "text": [
      "<class 'pandas.core.frame.DataFrame'>\n",
      "RangeIndex: 2 entries, 0 to 1\n",
      "Data columns (total 8 columns):\n",
      " #   Column                 Non-Null Count  Dtype \n",
      "---  ------                 --------------  ----- \n",
      " 0   messages_included      2 non-null      int64 \n",
      " 1   mb_per_month_included  2 non-null      int64 \n",
      " 2   minutes_included       2 non-null      int64 \n",
      " 3   rub_monthly_fee        2 non-null      int64 \n",
      " 4   rub_per_gb             2 non-null      int64 \n",
      " 5   rub_per_message        2 non-null      int64 \n",
      " 6   rub_per_minute         2 non-null      int64 \n",
      " 7   tariff_name            2 non-null      object\n",
      "dtypes: int64(7), object(1)\n",
      "memory usage: 256.0+ bytes\n"
     ]
    }
   ],
   "source": [
    "tariffs.info()"
   ]
  },
  {
   "cell_type": "code",
   "execution_count": 10,
   "metadata": {},
   "outputs": [
    {
     "data": {
      "text/html": [
       "<div>\n",
       "<style scoped>\n",
       "    .dataframe tbody tr th:only-of-type {\n",
       "        vertical-align: middle;\n",
       "    }\n",
       "\n",
       "    .dataframe tbody tr th {\n",
       "        vertical-align: top;\n",
       "    }\n",
       "\n",
       "    .dataframe thead th {\n",
       "        text-align: right;\n",
       "    }\n",
       "</style>\n",
       "<table border=\"1\" class=\"dataframe\">\n",
       "  <thead>\n",
       "    <tr style=\"text-align: right;\">\n",
       "      <th></th>\n",
       "      <th>user_id</th>\n",
       "      <th>age</th>\n",
       "      <th>churn_date</th>\n",
       "      <th>city</th>\n",
       "      <th>first_name</th>\n",
       "      <th>last_name</th>\n",
       "      <th>reg_date</th>\n",
       "      <th>tariff</th>\n",
       "    </tr>\n",
       "  </thead>\n",
       "  <tbody>\n",
       "    <tr>\n",
       "      <th>0</th>\n",
       "      <td>1000</td>\n",
       "      <td>52</td>\n",
       "      <td>NaN</td>\n",
       "      <td>Краснодар</td>\n",
       "      <td>Рафаил</td>\n",
       "      <td>Верещагин</td>\n",
       "      <td>2018-05-25</td>\n",
       "      <td>ultra</td>\n",
       "    </tr>\n",
       "    <tr>\n",
       "      <th>1</th>\n",
       "      <td>1001</td>\n",
       "      <td>41</td>\n",
       "      <td>NaN</td>\n",
       "      <td>Москва</td>\n",
       "      <td>Иван</td>\n",
       "      <td>Ежов</td>\n",
       "      <td>2018-11-01</td>\n",
       "      <td>smart</td>\n",
       "    </tr>\n",
       "    <tr>\n",
       "      <th>2</th>\n",
       "      <td>1002</td>\n",
       "      <td>59</td>\n",
       "      <td>NaN</td>\n",
       "      <td>Стерлитамак</td>\n",
       "      <td>Евгений</td>\n",
       "      <td>Абрамович</td>\n",
       "      <td>2018-06-17</td>\n",
       "      <td>smart</td>\n",
       "    </tr>\n",
       "    <tr>\n",
       "      <th>3</th>\n",
       "      <td>1003</td>\n",
       "      <td>23</td>\n",
       "      <td>NaN</td>\n",
       "      <td>Москва</td>\n",
       "      <td>Белла</td>\n",
       "      <td>Белякова</td>\n",
       "      <td>2018-08-17</td>\n",
       "      <td>ultra</td>\n",
       "    </tr>\n",
       "    <tr>\n",
       "      <th>4</th>\n",
       "      <td>1004</td>\n",
       "      <td>68</td>\n",
       "      <td>NaN</td>\n",
       "      <td>Новокузнецк</td>\n",
       "      <td>Татьяна</td>\n",
       "      <td>Авдеенко</td>\n",
       "      <td>2018-05-14</td>\n",
       "      <td>ultra</td>\n",
       "    </tr>\n",
       "    <tr>\n",
       "      <th>5</th>\n",
       "      <td>1005</td>\n",
       "      <td>67</td>\n",
       "      <td>NaN</td>\n",
       "      <td>Набережные Челны</td>\n",
       "      <td>Афанасий</td>\n",
       "      <td>Горлов</td>\n",
       "      <td>2018-01-25</td>\n",
       "      <td>smart</td>\n",
       "    </tr>\n",
       "    <tr>\n",
       "      <th>6</th>\n",
       "      <td>1006</td>\n",
       "      <td>21</td>\n",
       "      <td>NaN</td>\n",
       "      <td>Ульяновск</td>\n",
       "      <td>Леонид</td>\n",
       "      <td>Ермолаев</td>\n",
       "      <td>2018-02-26</td>\n",
       "      <td>smart</td>\n",
       "    </tr>\n",
       "    <tr>\n",
       "      <th>7</th>\n",
       "      <td>1007</td>\n",
       "      <td>65</td>\n",
       "      <td>NaN</td>\n",
       "      <td>Москва</td>\n",
       "      <td>Юна</td>\n",
       "      <td>Березина</td>\n",
       "      <td>2018-04-19</td>\n",
       "      <td>smart</td>\n",
       "    </tr>\n",
       "    <tr>\n",
       "      <th>8</th>\n",
       "      <td>1008</td>\n",
       "      <td>63</td>\n",
       "      <td>NaN</td>\n",
       "      <td>Челябинск</td>\n",
       "      <td>Рустэм</td>\n",
       "      <td>Пономарёв</td>\n",
       "      <td>2018-12-19</td>\n",
       "      <td>smart</td>\n",
       "    </tr>\n",
       "    <tr>\n",
       "      <th>9</th>\n",
       "      <td>1009</td>\n",
       "      <td>24</td>\n",
       "      <td>NaN</td>\n",
       "      <td>Пермь</td>\n",
       "      <td>Василиса</td>\n",
       "      <td>Блинова</td>\n",
       "      <td>2018-03-22</td>\n",
       "      <td>smart</td>\n",
       "    </tr>\n",
       "  </tbody>\n",
       "</table>\n",
       "</div>"
      ],
      "text/plain": [
       "   user_id  age churn_date              city first_name  last_name  \\\n",
       "0     1000   52        NaN         Краснодар     Рафаил  Верещагин   \n",
       "1     1001   41        NaN            Москва       Иван       Ежов   \n",
       "2     1002   59        NaN       Стерлитамак    Евгений  Абрамович   \n",
       "3     1003   23        NaN            Москва      Белла   Белякова   \n",
       "4     1004   68        NaN       Новокузнецк    Татьяна   Авдеенко   \n",
       "5     1005   67        NaN  Набережные Челны   Афанасий     Горлов   \n",
       "6     1006   21        NaN         Ульяновск     Леонид   Ермолаев   \n",
       "7     1007   65        NaN            Москва        Юна   Березина   \n",
       "8     1008   63        NaN         Челябинск     Рустэм  Пономарёв   \n",
       "9     1009   24        NaN             Пермь   Василиса    Блинова   \n",
       "\n",
       "     reg_date tariff  \n",
       "0  2018-05-25  ultra  \n",
       "1  2018-11-01  smart  \n",
       "2  2018-06-17  smart  \n",
       "3  2018-08-17  ultra  \n",
       "4  2018-05-14  ultra  \n",
       "5  2018-01-25  smart  \n",
       "6  2018-02-26  smart  \n",
       "7  2018-04-19  smart  \n",
       "8  2018-12-19  smart  \n",
       "9  2018-03-22  smart  "
      ]
     },
     "execution_count": 10,
     "metadata": {},
     "output_type": "execute_result"
    }
   ],
   "source": [
    "users = pd.read_csv('/datasets/users.csv')\n",
    "users.head(10)"
   ]
  },
  {
   "cell_type": "code",
   "execution_count": 11,
   "metadata": {},
   "outputs": [
    {
     "name": "stdout",
     "output_type": "stream",
     "text": [
      "<class 'pandas.core.frame.DataFrame'>\n",
      "RangeIndex: 500 entries, 0 to 499\n",
      "Data columns (total 8 columns):\n",
      " #   Column      Non-Null Count  Dtype \n",
      "---  ------      --------------  ----- \n",
      " 0   user_id     500 non-null    int64 \n",
      " 1   age         500 non-null    int64 \n",
      " 2   churn_date  38 non-null     object\n",
      " 3   city        500 non-null    object\n",
      " 4   first_name  500 non-null    object\n",
      " 5   last_name   500 non-null    object\n",
      " 6   reg_date    500 non-null    object\n",
      " 7   tariff      500 non-null    object\n",
      "dtypes: int64(2), object(6)\n",
      "memory usage: 31.4+ KB\n"
     ]
    }
   ],
   "source": [
    "users.info()"
   ]
  },
  {
   "cell_type": "markdown",
   "metadata": {},
   "source": [
    "Каждый из датасетов был проверен связкой методов isna и sum - пропуски имеются только в одном месте, а именно, churn_date в таблице users. Остальные проверки не включаю, пропусков больше нигде нет. Учтем это при дальнейшей работе с данными."
   ]
  },
  {
   "cell_type": "code",
   "execution_count": 12,
   "metadata": {},
   "outputs": [
    {
     "data": {
      "text/plain": [
       "user_id         0\n",
       "age             0\n",
       "churn_date    462\n",
       "city            0\n",
       "first_name      0\n",
       "last_name       0\n",
       "reg_date        0\n",
       "tariff          0\n",
       "dtype: int64"
      ]
     },
     "execution_count": 12,
     "metadata": {},
     "output_type": "execute_result"
    }
   ],
   "source": [
    "users.isna().sum()"
   ]
  },
  {
   "cell_type": "markdown",
   "metadata": {},
   "source": [
    "Также, бросается в глаза то, что все столбцы с датами имеют тип object, что, однозначно, ошибочно. Есть звонки с нулевой длительностью. Учтем это, как и факт пропусков, на стадии предобработки данных. Условимся также, что предобработка данных будет проведена только для тех компонентов данных, которые участвуют в исследовании."
   ]
  },
  {
   "cell_type": "markdown",
   "metadata": {},
   "source": [
    "### Вывод"
   ]
  },
  {
   "cell_type": "markdown",
   "metadata": {},
   "source": [
    "- Имеются несколько датасетов, но нужны данных из каждого, пусть и не все. Где-то это хорошо, так как можно быстрее решить локальную задачу, а где-то будет препятствием.\n",
    "- Выявлены проблемы с данными, которые нужно будет устранить на стадии предобработки"
   ]
  },
  {
   "cell_type": "markdown",
   "metadata": {},
   "source": [
    "# Шаг 2. Предобработка данных и выполнение расчетов"
   ]
  },
  {
   "cell_type": "markdown",
   "metadata": {},
   "source": [
    "**Примерный план:**\n",
    "\n",
    "- Определить, какие из столбцов будут фигурировать в расчетах\n",
    "- Понять, какие пропуски являются фатальной оштбкой, а какие не помешат выполнению исследования\n",
    "- Исправить тип данных\n",
    "- Определить количество сделанных звонков и израсходованных минут разговора по месяцам\n",
    "- Определить количество СМС и израсходованных минут разговора по месяцам\n",
    "- Определим объем израсходованного интернет-траффика по месяцам\n",
    "- Объединить таблицы\n",
    "- Найти прибыль за счет приобретения дополнительных пакетов услуг по каждому клиенту, если таковая имеется"
   ]
  },
  {
   "cell_type": "markdown",
   "metadata": {},
   "source": [
    "## Предобработка данных"
   ]
  },
  {
   "cell_type": "markdown",
   "metadata": {},
   "source": [
    "Ответ на вопрос, как заменить пропуски уже есть в ТЗ от заказчика, NaN в churn_date означает, что тарифный план активен. Аналогичная ситуация с нулями в длительности звонка - в ТЗ это обозначено, как пропущенный вызов. Получается, остались только типы данных. В целях сокращения работы я применю изменение типа непосредственно перед выполнением расчетов, необходимых на данном этапе."
   ]
  },
  {
   "cell_type": "code",
   "execution_count": 13,
   "metadata": {},
   "outputs": [],
   "source": [
    "calls['call_date'] = pd.to_datetime(calls['call_date'], format='%Y%m%dT%H:%M:%S')\n",
    "internet['session_date'] = pd.to_datetime(internet['session_date'], format='%Y%m%dT%H:%M:%S')\n",
    "messages['message_date'] = pd.to_datetime(messages['message_date'], format='%Y%m%dT%H:%M:%S')\n",
    "users['reg_date'] = pd.to_datetime(users['reg_date'], format='%Y%m%dT%H:%M:%S')"
   ]
  },
  {
   "cell_type": "code",
   "execution_count": 14,
   "metadata": {},
   "outputs": [
    {
     "name": "stdout",
     "output_type": "stream",
     "text": [
      "<class 'pandas.core.frame.DataFrame'>\n",
      "RangeIndex: 202607 entries, 0 to 202606\n",
      "Data columns (total 4 columns):\n",
      " #   Column     Non-Null Count   Dtype         \n",
      "---  ------     --------------   -----         \n",
      " 0   id         202607 non-null  object        \n",
      " 1   call_date  202607 non-null  datetime64[ns]\n",
      " 2   duration   202607 non-null  float64       \n",
      " 3   user_id    202607 non-null  int64         \n",
      "dtypes: datetime64[ns](1), float64(1), int64(1), object(1)\n",
      "memory usage: 6.2+ MB\n",
      "<class 'pandas.core.frame.DataFrame'>\n",
      "RangeIndex: 149396 entries, 0 to 149395\n",
      "Data columns (total 5 columns):\n",
      " #   Column        Non-Null Count   Dtype         \n",
      "---  ------        --------------   -----         \n",
      " 0   Unnamed: 0    149396 non-null  int64         \n",
      " 1   id            149396 non-null  object        \n",
      " 2   mb_used       149396 non-null  float64       \n",
      " 3   session_date  149396 non-null  datetime64[ns]\n",
      " 4   user_id       149396 non-null  int64         \n",
      "dtypes: datetime64[ns](1), float64(1), int64(2), object(1)\n",
      "memory usage: 5.7+ MB\n",
      "<class 'pandas.core.frame.DataFrame'>\n",
      "RangeIndex: 123036 entries, 0 to 123035\n",
      "Data columns (total 3 columns):\n",
      " #   Column        Non-Null Count   Dtype         \n",
      "---  ------        --------------   -----         \n",
      " 0   id            123036 non-null  object        \n",
      " 1   message_date  123036 non-null  datetime64[ns]\n",
      " 2   user_id       123036 non-null  int64         \n",
      "dtypes: datetime64[ns](1), int64(1), object(1)\n",
      "memory usage: 2.8+ MB\n",
      "<class 'pandas.core.frame.DataFrame'>\n",
      "RangeIndex: 500 entries, 0 to 499\n",
      "Data columns (total 8 columns):\n",
      " #   Column      Non-Null Count  Dtype         \n",
      "---  ------      --------------  -----         \n",
      " 0   user_id     500 non-null    int64         \n",
      " 1   age         500 non-null    int64         \n",
      " 2   churn_date  38 non-null     object        \n",
      " 3   city        500 non-null    object        \n",
      " 4   first_name  500 non-null    object        \n",
      " 5   last_name   500 non-null    object        \n",
      " 6   reg_date    500 non-null    datetime64[ns]\n",
      " 7   tariff      500 non-null    object        \n",
      "dtypes: datetime64[ns](1), int64(2), object(5)\n",
      "memory usage: 31.4+ KB\n"
     ]
    }
   ],
   "source": [
    "calls.info()\n",
    "internet.info()\n",
    "messages.info()\n",
    "users.info()"
   ]
  },
  {
   "cell_type": "markdown",
   "metadata": {},
   "source": [
    "Готово. Во всех случаях данные приведены к верному типу и им выставлен общепринятый формат."
   ]
  },
  {
   "cell_type": "markdown",
   "metadata": {},
   "source": [
    "Прежде чем приступить к расчетам, применим к данным \"политику\" мобильного оператора, а именно, количество минут и гигабайт округляются в бОльшую сторону. Например, поговорили 15 секунд - из пакета списалась минута. Зададим это условие с помощью метода ceil из библиотеки numpy, который округлит значение до бОльшего целого числа, не по законам математики."
   ]
  },
  {
   "cell_type": "code",
   "execution_count": 15,
   "metadata": {},
   "outputs": [],
   "source": [
    "calls['duration'] = np.ceil(calls['duration'])\n",
    "calls['duration'] = calls['duration'].astype('int') #float становится бессмысленным при округлении до целого числа, переведем в int"
   ]
  },
  {
   "cell_type": "markdown",
   "metadata": {},
   "source": [
    "## Выполнение расчетов"
   ]
  },
  {
   "cell_type": "markdown",
   "metadata": {},
   "source": [
    "### **Определим количество сделанных звонков и израсходованных минут разговора по месяцам**"
   ]
  },
  {
   "cell_type": "code",
   "execution_count": 16,
   "metadata": {},
   "outputs": [
    {
     "data": {
      "text/html": [
       "<div>\n",
       "<style scoped>\n",
       "    .dataframe tbody tr th:only-of-type {\n",
       "        vertical-align: middle;\n",
       "    }\n",
       "\n",
       "    .dataframe tbody tr th {\n",
       "        vertical-align: top;\n",
       "    }\n",
       "\n",
       "    .dataframe thead th {\n",
       "        text-align: right;\n",
       "    }\n",
       "</style>\n",
       "<table border=\"1\" class=\"dataframe\">\n",
       "  <thead>\n",
       "    <tr style=\"text-align: right;\">\n",
       "      <th></th>\n",
       "      <th>user_id</th>\n",
       "      <th>month</th>\n",
       "      <th>count</th>\n",
       "      <th>sum</th>\n",
       "    </tr>\n",
       "  </thead>\n",
       "  <tbody>\n",
       "    <tr>\n",
       "      <th>0</th>\n",
       "      <td>1000</td>\n",
       "      <td>5</td>\n",
       "      <td>22</td>\n",
       "      <td>159</td>\n",
       "    </tr>\n",
       "    <tr>\n",
       "      <th>1</th>\n",
       "      <td>1000</td>\n",
       "      <td>6</td>\n",
       "      <td>43</td>\n",
       "      <td>172</td>\n",
       "    </tr>\n",
       "    <tr>\n",
       "      <th>2</th>\n",
       "      <td>1000</td>\n",
       "      <td>7</td>\n",
       "      <td>47</td>\n",
       "      <td>340</td>\n",
       "    </tr>\n",
       "    <tr>\n",
       "      <th>3</th>\n",
       "      <td>1000</td>\n",
       "      <td>8</td>\n",
       "      <td>52</td>\n",
       "      <td>408</td>\n",
       "    </tr>\n",
       "    <tr>\n",
       "      <th>4</th>\n",
       "      <td>1000</td>\n",
       "      <td>9</td>\n",
       "      <td>58</td>\n",
       "      <td>466</td>\n",
       "    </tr>\n",
       "    <tr>\n",
       "      <th>5</th>\n",
       "      <td>1000</td>\n",
       "      <td>10</td>\n",
       "      <td>57</td>\n",
       "      <td>350</td>\n",
       "    </tr>\n",
       "    <tr>\n",
       "      <th>6</th>\n",
       "      <td>1000</td>\n",
       "      <td>11</td>\n",
       "      <td>43</td>\n",
       "      <td>338</td>\n",
       "    </tr>\n",
       "    <tr>\n",
       "      <th>7</th>\n",
       "      <td>1000</td>\n",
       "      <td>12</td>\n",
       "      <td>46</td>\n",
       "      <td>333</td>\n",
       "    </tr>\n",
       "    <tr>\n",
       "      <th>8</th>\n",
       "      <td>1001</td>\n",
       "      <td>11</td>\n",
       "      <td>59</td>\n",
       "      <td>430</td>\n",
       "    </tr>\n",
       "    <tr>\n",
       "      <th>9</th>\n",
       "      <td>1001</td>\n",
       "      <td>12</td>\n",
       "      <td>63</td>\n",
       "      <td>414</td>\n",
       "    </tr>\n",
       "  </tbody>\n",
       "</table>\n",
       "</div>"
      ],
      "text/plain": [
       "   user_id  month  count  sum\n",
       "0     1000      5     22  159\n",
       "1     1000      6     43  172\n",
       "2     1000      7     47  340\n",
       "3     1000      8     52  408\n",
       "4     1000      9     58  466\n",
       "5     1000     10     57  350\n",
       "6     1000     11     43  338\n",
       "7     1000     12     46  333\n",
       "8     1001     11     59  430\n",
       "9     1001     12     63  414"
      ]
     },
     "metadata": {},
     "output_type": "display_data"
    }
   ],
   "source": [
    "calls['month'] = calls['call_date'].dt.month #воспользуемся методом mouth и запишем итоги в новый столбец, который будет содержать \"номер\" месяца\n",
    "calls_per_month = calls.groupby(['user_id','month'])[['duration']].agg(['count','sum'])\n",
    "calls_per_month = calls_per_month.reset_index() # применим метод, чтобы нумерация индексов осуществилась заново\n",
    "calls_per_month.columns = ['user_id', 'month', 'count', 'sum'] #получается двойное наименование столбца, вернем привычный вид\n",
    "display(calls_per_month.head(10))"
   ]
  },
  {
   "cell_type": "markdown",
   "metadata": {},
   "source": [
    "Получилась \"разбивка\" по каждому пользователю: известно количество звонков и сумма \"проговоренных\" минут."
   ]
  },
  {
   "cell_type": "markdown",
   "metadata": {},
   "source": [
    "### **Определим количество СМС и израсходованных минут разговора по месяцам**"
   ]
  },
  {
   "cell_type": "markdown",
   "metadata": {},
   "source": [
    "Тут задача немного проще, т.к. ищем только количество смс."
   ]
  },
  {
   "cell_type": "code",
   "execution_count": 17,
   "metadata": {},
   "outputs": [
    {
     "data": {
      "text/html": [
       "<div>\n",
       "<style scoped>\n",
       "    .dataframe tbody tr th:only-of-type {\n",
       "        vertical-align: middle;\n",
       "    }\n",
       "\n",
       "    .dataframe tbody tr th {\n",
       "        vertical-align: top;\n",
       "    }\n",
       "\n",
       "    .dataframe thead th {\n",
       "        text-align: right;\n",
       "    }\n",
       "</style>\n",
       "<table border=\"1\" class=\"dataframe\">\n",
       "  <thead>\n",
       "    <tr style=\"text-align: right;\">\n",
       "      <th></th>\n",
       "      <th>user_id</th>\n",
       "      <th>month</th>\n",
       "      <th>count</th>\n",
       "    </tr>\n",
       "  </thead>\n",
       "  <tbody>\n",
       "    <tr>\n",
       "      <th>0</th>\n",
       "      <td>1000</td>\n",
       "      <td>5</td>\n",
       "      <td>22</td>\n",
       "    </tr>\n",
       "    <tr>\n",
       "      <th>1</th>\n",
       "      <td>1000</td>\n",
       "      <td>6</td>\n",
       "      <td>60</td>\n",
       "    </tr>\n",
       "    <tr>\n",
       "      <th>2</th>\n",
       "      <td>1000</td>\n",
       "      <td>7</td>\n",
       "      <td>75</td>\n",
       "    </tr>\n",
       "    <tr>\n",
       "      <th>3</th>\n",
       "      <td>1000</td>\n",
       "      <td>8</td>\n",
       "      <td>81</td>\n",
       "    </tr>\n",
       "    <tr>\n",
       "      <th>4</th>\n",
       "      <td>1000</td>\n",
       "      <td>9</td>\n",
       "      <td>57</td>\n",
       "    </tr>\n",
       "    <tr>\n",
       "      <th>5</th>\n",
       "      <td>1000</td>\n",
       "      <td>10</td>\n",
       "      <td>73</td>\n",
       "    </tr>\n",
       "    <tr>\n",
       "      <th>6</th>\n",
       "      <td>1000</td>\n",
       "      <td>11</td>\n",
       "      <td>58</td>\n",
       "    </tr>\n",
       "    <tr>\n",
       "      <th>7</th>\n",
       "      <td>1000</td>\n",
       "      <td>12</td>\n",
       "      <td>70</td>\n",
       "    </tr>\n",
       "    <tr>\n",
       "      <th>8</th>\n",
       "      <td>1002</td>\n",
       "      <td>6</td>\n",
       "      <td>4</td>\n",
       "    </tr>\n",
       "    <tr>\n",
       "      <th>9</th>\n",
       "      <td>1002</td>\n",
       "      <td>7</td>\n",
       "      <td>11</td>\n",
       "    </tr>\n",
       "  </tbody>\n",
       "</table>\n",
       "</div>"
      ],
      "text/plain": [
       "   user_id  month  count\n",
       "0     1000      5     22\n",
       "1     1000      6     60\n",
       "2     1000      7     75\n",
       "3     1000      8     81\n",
       "4     1000      9     57\n",
       "5     1000     10     73\n",
       "6     1000     11     58\n",
       "7     1000     12     70\n",
       "8     1002      6      4\n",
       "9     1002      7     11"
      ]
     },
     "metadata": {},
     "output_type": "display_data"
    }
   ],
   "source": [
    "messages['month'] = messages['message_date'].dt.month\n",
    "messages_per_month = messages.groupby(['user_id','month'])['id'].agg(['count']).reset_index()\n",
    "display(messages_per_month.head(10))"
   ]
  },
  {
   "cell_type": "markdown",
   "metadata": {},
   "source": [
    "В столбце count видим количество отправленных смс по каждому пользователю."
   ]
  },
  {
   "cell_type": "markdown",
   "metadata": {},
   "source": [
    "### **Определим объем исрасходованного интернет-траффика по месяцам**"
   ]
  },
  {
   "cell_type": "code",
   "execution_count": 18,
   "metadata": {},
   "outputs": [
    {
     "data": {
      "text/html": [
       "<div>\n",
       "<style scoped>\n",
       "    .dataframe tbody tr th:only-of-type {\n",
       "        vertical-align: middle;\n",
       "    }\n",
       "\n",
       "    .dataframe tbody tr th {\n",
       "        vertical-align: top;\n",
       "    }\n",
       "\n",
       "    .dataframe thead th {\n",
       "        text-align: right;\n",
       "    }\n",
       "</style>\n",
       "<table border=\"1\" class=\"dataframe\">\n",
       "  <thead>\n",
       "    <tr style=\"text-align: right;\">\n",
       "      <th></th>\n",
       "      <th>user_id</th>\n",
       "      <th>month</th>\n",
       "      <th>mb</th>\n",
       "      <th>gb</th>\n",
       "    </tr>\n",
       "  </thead>\n",
       "  <tbody>\n",
       "    <tr>\n",
       "      <th>273</th>\n",
       "      <td>1044</td>\n",
       "      <td>11</td>\n",
       "      <td>16405.48</td>\n",
       "      <td>17</td>\n",
       "    </tr>\n",
       "    <tr>\n",
       "      <th>1035</th>\n",
       "      <td>1164</td>\n",
       "      <td>5</td>\n",
       "      <td>15063.34</td>\n",
       "      <td>15</td>\n",
       "    </tr>\n",
       "    <tr>\n",
       "      <th>3196</th>\n",
       "      <td>1498</td>\n",
       "      <td>8</td>\n",
       "      <td>24235.21</td>\n",
       "      <td>24</td>\n",
       "    </tr>\n",
       "    <tr>\n",
       "      <th>1187</th>\n",
       "      <td>1185</td>\n",
       "      <td>9</td>\n",
       "      <td>42181.86</td>\n",
       "      <td>42</td>\n",
       "    </tr>\n",
       "    <tr>\n",
       "      <th>1955</th>\n",
       "      <td>1310</td>\n",
       "      <td>3</td>\n",
       "      <td>4677.84</td>\n",
       "      <td>5</td>\n",
       "    </tr>\n",
       "    <tr>\n",
       "      <th>771</th>\n",
       "      <td>1120</td>\n",
       "      <td>6</td>\n",
       "      <td>12049.89</td>\n",
       "      <td>12</td>\n",
       "    </tr>\n",
       "    <tr>\n",
       "      <th>219</th>\n",
       "      <td>1034</td>\n",
       "      <td>9</td>\n",
       "      <td>17294.42</td>\n",
       "      <td>17</td>\n",
       "    </tr>\n",
       "    <tr>\n",
       "      <th>2199</th>\n",
       "      <td>1349</td>\n",
       "      <td>12</td>\n",
       "      <td>27207.77</td>\n",
       "      <td>27</td>\n",
       "    </tr>\n",
       "    <tr>\n",
       "      <th>2308</th>\n",
       "      <td>1367</td>\n",
       "      <td>9</td>\n",
       "      <td>11486.65</td>\n",
       "      <td>12</td>\n",
       "    </tr>\n",
       "    <tr>\n",
       "      <th>549</th>\n",
       "      <td>1088</td>\n",
       "      <td>6</td>\n",
       "      <td>10936.07</td>\n",
       "      <td>11</td>\n",
       "    </tr>\n",
       "  </tbody>\n",
       "</table>\n",
       "</div>"
      ],
      "text/plain": [
       "      user_id  month        mb  gb\n",
       "273      1044     11  16405.48  17\n",
       "1035     1164      5  15063.34  15\n",
       "3196     1498      8  24235.21  24\n",
       "1187     1185      9  42181.86  42\n",
       "1955     1310      3   4677.84   5\n",
       "771      1120      6  12049.89  12\n",
       "219      1034      9  17294.42  17\n",
       "2199     1349     12  27207.77  27\n",
       "2308     1367      9  11486.65  12\n",
       "549      1088      6  10936.07  11"
      ]
     },
     "metadata": {},
     "output_type": "display_data"
    }
   ],
   "source": [
    "internet['month'] = internet['session_date'].dt.month\n",
    "traffic_per_month = internet.groupby(['user_id','month'])['mb_used'].agg(['sum']).reset_index()\n",
    "traffic_per_month['gb'] = traffic_per_month['sum'] / 1024 # # также реализуем политику оператора, про округление до целых ГБ. Сейчас у нас траффик в МБ\n",
    "traffic_per_month['gb'] = np.ceil(traffic_per_month['gb']).astype('int') # округлим в бОльшую сторону и избавимся от нулей после запятой\n",
    "traffic_per_month = traffic_per_month.rename(columns={'sum':'mb'})\n",
    "display(traffic_per_month.sample(10))"
   ]
  },
  {
   "cell_type": "markdown",
   "metadata": {},
   "source": [
    "В одной таблице будут и значения ГБ, как у любого оператора (хотя в жизни встречается 1-2 знака после запятой), а также, использованный объем в мегабайтах. Вдруг, заказчик потребует более \"детальной\" точности в дальнейшем."
   ]
  },
  {
   "cell_type": "markdown",
   "metadata": {},
   "source": [
    "### Объединение таблиц"
   ]
  },
  {
   "cell_type": "markdown",
   "metadata": {},
   "source": [
    "Объединим 2 таблицы (звонки за месяц и траффик за месяц) по общим столбцам, с помощью метода merge"
   ]
  },
  {
   "cell_type": "code",
   "execution_count": 19,
   "metadata": {},
   "outputs": [
    {
     "data": {
      "text/html": [
       "<div>\n",
       "<style scoped>\n",
       "    .dataframe tbody tr th:only-of-type {\n",
       "        vertical-align: middle;\n",
       "    }\n",
       "\n",
       "    .dataframe tbody tr th {\n",
       "        vertical-align: top;\n",
       "    }\n",
       "\n",
       "    .dataframe thead th {\n",
       "        text-align: right;\n",
       "    }\n",
       "</style>\n",
       "<table border=\"1\" class=\"dataframe\">\n",
       "  <thead>\n",
       "    <tr style=\"text-align: right;\">\n",
       "      <th></th>\n",
       "      <th>user_id</th>\n",
       "      <th>month</th>\n",
       "      <th>count</th>\n",
       "      <th>sum</th>\n",
       "      <th>mb</th>\n",
       "      <th>gb</th>\n",
       "    </tr>\n",
       "  </thead>\n",
       "  <tbody>\n",
       "    <tr>\n",
       "      <th>2937</th>\n",
       "      <td>1462</td>\n",
       "      <td>12</td>\n",
       "      <td>136.0</td>\n",
       "      <td>878.0</td>\n",
       "      <td>24298.96</td>\n",
       "      <td>24.0</td>\n",
       "    </tr>\n",
       "    <tr>\n",
       "      <th>240</th>\n",
       "      <td>1038</td>\n",
       "      <td>10</td>\n",
       "      <td>52.0</td>\n",
       "      <td>342.0</td>\n",
       "      <td>16456.41</td>\n",
       "      <td>17.0</td>\n",
       "    </tr>\n",
       "    <tr>\n",
       "      <th>2637</th>\n",
       "      <td>1415</td>\n",
       "      <td>11</td>\n",
       "      <td>93.0</td>\n",
       "      <td>627.0</td>\n",
       "      <td>26523.97</td>\n",
       "      <td>26.0</td>\n",
       "    </tr>\n",
       "    <tr>\n",
       "      <th>1517</th>\n",
       "      <td>1243</td>\n",
       "      <td>9</td>\n",
       "      <td>51.0</td>\n",
       "      <td>334.0</td>\n",
       "      <td>29084.40</td>\n",
       "      <td>29.0</td>\n",
       "    </tr>\n",
       "    <tr>\n",
       "      <th>895</th>\n",
       "      <td>1145</td>\n",
       "      <td>6</td>\n",
       "      <td>67.0</td>\n",
       "      <td>397.0</td>\n",
       "      <td>12991.35</td>\n",
       "      <td>13.0</td>\n",
       "    </tr>\n",
       "    <tr>\n",
       "      <th>375</th>\n",
       "      <td>1059</td>\n",
       "      <td>6</td>\n",
       "      <td>97.0</td>\n",
       "      <td>705.0</td>\n",
       "      <td>23417.91</td>\n",
       "      <td>23.0</td>\n",
       "    </tr>\n",
       "    <tr>\n",
       "      <th>119</th>\n",
       "      <td>1017</td>\n",
       "      <td>5</td>\n",
       "      <td>19.0</td>\n",
       "      <td>111.0</td>\n",
       "      <td>6120.36</td>\n",
       "      <td>6.0</td>\n",
       "    </tr>\n",
       "    <tr>\n",
       "      <th>512</th>\n",
       "      <td>1081</td>\n",
       "      <td>8</td>\n",
       "      <td>99.0</td>\n",
       "      <td>678.0</td>\n",
       "      <td>18430.23</td>\n",
       "      <td>18.0</td>\n",
       "    </tr>\n",
       "    <tr>\n",
       "      <th>2418</th>\n",
       "      <td>1383</td>\n",
       "      <td>12</td>\n",
       "      <td>41.0</td>\n",
       "      <td>285.0</td>\n",
       "      <td>10032.34</td>\n",
       "      <td>10.0</td>\n",
       "    </tr>\n",
       "    <tr>\n",
       "      <th>1016</th>\n",
       "      <td>1163</td>\n",
       "      <td>12</td>\n",
       "      <td>37.0</td>\n",
       "      <td>231.0</td>\n",
       "      <td>9376.37</td>\n",
       "      <td>10.0</td>\n",
       "    </tr>\n",
       "  </tbody>\n",
       "</table>\n",
       "</div>"
      ],
      "text/plain": [
       "      user_id  month  count    sum        mb    gb\n",
       "2937     1462     12  136.0  878.0  24298.96  24.0\n",
       "240      1038     10   52.0  342.0  16456.41  17.0\n",
       "2637     1415     11   93.0  627.0  26523.97  26.0\n",
       "1517     1243      9   51.0  334.0  29084.40  29.0\n",
       "895      1145      6   67.0  397.0  12991.35  13.0\n",
       "375      1059      6   97.0  705.0  23417.91  23.0\n",
       "119      1017      5   19.0  111.0   6120.36   6.0\n",
       "512      1081      8   99.0  678.0  18430.23  18.0\n",
       "2418     1383     12   41.0  285.0  10032.34  10.0\n",
       "1016     1163     12   37.0  231.0   9376.37  10.0"
      ]
     },
     "metadata": {},
     "output_type": "display_data"
    }
   ],
   "source": [
    "data = calls_per_month.merge(traffic_per_month,how='outer',on=['user_id','month'])\n",
    "display(data.sample(10))"
   ]
  },
  {
   "cell_type": "markdown",
   "metadata": {},
   "source": [
    "Метод сработал, но здесь не все данные. Добавим также данные по СМС, по общим столбцам (также идентификатор пользователя и месячное потребление пакета)"
   ]
  },
  {
   "cell_type": "code",
   "execution_count": 20,
   "metadata": {},
   "outputs": [
    {
     "data": {
      "text/html": [
       "<div>\n",
       "<style scoped>\n",
       "    .dataframe tbody tr th:only-of-type {\n",
       "        vertical-align: middle;\n",
       "    }\n",
       "\n",
       "    .dataframe tbody tr th {\n",
       "        vertical-align: top;\n",
       "    }\n",
       "\n",
       "    .dataframe thead th {\n",
       "        text-align: right;\n",
       "    }\n",
       "</style>\n",
       "<table border=\"1\" class=\"dataframe\">\n",
       "  <thead>\n",
       "    <tr style=\"text-align: right;\">\n",
       "      <th></th>\n",
       "      <th>user_id</th>\n",
       "      <th>month</th>\n",
       "      <th>count_x</th>\n",
       "      <th>sum</th>\n",
       "      <th>mb</th>\n",
       "      <th>gb</th>\n",
       "      <th>count_y</th>\n",
       "      <th>age</th>\n",
       "      <th>churn_date</th>\n",
       "      <th>city</th>\n",
       "      <th>first_name</th>\n",
       "      <th>last_name</th>\n",
       "      <th>reg_date</th>\n",
       "      <th>tariff</th>\n",
       "    </tr>\n",
       "  </thead>\n",
       "  <tbody>\n",
       "    <tr>\n",
       "      <th>1150</th>\n",
       "      <td>1181</td>\n",
       "      <td>11</td>\n",
       "      <td>16.0</td>\n",
       "      <td>109.0</td>\n",
       "      <td>5289.31</td>\n",
       "      <td>6.0</td>\n",
       "      <td>16.0</td>\n",
       "      <td>37</td>\n",
       "      <td>NaN</td>\n",
       "      <td>Омск</td>\n",
       "      <td>Рем</td>\n",
       "      <td>Аврорин</td>\n",
       "      <td>2018-11-23</td>\n",
       "      <td>smart</td>\n",
       "    </tr>\n",
       "    <tr>\n",
       "      <th>65</th>\n",
       "      <td>1009</td>\n",
       "      <td>5</td>\n",
       "      <td>28.0</td>\n",
       "      <td>170.0</td>\n",
       "      <td>13371.89</td>\n",
       "      <td>14.0</td>\n",
       "      <td>7.0</td>\n",
       "      <td>24</td>\n",
       "      <td>NaN</td>\n",
       "      <td>Пермь</td>\n",
       "      <td>Василиса</td>\n",
       "      <td>Блинова</td>\n",
       "      <td>2018-03-22</td>\n",
       "      <td>smart</td>\n",
       "    </tr>\n",
       "    <tr>\n",
       "      <th>2735</th>\n",
       "      <td>1429</td>\n",
       "      <td>10</td>\n",
       "      <td>39.0</td>\n",
       "      <td>261.0</td>\n",
       "      <td>19998.68</td>\n",
       "      <td>20.0</td>\n",
       "      <td>NaN</td>\n",
       "      <td>54</td>\n",
       "      <td>NaN</td>\n",
       "      <td>Санкт-Петербург</td>\n",
       "      <td>Джулия</td>\n",
       "      <td>Белякова</td>\n",
       "      <td>2018-01-26</td>\n",
       "      <td>smart</td>\n",
       "    </tr>\n",
       "    <tr>\n",
       "      <th>403</th>\n",
       "      <td>1064</td>\n",
       "      <td>5</td>\n",
       "      <td>56.0</td>\n",
       "      <td>437.0</td>\n",
       "      <td>25111.44</td>\n",
       "      <td>25.0</td>\n",
       "      <td>39.0</td>\n",
       "      <td>55</td>\n",
       "      <td>2018-12-26</td>\n",
       "      <td>Якутск</td>\n",
       "      <td>Динара</td>\n",
       "      <td>Алфеева</td>\n",
       "      <td>2018-03-17</td>\n",
       "      <td>smart</td>\n",
       "    </tr>\n",
       "    <tr>\n",
       "      <th>2853</th>\n",
       "      <td>1451</td>\n",
       "      <td>10</td>\n",
       "      <td>111.0</td>\n",
       "      <td>779.0</td>\n",
       "      <td>16045.05</td>\n",
       "      <td>16.0</td>\n",
       "      <td>47.0</td>\n",
       "      <td>58</td>\n",
       "      <td>NaN</td>\n",
       "      <td>Набережные Челны</td>\n",
       "      <td>Виктория</td>\n",
       "      <td>Завьялова</td>\n",
       "      <td>2018-08-27</td>\n",
       "      <td>smart</td>\n",
       "    </tr>\n",
       "    <tr>\n",
       "      <th>41</th>\n",
       "      <td>1005</td>\n",
       "      <td>12</td>\n",
       "      <td>84.0</td>\n",
       "      <td>592.0</td>\n",
       "      <td>8668.19</td>\n",
       "      <td>9.0</td>\n",
       "      <td>54.0</td>\n",
       "      <td>67</td>\n",
       "      <td>NaN</td>\n",
       "      <td>Набережные Челны</td>\n",
       "      <td>Афанасий</td>\n",
       "      <td>Горлов</td>\n",
       "      <td>2018-01-25</td>\n",
       "      <td>smart</td>\n",
       "    </tr>\n",
       "    <tr>\n",
       "      <th>432</th>\n",
       "      <td>1067</td>\n",
       "      <td>8</td>\n",
       "      <td>58.0</td>\n",
       "      <td>386.0</td>\n",
       "      <td>13561.83</td>\n",
       "      <td>14.0</td>\n",
       "      <td>50.0</td>\n",
       "      <td>45</td>\n",
       "      <td>NaN</td>\n",
       "      <td>Москва</td>\n",
       "      <td>Юзефа</td>\n",
       "      <td>Абашкина</td>\n",
       "      <td>2018-04-09</td>\n",
       "      <td>smart</td>\n",
       "    </tr>\n",
       "    <tr>\n",
       "      <th>3123</th>\n",
       "      <td>1491</td>\n",
       "      <td>4</td>\n",
       "      <td>17.0</td>\n",
       "      <td>143.0</td>\n",
       "      <td>3272.88</td>\n",
       "      <td>4.0</td>\n",
       "      <td>10.0</td>\n",
       "      <td>56</td>\n",
       "      <td>NaN</td>\n",
       "      <td>Челябинск</td>\n",
       "      <td>Радислав</td>\n",
       "      <td>Андрейкин</td>\n",
       "      <td>2018-04-25</td>\n",
       "      <td>ultra</td>\n",
       "    </tr>\n",
       "    <tr>\n",
       "      <th>2839</th>\n",
       "      <td>1448</td>\n",
       "      <td>10</td>\n",
       "      <td>67.0</td>\n",
       "      <td>457.0</td>\n",
       "      <td>13965.68</td>\n",
       "      <td>14.0</td>\n",
       "      <td>36.0</td>\n",
       "      <td>42</td>\n",
       "      <td>NaN</td>\n",
       "      <td>Кострома</td>\n",
       "      <td>Ростислав</td>\n",
       "      <td>Дроздов</td>\n",
       "      <td>2018-09-16</td>\n",
       "      <td>smart</td>\n",
       "    </tr>\n",
       "    <tr>\n",
       "      <th>1231</th>\n",
       "      <td>1193</td>\n",
       "      <td>12</td>\n",
       "      <td>56.0</td>\n",
       "      <td>420.0</td>\n",
       "      <td>11262.45</td>\n",
       "      <td>11.0</td>\n",
       "      <td>26.0</td>\n",
       "      <td>55</td>\n",
       "      <td>NaN</td>\n",
       "      <td>Тамбов</td>\n",
       "      <td>Арсен</td>\n",
       "      <td>Безруков</td>\n",
       "      <td>2018-01-01</td>\n",
       "      <td>smart</td>\n",
       "    </tr>\n",
       "  </tbody>\n",
       "</table>\n",
       "</div>"
      ],
      "text/plain": [
       "      user_id  month  count_x    sum        mb    gb  count_y  age  \\\n",
       "1150     1181     11     16.0  109.0   5289.31   6.0     16.0   37   \n",
       "65       1009      5     28.0  170.0  13371.89  14.0      7.0   24   \n",
       "2735     1429     10     39.0  261.0  19998.68  20.0      NaN   54   \n",
       "403      1064      5     56.0  437.0  25111.44  25.0     39.0   55   \n",
       "2853     1451     10    111.0  779.0  16045.05  16.0     47.0   58   \n",
       "41       1005     12     84.0  592.0   8668.19   9.0     54.0   67   \n",
       "432      1067      8     58.0  386.0  13561.83  14.0     50.0   45   \n",
       "3123     1491      4     17.0  143.0   3272.88   4.0     10.0   56   \n",
       "2839     1448     10     67.0  457.0  13965.68  14.0     36.0   42   \n",
       "1231     1193     12     56.0  420.0  11262.45  11.0     26.0   55   \n",
       "\n",
       "      churn_date              city first_name  last_name   reg_date tariff  \n",
       "1150         NaN              Омск        Рем    Аврорин 2018-11-23  smart  \n",
       "65           NaN             Пермь   Василиса    Блинова 2018-03-22  smart  \n",
       "2735         NaN   Санкт-Петербург     Джулия   Белякова 2018-01-26  smart  \n",
       "403   2018-12-26            Якутск     Динара    Алфеева 2018-03-17  smart  \n",
       "2853         NaN  Набережные Челны   Виктория  Завьялова 2018-08-27  smart  \n",
       "41           NaN  Набережные Челны   Афанасий     Горлов 2018-01-25  smart  \n",
       "432          NaN            Москва      Юзефа   Абашкина 2018-04-09  smart  \n",
       "3123         NaN         Челябинск   Радислав  Андрейкин 2018-04-25  ultra  \n",
       "2839         NaN          Кострома  Ростислав    Дроздов 2018-09-16  smart  \n",
       "1231         NaN            Тамбов      Арсен   Безруков 2018-01-01  smart  "
      ]
     },
     "metadata": {},
     "output_type": "display_data"
    }
   ],
   "source": [
    "data = data.merge(messages_per_month, how='outer', on=['user_id','month'])\n",
    "data = data.merge(users, how='left', on=['user_id'])\n",
    "display(data.sample(10))"
   ]
  },
  {
   "cell_type": "markdown",
   "metadata": {},
   "source": [
    "Формулировка тарифа в разных датафреймах написана несколько иначе. Казалось бы, мелочь, но тогда слияние таблиц не получится так, как хотелось бы. Стоит его заблаговременно переименовать."
   ]
  },
  {
   "cell_type": "code",
   "execution_count": 21,
   "metadata": {},
   "outputs": [],
   "source": [
    "tariffs.rename(columns={'tariff_name': 'tariff'}, inplace=True)"
   ]
  },
  {
   "cell_type": "code",
   "execution_count": 22,
   "metadata": {},
   "outputs": [
    {
     "data": {
      "text/html": [
       "<div>\n",
       "<style scoped>\n",
       "    .dataframe tbody tr th:only-of-type {\n",
       "        vertical-align: middle;\n",
       "    }\n",
       "\n",
       "    .dataframe tbody tr th {\n",
       "        vertical-align: top;\n",
       "    }\n",
       "\n",
       "    .dataframe thead th {\n",
       "        text-align: right;\n",
       "    }\n",
       "</style>\n",
       "<table border=\"1\" class=\"dataframe\">\n",
       "  <thead>\n",
       "    <tr style=\"text-align: right;\">\n",
       "      <th></th>\n",
       "      <th>user_id</th>\n",
       "      <th>month</th>\n",
       "      <th>count_x</th>\n",
       "      <th>sum</th>\n",
       "      <th>mb</th>\n",
       "      <th>gb</th>\n",
       "      <th>count_y</th>\n",
       "      <th>age</th>\n",
       "      <th>churn_date</th>\n",
       "      <th>city</th>\n",
       "      <th>...</th>\n",
       "      <th>last_name</th>\n",
       "      <th>reg_date</th>\n",
       "      <th>tariff</th>\n",
       "      <th>messages_included</th>\n",
       "      <th>mb_per_month_included</th>\n",
       "      <th>minutes_included</th>\n",
       "      <th>rub_monthly_fee</th>\n",
       "      <th>rub_per_gb</th>\n",
       "      <th>rub_per_message</th>\n",
       "      <th>rub_per_minute</th>\n",
       "    </tr>\n",
       "  </thead>\n",
       "  <tbody>\n",
       "    <tr>\n",
       "      <th>2252</th>\n",
       "      <td>1360</td>\n",
       "      <td>11</td>\n",
       "      <td>95.0</td>\n",
       "      <td>596.0</td>\n",
       "      <td>5730.22</td>\n",
       "      <td>6.0</td>\n",
       "      <td>NaN</td>\n",
       "      <td>46</td>\n",
       "      <td>NaN</td>\n",
       "      <td>Санкт-Петербург</td>\n",
       "      <td>...</td>\n",
       "      <td>Макарова</td>\n",
       "      <td>2018-03-18</td>\n",
       "      <td>ultra</td>\n",
       "      <td>1000</td>\n",
       "      <td>30720</td>\n",
       "      <td>3000</td>\n",
       "      <td>1950</td>\n",
       "      <td>150</td>\n",
       "      <td>1</td>\n",
       "      <td>1</td>\n",
       "    </tr>\n",
       "    <tr>\n",
       "      <th>286</th>\n",
       "      <td>1045</td>\n",
       "      <td>12</td>\n",
       "      <td>36.0</td>\n",
       "      <td>256.0</td>\n",
       "      <td>18964.86</td>\n",
       "      <td>19.0</td>\n",
       "      <td>49.0</td>\n",
       "      <td>48</td>\n",
       "      <td>NaN</td>\n",
       "      <td>Улан-Удэ</td>\n",
       "      <td>...</td>\n",
       "      <td>Карасева</td>\n",
       "      <td>2018-01-30</td>\n",
       "      <td>smart</td>\n",
       "      <td>50</td>\n",
       "      <td>15360</td>\n",
       "      <td>500</td>\n",
       "      <td>550</td>\n",
       "      <td>200</td>\n",
       "      <td>3</td>\n",
       "      <td>3</td>\n",
       "    </tr>\n",
       "    <tr>\n",
       "      <th>1339</th>\n",
       "      <td>1211</td>\n",
       "      <td>12</td>\n",
       "      <td>45.0</td>\n",
       "      <td>330.0</td>\n",
       "      <td>16900.63</td>\n",
       "      <td>17.0</td>\n",
       "      <td>10.0</td>\n",
       "      <td>62</td>\n",
       "      <td>NaN</td>\n",
       "      <td>Калуга</td>\n",
       "      <td>...</td>\n",
       "      <td>Азимова</td>\n",
       "      <td>2018-06-20</td>\n",
       "      <td>smart</td>\n",
       "      <td>50</td>\n",
       "      <td>15360</td>\n",
       "      <td>500</td>\n",
       "      <td>550</td>\n",
       "      <td>200</td>\n",
       "      <td>3</td>\n",
       "      <td>3</td>\n",
       "    </tr>\n",
       "    <tr>\n",
       "      <th>258</th>\n",
       "      <td>1041</td>\n",
       "      <td>12</td>\n",
       "      <td>125.0</td>\n",
       "      <td>861.0</td>\n",
       "      <td>23115.86</td>\n",
       "      <td>23.0</td>\n",
       "      <td>26.0</td>\n",
       "      <td>58</td>\n",
       "      <td>NaN</td>\n",
       "      <td>Москва</td>\n",
       "      <td>...</td>\n",
       "      <td>Кравцов</td>\n",
       "      <td>2018-11-29</td>\n",
       "      <td>smart</td>\n",
       "      <td>50</td>\n",
       "      <td>15360</td>\n",
       "      <td>500</td>\n",
       "      <td>550</td>\n",
       "      <td>200</td>\n",
       "      <td>3</td>\n",
       "      <td>3</td>\n",
       "    </tr>\n",
       "    <tr>\n",
       "      <th>868</th>\n",
       "      <td>1142</td>\n",
       "      <td>6</td>\n",
       "      <td>66.0</td>\n",
       "      <td>503.0</td>\n",
       "      <td>17383.12</td>\n",
       "      <td>17.0</td>\n",
       "      <td>46.0</td>\n",
       "      <td>51</td>\n",
       "      <td>NaN</td>\n",
       "      <td>Новосибирск</td>\n",
       "      <td>...</td>\n",
       "      <td>Алешкова</td>\n",
       "      <td>2018-03-24</td>\n",
       "      <td>smart</td>\n",
       "      <td>50</td>\n",
       "      <td>15360</td>\n",
       "      <td>500</td>\n",
       "      <td>550</td>\n",
       "      <td>200</td>\n",
       "      <td>3</td>\n",
       "      <td>3</td>\n",
       "    </tr>\n",
       "    <tr>\n",
       "      <th>1595</th>\n",
       "      <td>1255</td>\n",
       "      <td>5</td>\n",
       "      <td>45.0</td>\n",
       "      <td>320.0</td>\n",
       "      <td>42986.63</td>\n",
       "      <td>42.0</td>\n",
       "      <td>NaN</td>\n",
       "      <td>40</td>\n",
       "      <td>2018-09-02</td>\n",
       "      <td>Саранск</td>\n",
       "      <td>...</td>\n",
       "      <td>Пономарева</td>\n",
       "      <td>2018-02-19</td>\n",
       "      <td>ultra</td>\n",
       "      <td>1000</td>\n",
       "      <td>30720</td>\n",
       "      <td>3000</td>\n",
       "      <td>1950</td>\n",
       "      <td>150</td>\n",
       "      <td>1</td>\n",
       "      <td>1</td>\n",
       "    </tr>\n",
       "    <tr>\n",
       "      <th>1699</th>\n",
       "      <td>1273</td>\n",
       "      <td>7</td>\n",
       "      <td>44.0</td>\n",
       "      <td>253.0</td>\n",
       "      <td>NaN</td>\n",
       "      <td>NaN</td>\n",
       "      <td>37.0</td>\n",
       "      <td>46</td>\n",
       "      <td>NaN</td>\n",
       "      <td>Курган</td>\n",
       "      <td>...</td>\n",
       "      <td>Корнилов</td>\n",
       "      <td>2018-05-15</td>\n",
       "      <td>ultra</td>\n",
       "      <td>1000</td>\n",
       "      <td>30720</td>\n",
       "      <td>3000</td>\n",
       "      <td>1950</td>\n",
       "      <td>150</td>\n",
       "      <td>1</td>\n",
       "      <td>1</td>\n",
       "    </tr>\n",
       "    <tr>\n",
       "      <th>1530</th>\n",
       "      <td>1245</td>\n",
       "      <td>10</td>\n",
       "      <td>77.0</td>\n",
       "      <td>453.0</td>\n",
       "      <td>10518.25</td>\n",
       "      <td>11.0</td>\n",
       "      <td>100.0</td>\n",
       "      <td>32</td>\n",
       "      <td>NaN</td>\n",
       "      <td>Москва</td>\n",
       "      <td>...</td>\n",
       "      <td>Коновалова</td>\n",
       "      <td>2018-09-10</td>\n",
       "      <td>ultra</td>\n",
       "      <td>1000</td>\n",
       "      <td>30720</td>\n",
       "      <td>3000</td>\n",
       "      <td>1950</td>\n",
       "      <td>150</td>\n",
       "      <td>1</td>\n",
       "      <td>1</td>\n",
       "    </tr>\n",
       "    <tr>\n",
       "      <th>1636</th>\n",
       "      <td>1263</td>\n",
       "      <td>7</td>\n",
       "      <td>95.0</td>\n",
       "      <td>653.0</td>\n",
       "      <td>15190.58</td>\n",
       "      <td>15.0</td>\n",
       "      <td>6.0</td>\n",
       "      <td>32</td>\n",
       "      <td>NaN</td>\n",
       "      <td>Балашиха</td>\n",
       "      <td>...</td>\n",
       "      <td>Зайцев</td>\n",
       "      <td>2018-04-30</td>\n",
       "      <td>smart</td>\n",
       "      <td>50</td>\n",
       "      <td>15360</td>\n",
       "      <td>500</td>\n",
       "      <td>550</td>\n",
       "      <td>200</td>\n",
       "      <td>3</td>\n",
       "      <td>3</td>\n",
       "    </tr>\n",
       "    <tr>\n",
       "      <th>1677</th>\n",
       "      <td>1269</td>\n",
       "      <td>9</td>\n",
       "      <td>49.0</td>\n",
       "      <td>389.0</td>\n",
       "      <td>17168.45</td>\n",
       "      <td>17.0</td>\n",
       "      <td>24.0</td>\n",
       "      <td>31</td>\n",
       "      <td>NaN</td>\n",
       "      <td>Омск</td>\n",
       "      <td>...</td>\n",
       "      <td>Ахмадулин</td>\n",
       "      <td>2018-07-17</td>\n",
       "      <td>smart</td>\n",
       "      <td>50</td>\n",
       "      <td>15360</td>\n",
       "      <td>500</td>\n",
       "      <td>550</td>\n",
       "      <td>200</td>\n",
       "      <td>3</td>\n",
       "      <td>3</td>\n",
       "    </tr>\n",
       "  </tbody>\n",
       "</table>\n",
       "<p>10 rows × 21 columns</p>\n",
       "</div>"
      ],
      "text/plain": [
       "      user_id  month  count_x    sum        mb    gb  count_y  age  \\\n",
       "2252     1360     11     95.0  596.0   5730.22   6.0      NaN   46   \n",
       "286      1045     12     36.0  256.0  18964.86  19.0     49.0   48   \n",
       "1339     1211     12     45.0  330.0  16900.63  17.0     10.0   62   \n",
       "258      1041     12    125.0  861.0  23115.86  23.0     26.0   58   \n",
       "868      1142      6     66.0  503.0  17383.12  17.0     46.0   51   \n",
       "1595     1255      5     45.0  320.0  42986.63  42.0      NaN   40   \n",
       "1699     1273      7     44.0  253.0       NaN   NaN     37.0   46   \n",
       "1530     1245     10     77.0  453.0  10518.25  11.0    100.0   32   \n",
       "1636     1263      7     95.0  653.0  15190.58  15.0      6.0   32   \n",
       "1677     1269      9     49.0  389.0  17168.45  17.0     24.0   31   \n",
       "\n",
       "      churn_date             city  ...   last_name   reg_date tariff  \\\n",
       "2252         NaN  Санкт-Петербург  ...    Макарова 2018-03-18  ultra   \n",
       "286          NaN         Улан-Удэ  ...    Карасева 2018-01-30  smart   \n",
       "1339         NaN           Калуга  ...     Азимова 2018-06-20  smart   \n",
       "258          NaN           Москва  ...     Кравцов 2018-11-29  smart   \n",
       "868          NaN      Новосибирск  ...    Алешкова 2018-03-24  smart   \n",
       "1595  2018-09-02          Саранск  ...  Пономарева 2018-02-19  ultra   \n",
       "1699         NaN           Курган  ...    Корнилов 2018-05-15  ultra   \n",
       "1530         NaN           Москва  ...  Коновалова 2018-09-10  ultra   \n",
       "1636         NaN         Балашиха  ...      Зайцев 2018-04-30  smart   \n",
       "1677         NaN             Омск  ...   Ахмадулин 2018-07-17  smart   \n",
       "\n",
       "     messages_included  mb_per_month_included  minutes_included  \\\n",
       "2252              1000                  30720              3000   \n",
       "286                 50                  15360               500   \n",
       "1339                50                  15360               500   \n",
       "258                 50                  15360               500   \n",
       "868                 50                  15360               500   \n",
       "1595              1000                  30720              3000   \n",
       "1699              1000                  30720              3000   \n",
       "1530              1000                  30720              3000   \n",
       "1636                50                  15360               500   \n",
       "1677                50                  15360               500   \n",
       "\n",
       "      rub_monthly_fee  rub_per_gb  rub_per_message  rub_per_minute  \n",
       "2252             1950         150                1               1  \n",
       "286               550         200                3               3  \n",
       "1339              550         200                3               3  \n",
       "258               550         200                3               3  \n",
       "868               550         200                3               3  \n",
       "1595             1950         150                1               1  \n",
       "1699             1950         150                1               1  \n",
       "1530             1950         150                1               1  \n",
       "1636              550         200                3               3  \n",
       "1677              550         200                3               3  \n",
       "\n",
       "[10 rows x 21 columns]"
      ]
     },
     "metadata": {},
     "output_type": "display_data"
    }
   ],
   "source": [
    "data = data.merge(tariffs, how='left', on=['tariff'])\n",
    "display(data.sample(10))"
   ]
  },
  {
   "cell_type": "markdown",
   "metadata": {},
   "source": [
    "Однако, по итогу слияния таблиц, остались также \"промежуточные\" названия столбцов, вроде sum и count. В них легко запутаться уже через пару минут, не говоря о том, что с кодом потом может работать кто-то еще. Переименуем их в более читаемый вид, но сперва, посмотрим наименования абсолютно всех столбцов."
   ]
  },
  {
   "cell_type": "code",
   "execution_count": 23,
   "metadata": {},
   "outputs": [
    {
     "data": {
      "text/plain": [
       "['user_id',\n",
       " 'month',\n",
       " 'count_x',\n",
       " 'sum',\n",
       " 'mb',\n",
       " 'gb',\n",
       " 'count_y',\n",
       " 'age',\n",
       " 'churn_date',\n",
       " 'city',\n",
       " 'first_name',\n",
       " 'last_name',\n",
       " 'reg_date',\n",
       " 'tariff',\n",
       " 'messages_included',\n",
       " 'mb_per_month_included',\n",
       " 'minutes_included',\n",
       " 'rub_monthly_fee',\n",
       " 'rub_per_gb',\n",
       " 'rub_per_message',\n",
       " 'rub_per_minute']"
      ]
     },
     "metadata": {},
     "output_type": "display_data"
    }
   ],
   "source": [
    "display(data.columns.tolist())"
   ]
  },
  {
   "cell_type": "code",
   "execution_count": 24,
   "metadata": {},
   "outputs": [
    {
     "data": {
      "text/html": [
       "<div>\n",
       "<style scoped>\n",
       "    .dataframe tbody tr th:only-of-type {\n",
       "        vertical-align: middle;\n",
       "    }\n",
       "\n",
       "    .dataframe tbody tr th {\n",
       "        vertical-align: top;\n",
       "    }\n",
       "\n",
       "    .dataframe thead th {\n",
       "        text-align: right;\n",
       "    }\n",
       "</style>\n",
       "<table border=\"1\" class=\"dataframe\">\n",
       "  <thead>\n",
       "    <tr style=\"text-align: right;\">\n",
       "      <th></th>\n",
       "      <th>user_id</th>\n",
       "      <th>month</th>\n",
       "      <th>count_calls</th>\n",
       "      <th>sum_minutes</th>\n",
       "      <th>count_mb_traffic</th>\n",
       "      <th>count_gb_traffic</th>\n",
       "      <th>count_messages</th>\n",
       "      <th>age</th>\n",
       "      <th>churn_date</th>\n",
       "      <th>city</th>\n",
       "      <th>...</th>\n",
       "      <th>last_name</th>\n",
       "      <th>reg_date</th>\n",
       "      <th>tariff</th>\n",
       "      <th>messages_included</th>\n",
       "      <th>mb_per_month_included</th>\n",
       "      <th>minutes_included</th>\n",
       "      <th>rub_monthly_fee</th>\n",
       "      <th>rub_per_gb</th>\n",
       "      <th>rub_per_message</th>\n",
       "      <th>rub_per_minute</th>\n",
       "    </tr>\n",
       "  </thead>\n",
       "  <tbody>\n",
       "    <tr>\n",
       "      <th>2776</th>\n",
       "      <td>1435</td>\n",
       "      <td>3</td>\n",
       "      <td>32.0</td>\n",
       "      <td>215.0</td>\n",
       "      <td>21427.98</td>\n",
       "      <td>21.0</td>\n",
       "      <td>NaN</td>\n",
       "      <td>32</td>\n",
       "      <td>NaN</td>\n",
       "      <td>Москва</td>\n",
       "      <td>...</td>\n",
       "      <td>Азимова</td>\n",
       "      <td>2018-02-17</td>\n",
       "      <td>smart</td>\n",
       "      <td>50</td>\n",
       "      <td>15360</td>\n",
       "      <td>500</td>\n",
       "      <td>550</td>\n",
       "      <td>200</td>\n",
       "      <td>3</td>\n",
       "      <td>3</td>\n",
       "    </tr>\n",
       "    <tr>\n",
       "      <th>745</th>\n",
       "      <td>1119</td>\n",
       "      <td>9</td>\n",
       "      <td>39.0</td>\n",
       "      <td>280.0</td>\n",
       "      <td>19856.03</td>\n",
       "      <td>20.0</td>\n",
       "      <td>43.0</td>\n",
       "      <td>53</td>\n",
       "      <td>NaN</td>\n",
       "      <td>Петрозаводск</td>\n",
       "      <td>...</td>\n",
       "      <td>Сухарев</td>\n",
       "      <td>2018-04-22</td>\n",
       "      <td>smart</td>\n",
       "      <td>50</td>\n",
       "      <td>15360</td>\n",
       "      <td>500</td>\n",
       "      <td>550</td>\n",
       "      <td>200</td>\n",
       "      <td>3</td>\n",
       "      <td>3</td>\n",
       "    </tr>\n",
       "    <tr>\n",
       "      <th>362</th>\n",
       "      <td>1057</td>\n",
       "      <td>5</td>\n",
       "      <td>100.0</td>\n",
       "      <td>677.0</td>\n",
       "      <td>20396.97</td>\n",
       "      <td>20.0</td>\n",
       "      <td>26.0</td>\n",
       "      <td>43</td>\n",
       "      <td>NaN</td>\n",
       "      <td>Москва</td>\n",
       "      <td>...</td>\n",
       "      <td>Дьячкова</td>\n",
       "      <td>2018-03-12</td>\n",
       "      <td>ultra</td>\n",
       "      <td>1000</td>\n",
       "      <td>30720</td>\n",
       "      <td>3000</td>\n",
       "      <td>1950</td>\n",
       "      <td>150</td>\n",
       "      <td>1</td>\n",
       "      <td>1</td>\n",
       "    </tr>\n",
       "    <tr>\n",
       "      <th>1878</th>\n",
       "      <td>1299</td>\n",
       "      <td>11</td>\n",
       "      <td>56.0</td>\n",
       "      <td>418.0</td>\n",
       "      <td>14815.03</td>\n",
       "      <td>15.0</td>\n",
       "      <td>63.0</td>\n",
       "      <td>37</td>\n",
       "      <td>NaN</td>\n",
       "      <td>Уфа</td>\n",
       "      <td>...</td>\n",
       "      <td>Симонова</td>\n",
       "      <td>2018-01-27</td>\n",
       "      <td>smart</td>\n",
       "      <td>50</td>\n",
       "      <td>15360</td>\n",
       "      <td>500</td>\n",
       "      <td>550</td>\n",
       "      <td>200</td>\n",
       "      <td>3</td>\n",
       "      <td>3</td>\n",
       "    </tr>\n",
       "    <tr>\n",
       "      <th>326</th>\n",
       "      <td>1052</td>\n",
       "      <td>12</td>\n",
       "      <td>111.0</td>\n",
       "      <td>859.0</td>\n",
       "      <td>12941.95</td>\n",
       "      <td>13.0</td>\n",
       "      <td>96.0</td>\n",
       "      <td>52</td>\n",
       "      <td>NaN</td>\n",
       "      <td>Санкт-Петербург</td>\n",
       "      <td>...</td>\n",
       "      <td>Панов</td>\n",
       "      <td>2018-07-27</td>\n",
       "      <td>smart</td>\n",
       "      <td>50</td>\n",
       "      <td>15360</td>\n",
       "      <td>500</td>\n",
       "      <td>550</td>\n",
       "      <td>200</td>\n",
       "      <td>3</td>\n",
       "      <td>3</td>\n",
       "    </tr>\n",
       "    <tr>\n",
       "      <th>3127</th>\n",
       "      <td>1491</td>\n",
       "      <td>8</td>\n",
       "      <td>74.0</td>\n",
       "      <td>611.0</td>\n",
       "      <td>17279.24</td>\n",
       "      <td>17.0</td>\n",
       "      <td>49.0</td>\n",
       "      <td>56</td>\n",
       "      <td>NaN</td>\n",
       "      <td>Челябинск</td>\n",
       "      <td>...</td>\n",
       "      <td>Андрейкин</td>\n",
       "      <td>2018-04-25</td>\n",
       "      <td>ultra</td>\n",
       "      <td>1000</td>\n",
       "      <td>30720</td>\n",
       "      <td>3000</td>\n",
       "      <td>1950</td>\n",
       "      <td>150</td>\n",
       "      <td>1</td>\n",
       "      <td>1</td>\n",
       "    </tr>\n",
       "    <tr>\n",
       "      <th>636</th>\n",
       "      <td>1101</td>\n",
       "      <td>9</td>\n",
       "      <td>98.0</td>\n",
       "      <td>575.0</td>\n",
       "      <td>8853.17</td>\n",
       "      <td>9.0</td>\n",
       "      <td>NaN</td>\n",
       "      <td>27</td>\n",
       "      <td>NaN</td>\n",
       "      <td>Казань</td>\n",
       "      <td>...</td>\n",
       "      <td>Колобов</td>\n",
       "      <td>2018-05-21</td>\n",
       "      <td>smart</td>\n",
       "      <td>50</td>\n",
       "      <td>15360</td>\n",
       "      <td>500</td>\n",
       "      <td>550</td>\n",
       "      <td>200</td>\n",
       "      <td>3</td>\n",
       "      <td>3</td>\n",
       "    </tr>\n",
       "    <tr>\n",
       "      <th>2286</th>\n",
       "      <td>1366</td>\n",
       "      <td>11</td>\n",
       "      <td>35.0</td>\n",
       "      <td>254.0</td>\n",
       "      <td>8583.74</td>\n",
       "      <td>9.0</td>\n",
       "      <td>42.0</td>\n",
       "      <td>43</td>\n",
       "      <td>NaN</td>\n",
       "      <td>Санкт-Петербург</td>\n",
       "      <td>...</td>\n",
       "      <td>Фетисова</td>\n",
       "      <td>2018-06-14</td>\n",
       "      <td>smart</td>\n",
       "      <td>50</td>\n",
       "      <td>15360</td>\n",
       "      <td>500</td>\n",
       "      <td>550</td>\n",
       "      <td>200</td>\n",
       "      <td>3</td>\n",
       "      <td>3</td>\n",
       "    </tr>\n",
       "    <tr>\n",
       "      <th>1074</th>\n",
       "      <td>1172</td>\n",
       "      <td>11</td>\n",
       "      <td>65.0</td>\n",
       "      <td>537.0</td>\n",
       "      <td>22801.56</td>\n",
       "      <td>23.0</td>\n",
       "      <td>7.0</td>\n",
       "      <td>40</td>\n",
       "      <td>NaN</td>\n",
       "      <td>Санкт-Петербург</td>\n",
       "      <td>...</td>\n",
       "      <td>Карасев</td>\n",
       "      <td>2018-05-05</td>\n",
       "      <td>smart</td>\n",
       "      <td>50</td>\n",
       "      <td>15360</td>\n",
       "      <td>500</td>\n",
       "      <td>550</td>\n",
       "      <td>200</td>\n",
       "      <td>3</td>\n",
       "      <td>3</td>\n",
       "    </tr>\n",
       "    <tr>\n",
       "      <th>1324</th>\n",
       "      <td>1209</td>\n",
       "      <td>10</td>\n",
       "      <td>38.0</td>\n",
       "      <td>322.0</td>\n",
       "      <td>21645.88</td>\n",
       "      <td>22.0</td>\n",
       "      <td>66.0</td>\n",
       "      <td>27</td>\n",
       "      <td>NaN</td>\n",
       "      <td>Омск</td>\n",
       "      <td>...</td>\n",
       "      <td>Сорокин</td>\n",
       "      <td>2018-06-02</td>\n",
       "      <td>smart</td>\n",
       "      <td>50</td>\n",
       "      <td>15360</td>\n",
       "      <td>500</td>\n",
       "      <td>550</td>\n",
       "      <td>200</td>\n",
       "      <td>3</td>\n",
       "      <td>3</td>\n",
       "    </tr>\n",
       "  </tbody>\n",
       "</table>\n",
       "<p>10 rows × 21 columns</p>\n",
       "</div>"
      ],
      "text/plain": [
       "      user_id  month  count_calls  sum_minutes  count_mb_traffic  \\\n",
       "2776     1435      3         32.0        215.0          21427.98   \n",
       "745      1119      9         39.0        280.0          19856.03   \n",
       "362      1057      5        100.0        677.0          20396.97   \n",
       "1878     1299     11         56.0        418.0          14815.03   \n",
       "326      1052     12        111.0        859.0          12941.95   \n",
       "3127     1491      8         74.0        611.0          17279.24   \n",
       "636      1101      9         98.0        575.0           8853.17   \n",
       "2286     1366     11         35.0        254.0           8583.74   \n",
       "1074     1172     11         65.0        537.0          22801.56   \n",
       "1324     1209     10         38.0        322.0          21645.88   \n",
       "\n",
       "      count_gb_traffic  count_messages  age churn_date             city  ...  \\\n",
       "2776              21.0             NaN   32        NaN           Москва  ...   \n",
       "745               20.0            43.0   53        NaN     Петрозаводск  ...   \n",
       "362               20.0            26.0   43        NaN           Москва  ...   \n",
       "1878              15.0            63.0   37        NaN              Уфа  ...   \n",
       "326               13.0            96.0   52        NaN  Санкт-Петербург  ...   \n",
       "3127              17.0            49.0   56        NaN        Челябинск  ...   \n",
       "636                9.0             NaN   27        NaN           Казань  ...   \n",
       "2286               9.0            42.0   43        NaN  Санкт-Петербург  ...   \n",
       "1074              23.0             7.0   40        NaN  Санкт-Петербург  ...   \n",
       "1324              22.0            66.0   27        NaN             Омск  ...   \n",
       "\n",
       "      last_name   reg_date tariff messages_included  mb_per_month_included  \\\n",
       "2776    Азимова 2018-02-17  smart                50                  15360   \n",
       "745     Сухарев 2018-04-22  smart                50                  15360   \n",
       "362    Дьячкова 2018-03-12  ultra              1000                  30720   \n",
       "1878   Симонова 2018-01-27  smart                50                  15360   \n",
       "326       Панов 2018-07-27  smart                50                  15360   \n",
       "3127  Андрейкин 2018-04-25  ultra              1000                  30720   \n",
       "636     Колобов 2018-05-21  smart                50                  15360   \n",
       "2286   Фетисова 2018-06-14  smart                50                  15360   \n",
       "1074    Карасев 2018-05-05  smart                50                  15360   \n",
       "1324    Сорокин 2018-06-02  smart                50                  15360   \n",
       "\n",
       "      minutes_included  rub_monthly_fee  rub_per_gb  rub_per_message  \\\n",
       "2776               500              550         200                3   \n",
       "745                500              550         200                3   \n",
       "362               3000             1950         150                1   \n",
       "1878               500              550         200                3   \n",
       "326                500              550         200                3   \n",
       "3127              3000             1950         150                1   \n",
       "636                500              550         200                3   \n",
       "2286               500              550         200                3   \n",
       "1074               500              550         200                3   \n",
       "1324               500              550         200                3   \n",
       "\n",
       "      rub_per_minute  \n",
       "2776               3  \n",
       "745                3  \n",
       "362                1  \n",
       "1878               3  \n",
       "326                3  \n",
       "3127               1  \n",
       "636                3  \n",
       "2286               3  \n",
       "1074               3  \n",
       "1324               3  \n",
       "\n",
       "[10 rows x 21 columns]"
      ]
     },
     "metadata": {},
     "output_type": "display_data"
    }
   ],
   "source": [
    "data.rename(columns={'sum': 'sum_minutes', 'count_x': 'count_calls', 'count_y': 'count_messages', 'mb': 'count_mb_traffic', 'gb': 'count_gb_traffic'}, inplace=True)\n",
    "display(data.sample(10))"
   ]
  },
  {
   "cell_type": "markdown",
   "metadata": {},
   "source": [
    "### Определение количества расхода ресурсов сверх тарифного плана"
   ]
  },
  {
   "cell_type": "markdown",
   "metadata": {},
   "source": [
    "Определим количество расхода ресурсов сверх тарифа, путем вычитания из суммарного значения \"нормативные\" показатели тарифного плана"
   ]
  },
  {
   "cell_type": "code",
   "execution_count": 25,
   "metadata": {},
   "outputs": [
    {
     "data": {
      "text/html": [
       "<div>\n",
       "<style scoped>\n",
       "    .dataframe tbody tr th:only-of-type {\n",
       "        vertical-align: middle;\n",
       "    }\n",
       "\n",
       "    .dataframe tbody tr th {\n",
       "        vertical-align: top;\n",
       "    }\n",
       "\n",
       "    .dataframe thead th {\n",
       "        text-align: right;\n",
       "    }\n",
       "</style>\n",
       "<table border=\"1\" class=\"dataframe\">\n",
       "  <thead>\n",
       "    <tr style=\"text-align: right;\">\n",
       "      <th></th>\n",
       "      <th>user_id</th>\n",
       "      <th>month</th>\n",
       "      <th>count_calls</th>\n",
       "      <th>sum_minutes</th>\n",
       "      <th>count_mb_traffic</th>\n",
       "      <th>count_gb_traffic</th>\n",
       "      <th>count_messages</th>\n",
       "      <th>age</th>\n",
       "      <th>churn_date</th>\n",
       "      <th>city</th>\n",
       "      <th>...</th>\n",
       "      <th>mb_per_month_included</th>\n",
       "      <th>minutes_included</th>\n",
       "      <th>rub_monthly_fee</th>\n",
       "      <th>rub_per_gb</th>\n",
       "      <th>rub_per_message</th>\n",
       "      <th>rub_per_minute</th>\n",
       "      <th>calls_over</th>\n",
       "      <th>internet_over</th>\n",
       "      <th>messages_over</th>\n",
       "      <th>gb_per_month_included</th>\n",
       "    </tr>\n",
       "  </thead>\n",
       "  <tbody>\n",
       "    <tr>\n",
       "      <th>1709</th>\n",
       "      <td>1274</td>\n",
       "      <td>9</td>\n",
       "      <td>54.0</td>\n",
       "      <td>439.0</td>\n",
       "      <td>22395.55</td>\n",
       "      <td>22.0</td>\n",
       "      <td>66.0</td>\n",
       "      <td>53</td>\n",
       "      <td>NaN</td>\n",
       "      <td>Волгоград</td>\n",
       "      <td>...</td>\n",
       "      <td>15360</td>\n",
       "      <td>500</td>\n",
       "      <td>550</td>\n",
       "      <td>200</td>\n",
       "      <td>3</td>\n",
       "      <td>3</td>\n",
       "      <td>-61.0</td>\n",
       "      <td>7.0</td>\n",
       "      <td>16.0</td>\n",
       "      <td>15.0</td>\n",
       "    </tr>\n",
       "    <tr>\n",
       "      <th>1124</th>\n",
       "      <td>1178</td>\n",
       "      <td>7</td>\n",
       "      <td>77.0</td>\n",
       "      <td>532.0</td>\n",
       "      <td>11907.07</td>\n",
       "      <td>12.0</td>\n",
       "      <td>19.0</td>\n",
       "      <td>56</td>\n",
       "      <td>NaN</td>\n",
       "      <td>Москва</td>\n",
       "      <td>...</td>\n",
       "      <td>15360</td>\n",
       "      <td>500</td>\n",
       "      <td>550</td>\n",
       "      <td>200</td>\n",
       "      <td>3</td>\n",
       "      <td>3</td>\n",
       "      <td>32.0</td>\n",
       "      <td>-3.0</td>\n",
       "      <td>-31.0</td>\n",
       "      <td>15.0</td>\n",
       "    </tr>\n",
       "    <tr>\n",
       "      <th>2400</th>\n",
       "      <td>1381</td>\n",
       "      <td>7</td>\n",
       "      <td>93.0</td>\n",
       "      <td>673.0</td>\n",
       "      <td>26770.59</td>\n",
       "      <td>27.0</td>\n",
       "      <td>29.0</td>\n",
       "      <td>64</td>\n",
       "      <td>NaN</td>\n",
       "      <td>Москва</td>\n",
       "      <td>...</td>\n",
       "      <td>30720</td>\n",
       "      <td>3000</td>\n",
       "      <td>1950</td>\n",
       "      <td>150</td>\n",
       "      <td>1</td>\n",
       "      <td>1</td>\n",
       "      <td>-2327.0</td>\n",
       "      <td>-3.0</td>\n",
       "      <td>-971.0</td>\n",
       "      <td>30.0</td>\n",
       "    </tr>\n",
       "    <tr>\n",
       "      <th>1241</th>\n",
       "      <td>1196</td>\n",
       "      <td>10</td>\n",
       "      <td>156.0</td>\n",
       "      <td>1069.0</td>\n",
       "      <td>26649.16</td>\n",
       "      <td>27.0</td>\n",
       "      <td>149.0</td>\n",
       "      <td>25</td>\n",
       "      <td>NaN</td>\n",
       "      <td>Воронеж</td>\n",
       "      <td>...</td>\n",
       "      <td>30720</td>\n",
       "      <td>3000</td>\n",
       "      <td>1950</td>\n",
       "      <td>150</td>\n",
       "      <td>1</td>\n",
       "      <td>1</td>\n",
       "      <td>-1931.0</td>\n",
       "      <td>-3.0</td>\n",
       "      <td>-851.0</td>\n",
       "      <td>30.0</td>\n",
       "    </tr>\n",
       "    <tr>\n",
       "      <th>1990</th>\n",
       "      <td>1318</td>\n",
       "      <td>7</td>\n",
       "      <td>99.0</td>\n",
       "      <td>672.0</td>\n",
       "      <td>10187.01</td>\n",
       "      <td>10.0</td>\n",
       "      <td>45.0</td>\n",
       "      <td>53</td>\n",
       "      <td>NaN</td>\n",
       "      <td>Курган</td>\n",
       "      <td>...</td>\n",
       "      <td>30720</td>\n",
       "      <td>3000</td>\n",
       "      <td>1950</td>\n",
       "      <td>150</td>\n",
       "      <td>1</td>\n",
       "      <td>1</td>\n",
       "      <td>-2328.0</td>\n",
       "      <td>-20.0</td>\n",
       "      <td>-955.0</td>\n",
       "      <td>30.0</td>\n",
       "    </tr>\n",
       "    <tr>\n",
       "      <th>1028</th>\n",
       "      <td>1165</td>\n",
       "      <td>12</td>\n",
       "      <td>37.0</td>\n",
       "      <td>278.0</td>\n",
       "      <td>31942.39</td>\n",
       "      <td>32.0</td>\n",
       "      <td>224.0</td>\n",
       "      <td>19</td>\n",
       "      <td>NaN</td>\n",
       "      <td>Самара</td>\n",
       "      <td>...</td>\n",
       "      <td>30720</td>\n",
       "      <td>3000</td>\n",
       "      <td>1950</td>\n",
       "      <td>150</td>\n",
       "      <td>1</td>\n",
       "      <td>1</td>\n",
       "      <td>-2722.0</td>\n",
       "      <td>2.0</td>\n",
       "      <td>-776.0</td>\n",
       "      <td>30.0</td>\n",
       "    </tr>\n",
       "    <tr>\n",
       "      <th>2288</th>\n",
       "      <td>1367</td>\n",
       "      <td>9</td>\n",
       "      <td>43.0</td>\n",
       "      <td>318.0</td>\n",
       "      <td>11486.65</td>\n",
       "      <td>12.0</td>\n",
       "      <td>NaN</td>\n",
       "      <td>43</td>\n",
       "      <td>2018-11-16</td>\n",
       "      <td>Москва</td>\n",
       "      <td>...</td>\n",
       "      <td>30720</td>\n",
       "      <td>3000</td>\n",
       "      <td>1950</td>\n",
       "      <td>150</td>\n",
       "      <td>1</td>\n",
       "      <td>1</td>\n",
       "      <td>-2682.0</td>\n",
       "      <td>-18.0</td>\n",
       "      <td>NaN</td>\n",
       "      <td>30.0</td>\n",
       "    </tr>\n",
       "    <tr>\n",
       "      <th>847</th>\n",
       "      <td>1135</td>\n",
       "      <td>8</td>\n",
       "      <td>73.0</td>\n",
       "      <td>654.0</td>\n",
       "      <td>18421.08</td>\n",
       "      <td>18.0</td>\n",
       "      <td>21.0</td>\n",
       "      <td>64</td>\n",
       "      <td>NaN</td>\n",
       "      <td>Архангельск</td>\n",
       "      <td>...</td>\n",
       "      <td>15360</td>\n",
       "      <td>500</td>\n",
       "      <td>550</td>\n",
       "      <td>200</td>\n",
       "      <td>3</td>\n",
       "      <td>3</td>\n",
       "      <td>154.0</td>\n",
       "      <td>3.0</td>\n",
       "      <td>-29.0</td>\n",
       "      <td>15.0</td>\n",
       "    </tr>\n",
       "    <tr>\n",
       "      <th>645</th>\n",
       "      <td>1102</td>\n",
       "      <td>11</td>\n",
       "      <td>72.0</td>\n",
       "      <td>362.0</td>\n",
       "      <td>20734.63</td>\n",
       "      <td>21.0</td>\n",
       "      <td>34.0</td>\n",
       "      <td>28</td>\n",
       "      <td>NaN</td>\n",
       "      <td>Москва</td>\n",
       "      <td>...</td>\n",
       "      <td>15360</td>\n",
       "      <td>500</td>\n",
       "      <td>550</td>\n",
       "      <td>200</td>\n",
       "      <td>3</td>\n",
       "      <td>3</td>\n",
       "      <td>-138.0</td>\n",
       "      <td>6.0</td>\n",
       "      <td>-16.0</td>\n",
       "      <td>15.0</td>\n",
       "    </tr>\n",
       "    <tr>\n",
       "      <th>2112</th>\n",
       "      <td>1337</td>\n",
       "      <td>11</td>\n",
       "      <td>27.0</td>\n",
       "      <td>188.0</td>\n",
       "      <td>18660.22</td>\n",
       "      <td>19.0</td>\n",
       "      <td>16.0</td>\n",
       "      <td>42</td>\n",
       "      <td>NaN</td>\n",
       "      <td>Вологда</td>\n",
       "      <td>...</td>\n",
       "      <td>15360</td>\n",
       "      <td>500</td>\n",
       "      <td>550</td>\n",
       "      <td>200</td>\n",
       "      <td>3</td>\n",
       "      <td>3</td>\n",
       "      <td>-312.0</td>\n",
       "      <td>4.0</td>\n",
       "      <td>-34.0</td>\n",
       "      <td>15.0</td>\n",
       "    </tr>\n",
       "  </tbody>\n",
       "</table>\n",
       "<p>10 rows × 25 columns</p>\n",
       "</div>"
      ],
      "text/plain": [
       "      user_id  month  count_calls  sum_minutes  count_mb_traffic  \\\n",
       "1709     1274      9         54.0        439.0          22395.55   \n",
       "1124     1178      7         77.0        532.0          11907.07   \n",
       "2400     1381      7         93.0        673.0          26770.59   \n",
       "1241     1196     10        156.0       1069.0          26649.16   \n",
       "1990     1318      7         99.0        672.0          10187.01   \n",
       "1028     1165     12         37.0        278.0          31942.39   \n",
       "2288     1367      9         43.0        318.0          11486.65   \n",
       "847      1135      8         73.0        654.0          18421.08   \n",
       "645      1102     11         72.0        362.0          20734.63   \n",
       "2112     1337     11         27.0        188.0          18660.22   \n",
       "\n",
       "      count_gb_traffic  count_messages  age  churn_date         city  ...  \\\n",
       "1709              22.0            66.0   53         NaN    Волгоград  ...   \n",
       "1124              12.0            19.0   56         NaN       Москва  ...   \n",
       "2400              27.0            29.0   64         NaN       Москва  ...   \n",
       "1241              27.0           149.0   25         NaN      Воронеж  ...   \n",
       "1990              10.0            45.0   53         NaN       Курган  ...   \n",
       "1028              32.0           224.0   19         NaN       Самара  ...   \n",
       "2288              12.0             NaN   43  2018-11-16       Москва  ...   \n",
       "847               18.0            21.0   64         NaN  Архангельск  ...   \n",
       "645               21.0            34.0   28         NaN       Москва  ...   \n",
       "2112              19.0            16.0   42         NaN      Вологда  ...   \n",
       "\n",
       "     mb_per_month_included minutes_included rub_monthly_fee rub_per_gb  \\\n",
       "1709                 15360              500             550        200   \n",
       "1124                 15360              500             550        200   \n",
       "2400                 30720             3000            1950        150   \n",
       "1241                 30720             3000            1950        150   \n",
       "1990                 30720             3000            1950        150   \n",
       "1028                 30720             3000            1950        150   \n",
       "2288                 30720             3000            1950        150   \n",
       "847                  15360              500             550        200   \n",
       "645                  15360              500             550        200   \n",
       "2112                 15360              500             550        200   \n",
       "\n",
       "      rub_per_message  rub_per_minute  calls_over  internet_over  \\\n",
       "1709                3               3       -61.0            7.0   \n",
       "1124                3               3        32.0           -3.0   \n",
       "2400                1               1     -2327.0           -3.0   \n",
       "1241                1               1     -1931.0           -3.0   \n",
       "1990                1               1     -2328.0          -20.0   \n",
       "1028                1               1     -2722.0            2.0   \n",
       "2288                1               1     -2682.0          -18.0   \n",
       "847                 3               3       154.0            3.0   \n",
       "645                 3               3      -138.0            6.0   \n",
       "2112                3               3      -312.0            4.0   \n",
       "\n",
       "      messages_over  gb_per_month_included  \n",
       "1709           16.0                   15.0  \n",
       "1124          -31.0                   15.0  \n",
       "2400         -971.0                   30.0  \n",
       "1241         -851.0                   30.0  \n",
       "1990         -955.0                   30.0  \n",
       "1028         -776.0                   30.0  \n",
       "2288            NaN                   30.0  \n",
       "847           -29.0                   15.0  \n",
       "645           -16.0                   15.0  \n",
       "2112          -34.0                   15.0  \n",
       "\n",
       "[10 rows x 25 columns]"
      ]
     },
     "metadata": {},
     "output_type": "display_data"
    }
   ],
   "source": [
    "data['calls_over'] =  data['sum_minutes'] - data['minutes_included']\n",
    "data['internet_over'] =  data['count_gb_traffic'] - (data['mb_per_month_included'] / 1024)\n",
    "data['messages_over'] =  data['count_messages'] - data['messages_included'] \n",
    "data['gb_per_month_included'] = data['mb_per_month_included'] / 1024\n",
    "display(data.sample(10))"
   ]
  },
  {
   "cell_type": "markdown",
   "metadata": {},
   "source": [
    "Не думаю, что отрицательные значения, в данном случае являются проблемой. Скорее всего, это как-раз перерасход пакета услуг."
   ]
  },
  {
   "cell_type": "markdown",
   "metadata": {},
   "source": [
    "Для расчета ежемесячного дохода по каждому пользователю попробую объединить несколько идентичных расчетов в функцию. Для этого, будет создано 3 локальных переменных (неиспользованные показатели по звонкам, сообщениям и траффику).\n",
    "Идея такая: если был факт перерасхода (т.е. рассчитанные на прошлом шаге) столбцы имеют значение больше нуля, то умножаем значение столбцов с перерасходом на соответствующий тариф по минутам/сообщениям/ГБ сверх пакета услуг. Затем, складываем полученные результаты и добавим итоги подсчета в новый столбец."
   ]
  },
  {
   "cell_type": "code",
   "execution_count": 26,
   "metadata": {},
   "outputs": [],
   "source": [
    "def get_revenue(row):\n",
    "    remains_calls = 0\n",
    "    remains_messages = 0\n",
    "    remains_internet = 0\n",
    "    if row['calls_over'] > 0:\n",
    "        remains_calls = row['calls_over'] * row['rub_per_minute']\n",
    "    if row['messages_over'] > 0:\n",
    "        remains_messages = row['messages_over'] * row['rub_per_message']\n",
    "    if row['internet_over'] > 0:\n",
    "        remains_internet = (row['internet_over']) * row['rub_per_gb']\n",
    "    return remains_calls + remains_messages + remains_internet\n",
    "\n",
    "data['remains_pack'] = data.apply(get_revenue, axis=1)"
   ]
  },
  {
   "cell_type": "code",
   "execution_count": 27,
   "metadata": {},
   "outputs": [
    {
     "data": {
      "text/html": [
       "<div>\n",
       "<style scoped>\n",
       "    .dataframe tbody tr th:only-of-type {\n",
       "        vertical-align: middle;\n",
       "    }\n",
       "\n",
       "    .dataframe tbody tr th {\n",
       "        vertical-align: top;\n",
       "    }\n",
       "\n",
       "    .dataframe thead th {\n",
       "        text-align: right;\n",
       "    }\n",
       "</style>\n",
       "<table border=\"1\" class=\"dataframe\">\n",
       "  <thead>\n",
       "    <tr style=\"text-align: right;\">\n",
       "      <th></th>\n",
       "      <th>user_id</th>\n",
       "      <th>month</th>\n",
       "      <th>count_calls</th>\n",
       "      <th>sum_minutes</th>\n",
       "      <th>count_mb_traffic</th>\n",
       "      <th>count_gb_traffic</th>\n",
       "      <th>count_messages</th>\n",
       "      <th>age</th>\n",
       "      <th>churn_date</th>\n",
       "      <th>city</th>\n",
       "      <th>...</th>\n",
       "      <th>minutes_included</th>\n",
       "      <th>rub_monthly_fee</th>\n",
       "      <th>rub_per_gb</th>\n",
       "      <th>rub_per_message</th>\n",
       "      <th>rub_per_minute</th>\n",
       "      <th>calls_over</th>\n",
       "      <th>internet_over</th>\n",
       "      <th>messages_over</th>\n",
       "      <th>gb_per_month_included</th>\n",
       "      <th>remains_pack</th>\n",
       "    </tr>\n",
       "  </thead>\n",
       "  <tbody>\n",
       "    <tr>\n",
       "      <th>2555</th>\n",
       "      <td>1402</td>\n",
       "      <td>11</td>\n",
       "      <td>104.0</td>\n",
       "      <td>742.0</td>\n",
       "      <td>19691.86</td>\n",
       "      <td>20.0</td>\n",
       "      <td>25.0</td>\n",
       "      <td>23</td>\n",
       "      <td>NaN</td>\n",
       "      <td>Пенза</td>\n",
       "      <td>...</td>\n",
       "      <td>3000</td>\n",
       "      <td>1950</td>\n",
       "      <td>150</td>\n",
       "      <td>1</td>\n",
       "      <td>1</td>\n",
       "      <td>-2258.0</td>\n",
       "      <td>-10.0</td>\n",
       "      <td>-975.0</td>\n",
       "      <td>30.0</td>\n",
       "      <td>0.0</td>\n",
       "    </tr>\n",
       "    <tr>\n",
       "      <th>690</th>\n",
       "      <td>1111</td>\n",
       "      <td>11</td>\n",
       "      <td>53.0</td>\n",
       "      <td>347.0</td>\n",
       "      <td>11397.37</td>\n",
       "      <td>12.0</td>\n",
       "      <td>2.0</td>\n",
       "      <td>43</td>\n",
       "      <td>NaN</td>\n",
       "      <td>Казань</td>\n",
       "      <td>...</td>\n",
       "      <td>500</td>\n",
       "      <td>550</td>\n",
       "      <td>200</td>\n",
       "      <td>3</td>\n",
       "      <td>3</td>\n",
       "      <td>-153.0</td>\n",
       "      <td>-3.0</td>\n",
       "      <td>-48.0</td>\n",
       "      <td>15.0</td>\n",
       "      <td>0.0</td>\n",
       "    </tr>\n",
       "    <tr>\n",
       "      <th>319</th>\n",
       "      <td>1051</td>\n",
       "      <td>9</td>\n",
       "      <td>55.0</td>\n",
       "      <td>311.0</td>\n",
       "      <td>14288.08</td>\n",
       "      <td>14.0</td>\n",
       "      <td>6.0</td>\n",
       "      <td>37</td>\n",
       "      <td>2018-10-14</td>\n",
       "      <td>Москва</td>\n",
       "      <td>...</td>\n",
       "      <td>500</td>\n",
       "      <td>550</td>\n",
       "      <td>200</td>\n",
       "      <td>3</td>\n",
       "      <td>3</td>\n",
       "      <td>-189.0</td>\n",
       "      <td>-1.0</td>\n",
       "      <td>-44.0</td>\n",
       "      <td>15.0</td>\n",
       "      <td>0.0</td>\n",
       "    </tr>\n",
       "    <tr>\n",
       "      <th>1131</th>\n",
       "      <td>1179</td>\n",
       "      <td>5</td>\n",
       "      <td>66.0</td>\n",
       "      <td>532.0</td>\n",
       "      <td>12403.91</td>\n",
       "      <td>13.0</td>\n",
       "      <td>NaN</td>\n",
       "      <td>43</td>\n",
       "      <td>NaN</td>\n",
       "      <td>Вологда</td>\n",
       "      <td>...</td>\n",
       "      <td>500</td>\n",
       "      <td>550</td>\n",
       "      <td>200</td>\n",
       "      <td>3</td>\n",
       "      <td>3</td>\n",
       "      <td>32.0</td>\n",
       "      <td>-2.0</td>\n",
       "      <td>NaN</td>\n",
       "      <td>15.0</td>\n",
       "      <td>96.0</td>\n",
       "    </tr>\n",
       "    <tr>\n",
       "      <th>667</th>\n",
       "      <td>1107</td>\n",
       "      <td>11</td>\n",
       "      <td>33.0</td>\n",
       "      <td>224.0</td>\n",
       "      <td>22527.34</td>\n",
       "      <td>22.0</td>\n",
       "      <td>NaN</td>\n",
       "      <td>45</td>\n",
       "      <td>NaN</td>\n",
       "      <td>Орёл</td>\n",
       "      <td>...</td>\n",
       "      <td>500</td>\n",
       "      <td>550</td>\n",
       "      <td>200</td>\n",
       "      <td>3</td>\n",
       "      <td>3</td>\n",
       "      <td>-276.0</td>\n",
       "      <td>7.0</td>\n",
       "      <td>NaN</td>\n",
       "      <td>15.0</td>\n",
       "      <td>1400.0</td>\n",
       "    </tr>\n",
       "    <tr>\n",
       "      <th>54</th>\n",
       "      <td>1007</td>\n",
       "      <td>5</td>\n",
       "      <td>67.0</td>\n",
       "      <td>480.0</td>\n",
       "      <td>17687.27</td>\n",
       "      <td>18.0</td>\n",
       "      <td>39.0</td>\n",
       "      <td>65</td>\n",
       "      <td>NaN</td>\n",
       "      <td>Москва</td>\n",
       "      <td>...</td>\n",
       "      <td>500</td>\n",
       "      <td>550</td>\n",
       "      <td>200</td>\n",
       "      <td>3</td>\n",
       "      <td>3</td>\n",
       "      <td>-20.0</td>\n",
       "      <td>3.0</td>\n",
       "      <td>-11.0</td>\n",
       "      <td>15.0</td>\n",
       "      <td>600.0</td>\n",
       "    </tr>\n",
       "    <tr>\n",
       "      <th>2052</th>\n",
       "      <td>1327</td>\n",
       "      <td>8</td>\n",
       "      <td>67.0</td>\n",
       "      <td>510.0</td>\n",
       "      <td>15961.84</td>\n",
       "      <td>16.0</td>\n",
       "      <td>38.0</td>\n",
       "      <td>45</td>\n",
       "      <td>NaN</td>\n",
       "      <td>Новороссийск</td>\n",
       "      <td>...</td>\n",
       "      <td>500</td>\n",
       "      <td>550</td>\n",
       "      <td>200</td>\n",
       "      <td>3</td>\n",
       "      <td>3</td>\n",
       "      <td>10.0</td>\n",
       "      <td>1.0</td>\n",
       "      <td>-12.0</td>\n",
       "      <td>15.0</td>\n",
       "      <td>230.0</td>\n",
       "    </tr>\n",
       "    <tr>\n",
       "      <th>2284</th>\n",
       "      <td>1366</td>\n",
       "      <td>9</td>\n",
       "      <td>27.0</td>\n",
       "      <td>155.0</td>\n",
       "      <td>7545.00</td>\n",
       "      <td>8.0</td>\n",
       "      <td>39.0</td>\n",
       "      <td>43</td>\n",
       "      <td>NaN</td>\n",
       "      <td>Санкт-Петербург</td>\n",
       "      <td>...</td>\n",
       "      <td>500</td>\n",
       "      <td>550</td>\n",
       "      <td>200</td>\n",
       "      <td>3</td>\n",
       "      <td>3</td>\n",
       "      <td>-345.0</td>\n",
       "      <td>-7.0</td>\n",
       "      <td>-11.0</td>\n",
       "      <td>15.0</td>\n",
       "      <td>0.0</td>\n",
       "    </tr>\n",
       "    <tr>\n",
       "      <th>1643</th>\n",
       "      <td>1264</td>\n",
       "      <td>5</td>\n",
       "      <td>59.0</td>\n",
       "      <td>341.0</td>\n",
       "      <td>18220.49</td>\n",
       "      <td>18.0</td>\n",
       "      <td>18.0</td>\n",
       "      <td>47</td>\n",
       "      <td>NaN</td>\n",
       "      <td>Хабаровск</td>\n",
       "      <td>...</td>\n",
       "      <td>500</td>\n",
       "      <td>550</td>\n",
       "      <td>200</td>\n",
       "      <td>3</td>\n",
       "      <td>3</td>\n",
       "      <td>-159.0</td>\n",
       "      <td>3.0</td>\n",
       "      <td>-32.0</td>\n",
       "      <td>15.0</td>\n",
       "      <td>600.0</td>\n",
       "    </tr>\n",
       "    <tr>\n",
       "      <th>774</th>\n",
       "      <td>1123</td>\n",
       "      <td>6</td>\n",
       "      <td>79.0</td>\n",
       "      <td>476.0</td>\n",
       "      <td>20220.96</td>\n",
       "      <td>20.0</td>\n",
       "      <td>16.0</td>\n",
       "      <td>74</td>\n",
       "      <td>NaN</td>\n",
       "      <td>Краснодар</td>\n",
       "      <td>...</td>\n",
       "      <td>500</td>\n",
       "      <td>550</td>\n",
       "      <td>200</td>\n",
       "      <td>3</td>\n",
       "      <td>3</td>\n",
       "      <td>-24.0</td>\n",
       "      <td>5.0</td>\n",
       "      <td>-34.0</td>\n",
       "      <td>15.0</td>\n",
       "      <td>1000.0</td>\n",
       "    </tr>\n",
       "  </tbody>\n",
       "</table>\n",
       "<p>10 rows × 26 columns</p>\n",
       "</div>"
      ],
      "text/plain": [
       "      user_id  month  count_calls  sum_minutes  count_mb_traffic  \\\n",
       "2555     1402     11        104.0        742.0          19691.86   \n",
       "690      1111     11         53.0        347.0          11397.37   \n",
       "319      1051      9         55.0        311.0          14288.08   \n",
       "1131     1179      5         66.0        532.0          12403.91   \n",
       "667      1107     11         33.0        224.0          22527.34   \n",
       "54       1007      5         67.0        480.0          17687.27   \n",
       "2052     1327      8         67.0        510.0          15961.84   \n",
       "2284     1366      9         27.0        155.0           7545.00   \n",
       "1643     1264      5         59.0        341.0          18220.49   \n",
       "774      1123      6         79.0        476.0          20220.96   \n",
       "\n",
       "      count_gb_traffic  count_messages  age  churn_date             city  ...  \\\n",
       "2555              20.0            25.0   23         NaN            Пенза  ...   \n",
       "690               12.0             2.0   43         NaN           Казань  ...   \n",
       "319               14.0             6.0   37  2018-10-14           Москва  ...   \n",
       "1131              13.0             NaN   43         NaN          Вологда  ...   \n",
       "667               22.0             NaN   45         NaN             Орёл  ...   \n",
       "54                18.0            39.0   65         NaN           Москва  ...   \n",
       "2052              16.0            38.0   45         NaN     Новороссийск  ...   \n",
       "2284               8.0            39.0   43         NaN  Санкт-Петербург  ...   \n",
       "1643              18.0            18.0   47         NaN        Хабаровск  ...   \n",
       "774               20.0            16.0   74         NaN        Краснодар  ...   \n",
       "\n",
       "     minutes_included rub_monthly_fee rub_per_gb rub_per_message  \\\n",
       "2555             3000            1950        150               1   \n",
       "690               500             550        200               3   \n",
       "319               500             550        200               3   \n",
       "1131              500             550        200               3   \n",
       "667               500             550        200               3   \n",
       "54                500             550        200               3   \n",
       "2052              500             550        200               3   \n",
       "2284              500             550        200               3   \n",
       "1643              500             550        200               3   \n",
       "774               500             550        200               3   \n",
       "\n",
       "      rub_per_minute  calls_over  internet_over  messages_over  \\\n",
       "2555               1     -2258.0          -10.0         -975.0   \n",
       "690                3      -153.0           -3.0          -48.0   \n",
       "319                3      -189.0           -1.0          -44.0   \n",
       "1131               3        32.0           -2.0            NaN   \n",
       "667                3      -276.0            7.0            NaN   \n",
       "54                 3       -20.0            3.0          -11.0   \n",
       "2052               3        10.0            1.0          -12.0   \n",
       "2284               3      -345.0           -7.0          -11.0   \n",
       "1643               3      -159.0            3.0          -32.0   \n",
       "774                3       -24.0            5.0          -34.0   \n",
       "\n",
       "      gb_per_month_included  remains_pack  \n",
       "2555                   30.0           0.0  \n",
       "690                    15.0           0.0  \n",
       "319                    15.0           0.0  \n",
       "1131                   15.0          96.0  \n",
       "667                    15.0        1400.0  \n",
       "54                     15.0         600.0  \n",
       "2052                   15.0         230.0  \n",
       "2284                   15.0           0.0  \n",
       "1643                   15.0         600.0  \n",
       "774                    15.0        1000.0  \n",
       "\n",
       "[10 rows x 26 columns]"
      ]
     },
     "metadata": {},
     "output_type": "display_data"
    }
   ],
   "source": [
    "display(data.sample(10))"
   ]
  },
  {
   "cell_type": "markdown",
   "metadata": {},
   "source": [
    "Теперь новый столбец содержит данные о расходах мобильной связи сверх пакета и, соответственно, факт приобретения дополнительных услуг, полученную оператором. Если там нули - значит клиент не переплачивал и уложился в базовый пакет."
   ]
  },
  {
   "cell_type": "markdown",
   "metadata": {},
   "source": [
    "Найдем сумму полученных денег от каждого клиента, путем сложения доплат за услуги сверх тарифа и оплаты тарифного плана"
   ]
  },
  {
   "cell_type": "markdown",
   "metadata": {},
   "source": [
    "### Определение прибыли, полученной от каждого клиента"
   ]
  },
  {
   "cell_type": "code",
   "execution_count": 28,
   "metadata": {},
   "outputs": [
    {
     "data": {
      "text/html": [
       "<div>\n",
       "<style scoped>\n",
       "    .dataframe tbody tr th:only-of-type {\n",
       "        vertical-align: middle;\n",
       "    }\n",
       "\n",
       "    .dataframe tbody tr th {\n",
       "        vertical-align: top;\n",
       "    }\n",
       "\n",
       "    .dataframe thead th {\n",
       "        text-align: right;\n",
       "    }\n",
       "</style>\n",
       "<table border=\"1\" class=\"dataframe\">\n",
       "  <thead>\n",
       "    <tr style=\"text-align: right;\">\n",
       "      <th></th>\n",
       "      <th>user_id</th>\n",
       "      <th>month</th>\n",
       "      <th>count_calls</th>\n",
       "      <th>sum_minutes</th>\n",
       "      <th>count_mb_traffic</th>\n",
       "      <th>count_gb_traffic</th>\n",
       "      <th>count_messages</th>\n",
       "      <th>age</th>\n",
       "      <th>churn_date</th>\n",
       "      <th>city</th>\n",
       "      <th>...</th>\n",
       "      <th>rub_monthly_fee</th>\n",
       "      <th>rub_per_gb</th>\n",
       "      <th>rub_per_message</th>\n",
       "      <th>rub_per_minute</th>\n",
       "      <th>calls_over</th>\n",
       "      <th>internet_over</th>\n",
       "      <th>messages_over</th>\n",
       "      <th>gb_per_month_included</th>\n",
       "      <th>remains_pack</th>\n",
       "      <th>remains_all</th>\n",
       "    </tr>\n",
       "  </thead>\n",
       "  <tbody>\n",
       "    <tr>\n",
       "      <th>0</th>\n",
       "      <td>1000</td>\n",
       "      <td>5</td>\n",
       "      <td>22.0</td>\n",
       "      <td>159.0</td>\n",
       "      <td>2253.49</td>\n",
       "      <td>3.0</td>\n",
       "      <td>22.0</td>\n",
       "      <td>52</td>\n",
       "      <td>NaN</td>\n",
       "      <td>Краснодар</td>\n",
       "      <td>...</td>\n",
       "      <td>1950</td>\n",
       "      <td>150</td>\n",
       "      <td>1</td>\n",
       "      <td>1</td>\n",
       "      <td>-2841.0</td>\n",
       "      <td>-27.0</td>\n",
       "      <td>-978.0</td>\n",
       "      <td>30.0</td>\n",
       "      <td>0.0</td>\n",
       "      <td>1950</td>\n",
       "    </tr>\n",
       "    <tr>\n",
       "      <th>1</th>\n",
       "      <td>1000</td>\n",
       "      <td>6</td>\n",
       "      <td>43.0</td>\n",
       "      <td>172.0</td>\n",
       "      <td>23233.77</td>\n",
       "      <td>23.0</td>\n",
       "      <td>60.0</td>\n",
       "      <td>52</td>\n",
       "      <td>NaN</td>\n",
       "      <td>Краснодар</td>\n",
       "      <td>...</td>\n",
       "      <td>1950</td>\n",
       "      <td>150</td>\n",
       "      <td>1</td>\n",
       "      <td>1</td>\n",
       "      <td>-2828.0</td>\n",
       "      <td>-7.0</td>\n",
       "      <td>-940.0</td>\n",
       "      <td>30.0</td>\n",
       "      <td>0.0</td>\n",
       "      <td>1950</td>\n",
       "    </tr>\n",
       "    <tr>\n",
       "      <th>2</th>\n",
       "      <td>1000</td>\n",
       "      <td>7</td>\n",
       "      <td>47.0</td>\n",
       "      <td>340.0</td>\n",
       "      <td>14003.64</td>\n",
       "      <td>14.0</td>\n",
       "      <td>75.0</td>\n",
       "      <td>52</td>\n",
       "      <td>NaN</td>\n",
       "      <td>Краснодар</td>\n",
       "      <td>...</td>\n",
       "      <td>1950</td>\n",
       "      <td>150</td>\n",
       "      <td>1</td>\n",
       "      <td>1</td>\n",
       "      <td>-2660.0</td>\n",
       "      <td>-16.0</td>\n",
       "      <td>-925.0</td>\n",
       "      <td>30.0</td>\n",
       "      <td>0.0</td>\n",
       "      <td>1950</td>\n",
       "    </tr>\n",
       "    <tr>\n",
       "      <th>3</th>\n",
       "      <td>1000</td>\n",
       "      <td>8</td>\n",
       "      <td>52.0</td>\n",
       "      <td>408.0</td>\n",
       "      <td>14055.93</td>\n",
       "      <td>14.0</td>\n",
       "      <td>81.0</td>\n",
       "      <td>52</td>\n",
       "      <td>NaN</td>\n",
       "      <td>Краснодар</td>\n",
       "      <td>...</td>\n",
       "      <td>1950</td>\n",
       "      <td>150</td>\n",
       "      <td>1</td>\n",
       "      <td>1</td>\n",
       "      <td>-2592.0</td>\n",
       "      <td>-16.0</td>\n",
       "      <td>-919.0</td>\n",
       "      <td>30.0</td>\n",
       "      <td>0.0</td>\n",
       "      <td>1950</td>\n",
       "    </tr>\n",
       "    <tr>\n",
       "      <th>4</th>\n",
       "      <td>1000</td>\n",
       "      <td>9</td>\n",
       "      <td>58.0</td>\n",
       "      <td>466.0</td>\n",
       "      <td>14568.91</td>\n",
       "      <td>15.0</td>\n",
       "      <td>57.0</td>\n",
       "      <td>52</td>\n",
       "      <td>NaN</td>\n",
       "      <td>Краснодар</td>\n",
       "      <td>...</td>\n",
       "      <td>1950</td>\n",
       "      <td>150</td>\n",
       "      <td>1</td>\n",
       "      <td>1</td>\n",
       "      <td>-2534.0</td>\n",
       "      <td>-15.0</td>\n",
       "      <td>-943.0</td>\n",
       "      <td>30.0</td>\n",
       "      <td>0.0</td>\n",
       "      <td>1950</td>\n",
       "    </tr>\n",
       "    <tr>\n",
       "      <th>...</th>\n",
       "      <td>...</td>\n",
       "      <td>...</td>\n",
       "      <td>...</td>\n",
       "      <td>...</td>\n",
       "      <td>...</td>\n",
       "      <td>...</td>\n",
       "      <td>...</td>\n",
       "      <td>...</td>\n",
       "      <td>...</td>\n",
       "      <td>...</td>\n",
       "      <td>...</td>\n",
       "      <td>...</td>\n",
       "      <td>...</td>\n",
       "      <td>...</td>\n",
       "      <td>...</td>\n",
       "      <td>...</td>\n",
       "      <td>...</td>\n",
       "      <td>...</td>\n",
       "      <td>...</td>\n",
       "      <td>...</td>\n",
       "      <td>...</td>\n",
       "    </tr>\n",
       "    <tr>\n",
       "      <th>3209</th>\n",
       "      <td>1489</td>\n",
       "      <td>8</td>\n",
       "      <td>NaN</td>\n",
       "      <td>NaN</td>\n",
       "      <td>11050.56</td>\n",
       "      <td>11.0</td>\n",
       "      <td>17.0</td>\n",
       "      <td>35</td>\n",
       "      <td>NaN</td>\n",
       "      <td>Санкт-Петербург</td>\n",
       "      <td>...</td>\n",
       "      <td>550</td>\n",
       "      <td>200</td>\n",
       "      <td>3</td>\n",
       "      <td>3</td>\n",
       "      <td>NaN</td>\n",
       "      <td>-4.0</td>\n",
       "      <td>-33.0</td>\n",
       "      <td>15.0</td>\n",
       "      <td>0.0</td>\n",
       "      <td>550</td>\n",
       "    </tr>\n",
       "    <tr>\n",
       "      <th>3210</th>\n",
       "      <td>1489</td>\n",
       "      <td>9</td>\n",
       "      <td>NaN</td>\n",
       "      <td>NaN</td>\n",
       "      <td>17206.30</td>\n",
       "      <td>17.0</td>\n",
       "      <td>32.0</td>\n",
       "      <td>35</td>\n",
       "      <td>NaN</td>\n",
       "      <td>Санкт-Петербург</td>\n",
       "      <td>...</td>\n",
       "      <td>550</td>\n",
       "      <td>200</td>\n",
       "      <td>3</td>\n",
       "      <td>3</td>\n",
       "      <td>NaN</td>\n",
       "      <td>2.0</td>\n",
       "      <td>-18.0</td>\n",
       "      <td>15.0</td>\n",
       "      <td>400.0</td>\n",
       "      <td>950</td>\n",
       "    </tr>\n",
       "    <tr>\n",
       "      <th>3211</th>\n",
       "      <td>1489</td>\n",
       "      <td>10</td>\n",
       "      <td>NaN</td>\n",
       "      <td>NaN</td>\n",
       "      <td>19559.44</td>\n",
       "      <td>20.0</td>\n",
       "      <td>21.0</td>\n",
       "      <td>35</td>\n",
       "      <td>NaN</td>\n",
       "      <td>Санкт-Петербург</td>\n",
       "      <td>...</td>\n",
       "      <td>550</td>\n",
       "      <td>200</td>\n",
       "      <td>3</td>\n",
       "      <td>3</td>\n",
       "      <td>NaN</td>\n",
       "      <td>5.0</td>\n",
       "      <td>-29.0</td>\n",
       "      <td>15.0</td>\n",
       "      <td>1000.0</td>\n",
       "      <td>1550</td>\n",
       "    </tr>\n",
       "    <tr>\n",
       "      <th>3212</th>\n",
       "      <td>1489</td>\n",
       "      <td>11</td>\n",
       "      <td>NaN</td>\n",
       "      <td>NaN</td>\n",
       "      <td>17491.56</td>\n",
       "      <td>18.0</td>\n",
       "      <td>20.0</td>\n",
       "      <td>35</td>\n",
       "      <td>NaN</td>\n",
       "      <td>Санкт-Петербург</td>\n",
       "      <td>...</td>\n",
       "      <td>550</td>\n",
       "      <td>200</td>\n",
       "      <td>3</td>\n",
       "      <td>3</td>\n",
       "      <td>NaN</td>\n",
       "      <td>3.0</td>\n",
       "      <td>-30.0</td>\n",
       "      <td>15.0</td>\n",
       "      <td>600.0</td>\n",
       "      <td>1150</td>\n",
       "    </tr>\n",
       "    <tr>\n",
       "      <th>3213</th>\n",
       "      <td>1489</td>\n",
       "      <td>12</td>\n",
       "      <td>NaN</td>\n",
       "      <td>NaN</td>\n",
       "      <td>17322.51</td>\n",
       "      <td>17.0</td>\n",
       "      <td>35.0</td>\n",
       "      <td>35</td>\n",
       "      <td>NaN</td>\n",
       "      <td>Санкт-Петербург</td>\n",
       "      <td>...</td>\n",
       "      <td>550</td>\n",
       "      <td>200</td>\n",
       "      <td>3</td>\n",
       "      <td>3</td>\n",
       "      <td>NaN</td>\n",
       "      <td>2.0</td>\n",
       "      <td>-15.0</td>\n",
       "      <td>15.0</td>\n",
       "      <td>400.0</td>\n",
       "      <td>950</td>\n",
       "    </tr>\n",
       "  </tbody>\n",
       "</table>\n",
       "<p>3214 rows × 27 columns</p>\n",
       "</div>"
      ],
      "text/plain": [
       "      user_id  month  count_calls  sum_minutes  count_mb_traffic  \\\n",
       "0        1000      5         22.0        159.0           2253.49   \n",
       "1        1000      6         43.0        172.0          23233.77   \n",
       "2        1000      7         47.0        340.0          14003.64   \n",
       "3        1000      8         52.0        408.0          14055.93   \n",
       "4        1000      9         58.0        466.0          14568.91   \n",
       "...       ...    ...          ...          ...               ...   \n",
       "3209     1489      8          NaN          NaN          11050.56   \n",
       "3210     1489      9          NaN          NaN          17206.30   \n",
       "3211     1489     10          NaN          NaN          19559.44   \n",
       "3212     1489     11          NaN          NaN          17491.56   \n",
       "3213     1489     12          NaN          NaN          17322.51   \n",
       "\n",
       "      count_gb_traffic  count_messages  age churn_date             city  ...  \\\n",
       "0                  3.0            22.0   52        NaN        Краснодар  ...   \n",
       "1                 23.0            60.0   52        NaN        Краснодар  ...   \n",
       "2                 14.0            75.0   52        NaN        Краснодар  ...   \n",
       "3                 14.0            81.0   52        NaN        Краснодар  ...   \n",
       "4                 15.0            57.0   52        NaN        Краснодар  ...   \n",
       "...                ...             ...  ...        ...              ...  ...   \n",
       "3209              11.0            17.0   35        NaN  Санкт-Петербург  ...   \n",
       "3210              17.0            32.0   35        NaN  Санкт-Петербург  ...   \n",
       "3211              20.0            21.0   35        NaN  Санкт-Петербург  ...   \n",
       "3212              18.0            20.0   35        NaN  Санкт-Петербург  ...   \n",
       "3213              17.0            35.0   35        NaN  Санкт-Петербург  ...   \n",
       "\n",
       "     rub_monthly_fee rub_per_gb rub_per_message rub_per_minute  calls_over  \\\n",
       "0               1950        150               1              1     -2841.0   \n",
       "1               1950        150               1              1     -2828.0   \n",
       "2               1950        150               1              1     -2660.0   \n",
       "3               1950        150               1              1     -2592.0   \n",
       "4               1950        150               1              1     -2534.0   \n",
       "...              ...        ...             ...            ...         ...   \n",
       "3209             550        200               3              3         NaN   \n",
       "3210             550        200               3              3         NaN   \n",
       "3211             550        200               3              3         NaN   \n",
       "3212             550        200               3              3         NaN   \n",
       "3213             550        200               3              3         NaN   \n",
       "\n",
       "      internet_over  messages_over  gb_per_month_included  remains_pack  \\\n",
       "0             -27.0         -978.0                   30.0           0.0   \n",
       "1              -7.0         -940.0                   30.0           0.0   \n",
       "2             -16.0         -925.0                   30.0           0.0   \n",
       "3             -16.0         -919.0                   30.0           0.0   \n",
       "4             -15.0         -943.0                   30.0           0.0   \n",
       "...             ...            ...                    ...           ...   \n",
       "3209           -4.0          -33.0                   15.0           0.0   \n",
       "3210            2.0          -18.0                   15.0         400.0   \n",
       "3211            5.0          -29.0                   15.0        1000.0   \n",
       "3212            3.0          -30.0                   15.0         600.0   \n",
       "3213            2.0          -15.0                   15.0         400.0   \n",
       "\n",
       "      remains_all  \n",
       "0            1950  \n",
       "1            1950  \n",
       "2            1950  \n",
       "3            1950  \n",
       "4            1950  \n",
       "...           ...  \n",
       "3209          550  \n",
       "3210          950  \n",
       "3211         1550  \n",
       "3212         1150  \n",
       "3213          950  \n",
       "\n",
       "[3214 rows x 27 columns]"
      ]
     },
     "metadata": {},
     "output_type": "display_data"
    }
   ],
   "source": [
    "data['remains_all'] = data['remains_pack'] + data['rub_monthly_fee']\n",
    "data['remains_all'] = data['remains_all'].astype('int')\n",
    "display(data)"
   ]
  },
  {
   "cell_type": "markdown",
   "metadata": {},
   "source": [
    "Резюмируем итоги расчета выводом \"заключения\": тратит ли большинство пользователей ресурсы сверх приобретенного пакета или же они \"укладываются\" и не являются дополнительным источником прибыли?"
   ]
  },
  {
   "cell_type": "markdown",
   "metadata": {},
   "source": [
    "### Установление факта, многим ли клиентам нужно приобретать дополнительные ресурсы"
   ]
  },
  {
   "cell_type": "markdown",
   "metadata": {},
   "source": [
    "Описание решения:\n",
    "- создать новую таблицу с нужными значениями\n",
    "- добавить столбец с дополнительной прибылью (profit_plus), получилась немного обратная операция расчету на прошлом шаге, зато можно проверить себя\n",
    "- создать столбец с результатом логического выражения, который будет содержать True, если клиент покупал дополнительные ресурсы, а False, если не покупал. Кому-то это может быть проще и быстрее, чем высматривать нули\n",
    "- посчитать количество значений по срезам значений, где дополнительная прибыль равна нулю и где-то она не равна нулю и сравнить их"
   ]
  },
  {
   "cell_type": "code",
   "execution_count": 29,
   "metadata": {},
   "outputs": [
    {
     "data": {
      "text/html": [
       "<div>\n",
       "<style scoped>\n",
       "    .dataframe tbody tr th:only-of-type {\n",
       "        vertical-align: middle;\n",
       "    }\n",
       "\n",
       "    .dataframe tbody tr th {\n",
       "        vertical-align: top;\n",
       "    }\n",
       "\n",
       "    .dataframe thead th {\n",
       "        text-align: right;\n",
       "    }\n",
       "</style>\n",
       "<table border=\"1\" class=\"dataframe\">\n",
       "  <thead>\n",
       "    <tr style=\"text-align: right;\">\n",
       "      <th></th>\n",
       "      <th>user_id</th>\n",
       "      <th>tariff</th>\n",
       "      <th>city</th>\n",
       "      <th>rub_monthly_fee</th>\n",
       "      <th>remains_all</th>\n",
       "      <th>profit_plus</th>\n",
       "      <th>compare</th>\n",
       "    </tr>\n",
       "  </thead>\n",
       "  <tbody>\n",
       "    <tr>\n",
       "      <th>0</th>\n",
       "      <td>1000</td>\n",
       "      <td>ultra</td>\n",
       "      <td>Краснодар</td>\n",
       "      <td>1950</td>\n",
       "      <td>1950</td>\n",
       "      <td>0</td>\n",
       "      <td>False</td>\n",
       "    </tr>\n",
       "    <tr>\n",
       "      <th>1</th>\n",
       "      <td>1001</td>\n",
       "      <td>smart</td>\n",
       "      <td>Москва</td>\n",
       "      <td>550</td>\n",
       "      <td>850</td>\n",
       "      <td>300</td>\n",
       "      <td>True</td>\n",
       "    </tr>\n",
       "    <tr>\n",
       "      <th>2</th>\n",
       "      <td>1002</td>\n",
       "      <td>smart</td>\n",
       "      <td>Стерлитамак</td>\n",
       "      <td>550</td>\n",
       "      <td>1035</td>\n",
       "      <td>485</td>\n",
       "      <td>True</td>\n",
       "    </tr>\n",
       "    <tr>\n",
       "      <th>3</th>\n",
       "      <td>1003</td>\n",
       "      <td>ultra</td>\n",
       "      <td>Москва</td>\n",
       "      <td>1950</td>\n",
       "      <td>1950</td>\n",
       "      <td>0</td>\n",
       "      <td>False</td>\n",
       "    </tr>\n",
       "    <tr>\n",
       "      <th>4</th>\n",
       "      <td>1004</td>\n",
       "      <td>ultra</td>\n",
       "      <td>Новокузнецк</td>\n",
       "      <td>1950</td>\n",
       "      <td>1950</td>\n",
       "      <td>0</td>\n",
       "      <td>False</td>\n",
       "    </tr>\n",
       "    <tr>\n",
       "      <th>5</th>\n",
       "      <td>1005</td>\n",
       "      <td>smart</td>\n",
       "      <td>Набережные Челны</td>\n",
       "      <td>550</td>\n",
       "      <td>827</td>\n",
       "      <td>277</td>\n",
       "      <td>True</td>\n",
       "    </tr>\n",
       "    <tr>\n",
       "      <th>6</th>\n",
       "      <td>1006</td>\n",
       "      <td>smart</td>\n",
       "      <td>Ульяновск</td>\n",
       "      <td>550</td>\n",
       "      <td>931</td>\n",
       "      <td>381</td>\n",
       "      <td>True</td>\n",
       "    </tr>\n",
       "    <tr>\n",
       "      <th>7</th>\n",
       "      <td>1007</td>\n",
       "      <td>smart</td>\n",
       "      <td>Москва</td>\n",
       "      <td>550</td>\n",
       "      <td>913</td>\n",
       "      <td>363</td>\n",
       "      <td>True</td>\n",
       "    </tr>\n",
       "    <tr>\n",
       "      <th>8</th>\n",
       "      <td>1008</td>\n",
       "      <td>smart</td>\n",
       "      <td>Челябинск</td>\n",
       "      <td>550</td>\n",
       "      <td>568</td>\n",
       "      <td>18</td>\n",
       "      <td>True</td>\n",
       "    </tr>\n",
       "    <tr>\n",
       "      <th>9</th>\n",
       "      <td>1009</td>\n",
       "      <td>smart</td>\n",
       "      <td>Пермь</td>\n",
       "      <td>550</td>\n",
       "      <td>1310</td>\n",
       "      <td>760</td>\n",
       "      <td>True</td>\n",
       "    </tr>\n",
       "  </tbody>\n",
       "</table>\n",
       "</div>"
      ],
      "text/plain": [
       "   user_id tariff              city  rub_monthly_fee  remains_all  \\\n",
       "0     1000  ultra         Краснодар             1950         1950   \n",
       "1     1001  smart            Москва              550          850   \n",
       "2     1002  smart       Стерлитамак              550         1035   \n",
       "3     1003  ultra            Москва             1950         1950   \n",
       "4     1004  ultra       Новокузнецк             1950         1950   \n",
       "5     1005  smart  Набережные Челны              550          827   \n",
       "6     1006  smart         Ульяновск              550          931   \n",
       "7     1007  smart            Москва              550          913   \n",
       "8     1008  smart         Челябинск              550          568   \n",
       "9     1009  smart             Пермь              550         1310   \n",
       "\n",
       "   profit_plus  compare  \n",
       "0            0    False  \n",
       "1          300     True  \n",
       "2          485     True  \n",
       "3            0    False  \n",
       "4            0    False  \n",
       "5          277     True  \n",
       "6          381     True  \n",
       "7          363     True  \n",
       "8           18     True  \n",
       "9          760     True  "
      ]
     },
     "metadata": {},
     "output_type": "display_data"
    }
   ],
   "source": [
    "additional_profit = data.groupby(['user_id', 'tariff', 'city', 'rub_monthly_fee'])['remains_all'].agg('mean').reset_index()\n",
    "additional_profit['remains_all'] = additional_profit['remains_all'].astype('int')\n",
    "additional_profit['profit_plus'] = additional_profit['remains_all'] - additional_profit['rub_monthly_fee']\n",
    "additional_profit['compare'] = additional_profit['remains_all'] > additional_profit['rub_monthly_fee']\n",
    "\n",
    "display(additional_profit.head(10))"
   ]
  },
  {
   "cell_type": "code",
   "execution_count": 30,
   "metadata": {},
   "outputs": [
    {
     "name": "stdout",
     "output_type": "stream",
     "text": [
      "Количество пользователей, которым достаточно базового пакета: 0\n",
      "Количество пользователей, которым недостаточно базового пакета: 498\n",
      "\n",
      "Количество пользователей, которым достаточно базового пакета меньше, чем количество пользователей, приобретающих дополнительные ресурсы\n"
     ]
    }
   ],
   "source": [
    "without_surcharges = len(additional_profit.query('profit_plus == \"0\"')) #количество пользователей без доплат\n",
    "with_surcharges = len(additional_profit.query('profit_plus != \"0\"')) #пользователи с доплатой\n",
    "\n",
    "print('Количество пользователей, которым достаточно базового пакета:', without_surcharges)\n",
    "print('Количество пользователей, которым недостаточно базового пакета:', with_surcharges)\n",
    "print()\n",
    "if without_surcharges > with_surcharges:\n",
    "    print('Количество пользователей, которым достаточно базового пакета больше, чем количество пользователей, приобретающих дополнительные ресурсы')\n",
    "else:\n",
    "    print('Количество пользователей, которым достаточно базового пакета меньше, чем количество пользователей, приобретающих дополнительные ресурсы')"
   ]
  },
  {
   "cell_type": "markdown",
   "metadata": {},
   "source": [
    "### Вывод"
   ]
  },
  {
   "cell_type": "markdown",
   "metadata": {},
   "source": [
    "Трудоемкая предобработка данных не потребовалась, т.к. ТЗ от заказчика уже содержало описание, что не всегда пропуски бывает чем-то критичным, а могут быть условным обозначением.\n",
    "\n",
    "Были рассчитаны ежемесячные показатели использования ресурсов мобильной связи по каждому пользователю, установлен факт, требуется ли клиентам приобретать дополнительные услуги.\n",
    "\n",
    "Также, созданы столбцы с показателями использования дополнительных ресурсов и посчитана суммарная прибыль с каждого клиента.\n",
    "\n",
    "**Основной вывод:** многие клиенты не укладываются в свои пакеты услуг мобильной связи и приобретают дополнительные услуги, чем приносят весомую прибыль оператору. Число таких потребителей в 3 раза больше, чем тех, кому хватает своего базового пакета."
   ]
  },
  {
   "cell_type": "markdown",
   "metadata": {},
   "source": [
    "# Шаг 3. Определение \"поведения\" в использовании клиентами ресурсов тарифного плана"
   ]
  },
  {
   "cell_type": "markdown",
   "metadata": {},
   "source": [
    "**Примерный план:**\n",
    "\n",
    "- Определить, в каком количестве расходуют ресурсы связи клиенты по каждому из тарифов (а именно, звонки, смс, траффик)\n",
    "- Для каждого из расчетов найти дисперсию, стандартное отклонение, среднее значение\n",
    "- Определить \"логичный\" диапазон с помощью метода 3-х сигм\n",
    "- Построить гистограмму и сверить ее с результатом метода 3-х сигм\n",
    "- Построить гистограмму \"сравнения\" и наглядно посмотреть, в чем схожие моменты и разница расхода ресурсов пользователями двух тарифных планов"
   ]
  },
  {
   "cell_type": "markdown",
   "metadata": {},
   "source": [
    "### Использование клиентами лимита мобильной связи"
   ]
  },
  {
   "cell_type": "markdown",
   "metadata": {},
   "source": [
    "**Тариф \"Смарт\"**"
   ]
  },
  {
   "cell_type": "code",
   "execution_count": 31,
   "metadata": {},
   "outputs": [
    {
     "data": {
      "text/plain": [
       "month\n",
       "1     203.852941\n",
       "2     298.689655\n",
       "3     390.051948\n",
       "4     367.133929\n",
       "5     387.361702\n",
       "6     398.067485\n",
       "7     408.353234\n",
       "8     423.269231\n",
       "9     430.266409\n",
       "10    427.590444\n",
       "11    436.647619\n",
       "12    479.985119\n",
       "Name: sum_minutes, dtype: float64"
      ]
     },
     "metadata": {},
     "output_type": "display_data"
    }
   ],
   "source": [
    "tariff_smart_calls = data.query('tariff == \"smart\"')\n",
    "tariff_smart_calls_grouped = tariff_smart_calls.groupby('month')['sum_minutes'].agg('mean')\n",
    "display(tariff_smart_calls_grouped)"
   ]
  },
  {
   "cell_type": "markdown",
   "metadata": {},
   "source": [
    "Определим среднее количество \"проговоренных\" минут."
   ]
  },
  {
   "cell_type": "code",
   "execution_count": 32,
   "metadata": {},
   "outputs": [
    {
     "data": {
      "text/plain": [
       "387.605809617519"
      ]
     },
     "execution_count": 32,
     "metadata": {},
     "output_type": "execute_result"
    }
   ],
   "source": [
    "tariff_smart_calls_grouped.mean()"
   ]
  },
  {
   "cell_type": "markdown",
   "metadata": {},
   "source": [
    "Рассчитаем дисперсию с помощью метода var из Numpy"
   ]
  },
  {
   "cell_type": "code",
   "execution_count": 33,
   "metadata": {},
   "outputs": [
    {
     "data": {
      "text/plain": [
       "5296.8959771205455"
      ]
     },
     "execution_count": 33,
     "metadata": {},
     "output_type": "execute_result"
    }
   ],
   "source": [
    "np.var(tariff_smart_calls_grouped, ddof=1)"
   ]
  },
  {
   "cell_type": "markdown",
   "metadata": {},
   "source": [
    "Осталось стандартное отклонение:"
   ]
  },
  {
   "cell_type": "code",
   "execution_count": 34,
   "metadata": {},
   "outputs": [
    {
     "data": {
      "text/plain": [
       "72.7797772538536"
      ]
     },
     "execution_count": 34,
     "metadata": {},
     "output_type": "execute_result"
    }
   ],
   "source": [
    "np.std(tariff_smart_calls_grouped, ddof=1)"
   ]
  },
  {
   "cell_type": "markdown",
   "metadata": {},
   "source": [
    "Есть все данные для определения диапазона по правилу трех сигм. Произведем расчет:"
   ]
  },
  {
   "cell_type": "code",
   "execution_count": 35,
   "metadata": {},
   "outputs": [
    {
     "name": "stdout",
     "output_type": "stream",
     "text": [
      "Диапазон равен: от 169.26647785595821 до 605.9451413790798\n"
     ]
    }
   ],
   "source": [
    "smart_calls_three_sigma_minus = tariff_smart_calls_grouped.mean() - 3*np.std(tariff_smart_calls_grouped, ddof=1)\n",
    "smart_calls_three_sigma_plus = tariff_smart_calls_grouped.mean() + 3*np.std(tariff_smart_calls_grouped, ddof=1)\n",
    "print('Диапазон равен: от', smart_calls_three_sigma_minus, 'до', smart_calls_three_sigma_plus)"
   ]
  },
  {
   "cell_type": "markdown",
   "metadata": {},
   "source": [
    "Построим гистрограмму по полученному в самом начале расчета срезу:"
   ]
  },
  {
   "cell_type": "code",
   "execution_count": 36,
   "metadata": {},
   "outputs": [
    {
     "data": {
      "text/plain": [
       "array([[<AxesSubplot:title={'center':'sum_minutes'}>]], dtype=object)"
      ]
     },
     "execution_count": 36,
     "metadata": {},
     "output_type": "execute_result"
    },
    {
     "data": {
      "image/png": "[encoded data removed]",
      "text/plain": [
       "<Figure size 432x288 with 1 Axes>"
      ]
     },
     "metadata": {
      "needs_background": "light"
     },
     "output_type": "display_data"
    }
   ],
   "source": [
    "tariff_smart_calls.hist('sum_minutes', bins=30)"
   ]
  },
  {
   "cell_type": "markdown",
   "metadata": {},
   "source": [
    "Визуально, график подтверждает, что большинство значений попадают в диапазон, получившийся по итогу расчета правила трех сигм. Пик гистограммы символизирует о том, что большинство пользователей этого тарифа используют от ~300 минут до 550 минут. Можно сказать о нормальном распределении."
   ]
  },
  {
   "cell_type": "markdown",
   "metadata": {},
   "source": [
    "**Аналогичным образом рассчитаем использование клиентами лимита по звонкам, но уже по тарифу \"Ультра\"**"
   ]
  },
  {
   "cell_type": "code",
   "execution_count": 37,
   "metadata": {},
   "outputs": [
    {
     "data": {
      "text/plain": [
       "month\n",
       "1     428.111111\n",
       "2     297.125000\n",
       "3     489.648649\n",
       "4     475.301887\n",
       "5     534.250000\n",
       "6     497.469136\n",
       "7     564.397727\n",
       "8     530.611650\n",
       "9     558.882883\n",
       "10    581.728814\n",
       "11    562.364341\n",
       "12    614.925373\n",
       "Name: sum_minutes, dtype: float64"
      ]
     },
     "metadata": {},
     "output_type": "display_data"
    }
   ],
   "source": [
    "tariff_ultra_calls = data.query('tariff == \"ultra\"')\n",
    "tariff_ultra_calls_grouped = tariff_ultra_calls.groupby('month')['sum_minutes'].agg('mean')\n",
    "display(tariff_ultra_calls_grouped)"
   ]
  },
  {
   "cell_type": "code",
   "execution_count": 38,
   "metadata": {},
   "outputs": [
    {
     "data": {
      "text/plain": [
       "511.23471423122083"
      ]
     },
     "execution_count": 38,
     "metadata": {},
     "output_type": "execute_result"
    }
   ],
   "source": [
    "tariff_ultra_calls_grouped.mean() #среднее значение"
   ]
  },
  {
   "cell_type": "code",
   "execution_count": 39,
   "metadata": {},
   "outputs": [
    {
     "data": {
      "text/plain": [
       "7185.123007600402"
      ]
     },
     "execution_count": 39,
     "metadata": {},
     "output_type": "execute_result"
    }
   ],
   "source": [
    "np.var(tariff_ultra_calls_grouped, ddof=1) #дисперсия"
   ]
  },
  {
   "cell_type": "code",
   "execution_count": 40,
   "metadata": {},
   "outputs": [
    {
     "data": {
      "text/plain": [
       "84.76510489346664"
      ]
     },
     "execution_count": 40,
     "metadata": {},
     "output_type": "execute_result"
    }
   ],
   "source": [
    "np.std(tariff_ultra_calls_grouped, ddof=1) #сиандартное отклонение"
   ]
  },
  {
   "cell_type": "code",
   "execution_count": 41,
   "metadata": {},
   "outputs": [
    {
     "name": "stdout",
     "output_type": "stream",
     "text": [
      "Диапазон равен: от 256.9393995508209 до 765.5300289116208\n"
     ]
    }
   ],
   "source": [
    "# 3 сигмы\n",
    "ultra_calls_three_sigma_minus = tariff_ultra_calls_grouped.mean() - 3*np.std(tariff_ultra_calls_grouped, ddof=1)\n",
    "ultra_calls_three_sigma_plus = tariff_ultra_calls_grouped.mean() + 3*np.std(tariff_ultra_calls_grouped, ddof=1)\n",
    "print('Диапазон равен: от', ultra_calls_three_sigma_minus, 'до', ultra_calls_three_sigma_plus)"
   ]
  },
  {
   "cell_type": "code",
   "execution_count": 42,
   "metadata": {},
   "outputs": [
    {
     "data": {
      "text/plain": [
       "array([[<AxesSubplot:title={'center':'sum_minutes'}>]], dtype=object)"
      ]
     },
     "execution_count": 42,
     "metadata": {},
     "output_type": "execute_result"
    },
    {
     "data": {
      "image/png": "[encoded data removed]",
      "text/plain": [
       "<Figure size 432x288 with 1 Axes>"
      ]
     },
     "metadata": {
      "needs_background": "light"
     },
     "output_type": "display_data"
    }
   ],
   "source": [
    "tariff_ultra_calls.hist('sum_minutes', bins=30)"
   ]
  },
  {
   "cell_type": "markdown",
   "metadata": {},
   "source": [
    "Диаграмма имеет \"скос\" вправо. В таком случае, медиана будет меньше среднего, потому что среднее значение будет искажено рядом \"больших\" значений.\n",
    "\n",
    "Аналогичным образом выделим \"пик\" - примерно 250 - 760 минут из своего пакета тратят наиболее \"разговорчивые\" потребители. Однако, к лимиту в 3000 минут никто даже близко не подбирается, отдельно взятый \"всплеск\" на 1600 минутах."
   ]
  },
  {
   "cell_type": "markdown",
   "metadata": {},
   "source": [
    "Визуально сравним потребление на двух тарифах:"
   ]
  },
  {
   "cell_type": "code",
   "execution_count": 43,
   "metadata": {},
   "outputs": [
    {
     "data": {
      "image/png": "[encoded data removed]",
      "text/plain": [
       "<Figure size 432x288 with 1 Axes>"
      ]
     },
     "metadata": {
      "needs_background": "light"
     },
     "output_type": "display_data"
    }
   ],
   "source": [
    "tariff_smart_calls['sum_minutes'].hist(density=True, bins=20);\n",
    "tariff_ultra_calls['sum_minutes'].hist(density=True, bins=20, alpha=0.5);"
   ]
  },
  {
   "cell_type": "markdown",
   "metadata": {},
   "source": [
    "Очевидно, что пользователи \"Ультры\" конечно больше времени проводят \"на телефоне\", но не многократно, по сравнению со \"Смартом\". В целом, тратят минут из пакета они примерно поровну."
   ]
  },
  {
   "cell_type": "markdown",
   "metadata": {},
   "source": [
    "### Использование клиентами лимита СМС"
   ]
  },
  {
   "cell_type": "markdown",
   "metadata": {},
   "source": [
    "**Аналогичным образом посчитаем нужные параметры по СМС**"
   ]
  },
  {
   "cell_type": "markdown",
   "metadata": {},
   "source": [
    "**Сначала по тарифу \"Смарт\"**"
   ]
  },
  {
   "cell_type": "code",
   "execution_count": 44,
   "metadata": {},
   "outputs": [],
   "source": [
    "tariff_smart_message = data.query('tariff == \"smart\"')\n",
    "tariff_smart_message_grouped = tariff_smart_message.groupby('month')['count_messages'].agg('mean')"
   ]
  },
  {
   "cell_type": "code",
   "execution_count": 45,
   "metadata": {},
   "outputs": [
    {
     "data": {
      "text/plain": [
       "36.2627302785857"
      ]
     },
     "execution_count": 45,
     "metadata": {},
     "output_type": "execute_result"
    }
   ],
   "source": [
    "tariff_smart_message_grouped.mean() #ищем среднее"
   ]
  },
  {
   "cell_type": "code",
   "execution_count": 46,
   "metadata": {},
   "outputs": [
    {
     "data": {
      "text/plain": [
       "38.80668503759196"
      ]
     },
     "execution_count": 46,
     "metadata": {},
     "output_type": "execute_result"
    }
   ],
   "source": [
    "np.var(tariff_smart_message_grouped, ddof=1) #дисперсия"
   ]
  },
  {
   "cell_type": "code",
   "execution_count": 47,
   "metadata": {},
   "outputs": [
    {
     "data": {
      "text/plain": [
       "6.229501186900277"
      ]
     },
     "execution_count": 47,
     "metadata": {},
     "output_type": "execute_result"
    }
   ],
   "source": [
    "np.std(tariff_smart_message_grouped, ddof=1) #сиандартное отклонение"
   ]
  },
  {
   "cell_type": "code",
   "execution_count": 48,
   "metadata": {},
   "outputs": [
    {
     "name": "stdout",
     "output_type": "stream",
     "text": [
      "Диапазон равен: от 17.57422671788487 до 54.95123383928653\n"
     ]
    }
   ],
   "source": [
    "# 3 сигмы\n",
    "tariff_smart_message_three_sigma_minus = tariff_smart_message_grouped.mean() - 3*np.std(tariff_smart_message_grouped, ddof=1)\n",
    "tariff_smart_message_three_sigma_plus = tariff_smart_message_grouped.mean() + 3*np.std(tariff_smart_message_grouped, ddof=1)\n",
    "print('Диапазон равен: от', tariff_smart_message_three_sigma_minus, 'до', tariff_smart_message_three_sigma_plus)"
   ]
  },
  {
   "cell_type": "code",
   "execution_count": 49,
   "metadata": {},
   "outputs": [
    {
     "data": {
      "text/plain": [
       "array([[<AxesSubplot:title={'center':'count_messages'}>]], dtype=object)"
      ]
     },
     "execution_count": 49,
     "metadata": {},
     "output_type": "execute_result"
    },
    {
     "data": {
      "image/png": "[encoded data removed]",
      "text/plain": [
       "<Figure size 432x288 with 1 Axes>"
      ]
     },
     "metadata": {
      "needs_background": "light"
     },
     "output_type": "display_data"
    }
   ],
   "source": [
    "tariff_smart_message.hist('count_messages', bins=20)"
   ]
  },
  {
   "cell_type": "markdown",
   "metadata": {},
   "source": [
    "Гистограмма скошена вправо, среднее будет больше медианы. На графике видим, что подавляющее большинство пользователей тратит около 30 смс, есть также те, что тратит весь пакет и таких немало. Немного удивляет, что есть приличный сегмент тех, кто выходит за предел лимита и доплачивает за СМС. Кажется, эта услуга доживает последние дни."
   ]
  },
  {
   "cell_type": "markdown",
   "metadata": {},
   "source": [
    "**Изучим активность использования СМС в тарифе \"Ультра\"**"
   ]
  },
  {
   "cell_type": "code",
   "execution_count": 50,
   "metadata": {},
   "outputs": [],
   "source": [
    "tariff_ultra_message = data.query('tariff == \"ultra\"')\n",
    "tariff_ultra_message_grouped = tariff_ultra_message.groupby('month')['count_messages'].agg('mean')"
   ]
  },
  {
   "cell_type": "code",
   "execution_count": 51,
   "metadata": {},
   "outputs": [
    {
     "data": {
      "text/plain": [
       "55.169628669643124"
      ]
     },
     "execution_count": 51,
     "metadata": {},
     "output_type": "execute_result"
    }
   ],
   "source": [
    "tariff_ultra_message_grouped.mean() #ищем среднее"
   ]
  },
  {
   "cell_type": "code",
   "execution_count": 52,
   "metadata": {},
   "outputs": [
    {
     "data": {
      "text/plain": [
       "145.0245868769887"
      ]
     },
     "execution_count": 52,
     "metadata": {},
     "output_type": "execute_result"
    }
   ],
   "source": [
    "np.var(tariff_ultra_message_grouped, ddof=1) #дисперсия"
   ]
  },
  {
   "cell_type": "code",
   "execution_count": 53,
   "metadata": {},
   "outputs": [
    {
     "data": {
      "text/plain": [
       "12.042615450017022"
      ]
     },
     "execution_count": 53,
     "metadata": {},
     "output_type": "execute_result"
    }
   ],
   "source": [
    "np.std(tariff_ultra_message_grouped, ddof=1) #сиандартное отклонение"
   ]
  },
  {
   "cell_type": "code",
   "execution_count": 54,
   "metadata": {},
   "outputs": [
    {
     "name": "stdout",
     "output_type": "stream",
     "text": [
      "Диапазон равен: от 19.04178231959206 до 91.29747501969419\n"
     ]
    }
   ],
   "source": [
    "# 3 сигмы\n",
    "tariff_ultra_message_three_sigma_minus = tariff_ultra_message_grouped.mean() - 3*np.std(tariff_ultra_message_grouped, ddof=1)\n",
    "tariff_ultra_message_three_sigma_plus = tariff_ultra_message_grouped.mean() + 3*np.std(tariff_ultra_message_grouped, ddof=1)\n",
    "print('Диапазон равен: от', tariff_ultra_message_three_sigma_minus, 'до', tariff_ultra_message_three_sigma_plus)"
   ]
  },
  {
   "cell_type": "code",
   "execution_count": 55,
   "metadata": {},
   "outputs": [
    {
     "data": {
      "text/plain": [
       "array([[<AxesSubplot:title={'center':'count_messages'}>]], dtype=object)"
      ]
     },
     "execution_count": 55,
     "metadata": {},
     "output_type": "execute_result"
    },
    {
     "data": {
      "image/png": "[encoded data removed]",
      "text/plain": [
       "<Figure size 432x288 with 1 Axes>"
      ]
     },
     "metadata": {
      "needs_background": "light"
     },
     "output_type": "display_data"
    }
   ],
   "source": [
    "tariff_ultra_message.hist('count_messages', bins=20)"
   ]
  },
  {
   "cell_type": "markdown",
   "metadata": {},
   "source": [
    "Гистрограмма также скошена вправо, очень мало тех, кто отправляет много сообщений. Убедимся в этом с помощью графика."
   ]
  },
  {
   "cell_type": "code",
   "execution_count": 56,
   "metadata": {},
   "outputs": [
    {
     "data": {
      "image/png": "[encoded data removed]",
      "text/plain": [
       "<Figure size 432x288 with 1 Axes>"
      ]
     },
     "metadata": {
      "needs_background": "light"
     },
     "output_type": "display_data"
    }
   ],
   "source": [
    "tariff_smart_message['count_messages'].hist(density=True, bins=20);\n",
    "tariff_ultra_message['count_messages'].hist(density=True, bins=20, alpha=0.5);"
   ]
  },
  {
   "cell_type": "markdown",
   "metadata": {},
   "source": [
    "Видим, что распределение в случае \"Ультра\" шире, но все-таки всплески на графике идентичны. Однако, те кто доплачивают есть только на \"Смарте\", а самый активный отправить СМС на \"Ультре\" потратил лимит лишь на 1/5."
   ]
  },
  {
   "cell_type": "markdown",
   "metadata": {},
   "source": [
    "### Использование клиентами лимита интернет-траффика"
   ]
  },
  {
   "cell_type": "markdown",
   "metadata": {},
   "source": [
    "**Аналогичным образом посчитаем нужные параметры по траффику**"
   ]
  },
  {
   "cell_type": "markdown",
   "metadata": {},
   "source": [
    "**Начнем со \"Смарта\"**"
   ]
  },
  {
   "cell_type": "code",
   "execution_count": 57,
   "metadata": {},
   "outputs": [],
   "source": [
    "tariff_smart_internet = data.query('tariff == \"smart\"')\n",
    "tariff_smart_internet_grouped = tariff_smart_internet.groupby('month')['count_gb_traffic'].agg('mean')"
   ]
  },
  {
   "cell_type": "code",
   "execution_count": 58,
   "metadata": {},
   "outputs": [
    {
     "data": {
      "text/plain": [
       "15.204688629598747"
      ]
     },
     "execution_count": 58,
     "metadata": {},
     "output_type": "execute_result"
    }
   ],
   "source": [
    "tariff_smart_internet_grouped.mean() # среднее"
   ]
  },
  {
   "cell_type": "code",
   "execution_count": 59,
   "metadata": {},
   "outputs": [
    {
     "data": {
      "text/plain": [
       "6.9214038847684956"
      ]
     },
     "execution_count": 59,
     "metadata": {},
     "output_type": "execute_result"
    }
   ],
   "source": [
    "np.var(tariff_smart_internet_grouped, ddof=1) #дисперсия"
   ]
  },
  {
   "cell_type": "code",
   "execution_count": 60,
   "metadata": {},
   "outputs": [
    {
     "data": {
      "text/plain": [
       "2.6308561125170824"
      ]
     },
     "execution_count": 60,
     "metadata": {},
     "output_type": "execute_result"
    }
   ],
   "source": [
    "np.std(tariff_smart_internet_grouped, ddof=1) #сиандартное отклонение"
   ]
  },
  {
   "cell_type": "code",
   "execution_count": 61,
   "metadata": {},
   "outputs": [
    {
     "name": "stdout",
     "output_type": "stream",
     "text": [
      "Диапазон равен: от 7.3121202920475 до 23.097256967149995\n"
     ]
    }
   ],
   "source": [
    "# 3 сигмы\n",
    "tariff_smart_internet_three_sigma_minus = tariff_smart_internet_grouped.mean() - 3*np.std(tariff_smart_internet_grouped, ddof=1)\n",
    "tariff_smart_internet_three_sigma_plus = tariff_smart_internet_grouped.mean() + 3*np.std(tariff_smart_internet_grouped, ddof=1)\n",
    "print('Диапазон равен: от', tariff_smart_internet_three_sigma_minus, 'до', tariff_smart_internet_three_sigma_plus)"
   ]
  },
  {
   "cell_type": "code",
   "execution_count": 62,
   "metadata": {},
   "outputs": [
    {
     "data": {
      "text/plain": [
       "array([[<AxesSubplot:title={'center':'count_gb_traffic'}>]], dtype=object)"
      ]
     },
     "execution_count": 62,
     "metadata": {},
     "output_type": "execute_result"
    },
    {
     "data": {
      "image/png": "[encoded data removed]",
      "text/plain": [
       "<Figure size 432x288 with 1 Axes>"
      ]
     },
     "metadata": {
      "needs_background": "light"
     },
     "output_type": "display_data"
    }
   ],
   "source": [
    "tariff_smart_internet.hist('count_gb_traffic', bins=20)"
   ]
  },
  {
   "cell_type": "markdown",
   "metadata": {},
   "source": [
    "Видим нормальное распределение. Видим также всплеск в районе 15-16 ГБ - тот сегмент, который \"немного\" не уложился в лимит и докупает траффик, скорее всего, самый минимальный пакет. График распределен примерно поровну: т.е. одна половина укладывается в лимит, вторая докупает. Тех кто тратит более 23 ГБ очень мало."
   ]
  },
  {
   "cell_type": "markdown",
   "metadata": {},
   "source": [
    "**Изучим информацию по \"Ультре\"**"
   ]
  },
  {
   "cell_type": "code",
   "execution_count": 63,
   "metadata": {},
   "outputs": [],
   "source": [
    "tariff_ultra_internet = data.query('tariff == \"ultra\"')\n",
    "tariff_ultra_internet_grouped = tariff_ultra_internet.groupby('month')['count_gb_traffic'].agg('mean')"
   ]
  },
  {
   "cell_type": "code",
   "execution_count": 64,
   "metadata": {},
   "outputs": [
    {
     "data": {
      "text/plain": [
       "18.481028061107875"
      ]
     },
     "execution_count": 64,
     "metadata": {},
     "output_type": "execute_result"
    }
   ],
   "source": [
    "tariff_ultra_internet_grouped.mean() # среднее"
   ]
  },
  {
   "cell_type": "code",
   "execution_count": 65,
   "metadata": {},
   "outputs": [
    {
     "data": {
      "text/plain": [
       "7.829686050095753"
      ]
     },
     "execution_count": 65,
     "metadata": {},
     "output_type": "execute_result"
    }
   ],
   "source": [
    "np.var(tariff_ultra_internet_grouped, ddof=1) #дисперсия"
   ]
  },
  {
   "cell_type": "code",
   "execution_count": 66,
   "metadata": {},
   "outputs": [
    {
     "data": {
      "text/plain": [
       "2.7981576170930316"
      ]
     },
     "execution_count": 66,
     "metadata": {},
     "output_type": "execute_result"
    }
   ],
   "source": [
    "np.std(tariff_ultra_internet_grouped, ddof=1) #сиандартное отклонение"
   ]
  },
  {
   "cell_type": "code",
   "execution_count": 67,
   "metadata": {},
   "outputs": [
    {
     "name": "stdout",
     "output_type": "stream",
     "text": [
      "Диапазон равен: от 10.08655520982878 до 26.87550091238697\n"
     ]
    }
   ],
   "source": [
    "# 3 сигмы\n",
    "tariff_ultra_internet_three_sigma_minus = tariff_ultra_internet_grouped.mean() - 3*np.std(tariff_ultra_internet_grouped, ddof=1)\n",
    "tariff_ultra_internet_three_sigma_plus = tariff_ultra_internet_grouped.mean() + 3*np.std(tariff_ultra_internet_grouped, ddof=1)\n",
    "print('Диапазон равен: от', tariff_ultra_internet_three_sigma_minus, 'до', tariff_ultra_internet_three_sigma_plus)"
   ]
  },
  {
   "cell_type": "code",
   "execution_count": 68,
   "metadata": {},
   "outputs": [
    {
     "data": {
      "text/plain": [
       "array([[<AxesSubplot:title={'center':'count_gb_traffic'}>]], dtype=object)"
      ]
     },
     "execution_count": 68,
     "metadata": {},
     "output_type": "execute_result"
    },
    {
     "data": {
      "image/png": "[encoded data removed]",
      "text/plain": [
       "<Figure size 432x288 with 1 Axes>"
      ]
     },
     "metadata": {
      "needs_background": "light"
     },
     "output_type": "display_data"
    }
   ],
   "source": [
    "tariff_ultra_internet.hist('count_gb_traffic', bins=20)"
   ]
  },
  {
   "cell_type": "markdown",
   "metadata": {},
   "source": [
    "В целом, график выглядит похожим на \"Смарт\". Но тут очевидно, что объем трафика вырос примерно в 1,5 раза. Если в \"Смарте\" редкие значение доходили до 20ГБ, а все что выше было весьма редким значением, то в \"Ультре\" пик графика спадает в районе 30ГБ. Видимо, этот тариф привлекателен для любителей интернета. Но даже такого пакета не всем достаточно - есть сегмент пользователей, докупающих интернет, но он не является целевым.\n",
    "\n",
    "Однако, проверим это предположение на сравнительном графике."
   ]
  },
  {
   "cell_type": "code",
   "execution_count": 69,
   "metadata": {},
   "outputs": [
    {
     "data": {
      "image/png": "[encoded data removed]",
      "text/plain": [
       "<Figure size 432x288 with 1 Axes>"
      ]
     },
     "metadata": {
      "needs_background": "light"
     },
     "output_type": "display_data"
    }
   ],
   "source": [
    "tariff_smart_internet['count_gb_traffic'].hist(density=True, bins=20);\n",
    "tariff_ultra_internet['count_gb_traffic'].hist(density=True, bins=20, alpha=0.5);"
   ]
  },
  {
   "cell_type": "markdown",
   "metadata": {},
   "source": [
    "График подтвердил мое предположение."
   ]
  },
  {
   "cell_type": "markdown",
   "metadata": {},
   "source": [
    "### Вывод"
   ]
  },
  {
   "cell_type": "markdown",
   "metadata": {},
   "source": [
    "- Пользователи тарифа \"Смарт\" чаще нуждаются в покупке дополнительных ресурсов\n",
    "- Пользователи тарифа \"Ультра\" проговаривают немногим больше, чем пользователи \"Смарта\", несмотря на куда бОльший пакет для разговора. Лимит в 3000 минут не использует никто, все показатели сильно меньше\n",
    "- Подавшяющее большинство по двум тарифам используют примерно одинаковое количество СМС. На \"Смарте\" есть сегмент, который за них даже доплачивает, но пакета \"Ультры\" очень много даже для тех, кто активно пользуется СМС. В любом случае, услуга не убыточна\n",
    "- Примерно половине пользователей \"Смарта\" хватает своего интернета, но другая половина его докупает. Справедливости ради, тех кто в 2 раза увеличивает свой пакет за счет приобретения доп. ресурсов мало, в основном, докупают небольшое количество ГБ\n",
    "- Пользователи \"Ультра\" значительно активнее расходуют интернет и немало тех, кто даже приобретает траффик свыше плановых 30 ГБ. Судя по всему, этот тариф берут ради интернета, т.к. остальные пакеты не особенно используются, чуть более, чем на эконом-тарифе."
   ]
  },
  {
   "cell_type": "markdown",
   "metadata": {},
   "source": [
    "# Шаг 4. Проверка гипотез"
   ]
  },
  {
   "cell_type": "markdown",
   "metadata": {},
   "source": [
    "### **Проверим гипотезу \"Средняя выручка пользователей тарифов «Ультра» и «Смарт» различаются\"**"
   ]
  },
  {
   "cell_type": "markdown",
   "metadata": {},
   "source": [
    "Перед проверкой гипотез необходимо одназначно трактовать нулевую и альтернативную гипотезы:\n",
    "\n",
    "- За нулевую гипотезу примем, что средняя выручка с двух рассмотренных тарифов строго равна\n",
    "- За альтернативную гипотезу примем, что выручка не равна, вне зависимости от того, какой из тарифов будет более рентабельным"
   ]
  },
  {
   "cell_type": "markdown",
   "metadata": {},
   "source": [
    "Для расчета воспользуемся подсчитанным на шаге 2 столбцом remains_all и создадим 2 среза, по одному на каждый тарифный план соответственно. Восчпользуемся методом st.ttest_ind. Также, чтобы убедиться в правильности вывода, вместе с констатацией факта о достоверности гипотезы выведем на экран сравнение выручки по тарифам"
   ]
  },
  {
   "cell_type": "code",
   "execution_count": 70,
   "metadata": {},
   "outputs": [],
   "source": [
    "ultra = data.query('tariff == \"ultra\"')\n",
    "smart = data.query('tariff == \"smart\"')"
   ]
  },
  {
   "cell_type": "code",
   "execution_count": 71,
   "metadata": {},
   "outputs": [
    {
     "name": "stdout",
     "output_type": "stream",
     "text": [
      "p-значение:  1.4229814360764067e-160\n",
      "Отвергаем нулевую гипотезу\n",
      "\n",
      "Средняя ежемесячная выручка по тарифу \"Smart\": 1290.0\n",
      "Средняя ежемесячная выручка по тарифу \"Ultra\": 2070.2\n"
     ]
    }
   ],
   "source": [
    "alpha = 0.05 # задаем критический уровень\n",
    "\n",
    "results = st.ttest_ind(\n",
    "    ultra['remains_all'], \n",
    "    smart['remains_all'])\n",
    "\n",
    "print('p-значение: ', results.pvalue)  \n",
    "\n",
    "if (results.pvalue < alpha):\n",
    "    print(\"Отвергаем нулевую гипотезу\")\n",
    "else:\n",
    "    print(\"Не получилось отвергнуть нулевую гипотезу\")\n",
    "    \n",
    "print()\n",
    "print('Средняя ежемесячная выручка по тарифу \"Smart\":', smart['remains_all'].mean().round(1))\n",
    "print('Средняя ежемесячная выручка по тарифу \"Ultra\":', ultra['remains_all'].mean().round(1))"
   ]
  },
  {
   "cell_type": "markdown",
   "metadata": {},
   "source": [
    "Нулевая гипотеза о том, что выручка по тарифам строго равна **не соответствует реальности**. Это подтвердил и t-тест и простое визуальное сравнение полученных значений. Итог логичен: не будем забывать о том, что \"Ультра\" изначально почти в 4 раза дороже \"Смарта\", вряд ли бОльшее количество пользователей на \"Смарте\" смогло бы уравнять выручку."
   ]
  },
  {
   "cell_type": "markdown",
   "metadata": {},
   "source": [
    "### **Проверим гипотезу \"Средняя выручка пользователей из Москвы отличается от выручки пользователей из других регионов»**"
   ]
  },
  {
   "cell_type": "markdown",
   "metadata": {},
   "source": [
    "Трактовка гипотез:\n",
    "- За нулевую гипотезу примем, что средняя выручка в Москве и прочих регионах равна\n",
    "- За альтернативную гипотезу примем, что выручка не равна, вне зависимости от того, что принесет мобильному оператору бОльшую прибыль: Москва или иные регионы"
   ]
  },
  {
   "cell_type": "markdown",
   "metadata": {},
   "source": [
    "Аналогично, создадим 2 среза, на сей раз по городу. Нас интересует Москва и что угодно за ее пределами"
   ]
  },
  {
   "cell_type": "code",
   "execution_count": 72,
   "metadata": {},
   "outputs": [],
   "source": [
    "moscow = data.query('city == \"Москва\"')\n",
    "not_moscow = data.query('city != \"Москва\"')"
   ]
  },
  {
   "cell_type": "code",
   "execution_count": 73,
   "metadata": {},
   "outputs": [
    {
     "name": "stdout",
     "output_type": "stream",
     "text": [
      "p-значение:  0.5440152911670224\n",
      "Не получилось отвергнуть нулевую гипотезу\n",
      "\n",
      "Средняя ежемесячная выручка в Москве: 1546.7\n",
      "Средняя ежемесячная выручка в других регионах\": 1524.9\n"
     ]
    }
   ],
   "source": [
    "alpha = 0.05 \n",
    "\n",
    "results = st.ttest_ind(\n",
    "    moscow['remains_all'], \n",
    "    not_moscow['remains_all'])\n",
    "\n",
    "print('p-значение: ', results.pvalue)  \n",
    "\n",
    "if (results.pvalue < alpha):\n",
    "    print(\"Отвергаем нулевую гипотезу\")\n",
    "else:\n",
    "    print(\"Не получилось отвергнуть нулевую гипотезу\")\n",
    "    \n",
    "print()\n",
    "print('Средняя ежемесячная выручка в Москве:', moscow['remains_all'].mean().round(1))\n",
    "print('Средняя ежемесячная выручка в других регионах\":', not_moscow['remains_all'].mean().round(1))"
   ]
  },
  {
   "cell_type": "markdown",
   "metadata": {},
   "source": [
    "Нулевая гипотеза **достоверна и не может быть отвергнута**. Об этом говорит и t-тест и сравнение выручек. Интересный результат, казалось, что все остальные регионы суммарно обойдут Москву, но нет."
   ]
  },
  {
   "cell_type": "markdown",
   "metadata": {},
   "source": [
    "# Шаг 5. Общий вывод"
   ]
  },
  {
   "cell_type": "markdown",
   "metadata": {},
   "source": [
    "- Пользователи тарифа \"Смарт\" более сбалансированно тратят свой пакет ресурсов, однако интернета хватает не всем, многие приобретают некое количества траффика дополнительно\n",
    "- Пользователи приобретают тариф \"Ультра\" ради интернета, другие пакеты подавляющее большинство клиентов используют в значительно меньшей степени\n",
    "- Оператор связи больше зарабатывает на тарифе \"Смарт\"\n",
    "- Ежемесячная выручка в Москве и регионах почти равна\n",
    "- Если заказчиком будет обозначена цель проанализировать, какие ресурсы можно заменить другими (или изменить пропорцию пакетов на тарифе) - можно было бы с уверенностью заявить, что можно снизить количество минут и СМС на \"Ультра\" и добавить эквивалентое им количество ГБ, но тогда и прибыль может упасть, т.к. есть сегмент докупающий ГБ. Впрочем, в жизни поиск баланса между звонками и интернетом зачастую может сделать сам клиент, путем настройки тарифного плана."
   ]
  },
  {
   "cell_type": "markdown",
   "metadata": {},
   "source": [
    "**Резюмируя**:\n",
    "- В качестве прибыльного тарифа, следует рекомендовать коммерческому департаменту компании \"Мегалайн\" тарифный план \"Ультра\", его среднемесячная выручка более чем в 1,5 раза выше по сравнению с тарифным планом \"Смарт\"\n",
    "- Второстепенная рекомендация: если сравнивать тарифные планы по факту приобретения ресурсов связи сверх пакета, то по этому косвенному показателю, более прибыльным будет тариф \"Смарт\". Он стоит примерно в 4 раза дешевле, но пользователям зачастую не хватает ресурсов, а покупка дополнительных ресурсов, соответственно, обеспечивает этому дополнительную прибыль по этому тарифу."
   ]
  },
  {
   "cell_type": "markdown",
   "metadata": {},
   "source": [
    "### Спасибо за внимание!"
   ]
  }
 ],
 "metadata": {
  "ExecuteTimeLog": [
   {
    "duration": 1107,
    "start_time": "2022-02-02T13:39:47.290Z"
   },
   {
    "duration": 155,
    "start_time": "2022-02-02T13:41:03.913Z"
   },
   {
    "duration": 23,
    "start_time": "2022-02-02T13:41:16.121Z"
   },
   {
    "duration": 1782,
    "start_time": "2022-02-02T13:42:12.688Z"
   },
   {
    "duration": 126,
    "start_time": "2022-02-02T13:42:46.838Z"
   },
   {
    "duration": 18,
    "start_time": "2022-02-02T13:42:54.608Z"
   },
   {
    "duration": 92,
    "start_time": "2022-02-02T13:43:25.566Z"
   },
   {
    "duration": 94,
    "start_time": "2022-02-02T13:43:39.943Z"
   },
   {
    "duration": 17,
    "start_time": "2022-02-02T13:43:52.111Z"
   },
   {
    "duration": 18,
    "start_time": "2022-02-02T13:44:27.007Z"
   },
   {
    "duration": 21,
    "start_time": "2022-02-02T13:44:36.630Z"
   },
   {
    "duration": 18,
    "start_time": "2022-02-02T13:44:40.278Z"
   },
   {
    "duration": 6,
    "start_time": "2022-02-02T13:44:55.030Z"
   },
   {
    "duration": 37,
    "start_time": "2022-02-02T13:45:40.901Z"
   },
   {
    "duration": 7,
    "start_time": "2022-02-02T13:45:55.269Z"
   },
   {
    "duration": 6,
    "start_time": "2022-02-02T13:47:00.883Z"
   },
   {
    "duration": 20,
    "start_time": "2022-02-02T13:47:28.731Z"
   },
   {
    "duration": 15,
    "start_time": "2022-02-02T13:47:42.683Z"
   },
   {
    "duration": 15,
    "start_time": "2022-02-02T13:48:01.963Z"
   },
   {
    "duration": 5,
    "start_time": "2022-02-02T13:48:17.602Z"
   },
   {
    "duration": 6,
    "start_time": "2022-02-02T13:56:50.025Z"
   },
   {
    "duration": 3,
    "start_time": "2022-02-02T15:07:24.376Z"
   },
   {
    "duration": 486,
    "start_time": "2022-02-02T15:08:23.057Z"
   },
   {
    "duration": 3,
    "start_time": "2022-02-02T15:08:40.767Z"
   },
   {
    "duration": 28,
    "start_time": "2022-02-02T15:08:42.201Z"
   },
   {
    "duration": 231,
    "start_time": "2022-02-02T15:08:52.936Z"
   },
   {
    "duration": 15,
    "start_time": "2022-02-02T15:09:09.520Z"
   },
   {
    "duration": 3,
    "start_time": "2022-02-02T15:09:39.856Z"
   },
   {
    "duration": 480,
    "start_time": "2022-02-02T15:10:35.215Z"
   },
   {
    "duration": 1972,
    "start_time": "2022-02-02T15:11:29.342Z"
   },
   {
    "duration": 6,
    "start_time": "2022-02-02T15:17:11.767Z"
   },
   {
    "duration": 21,
    "start_time": "2022-02-02T15:17:21.928Z"
   },
   {
    "duration": 15,
    "start_time": "2022-02-02T15:17:40.080Z"
   },
   {
    "duration": 29,
    "start_time": "2022-02-02T15:17:45.184Z"
   },
   {
    "duration": 295,
    "start_time": "2022-02-02T15:19:08.117Z"
   },
   {
    "duration": 78,
    "start_time": "2022-02-02T15:19:14.284Z"
   },
   {
    "duration": 76,
    "start_time": "2022-02-02T15:19:22.502Z"
   },
   {
    "duration": 221,
    "start_time": "2022-02-02T15:24:23.913Z"
   },
   {
    "duration": 555,
    "start_time": "2022-02-02T15:24:38.992Z"
   },
   {
    "duration": 14,
    "start_time": "2022-02-02T15:48:52.777Z"
   },
   {
    "duration": 1029,
    "start_time": "2022-02-02T15:57:19.357Z"
   },
   {
    "duration": 162,
    "start_time": "2022-02-02T15:57:20.387Z"
   },
   {
    "duration": 21,
    "start_time": "2022-02-02T15:57:20.551Z"
   },
   {
    "duration": 145,
    "start_time": "2022-02-02T15:57:20.574Z"
   },
   {
    "duration": 17,
    "start_time": "2022-02-02T15:57:20.721Z"
   },
   {
    "duration": 100,
    "start_time": "2022-02-02T15:57:20.740Z"
   },
   {
    "duration": 17,
    "start_time": "2022-02-02T15:57:20.843Z"
   },
   {
    "duration": 18,
    "start_time": "2022-02-02T15:57:20.862Z"
   },
   {
    "duration": 31,
    "start_time": "2022-02-02T15:57:20.881Z"
   },
   {
    "duration": 32,
    "start_time": "2022-02-02T15:57:20.914Z"
   },
   {
    "duration": 7,
    "start_time": "2022-02-02T15:57:20.948Z"
   },
   {
    "duration": 5,
    "start_time": "2022-02-02T15:57:20.957Z"
   },
   {
    "duration": 68,
    "start_time": "2022-02-02T16:18:00.297Z"
   },
   {
    "duration": 15,
    "start_time": "2022-02-02T16:18:10.841Z"
   },
   {
    "duration": 33,
    "start_time": "2022-02-02T16:18:36.528Z"
   },
   {
    "duration": 13,
    "start_time": "2022-02-02T16:18:49.887Z"
   },
   {
    "duration": 26,
    "start_time": "2022-02-02T16:23:52.947Z"
   },
   {
    "duration": 69,
    "start_time": "2022-02-02T16:28:42.481Z"
   },
   {
    "duration": 75,
    "start_time": "2022-02-02T16:28:46.278Z"
   },
   {
    "duration": 70,
    "start_time": "2022-02-02T16:28:57.574Z"
   },
   {
    "duration": 72,
    "start_time": "2022-02-02T16:29:19.549Z"
   },
   {
    "duration": 324,
    "start_time": "2022-02-02T16:29:38.253Z"
   },
   {
    "duration": 250,
    "start_time": "2022-02-02T16:29:48.461Z"
   },
   {
    "duration": 50,
    "start_time": "2022-02-02T16:30:11.860Z"
   },
   {
    "duration": 56,
    "start_time": "2022-02-02T16:30:23.069Z"
   },
   {
    "duration": 980,
    "start_time": "2022-02-02T16:33:10.513Z"
   },
   {
    "duration": 56,
    "start_time": "2022-02-02T16:33:27.938Z"
   },
   {
    "duration": 51,
    "start_time": "2022-02-02T16:33:46.154Z"
   },
   {
    "duration": 946,
    "start_time": "2022-02-02T16:34:30.841Z"
   },
   {
    "duration": 55,
    "start_time": "2022-02-02T16:34:47.320Z"
   },
   {
    "duration": 953,
    "start_time": "2022-02-02T16:34:57.608Z"
   },
   {
    "duration": 56,
    "start_time": "2022-02-02T16:35:22.288Z"
   },
   {
    "duration": 957,
    "start_time": "2022-02-02T16:35:39.688Z"
   },
   {
    "duration": 52,
    "start_time": "2022-02-02T16:35:58.119Z"
   },
   {
    "duration": 56,
    "start_time": "2022-02-02T16:36:16.814Z"
   },
   {
    "duration": 51,
    "start_time": "2022-02-02T16:36:48.406Z"
   },
   {
    "duration": 257,
    "start_time": "2022-02-02T16:38:29.996Z"
   },
   {
    "duration": 50,
    "start_time": "2022-02-02T16:38:43.852Z"
   },
   {
    "duration": 14,
    "start_time": "2022-02-02T16:41:52.209Z"
   },
   {
    "duration": 43,
    "start_time": "2022-02-02T16:43:23.896Z"
   },
   {
    "duration": 46,
    "start_time": "2022-02-02T16:43:36.471Z"
   },
   {
    "duration": 37,
    "start_time": "2022-02-02T16:44:04.643Z"
   },
   {
    "duration": 33,
    "start_time": "2022-02-02T16:44:35.982Z"
   },
   {
    "duration": 329,
    "start_time": "2022-02-02T16:50:17.897Z"
   },
   {
    "duration": 4,
    "start_time": "2022-02-02T16:51:11.320Z"
   },
   {
    "duration": 5,
    "start_time": "2022-02-02T16:52:14.855Z"
   },
   {
    "duration": 8,
    "start_time": "2022-02-02T16:52:26.607Z"
   },
   {
    "duration": 9,
    "start_time": "2022-02-02T16:52:50.343Z"
   },
   {
    "duration": 6,
    "start_time": "2022-02-02T16:53:23.511Z"
   },
   {
    "duration": 994,
    "start_time": "2022-02-02T16:56:40.513Z"
   },
   {
    "duration": 151,
    "start_time": "2022-02-02T16:56:41.509Z"
   },
   {
    "duration": 20,
    "start_time": "2022-02-02T16:56:41.665Z"
   },
   {
    "duration": 139,
    "start_time": "2022-02-02T16:56:41.687Z"
   },
   {
    "duration": 16,
    "start_time": "2022-02-02T16:56:41.828Z"
   },
   {
    "duration": 98,
    "start_time": "2022-02-02T16:56:41.845Z"
   },
   {
    "duration": 12,
    "start_time": "2022-02-02T16:56:41.945Z"
   },
   {
    "duration": 19,
    "start_time": "2022-02-02T16:56:41.960Z"
   },
   {
    "duration": 6,
    "start_time": "2022-02-02T16:56:41.981Z"
   },
   {
    "duration": 69,
    "start_time": "2022-02-02T16:56:41.988Z"
   },
   {
    "duration": 6,
    "start_time": "2022-02-02T16:56:42.059Z"
   },
   {
    "duration": 7,
    "start_time": "2022-02-02T16:56:42.066Z"
   },
   {
    "duration": 66,
    "start_time": "2022-02-02T16:56:42.074Z"
   },
   {
    "duration": 32,
    "start_time": "2022-02-02T16:56:42.142Z"
   },
   {
    "duration": 6,
    "start_time": "2022-02-02T16:56:42.176Z"
   },
   {
    "duration": 78,
    "start_time": "2022-02-02T16:56:42.184Z"
   },
   {
    "duration": 32,
    "start_time": "2022-02-02T16:56:42.263Z"
   },
   {
    "duration": 4,
    "start_time": "2022-02-02T16:56:42.312Z"
   },
   {
    "duration": 321,
    "start_time": "2022-02-02T17:00:43.837Z"
   },
   {
    "duration": 245,
    "start_time": "2022-02-02T17:01:02.604Z"
   },
   {
    "duration": 5,
    "start_time": "2022-02-02T17:01:36.723Z"
   },
   {
    "duration": 1013,
    "start_time": "2022-02-02T17:02:09.381Z"
   },
   {
    "duration": 164,
    "start_time": "2022-02-02T17:02:10.396Z"
   },
   {
    "duration": 20,
    "start_time": "2022-02-02T17:02:10.561Z"
   },
   {
    "duration": 141,
    "start_time": "2022-02-02T17:02:10.583Z"
   },
   {
    "duration": 17,
    "start_time": "2022-02-02T17:02:10.726Z"
   },
   {
    "duration": 108,
    "start_time": "2022-02-02T17:02:10.745Z"
   },
   {
    "duration": 15,
    "start_time": "2022-02-02T17:02:10.854Z"
   },
   {
    "duration": 25,
    "start_time": "2022-02-02T17:02:10.871Z"
   },
   {
    "duration": 27,
    "start_time": "2022-02-02T17:02:10.897Z"
   },
   {
    "duration": 50,
    "start_time": "2022-02-02T17:02:10.925Z"
   },
   {
    "duration": 9,
    "start_time": "2022-02-02T17:02:10.977Z"
   },
   {
    "duration": 18,
    "start_time": "2022-02-02T17:02:10.987Z"
   },
   {
    "duration": 94,
    "start_time": "2022-02-02T17:02:11.007Z"
   },
   {
    "duration": 34,
    "start_time": "2022-02-02T17:02:11.102Z"
   },
   {
    "duration": 7,
    "start_time": "2022-02-02T17:02:11.137Z"
   },
   {
    "duration": 74,
    "start_time": "2022-02-02T17:02:11.145Z"
   },
   {
    "duration": 34,
    "start_time": "2022-02-02T17:02:11.221Z"
   },
   {
    "duration": 101,
    "start_time": "2022-02-02T17:02:11.257Z"
   },
   {
    "duration": 6,
    "start_time": "2022-02-02T17:02:15.625Z"
   },
   {
    "duration": 336,
    "start_time": "2022-02-02T17:03:14.270Z"
   },
   {
    "duration": 20,
    "start_time": "2022-02-02T17:03:42.192Z"
   },
   {
    "duration": 41,
    "start_time": "2022-02-02T17:03:55.735Z"
   },
   {
    "duration": 41,
    "start_time": "2022-02-02T17:14:24.204Z"
   },
   {
    "duration": 38,
    "start_time": "2022-02-02T17:14:45.221Z"
   },
   {
    "duration": 39,
    "start_time": "2022-02-02T17:15:35.148Z"
   },
   {
    "duration": 38,
    "start_time": "2022-02-02T17:17:57.555Z"
   },
   {
    "duration": 229,
    "start_time": "2022-02-02T17:31:49.885Z"
   },
   {
    "duration": 219,
    "start_time": "2022-02-02T17:32:14.044Z"
   },
   {
    "duration": 252,
    "start_time": "2022-02-02T17:32:32.228Z"
   },
   {
    "duration": 219,
    "start_time": "2022-02-02T17:32:50.427Z"
   },
   {
    "duration": 239,
    "start_time": "2022-02-02T17:35:27.370Z"
   },
   {
    "duration": 290,
    "start_time": "2022-02-02T17:36:06.040Z"
   },
   {
    "duration": 10,
    "start_time": "2022-02-02T17:36:38.727Z"
   },
   {
    "duration": 20,
    "start_time": "2022-02-02T17:36:46.958Z"
   },
   {
    "duration": 225,
    "start_time": "2022-02-02T17:41:05.107Z"
   },
   {
    "duration": 24,
    "start_time": "2022-02-02T17:41:18.522Z"
   },
   {
    "duration": 203,
    "start_time": "2022-02-02T17:41:26.378Z"
   },
   {
    "duration": 1015,
    "start_time": "2022-02-02T17:43:03.266Z"
   },
   {
    "duration": 167,
    "start_time": "2022-02-02T17:43:05.658Z"
   },
   {
    "duration": 23,
    "start_time": "2022-02-02T17:43:07.505Z"
   },
   {
    "duration": 287,
    "start_time": "2022-02-02T17:43:10.121Z"
   },
   {
    "duration": 139,
    "start_time": "2022-02-02T17:43:17.106Z"
   },
   {
    "duration": 18,
    "start_time": "2022-02-02T17:43:19.714Z"
   },
   {
    "duration": 95,
    "start_time": "2022-02-02T17:43:21.601Z"
   },
   {
    "duration": 16,
    "start_time": "2022-02-02T17:43:23.361Z"
   },
   {
    "duration": 20,
    "start_time": "2022-02-02T17:43:25.233Z"
   },
   {
    "duration": 36,
    "start_time": "2022-02-02T17:43:26.866Z"
   },
   {
    "duration": 7,
    "start_time": "2022-02-02T17:43:28.505Z"
   },
   {
    "duration": 6,
    "start_time": "2022-02-02T17:43:30.013Z"
   },
   {
    "duration": 67,
    "start_time": "2022-02-02T17:43:33.897Z"
   },
   {
    "duration": 33,
    "start_time": "2022-02-02T17:43:36.081Z"
   },
   {
    "duration": 7,
    "start_time": "2022-02-02T17:43:38.594Z"
   },
   {
    "duration": 58,
    "start_time": "2022-02-02T17:44:11.409Z"
   },
   {
    "duration": 37,
    "start_time": "2022-02-02T17:44:30.793Z"
   },
   {
    "duration": 47,
    "start_time": "2022-02-02T17:44:51.329Z"
   },
   {
    "duration": 271,
    "start_time": "2022-02-02T17:47:30.366Z"
   },
   {
    "duration": 221,
    "start_time": "2022-02-02T17:48:03.045Z"
   },
   {
    "duration": 1045,
    "start_time": "2022-02-02T17:49:24.185Z"
   },
   {
    "duration": 166,
    "start_time": "2022-02-02T17:49:25.231Z"
   },
   {
    "duration": 33,
    "start_time": "2022-02-02T17:49:25.400Z"
   },
   {
    "duration": 141,
    "start_time": "2022-02-02T17:49:25.436Z"
   },
   {
    "duration": 17,
    "start_time": "2022-02-02T17:49:25.578Z"
   },
   {
    "duration": 92,
    "start_time": "2022-02-02T17:49:25.612Z"
   },
   {
    "duration": 14,
    "start_time": "2022-02-02T17:49:25.705Z"
   },
   {
    "duration": 19,
    "start_time": "2022-02-02T17:49:25.722Z"
   },
   {
    "duration": 6,
    "start_time": "2022-02-02T17:49:25.743Z"
   },
   {
    "duration": 40,
    "start_time": "2022-02-02T17:49:25.750Z"
   },
   {
    "duration": 21,
    "start_time": "2022-02-02T17:49:25.791Z"
   },
   {
    "duration": 6,
    "start_time": "2022-02-02T17:49:25.814Z"
   },
   {
    "duration": 103,
    "start_time": "2022-02-02T17:49:25.821Z"
   },
   {
    "duration": 33,
    "start_time": "2022-02-02T17:49:25.926Z"
   },
   {
    "duration": 6,
    "start_time": "2022-02-02T17:49:25.961Z"
   },
   {
    "duration": 89,
    "start_time": "2022-02-02T17:49:25.968Z"
   },
   {
    "duration": 35,
    "start_time": "2022-02-02T17:49:26.059Z"
   },
   {
    "duration": 58,
    "start_time": "2022-02-02T17:49:26.095Z"
   },
   {
    "duration": 2,
    "start_time": "2022-02-02T17:49:26.155Z"
   },
   {
    "duration": 6,
    "start_time": "2022-02-02T17:49:26.158Z"
   },
   {
    "duration": 21,
    "start_time": "2022-02-02T17:49:40.447Z"
   },
   {
    "duration": 377,
    "start_time": "2022-02-02T17:52:15.645Z"
   },
   {
    "duration": 10,
    "start_time": "2022-02-02T17:52:20.493Z"
   },
   {
    "duration": 20,
    "start_time": "2022-02-02T17:52:29.918Z"
   },
   {
    "duration": 227,
    "start_time": "2022-02-02T17:54:19.233Z"
   },
   {
    "duration": 43,
    "start_time": "2022-02-02T17:54:41.027Z"
   },
   {
    "duration": 4,
    "start_time": "2022-02-02T17:55:40.073Z"
   },
   {
    "duration": 42,
    "start_time": "2022-02-02T17:56:25.160Z"
   },
   {
    "duration": 232,
    "start_time": "2022-02-02T17:58:50.902Z"
   },
   {
    "duration": 24,
    "start_time": "2022-02-02T17:59:28.838Z"
   },
   {
    "duration": 1538,
    "start_time": "2022-02-02T17:59:59.593Z"
   },
   {
    "duration": 165,
    "start_time": "2022-02-02T18:00:01.133Z"
   },
   {
    "duration": 28,
    "start_time": "2022-02-02T18:00:01.301Z"
   },
   {
    "duration": 139,
    "start_time": "2022-02-02T18:00:01.331Z"
   },
   {
    "duration": 20,
    "start_time": "2022-02-02T18:00:01.472Z"
   },
   {
    "duration": 110,
    "start_time": "2022-02-02T18:00:01.494Z"
   },
   {
    "duration": 21,
    "start_time": "2022-02-02T18:00:01.606Z"
   },
   {
    "duration": 20,
    "start_time": "2022-02-02T18:00:01.630Z"
   },
   {
    "duration": 11,
    "start_time": "2022-02-02T18:00:01.652Z"
   },
   {
    "duration": 55,
    "start_time": "2022-02-02T18:00:01.665Z"
   },
   {
    "duration": 7,
    "start_time": "2022-02-02T18:00:01.722Z"
   },
   {
    "duration": 13,
    "start_time": "2022-02-02T18:00:01.730Z"
   },
   {
    "duration": 105,
    "start_time": "2022-02-02T18:00:01.745Z"
   },
   {
    "duration": 36,
    "start_time": "2022-02-02T18:00:01.852Z"
   },
   {
    "duration": 23,
    "start_time": "2022-02-02T18:00:01.890Z"
   },
   {
    "duration": 63,
    "start_time": "2022-02-02T18:00:01.914Z"
   },
   {
    "duration": 56,
    "start_time": "2022-02-02T18:00:01.979Z"
   },
   {
    "duration": 49,
    "start_time": "2022-02-02T18:00:02.037Z"
   },
   {
    "duration": 3,
    "start_time": "2022-02-02T18:00:02.088Z"
   },
   {
    "duration": 22,
    "start_time": "2022-02-02T18:00:02.113Z"
   },
   {
    "duration": 32,
    "start_time": "2022-02-02T18:00:02.137Z"
   },
   {
    "duration": 4,
    "start_time": "2022-02-02T18:00:02.171Z"
   },
   {
    "duration": 67,
    "start_time": "2022-02-02T18:00:02.178Z"
   },
   {
    "duration": 72,
    "start_time": "2022-02-02T18:00:02.247Z"
   },
   {
    "duration": 31,
    "start_time": "2022-02-02T18:00:12.320Z"
   },
   {
    "duration": 1062,
    "start_time": "2022-02-02T18:02:33.425Z"
   },
   {
    "duration": 155,
    "start_time": "2022-02-02T18:02:34.489Z"
   },
   {
    "duration": 23,
    "start_time": "2022-02-02T18:02:34.646Z"
   },
   {
    "duration": 143,
    "start_time": "2022-02-02T18:02:34.671Z"
   },
   {
    "duration": 17,
    "start_time": "2022-02-02T18:02:34.816Z"
   },
   {
    "duration": 101,
    "start_time": "2022-02-02T18:02:34.835Z"
   },
   {
    "duration": 14,
    "start_time": "2022-02-02T18:02:34.938Z"
   },
   {
    "duration": 25,
    "start_time": "2022-02-02T18:02:34.955Z"
   },
   {
    "duration": 6,
    "start_time": "2022-02-02T18:02:34.982Z"
   },
   {
    "duration": 38,
    "start_time": "2022-02-02T18:02:34.990Z"
   },
   {
    "duration": 7,
    "start_time": "2022-02-02T18:02:35.029Z"
   },
   {
    "duration": 11,
    "start_time": "2022-02-02T18:02:35.038Z"
   },
   {
    "duration": 86,
    "start_time": "2022-02-02T18:02:35.050Z"
   },
   {
    "duration": 32,
    "start_time": "2022-02-02T18:02:35.138Z"
   },
   {
    "duration": 6,
    "start_time": "2022-02-02T18:02:35.172Z"
   },
   {
    "duration": 84,
    "start_time": "2022-02-02T18:02:35.180Z"
   },
   {
    "duration": 52,
    "start_time": "2022-02-02T18:02:35.265Z"
   },
   {
    "duration": 47,
    "start_time": "2022-02-02T18:02:35.318Z"
   },
   {
    "duration": 3,
    "start_time": "2022-02-02T18:02:35.366Z"
   },
   {
    "duration": 42,
    "start_time": "2022-02-02T18:02:35.370Z"
   },
   {
    "duration": 29,
    "start_time": "2022-02-02T18:02:35.414Z"
   },
   {
    "duration": 4,
    "start_time": "2022-02-02T18:02:35.444Z"
   },
   {
    "duration": 35,
    "start_time": "2022-02-02T18:02:35.450Z"
   },
   {
    "duration": 97,
    "start_time": "2022-02-02T18:02:35.486Z"
   },
   {
    "duration": 29,
    "start_time": "2022-02-02T18:03:14.238Z"
   },
   {
    "duration": 288,
    "start_time": "2022-02-02T18:06:51.727Z"
   },
   {
    "duration": 3,
    "start_time": "2022-02-02T18:06:57.008Z"
   },
   {
    "duration": 6,
    "start_time": "2022-02-02T18:07:04.518Z"
   },
   {
    "duration": 4,
    "start_time": "2022-02-02T18:09:14.176Z"
   },
   {
    "duration": 75,
    "start_time": "2022-02-02T18:09:37.070Z"
   },
   {
    "duration": 79,
    "start_time": "2022-02-02T18:09:44.557Z"
   },
   {
    "duration": 241,
    "start_time": "2022-02-02T18:10:01.669Z"
   },
   {
    "duration": 1097,
    "start_time": "2022-02-02T18:10:09.315Z"
   },
   {
    "duration": 171,
    "start_time": "2022-02-02T18:10:10.414Z"
   },
   {
    "duration": 26,
    "start_time": "2022-02-02T18:10:10.587Z"
   },
   {
    "duration": 152,
    "start_time": "2022-02-02T18:10:10.615Z"
   },
   {
    "duration": 20,
    "start_time": "2022-02-02T18:10:10.769Z"
   },
   {
    "duration": 107,
    "start_time": "2022-02-02T18:10:10.791Z"
   },
   {
    "duration": 23,
    "start_time": "2022-02-02T18:10:10.900Z"
   },
   {
    "duration": 19,
    "start_time": "2022-02-02T18:10:10.924Z"
   },
   {
    "duration": 10,
    "start_time": "2022-02-02T18:10:10.946Z"
   },
   {
    "duration": 40,
    "start_time": "2022-02-02T18:10:10.958Z"
   },
   {
    "duration": 6,
    "start_time": "2022-02-02T18:10:11.000Z"
   },
   {
    "duration": 6,
    "start_time": "2022-02-02T18:10:11.012Z"
   },
   {
    "duration": 93,
    "start_time": "2022-02-02T18:10:11.019Z"
   },
   {
    "duration": 36,
    "start_time": "2022-02-02T18:10:11.114Z"
   },
   {
    "duration": 8,
    "start_time": "2022-02-02T18:10:11.152Z"
   },
   {
    "duration": 91,
    "start_time": "2022-02-02T18:10:11.162Z"
   },
   {
    "duration": 39,
    "start_time": "2022-02-02T18:10:11.255Z"
   },
   {
    "duration": 63,
    "start_time": "2022-02-02T18:10:11.297Z"
   },
   {
    "duration": 52,
    "start_time": "2022-02-02T18:10:11.363Z"
   },
   {
    "duration": 35,
    "start_time": "2022-02-02T18:10:11.417Z"
   },
   {
    "duration": 5,
    "start_time": "2022-02-02T18:10:11.455Z"
   },
   {
    "duration": 75,
    "start_time": "2022-02-02T18:10:11.462Z"
   },
   {
    "duration": 33,
    "start_time": "2022-02-02T18:10:11.539Z"
   },
   {
    "duration": 5,
    "start_time": "2022-02-02T18:10:11.575Z"
   },
   {
    "duration": 1080,
    "start_time": "2022-02-02T18:14:01.883Z"
   },
   {
    "duration": 178,
    "start_time": "2022-02-02T18:14:02.969Z"
   },
   {
    "duration": 22,
    "start_time": "2022-02-02T18:14:03.149Z"
   },
   {
    "duration": 160,
    "start_time": "2022-02-02T18:14:03.173Z"
   },
   {
    "duration": 19,
    "start_time": "2022-02-02T18:14:03.335Z"
   },
   {
    "duration": 115,
    "start_time": "2022-02-02T18:14:03.355Z"
   },
   {
    "duration": 18,
    "start_time": "2022-02-02T18:14:03.472Z"
   },
   {
    "duration": 40,
    "start_time": "2022-02-02T18:14:03.493Z"
   },
   {
    "duration": 7,
    "start_time": "2022-02-02T18:14:03.536Z"
   },
   {
    "duration": 35,
    "start_time": "2022-02-02T18:14:03.545Z"
   },
   {
    "duration": 9,
    "start_time": "2022-02-02T18:14:03.582Z"
   },
   {
    "duration": 25,
    "start_time": "2022-02-02T18:14:03.593Z"
   },
   {
    "duration": 101,
    "start_time": "2022-02-02T18:14:03.621Z"
   },
   {
    "duration": 38,
    "start_time": "2022-02-02T18:14:03.724Z"
   },
   {
    "duration": 8,
    "start_time": "2022-02-02T18:14:03.765Z"
   },
   {
    "duration": 90,
    "start_time": "2022-02-02T18:14:03.775Z"
   },
   {
    "duration": 64,
    "start_time": "2022-02-02T18:14:03.868Z"
   },
   {
    "duration": 49,
    "start_time": "2022-02-02T18:14:03.934Z"
   },
   {
    "duration": 42,
    "start_time": "2022-02-02T18:14:03.985Z"
   },
   {
    "duration": 33,
    "start_time": "2022-02-02T18:14:04.029Z"
   },
   {
    "duration": 4,
    "start_time": "2022-02-02T18:14:04.064Z"
   },
   {
    "duration": 70,
    "start_time": "2022-02-02T18:14:04.071Z"
   },
   {
    "duration": 28,
    "start_time": "2022-02-02T18:14:04.143Z"
   },
   {
    "duration": 5,
    "start_time": "2022-02-02T18:14:04.174Z"
   },
   {
    "duration": 4,
    "start_time": "2022-02-02T18:16:40.790Z"
   },
   {
    "duration": 23,
    "start_time": "2022-02-02T18:16:47.398Z"
   },
   {
    "duration": 24,
    "start_time": "2022-02-02T18:18:07.726Z"
   },
   {
    "duration": 8,
    "start_time": "2022-02-02T19:09:02.898Z"
   },
   {
    "duration": 6857,
    "start_time": "2022-02-02T19:11:09.504Z"
   },
   {
    "duration": 5546,
    "start_time": "2022-02-02T19:11:57.287Z"
   },
   {
    "duration": 7,
    "start_time": "2022-02-02T19:15:44.492Z"
   },
   {
    "duration": 45,
    "start_time": "2022-02-02T19:16:41.570Z"
   },
   {
    "duration": 1051,
    "start_time": "2022-02-02T19:17:38.539Z"
   },
   {
    "duration": 159,
    "start_time": "2022-02-02T19:17:39.592Z"
   },
   {
    "duration": 20,
    "start_time": "2022-02-02T19:17:39.753Z"
   },
   {
    "duration": 143,
    "start_time": "2022-02-02T19:17:39.775Z"
   },
   {
    "duration": 16,
    "start_time": "2022-02-02T19:17:39.920Z"
   },
   {
    "duration": 104,
    "start_time": "2022-02-02T19:17:39.938Z"
   },
   {
    "duration": 14,
    "start_time": "2022-02-02T19:17:40.044Z"
   },
   {
    "duration": 19,
    "start_time": "2022-02-02T19:17:40.060Z"
   },
   {
    "duration": 5,
    "start_time": "2022-02-02T19:17:40.081Z"
   },
   {
    "duration": 52,
    "start_time": "2022-02-02T19:17:40.088Z"
   },
   {
    "duration": 6,
    "start_time": "2022-02-02T19:17:40.141Z"
   },
   {
    "duration": 7,
    "start_time": "2022-02-02T19:17:40.149Z"
   },
   {
    "duration": 81,
    "start_time": "2022-02-02T19:17:40.158Z"
   },
   {
    "duration": 34,
    "start_time": "2022-02-02T19:17:40.240Z"
   },
   {
    "duration": 7,
    "start_time": "2022-02-02T19:17:40.276Z"
   },
   {
    "duration": 81,
    "start_time": "2022-02-02T19:17:40.284Z"
   },
   {
    "duration": 51,
    "start_time": "2022-02-02T19:17:40.367Z"
   },
   {
    "duration": 45,
    "start_time": "2022-02-02T19:17:40.420Z"
   },
   {
    "duration": 17,
    "start_time": "2022-02-02T19:17:40.467Z"
   },
   {
    "duration": 52,
    "start_time": "2022-02-02T19:17:40.486Z"
   },
   {
    "duration": 3,
    "start_time": "2022-02-02T19:17:40.540Z"
   },
   {
    "duration": 35,
    "start_time": "2022-02-02T19:17:40.545Z"
   },
   {
    "duration": 24,
    "start_time": "2022-02-02T19:17:40.611Z"
   },
   {
    "duration": 5,
    "start_time": "2022-02-02T19:17:40.638Z"
   },
   {
    "duration": 32,
    "start_time": "2022-02-02T19:17:40.645Z"
   },
   {
    "duration": 106,
    "start_time": "2022-02-02T19:17:40.679Z"
   },
   {
    "duration": 32,
    "start_time": "2022-02-02T19:17:48.909Z"
   },
   {
    "duration": 6,
    "start_time": "2022-02-02T19:24:42.256Z"
   },
   {
    "duration": 5,
    "start_time": "2022-02-02T19:24:47.903Z"
   },
   {
    "duration": 5,
    "start_time": "2022-02-02T19:24:58.159Z"
   },
   {
    "duration": 4,
    "start_time": "2022-02-02T19:25:02.936Z"
   },
   {
    "duration": 4,
    "start_time": "2022-02-02T19:29:04.267Z"
   },
   {
    "duration": 544,
    "start_time": "2022-02-02T19:29:44.074Z"
   },
   {
    "duration": 4,
    "start_time": "2022-02-02T19:31:51.144Z"
   },
   {
    "duration": 436,
    "start_time": "2022-02-02T19:31:54.033Z"
   },
   {
    "duration": 6,
    "start_time": "2022-02-02T19:32:08.480Z"
   },
   {
    "duration": 139,
    "start_time": "2022-02-02T19:32:11.496Z"
   },
   {
    "duration": 30,
    "start_time": "2022-02-02T19:32:22.135Z"
   },
   {
    "duration": 30,
    "start_time": "2022-02-02T19:34:31.262Z"
   },
   {
    "duration": 6,
    "start_time": "2022-02-02T19:35:46.620Z"
   },
   {
    "duration": 5,
    "start_time": "2022-02-02T19:36:07.187Z"
   },
   {
    "duration": 4,
    "start_time": "2022-02-02T19:36:26.028Z"
   },
   {
    "duration": 1104,
    "start_time": "2022-02-02T19:37:11.291Z"
   },
   {
    "duration": 166,
    "start_time": "2022-02-02T19:37:12.396Z"
   },
   {
    "duration": 20,
    "start_time": "2022-02-02T19:37:12.564Z"
   },
   {
    "duration": 145,
    "start_time": "2022-02-02T19:37:12.587Z"
   },
   {
    "duration": 18,
    "start_time": "2022-02-02T19:37:12.734Z"
   },
   {
    "duration": 105,
    "start_time": "2022-02-02T19:37:12.753Z"
   },
   {
    "duration": 14,
    "start_time": "2022-02-02T19:37:12.860Z"
   },
   {
    "duration": 19,
    "start_time": "2022-02-02T19:37:12.876Z"
   },
   {
    "duration": 21,
    "start_time": "2022-02-02T19:37:12.897Z"
   },
   {
    "duration": 45,
    "start_time": "2022-02-02T19:37:12.919Z"
   },
   {
    "duration": 6,
    "start_time": "2022-02-02T19:37:12.965Z"
   },
   {
    "duration": 7,
    "start_time": "2022-02-02T19:37:12.972Z"
   },
   {
    "duration": 79,
    "start_time": "2022-02-02T19:37:12.981Z"
   },
   {
    "duration": 51,
    "start_time": "2022-02-02T19:37:13.062Z"
   },
   {
    "duration": 8,
    "start_time": "2022-02-02T19:37:13.116Z"
   },
   {
    "duration": 100,
    "start_time": "2022-02-02T19:37:13.126Z"
   },
   {
    "duration": 37,
    "start_time": "2022-02-02T19:37:13.228Z"
   },
   {
    "duration": 48,
    "start_time": "2022-02-02T19:37:13.266Z"
   },
   {
    "duration": 17,
    "start_time": "2022-02-02T19:37:13.316Z"
   },
   {
    "duration": 30,
    "start_time": "2022-02-02T19:37:13.335Z"
   },
   {
    "duration": 3,
    "start_time": "2022-02-02T19:37:13.366Z"
   },
   {
    "duration": 41,
    "start_time": "2022-02-02T19:37:13.371Z"
   },
   {
    "duration": 25,
    "start_time": "2022-02-02T19:37:13.415Z"
   },
   {
    "duration": 4,
    "start_time": "2022-02-02T19:37:13.441Z"
   },
   {
    "duration": 23,
    "start_time": "2022-02-02T19:37:13.447Z"
   },
   {
    "duration": 123,
    "start_time": "2022-02-02T19:37:13.471Z"
   },
   {
    "duration": -750,
    "start_time": "2022-02-02T19:37:14.346Z"
   },
   {
    "duration": -755,
    "start_time": "2022-02-02T19:37:14.352Z"
   },
   {
    "duration": -755,
    "start_time": "2022-02-02T19:37:14.353Z"
   },
   {
    "duration": -755,
    "start_time": "2022-02-02T19:37:14.354Z"
   },
   {
    "duration": -754,
    "start_time": "2022-02-02T19:37:14.355Z"
   },
   {
    "duration": -767,
    "start_time": "2022-02-02T19:37:14.369Z"
   },
   {
    "duration": 9,
    "start_time": "2022-02-02T19:39:18.372Z"
   },
   {
    "duration": 10,
    "start_time": "2022-02-02T19:40:31.068Z"
   },
   {
    "duration": 30,
    "start_time": "2022-02-02T19:48:47.186Z"
   },
   {
    "duration": 1045,
    "start_time": "2022-02-02T19:51:38.756Z"
   },
   {
    "duration": 167,
    "start_time": "2022-02-02T19:51:39.803Z"
   },
   {
    "duration": 21,
    "start_time": "2022-02-02T19:51:39.972Z"
   },
   {
    "duration": 146,
    "start_time": "2022-02-02T19:51:39.995Z"
   },
   {
    "duration": 16,
    "start_time": "2022-02-02T19:51:40.143Z"
   },
   {
    "duration": 103,
    "start_time": "2022-02-02T19:51:40.161Z"
   },
   {
    "duration": 14,
    "start_time": "2022-02-02T19:51:40.266Z"
   },
   {
    "duration": 18,
    "start_time": "2022-02-02T19:51:40.284Z"
   },
   {
    "duration": 5,
    "start_time": "2022-02-02T19:51:40.313Z"
   },
   {
    "duration": 30,
    "start_time": "2022-02-02T19:51:40.320Z"
   },
   {
    "duration": 5,
    "start_time": "2022-02-02T19:51:40.351Z"
   },
   {
    "duration": 5,
    "start_time": "2022-02-02T19:51:40.358Z"
   },
   {
    "duration": 91,
    "start_time": "2022-02-02T19:51:40.365Z"
   },
   {
    "duration": 34,
    "start_time": "2022-02-02T19:51:40.458Z"
   },
   {
    "duration": 23,
    "start_time": "2022-02-02T19:51:40.493Z"
   },
   {
    "duration": 57,
    "start_time": "2022-02-02T19:51:40.517Z"
   },
   {
    "duration": 54,
    "start_time": "2022-02-02T19:51:40.575Z"
   },
   {
    "duration": 43,
    "start_time": "2022-02-02T19:51:40.631Z"
   },
   {
    "duration": 16,
    "start_time": "2022-02-02T19:51:40.675Z"
   },
   {
    "duration": 45,
    "start_time": "2022-02-02T19:51:40.693Z"
   },
   {
    "duration": 3,
    "start_time": "2022-02-02T19:51:40.740Z"
   },
   {
    "duration": 34,
    "start_time": "2022-02-02T19:51:40.745Z"
   },
   {
    "duration": 52,
    "start_time": "2022-02-02T19:51:40.782Z"
   },
   {
    "duration": 3,
    "start_time": "2022-02-02T19:51:40.836Z"
   },
   {
    "duration": 22,
    "start_time": "2022-02-02T19:51:40.841Z"
   },
   {
    "duration": 58,
    "start_time": "2022-02-02T19:51:40.865Z"
   },
   {
    "duration": 4,
    "start_time": "2022-02-02T19:51:40.924Z"
   },
   {
    "duration": 116,
    "start_time": "2022-02-02T19:51:40.929Z"
   },
   {
    "duration": 26,
    "start_time": "2022-02-02T19:51:41.047Z"
   },
   {
    "duration": 51,
    "start_time": "2022-02-02T19:51:41.075Z"
   },
   {
    "duration": 4,
    "start_time": "2022-02-02T19:51:41.128Z"
   },
   {
    "duration": 12,
    "start_time": "2022-02-02T19:51:41.133Z"
   },
   {
    "duration": 4,
    "start_time": "2022-02-02T19:52:31.447Z"
   },
   {
    "duration": 8,
    "start_time": "2022-02-02T19:53:25.319Z"
   },
   {
    "duration": 80,
    "start_time": "2022-02-02T19:54:02.470Z"
   },
   {
    "duration": 85,
    "start_time": "2022-02-02T19:54:20.814Z"
   },
   {
    "duration": 28,
    "start_time": "2022-02-02T19:55:01.365Z"
   },
   {
    "duration": 6,
    "start_time": "2022-02-02T19:56:15.180Z"
   },
   {
    "duration": 310,
    "start_time": "2022-02-02T19:56:22.332Z"
   },
   {
    "duration": 5,
    "start_time": "2022-02-02T19:56:31.971Z"
   },
   {
    "duration": 5,
    "start_time": "2022-02-02T19:56:45.949Z"
   },
   {
    "duration": 4,
    "start_time": "2022-02-02T19:56:54.100Z"
   },
   {
    "duration": 5,
    "start_time": "2022-02-02T19:56:57.883Z"
   },
   {
    "duration": 1057,
    "start_time": "2022-02-02T19:57:43.824Z"
   },
   {
    "duration": 165,
    "start_time": "2022-02-02T19:57:44.882Z"
   },
   {
    "duration": 21,
    "start_time": "2022-02-02T19:57:45.049Z"
   },
   {
    "duration": 139,
    "start_time": "2022-02-02T19:57:45.071Z"
   },
   {
    "duration": 16,
    "start_time": "2022-02-02T19:57:45.212Z"
   },
   {
    "duration": 102,
    "start_time": "2022-02-02T19:57:45.230Z"
   },
   {
    "duration": 14,
    "start_time": "2022-02-02T19:57:45.334Z"
   },
   {
    "duration": 22,
    "start_time": "2022-02-02T19:57:45.352Z"
   },
   {
    "duration": 7,
    "start_time": "2022-02-02T19:57:45.377Z"
   },
   {
    "duration": 36,
    "start_time": "2022-02-02T19:57:45.386Z"
   },
   {
    "duration": 5,
    "start_time": "2022-02-02T19:57:45.423Z"
   },
   {
    "duration": 6,
    "start_time": "2022-02-02T19:57:45.430Z"
   },
   {
    "duration": 97,
    "start_time": "2022-02-02T19:57:45.438Z"
   },
   {
    "duration": 32,
    "start_time": "2022-02-02T19:57:45.537Z"
   },
   {
    "duration": 6,
    "start_time": "2022-02-02T19:57:45.571Z"
   },
   {
    "duration": 79,
    "start_time": "2022-02-02T19:57:45.578Z"
   },
   {
    "duration": 34,
    "start_time": "2022-02-02T19:57:45.658Z"
   },
   {
    "duration": 59,
    "start_time": "2022-02-02T19:57:45.693Z"
   },
   {
    "duration": 16,
    "start_time": "2022-02-02T19:57:45.754Z"
   },
   {
    "duration": 52,
    "start_time": "2022-02-02T19:57:45.773Z"
   },
   {
    "duration": 4,
    "start_time": "2022-02-02T19:57:45.827Z"
   },
   {
    "duration": 34,
    "start_time": "2022-02-02T19:57:45.833Z"
   },
   {
    "duration": 53,
    "start_time": "2022-02-02T19:57:45.871Z"
   },
   {
    "duration": 5,
    "start_time": "2022-02-02T19:57:45.926Z"
   },
   {
    "duration": 23,
    "start_time": "2022-02-02T19:57:45.932Z"
   },
   {
    "duration": 63,
    "start_time": "2022-02-02T19:57:45.957Z"
   },
   {
    "duration": 4,
    "start_time": "2022-02-02T19:57:46.022Z"
   },
   {
    "duration": 124,
    "start_time": "2022-02-02T19:57:46.028Z"
   },
   {
    "duration": 67,
    "start_time": "2022-02-02T19:57:46.154Z"
   },
   {
    "duration": -274,
    "start_time": "2022-02-02T19:57:46.497Z"
   },
   {
    "duration": -276,
    "start_time": "2022-02-02T19:57:46.500Z"
   },
   {
    "duration": -277,
    "start_time": "2022-02-02T19:57:46.502Z"
   },
   {
    "duration": 5,
    "start_time": "2022-02-02T19:58:06.859Z"
   },
   {
    "duration": 5,
    "start_time": "2022-02-02T19:58:13.058Z"
   },
   {
    "duration": 4,
    "start_time": "2022-02-02T19:58:17.394Z"
   },
   {
    "duration": 5,
    "start_time": "2022-02-02T19:58:20.721Z"
   },
   {
    "duration": 28,
    "start_time": "2022-02-02T19:58:32.633Z"
   },
   {
    "duration": 29,
    "start_time": "2022-02-02T19:58:34.706Z"
   },
   {
    "duration": 7,
    "start_time": "2022-02-02T19:58:41.009Z"
   },
   {
    "duration": 28,
    "start_time": "2022-02-02T19:58:42.865Z"
   },
   {
    "duration": 1567,
    "start_time": "2022-02-03T10:27:25.761Z"
   },
   {
    "duration": 322,
    "start_time": "2022-02-03T10:27:27.331Z"
   },
   {
    "duration": 46,
    "start_time": "2022-02-03T10:27:27.661Z"
   },
   {
    "duration": 237,
    "start_time": "2022-02-03T10:27:27.710Z"
   },
   {
    "duration": 42,
    "start_time": "2022-02-03T10:27:27.950Z"
   },
   {
    "duration": 143,
    "start_time": "2022-02-03T10:27:27.994Z"
   },
   {
    "duration": 43,
    "start_time": "2022-02-03T10:27:28.141Z"
   },
   {
    "duration": 29,
    "start_time": "2022-02-03T10:27:28.189Z"
   },
   {
    "duration": 9,
    "start_time": "2022-02-03T10:27:28.222Z"
   },
   {
    "duration": 76,
    "start_time": "2022-02-03T10:27:28.234Z"
   },
   {
    "duration": 9,
    "start_time": "2022-02-03T10:27:28.312Z"
   },
   {
    "duration": 11,
    "start_time": "2022-02-03T10:27:28.323Z"
   },
   {
    "duration": 131,
    "start_time": "2022-02-03T10:27:28.336Z"
   },
   {
    "duration": 85,
    "start_time": "2022-02-03T10:27:28.475Z"
   },
   {
    "duration": 11,
    "start_time": "2022-02-03T10:27:28.564Z"
   },
   {
    "duration": 109,
    "start_time": "2022-02-03T10:27:28.579Z"
   },
   {
    "duration": 49,
    "start_time": "2022-02-03T10:27:28.691Z"
   },
   {
    "duration": 85,
    "start_time": "2022-02-03T10:27:28.743Z"
   },
   {
    "duration": 47,
    "start_time": "2022-02-03T10:27:28.831Z"
   },
   {
    "duration": 48,
    "start_time": "2022-02-03T10:27:28.881Z"
   },
   {
    "duration": 28,
    "start_time": "2022-02-03T10:27:28.931Z"
   },
   {
    "duration": 62,
    "start_time": "2022-02-03T10:27:28.963Z"
   },
   {
    "duration": 68,
    "start_time": "2022-02-03T10:27:29.029Z"
   },
   {
    "duration": 8,
    "start_time": "2022-02-03T10:27:29.100Z"
   },
   {
    "duration": 72,
    "start_time": "2022-02-03T10:27:29.110Z"
   },
   {
    "duration": 115,
    "start_time": "2022-02-03T10:27:29.185Z"
   },
   {
    "duration": 371,
    "start_time": "2022-02-03T10:27:28.932Z"
   },
   {
    "duration": 362,
    "start_time": "2022-02-03T10:27:28.943Z"
   },
   {
    "duration": 362,
    "start_time": "2022-02-03T10:27:28.946Z"
   },
   {
    "duration": 362,
    "start_time": "2022-02-03T10:27:28.948Z"
   },
   {
    "duration": 362,
    "start_time": "2022-02-03T10:27:28.950Z"
   },
   {
    "duration": 362,
    "start_time": "2022-02-03T10:27:28.953Z"
   },
   {
    "duration": 107,
    "start_time": "2022-02-03T10:28:13.156Z"
   },
   {
    "duration": 79,
    "start_time": "2022-02-03T10:28:26.907Z"
   },
   {
    "duration": 6,
    "start_time": "2022-02-03T10:35:24.892Z"
   },
   {
    "duration": 212,
    "start_time": "2022-02-03T10:36:14.395Z"
   },
   {
    "duration": 43,
    "start_time": "2022-02-03T10:36:16.194Z"
   },
   {
    "duration": 5,
    "start_time": "2022-02-03T10:36:28.395Z"
   },
   {
    "duration": 202,
    "start_time": "2022-02-03T10:36:31.060Z"
   },
   {
    "duration": 42,
    "start_time": "2022-02-03T10:36:32.332Z"
   },
   {
    "duration": 5,
    "start_time": "2022-02-03T10:36:51.044Z"
   },
   {
    "duration": 197,
    "start_time": "2022-02-03T10:37:38.897Z"
   },
   {
    "duration": 45,
    "start_time": "2022-02-03T10:37:44.482Z"
   },
   {
    "duration": 44,
    "start_time": "2022-02-03T10:41:00.417Z"
   },
   {
    "duration": 47,
    "start_time": "2022-02-03T10:41:32.263Z"
   },
   {
    "duration": 9,
    "start_time": "2022-02-03T10:43:21.396Z"
   },
   {
    "duration": 111,
    "start_time": "2022-02-03T10:44:12.228Z"
   },
   {
    "duration": 142,
    "start_time": "2022-02-03T10:44:29.491Z"
   },
   {
    "duration": 9,
    "start_time": "2022-02-03T10:44:51.140Z"
   },
   {
    "duration": 45,
    "start_time": "2022-02-03T10:44:58.495Z"
   },
   {
    "duration": 9,
    "start_time": "2022-02-03T10:45:21.035Z"
   },
   {
    "duration": 103,
    "start_time": "2022-02-03T10:45:51.873Z"
   },
   {
    "duration": 9,
    "start_time": "2022-02-03T10:46:02.682Z"
   },
   {
    "duration": 8,
    "start_time": "2022-02-03T10:46:14.793Z"
   },
   {
    "duration": 10,
    "start_time": "2022-02-03T10:46:15.994Z"
   },
   {
    "duration": 107,
    "start_time": "2022-02-03T10:50:25.909Z"
   },
   {
    "duration": 114,
    "start_time": "2022-02-03T10:50:49.349Z"
   },
   {
    "duration": 112,
    "start_time": "2022-02-03T10:52:37.323Z"
   },
   {
    "duration": 9,
    "start_time": "2022-02-03T10:52:56.395Z"
   },
   {
    "duration": 9,
    "start_time": "2022-02-03T10:55:30.409Z"
   },
   {
    "duration": 11,
    "start_time": "2022-02-03T10:56:58.087Z"
   },
   {
    "duration": 11,
    "start_time": "2022-02-03T10:57:07.807Z"
   },
   {
    "duration": 1384,
    "start_time": "2022-02-03T10:58:14.528Z"
   },
   {
    "duration": 216,
    "start_time": "2022-02-03T10:58:15.915Z"
   },
   {
    "duration": 40,
    "start_time": "2022-02-03T10:58:16.137Z"
   },
   {
    "duration": 189,
    "start_time": "2022-02-03T10:58:16.180Z"
   },
   {
    "duration": 33,
    "start_time": "2022-02-03T10:58:16.372Z"
   },
   {
    "duration": 167,
    "start_time": "2022-02-03T10:58:16.407Z"
   },
   {
    "duration": 19,
    "start_time": "2022-02-03T10:58:16.577Z"
   },
   {
    "duration": 27,
    "start_time": "2022-02-03T10:58:16.599Z"
   },
   {
    "duration": 8,
    "start_time": "2022-02-03T10:58:16.629Z"
   },
   {
    "duration": 61,
    "start_time": "2022-02-03T10:58:16.639Z"
   },
   {
    "duration": 9,
    "start_time": "2022-02-03T10:58:16.702Z"
   },
   {
    "duration": 8,
    "start_time": "2022-02-03T10:58:16.714Z"
   },
   {
    "duration": 110,
    "start_time": "2022-02-03T10:58:16.724Z"
   },
   {
    "duration": 54,
    "start_time": "2022-02-03T10:58:16.836Z"
   },
   {
    "duration": 8,
    "start_time": "2022-02-03T10:58:16.892Z"
   },
   {
    "duration": 99,
    "start_time": "2022-02-03T10:58:16.903Z"
   },
   {
    "duration": 62,
    "start_time": "2022-02-03T10:58:17.005Z"
   },
   {
    "duration": 65,
    "start_time": "2022-02-03T10:58:17.069Z"
   },
   {
    "duration": 43,
    "start_time": "2022-02-03T10:58:17.136Z"
   },
   {
    "duration": 45,
    "start_time": "2022-02-03T10:58:17.182Z"
   },
   {
    "duration": 5,
    "start_time": "2022-02-03T10:58:17.230Z"
   },
   {
    "duration": 52,
    "start_time": "2022-02-03T10:58:17.259Z"
   },
   {
    "duration": 62,
    "start_time": "2022-02-03T10:58:17.313Z"
   },
   {
    "duration": 5,
    "start_time": "2022-02-03T10:58:17.377Z"
   },
   {
    "duration": 37,
    "start_time": "2022-02-03T10:58:17.384Z"
   },
   {
    "duration": 77,
    "start_time": "2022-02-03T10:58:17.423Z"
   },
   {
    "duration": 210,
    "start_time": "2022-02-03T10:58:17.503Z"
   },
   {
    "duration": 3,
    "start_time": "2022-02-03T10:58:17.716Z"
   },
   {
    "duration": 55,
    "start_time": "2022-02-03T10:58:17.722Z"
   },
   {
    "duration": 46,
    "start_time": "2022-02-03T10:58:17.780Z"
   },
   {
    "duration": 33,
    "start_time": "2022-02-03T10:58:17.828Z"
   },
   {
    "duration": 5,
    "start_time": "2022-02-03T11:02:00.589Z"
   },
   {
    "duration": 441,
    "start_time": "2022-02-03T11:02:08.692Z"
   },
   {
    "duration": 338,
    "start_time": "2022-02-03T11:02:30.188Z"
   },
   {
    "duration": 12,
    "start_time": "2022-02-03T11:02:52.484Z"
   },
   {
    "duration": 6,
    "start_time": "2022-02-03T11:10:58.033Z"
   },
   {
    "duration": 9,
    "start_time": "2022-02-03T11:13:15.242Z"
   },
   {
    "duration": 12,
    "start_time": "2022-02-03T11:13:25.649Z"
   },
   {
    "duration": 7,
    "start_time": "2022-02-03T11:13:45.858Z"
   },
   {
    "duration": 13,
    "start_time": "2022-02-03T11:14:09.321Z"
   },
   {
    "duration": 13,
    "start_time": "2022-02-03T11:14:22.728Z"
   },
   {
    "duration": 15,
    "start_time": "2022-02-03T11:15:40.551Z"
   },
   {
    "duration": 12,
    "start_time": "2022-02-03T11:25:46.845Z"
   },
   {
    "duration": 6,
    "start_time": "2022-02-03T11:26:01.316Z"
   },
   {
    "duration": 6,
    "start_time": "2022-02-03T11:26:10.748Z"
   },
   {
    "duration": 6,
    "start_time": "2022-02-03T11:27:39.315Z"
   },
   {
    "duration": 6,
    "start_time": "2022-02-03T11:28:17.825Z"
   },
   {
    "duration": 6,
    "start_time": "2022-02-03T11:31:40.456Z"
   },
   {
    "duration": 5,
    "start_time": "2022-02-03T11:32:02.423Z"
   },
   {
    "duration": 120,
    "start_time": "2022-02-03T11:32:45.006Z"
   },
   {
    "duration": 105,
    "start_time": "2022-02-03T11:32:52.493Z"
   },
   {
    "duration": 99,
    "start_time": "2022-02-03T11:33:03.750Z"
   },
   {
    "duration": 234,
    "start_time": "2022-02-03T11:33:08.389Z"
   },
   {
    "duration": 173,
    "start_time": "2022-02-03T11:36:50.347Z"
   },
   {
    "duration": 9,
    "start_time": "2022-02-03T11:36:59.754Z"
   },
   {
    "duration": 15,
    "start_time": "2022-02-03T11:37:56.928Z"
   },
   {
    "duration": 7,
    "start_time": "2022-02-03T11:38:06.800Z"
   },
   {
    "duration": 8,
    "start_time": "2022-02-03T11:38:23.848Z"
   },
   {
    "duration": 5574,
    "start_time": "2022-02-03T11:40:35.957Z"
   },
   {
    "duration": 350,
    "start_time": "2022-02-03T11:41:02.109Z"
   },
   {
    "duration": 139,
    "start_time": "2022-02-03T12:15:16.108Z"
   },
   {
    "duration": 12,
    "start_time": "2022-02-03T12:16:09.443Z"
   },
   {
    "duration": 5,
    "start_time": "2022-02-03T12:16:26.899Z"
   },
   {
    "duration": 5,
    "start_time": "2022-02-03T12:16:52.507Z"
   },
   {
    "duration": 10,
    "start_time": "2022-02-03T12:16:58.201Z"
   },
   {
    "duration": 7,
    "start_time": "2022-02-03T12:17:30.073Z"
   },
   {
    "duration": 7,
    "start_time": "2022-02-03T12:18:47.608Z"
   },
   {
    "duration": 357,
    "start_time": "2022-02-03T12:19:03.599Z"
   },
   {
    "duration": 658,
    "start_time": "2022-02-03T12:35:21.808Z"
   },
   {
    "duration": 401,
    "start_time": "2022-02-03T12:38:32.764Z"
   },
   {
    "duration": 394,
    "start_time": "2022-02-03T12:38:58.316Z"
   },
   {
    "duration": 488,
    "start_time": "2022-02-03T12:39:03.860Z"
   },
   {
    "duration": 10,
    "start_time": "2022-02-03T13:12:24.402Z"
   },
   {
    "duration": 7,
    "start_time": "2022-02-03T13:12:32.081Z"
   },
   {
    "duration": 6,
    "start_time": "2022-02-03T13:13:05.401Z"
   },
   {
    "duration": 6,
    "start_time": "2022-02-03T13:15:05.544Z"
   },
   {
    "duration": 6,
    "start_time": "2022-02-03T13:15:26.854Z"
   },
   {
    "duration": 6,
    "start_time": "2022-02-03T13:17:48.806Z"
   },
   {
    "duration": 328,
    "start_time": "2022-02-03T13:18:27.317Z"
   },
   {
    "duration": 109,
    "start_time": "2022-02-03T13:22:59.486Z"
   },
   {
    "duration": 318,
    "start_time": "2022-02-03T13:24:42.263Z"
   },
   {
    "duration": 335,
    "start_time": "2022-02-03T13:25:08.308Z"
   },
   {
    "duration": 10,
    "start_time": "2022-02-03T13:25:34.735Z"
   },
   {
    "duration": 6,
    "start_time": "2022-02-03T13:25:43.863Z"
   },
   {
    "duration": 6,
    "start_time": "2022-02-03T13:26:06.790Z"
   },
   {
    "duration": 6,
    "start_time": "2022-02-03T13:26:20.079Z"
   },
   {
    "duration": 8,
    "start_time": "2022-02-03T13:27:03.461Z"
   },
   {
    "duration": 306,
    "start_time": "2022-02-03T13:27:29.149Z"
   },
   {
    "duration": 402,
    "start_time": "2022-02-03T13:29:00.564Z"
   },
   {
    "duration": 363,
    "start_time": "2022-02-03T13:29:17.233Z"
   },
   {
    "duration": 364,
    "start_time": "2022-02-03T13:29:44.266Z"
   },
   {
    "duration": 369,
    "start_time": "2022-02-03T13:29:49.084Z"
   },
   {
    "duration": 9,
    "start_time": "2022-02-03T13:37:16.395Z"
   },
   {
    "duration": 5,
    "start_time": "2022-02-03T13:37:23.458Z"
   },
   {
    "duration": 6,
    "start_time": "2022-02-03T13:38:03.900Z"
   },
   {
    "duration": 7,
    "start_time": "2022-02-03T13:38:19.841Z"
   },
   {
    "duration": 7,
    "start_time": "2022-02-03T13:39:30.113Z"
   },
   {
    "duration": 379,
    "start_time": "2022-02-03T13:40:20.121Z"
   },
   {
    "duration": 9,
    "start_time": "2022-02-03T13:44:47.906Z"
   },
   {
    "duration": 6,
    "start_time": "2022-02-03T13:45:06.203Z"
   },
   {
    "duration": 6,
    "start_time": "2022-02-03T13:45:22.138Z"
   },
   {
    "duration": 6,
    "start_time": "2022-02-03T13:45:37.778Z"
   },
   {
    "duration": 8,
    "start_time": "2022-02-03T13:56:46.579Z"
   },
   {
    "duration": 313,
    "start_time": "2022-02-03T13:57:03.495Z"
   },
   {
    "duration": 366,
    "start_time": "2022-02-03T14:02:59.155Z"
   },
   {
    "duration": 1370,
    "start_time": "2022-02-03T14:03:57.593Z"
   },
   {
    "duration": 216,
    "start_time": "2022-02-03T14:03:58.966Z"
   },
   {
    "duration": 38,
    "start_time": "2022-02-03T14:03:59.185Z"
   },
   {
    "duration": 184,
    "start_time": "2022-02-03T14:03:59.226Z"
   },
   {
    "duration": 23,
    "start_time": "2022-02-03T14:03:59.412Z"
   },
   {
    "duration": 139,
    "start_time": "2022-02-03T14:03:59.438Z"
   },
   {
    "duration": 27,
    "start_time": "2022-02-03T14:03:59.579Z"
   },
   {
    "duration": 26,
    "start_time": "2022-02-03T14:03:59.609Z"
   },
   {
    "duration": 22,
    "start_time": "2022-02-03T14:03:59.639Z"
   },
   {
    "duration": 52,
    "start_time": "2022-02-03T14:03:59.664Z"
   },
   {
    "duration": 9,
    "start_time": "2022-02-03T14:03:59.719Z"
   },
   {
    "duration": 8,
    "start_time": "2022-02-03T14:03:59.730Z"
   },
   {
    "duration": 107,
    "start_time": "2022-02-03T14:03:59.741Z"
   },
   {
    "duration": 54,
    "start_time": "2022-02-03T14:03:59.859Z"
   },
   {
    "duration": 8,
    "start_time": "2022-02-03T14:03:59.915Z"
   },
   {
    "duration": 102,
    "start_time": "2022-02-03T14:03:59.926Z"
   },
   {
    "duration": 68,
    "start_time": "2022-02-03T14:04:00.031Z"
   },
   {
    "duration": 80,
    "start_time": "2022-02-03T14:04:00.102Z"
   },
   {
    "duration": 26,
    "start_time": "2022-02-03T14:04:00.185Z"
   },
   {
    "duration": 63,
    "start_time": "2022-02-03T14:04:00.213Z"
   },
   {
    "duration": 5,
    "start_time": "2022-02-03T14:04:00.279Z"
   },
   {
    "duration": 74,
    "start_time": "2022-02-03T14:04:00.286Z"
   },
   {
    "duration": 38,
    "start_time": "2022-02-03T14:04:00.366Z"
   },
   {
    "duration": 4,
    "start_time": "2022-02-03T14:04:00.408Z"
   },
   {
    "duration": 61,
    "start_time": "2022-02-03T14:04:00.415Z"
   },
   {
    "duration": 49,
    "start_time": "2022-02-03T14:04:00.478Z"
   },
   {
    "duration": 217,
    "start_time": "2022-02-03T14:04:00.529Z"
   },
   {
    "duration": 50,
    "start_time": "2022-02-03T14:04:00.749Z"
   },
   {
    "duration": 69,
    "start_time": "2022-02-03T14:04:00.802Z"
   },
   {
    "duration": 13,
    "start_time": "2022-02-03T14:04:00.874Z"
   },
   {
    "duration": 22,
    "start_time": "2022-02-03T14:04:00.889Z"
   },
   {
    "duration": 5,
    "start_time": "2022-02-03T14:04:00.914Z"
   },
   {
    "duration": 40,
    "start_time": "2022-02-03T14:04:00.922Z"
   },
   {
    "duration": 7,
    "start_time": "2022-02-03T14:04:00.964Z"
   },
   {
    "duration": 8,
    "start_time": "2022-02-03T14:04:00.974Z"
   },
   {
    "duration": 510,
    "start_time": "2022-02-03T14:04:00.985Z"
   },
   {
    "duration": 12,
    "start_time": "2022-02-03T14:04:01.498Z"
   },
   {
    "duration": 28,
    "start_time": "2022-02-03T14:04:01.513Z"
   },
   {
    "duration": 24,
    "start_time": "2022-02-03T14:04:01.544Z"
   },
   {
    "duration": 11,
    "start_time": "2022-02-03T14:04:01.571Z"
   },
   {
    "duration": 12,
    "start_time": "2022-02-03T14:04:01.584Z"
   },
   {
    "duration": 414,
    "start_time": "2022-02-03T14:04:01.599Z"
   },
   {
    "duration": 421,
    "start_time": "2022-02-03T14:04:02.015Z"
   },
   {
    "duration": 21,
    "start_time": "2022-02-03T14:04:02.438Z"
   },
   {
    "duration": 6,
    "start_time": "2022-02-03T14:04:02.462Z"
   },
   {
    "duration": 8,
    "start_time": "2022-02-03T14:04:02.471Z"
   },
   {
    "duration": 7,
    "start_time": "2022-02-03T14:04:02.482Z"
   },
   {
    "duration": 10,
    "start_time": "2022-02-03T14:04:02.492Z"
   },
   {
    "duration": 402,
    "start_time": "2022-02-03T14:04:02.504Z"
   },
   {
    "duration": 11,
    "start_time": "2022-02-03T14:04:02.909Z"
   },
   {
    "duration": 8,
    "start_time": "2022-02-03T14:04:02.923Z"
   },
   {
    "duration": 31,
    "start_time": "2022-02-03T14:04:02.933Z"
   },
   {
    "duration": 6,
    "start_time": "2022-02-03T14:04:02.966Z"
   },
   {
    "duration": 9,
    "start_time": "2022-02-03T14:04:02.975Z"
   },
   {
    "duration": 347,
    "start_time": "2022-02-03T14:04:02.986Z"
   },
   {
    "duration": 392,
    "start_time": "2022-02-03T14:04:03.335Z"
   },
   {
    "duration": 9,
    "start_time": "2022-02-03T14:04:03.730Z"
   },
   {
    "duration": 20,
    "start_time": "2022-02-03T14:04:03.741Z"
   },
   {
    "duration": 5,
    "start_time": "2022-02-03T14:04:03.763Z"
   },
   {
    "duration": 5,
    "start_time": "2022-02-03T14:04:03.770Z"
   },
   {
    "duration": 7,
    "start_time": "2022-02-03T14:04:03.777Z"
   },
   {
    "duration": 382,
    "start_time": "2022-02-03T14:04:03.786Z"
   },
   {
    "duration": 8,
    "start_time": "2022-02-03T14:04:04.171Z"
   },
   {
    "duration": 9,
    "start_time": "2022-02-03T14:04:04.182Z"
   },
   {
    "duration": 6,
    "start_time": "2022-02-03T14:04:04.193Z"
   },
   {
    "duration": 6,
    "start_time": "2022-02-03T14:04:04.202Z"
   },
   {
    "duration": 51,
    "start_time": "2022-02-03T14:04:04.210Z"
   },
   {
    "duration": 342,
    "start_time": "2022-02-03T14:04:04.269Z"
   },
   {
    "duration": 562,
    "start_time": "2022-02-03T14:04:04.614Z"
   },
   {
    "duration": 117,
    "start_time": "2022-02-03T14:34:03.742Z"
   },
   {
    "duration": 430,
    "start_time": "2022-02-03T14:50:09.894Z"
   },
   {
    "duration": 342,
    "start_time": "2022-02-03T14:52:58.274Z"
   },
   {
    "duration": 11,
    "start_time": "2022-02-03T14:53:14.282Z"
   },
   {
    "duration": 9,
    "start_time": "2022-02-03T14:53:19.051Z"
   },
   {
    "duration": 8,
    "start_time": "2022-02-03T14:54:03.273Z"
   },
   {
    "duration": 8,
    "start_time": "2022-02-03T14:54:05.937Z"
   },
   {
    "duration": 9,
    "start_time": "2022-02-03T14:54:09.106Z"
   },
   {
    "duration": 10,
    "start_time": "2022-02-03T14:54:50.977Z"
   },
   {
    "duration": 11,
    "start_time": "2022-02-03T14:55:14.665Z"
   },
   {
    "duration": 9,
    "start_time": "2022-02-03T14:57:04.062Z"
   },
   {
    "duration": 381,
    "start_time": "2022-02-03T14:58:11.446Z"
   },
   {
    "duration": 115,
    "start_time": "2022-02-03T14:58:50.596Z"
   },
   {
    "duration": 8,
    "start_time": "2022-02-03T14:58:57.381Z"
   },
   {
    "duration": 314,
    "start_time": "2022-02-03T14:59:11.724Z"
   },
   {
    "duration": 10,
    "start_time": "2022-02-03T14:59:21.763Z"
   },
   {
    "duration": 10,
    "start_time": "2022-02-03T14:59:50.724Z"
   },
   {
    "duration": 12,
    "start_time": "2022-02-03T15:07:17.669Z"
   },
   {
    "duration": 11,
    "start_time": "2022-02-03T15:08:44.226Z"
   },
   {
    "duration": 1317,
    "start_time": "2022-02-03T15:14:21.596Z"
   },
   {
    "duration": 211,
    "start_time": "2022-02-03T15:14:22.916Z"
   },
   {
    "duration": 31,
    "start_time": "2022-02-03T15:14:23.131Z"
   },
   {
    "duration": 174,
    "start_time": "2022-02-03T15:14:23.165Z"
   },
   {
    "duration": 25,
    "start_time": "2022-02-03T15:14:23.341Z"
   },
   {
    "duration": 129,
    "start_time": "2022-02-03T15:14:23.369Z"
   },
   {
    "duration": 18,
    "start_time": "2022-02-03T15:14:23.500Z"
   },
   {
    "duration": 40,
    "start_time": "2022-02-03T15:14:23.522Z"
   },
   {
    "duration": 9,
    "start_time": "2022-02-03T15:14:23.564Z"
   },
   {
    "duration": 52,
    "start_time": "2022-02-03T15:14:23.575Z"
   },
   {
    "duration": 9,
    "start_time": "2022-02-03T15:14:23.629Z"
   },
   {
    "duration": 9,
    "start_time": "2022-02-03T15:14:23.640Z"
   },
   {
    "duration": 108,
    "start_time": "2022-02-03T15:14:23.660Z"
   },
   {
    "duration": 51,
    "start_time": "2022-02-03T15:14:23.771Z"
   },
   {
    "duration": 34,
    "start_time": "2022-02-03T15:14:23.825Z"
   },
   {
    "duration": 79,
    "start_time": "2022-02-03T15:14:23.862Z"
   },
   {
    "duration": 50,
    "start_time": "2022-02-03T15:14:23.959Z"
   },
   {
    "duration": 98,
    "start_time": "2022-02-03T15:14:24.011Z"
   },
   {
    "duration": 27,
    "start_time": "2022-02-03T15:14:24.112Z"
   },
   {
    "duration": 51,
    "start_time": "2022-02-03T15:14:24.142Z"
   },
   {
    "duration": 5,
    "start_time": "2022-02-03T15:14:24.197Z"
   },
   {
    "duration": 79,
    "start_time": "2022-02-03T15:14:24.205Z"
   },
   {
    "duration": 40,
    "start_time": "2022-02-03T15:14:24.292Z"
   },
   {
    "duration": 25,
    "start_time": "2022-02-03T15:14:24.336Z"
   },
   {
    "duration": 42,
    "start_time": "2022-02-03T15:14:24.364Z"
   },
   {
    "duration": 81,
    "start_time": "2022-02-03T15:14:24.409Z"
   },
   {
    "duration": 217,
    "start_time": "2022-02-03T15:14:24.492Z"
   },
   {
    "duration": 54,
    "start_time": "2022-02-03T15:14:24.711Z"
   },
   {
    "duration": 49,
    "start_time": "2022-02-03T15:14:24.768Z"
   },
   {
    "duration": 14,
    "start_time": "2022-02-03T15:14:24.819Z"
   },
   {
    "duration": 14,
    "start_time": "2022-02-03T15:14:24.860Z"
   },
   {
    "duration": 6,
    "start_time": "2022-02-03T15:14:24.877Z"
   },
   {
    "duration": 7,
    "start_time": "2022-02-03T15:14:24.885Z"
   },
   {
    "duration": 8,
    "start_time": "2022-02-03T15:14:24.895Z"
   },
   {
    "duration": 55,
    "start_time": "2022-02-03T15:14:24.905Z"
   },
   {
    "duration": 423,
    "start_time": "2022-02-03T15:14:24.962Z"
   },
   {
    "duration": 13,
    "start_time": "2022-02-03T15:14:25.387Z"
   },
   {
    "duration": 5,
    "start_time": "2022-02-03T15:14:25.402Z"
   },
   {
    "duration": 9,
    "start_time": "2022-02-03T15:14:25.409Z"
   },
   {
    "duration": 40,
    "start_time": "2022-02-03T15:14:25.421Z"
   },
   {
    "duration": 10,
    "start_time": "2022-02-03T15:14:25.464Z"
   },
   {
    "duration": 490,
    "start_time": "2022-02-03T15:14:25.476Z"
   },
   {
    "duration": 410,
    "start_time": "2022-02-03T15:14:25.969Z"
   },
   {
    "duration": 9,
    "start_time": "2022-02-03T15:14:26.382Z"
   },
   {
    "duration": 7,
    "start_time": "2022-02-03T15:14:26.393Z"
   },
   {
    "duration": 7,
    "start_time": "2022-02-03T15:14:26.402Z"
   },
   {
    "duration": 5,
    "start_time": "2022-02-03T15:14:26.412Z"
   },
   {
    "duration": 7,
    "start_time": "2022-02-03T15:14:26.460Z"
   },
   {
    "duration": 352,
    "start_time": "2022-02-03T15:14:26.469Z"
   },
   {
    "duration": 10,
    "start_time": "2022-02-03T15:14:26.823Z"
   },
   {
    "duration": 24,
    "start_time": "2022-02-03T15:14:26.835Z"
   },
   {
    "duration": 5,
    "start_time": "2022-02-03T15:14:26.862Z"
   },
   {
    "duration": 6,
    "start_time": "2022-02-03T15:14:26.869Z"
   },
   {
    "duration": 7,
    "start_time": "2022-02-03T15:14:26.878Z"
   },
   {
    "duration": 338,
    "start_time": "2022-02-03T15:14:26.888Z"
   },
   {
    "duration": 401,
    "start_time": "2022-02-03T15:14:27.228Z"
   },
   {
    "duration": 9,
    "start_time": "2022-02-03T15:14:27.632Z"
   },
   {
    "duration": 7,
    "start_time": "2022-02-03T15:14:27.659Z"
   },
   {
    "duration": 8,
    "start_time": "2022-02-03T15:14:27.668Z"
   },
   {
    "duration": 13,
    "start_time": "2022-02-03T15:14:27.678Z"
   },
   {
    "duration": 8,
    "start_time": "2022-02-03T15:14:27.693Z"
   },
   {
    "duration": 423,
    "start_time": "2022-02-03T15:14:27.704Z"
   },
   {
    "duration": 10,
    "start_time": "2022-02-03T15:14:28.129Z"
   },
   {
    "duration": 25,
    "start_time": "2022-02-03T15:14:28.141Z"
   },
   {
    "duration": 12,
    "start_time": "2022-02-03T15:14:28.169Z"
   },
   {
    "duration": 8,
    "start_time": "2022-02-03T15:14:28.184Z"
   },
   {
    "duration": 8,
    "start_time": "2022-02-03T15:14:28.195Z"
   },
   {
    "duration": 381,
    "start_time": "2022-02-03T15:14:28.210Z"
   },
   {
    "duration": 508,
    "start_time": "2022-02-03T15:14:28.593Z"
   },
   {
    "duration": 11,
    "start_time": "2022-02-03T15:14:29.103Z"
   },
   {
    "duration": 10,
    "start_time": "2022-02-03T15:14:29.116Z"
   },
   {
    "duration": 42,
    "start_time": "2022-02-03T15:14:29.129Z"
   },
   {
    "duration": 13,
    "start_time": "2022-02-03T15:14:29.175Z"
   },
   {
    "duration": 1339,
    "start_time": "2022-02-03T15:20:21.170Z"
   },
   {
    "duration": 211,
    "start_time": "2022-02-03T15:20:23.602Z"
   },
   {
    "duration": 31,
    "start_time": "2022-02-03T15:20:26.049Z"
   },
   {
    "duration": 175,
    "start_time": "2022-02-03T15:20:27.506Z"
   },
   {
    "duration": 22,
    "start_time": "2022-02-03T15:20:29.194Z"
   },
   {
    "duration": 142,
    "start_time": "2022-02-03T15:20:30.514Z"
   },
   {
    "duration": 19,
    "start_time": "2022-02-03T15:20:33.017Z"
   },
   {
    "duration": 27,
    "start_time": "2022-02-03T15:20:34.521Z"
   },
   {
    "duration": 10,
    "start_time": "2022-02-03T15:20:35.433Z"
   },
   {
    "duration": 52,
    "start_time": "2022-02-03T15:20:37.099Z"
   },
   {
    "duration": 10,
    "start_time": "2022-02-03T15:20:38.433Z"
   },
   {
    "duration": 10,
    "start_time": "2022-02-03T15:20:40.769Z"
   },
   {
    "duration": 100,
    "start_time": "2022-02-03T15:20:43.153Z"
   },
   {
    "duration": 8,
    "start_time": "2022-02-03T15:20:46.118Z"
   },
   {
    "duration": 51,
    "start_time": "2022-02-03T15:20:49.545Z"
   },
   {
    "duration": 9,
    "start_time": "2022-02-03T15:20:52.242Z"
   },
   {
    "duration": 74,
    "start_time": "2022-02-03T15:20:54.177Z"
   },
   {
    "duration": 49,
    "start_time": "2022-02-03T15:20:56.650Z"
   },
   {
    "duration": 68,
    "start_time": "2022-02-03T15:21:00.323Z"
   },
   {
    "duration": 30,
    "start_time": "2022-02-03T15:21:03.057Z"
   },
   {
    "duration": 48,
    "start_time": "2022-02-03T15:21:05.425Z"
   },
   {
    "duration": 5,
    "start_time": "2022-02-03T15:21:11.370Z"
   },
   {
    "duration": 54,
    "start_time": "2022-02-03T15:21:14.161Z"
   },
   {
    "duration": 6,
    "start_time": "2022-02-03T15:21:27.505Z"
   },
   {
    "duration": 108,
    "start_time": "2022-02-03T15:21:49.097Z"
   },
   {
    "duration": 45,
    "start_time": "2022-02-03T15:22:05.041Z"
   },
   {
    "duration": 1293,
    "start_time": "2022-02-03T15:22:21.904Z"
   },
   {
    "duration": 210,
    "start_time": "2022-02-03T15:22:23.200Z"
   },
   {
    "duration": 43,
    "start_time": "2022-02-03T15:22:23.416Z"
   },
   {
    "duration": 173,
    "start_time": "2022-02-03T15:22:23.462Z"
   },
   {
    "duration": 30,
    "start_time": "2022-02-03T15:22:23.637Z"
   },
   {
    "duration": 128,
    "start_time": "2022-02-03T15:22:23.670Z"
   },
   {
    "duration": 20,
    "start_time": "2022-02-03T15:22:23.802Z"
   },
   {
    "duration": 37,
    "start_time": "2022-02-03T15:22:23.825Z"
   },
   {
    "duration": 8,
    "start_time": "2022-02-03T15:22:23.864Z"
   },
   {
    "duration": 40,
    "start_time": "2022-02-03T15:22:23.875Z"
   },
   {
    "duration": 9,
    "start_time": "2022-02-03T15:22:23.918Z"
   },
   {
    "duration": 7,
    "start_time": "2022-02-03T15:22:23.929Z"
   },
   {
    "duration": 100,
    "start_time": "2022-02-03T15:22:23.959Z"
   },
   {
    "duration": 47,
    "start_time": "2022-02-03T15:22:24.062Z"
   },
   {
    "duration": 8,
    "start_time": "2022-02-03T15:22:24.111Z"
   },
   {
    "duration": 100,
    "start_time": "2022-02-03T15:22:24.121Z"
   },
   {
    "duration": 66,
    "start_time": "2022-02-03T15:22:24.223Z"
   },
   {
    "duration": 70,
    "start_time": "2022-02-03T15:22:24.292Z"
   },
   {
    "duration": 26,
    "start_time": "2022-02-03T15:22:24.365Z"
   },
   {
    "duration": 67,
    "start_time": "2022-02-03T15:22:24.393Z"
   },
   {
    "duration": 5,
    "start_time": "2022-02-03T15:22:24.462Z"
   },
   {
    "duration": 53,
    "start_time": "2022-02-03T15:22:24.474Z"
   },
   {
    "duration": 57,
    "start_time": "2022-02-03T15:22:24.531Z"
   },
   {
    "duration": 5,
    "start_time": "2022-02-03T15:22:24.591Z"
   },
   {
    "duration": 65,
    "start_time": "2022-02-03T15:22:24.599Z"
   },
   {
    "duration": 49,
    "start_time": "2022-02-03T15:22:24.666Z"
   },
   {
    "duration": 218,
    "start_time": "2022-02-03T15:22:24.717Z"
   },
   {
    "duration": 52,
    "start_time": "2022-02-03T15:22:24.937Z"
   },
   {
    "duration": 45,
    "start_time": "2022-02-03T15:22:24.991Z"
   },
   {
    "duration": 29,
    "start_time": "2022-02-03T15:22:25.039Z"
   },
   {
    "duration": 14,
    "start_time": "2022-02-03T15:22:25.070Z"
   },
   {
    "duration": 5,
    "start_time": "2022-02-03T15:22:25.086Z"
   },
   {
    "duration": 6,
    "start_time": "2022-02-03T15:22:25.094Z"
   },
   {
    "duration": 6,
    "start_time": "2022-02-03T15:22:25.102Z"
   },
   {
    "duration": 54,
    "start_time": "2022-02-03T15:22:25.109Z"
   },
   {
    "duration": 370,
    "start_time": "2022-02-03T15:22:25.166Z"
   },
   {
    "duration": 21,
    "start_time": "2022-02-03T15:22:25.538Z"
   },
   {
    "duration": 6,
    "start_time": "2022-02-03T15:22:25.561Z"
   },
   {
    "duration": 7,
    "start_time": "2022-02-03T15:22:25.569Z"
   },
   {
    "duration": 7,
    "start_time": "2022-02-03T15:22:25.578Z"
   },
   {
    "duration": 7,
    "start_time": "2022-02-03T15:22:25.588Z"
   },
   {
    "duration": 415,
    "start_time": "2022-02-03T15:22:25.597Z"
   },
   {
    "duration": 423,
    "start_time": "2022-02-03T15:22:26.015Z"
   },
   {
    "duration": 20,
    "start_time": "2022-02-03T15:22:26.440Z"
   },
   {
    "duration": 5,
    "start_time": "2022-02-03T15:22:26.463Z"
   },
   {
    "duration": 5,
    "start_time": "2022-02-03T15:22:26.471Z"
   },
   {
    "duration": 6,
    "start_time": "2022-02-03T15:22:26.478Z"
   },
   {
    "duration": 6,
    "start_time": "2022-02-03T15:22:26.487Z"
   },
   {
    "duration": 382,
    "start_time": "2022-02-03T15:22:26.495Z"
   },
   {
    "duration": 9,
    "start_time": "2022-02-03T15:22:26.880Z"
   },
   {
    "duration": 8,
    "start_time": "2022-02-03T15:22:26.891Z"
   },
   {
    "duration": 10,
    "start_time": "2022-02-03T15:22:26.902Z"
   },
   {
    "duration": 10,
    "start_time": "2022-02-03T15:22:26.915Z"
   },
   {
    "duration": 37,
    "start_time": "2022-02-03T15:22:26.928Z"
   },
   {
    "duration": 327,
    "start_time": "2022-02-03T15:22:26.969Z"
   },
   {
    "duration": 384,
    "start_time": "2022-02-03T15:22:27.299Z"
   },
   {
    "duration": 9,
    "start_time": "2022-02-03T15:22:27.686Z"
   },
   {
    "duration": 6,
    "start_time": "2022-02-03T15:22:27.698Z"
   },
   {
    "duration": 6,
    "start_time": "2022-02-03T15:22:27.707Z"
   },
   {
    "duration": 46,
    "start_time": "2022-02-03T15:22:27.715Z"
   },
   {
    "duration": 7,
    "start_time": "2022-02-03T15:22:27.764Z"
   },
   {
    "duration": 376,
    "start_time": "2022-02-03T15:22:27.774Z"
   },
   {
    "duration": 14,
    "start_time": "2022-02-03T15:22:28.152Z"
   },
   {
    "duration": 11,
    "start_time": "2022-02-03T15:22:28.168Z"
   },
   {
    "duration": 6,
    "start_time": "2022-02-03T15:22:28.182Z"
   },
   {
    "duration": 6,
    "start_time": "2022-02-03T15:22:28.191Z"
   },
   {
    "duration": 7,
    "start_time": "2022-02-03T15:22:28.205Z"
   },
   {
    "duration": 376,
    "start_time": "2022-02-03T15:22:28.216Z"
   },
   {
    "duration": 477,
    "start_time": "2022-02-03T15:22:28.594Z"
   },
   {
    "duration": 11,
    "start_time": "2022-02-03T15:22:29.073Z"
   },
   {
    "duration": 10,
    "start_time": "2022-02-03T15:22:29.087Z"
   },
   {
    "duration": 16,
    "start_time": "2022-02-03T15:22:29.099Z"
   },
   {
    "duration": 45,
    "start_time": "2022-02-03T15:22:29.117Z"
   },
   {
    "duration": 1779,
    "start_time": "2022-02-03T15:23:54.285Z"
   },
   {
    "duration": 316,
    "start_time": "2022-02-03T15:23:56.067Z"
   },
   {
    "duration": 38,
    "start_time": "2022-02-03T15:23:56.386Z"
   },
   {
    "duration": 226,
    "start_time": "2022-02-03T15:23:56.428Z"
   },
   {
    "duration": 29,
    "start_time": "2022-02-03T15:23:56.660Z"
   },
   {
    "duration": 161,
    "start_time": "2022-02-03T15:23:56.691Z"
   },
   {
    "duration": 19,
    "start_time": "2022-02-03T15:23:56.855Z"
   },
   {
    "duration": 39,
    "start_time": "2022-02-03T15:23:56.878Z"
   },
   {
    "duration": 13,
    "start_time": "2022-02-03T15:23:56.920Z"
   },
   {
    "duration": 45,
    "start_time": "2022-02-03T15:23:56.936Z"
   },
   {
    "duration": 9,
    "start_time": "2022-02-03T15:23:56.984Z"
   },
   {
    "duration": 26,
    "start_time": "2022-02-03T15:23:56.995Z"
   },
   {
    "duration": 122,
    "start_time": "2022-02-03T15:23:57.023Z"
   },
   {
    "duration": 73,
    "start_time": "2022-02-03T15:23:57.149Z"
   },
   {
    "duration": 37,
    "start_time": "2022-02-03T15:23:57.224Z"
   },
   {
    "duration": 83,
    "start_time": "2022-02-03T15:23:57.264Z"
   },
   {
    "duration": 63,
    "start_time": "2022-02-03T15:23:57.350Z"
   },
   {
    "duration": 97,
    "start_time": "2022-02-03T15:23:57.416Z"
   },
   {
    "duration": 30,
    "start_time": "2022-02-03T15:23:57.515Z"
   },
   {
    "duration": 61,
    "start_time": "2022-02-03T15:23:57.558Z"
   },
   {
    "duration": 5,
    "start_time": "2022-02-03T15:23:57.621Z"
   },
   {
    "duration": 80,
    "start_time": "2022-02-03T15:23:57.628Z"
   },
   {
    "duration": 108,
    "start_time": "2022-02-03T15:23:57.715Z"
   },
   {
    "duration": 47,
    "start_time": "2022-02-03T15:23:57.780Z"
   },
   {
    "duration": 46,
    "start_time": "2022-02-03T15:23:57.783Z"
   },
   {
    "duration": 46,
    "start_time": "2022-02-03T15:23:57.785Z"
   },
   {
    "duration": 25,
    "start_time": "2022-02-03T15:23:57.808Z"
   },
   {
    "duration": 25,
    "start_time": "2022-02-03T15:23:57.810Z"
   },
   {
    "duration": 25,
    "start_time": "2022-02-03T15:23:57.812Z"
   },
   {
    "duration": 26,
    "start_time": "2022-02-03T15:23:57.813Z"
   },
   {
    "duration": 25,
    "start_time": "2022-02-03T15:23:57.815Z"
   },
   {
    "duration": 22,
    "start_time": "2022-02-03T15:23:57.819Z"
   },
   {
    "duration": 17,
    "start_time": "2022-02-03T15:23:57.826Z"
   },
   {
    "duration": 16,
    "start_time": "2022-02-03T15:23:57.828Z"
   },
   {
    "duration": 16,
    "start_time": "2022-02-03T15:23:57.830Z"
   },
   {
    "duration": 16,
    "start_time": "2022-02-03T15:23:57.831Z"
   },
   {
    "duration": 16,
    "start_time": "2022-02-03T15:23:57.833Z"
   },
   {
    "duration": 15,
    "start_time": "2022-02-03T15:23:57.835Z"
   },
   {
    "duration": 9,
    "start_time": "2022-02-03T15:23:57.842Z"
   },
   {
    "duration": 8,
    "start_time": "2022-02-03T15:23:57.844Z"
   },
   {
    "duration": 7,
    "start_time": "2022-02-03T15:23:57.846Z"
   },
   {
    "duration": 7,
    "start_time": "2022-02-03T15:23:57.848Z"
   },
   {
    "duration": 7,
    "start_time": "2022-02-03T15:23:57.849Z"
   },
   {
    "duration": 5,
    "start_time": "2022-02-03T15:23:57.852Z"
   },
   {
    "duration": 4,
    "start_time": "2022-02-03T15:23:57.854Z"
   },
   {
    "duration": -1,
    "start_time": "2022-02-03T15:23:57.860Z"
   },
   {
    "duration": -1,
    "start_time": "2022-02-03T15:23:57.862Z"
   },
   {
    "duration": -2,
    "start_time": "2022-02-03T15:23:57.864Z"
   },
   {
    "duration": -2,
    "start_time": "2022-02-03T15:23:57.866Z"
   },
   {
    "duration": -2,
    "start_time": "2022-02-03T15:23:57.867Z"
   },
   {
    "duration": 1,
    "start_time": "2022-02-03T15:23:57.870Z"
   },
   {
    "duration": 1,
    "start_time": "2022-02-03T15:23:57.872Z"
   },
   {
    "duration": 1,
    "start_time": "2022-02-03T15:23:57.874Z"
   },
   {
    "duration": -29,
    "start_time": "2022-02-03T15:23:57.906Z"
   },
   {
    "duration": -29,
    "start_time": "2022-02-03T15:23:57.908Z"
   },
   {
    "duration": -100,
    "start_time": "2022-02-03T15:23:57.981Z"
   },
   {
    "duration": -100,
    "start_time": "2022-02-03T15:23:57.983Z"
   },
   {
    "duration": -100,
    "start_time": "2022-02-03T15:23:57.985Z"
   },
   {
    "duration": -105,
    "start_time": "2022-02-03T15:23:57.992Z"
   },
   {
    "duration": -106,
    "start_time": "2022-02-03T15:23:57.994Z"
   },
   {
    "duration": -106,
    "start_time": "2022-02-03T15:23:57.996Z"
   },
   {
    "duration": -107,
    "start_time": "2022-02-03T15:23:57.999Z"
   },
   {
    "duration": -108,
    "start_time": "2022-02-03T15:23:58.001Z"
   },
   {
    "duration": -113,
    "start_time": "2022-02-03T15:23:58.008Z"
   },
   {
    "duration": -113,
    "start_time": "2022-02-03T15:23:58.010Z"
   },
   {
    "duration": -113,
    "start_time": "2022-02-03T15:23:58.012Z"
   },
   {
    "duration": -132,
    "start_time": "2022-02-03T15:23:58.032Z"
   },
   {
    "duration": -148,
    "start_time": "2022-02-03T15:23:58.050Z"
   },
   {
    "duration": -93,
    "start_time": "2022-02-03T15:23:58.052Z"
   },
   {
    "duration": -98,
    "start_time": "2022-02-03T15:23:58.059Z"
   },
   {
    "duration": -99,
    "start_time": "2022-02-03T15:23:58.061Z"
   },
   {
    "duration": -99,
    "start_time": "2022-02-03T15:23:58.063Z"
   },
   {
    "duration": 6,
    "start_time": "2022-02-03T15:24:04.630Z"
   },
   {
    "duration": 44,
    "start_time": "2022-02-03T15:24:09.374Z"
   },
   {
    "duration": 1340,
    "start_time": "2022-02-03T15:24:23.280Z"
   },
   {
    "duration": 225,
    "start_time": "2022-02-03T15:24:24.623Z"
   },
   {
    "duration": 31,
    "start_time": "2022-02-03T15:24:24.851Z"
   },
   {
    "duration": 184,
    "start_time": "2022-02-03T15:24:24.885Z"
   },
   {
    "duration": 23,
    "start_time": "2022-02-03T15:24:25.071Z"
   },
   {
    "duration": 133,
    "start_time": "2022-02-03T15:24:25.097Z"
   },
   {
    "duration": 26,
    "start_time": "2022-02-03T15:24:25.233Z"
   },
   {
    "duration": 26,
    "start_time": "2022-02-03T15:24:25.263Z"
   },
   {
    "duration": 9,
    "start_time": "2022-02-03T15:24:25.292Z"
   },
   {
    "duration": 42,
    "start_time": "2022-02-03T15:24:25.303Z"
   },
   {
    "duration": 13,
    "start_time": "2022-02-03T15:24:25.348Z"
   },
   {
    "duration": 8,
    "start_time": "2022-02-03T15:24:25.363Z"
   },
   {
    "duration": 122,
    "start_time": "2022-02-03T15:24:25.374Z"
   },
   {
    "duration": 46,
    "start_time": "2022-02-03T15:24:25.498Z"
   },
   {
    "duration": 9,
    "start_time": "2022-02-03T15:24:25.559Z"
   },
   {
    "duration": 97,
    "start_time": "2022-02-03T15:24:25.571Z"
   },
   {
    "duration": 48,
    "start_time": "2022-02-03T15:24:25.670Z"
   },
   {
    "duration": 93,
    "start_time": "2022-02-03T15:24:25.721Z"
   },
   {
    "duration": 29,
    "start_time": "2022-02-03T15:24:25.816Z"
   },
   {
    "duration": 57,
    "start_time": "2022-02-03T15:24:25.847Z"
   },
   {
    "duration": 5,
    "start_time": "2022-02-03T15:24:25.906Z"
   },
   {
    "duration": 83,
    "start_time": "2022-02-03T15:24:25.913Z"
   },
   {
    "duration": 7,
    "start_time": "2022-02-03T15:24:26.002Z"
   },
   {
    "duration": 75,
    "start_time": "2022-02-03T15:24:26.013Z"
   },
   {
    "duration": 88,
    "start_time": "2022-02-03T15:24:26.091Z"
   },
   {
    "duration": 218,
    "start_time": "2022-02-03T15:24:26.182Z"
   },
   {
    "duration": 43,
    "start_time": "2022-02-03T15:24:26.403Z"
   },
   {
    "duration": 47,
    "start_time": "2022-02-03T15:24:26.459Z"
   },
   {
    "duration": 12,
    "start_time": "2022-02-03T15:24:26.508Z"
   },
   {
    "duration": 41,
    "start_time": "2022-02-03T15:24:26.523Z"
   },
   {
    "duration": 6,
    "start_time": "2022-02-03T15:24:26.567Z"
   },
   {
    "duration": 6,
    "start_time": "2022-02-03T15:24:26.575Z"
   },
   {
    "duration": 8,
    "start_time": "2022-02-03T15:24:26.583Z"
   },
   {
    "duration": 8,
    "start_time": "2022-02-03T15:24:26.593Z"
   },
   {
    "duration": 387,
    "start_time": "2022-02-03T15:24:26.603Z"
   },
   {
    "duration": 12,
    "start_time": "2022-02-03T15:24:26.993Z"
   },
   {
    "duration": 6,
    "start_time": "2022-02-03T15:24:27.008Z"
   },
   {
    "duration": 5,
    "start_time": "2022-02-03T15:24:27.017Z"
   },
   {
    "duration": 6,
    "start_time": "2022-02-03T15:24:27.059Z"
   },
   {
    "duration": 7,
    "start_time": "2022-02-03T15:24:27.067Z"
   },
   {
    "duration": 384,
    "start_time": "2022-02-03T15:24:27.076Z"
   },
   {
    "duration": 411,
    "start_time": "2022-02-03T15:24:27.463Z"
   },
   {
    "duration": 9,
    "start_time": "2022-02-03T15:24:27.877Z"
   },
   {
    "duration": 11,
    "start_time": "2022-02-03T15:24:27.889Z"
   },
   {
    "duration": 9,
    "start_time": "2022-02-03T15:24:27.902Z"
   },
   {
    "duration": 7,
    "start_time": "2022-02-03T15:24:27.913Z"
   },
   {
    "duration": 41,
    "start_time": "2022-02-03T15:24:27.923Z"
   },
   {
    "duration": 493,
    "start_time": "2022-02-03T15:24:27.967Z"
   },
   {
    "duration": 9,
    "start_time": "2022-02-03T15:24:28.462Z"
   },
   {
    "duration": 9,
    "start_time": "2022-02-03T15:24:28.474Z"
   },
   {
    "duration": 8,
    "start_time": "2022-02-03T15:24:28.485Z"
   },
   {
    "duration": 8,
    "start_time": "2022-02-03T15:24:28.495Z"
   },
   {
    "duration": 8,
    "start_time": "2022-02-03T15:24:28.506Z"
   },
   {
    "duration": 321,
    "start_time": "2022-02-03T15:24:28.560Z"
   },
   {
    "duration": 420,
    "start_time": "2022-02-03T15:24:28.884Z"
   },
   {
    "duration": 10,
    "start_time": "2022-02-03T15:24:29.307Z"
   },
   {
    "duration": 7,
    "start_time": "2022-02-03T15:24:29.319Z"
   },
   {
    "duration": 33,
    "start_time": "2022-02-03T15:24:29.328Z"
   },
   {
    "duration": 8,
    "start_time": "2022-02-03T15:24:29.364Z"
   },
   {
    "duration": 10,
    "start_time": "2022-02-03T15:24:29.375Z"
   },
   {
    "duration": 477,
    "start_time": "2022-02-03T15:24:29.388Z"
   },
   {
    "duration": 10,
    "start_time": "2022-02-03T15:24:29.868Z"
   },
   {
    "duration": 10,
    "start_time": "2022-02-03T15:24:29.881Z"
   },
   {
    "duration": 6,
    "start_time": "2022-02-03T15:24:29.893Z"
   },
   {
    "duration": 6,
    "start_time": "2022-02-03T15:24:29.902Z"
   },
   {
    "duration": 53,
    "start_time": "2022-02-03T15:24:29.910Z"
   },
   {
    "duration": 381,
    "start_time": "2022-02-03T15:24:29.966Z"
   },
   {
    "duration": 466,
    "start_time": "2022-02-03T15:24:30.358Z"
   },
   {
    "duration": 11,
    "start_time": "2022-02-03T15:24:30.827Z"
   },
   {
    "duration": 25,
    "start_time": "2022-02-03T15:24:30.840Z"
   },
   {
    "duration": 19,
    "start_time": "2022-02-03T15:24:30.868Z"
   },
   {
    "duration": 12,
    "start_time": "2022-02-03T15:24:30.890Z"
   },
   {
    "duration": 1767,
    "start_time": "2022-02-04T05:47:19.132Z"
   },
   {
    "duration": 331,
    "start_time": "2022-02-04T05:47:20.908Z"
   },
   {
    "duration": 45,
    "start_time": "2022-02-04T05:47:21.243Z"
   },
   {
    "duration": 285,
    "start_time": "2022-02-04T05:47:21.291Z"
   },
   {
    "duration": 36,
    "start_time": "2022-02-04T05:47:21.579Z"
   },
   {
    "duration": 177,
    "start_time": "2022-02-04T05:47:21.632Z"
   },
   {
    "duration": 35,
    "start_time": "2022-02-04T05:47:21.816Z"
   },
   {
    "duration": 38,
    "start_time": "2022-02-04T05:47:21.855Z"
   },
   {
    "duration": 13,
    "start_time": "2022-02-04T05:47:21.897Z"
   },
   {
    "duration": 66,
    "start_time": "2022-02-04T05:47:21.914Z"
   },
   {
    "duration": 12,
    "start_time": "2022-02-04T05:47:21.983Z"
   },
   {
    "duration": 14,
    "start_time": "2022-02-04T05:47:21.999Z"
   },
   {
    "duration": 111,
    "start_time": "2022-02-04T05:47:22.016Z"
   },
   {
    "duration": 45,
    "start_time": "2022-02-04T05:47:22.129Z"
   },
   {
    "duration": 7,
    "start_time": "2022-02-04T05:47:22.176Z"
   },
   {
    "duration": 99,
    "start_time": "2022-02-04T05:47:22.185Z"
   },
   {
    "duration": 62,
    "start_time": "2022-02-04T05:47:22.286Z"
   },
   {
    "duration": 64,
    "start_time": "2022-02-04T05:47:22.350Z"
   },
   {
    "duration": 39,
    "start_time": "2022-02-04T05:47:22.416Z"
   },
   {
    "duration": 44,
    "start_time": "2022-02-04T05:47:22.457Z"
   },
   {
    "duration": 31,
    "start_time": "2022-02-04T05:47:22.503Z"
   },
   {
    "duration": 53,
    "start_time": "2022-02-04T05:47:22.536Z"
   },
   {
    "duration": 5,
    "start_time": "2022-02-04T05:47:22.596Z"
   },
   {
    "duration": 44,
    "start_time": "2022-02-04T05:47:22.634Z"
   },
   {
    "duration": 90,
    "start_time": "2022-02-04T05:47:22.680Z"
   },
   {
    "duration": 1233,
    "start_time": "2022-02-04T05:47:21.539Z"
   },
   {
    "duration": 1233,
    "start_time": "2022-02-04T05:47:21.541Z"
   },
   {
    "duration": 1225,
    "start_time": "2022-02-04T05:47:21.550Z"
   },
   {
    "duration": 1225,
    "start_time": "2022-02-04T05:47:21.552Z"
   },
   {
    "duration": 1224,
    "start_time": "2022-02-04T05:47:21.554Z"
   },
   {
    "duration": 1224,
    "start_time": "2022-02-04T05:47:21.556Z"
   },
   {
    "duration": 1220,
    "start_time": "2022-02-04T05:47:21.562Z"
   },
   {
    "duration": 1219,
    "start_time": "2022-02-04T05:47:21.564Z"
   },
   {
    "duration": 1209,
    "start_time": "2022-02-04T05:47:21.575Z"
   },
   {
    "duration": 1206,
    "start_time": "2022-02-04T05:47:21.580Z"
   },
   {
    "duration": 1205,
    "start_time": "2022-02-04T05:47:21.582Z"
   },
   {
    "duration": 1205,
    "start_time": "2022-02-04T05:47:21.584Z"
   },
   {
    "duration": 1204,
    "start_time": "2022-02-04T05:47:21.586Z"
   },
   {
    "duration": 1197,
    "start_time": "2022-02-04T05:47:21.595Z"
   },
   {
    "duration": 1196,
    "start_time": "2022-02-04T05:47:21.599Z"
   },
   {
    "duration": 1195,
    "start_time": "2022-02-04T05:47:21.601Z"
   },
   {
    "duration": 1192,
    "start_time": "2022-02-04T05:47:21.606Z"
   },
   {
    "duration": 1188,
    "start_time": "2022-02-04T05:47:21.611Z"
   },
   {
    "duration": 1188,
    "start_time": "2022-02-04T05:47:21.613Z"
   },
   {
    "duration": 1187,
    "start_time": "2022-02-04T05:47:21.615Z"
   },
   {
    "duration": 1182,
    "start_time": "2022-02-04T05:47:21.621Z"
   },
   {
    "duration": 1182,
    "start_time": "2022-02-04T05:47:21.623Z"
   },
   {
    "duration": 1178,
    "start_time": "2022-02-04T05:47:21.628Z"
   },
   {
    "duration": 1178,
    "start_time": "2022-02-04T05:47:21.630Z"
   },
   {
    "duration": 1198,
    "start_time": "2022-02-04T05:47:21.634Z"
   },
   {
    "duration": 1197,
    "start_time": "2022-02-04T05:47:21.636Z"
   },
   {
    "duration": 1120,
    "start_time": "2022-02-04T05:47:21.715Z"
   },
   {
    "duration": 1090,
    "start_time": "2022-02-04T05:47:21.746Z"
   },
   {
    "duration": 1085,
    "start_time": "2022-02-04T05:47:21.752Z"
   },
   {
    "duration": 1085,
    "start_time": "2022-02-04T05:47:21.754Z"
   },
   {
    "duration": 1084,
    "start_time": "2022-02-04T05:47:21.756Z"
   },
   {
    "duration": 1083,
    "start_time": "2022-02-04T05:47:21.758Z"
   },
   {
    "duration": 1084,
    "start_time": "2022-02-04T05:47:21.759Z"
   },
   {
    "duration": 1072,
    "start_time": "2022-02-04T05:47:21.772Z"
   },
   {
    "duration": 1060,
    "start_time": "2022-02-04T05:47:21.785Z"
   },
   {
    "duration": 1060,
    "start_time": "2022-02-04T05:47:21.787Z"
   },
   {
    "duration": 1059,
    "start_time": "2022-02-04T05:47:21.789Z"
   },
   {
    "duration": 1060,
    "start_time": "2022-02-04T05:47:21.790Z"
   },
   {
    "duration": 1056,
    "start_time": "2022-02-04T05:47:21.795Z"
   },
   {
    "duration": 1056,
    "start_time": "2022-02-04T05:47:21.796Z"
   },
   {
    "duration": 1056,
    "start_time": "2022-02-04T05:47:21.798Z"
   },
   {
    "duration": 1055,
    "start_time": "2022-02-04T05:47:21.800Z"
   },
   {
    "duration": 1055,
    "start_time": "2022-02-04T05:47:21.802Z"
   },
   {
    "duration": 1054,
    "start_time": "2022-02-04T05:47:21.804Z"
   },
   {
    "duration": 1050,
    "start_time": "2022-02-04T05:47:21.810Z"
   },
   {
    "duration": 1049,
    "start_time": "2022-02-04T05:47:21.812Z"
   },
   {
    "duration": 1048,
    "start_time": "2022-02-04T05:47:21.814Z"
   },
   {
    "duration": 408,
    "start_time": "2022-02-04T05:47:39.219Z"
   },
   {
    "duration": 10,
    "start_time": "2022-02-04T05:47:45.971Z"
   },
   {
    "duration": 291,
    "start_time": "2022-02-04T05:50:17.089Z"
   },
   {
    "duration": 6,
    "start_time": "2022-02-04T05:51:15.159Z"
   },
   {
    "duration": 1359,
    "start_time": "2022-02-04T05:51:53.637Z"
   },
   {
    "duration": 211,
    "start_time": "2022-02-04T05:51:54.999Z"
   },
   {
    "duration": 40,
    "start_time": "2022-02-04T05:51:55.213Z"
   },
   {
    "duration": 172,
    "start_time": "2022-02-04T05:51:55.256Z"
   },
   {
    "duration": 23,
    "start_time": "2022-02-04T05:51:55.433Z"
   },
   {
    "duration": 132,
    "start_time": "2022-02-04T05:51:55.459Z"
   },
   {
    "duration": 17,
    "start_time": "2022-02-04T05:51:55.593Z"
   },
   {
    "duration": 40,
    "start_time": "2022-02-04T05:51:55.615Z"
   },
   {
    "duration": 11,
    "start_time": "2022-02-04T05:51:55.658Z"
   },
   {
    "duration": 44,
    "start_time": "2022-02-04T05:51:55.671Z"
   },
   {
    "duration": 9,
    "start_time": "2022-02-04T05:51:55.717Z"
   },
   {
    "duration": 11,
    "start_time": "2022-02-04T05:51:55.728Z"
   },
   {
    "duration": 107,
    "start_time": "2022-02-04T05:51:55.741Z"
   },
   {
    "duration": 46,
    "start_time": "2022-02-04T05:51:55.850Z"
   },
   {
    "duration": 34,
    "start_time": "2022-02-04T05:51:55.899Z"
   },
   {
    "duration": 96,
    "start_time": "2022-02-04T05:51:55.936Z"
   },
   {
    "duration": 51,
    "start_time": "2022-02-04T05:51:56.035Z"
   },
   {
    "duration": 89,
    "start_time": "2022-02-04T05:51:56.089Z"
   },
   {
    "duration": 28,
    "start_time": "2022-02-04T05:51:56.181Z"
   },
   {
    "duration": 63,
    "start_time": "2022-02-04T05:51:56.211Z"
   },
   {
    "duration": 5,
    "start_time": "2022-02-04T05:51:56.278Z"
   },
   {
    "duration": 80,
    "start_time": "2022-02-04T05:51:56.286Z"
   },
   {
    "duration": 6,
    "start_time": "2022-02-04T05:51:56.375Z"
   },
   {
    "duration": 72,
    "start_time": "2022-02-04T05:51:56.387Z"
   },
   {
    "duration": 49,
    "start_time": "2022-02-04T05:51:56.462Z"
   },
   {
    "duration": 220,
    "start_time": "2022-02-04T05:51:56.513Z"
   },
   {
    "duration": 41,
    "start_time": "2022-02-04T05:51:56.735Z"
   },
   {
    "duration": 70,
    "start_time": "2022-02-04T05:51:56.778Z"
   },
   {
    "duration": 12,
    "start_time": "2022-02-04T05:51:56.850Z"
   },
   {
    "duration": 12,
    "start_time": "2022-02-04T05:51:56.864Z"
   },
   {
    "duration": 5,
    "start_time": "2022-02-04T05:51:56.878Z"
   },
   {
    "duration": 5,
    "start_time": "2022-02-04T05:51:56.885Z"
   },
   {
    "duration": 44,
    "start_time": "2022-02-04T05:51:56.892Z"
   },
   {
    "duration": 6,
    "start_time": "2022-02-04T05:51:56.938Z"
   },
   {
    "duration": 396,
    "start_time": "2022-02-04T05:51:56.946Z"
   },
   {
    "duration": 13,
    "start_time": "2022-02-04T05:51:57.345Z"
   },
   {
    "duration": 6,
    "start_time": "2022-02-04T05:51:57.361Z"
   },
   {
    "duration": 10,
    "start_time": "2022-02-04T05:51:57.370Z"
   },
   {
    "duration": 11,
    "start_time": "2022-02-04T05:51:57.383Z"
   },
   {
    "duration": 9,
    "start_time": "2022-02-04T05:51:57.433Z"
   },
   {
    "duration": 381,
    "start_time": "2022-02-04T05:51:57.445Z"
   },
   {
    "duration": 400,
    "start_time": "2022-02-04T05:51:57.828Z"
   },
   {
    "duration": 11,
    "start_time": "2022-02-04T05:51:58.231Z"
   },
   {
    "duration": 8,
    "start_time": "2022-02-04T05:51:58.245Z"
   },
   {
    "duration": 9,
    "start_time": "2022-02-04T05:51:58.256Z"
   },
   {
    "duration": 8,
    "start_time": "2022-02-04T05:51:58.268Z"
   },
   {
    "duration": 55,
    "start_time": "2022-02-04T05:51:58.279Z"
   },
   {
    "duration": 351,
    "start_time": "2022-02-04T05:51:58.337Z"
   },
   {
    "duration": 9,
    "start_time": "2022-02-04T05:51:58.690Z"
   },
   {
    "duration": 7,
    "start_time": "2022-02-04T05:51:58.701Z"
   },
   {
    "duration": 23,
    "start_time": "2022-02-04T05:51:58.710Z"
   },
   {
    "duration": 8,
    "start_time": "2022-02-04T05:51:58.735Z"
   },
   {
    "duration": 9,
    "start_time": "2022-02-04T05:51:58.745Z"
   },
   {
    "duration": 338,
    "start_time": "2022-02-04T05:51:58.756Z"
   },
   {
    "duration": 375,
    "start_time": "2022-02-04T05:51:59.096Z"
   },
   {
    "duration": 9,
    "start_time": "2022-02-04T05:51:59.474Z"
   },
   {
    "duration": 10,
    "start_time": "2022-02-04T05:51:59.486Z"
   },
   {
    "duration": 12,
    "start_time": "2022-02-04T05:51:59.498Z"
   },
   {
    "duration": 6,
    "start_time": "2022-02-04T05:51:59.533Z"
   },
   {
    "duration": 9,
    "start_time": "2022-02-04T05:51:59.541Z"
   },
   {
    "duration": 362,
    "start_time": "2022-02-04T05:51:59.553Z"
   },
   {
    "duration": 21,
    "start_time": "2022-02-04T05:51:59.918Z"
   },
   {
    "duration": 7,
    "start_time": "2022-02-04T05:51:59.942Z"
   },
   {
    "duration": 11,
    "start_time": "2022-02-04T05:51:59.951Z"
   },
   {
    "duration": 6,
    "start_time": "2022-02-04T05:51:59.965Z"
   },
   {
    "duration": 8,
    "start_time": "2022-02-04T05:51:59.973Z"
   },
   {
    "duration": 357,
    "start_time": "2022-02-04T05:51:59.983Z"
   },
   {
    "duration": 458,
    "start_time": "2022-02-04T05:52:00.346Z"
   },
   {
    "duration": 10,
    "start_time": "2022-02-04T05:52:00.806Z"
   },
   {
    "duration": 10,
    "start_time": "2022-02-04T05:52:00.832Z"
   },
   {
    "duration": 18,
    "start_time": "2022-02-04T05:52:00.844Z"
   },
   {
    "duration": 21,
    "start_time": "2022-02-04T05:52:00.864Z"
   },
   {
    "duration": 1315,
    "start_time": "2022-02-04T05:57:41.671Z"
   },
   {
    "duration": 217,
    "start_time": "2022-02-04T05:57:42.989Z"
   },
   {
    "duration": 37,
    "start_time": "2022-02-04T05:57:43.210Z"
   },
   {
    "duration": 182,
    "start_time": "2022-02-04T05:57:43.250Z"
   },
   {
    "duration": 22,
    "start_time": "2022-02-04T05:57:43.435Z"
   },
   {
    "duration": 131,
    "start_time": "2022-02-04T05:57:43.459Z"
   },
   {
    "duration": 18,
    "start_time": "2022-02-04T05:57:43.592Z"
   },
   {
    "duration": 41,
    "start_time": "2022-02-04T05:57:43.614Z"
   },
   {
    "duration": 8,
    "start_time": "2022-02-04T05:57:43.659Z"
   },
   {
    "duration": 42,
    "start_time": "2022-02-04T05:57:43.669Z"
   },
   {
    "duration": 8,
    "start_time": "2022-02-04T05:57:43.714Z"
   },
   {
    "duration": 8,
    "start_time": "2022-02-04T05:57:43.733Z"
   },
   {
    "duration": 120,
    "start_time": "2022-02-04T05:57:43.743Z"
   },
   {
    "duration": 46,
    "start_time": "2022-02-04T05:57:43.865Z"
   },
   {
    "duration": 20,
    "start_time": "2022-02-04T05:57:43.914Z"
   },
   {
    "duration": 76,
    "start_time": "2022-02-04T05:57:43.936Z"
   },
   {
    "duration": 46,
    "start_time": "2022-02-04T05:57:44.033Z"
   },
   {
    "duration": 81,
    "start_time": "2022-02-04T05:57:44.082Z"
   },
   {
    "duration": 26,
    "start_time": "2022-02-04T05:57:44.165Z"
   },
   {
    "duration": 64,
    "start_time": "2022-02-04T05:57:44.193Z"
   },
   {
    "duration": 4,
    "start_time": "2022-02-04T05:57:44.260Z"
   },
   {
    "duration": 68,
    "start_time": "2022-02-04T05:57:44.266Z"
   },
   {
    "duration": 6,
    "start_time": "2022-02-04T05:57:44.340Z"
   },
   {
    "duration": 45,
    "start_time": "2022-02-04T05:57:44.350Z"
   },
   {
    "duration": 74,
    "start_time": "2022-02-04T05:57:44.397Z"
   },
   {
    "duration": 103,
    "start_time": "2022-02-04T05:57:44.473Z"
   },
   {
    "duration": 1200,
    "start_time": "2022-02-04T05:57:43.379Z"
   },
   {
    "duration": 1198,
    "start_time": "2022-02-04T05:57:43.382Z"
   },
   {
    "duration": 1198,
    "start_time": "2022-02-04T05:57:43.384Z"
   },
   {
    "duration": 1197,
    "start_time": "2022-02-04T05:57:43.386Z"
   },
   {
    "duration": 1198,
    "start_time": "2022-02-04T05:57:43.387Z"
   },
   {
    "duration": 1197,
    "start_time": "2022-02-04T05:57:43.389Z"
   },
   {
    "duration": 1191,
    "start_time": "2022-02-04T05:57:43.396Z"
   },
   {
    "duration": 1191,
    "start_time": "2022-02-04T05:57:43.398Z"
   },
   {
    "duration": 1190,
    "start_time": "2022-02-04T05:57:43.400Z"
   },
   {
    "duration": 1189,
    "start_time": "2022-02-04T05:57:43.402Z"
   },
   {
    "duration": 1190,
    "start_time": "2022-02-04T05:57:43.403Z"
   },
   {
    "duration": 1189,
    "start_time": "2022-02-04T05:57:43.405Z"
   },
   {
    "duration": 1189,
    "start_time": "2022-02-04T05:57:43.407Z"
   },
   {
    "duration": 1189,
    "start_time": "2022-02-04T05:57:43.408Z"
   },
   {
    "duration": 1185,
    "start_time": "2022-02-04T05:57:43.414Z"
   },
   {
    "duration": 1184,
    "start_time": "2022-02-04T05:57:43.416Z"
   },
   {
    "duration": 1181,
    "start_time": "2022-02-04T05:57:43.420Z"
   },
   {
    "duration": 1177,
    "start_time": "2022-02-04T05:57:43.426Z"
   },
   {
    "duration": 1176,
    "start_time": "2022-02-04T05:57:43.428Z"
   },
   {
    "duration": 1176,
    "start_time": "2022-02-04T05:57:43.430Z"
   },
   {
    "duration": 1175,
    "start_time": "2022-02-04T05:57:43.432Z"
   },
   {
    "duration": 1175,
    "start_time": "2022-02-04T05:57:43.434Z"
   },
   {
    "duration": 1174,
    "start_time": "2022-02-04T05:57:43.436Z"
   },
   {
    "duration": 1169,
    "start_time": "2022-02-04T05:57:43.442Z"
   },
   {
    "duration": 1169,
    "start_time": "2022-02-04T05:57:43.444Z"
   },
   {
    "duration": 1169,
    "start_time": "2022-02-04T05:57:43.445Z"
   },
   {
    "duration": 1169,
    "start_time": "2022-02-04T05:57:43.447Z"
   },
   {
    "duration": 1168,
    "start_time": "2022-02-04T05:57:43.449Z"
   },
   {
    "duration": 1167,
    "start_time": "2022-02-04T05:57:43.451Z"
   },
   {
    "duration": 1162,
    "start_time": "2022-02-04T05:57:43.457Z"
   },
   {
    "duration": 1161,
    "start_time": "2022-02-04T05:57:43.459Z"
   },
   {
    "duration": 1161,
    "start_time": "2022-02-04T05:57:43.460Z"
   },
   {
    "duration": 1160,
    "start_time": "2022-02-04T05:57:43.462Z"
   },
   {
    "duration": 1167,
    "start_time": "2022-02-04T05:57:43.464Z"
   },
   {
    "duration": 1167,
    "start_time": "2022-02-04T05:57:43.466Z"
   },
   {
    "duration": 1167,
    "start_time": "2022-02-04T05:57:43.468Z"
   },
   {
    "duration": 1166,
    "start_time": "2022-02-04T05:57:43.470Z"
   },
   {
    "duration": 1166,
    "start_time": "2022-02-04T05:57:43.471Z"
   },
   {
    "duration": 1161,
    "start_time": "2022-02-04T05:57:43.477Z"
   },
   {
    "duration": 1161,
    "start_time": "2022-02-04T05:57:43.479Z"
   },
   {
    "duration": 1159,
    "start_time": "2022-02-04T05:57:43.482Z"
   },
   {
    "duration": 1158,
    "start_time": "2022-02-04T05:57:43.484Z"
   },
   {
    "duration": 1136,
    "start_time": "2022-02-04T05:57:43.507Z"
   },
   {
    "duration": 1131,
    "start_time": "2022-02-04T05:57:43.513Z"
   },
   {
    "duration": 1128,
    "start_time": "2022-02-04T05:57:43.517Z"
   },
   {
    "duration": 1127,
    "start_time": "2022-02-04T05:57:43.520Z"
   },
   {
    "duration": 13,
    "start_time": "2022-02-04T05:58:48.671Z"
   },
   {
    "duration": 17,
    "start_time": "2022-02-04T05:58:58.986Z"
   },
   {
    "duration": 189,
    "start_time": "2022-02-04T05:59:53.441Z"
   },
   {
    "duration": 45,
    "start_time": "2022-02-04T05:59:58.880Z"
   },
   {
    "duration": 49,
    "start_time": "2022-02-04T06:00:00.904Z"
   },
   {
    "duration": 18,
    "start_time": "2022-02-04T06:00:07.385Z"
   },
   {
    "duration": 26,
    "start_time": "2022-02-04T06:03:06.709Z"
   },
   {
    "duration": 26,
    "start_time": "2022-02-04T06:03:33.598Z"
   },
   {
    "duration": 29,
    "start_time": "2022-02-04T06:04:04.909Z"
   },
   {
    "duration": 1227,
    "start_time": "2022-02-04T06:04:31.828Z"
   },
   {
    "duration": 28,
    "start_time": "2022-02-04T06:04:45.268Z"
   },
   {
    "duration": 329,
    "start_time": "2022-02-04T06:06:03.804Z"
   },
   {
    "duration": 34,
    "start_time": "2022-02-04T06:06:23.019Z"
   },
   {
    "duration": 12,
    "start_time": "2022-02-04T06:06:37.947Z"
   },
   {
    "duration": 28,
    "start_time": "2022-02-04T06:07:16.562Z"
   },
   {
    "duration": 5,
    "start_time": "2022-02-04T06:08:24.848Z"
   },
   {
    "duration": 28,
    "start_time": "2022-02-04T06:09:46.719Z"
   },
   {
    "duration": 29,
    "start_time": "2022-02-04T06:10:18.383Z"
   },
   {
    "duration": 27,
    "start_time": "2022-02-04T06:16:28.263Z"
   },
   {
    "duration": 30,
    "start_time": "2022-02-04T06:17:35.191Z"
   },
   {
    "duration": 32,
    "start_time": "2022-02-04T06:17:51.080Z"
   },
   {
    "duration": 32,
    "start_time": "2022-02-04T06:21:34.131Z"
   },
   {
    "duration": 94,
    "start_time": "2022-02-04T06:24:20.112Z"
   },
   {
    "duration": 36,
    "start_time": "2022-02-04T06:24:30.168Z"
   },
   {
    "duration": 42,
    "start_time": "2022-02-04T06:25:10.567Z"
   },
   {
    "duration": 105,
    "start_time": "2022-02-04T06:25:59.758Z"
   },
   {
    "duration": 323,
    "start_time": "2022-02-04T06:26:01.954Z"
   },
   {
    "duration": 38,
    "start_time": "2022-02-04T06:26:11.238Z"
   },
   {
    "duration": 23,
    "start_time": "2022-02-04T06:26:53.174Z"
   },
   {
    "duration": 365,
    "start_time": "2022-02-04T06:27:41.365Z"
   },
   {
    "duration": 389,
    "start_time": "2022-02-04T06:28:00.325Z"
   },
   {
    "duration": 26,
    "start_time": "2022-02-04T06:29:22.307Z"
   },
   {
    "duration": 29,
    "start_time": "2022-02-04T06:29:34.018Z"
   },
   {
    "duration": 25,
    "start_time": "2022-02-04T06:30:10.097Z"
   },
   {
    "duration": 373,
    "start_time": "2022-02-04T06:32:14.136Z"
   },
   {
    "duration": 372,
    "start_time": "2022-02-04T06:33:05.869Z"
   },
   {
    "duration": 580,
    "start_time": "2022-02-04T06:34:08.238Z"
   },
   {
    "duration": 24,
    "start_time": "2022-02-04T06:34:19.902Z"
   },
   {
    "duration": 29,
    "start_time": "2022-02-04T06:34:46.558Z"
   },
   {
    "duration": 101,
    "start_time": "2022-02-04T06:38:30.194Z"
   },
   {
    "duration": 28,
    "start_time": "2022-02-04T06:39:19.170Z"
   },
   {
    "duration": 15,
    "start_time": "2022-02-04T06:43:19.238Z"
   },
   {
    "duration": 31,
    "start_time": "2022-02-04T06:43:30.525Z"
   },
   {
    "duration": 35,
    "start_time": "2022-02-04T06:44:01.886Z"
   },
   {
    "duration": 32,
    "start_time": "2022-02-04T06:45:38.123Z"
   },
   {
    "duration": 93,
    "start_time": "2022-02-04T06:46:54.426Z"
   },
   {
    "duration": 32,
    "start_time": "2022-02-04T06:47:20.288Z"
   },
   {
    "duration": 21,
    "start_time": "2022-02-04T06:47:56.130Z"
   },
   {
    "duration": 369,
    "start_time": "2022-02-04T06:48:07.601Z"
   },
   {
    "duration": 36,
    "start_time": "2022-02-04T06:48:57.041Z"
   },
   {
    "duration": 35,
    "start_time": "2022-02-04T06:50:05.376Z"
   },
   {
    "duration": 26,
    "start_time": "2022-02-04T06:50:30.791Z"
   },
   {
    "duration": 29,
    "start_time": "2022-02-04T06:50:38.470Z"
   },
   {
    "duration": 29,
    "start_time": "2022-02-04T06:50:44.966Z"
   },
   {
    "duration": 25,
    "start_time": "2022-02-04T06:51:27.742Z"
   },
   {
    "duration": 27,
    "start_time": "2022-02-04T06:51:41.293Z"
   },
   {
    "duration": 365,
    "start_time": "2022-02-04T06:54:53.674Z"
   },
   {
    "duration": 36,
    "start_time": "2022-02-04T06:55:14.234Z"
   },
   {
    "duration": 87,
    "start_time": "2022-02-04T06:55:57.729Z"
   },
   {
    "duration": 325,
    "start_time": "2022-02-04T06:56:02.721Z"
   },
   {
    "duration": 10,
    "start_time": "2022-02-04T06:56:40.536Z"
   },
   {
    "duration": 286,
    "start_time": "2022-02-04T06:58:11.014Z"
   },
   {
    "duration": 1388,
    "start_time": "2022-02-04T06:58:25.997Z"
   },
   {
    "duration": 212,
    "start_time": "2022-02-04T06:58:27.388Z"
   },
   {
    "duration": 32,
    "start_time": "2022-02-04T06:58:27.603Z"
   },
   {
    "duration": 190,
    "start_time": "2022-02-04T06:58:27.638Z"
   },
   {
    "duration": 22,
    "start_time": "2022-02-04T06:58:27.832Z"
   },
   {
    "duration": 130,
    "start_time": "2022-02-04T06:58:27.856Z"
   },
   {
    "duration": 18,
    "start_time": "2022-02-04T06:58:27.988Z"
   },
   {
    "duration": 36,
    "start_time": "2022-02-04T06:58:28.010Z"
   },
   {
    "duration": 9,
    "start_time": "2022-02-04T06:58:28.049Z"
   },
   {
    "duration": 46,
    "start_time": "2022-02-04T06:58:28.060Z"
   },
   {
    "duration": 26,
    "start_time": "2022-02-04T06:58:28.109Z"
   },
   {
    "duration": 11,
    "start_time": "2022-02-04T06:58:28.138Z"
   },
   {
    "duration": 159,
    "start_time": "2022-02-04T06:58:28.152Z"
   },
   {
    "duration": 83,
    "start_time": "2022-02-04T06:58:28.314Z"
   },
   {
    "duration": 9,
    "start_time": "2022-02-04T06:58:28.400Z"
   },
   {
    "duration": 122,
    "start_time": "2022-02-04T06:58:28.412Z"
   },
   {
    "duration": 67,
    "start_time": "2022-02-04T06:58:28.537Z"
   },
   {
    "duration": 98,
    "start_time": "2022-02-04T06:58:28.607Z"
   },
   {
    "duration": 48,
    "start_time": "2022-02-04T06:58:28.708Z"
   },
   {
    "duration": 77,
    "start_time": "2022-02-04T06:58:28.759Z"
   },
   {
    "duration": 7,
    "start_time": "2022-02-04T06:58:28.839Z"
   },
   {
    "duration": 85,
    "start_time": "2022-02-04T06:58:28.849Z"
   },
   {
    "duration": 8,
    "start_time": "2022-02-04T06:58:28.943Z"
   },
   {
    "duration": 83,
    "start_time": "2022-02-04T06:58:28.955Z"
   },
   {
    "duration": 66,
    "start_time": "2022-02-04T06:58:29.041Z"
   },
   {
    "duration": 333,
    "start_time": "2022-02-04T06:58:29.110Z"
   },
   {
    "duration": 56,
    "start_time": "2022-02-04T06:58:29.446Z"
   },
   {
    "duration": 66,
    "start_time": "2022-02-04T06:58:29.505Z"
   },
   {
    "duration": 27,
    "start_time": "2022-02-04T06:58:29.573Z"
   },
   {
    "duration": 36,
    "start_time": "2022-02-04T06:58:29.602Z"
   },
   {
    "duration": 7,
    "start_time": "2022-02-04T06:58:29.641Z"
   },
   {
    "duration": 6,
    "start_time": "2022-02-04T06:58:29.651Z"
   },
   {
    "duration": 7,
    "start_time": "2022-02-04T06:58:29.660Z"
   },
   {
    "duration": 8,
    "start_time": "2022-02-04T06:58:29.669Z"
   },
   {
    "duration": 410,
    "start_time": "2022-02-04T06:58:29.679Z"
   },
   {
    "duration": 12,
    "start_time": "2022-02-04T06:58:30.092Z"
   },
   {
    "duration": 28,
    "start_time": "2022-02-04T06:58:30.106Z"
   },
   {
    "duration": 22,
    "start_time": "2022-02-04T06:58:30.137Z"
   },
   {
    "duration": 12,
    "start_time": "2022-02-04T06:58:30.161Z"
   },
   {
    "duration": 17,
    "start_time": "2022-02-04T06:58:30.175Z"
   },
   {
    "duration": 397,
    "start_time": "2022-02-04T06:58:30.194Z"
   },
   {
    "duration": 578,
    "start_time": "2022-02-04T06:58:30.594Z"
   },
   {
    "duration": 12,
    "start_time": "2022-02-04T06:58:31.175Z"
   },
   {
    "duration": 14,
    "start_time": "2022-02-04T06:58:31.190Z"
   },
   {
    "duration": 29,
    "start_time": "2022-02-04T06:58:31.207Z"
   },
   {
    "duration": 20,
    "start_time": "2022-02-04T06:58:31.239Z"
   },
   {
    "duration": 17,
    "start_time": "2022-02-04T06:58:31.262Z"
   },
   {
    "duration": 354,
    "start_time": "2022-02-04T06:58:31.282Z"
   },
   {
    "duration": 11,
    "start_time": "2022-02-04T06:58:31.639Z"
   },
   {
    "duration": 20,
    "start_time": "2022-02-04T06:58:31.653Z"
   },
   {
    "duration": 7,
    "start_time": "2022-02-04T06:58:31.675Z"
   },
   {
    "duration": 7,
    "start_time": "2022-02-04T06:58:31.685Z"
   },
   {
    "duration": 39,
    "start_time": "2022-02-04T06:58:31.695Z"
   },
   {
    "duration": 325,
    "start_time": "2022-02-04T06:58:31.737Z"
   },
   {
    "duration": 402,
    "start_time": "2022-02-04T06:58:32.065Z"
   },
   {
    "duration": 10,
    "start_time": "2022-02-04T06:58:32.469Z"
   },
   {
    "duration": 9,
    "start_time": "2022-02-04T06:58:32.481Z"
   },
   {
    "duration": 8,
    "start_time": "2022-02-04T06:58:32.492Z"
   },
   {
    "duration": 32,
    "start_time": "2022-02-04T06:58:32.502Z"
   },
   {
    "duration": 12,
    "start_time": "2022-02-04T06:58:32.536Z"
   },
   {
    "duration": 454,
    "start_time": "2022-02-04T06:58:32.550Z"
   },
   {
    "duration": 10,
    "start_time": "2022-02-04T06:58:33.006Z"
   },
   {
    "duration": 8,
    "start_time": "2022-02-04T06:58:33.032Z"
   },
   {
    "duration": 8,
    "start_time": "2022-02-04T06:58:33.043Z"
   },
   {
    "duration": 7,
    "start_time": "2022-02-04T06:58:33.054Z"
   },
   {
    "duration": 7,
    "start_time": "2022-02-04T06:58:33.064Z"
   },
   {
    "duration": 385,
    "start_time": "2022-02-04T06:58:33.073Z"
   },
   {
    "duration": 471,
    "start_time": "2022-02-04T06:58:33.464Z"
   },
   {
    "duration": 13,
    "start_time": "2022-02-04T06:58:33.938Z"
   },
   {
    "duration": 13,
    "start_time": "2022-02-04T06:58:33.954Z"
   },
   {
    "duration": 18,
    "start_time": "2022-02-04T06:58:33.969Z"
   },
   {
    "duration": 48,
    "start_time": "2022-02-04T06:58:33.989Z"
   },
   {
    "duration": 6,
    "start_time": "2022-02-04T07:09:31.289Z"
   },
   {
    "duration": 7,
    "start_time": "2022-02-04T07:09:34.875Z"
   },
   {
    "duration": 1386,
    "start_time": "2022-02-04T07:09:43.855Z"
   },
   {
    "duration": 217,
    "start_time": "2022-02-04T07:09:45.243Z"
   },
   {
    "duration": 26,
    "start_time": "2022-02-04T07:09:45.463Z"
   },
   {
    "duration": 188,
    "start_time": "2022-02-04T07:09:45.491Z"
   },
   {
    "duration": 22,
    "start_time": "2022-02-04T07:09:45.681Z"
   },
   {
    "duration": 131,
    "start_time": "2022-02-04T07:09:45.705Z"
   },
   {
    "duration": 18,
    "start_time": "2022-02-04T07:09:45.838Z"
   },
   {
    "duration": 24,
    "start_time": "2022-02-04T07:09:45.860Z"
   },
   {
    "duration": 13,
    "start_time": "2022-02-04T07:09:45.888Z"
   },
   {
    "duration": 52,
    "start_time": "2022-02-04T07:09:45.904Z"
   },
   {
    "duration": 11,
    "start_time": "2022-02-04T07:09:45.958Z"
   },
   {
    "duration": 11,
    "start_time": "2022-02-04T07:09:45.972Z"
   },
   {
    "duration": 127,
    "start_time": "2022-02-04T07:09:45.986Z"
   },
   {
    "duration": 55,
    "start_time": "2022-02-04T07:09:46.116Z"
   },
   {
    "duration": 10,
    "start_time": "2022-02-04T07:09:46.174Z"
   },
   {
    "duration": 112,
    "start_time": "2022-02-04T07:09:46.186Z"
   },
   {
    "duration": 61,
    "start_time": "2022-02-04T07:09:46.301Z"
   },
   {
    "duration": 77,
    "start_time": "2022-02-04T07:09:46.365Z"
   },
   {
    "duration": 28,
    "start_time": "2022-02-04T07:09:46.445Z"
   },
   {
    "duration": 68,
    "start_time": "2022-02-04T07:09:46.475Z"
   },
   {
    "duration": 4,
    "start_time": "2022-02-04T07:09:46.546Z"
   },
   {
    "duration": 53,
    "start_time": "2022-02-04T07:09:46.552Z"
   },
   {
    "duration": 7,
    "start_time": "2022-02-04T07:09:46.631Z"
   },
   {
    "duration": 45,
    "start_time": "2022-02-04T07:09:46.642Z"
   },
   {
    "duration": 73,
    "start_time": "2022-02-04T07:09:46.690Z"
   },
   {
    "duration": 210,
    "start_time": "2022-02-04T07:09:46.765Z"
   },
   {
    "duration": 54,
    "start_time": "2022-02-04T07:09:46.978Z"
   },
   {
    "duration": 46,
    "start_time": "2022-02-04T07:09:47.034Z"
   },
   {
    "duration": 50,
    "start_time": "2022-02-04T07:09:47.082Z"
   },
   {
    "duration": 13,
    "start_time": "2022-02-04T07:09:47.134Z"
   },
   {
    "duration": 6,
    "start_time": "2022-02-04T07:09:47.149Z"
   },
   {
    "duration": 7,
    "start_time": "2022-02-04T07:09:47.157Z"
   },
   {
    "duration": 7,
    "start_time": "2022-02-04T07:09:47.166Z"
   },
   {
    "duration": 8,
    "start_time": "2022-02-04T07:09:47.175Z"
   },
   {
    "duration": 406,
    "start_time": "2022-02-04T07:09:47.185Z"
   },
   {
    "duration": 12,
    "start_time": "2022-02-04T07:09:47.593Z"
   },
   {
    "duration": 26,
    "start_time": "2022-02-04T07:09:47.608Z"
   },
   {
    "duration": 10,
    "start_time": "2022-02-04T07:09:47.636Z"
   },
   {
    "duration": 9,
    "start_time": "2022-02-04T07:09:47.648Z"
   },
   {
    "duration": 9,
    "start_time": "2022-02-04T07:09:47.659Z"
   },
   {
    "duration": 429,
    "start_time": "2022-02-04T07:09:47.670Z"
   },
   {
    "duration": 434,
    "start_time": "2022-02-04T07:09:48.101Z"
   },
   {
    "duration": 9,
    "start_time": "2022-02-04T07:09:48.538Z"
   },
   {
    "duration": 14,
    "start_time": "2022-02-04T07:09:48.549Z"
   },
   {
    "duration": 9,
    "start_time": "2022-02-04T07:09:48.565Z"
   },
   {
    "duration": 6,
    "start_time": "2022-02-04T07:09:48.576Z"
   },
   {
    "duration": 9,
    "start_time": "2022-02-04T07:09:48.584Z"
   },
   {
    "duration": 358,
    "start_time": "2022-02-04T07:09:48.595Z"
   },
   {
    "duration": 12,
    "start_time": "2022-02-04T07:09:48.956Z"
   },
   {
    "duration": 7,
    "start_time": "2022-02-04T07:09:48.971Z"
   },
   {
    "duration": 12,
    "start_time": "2022-02-04T07:09:48.980Z"
   },
   {
    "duration": 7,
    "start_time": "2022-02-04T07:09:48.995Z"
   },
   {
    "duration": 13,
    "start_time": "2022-02-04T07:09:49.004Z"
   },
   {
    "duration": 332,
    "start_time": "2022-02-04T07:09:49.019Z"
   },
   {
    "duration": 514,
    "start_time": "2022-02-04T07:09:49.354Z"
   },
   {
    "duration": 8,
    "start_time": "2022-02-04T07:09:49.870Z"
   },
   {
    "duration": 5,
    "start_time": "2022-02-04T07:09:49.881Z"
   },
   {
    "duration": 6,
    "start_time": "2022-02-04T07:09:49.888Z"
   },
   {
    "duration": 8,
    "start_time": "2022-02-04T07:09:49.896Z"
   },
   {
    "duration": 7,
    "start_time": "2022-02-04T07:09:49.907Z"
   },
   {
    "duration": 519,
    "start_time": "2022-02-04T07:09:49.916Z"
   },
   {
    "duration": 11,
    "start_time": "2022-02-04T07:09:50.438Z"
   },
   {
    "duration": 7,
    "start_time": "2022-02-04T07:09:50.452Z"
   },
   {
    "duration": 7,
    "start_time": "2022-02-04T07:09:50.462Z"
   },
   {
    "duration": 62,
    "start_time": "2022-02-04T07:09:50.472Z"
   },
   {
    "duration": 8,
    "start_time": "2022-02-04T07:09:50.537Z"
   },
   {
    "duration": 351,
    "start_time": "2022-02-04T07:09:50.548Z"
   },
   {
    "duration": 475,
    "start_time": "2022-02-04T07:09:50.906Z"
   },
   {
    "duration": 12,
    "start_time": "2022-02-04T07:09:51.384Z"
   },
   {
    "duration": 35,
    "start_time": "2022-02-04T07:09:51.398Z"
   },
   {
    "duration": 11,
    "start_time": "2022-02-04T07:09:51.435Z"
   },
   {
    "duration": 10,
    "start_time": "2022-02-04T07:09:51.448Z"
   },
   {
    "duration": 48,
    "start_time": "2022-02-04T07:11:14.597Z"
   },
   {
    "duration": 1474,
    "start_time": "2022-02-04T07:11:22.311Z"
   },
   {
    "duration": 220,
    "start_time": "2022-02-04T07:11:23.788Z"
   },
   {
    "duration": 39,
    "start_time": "2022-02-04T07:11:24.014Z"
   },
   {
    "duration": 189,
    "start_time": "2022-02-04T07:11:24.056Z"
   },
   {
    "duration": 24,
    "start_time": "2022-02-04T07:11:24.248Z"
   },
   {
    "duration": 140,
    "start_time": "2022-02-04T07:11:24.276Z"
   },
   {
    "duration": 28,
    "start_time": "2022-02-04T07:11:24.420Z"
   },
   {
    "duration": 25,
    "start_time": "2022-02-04T07:11:24.452Z"
   },
   {
    "duration": 10,
    "start_time": "2022-02-04T07:11:24.479Z"
   },
   {
    "duration": 51,
    "start_time": "2022-02-04T07:11:24.491Z"
   },
   {
    "duration": 9,
    "start_time": "2022-02-04T07:11:24.544Z"
   },
   {
    "duration": 16,
    "start_time": "2022-02-04T07:11:24.555Z"
   },
   {
    "duration": 126,
    "start_time": "2022-02-04T07:11:24.574Z"
   },
   {
    "duration": 52,
    "start_time": "2022-02-04T07:11:24.703Z"
   },
   {
    "duration": 7,
    "start_time": "2022-02-04T07:11:24.758Z"
   },
   {
    "duration": 101,
    "start_time": "2022-02-04T07:11:24.768Z"
   },
   {
    "duration": 76,
    "start_time": "2022-02-04T07:11:24.872Z"
   },
   {
    "duration": 90,
    "start_time": "2022-02-04T07:11:24.950Z"
   },
   {
    "duration": 36,
    "start_time": "2022-02-04T07:11:25.042Z"
   },
   {
    "duration": 88,
    "start_time": "2022-02-04T07:11:25.081Z"
   },
   {
    "duration": 6,
    "start_time": "2022-02-04T07:11:25.172Z"
   },
   {
    "duration": 97,
    "start_time": "2022-02-04T07:11:25.187Z"
   },
   {
    "duration": 6,
    "start_time": "2022-02-04T07:11:25.290Z"
   },
   {
    "duration": 73,
    "start_time": "2022-02-04T07:11:25.298Z"
   },
   {
    "duration": 4,
    "start_time": "2022-02-04T07:11:25.374Z"
   },
   {
    "duration": 75,
    "start_time": "2022-02-04T07:11:25.381Z"
   },
   {
    "duration": 222,
    "start_time": "2022-02-04T07:11:25.459Z"
   },
   {
    "duration": 58,
    "start_time": "2022-02-04T07:11:25.684Z"
   },
   {
    "duration": 49,
    "start_time": "2022-02-04T07:11:25.744Z"
   },
   {
    "duration": 49,
    "start_time": "2022-02-04T07:11:25.795Z"
   },
   {
    "duration": 12,
    "start_time": "2022-02-04T07:11:25.846Z"
   },
   {
    "duration": 9,
    "start_time": "2022-02-04T07:11:25.861Z"
   },
   {
    "duration": 10,
    "start_time": "2022-02-04T07:11:25.873Z"
   },
   {
    "duration": 7,
    "start_time": "2022-02-04T07:11:25.886Z"
   },
   {
    "duration": 39,
    "start_time": "2022-02-04T07:11:25.896Z"
   },
   {
    "duration": 367,
    "start_time": "2022-02-04T07:11:25.938Z"
   },
   {
    "duration": 26,
    "start_time": "2022-02-04T07:11:26.307Z"
   },
   {
    "duration": 6,
    "start_time": "2022-02-04T07:11:26.336Z"
   },
   {
    "duration": 7,
    "start_time": "2022-02-04T07:11:26.345Z"
   },
   {
    "duration": 8,
    "start_time": "2022-02-04T07:11:26.355Z"
   },
   {
    "duration": 14,
    "start_time": "2022-02-04T07:11:26.366Z"
   },
   {
    "duration": 565,
    "start_time": "2022-02-04T07:11:26.382Z"
   },
   {
    "duration": 591,
    "start_time": "2022-02-04T07:11:26.950Z"
   },
   {
    "duration": 12,
    "start_time": "2022-02-04T07:11:27.543Z"
   },
   {
    "duration": 8,
    "start_time": "2022-02-04T07:11:27.558Z"
   },
   {
    "duration": 7,
    "start_time": "2022-02-04T07:11:27.568Z"
   },
   {
    "duration": 6,
    "start_time": "2022-02-04T07:11:27.577Z"
   },
   {
    "duration": 52,
    "start_time": "2022-02-04T07:11:27.585Z"
   },
   {
    "duration": 368,
    "start_time": "2022-02-04T07:11:27.640Z"
   },
   {
    "duration": 10,
    "start_time": "2022-02-04T07:11:28.010Z"
   },
   {
    "duration": 7,
    "start_time": "2022-02-04T07:11:28.033Z"
   },
   {
    "duration": 7,
    "start_time": "2022-02-04T07:11:28.044Z"
   },
   {
    "duration": 7,
    "start_time": "2022-02-04T07:11:28.054Z"
   },
   {
    "duration": 8,
    "start_time": "2022-02-04T07:11:28.064Z"
   },
   {
    "duration": 483,
    "start_time": "2022-02-04T07:11:28.075Z"
   },
   {
    "duration": 548,
    "start_time": "2022-02-04T07:11:28.561Z"
   },
   {
    "duration": 23,
    "start_time": "2022-02-04T07:11:29.112Z"
   },
   {
    "duration": 11,
    "start_time": "2022-02-04T07:11:29.138Z"
   },
   {
    "duration": 7,
    "start_time": "2022-02-04T07:11:29.152Z"
   },
   {
    "duration": 7,
    "start_time": "2022-02-04T07:11:29.162Z"
   },
   {
    "duration": 11,
    "start_time": "2022-02-04T07:11:29.171Z"
   },
   {
    "duration": 381,
    "start_time": "2022-02-04T07:11:29.184Z"
   },
   {
    "duration": 10,
    "start_time": "2022-02-04T07:11:29.567Z"
   },
   {
    "duration": 22,
    "start_time": "2022-02-04T07:11:29.579Z"
   },
   {
    "duration": 11,
    "start_time": "2022-02-04T07:11:29.603Z"
   },
   {
    "duration": 21,
    "start_time": "2022-02-04T07:11:29.616Z"
   },
   {
    "duration": 9,
    "start_time": "2022-02-04T07:11:29.646Z"
   },
   {
    "duration": 467,
    "start_time": "2022-02-04T07:11:29.658Z"
   },
   {
    "duration": 662,
    "start_time": "2022-02-04T07:11:30.128Z"
   },
   {
    "duration": 14,
    "start_time": "2022-02-04T07:11:30.793Z"
   },
   {
    "duration": 29,
    "start_time": "2022-02-04T07:11:30.810Z"
   },
   {
    "duration": 27,
    "start_time": "2022-02-04T07:11:30.842Z"
   },
   {
    "duration": 15,
    "start_time": "2022-02-04T07:11:30.872Z"
   },
   {
    "duration": 28,
    "start_time": "2022-02-04T07:24:33.080Z"
   },
   {
    "duration": 29,
    "start_time": "2022-02-04T07:24:41.096Z"
   },
   {
    "duration": 15,
    "start_time": "2022-02-04T07:24:43.592Z"
   },
   {
    "duration": 1381,
    "start_time": "2022-02-04T07:24:48.704Z"
   },
   {
    "duration": 493,
    "start_time": "2022-02-04T07:24:50.088Z"
   },
   {
    "duration": 27,
    "start_time": "2022-02-04T07:24:50.584Z"
   },
   {
    "duration": 424,
    "start_time": "2022-02-04T07:24:50.614Z"
   },
   {
    "duration": 23,
    "start_time": "2022-02-04T07:24:51.040Z"
   },
   {
    "duration": 139,
    "start_time": "2022-02-04T07:24:51.066Z"
   },
   {
    "duration": 27,
    "start_time": "2022-02-04T07:24:51.208Z"
   },
   {
    "duration": 24,
    "start_time": "2022-02-04T07:24:51.239Z"
   },
   {
    "duration": 18,
    "start_time": "2022-02-04T07:24:51.266Z"
   },
   {
    "duration": 62,
    "start_time": "2022-02-04T07:24:51.286Z"
   },
   {
    "duration": 8,
    "start_time": "2022-02-04T07:24:51.351Z"
   },
   {
    "duration": 13,
    "start_time": "2022-02-04T07:24:51.362Z"
   },
   {
    "duration": 118,
    "start_time": "2022-02-04T07:24:51.377Z"
   },
   {
    "duration": 52,
    "start_time": "2022-02-04T07:24:51.497Z"
   },
   {
    "duration": 7,
    "start_time": "2022-02-04T07:24:51.551Z"
   },
   {
    "duration": 98,
    "start_time": "2022-02-04T07:24:51.560Z"
   },
   {
    "duration": 48,
    "start_time": "2022-02-04T07:24:51.661Z"
   },
   {
    "duration": 81,
    "start_time": "2022-02-04T07:24:51.712Z"
   },
   {
    "duration": 44,
    "start_time": "2022-02-04T07:24:51.796Z"
   },
   {
    "duration": 48,
    "start_time": "2022-02-04T07:24:51.842Z"
   },
   {
    "duration": 5,
    "start_time": "2022-02-04T07:24:51.893Z"
   },
   {
    "duration": 76,
    "start_time": "2022-02-04T07:24:51.900Z"
   },
   {
    "duration": 6,
    "start_time": "2022-02-04T07:24:51.981Z"
   },
   {
    "duration": 65,
    "start_time": "2022-02-04T07:24:51.992Z"
   },
   {
    "duration": 51,
    "start_time": "2022-02-04T07:24:52.060Z"
   },
   {
    "duration": 227,
    "start_time": "2022-02-04T07:24:52.114Z"
   },
   {
    "duration": 42,
    "start_time": "2022-02-04T07:24:52.343Z"
   },
   {
    "duration": 68,
    "start_time": "2022-02-04T07:24:52.387Z"
   },
   {
    "duration": 29,
    "start_time": "2022-02-04T07:24:52.457Z"
   },
   {
    "duration": 15,
    "start_time": "2022-02-04T07:24:52.488Z"
   },
   {
    "duration": 125,
    "start_time": "2022-02-04T07:24:52.505Z"
   },
   {
    "duration": 1119,
    "start_time": "2022-02-04T07:24:51.514Z"
   },
   {
    "duration": 1118,
    "start_time": "2022-02-04T07:24:51.516Z"
   },
   {
    "duration": 1118,
    "start_time": "2022-02-04T07:24:51.518Z"
   },
   {
    "duration": 1118,
    "start_time": "2022-02-04T07:24:51.520Z"
   },
   {
    "duration": 1116,
    "start_time": "2022-02-04T07:24:51.523Z"
   },
   {
    "duration": 1115,
    "start_time": "2022-02-04T07:24:51.525Z"
   },
   {
    "duration": 1115,
    "start_time": "2022-02-04T07:24:51.527Z"
   },
   {
    "duration": 1111,
    "start_time": "2022-02-04T07:24:51.533Z"
   },
   {
    "duration": 1110,
    "start_time": "2022-02-04T07:24:51.535Z"
   },
   {
    "duration": 1109,
    "start_time": "2022-02-04T07:24:51.537Z"
   },
   {
    "duration": 1109,
    "start_time": "2022-02-04T07:24:51.539Z"
   },
   {
    "duration": 1108,
    "start_time": "2022-02-04T07:24:51.541Z"
   },
   {
    "duration": 1103,
    "start_time": "2022-02-04T07:24:51.547Z"
   },
   {
    "duration": 1102,
    "start_time": "2022-02-04T07:24:51.549Z"
   },
   {
    "duration": 1102,
    "start_time": "2022-02-04T07:24:51.551Z"
   },
   {
    "duration": 1101,
    "start_time": "2022-02-04T07:24:51.553Z"
   },
   {
    "duration": 1101,
    "start_time": "2022-02-04T07:24:51.555Z"
   },
   {
    "duration": 1100,
    "start_time": "2022-02-04T07:24:51.557Z"
   },
   {
    "duration": 1099,
    "start_time": "2022-02-04T07:24:51.559Z"
   },
   {
    "duration": 1064,
    "start_time": "2022-02-04T07:24:51.595Z"
   },
   {
    "duration": 1063,
    "start_time": "2022-02-04T07:24:51.598Z"
   },
   {
    "duration": 1059,
    "start_time": "2022-02-04T07:24:51.603Z"
   },
   {
    "duration": 1058,
    "start_time": "2022-02-04T07:24:51.605Z"
   },
   {
    "duration": 1057,
    "start_time": "2022-02-04T07:24:51.607Z"
   },
   {
    "duration": 1056,
    "start_time": "2022-02-04T07:24:51.610Z"
   },
   {
    "duration": 1055,
    "start_time": "2022-02-04T07:24:51.612Z"
   },
   {
    "duration": 1056,
    "start_time": "2022-02-04T07:24:51.613Z"
   },
   {
    "duration": 1009,
    "start_time": "2022-02-04T07:24:51.661Z"
   },
   {
    "duration": 1009,
    "start_time": "2022-02-04T07:24:51.663Z"
   },
   {
    "duration": 1008,
    "start_time": "2022-02-04T07:24:51.665Z"
   },
   {
    "duration": 1008,
    "start_time": "2022-02-04T07:24:51.667Z"
   },
   {
    "duration": 1007,
    "start_time": "2022-02-04T07:24:51.669Z"
   },
   {
    "duration": 1007,
    "start_time": "2022-02-04T07:24:51.671Z"
   },
   {
    "duration": 1007,
    "start_time": "2022-02-04T07:24:51.673Z"
   },
   {
    "duration": 1060,
    "start_time": "2022-02-04T07:24:51.675Z"
   },
   {
    "duration": 1060,
    "start_time": "2022-02-04T07:24:51.677Z"
   },
   {
    "duration": 1033,
    "start_time": "2022-02-04T07:24:51.706Z"
   },
   {
    "duration": 1026,
    "start_time": "2022-02-04T07:24:51.714Z"
   },
   {
    "duration": 1026,
    "start_time": "2022-02-04T07:24:51.716Z"
   },
   {
    "duration": 1025,
    "start_time": "2022-02-04T07:24:51.718Z"
   },
   {
    "duration": 1025,
    "start_time": "2022-02-04T07:24:51.720Z"
   },
   {
    "duration": 1024,
    "start_time": "2022-02-04T07:24:51.722Z"
   },
   {
    "duration": 1025,
    "start_time": "2022-02-04T07:24:51.724Z"
   },
   {
    "duration": 1342,
    "start_time": "2022-02-04T07:25:19.159Z"
   },
   {
    "duration": 235,
    "start_time": "2022-02-04T07:25:20.504Z"
   },
   {
    "duration": 27,
    "start_time": "2022-02-04T07:25:20.742Z"
   },
   {
    "duration": 210,
    "start_time": "2022-02-04T07:25:20.772Z"
   },
   {
    "duration": 26,
    "start_time": "2022-02-04T07:25:20.984Z"
   },
   {
    "duration": 161,
    "start_time": "2022-02-04T07:25:21.013Z"
   },
   {
    "duration": 19,
    "start_time": "2022-02-04T07:25:21.177Z"
   },
   {
    "duration": 34,
    "start_time": "2022-02-04T07:25:21.200Z"
   },
   {
    "duration": 9,
    "start_time": "2022-02-04T07:25:21.237Z"
   },
   {
    "duration": 45,
    "start_time": "2022-02-04T07:25:21.249Z"
   },
   {
    "duration": 10,
    "start_time": "2022-02-04T07:25:21.296Z"
   },
   {
    "duration": 29,
    "start_time": "2022-02-04T07:25:21.309Z"
   },
   {
    "duration": 113,
    "start_time": "2022-02-04T07:25:21.341Z"
   },
   {
    "duration": 54,
    "start_time": "2022-02-04T07:25:21.457Z"
   },
   {
    "duration": 20,
    "start_time": "2022-02-04T07:25:21.513Z"
   },
   {
    "duration": 127,
    "start_time": "2022-02-04T07:25:21.536Z"
   },
   {
    "duration": 53,
    "start_time": "2022-02-04T07:25:21.666Z"
   },
   {
    "duration": 77,
    "start_time": "2022-02-04T07:25:21.734Z"
   },
   {
    "duration": 51,
    "start_time": "2022-02-04T07:25:21.814Z"
   },
   {
    "duration": 86,
    "start_time": "2022-02-04T07:25:21.868Z"
   },
   {
    "duration": 5,
    "start_time": "2022-02-04T07:25:21.957Z"
   },
   {
    "duration": 94,
    "start_time": "2022-02-04T07:25:21.965Z"
   },
   {
    "duration": 5,
    "start_time": "2022-02-04T07:25:22.069Z"
   },
   {
    "duration": 72,
    "start_time": "2022-02-04T07:25:22.078Z"
   },
   {
    "duration": 55,
    "start_time": "2022-02-04T07:25:22.153Z"
   },
   {
    "duration": 379,
    "start_time": "2022-02-04T07:25:22.211Z"
   },
   {
    "duration": 77,
    "start_time": "2022-02-04T07:25:22.594Z"
   },
   {
    "duration": 82,
    "start_time": "2022-02-04T07:25:22.674Z"
   },
   {
    "duration": 42,
    "start_time": "2022-02-04T07:25:22.759Z"
   },
   {
    "duration": 40,
    "start_time": "2022-02-04T07:25:22.804Z"
   },
   {
    "duration": 27,
    "start_time": "2022-02-04T07:25:22.847Z"
   },
   {
    "duration": 23,
    "start_time": "2022-02-04T07:25:22.877Z"
   },
   {
    "duration": 18,
    "start_time": "2022-02-04T07:25:22.903Z"
   },
   {
    "duration": 36,
    "start_time": "2022-02-04T07:25:22.923Z"
   },
   {
    "duration": 10,
    "start_time": "2022-02-04T07:25:22.962Z"
   },
   {
    "duration": 422,
    "start_time": "2022-02-04T07:25:22.975Z"
   },
   {
    "duration": 13,
    "start_time": "2022-02-04T07:25:23.401Z"
   },
   {
    "duration": 9,
    "start_time": "2022-02-04T07:25:23.432Z"
   },
   {
    "duration": 17,
    "start_time": "2022-02-04T07:25:23.444Z"
   },
   {
    "duration": 8,
    "start_time": "2022-02-04T07:25:23.464Z"
   },
   {
    "duration": 10,
    "start_time": "2022-02-04T07:25:23.476Z"
   },
   {
    "duration": 506,
    "start_time": "2022-02-04T07:25:23.489Z"
   },
   {
    "duration": 421,
    "start_time": "2022-02-04T07:25:23.997Z"
   },
   {
    "duration": 22,
    "start_time": "2022-02-04T07:25:24.422Z"
   },
   {
    "duration": 12,
    "start_time": "2022-02-04T07:25:24.447Z"
   },
   {
    "duration": 8,
    "start_time": "2022-02-04T07:25:24.462Z"
   },
   {
    "duration": 8,
    "start_time": "2022-02-04T07:25:24.473Z"
   },
   {
    "duration": 53,
    "start_time": "2022-02-04T07:25:24.483Z"
   },
   {
    "duration": 371,
    "start_time": "2022-02-04T07:25:24.539Z"
   },
   {
    "duration": 19,
    "start_time": "2022-02-04T07:25:24.913Z"
   },
   {
    "duration": 6,
    "start_time": "2022-02-04T07:25:24.934Z"
   },
   {
    "duration": 10,
    "start_time": "2022-02-04T07:25:24.942Z"
   },
   {
    "duration": 8,
    "start_time": "2022-02-04T07:25:24.955Z"
   },
   {
    "duration": 8,
    "start_time": "2022-02-04T07:25:24.966Z"
   },
   {
    "duration": 355,
    "start_time": "2022-02-04T07:25:24.977Z"
   },
   {
    "duration": 392,
    "start_time": "2022-02-04T07:25:25.335Z"
   },
   {
    "duration": 9,
    "start_time": "2022-02-04T07:25:25.733Z"
   },
   {
    "duration": 12,
    "start_time": "2022-02-04T07:25:25.745Z"
   },
   {
    "duration": 12,
    "start_time": "2022-02-04T07:25:25.759Z"
   },
   {
    "duration": 7,
    "start_time": "2022-02-04T07:25:25.774Z"
   },
   {
    "duration": 11,
    "start_time": "2022-02-04T07:25:25.783Z"
   },
   {
    "duration": 367,
    "start_time": "2022-02-04T07:25:25.835Z"
   },
   {
    "duration": 10,
    "start_time": "2022-02-04T07:25:26.205Z"
   },
   {
    "duration": 20,
    "start_time": "2022-02-04T07:25:26.218Z"
   },
   {
    "duration": 9,
    "start_time": "2022-02-04T07:25:26.240Z"
   },
   {
    "duration": 10,
    "start_time": "2022-02-04T07:25:26.251Z"
   },
   {
    "duration": 9,
    "start_time": "2022-02-04T07:25:26.264Z"
   },
   {
    "duration": 366,
    "start_time": "2022-02-04T07:25:26.281Z"
   },
   {
    "duration": 496,
    "start_time": "2022-02-04T07:25:26.651Z"
   },
   {
    "duration": 12,
    "start_time": "2022-02-04T07:25:27.151Z"
   },
   {
    "duration": 13,
    "start_time": "2022-02-04T07:25:27.166Z"
   },
   {
    "duration": 12,
    "start_time": "2022-02-04T07:25:27.182Z"
   },
   {
    "duration": 45,
    "start_time": "2022-02-04T07:25:27.196Z"
   },
   {
    "duration": 1353,
    "start_time": "2022-02-04T07:59:10.544Z"
   },
   {
    "duration": 234,
    "start_time": "2022-02-04T07:59:11.899Z"
   },
   {
    "duration": 45,
    "start_time": "2022-02-04T07:59:12.137Z"
   },
   {
    "duration": 257,
    "start_time": "2022-02-04T07:59:12.186Z"
   },
   {
    "duration": 23,
    "start_time": "2022-02-04T07:59:12.446Z"
   },
   {
    "duration": 137,
    "start_time": "2022-02-04T07:59:12.471Z"
   },
   {
    "duration": 27,
    "start_time": "2022-02-04T07:59:12.611Z"
   },
   {
    "duration": 26,
    "start_time": "2022-02-04T07:59:12.642Z"
   },
   {
    "duration": 9,
    "start_time": "2022-02-04T07:59:12.671Z"
   },
   {
    "duration": 53,
    "start_time": "2022-02-04T07:59:12.683Z"
   },
   {
    "duration": 9,
    "start_time": "2022-02-04T07:59:12.738Z"
   },
   {
    "duration": 8,
    "start_time": "2022-02-04T07:59:12.749Z"
   },
   {
    "duration": 132,
    "start_time": "2022-02-04T07:59:12.759Z"
   },
   {
    "duration": 60,
    "start_time": "2022-02-04T07:59:12.894Z"
   },
   {
    "duration": 7,
    "start_time": "2022-02-04T07:59:12.957Z"
   },
   {
    "duration": 115,
    "start_time": "2022-02-04T07:59:12.967Z"
   },
   {
    "duration": 61,
    "start_time": "2022-02-04T07:59:13.085Z"
   },
   {
    "duration": 63,
    "start_time": "2022-02-04T07:59:13.149Z"
   },
   {
    "duration": 40,
    "start_time": "2022-02-04T07:59:13.215Z"
   },
   {
    "duration": 47,
    "start_time": "2022-02-04T07:59:13.257Z"
   },
   {
    "duration": 28,
    "start_time": "2022-02-04T07:59:13.306Z"
   },
   {
    "duration": 65,
    "start_time": "2022-02-04T07:59:13.336Z"
   },
   {
    "duration": 27,
    "start_time": "2022-02-04T07:59:13.407Z"
   },
   {
    "duration": 45,
    "start_time": "2022-02-04T07:59:13.438Z"
   },
   {
    "duration": 81,
    "start_time": "2022-02-04T07:59:13.485Z"
   },
   {
    "duration": 211,
    "start_time": "2022-02-04T07:59:13.568Z"
   },
   {
    "duration": 56,
    "start_time": "2022-02-04T07:59:13.782Z"
   },
   {
    "duration": 48,
    "start_time": "2022-02-04T07:59:13.841Z"
   },
   {
    "duration": 53,
    "start_time": "2022-02-04T07:59:13.892Z"
   },
   {
    "duration": 15,
    "start_time": "2022-02-04T07:59:13.947Z"
   },
   {
    "duration": 20,
    "start_time": "2022-02-04T07:59:13.964Z"
   },
   {
    "duration": 5,
    "start_time": "2022-02-04T07:59:13.987Z"
   },
   {
    "duration": 8,
    "start_time": "2022-02-04T07:59:13.994Z"
   },
   {
    "duration": 6,
    "start_time": "2022-02-04T07:59:14.033Z"
   },
   {
    "duration": 8,
    "start_time": "2022-02-04T07:59:14.041Z"
   },
   {
    "duration": 387,
    "start_time": "2022-02-04T07:59:14.052Z"
   },
   {
    "duration": 12,
    "start_time": "2022-02-04T07:59:14.442Z"
   },
   {
    "duration": 7,
    "start_time": "2022-02-04T07:59:14.456Z"
   },
   {
    "duration": 7,
    "start_time": "2022-02-04T07:59:14.465Z"
   },
   {
    "duration": 8,
    "start_time": "2022-02-04T07:59:14.475Z"
   },
   {
    "duration": 49,
    "start_time": "2022-02-04T07:59:14.485Z"
   },
   {
    "duration": 403,
    "start_time": "2022-02-04T07:59:14.536Z"
   },
   {
    "duration": 411,
    "start_time": "2022-02-04T07:59:14.942Z"
   },
   {
    "duration": 10,
    "start_time": "2022-02-04T07:59:15.355Z"
   },
   {
    "duration": 9,
    "start_time": "2022-02-04T07:59:15.368Z"
   },
   {
    "duration": 7,
    "start_time": "2022-02-04T07:59:15.380Z"
   },
   {
    "duration": 42,
    "start_time": "2022-02-04T07:59:15.390Z"
   },
   {
    "duration": 9,
    "start_time": "2022-02-04T07:59:15.435Z"
   },
   {
    "duration": 519,
    "start_time": "2022-02-04T07:59:15.448Z"
   },
   {
    "duration": 12,
    "start_time": "2022-02-04T07:59:15.970Z"
   },
   {
    "duration": 7,
    "start_time": "2022-02-04T07:59:15.985Z"
   },
   {
    "duration": 39,
    "start_time": "2022-02-04T07:59:15.995Z"
   },
   {
    "duration": 9,
    "start_time": "2022-02-04T07:59:16.037Z"
   },
   {
    "duration": 7,
    "start_time": "2022-02-04T07:59:16.049Z"
   },
   {
    "duration": 339,
    "start_time": "2022-02-04T07:59:16.058Z"
   },
   {
    "duration": 399,
    "start_time": "2022-02-04T07:59:16.400Z"
   },
   {
    "duration": 9,
    "start_time": "2022-02-04T07:59:16.802Z"
   },
   {
    "duration": 21,
    "start_time": "2022-02-04T07:59:16.814Z"
   },
   {
    "duration": 19,
    "start_time": "2022-02-04T07:59:16.837Z"
   },
   {
    "duration": 13,
    "start_time": "2022-02-04T07:59:16.858Z"
   },
   {
    "duration": 15,
    "start_time": "2022-02-04T07:59:16.873Z"
   },
   {
    "duration": 351,
    "start_time": "2022-02-04T07:59:16.890Z"
   },
   {
    "duration": 9,
    "start_time": "2022-02-04T07:59:17.243Z"
   },
   {
    "duration": 6,
    "start_time": "2022-02-04T07:59:17.255Z"
   },
   {
    "duration": 8,
    "start_time": "2022-02-04T07:59:17.263Z"
   },
   {
    "duration": 9,
    "start_time": "2022-02-04T07:59:17.274Z"
   },
   {
    "duration": 51,
    "start_time": "2022-02-04T07:59:17.285Z"
   },
   {
    "duration": 332,
    "start_time": "2022-02-04T07:59:17.342Z"
   },
   {
    "duration": 473,
    "start_time": "2022-02-04T07:59:17.677Z"
   },
   {
    "duration": 10,
    "start_time": "2022-02-04T07:59:18.153Z"
   },
   {
    "duration": 13,
    "start_time": "2022-02-04T07:59:18.166Z"
   },
   {
    "duration": 11,
    "start_time": "2022-02-04T07:59:18.182Z"
   },
   {
    "duration": 41,
    "start_time": "2022-02-04T07:59:18.196Z"
   },
   {
    "duration": 12,
    "start_time": "2022-02-12T11:36:38.726Z"
   },
   {
    "duration": 227,
    "start_time": "2022-02-12T11:36:38.741Z"
   },
   {
    "duration": 28,
    "start_time": "2022-02-12T11:36:38.970Z"
   },
   {
    "duration": 228,
    "start_time": "2022-02-12T11:36:39.001Z"
   },
   {
    "duration": 30,
    "start_time": "2022-02-12T11:36:39.232Z"
   },
   {
    "duration": 137,
    "start_time": "2022-02-12T11:36:39.265Z"
   },
   {
    "duration": 37,
    "start_time": "2022-02-12T11:36:39.405Z"
   },
   {
    "duration": 24,
    "start_time": "2022-02-12T11:36:39.445Z"
   },
   {
    "duration": 13,
    "start_time": "2022-02-12T11:36:39.472Z"
   },
   {
    "duration": 62,
    "start_time": "2022-02-12T11:36:39.488Z"
   },
   {
    "duration": 21,
    "start_time": "2022-02-12T11:36:39.554Z"
   },
   {
    "duration": 20,
    "start_time": "2022-02-12T11:36:39.578Z"
   },
   {
    "duration": 134,
    "start_time": "2022-02-12T11:36:39.613Z"
   },
   {
    "duration": 89,
    "start_time": "2022-02-12T11:36:39.751Z"
   },
   {
    "duration": 10,
    "start_time": "2022-02-12T11:36:39.844Z"
   },
   {
    "duration": 121,
    "start_time": "2022-02-12T11:36:39.857Z"
   },
   {
    "duration": 56,
    "start_time": "2022-02-12T11:36:39.980Z"
   },
   {
    "duration": 58,
    "start_time": "2022-02-12T11:36:40.039Z"
   },
   {
    "duration": 46,
    "start_time": "2022-02-12T11:36:40.123Z"
   },
   {
    "duration": 81,
    "start_time": "2022-02-12T11:36:40.173Z"
   },
   {
    "duration": 5,
    "start_time": "2022-02-12T11:36:40.256Z"
   },
   {
    "duration": 118,
    "start_time": "2022-02-12T11:36:40.264Z"
   },
   {
    "duration": 8,
    "start_time": "2022-02-12T11:36:40.386Z"
   },
   {
    "duration": 123,
    "start_time": "2022-02-12T11:36:40.397Z"
   },
   {
    "duration": 55,
    "start_time": "2022-02-12T11:36:40.524Z"
   },
   {
    "duration": 232,
    "start_time": "2022-02-12T11:36:40.581Z"
   },
   {
    "duration": 51,
    "start_time": "2022-02-12T11:36:40.816Z"
   },
   {
    "duration": 74,
    "start_time": "2022-02-12T11:36:40.870Z"
   },
   {
    "duration": 31,
    "start_time": "2022-02-12T11:36:40.947Z"
   },
   {
    "duration": 15,
    "start_time": "2022-02-12T11:36:40.981Z"
   },
   {
    "duration": 17,
    "start_time": "2022-02-12T11:36:41.025Z"
   },
   {
    "duration": 7,
    "start_time": "2022-02-12T11:36:41.045Z"
   },
   {
    "duration": 9,
    "start_time": "2022-02-12T11:36:41.055Z"
   },
   {
    "duration": 6,
    "start_time": "2022-02-12T11:36:41.067Z"
   },
   {
    "duration": 15,
    "start_time": "2022-02-12T11:36:41.126Z"
   },
   {
    "duration": 429,
    "start_time": "2022-02-12T11:36:41.143Z"
   },
   {
    "duration": 15,
    "start_time": "2022-02-12T11:36:41.575Z"
   },
   {
    "duration": 30,
    "start_time": "2022-02-12T11:36:41.593Z"
   },
   {
    "duration": 8,
    "start_time": "2022-02-12T11:36:41.626Z"
   },
   {
    "duration": 12,
    "start_time": "2022-02-12T11:36:41.637Z"
   },
   {
    "duration": 14,
    "start_time": "2022-02-12T11:36:41.651Z"
   },
   {
    "duration": 439,
    "start_time": "2022-02-12T11:36:41.668Z"
   },
   {
    "duration": 465,
    "start_time": "2022-02-12T11:36:42.110Z"
   },
   {
    "duration": 12,
    "start_time": "2022-02-12T11:36:42.579Z"
   },
   {
    "duration": 31,
    "start_time": "2022-02-12T11:36:42.594Z"
   },
   {
    "duration": 13,
    "start_time": "2022-02-12T11:36:42.628Z"
   },
   {
    "duration": 10,
    "start_time": "2022-02-12T11:36:42.643Z"
   },
   {
    "duration": 12,
    "start_time": "2022-02-12T11:36:42.656Z"
   },
   {
    "duration": 518,
    "start_time": "2022-02-12T11:36:42.671Z"
   },
   {
    "duration": 13,
    "start_time": "2022-02-12T11:36:43.192Z"
   },
   {
    "duration": 10,
    "start_time": "2022-02-12T11:36:43.225Z"
   },
   {
    "duration": 9,
    "start_time": "2022-02-12T11:36:43.238Z"
   },
   {
    "duration": 13,
    "start_time": "2022-02-12T11:36:43.250Z"
   },
   {
    "duration": 19,
    "start_time": "2022-02-12T11:36:43.266Z"
   },
   {
    "duration": 435,
    "start_time": "2022-02-12T11:36:43.288Z"
   },
   {
    "duration": 522,
    "start_time": "2022-02-12T11:36:43.727Z"
   },
   {
    "duration": 12,
    "start_time": "2022-02-12T11:36:44.252Z"
   },
   {
    "duration": 10,
    "start_time": "2022-02-12T11:36:44.267Z"
   },
   {
    "duration": 14,
    "start_time": "2022-02-12T11:36:44.280Z"
   },
   {
    "duration": 12,
    "start_time": "2022-02-12T11:36:44.324Z"
   },
   {
    "duration": 11,
    "start_time": "2022-02-12T11:36:44.339Z"
   },
   {
    "duration": 458,
    "start_time": "2022-02-12T11:36:44.353Z"
   },
   {
    "duration": 11,
    "start_time": "2022-02-12T11:36:44.823Z"
   },
   {
    "duration": 10,
    "start_time": "2022-02-12T11:36:44.837Z"
   },
   {
    "duration": 10,
    "start_time": "2022-02-12T11:36:44.850Z"
   },
   {
    "duration": 10,
    "start_time": "2022-02-12T11:36:44.863Z"
   },
   {
    "duration": 59,
    "start_time": "2022-02-12T11:36:44.877Z"
   },
   {
    "duration": 387,
    "start_time": "2022-02-12T11:36:44.939Z"
   },
   {
    "duration": 541,
    "start_time": "2022-02-12T11:36:45.330Z"
   },
   {
    "duration": 14,
    "start_time": "2022-02-12T11:36:45.874Z"
   },
   {
    "duration": 111,
    "start_time": "2022-02-12T11:36:45.891Z"
   },
   {
    "duration": 148,
    "start_time": "2022-02-12T11:36:46.008Z"
   },
   {
    "duration": 57,
    "start_time": "2022-02-12T11:36:46.167Z"
   },
   {
    "duration": 43,
    "start_time": "2022-02-12T11:46:57.983Z"
   },
   {
    "duration": 1172,
    "start_time": "2022-02-12T11:47:47.261Z"
   },
   {
    "duration": 44,
    "start_time": "2022-02-12T11:48:13.683Z"
   },
   {
    "duration": 36,
    "start_time": "2022-02-12T11:48:24.794Z"
   },
   {
    "duration": 134,
    "start_time": "2022-02-12T11:53:37.791Z"
   },
   {
    "duration": 8,
    "start_time": "2022-02-12T11:53:59.718Z"
   },
   {
    "duration": 627,
    "start_time": "2022-02-12T11:55:07.385Z"
   },
   {
    "duration": 8,
    "start_time": "2022-02-12T11:55:10.089Z"
   },
   {
    "duration": 7,
    "start_time": "2022-02-12T11:55:15.552Z"
   },
   {
    "duration": 36,
    "start_time": "2022-02-12T12:00:03.735Z"
   },
   {
    "duration": 227,
    "start_time": "2022-02-12T12:01:05.515Z"
   },
   {
    "duration": 39,
    "start_time": "2022-02-12T12:01:30.962Z"
   },
   {
    "duration": 7,
    "start_time": "2022-02-12T12:14:50.441Z"
   },
   {
    "duration": 387,
    "start_time": "2022-02-12T12:15:12.937Z"
   },
   {
    "duration": -920,
    "start_time": "2022-02-12T12:16:33.421Z"
   },
   {
    "duration": -2549,
    "start_time": "2022-02-12T12:17:24.841Z"
   },
   {
    "duration": 653,
    "start_time": "2022-02-12T12:17:42.357Z"
   },
   {
    "duration": 657,
    "start_time": "2022-02-12T12:17:56.984Z"
   },
   {
    "duration": 51,
    "start_time": "2022-02-12T12:18:03.742Z"
   },
   {
    "duration": 676,
    "start_time": "2022-02-12T12:18:40.540Z"
   },
   {
    "duration": 598,
    "start_time": "2022-02-12T12:18:56.027Z"
   },
   {
    "duration": 682,
    "start_time": "2022-02-12T12:19:07.123Z"
   },
   {
    "duration": 1471,
    "start_time": "2022-02-12T12:26:19.508Z"
   },
   {
    "duration": 208,
    "start_time": "2022-02-12T12:26:20.981Z"
   },
   {
    "duration": 35,
    "start_time": "2022-02-12T12:26:21.192Z"
   },
   {
    "duration": 183,
    "start_time": "2022-02-12T12:26:21.229Z"
   },
   {
    "duration": 28,
    "start_time": "2022-02-12T12:26:21.414Z"
   },
   {
    "duration": 131,
    "start_time": "2022-02-12T12:26:21.445Z"
   },
   {
    "duration": 19,
    "start_time": "2022-02-12T12:26:21.579Z"
   },
   {
    "duration": 33,
    "start_time": "2022-02-12T12:26:21.602Z"
   },
   {
    "duration": 10,
    "start_time": "2022-02-12T12:26:21.638Z"
   },
   {
    "duration": 34,
    "start_time": "2022-02-12T12:26:21.651Z"
   },
   {
    "duration": 8,
    "start_time": "2022-02-12T12:26:21.687Z"
   },
   {
    "duration": 27,
    "start_time": "2022-02-12T12:26:21.698Z"
   },
   {
    "duration": 117,
    "start_time": "2022-02-12T12:26:21.727Z"
   },
   {
    "duration": 45,
    "start_time": "2022-02-12T12:26:21.847Z"
   },
   {
    "duration": 7,
    "start_time": "2022-02-12T12:26:21.894Z"
   },
   {
    "duration": 96,
    "start_time": "2022-02-12T12:26:21.903Z"
   },
   {
    "duration": 60,
    "start_time": "2022-02-12T12:26:22.001Z"
   },
   {
    "duration": 75,
    "start_time": "2022-02-12T12:26:22.063Z"
   },
   {
    "duration": 31,
    "start_time": "2022-02-12T12:26:22.142Z"
   },
   {
    "duration": 71,
    "start_time": "2022-02-12T12:26:22.176Z"
   },
   {
    "duration": 5,
    "start_time": "2022-02-12T12:26:22.249Z"
   },
   {
    "duration": 74,
    "start_time": "2022-02-12T12:26:22.256Z"
   },
   {
    "duration": 8,
    "start_time": "2022-02-12T12:26:22.336Z"
   },
   {
    "duration": 46,
    "start_time": "2022-02-12T12:26:22.350Z"
   },
   {
    "duration": 54,
    "start_time": "2022-02-12T12:26:22.423Z"
   },
   {
    "duration": 224,
    "start_time": "2022-02-12T12:26:22.481Z"
   },
   {
    "duration": 53,
    "start_time": "2022-02-12T12:26:22.708Z"
   },
   {
    "duration": 66,
    "start_time": "2022-02-12T12:26:22.763Z"
   },
   {
    "duration": 29,
    "start_time": "2022-02-12T12:26:22.832Z"
   },
   {
    "duration": 16,
    "start_time": "2022-02-12T12:26:22.864Z"
   },
   {
    "duration": 48,
    "start_time": "2022-02-12T12:26:22.883Z"
   },
   {
    "duration": 7,
    "start_time": "2022-02-12T12:26:22.934Z"
   },
   {
    "duration": 7,
    "start_time": "2022-02-12T12:26:22.944Z"
   },
   {
    "duration": 7,
    "start_time": "2022-02-12T12:26:22.954Z"
   },
   {
    "duration": 62,
    "start_time": "2022-02-12T12:26:22.964Z"
   },
   {
    "duration": 419,
    "start_time": "2022-02-12T12:26:23.029Z"
   },
   {
    "duration": 13,
    "start_time": "2022-02-12T12:26:23.451Z"
   },
   {
    "duration": 8,
    "start_time": "2022-02-12T12:26:23.468Z"
   },
   {
    "duration": 43,
    "start_time": "2022-02-12T12:26:23.480Z"
   },
   {
    "duration": 7,
    "start_time": "2022-02-12T12:26:23.527Z"
   },
   {
    "duration": 11,
    "start_time": "2022-02-12T12:26:23.536Z"
   },
   {
    "duration": 401,
    "start_time": "2022-02-12T12:26:23.550Z"
   },
   {
    "duration": 408,
    "start_time": "2022-02-12T12:26:23.953Z"
   },
   {
    "duration": 10,
    "start_time": "2022-02-12T12:26:24.364Z"
   },
   {
    "duration": 7,
    "start_time": "2022-02-12T12:26:24.376Z"
   },
   {
    "duration": 38,
    "start_time": "2022-02-12T12:26:24.385Z"
   },
   {
    "duration": 7,
    "start_time": "2022-02-12T12:26:24.425Z"
   },
   {
    "duration": 8,
    "start_time": "2022-02-12T12:26:24.434Z"
   },
   {
    "duration": 397,
    "start_time": "2022-02-12T12:26:24.444Z"
   },
   {
    "duration": 12,
    "start_time": "2022-02-12T12:26:24.843Z"
   },
   {
    "duration": 11,
    "start_time": "2022-02-12T12:26:24.859Z"
   },
   {
    "duration": 8,
    "start_time": "2022-02-12T12:26:24.873Z"
   },
   {
    "duration": 43,
    "start_time": "2022-02-12T12:26:24.884Z"
   },
   {
    "duration": 8,
    "start_time": "2022-02-12T12:26:24.930Z"
   },
   {
    "duration": 334,
    "start_time": "2022-02-12T12:26:24.940Z"
   },
   {
    "duration": 398,
    "start_time": "2022-02-12T12:26:25.277Z"
   },
   {
    "duration": 10,
    "start_time": "2022-02-12T12:26:25.677Z"
   },
   {
    "duration": 10,
    "start_time": "2022-02-12T12:26:25.690Z"
   },
   {
    "duration": 24,
    "start_time": "2022-02-12T12:26:25.702Z"
   },
   {
    "duration": 6,
    "start_time": "2022-02-12T12:26:25.728Z"
   },
   {
    "duration": 7,
    "start_time": "2022-02-12T12:26:25.737Z"
   },
   {
    "duration": 380,
    "start_time": "2022-02-12T12:26:25.747Z"
   },
   {
    "duration": 10,
    "start_time": "2022-02-12T12:26:26.130Z"
   },
   {
    "duration": 8,
    "start_time": "2022-02-12T12:26:26.142Z"
   },
   {
    "duration": 8,
    "start_time": "2022-02-12T12:26:26.153Z"
   },
   {
    "duration": 7,
    "start_time": "2022-02-12T12:26:26.164Z"
   },
   {
    "duration": 57,
    "start_time": "2022-02-12T12:26:26.174Z"
   },
   {
    "duration": 359,
    "start_time": "2022-02-12T12:26:26.240Z"
   },
   {
    "duration": 475,
    "start_time": "2022-02-12T12:26:26.602Z"
   },
   {
    "duration": 608,
    "start_time": "2022-02-12T12:26:27.081Z"
   },
   {
    "duration": 13,
    "start_time": "2022-02-12T12:26:27.692Z"
   },
   {
    "duration": 23,
    "start_time": "2022-02-12T12:26:27.708Z"
   },
   {
    "duration": 13,
    "start_time": "2022-02-12T12:26:27.734Z"
   },
   {
    "duration": 13,
    "start_time": "2022-02-12T12:26:27.749Z"
   },
   {
    "duration": 1073,
    "start_time": "2022-02-12T13:01:18.422Z"
   },
   {
    "duration": 161,
    "start_time": "2022-02-12T13:01:19.497Z"
   },
   {
    "duration": 21,
    "start_time": "2022-02-12T13:01:19.660Z"
   },
   {
    "duration": 143,
    "start_time": "2022-02-12T13:01:19.683Z"
   },
   {
    "duration": 17,
    "start_time": "2022-02-12T13:01:19.828Z"
   },
   {
    "duration": 97,
    "start_time": "2022-02-12T13:01:19.846Z"
   },
   {
    "duration": 14,
    "start_time": "2022-02-12T13:01:19.945Z"
   },
   {
    "duration": 21,
    "start_time": "2022-02-12T13:01:19.961Z"
   },
   {
    "duration": 15,
    "start_time": "2022-02-12T13:01:19.984Z"
   },
   {
    "duration": 41,
    "start_time": "2022-02-12T13:01:20.000Z"
   },
   {
    "duration": 6,
    "start_time": "2022-02-12T13:01:20.043Z"
   },
   {
    "duration": 10,
    "start_time": "2022-02-12T13:01:20.051Z"
   },
   {
    "duration": 78,
    "start_time": "2022-02-12T13:01:20.063Z"
   },
   {
    "duration": 36,
    "start_time": "2022-02-12T13:01:20.143Z"
   },
   {
    "duration": 9,
    "start_time": "2022-02-12T13:01:20.180Z"
   },
   {
    "duration": 77,
    "start_time": "2022-02-12T13:01:20.191Z"
   },
   {
    "duration": 49,
    "start_time": "2022-02-12T13:01:20.270Z"
   },
   {
    "duration": 47,
    "start_time": "2022-02-12T13:01:20.321Z"
   },
   {
    "duration": 16,
    "start_time": "2022-02-12T13:01:20.370Z"
   },
   {
    "duration": 67,
    "start_time": "2022-02-12T13:01:20.387Z"
   },
   {
    "duration": 4,
    "start_time": "2022-02-12T13:01:20.455Z"
   },
   {
    "duration": 47,
    "start_time": "2022-02-12T13:01:20.461Z"
   },
   {
    "duration": 4,
    "start_time": "2022-02-12T13:01:20.512Z"
   },
   {
    "duration": 41,
    "start_time": "2022-02-12T13:01:20.518Z"
   },
   {
    "duration": 31,
    "start_time": "2022-02-12T13:01:20.561Z"
   },
   {
    "duration": 135,
    "start_time": "2022-02-12T13:01:20.594Z"
   },
   {
    "duration": 29,
    "start_time": "2022-02-12T13:01:20.731Z"
   },
   {
    "duration": 51,
    "start_time": "2022-02-12T13:01:20.762Z"
   },
   {
    "duration": 20,
    "start_time": "2022-02-12T13:01:20.816Z"
   },
   {
    "duration": 11,
    "start_time": "2022-02-12T13:01:20.838Z"
   },
   {
    "duration": 24,
    "start_time": "2022-02-12T13:01:20.851Z"
   },
   {
    "duration": 13,
    "start_time": "2022-02-12T13:01:20.877Z"
   },
   {
    "duration": 21,
    "start_time": "2022-02-12T13:01:20.892Z"
   },
   {
    "duration": 6,
    "start_time": "2022-02-12T13:01:20.915Z"
   },
   {
    "duration": 19,
    "start_time": "2022-02-12T13:01:20.923Z"
   },
   {
    "duration": 240,
    "start_time": "2022-02-12T13:01:20.944Z"
   },
   {
    "duration": 8,
    "start_time": "2022-02-12T13:01:21.186Z"
   },
   {
    "duration": 17,
    "start_time": "2022-02-12T13:01:21.196Z"
   },
   {
    "duration": 10,
    "start_time": "2022-02-12T13:01:21.214Z"
   },
   {
    "duration": 10,
    "start_time": "2022-02-12T13:01:21.225Z"
   },
   {
    "duration": 22,
    "start_time": "2022-02-12T13:01:21.237Z"
   },
   {
    "duration": 238,
    "start_time": "2022-02-12T13:01:21.261Z"
   },
   {
    "duration": 269,
    "start_time": "2022-02-12T13:01:21.500Z"
   },
   {
    "duration": 7,
    "start_time": "2022-02-12T13:01:21.771Z"
   },
   {
    "duration": 5,
    "start_time": "2022-02-12T13:01:21.779Z"
   },
   {
    "duration": 9,
    "start_time": "2022-02-12T13:01:21.785Z"
   },
   {
    "duration": 4,
    "start_time": "2022-02-12T13:01:21.812Z"
   },
   {
    "duration": 9,
    "start_time": "2022-02-12T13:01:21.818Z"
   },
   {
    "duration": 239,
    "start_time": "2022-02-12T13:01:21.829Z"
   },
   {
    "duration": 6,
    "start_time": "2022-02-12T13:01:22.070Z"
   },
   {
    "duration": 21,
    "start_time": "2022-02-12T13:01:22.078Z"
   },
   {
    "duration": 16,
    "start_time": "2022-02-12T13:01:22.101Z"
   },
   {
    "duration": 22,
    "start_time": "2022-02-12T13:01:22.119Z"
   },
   {
    "duration": 10,
    "start_time": "2022-02-12T13:01:22.143Z"
   },
   {
    "duration": 207,
    "start_time": "2022-02-12T13:01:22.154Z"
   },
   {
    "duration": 258,
    "start_time": "2022-02-12T13:01:22.363Z"
   },
   {
    "duration": 9,
    "start_time": "2022-02-12T13:01:22.623Z"
   },
   {
    "duration": 8,
    "start_time": "2022-02-12T13:01:22.633Z"
   },
   {
    "duration": 10,
    "start_time": "2022-02-12T13:01:22.643Z"
   },
   {
    "duration": 6,
    "start_time": "2022-02-12T13:01:22.655Z"
   },
   {
    "duration": 13,
    "start_time": "2022-02-12T13:01:22.662Z"
   },
   {
    "duration": 243,
    "start_time": "2022-02-12T13:01:22.677Z"
   },
   {
    "duration": 7,
    "start_time": "2022-02-12T13:01:22.921Z"
   },
   {
    "duration": 5,
    "start_time": "2022-02-12T13:01:22.929Z"
   },
   {
    "duration": 11,
    "start_time": "2022-02-12T13:01:22.936Z"
   },
   {
    "duration": 5,
    "start_time": "2022-02-12T13:01:22.948Z"
   },
   {
    "duration": 12,
    "start_time": "2022-02-12T13:01:22.954Z"
   },
   {
    "duration": 235,
    "start_time": "2022-02-12T13:01:22.971Z"
   },
   {
    "duration": 333,
    "start_time": "2022-02-12T13:01:23.208Z"
   },
   {
    "duration": 428,
    "start_time": "2022-02-12T13:01:23.543Z"
   },
   {
    "duration": 7,
    "start_time": "2022-02-12T13:01:23.976Z"
   },
   {
    "duration": 27,
    "start_time": "2022-02-12T13:01:23.985Z"
   },
   {
    "duration": 22,
    "start_time": "2022-02-12T13:01:24.014Z"
   },
   {
    "duration": 8,
    "start_time": "2022-02-12T13:01:24.037Z"
   },
   {
    "duration": 21,
    "start_time": "2022-02-12T13:02:08.271Z"
   },
   {
    "duration": 5,
    "start_time": "2022-02-12T13:02:24.550Z"
   },
   {
    "duration": 15,
    "start_time": "2022-02-12T13:02:46.030Z"
   },
   {
    "duration": 4,
    "start_time": "2022-02-12T13:02:54.478Z"
   },
   {
    "duration": 5,
    "start_time": "2022-02-12T13:03:06.895Z"
   },
   {
    "duration": 4,
    "start_time": "2022-02-12T13:03:33.054Z"
   },
   {
    "duration": 294,
    "start_time": "2022-02-12T13:04:03.356Z"
   },
   {
    "duration": 242,
    "start_time": "2022-02-12T13:04:49.420Z"
   },
   {
    "duration": 4,
    "start_time": "2022-02-12T13:05:39.947Z"
   },
   {
    "duration": 4,
    "start_time": "2022-02-12T13:05:49.699Z"
   },
   {
    "duration": 5,
    "start_time": "2022-02-12T13:05:56.744Z"
   },
   {
    "duration": 5,
    "start_time": "2022-02-12T13:06:23.194Z"
   },
   {
    "duration": 246,
    "start_time": "2022-02-12T13:06:35.418Z"
   },
   {
    "duration": 1058,
    "start_time": "2022-02-12T13:10:46.637Z"
   },
   {
    "duration": 152,
    "start_time": "2022-02-12T13:10:47.697Z"
   },
   {
    "duration": 20,
    "start_time": "2022-02-12T13:10:47.851Z"
   },
   {
    "duration": 140,
    "start_time": "2022-02-12T13:10:47.873Z"
   },
   {
    "duration": 18,
    "start_time": "2022-02-12T13:10:48.014Z"
   },
   {
    "duration": 108,
    "start_time": "2022-02-12T13:10:48.034Z"
   },
   {
    "duration": 16,
    "start_time": "2022-02-12T13:10:48.144Z"
   },
   {
    "duration": 24,
    "start_time": "2022-02-12T13:10:48.162Z"
   },
   {
    "duration": 16,
    "start_time": "2022-02-12T13:10:48.188Z"
   },
   {
    "duration": 37,
    "start_time": "2022-02-12T13:10:48.206Z"
   },
   {
    "duration": 18,
    "start_time": "2022-02-12T13:10:48.245Z"
   },
   {
    "duration": 16,
    "start_time": "2022-02-12T13:10:48.264Z"
   },
   {
    "duration": 91,
    "start_time": "2022-02-12T13:10:48.281Z"
   },
   {
    "duration": 38,
    "start_time": "2022-02-12T13:10:48.374Z"
   },
   {
    "duration": 6,
    "start_time": "2022-02-12T13:10:48.414Z"
   },
   {
    "duration": 71,
    "start_time": "2022-02-12T13:10:48.422Z"
   },
   {
    "duration": 43,
    "start_time": "2022-02-12T13:10:48.495Z"
   },
   {
    "duration": 42,
    "start_time": "2022-02-12T13:10:48.539Z"
   },
   {
    "duration": 30,
    "start_time": "2022-02-12T13:10:48.583Z"
   },
   {
    "duration": 28,
    "start_time": "2022-02-12T13:10:48.615Z"
   },
   {
    "duration": 3,
    "start_time": "2022-02-12T13:10:48.645Z"
   },
   {
    "duration": 48,
    "start_time": "2022-02-12T13:10:48.649Z"
   },
   {
    "duration": 4,
    "start_time": "2022-02-12T13:10:48.700Z"
   },
   {
    "duration": 29,
    "start_time": "2022-02-12T13:10:48.713Z"
   },
   {
    "duration": 29,
    "start_time": "2022-02-12T13:10:48.744Z"
   },
   {
    "duration": 137,
    "start_time": "2022-02-12T13:10:48.775Z"
   },
   {
    "duration": 25,
    "start_time": "2022-02-12T13:10:48.913Z"
   },
   {
    "duration": 28,
    "start_time": "2022-02-12T13:10:48.939Z"
   },
   {
    "duration": 17,
    "start_time": "2022-02-12T13:10:48.968Z"
   },
   {
    "duration": 33,
    "start_time": "2022-02-12T13:10:48.987Z"
   },
   {
    "duration": 23,
    "start_time": "2022-02-12T13:10:49.022Z"
   },
   {
    "duration": 21,
    "start_time": "2022-02-12T13:10:49.047Z"
   },
   {
    "duration": 19,
    "start_time": "2022-02-12T13:10:49.069Z"
   },
   {
    "duration": 15,
    "start_time": "2022-02-12T13:10:49.089Z"
   },
   {
    "duration": 17,
    "start_time": "2022-02-12T13:10:49.106Z"
   },
   {
    "duration": 229,
    "start_time": "2022-02-12T13:10:49.125Z"
   },
   {
    "duration": 8,
    "start_time": "2022-02-12T13:10:49.355Z"
   },
   {
    "duration": 23,
    "start_time": "2022-02-12T13:10:49.365Z"
   },
   {
    "duration": 14,
    "start_time": "2022-02-12T13:10:49.390Z"
   },
   {
    "duration": 19,
    "start_time": "2022-02-12T13:10:49.406Z"
   },
   {
    "duration": 19,
    "start_time": "2022-02-12T13:10:49.426Z"
   },
   {
    "duration": 267,
    "start_time": "2022-02-12T13:10:49.447Z"
   },
   {
    "duration": 256,
    "start_time": "2022-02-12T13:10:49.716Z"
   },
   {
    "duration": 6,
    "start_time": "2022-02-12T13:10:49.974Z"
   },
   {
    "duration": 17,
    "start_time": "2022-02-12T13:10:49.981Z"
   },
   {
    "duration": 13,
    "start_time": "2022-02-12T13:10:49.999Z"
   },
   {
    "duration": 27,
    "start_time": "2022-02-12T13:10:50.013Z"
   },
   {
    "duration": 7,
    "start_time": "2022-02-12T13:10:50.042Z"
   },
   {
    "duration": 230,
    "start_time": "2022-02-12T13:10:50.050Z"
   },
   {
    "duration": 7,
    "start_time": "2022-02-12T13:10:50.281Z"
   },
   {
    "duration": 10,
    "start_time": "2022-02-12T13:10:50.289Z"
   },
   {
    "duration": 20,
    "start_time": "2022-02-12T13:10:50.301Z"
   },
   {
    "duration": 15,
    "start_time": "2022-02-12T13:10:50.322Z"
   },
   {
    "duration": 6,
    "start_time": "2022-02-12T13:10:50.339Z"
   },
   {
    "duration": 210,
    "start_time": "2022-02-12T13:10:50.346Z"
   },
   {
    "duration": 246,
    "start_time": "2022-02-12T13:10:50.558Z"
   },
   {
    "duration": 10,
    "start_time": "2022-02-12T13:10:50.805Z"
   },
   {
    "duration": 28,
    "start_time": "2022-02-12T13:10:50.817Z"
   },
   {
    "duration": 24,
    "start_time": "2022-02-12T13:10:50.847Z"
   },
   {
    "duration": 28,
    "start_time": "2022-02-12T13:10:50.873Z"
   },
   {
    "duration": 32,
    "start_time": "2022-02-12T13:10:50.902Z"
   },
   {
    "duration": 233,
    "start_time": "2022-02-12T13:10:50.935Z"
   },
   {
    "duration": 6,
    "start_time": "2022-02-12T13:10:51.170Z"
   },
   {
    "duration": 18,
    "start_time": "2022-02-12T13:10:51.177Z"
   },
   {
    "duration": 11,
    "start_time": "2022-02-12T13:10:51.197Z"
   },
   {
    "duration": 12,
    "start_time": "2022-02-12T13:10:51.210Z"
   },
   {
    "duration": 23,
    "start_time": "2022-02-12T13:10:51.223Z"
   },
   {
    "duration": 213,
    "start_time": "2022-02-12T13:10:51.250Z"
   },
   {
    "duration": 320,
    "start_time": "2022-02-12T13:10:51.465Z"
   },
   {
    "duration": 373,
    "start_time": "2022-02-12T13:10:51.787Z"
   },
   {
    "duration": 7,
    "start_time": "2022-02-12T13:10:52.162Z"
   },
   {
    "duration": 19,
    "start_time": "2022-02-12T13:10:52.171Z"
   },
   {
    "duration": 21,
    "start_time": "2022-02-12T13:10:52.192Z"
   },
   {
    "duration": 9,
    "start_time": "2022-02-12T13:10:52.215Z"
   },
   {
    "duration": 13,
    "start_time": "2022-02-12T13:10:52.225Z"
   },
   {
    "duration": 4,
    "start_time": "2022-02-12T13:10:52.240Z"
   },
   {
    "duration": 11,
    "start_time": "2022-02-12T13:10:52.245Z"
   },
   {
    "duration": 235,
    "start_time": "2022-02-12T13:10:52.258Z"
   },
   {
    "duration": 4,
    "start_time": "2022-02-12T13:10:52.494Z"
   },
   {
    "duration": 17,
    "start_time": "2022-02-12T13:10:52.499Z"
   },
   {
    "duration": 6,
    "start_time": "2022-02-12T13:10:52.518Z"
   },
   {
    "duration": 243,
    "start_time": "2022-02-12T13:10:52.526Z"
   },
   {
    "duration": 72,
    "start_time": "2022-02-12T13:33:53.997Z"
   },
   {
    "duration": 323,
    "start_time": "2022-02-12T13:34:03.079Z"
   },
   {
    "duration": 152,
    "start_time": "2022-02-12T13:38:54.582Z"
   },
   {
    "duration": 222,
    "start_time": "2022-02-12T13:39:23.959Z"
   },
   {
    "duration": 1056,
    "start_time": "2022-02-12T14:05:16.443Z"
   },
   {
    "duration": 162,
    "start_time": "2022-02-12T14:05:17.501Z"
   },
   {
    "duration": 21,
    "start_time": "2022-02-12T14:05:17.665Z"
   },
   {
    "duration": 143,
    "start_time": "2022-02-12T14:05:17.688Z"
   },
   {
    "duration": 17,
    "start_time": "2022-02-12T14:05:17.833Z"
   },
   {
    "duration": 106,
    "start_time": "2022-02-12T14:05:17.852Z"
   },
   {
    "duration": 14,
    "start_time": "2022-02-12T14:05:17.960Z"
   },
   {
    "duration": 17,
    "start_time": "2022-02-12T14:05:17.977Z"
   },
   {
    "duration": 20,
    "start_time": "2022-02-12T14:05:17.996Z"
   },
   {
    "duration": 27,
    "start_time": "2022-02-12T14:05:18.018Z"
   },
   {
    "duration": 7,
    "start_time": "2022-02-12T14:05:18.046Z"
   },
   {
    "duration": 6,
    "start_time": "2022-02-12T14:05:18.054Z"
   },
   {
    "duration": 83,
    "start_time": "2022-02-12T14:05:18.062Z"
   },
   {
    "duration": 33,
    "start_time": "2022-02-12T14:05:18.147Z"
   },
   {
    "duration": 6,
    "start_time": "2022-02-12T14:05:18.182Z"
   },
   {
    "duration": 79,
    "start_time": "2022-02-12T14:05:18.190Z"
   },
   {
    "duration": 49,
    "start_time": "2022-02-12T14:05:18.271Z"
   },
   {
    "duration": 46,
    "start_time": "2022-02-12T14:05:18.322Z"
   },
   {
    "duration": 18,
    "start_time": "2022-02-12T14:05:18.370Z"
   },
   {
    "duration": 50,
    "start_time": "2022-02-12T14:05:18.390Z"
   },
   {
    "duration": 3,
    "start_time": "2022-02-12T14:05:18.441Z"
   },
   {
    "duration": 35,
    "start_time": "2022-02-12T14:05:18.446Z"
   },
   {
    "duration": 5,
    "start_time": "2022-02-12T14:05:18.485Z"
   },
   {
    "duration": 50,
    "start_time": "2022-02-12T14:05:18.492Z"
   },
   {
    "duration": 31,
    "start_time": "2022-02-12T14:05:18.543Z"
   },
   {
    "duration": 144,
    "start_time": "2022-02-12T14:05:18.576Z"
   },
   {
    "duration": 27,
    "start_time": "2022-02-12T14:05:18.722Z"
   },
   {
    "duration": 30,
    "start_time": "2022-02-12T14:05:18.751Z"
   },
   {
    "duration": 39,
    "start_time": "2022-02-12T14:05:18.783Z"
   },
   {
    "duration": 10,
    "start_time": "2022-02-12T14:05:18.824Z"
   },
   {
    "duration": 13,
    "start_time": "2022-02-12T14:05:18.835Z"
   },
   {
    "duration": 5,
    "start_time": "2022-02-12T14:05:18.850Z"
   },
   {
    "duration": 5,
    "start_time": "2022-02-12T14:05:18.856Z"
   },
   {
    "duration": 6,
    "start_time": "2022-02-12T14:05:18.863Z"
   },
   {
    "duration": 43,
    "start_time": "2022-02-12T14:05:18.871Z"
   },
   {
    "duration": 251,
    "start_time": "2022-02-12T14:05:18.916Z"
   },
   {
    "duration": 8,
    "start_time": "2022-02-12T14:05:19.168Z"
   },
   {
    "duration": 5,
    "start_time": "2022-02-12T14:05:19.178Z"
   },
   {
    "duration": 5,
    "start_time": "2022-02-12T14:05:19.184Z"
   },
   {
    "duration": 24,
    "start_time": "2022-02-12T14:05:19.190Z"
   },
   {
    "duration": 8,
    "start_time": "2022-02-12T14:05:19.216Z"
   },
   {
    "duration": 254,
    "start_time": "2022-02-12T14:05:19.225Z"
   },
   {
    "duration": 279,
    "start_time": "2022-02-12T14:05:19.480Z"
   },
   {
    "duration": 7,
    "start_time": "2022-02-12T14:05:19.761Z"
   },
   {
    "duration": 7,
    "start_time": "2022-02-12T14:05:19.770Z"
   },
   {
    "duration": 5,
    "start_time": "2022-02-12T14:05:19.778Z"
   },
   {
    "duration": 29,
    "start_time": "2022-02-12T14:05:19.784Z"
   },
   {
    "duration": 5,
    "start_time": "2022-02-12T14:05:19.815Z"
   },
   {
    "duration": 257,
    "start_time": "2022-02-12T14:05:19.821Z"
   },
   {
    "duration": 7,
    "start_time": "2022-02-12T14:05:20.079Z"
   },
   {
    "duration": 6,
    "start_time": "2022-02-12T14:05:20.088Z"
   },
   {
    "duration": 17,
    "start_time": "2022-02-12T14:05:20.096Z"
   },
   {
    "duration": 4,
    "start_time": "2022-02-12T14:05:20.115Z"
   },
   {
    "duration": 10,
    "start_time": "2022-02-12T14:05:20.121Z"
   },
   {
    "duration": 222,
    "start_time": "2022-02-12T14:05:20.132Z"
   },
   {
    "duration": 264,
    "start_time": "2022-02-12T14:05:20.356Z"
   },
   {
    "duration": 8,
    "start_time": "2022-02-12T14:05:20.622Z"
   },
   {
    "duration": 9,
    "start_time": "2022-02-12T14:05:20.631Z"
   },
   {
    "duration": 5,
    "start_time": "2022-02-12T14:05:20.641Z"
   },
   {
    "duration": 6,
    "start_time": "2022-02-12T14:05:20.648Z"
   },
   {
    "duration": 6,
    "start_time": "2022-02-12T14:05:20.655Z"
   },
   {
    "duration": 261,
    "start_time": "2022-02-12T14:05:20.662Z"
   },
   {
    "duration": 7,
    "start_time": "2022-02-12T14:05:20.924Z"
   },
   {
    "duration": 9,
    "start_time": "2022-02-12T14:05:20.933Z"
   },
   {
    "duration": 8,
    "start_time": "2022-02-12T14:05:20.944Z"
   },
   {
    "duration": 7,
    "start_time": "2022-02-12T14:05:20.954Z"
   },
   {
    "duration": 15,
    "start_time": "2022-02-12T14:05:20.963Z"
   },
   {
    "duration": 233,
    "start_time": "2022-02-12T14:05:20.982Z"
   },
   {
    "duration": 320,
    "start_time": "2022-02-12T14:05:21.217Z"
   },
   {
    "duration": 387,
    "start_time": "2022-02-12T14:05:21.538Z"
   },
   {
    "duration": 7,
    "start_time": "2022-02-12T14:05:21.927Z"
   },
   {
    "duration": 6,
    "start_time": "2022-02-12T14:05:21.936Z"
   },
   {
    "duration": 10,
    "start_time": "2022-02-12T14:05:21.943Z"
   },
   {
    "duration": 7,
    "start_time": "2022-02-12T14:05:21.955Z"
   },
   {
    "duration": 4,
    "start_time": "2022-02-12T14:05:21.963Z"
   },
   {
    "duration": 6,
    "start_time": "2022-02-12T14:05:21.968Z"
   },
   {
    "duration": 5,
    "start_time": "2022-02-12T14:05:22.012Z"
   },
   {
    "duration": 248,
    "start_time": "2022-02-12T14:05:22.019Z"
   },
   {
    "duration": 4,
    "start_time": "2022-02-12T14:05:22.269Z"
   },
   {
    "duration": 6,
    "start_time": "2022-02-12T14:05:22.274Z"
   },
   {
    "duration": 7,
    "start_time": "2022-02-12T14:05:22.282Z"
   },
   {
    "duration": 270,
    "start_time": "2022-02-12T14:05:22.290Z"
   },
   {
    "duration": 1669,
    "start_time": "2022-02-12T14:44:53.180Z"
   },
   {
    "duration": 280,
    "start_time": "2022-02-12T14:44:54.852Z"
   },
   {
    "duration": 42,
    "start_time": "2022-02-12T14:44:55.136Z"
   },
   {
    "duration": 228,
    "start_time": "2022-02-12T14:44:55.181Z"
   },
   {
    "duration": 40,
    "start_time": "2022-02-12T14:44:55.412Z"
   },
   {
    "duration": 150,
    "start_time": "2022-02-12T14:44:55.456Z"
   },
   {
    "duration": 43,
    "start_time": "2022-02-12T14:44:55.609Z"
   },
   {
    "duration": 26,
    "start_time": "2022-02-12T14:44:55.659Z"
   },
   {
    "duration": 38,
    "start_time": "2022-02-12T14:44:55.688Z"
   },
   {
    "duration": 53,
    "start_time": "2022-02-12T14:44:55.730Z"
   },
   {
    "duration": 9,
    "start_time": "2022-02-12T14:44:55.786Z"
   },
   {
    "duration": 25,
    "start_time": "2022-02-12T14:44:55.798Z"
   },
   {
    "duration": 160,
    "start_time": "2022-02-12T14:44:55.827Z"
   },
   {
    "duration": 83,
    "start_time": "2022-02-12T14:44:55.990Z"
   },
   {
    "duration": 7,
    "start_time": "2022-02-12T14:44:56.076Z"
   },
   {
    "duration": 112,
    "start_time": "2022-02-12T14:44:56.086Z"
   },
   {
    "duration": 58,
    "start_time": "2022-02-12T14:44:56.201Z"
   },
   {
    "duration": 98,
    "start_time": "2022-02-12T14:44:56.262Z"
   },
   {
    "duration": 30,
    "start_time": "2022-02-12T14:44:56.363Z"
   },
   {
    "duration": 56,
    "start_time": "2022-02-12T14:44:56.395Z"
   },
   {
    "duration": 5,
    "start_time": "2022-02-12T14:44:56.453Z"
   },
   {
    "duration": 77,
    "start_time": "2022-02-12T14:44:56.460Z"
   },
   {
    "duration": 6,
    "start_time": "2022-02-12T14:44:56.546Z"
   },
   {
    "duration": 72,
    "start_time": "2022-02-12T14:44:56.557Z"
   },
   {
    "duration": 49,
    "start_time": "2022-02-12T14:44:56.631Z"
   },
   {
    "duration": 237,
    "start_time": "2022-02-12T14:44:56.683Z"
   },
   {
    "duration": 54,
    "start_time": "2022-02-12T14:44:56.923Z"
   },
   {
    "duration": 74,
    "start_time": "2022-02-12T14:44:56.980Z"
   },
   {
    "duration": 31,
    "start_time": "2022-02-12T14:44:57.056Z"
   },
   {
    "duration": 36,
    "start_time": "2022-02-12T14:44:57.090Z"
   },
   {
    "duration": 20,
    "start_time": "2022-02-12T14:44:57.129Z"
   },
   {
    "duration": 7,
    "start_time": "2022-02-12T14:44:57.152Z"
   },
   {
    "duration": 9,
    "start_time": "2022-02-12T14:44:57.161Z"
   },
   {
    "duration": 7,
    "start_time": "2022-02-12T14:44:57.172Z"
   },
   {
    "duration": 10,
    "start_time": "2022-02-12T14:44:57.227Z"
   },
   {
    "duration": 379,
    "start_time": "2022-02-12T14:44:57.240Z"
   },
   {
    "duration": 14,
    "start_time": "2022-02-12T14:44:57.621Z"
   },
   {
    "duration": 15,
    "start_time": "2022-02-12T14:44:57.638Z"
   },
   {
    "duration": 6,
    "start_time": "2022-02-12T14:44:57.655Z"
   },
   {
    "duration": 6,
    "start_time": "2022-02-12T14:44:57.663Z"
   },
   {
    "duration": 51,
    "start_time": "2022-02-12T14:44:57.672Z"
   },
   {
    "duration": 402,
    "start_time": "2022-02-12T14:44:57.726Z"
   },
   {
    "duration": 479,
    "start_time": "2022-02-12T14:44:58.131Z"
   },
   {
    "duration": 16,
    "start_time": "2022-02-12T14:44:58.612Z"
   },
   {
    "duration": 6,
    "start_time": "2022-02-12T14:44:58.631Z"
   },
   {
    "duration": 10,
    "start_time": "2022-02-12T14:44:58.641Z"
   },
   {
    "duration": 8,
    "start_time": "2022-02-12T14:44:58.653Z"
   },
   {
    "duration": 7,
    "start_time": "2022-02-12T14:44:58.663Z"
   },
   {
    "duration": 474,
    "start_time": "2022-02-12T14:44:58.724Z"
   },
   {
    "duration": 11,
    "start_time": "2022-02-12T14:44:59.200Z"
   },
   {
    "duration": 7,
    "start_time": "2022-02-12T14:44:59.224Z"
   },
   {
    "duration": 7,
    "start_time": "2022-02-12T14:44:59.235Z"
   },
   {
    "duration": 8,
    "start_time": "2022-02-12T14:44:59.245Z"
   },
   {
    "duration": 19,
    "start_time": "2022-02-12T14:44:59.255Z"
   },
   {
    "duration": 358,
    "start_time": "2022-02-12T14:44:59.277Z"
   },
   {
    "duration": 432,
    "start_time": "2022-02-12T14:44:59.638Z"
   },
   {
    "duration": 10,
    "start_time": "2022-02-12T14:45:00.072Z"
   },
   {
    "duration": 9,
    "start_time": "2022-02-12T14:45:00.084Z"
   },
   {
    "duration": 29,
    "start_time": "2022-02-12T14:45:00.096Z"
   },
   {
    "duration": 7,
    "start_time": "2022-02-12T14:45:00.127Z"
   },
   {
    "duration": 11,
    "start_time": "2022-02-12T14:45:00.136Z"
   },
   {
    "duration": 403,
    "start_time": "2022-02-12T14:45:00.150Z"
   },
   {
    "duration": 10,
    "start_time": "2022-02-12T14:45:00.556Z"
   },
   {
    "duration": 13,
    "start_time": "2022-02-12T14:45:00.569Z"
   },
   {
    "duration": 11,
    "start_time": "2022-02-12T14:45:00.585Z"
   },
   {
    "duration": 8,
    "start_time": "2022-02-12T14:45:00.625Z"
   },
   {
    "duration": 29,
    "start_time": "2022-02-12T14:45:00.636Z"
   },
   {
    "duration": 353,
    "start_time": "2022-02-12T14:45:00.673Z"
   },
   {
    "duration": 532,
    "start_time": "2022-02-12T14:45:01.029Z"
   },
   {
    "duration": 970,
    "start_time": "2022-02-12T14:45:01.564Z"
   },
   {
    "duration": 30,
    "start_time": "2022-02-12T14:45:02.537Z"
   },
   {
    "duration": 11,
    "start_time": "2022-02-12T14:45:02.570Z"
   },
   {
    "duration": 18,
    "start_time": "2022-02-12T14:45:02.584Z"
   },
   {
    "duration": 15,
    "start_time": "2022-02-12T14:45:02.623Z"
   },
   {
    "duration": 10,
    "start_time": "2022-02-12T14:45:02.642Z"
   },
   {
    "duration": 18,
    "start_time": "2022-02-12T14:45:02.655Z"
   },
   {
    "duration": 7,
    "start_time": "2022-02-12T14:45:02.676Z"
   },
   {
    "duration": 487,
    "start_time": "2022-02-12T14:45:02.686Z"
   },
   {
    "duration": 10,
    "start_time": "2022-02-12T14:45:03.176Z"
   },
   {
    "duration": 34,
    "start_time": "2022-02-12T14:45:03.190Z"
   },
   {
    "duration": 8,
    "start_time": "2022-02-12T14:45:03.227Z"
   },
   {
    "duration": 459,
    "start_time": "2022-02-12T14:45:03.237Z"
   },
   {
    "duration": 1852,
    "start_time": "2022-02-12T15:02:50.394Z"
   },
   {
    "duration": 225,
    "start_time": "2022-02-12T15:02:52.249Z"
   },
   {
    "duration": 50,
    "start_time": "2022-02-12T15:02:52.479Z"
   },
   {
    "duration": 184,
    "start_time": "2022-02-12T15:02:52.532Z"
   },
   {
    "duration": 27,
    "start_time": "2022-02-12T15:02:52.719Z"
   },
   {
    "duration": 151,
    "start_time": "2022-02-12T15:02:52.749Z"
   },
   {
    "duration": 28,
    "start_time": "2022-02-12T15:02:52.903Z"
   },
   {
    "duration": 28,
    "start_time": "2022-02-12T15:02:52.936Z"
   },
   {
    "duration": 15,
    "start_time": "2022-02-12T15:02:52.967Z"
   },
   {
    "duration": 46,
    "start_time": "2022-02-12T15:02:52.985Z"
   },
   {
    "duration": 10,
    "start_time": "2022-02-12T15:02:53.033Z"
   },
   {
    "duration": 12,
    "start_time": "2022-02-12T15:02:53.045Z"
   },
   {
    "duration": 132,
    "start_time": "2022-02-12T15:02:53.060Z"
   },
   {
    "duration": 64,
    "start_time": "2022-02-12T15:02:53.195Z"
   },
   {
    "duration": 10,
    "start_time": "2022-02-12T15:02:53.261Z"
   },
   {
    "duration": 131,
    "start_time": "2022-02-12T15:02:53.274Z"
   },
   {
    "duration": 77,
    "start_time": "2022-02-12T15:02:53.407Z"
   },
   {
    "duration": 97,
    "start_time": "2022-02-12T15:02:53.487Z"
   },
   {
    "duration": 43,
    "start_time": "2022-02-12T15:02:53.588Z"
   },
   {
    "duration": 51,
    "start_time": "2022-02-12T15:02:53.634Z"
   },
   {
    "duration": 8,
    "start_time": "2022-02-12T15:02:53.688Z"
   },
   {
    "duration": 75,
    "start_time": "2022-02-12T15:02:53.699Z"
   },
   {
    "duration": 6,
    "start_time": "2022-02-12T15:02:53.780Z"
   },
   {
    "duration": 58,
    "start_time": "2022-02-12T15:02:53.823Z"
   },
   {
    "duration": 103,
    "start_time": "2022-02-12T15:02:53.885Z"
   },
   {
    "duration": 224,
    "start_time": "2022-02-12T15:02:53.992Z"
   },
   {
    "duration": 44,
    "start_time": "2022-02-12T15:02:54.223Z"
   },
   {
    "duration": 84,
    "start_time": "2022-02-12T15:02:54.270Z"
   },
   {
    "duration": 33,
    "start_time": "2022-02-12T15:02:54.357Z"
   },
   {
    "duration": 40,
    "start_time": "2022-02-12T15:02:54.393Z"
   },
   {
    "duration": 26,
    "start_time": "2022-02-12T15:02:54.435Z"
   },
   {
    "duration": 11,
    "start_time": "2022-02-12T15:02:54.464Z"
   },
   {
    "duration": 6,
    "start_time": "2022-02-12T15:02:54.478Z"
   },
   {
    "duration": 39,
    "start_time": "2022-02-12T15:02:54.486Z"
   },
   {
    "duration": 9,
    "start_time": "2022-02-12T15:02:54.528Z"
   },
   {
    "duration": 508,
    "start_time": "2022-02-12T15:02:54.539Z"
   },
   {
    "duration": 17,
    "start_time": "2022-02-12T15:02:55.051Z"
   },
   {
    "duration": 9,
    "start_time": "2022-02-12T15:02:55.071Z"
   },
   {
    "duration": 8,
    "start_time": "2022-02-12T15:02:55.084Z"
   },
   {
    "duration": 9,
    "start_time": "2022-02-12T15:02:55.125Z"
   },
   {
    "duration": 9,
    "start_time": "2022-02-12T15:02:55.137Z"
   },
   {
    "duration": 479,
    "start_time": "2022-02-12T15:02:55.150Z"
   },
   {
    "duration": 554,
    "start_time": "2022-02-12T15:02:55.633Z"
   },
   {
    "duration": 12,
    "start_time": "2022-02-12T15:02:56.190Z"
   },
   {
    "duration": 21,
    "start_time": "2022-02-12T15:02:56.205Z"
   },
   {
    "duration": 12,
    "start_time": "2022-02-12T15:02:56.229Z"
   },
   {
    "duration": 17,
    "start_time": "2022-02-12T15:02:56.244Z"
   },
   {
    "duration": 12,
    "start_time": "2022-02-12T15:02:56.264Z"
   },
   {
    "duration": 559,
    "start_time": "2022-02-12T15:02:56.280Z"
   },
   {
    "duration": 13,
    "start_time": "2022-02-12T15:02:56.842Z"
   },
   {
    "duration": 9,
    "start_time": "2022-02-12T15:02:56.858Z"
   },
   {
    "duration": 8,
    "start_time": "2022-02-12T15:02:56.871Z"
   },
   {
    "duration": 45,
    "start_time": "2022-02-12T15:02:56.882Z"
   },
   {
    "duration": 11,
    "start_time": "2022-02-12T15:02:56.931Z"
   },
   {
    "duration": 424,
    "start_time": "2022-02-12T15:02:56.947Z"
   },
   {
    "duration": 523,
    "start_time": "2022-02-12T15:02:57.374Z"
   },
   {
    "duration": 24,
    "start_time": "2022-02-12T15:02:57.900Z"
   },
   {
    "duration": 12,
    "start_time": "2022-02-12T15:02:57.928Z"
   },
   {
    "duration": 8,
    "start_time": "2022-02-12T15:02:57.944Z"
   },
   {
    "duration": 9,
    "start_time": "2022-02-12T15:02:57.956Z"
   },
   {
    "duration": 52,
    "start_time": "2022-02-12T15:02:57.972Z"
   },
   {
    "duration": 505,
    "start_time": "2022-02-12T15:02:58.029Z"
   },
   {
    "duration": 13,
    "start_time": "2022-02-12T15:02:58.537Z"
   },
   {
    "duration": 8,
    "start_time": "2022-02-12T15:02:58.553Z"
   },
   {
    "duration": 20,
    "start_time": "2022-02-12T15:02:58.563Z"
   },
   {
    "duration": 12,
    "start_time": "2022-02-12T15:02:58.586Z"
   },
   {
    "duration": 31,
    "start_time": "2022-02-12T15:02:58.601Z"
   },
   {
    "duration": 557,
    "start_time": "2022-02-12T15:02:58.646Z"
   },
   {
    "duration": 700,
    "start_time": "2022-02-12T15:02:59.208Z"
   },
   {
    "duration": 755,
    "start_time": "2022-02-12T15:02:59.910Z"
   },
   {
    "duration": 13,
    "start_time": "2022-02-12T15:03:00.669Z"
   },
   {
    "duration": 19,
    "start_time": "2022-02-12T15:03:00.685Z"
   },
   {
    "duration": 18,
    "start_time": "2022-02-12T15:03:00.725Z"
   },
   {
    "duration": 14,
    "start_time": "2022-02-12T15:03:00.746Z"
   },
   {
    "duration": 14,
    "start_time": "2022-02-12T15:03:00.763Z"
   },
   {
    "duration": 43,
    "start_time": "2022-02-12T15:03:00.780Z"
   },
   {
    "duration": 10,
    "start_time": "2022-02-12T15:03:00.827Z"
   },
   {
    "duration": 463,
    "start_time": "2022-02-12T15:03:00.841Z"
   },
   {
    "duration": 19,
    "start_time": "2022-02-12T15:03:01.306Z"
   },
   {
    "duration": 19,
    "start_time": "2022-02-12T15:03:01.328Z"
   },
   {
    "duration": 15,
    "start_time": "2022-02-12T15:03:01.350Z"
   },
   {
    "duration": 408,
    "start_time": "2022-02-12T15:03:01.368Z"
   },
   {
    "duration": 1361,
    "start_time": "2022-06-27T10:52:03.045Z"
   },
   {
    "duration": 347,
    "start_time": "2022-06-27T10:52:04.408Z"
   },
   {
    "duration": 34,
    "start_time": "2022-06-27T10:52:04.757Z"
   },
   {
    "duration": 345,
    "start_time": "2022-06-27T10:52:04.792Z"
   },
   {
    "duration": 24,
    "start_time": "2022-06-27T10:52:05.140Z"
   },
   {
    "duration": 190,
    "start_time": "2022-06-27T10:52:05.166Z"
   },
   {
    "duration": 31,
    "start_time": "2022-06-27T10:52:05.358Z"
   },
   {
    "duration": 49,
    "start_time": "2022-06-27T10:52:05.390Z"
   },
   {
    "duration": 20,
    "start_time": "2022-06-27T10:52:05.441Z"
   },
   {
    "duration": 62,
    "start_time": "2022-06-27T10:52:05.463Z"
   },
   {
    "duration": 13,
    "start_time": "2022-06-27T10:52:05.528Z"
   },
   {
    "duration": 39,
    "start_time": "2022-06-27T10:52:05.543Z"
   },
   {
    "duration": 136,
    "start_time": "2022-06-27T10:52:05.584Z"
   },
   {
    "duration": 60,
    "start_time": "2022-06-27T10:52:05.724Z"
   },
   {
    "duration": 6,
    "start_time": "2022-06-27T10:52:05.785Z"
   },
   {
    "duration": 91,
    "start_time": "2022-06-27T10:52:05.792Z"
   },
   {
    "duration": 50,
    "start_time": "2022-06-27T10:52:05.888Z"
   },
   {
    "duration": 48,
    "start_time": "2022-06-27T10:52:05.940Z"
   },
   {
    "duration": 42,
    "start_time": "2022-06-27T10:52:05.990Z"
   },
   {
    "duration": 35,
    "start_time": "2022-06-27T10:52:06.034Z"
   },
   {
    "duration": 4,
    "start_time": "2022-06-27T10:52:06.072Z"
   },
   {
    "duration": 71,
    "start_time": "2022-06-27T10:52:06.078Z"
   },
   {
    "duration": 5,
    "start_time": "2022-06-27T10:52:06.151Z"
   },
   {
    "duration": 49,
    "start_time": "2022-06-27T10:52:06.159Z"
   },
   {
    "duration": 61,
    "start_time": "2022-06-27T10:52:06.210Z"
   },
   {
    "duration": 107,
    "start_time": "2022-06-27T10:52:06.273Z"
   },
   {
    "duration": 50,
    "start_time": "2022-06-27T10:52:06.382Z"
   },
   {
    "duration": 43,
    "start_time": "2022-06-27T10:52:06.434Z"
   },
   {
    "duration": 25,
    "start_time": "2022-06-27T10:52:06.479Z"
   },
   {
    "duration": 31,
    "start_time": "2022-06-27T10:52:06.507Z"
   },
   {
    "duration": 36,
    "start_time": "2022-06-27T10:52:06.542Z"
   },
   {
    "duration": 5,
    "start_time": "2022-06-27T10:52:06.580Z"
   },
   {
    "duration": 10,
    "start_time": "2022-06-27T10:52:06.587Z"
   },
   {
    "duration": 56,
    "start_time": "2022-06-27T10:52:06.600Z"
   },
   {
    "duration": 15,
    "start_time": "2022-06-27T10:52:06.658Z"
   },
   {
    "duration": 241,
    "start_time": "2022-06-27T10:52:06.676Z"
   },
   {
    "duration": 13,
    "start_time": "2022-06-27T10:52:06.919Z"
   },
   {
    "duration": 20,
    "start_time": "2022-06-27T10:52:06.934Z"
   },
   {
    "duration": 9,
    "start_time": "2022-06-27T10:52:06.956Z"
   },
   {
    "duration": 11,
    "start_time": "2022-06-27T10:52:06.967Z"
   },
   {
    "duration": 6,
    "start_time": "2022-06-27T10:52:06.983Z"
   },
   {
    "duration": 215,
    "start_time": "2022-06-27T10:52:06.991Z"
   },
   {
    "duration": 277,
    "start_time": "2022-06-27T10:52:07.208Z"
   },
   {
    "duration": 12,
    "start_time": "2022-06-27T10:52:07.489Z"
   },
   {
    "duration": 19,
    "start_time": "2022-06-27T10:52:07.503Z"
   },
   {
    "duration": 21,
    "start_time": "2022-06-27T10:52:07.526Z"
   },
   {
    "duration": 12,
    "start_time": "2022-06-27T10:52:07.550Z"
   },
   {
    "duration": 19,
    "start_time": "2022-06-27T10:52:07.565Z"
   },
   {
    "duration": 248,
    "start_time": "2022-06-27T10:52:07.587Z"
   },
   {
    "duration": 9,
    "start_time": "2022-06-27T10:52:07.837Z"
   },
   {
    "duration": 14,
    "start_time": "2022-06-27T10:52:07.848Z"
   },
   {
    "duration": 24,
    "start_time": "2022-06-27T10:52:07.864Z"
   },
   {
    "duration": 18,
    "start_time": "2022-06-27T10:52:07.890Z"
   },
   {
    "duration": 10,
    "start_time": "2022-06-27T10:52:07.911Z"
   },
   {
    "duration": 184,
    "start_time": "2022-06-27T10:52:07.924Z"
   },
   {
    "duration": 205,
    "start_time": "2022-06-27T10:52:08.110Z"
   },
   {
    "duration": 17,
    "start_time": "2022-06-27T10:52:08.318Z"
   },
   {
    "duration": 21,
    "start_time": "2022-06-27T10:52:08.337Z"
   },
   {
    "duration": 8,
    "start_time": "2022-06-27T10:52:08.360Z"
   },
   {
    "duration": 18,
    "start_time": "2022-06-27T10:52:08.371Z"
   },
   {
    "duration": 12,
    "start_time": "2022-06-27T10:52:08.391Z"
   },
   {
    "duration": 199,
    "start_time": "2022-06-27T10:52:08.404Z"
   },
   {
    "duration": 10,
    "start_time": "2022-06-27T10:52:08.606Z"
   },
   {
    "duration": 25,
    "start_time": "2022-06-27T10:52:08.618Z"
   },
   {
    "duration": 19,
    "start_time": "2022-06-27T10:52:08.645Z"
   },
   {
    "duration": 13,
    "start_time": "2022-06-27T10:52:08.668Z"
   },
   {
    "duration": 41,
    "start_time": "2022-06-27T10:52:08.682Z"
   },
   {
    "duration": 189,
    "start_time": "2022-06-27T10:52:08.726Z"
   },
   {
    "duration": 189,
    "start_time": "2022-06-27T10:52:08.917Z"
   },
   {
    "duration": 399,
    "start_time": "2022-06-27T10:52:09.108Z"
   },
   {
    "duration": 21,
    "start_time": "2022-06-27T10:52:09.509Z"
   },
   {
    "duration": 11,
    "start_time": "2022-06-27T10:52:09.532Z"
   },
   {
    "duration": 19,
    "start_time": "2022-06-27T10:52:09.545Z"
   },
   {
    "duration": 14,
    "start_time": "2022-06-27T10:52:09.567Z"
   },
   {
    "duration": 12,
    "start_time": "2022-06-27T10:52:09.583Z"
   },
   {
    "duration": 10,
    "start_time": "2022-06-27T10:52:09.597Z"
   },
   {
    "duration": 18,
    "start_time": "2022-06-27T10:52:09.609Z"
   },
   {
    "duration": 179,
    "start_time": "2022-06-27T10:52:09.629Z"
   },
   {
    "duration": 5,
    "start_time": "2022-06-27T10:52:09.810Z"
   },
   {
    "duration": 6,
    "start_time": "2022-06-27T10:52:09.827Z"
   },
   {
    "duration": 26,
    "start_time": "2022-06-27T10:52:09.835Z"
   },
   {
    "duration": 178,
    "start_time": "2022-06-27T10:52:09.863Z"
   },
   {
    "duration": 51,
    "start_time": "2022-06-27T10:58:58.325Z"
   },
   {
    "duration": 23,
    "start_time": "2022-06-27T10:59:34.243Z"
   },
   {
    "duration": 26,
    "start_time": "2022-06-27T10:59:41.180Z"
   },
   {
    "duration": 28,
    "start_time": "2022-06-27T11:00:04.158Z"
   },
   {
    "duration": 27,
    "start_time": "2022-06-27T11:00:30.796Z"
   },
   {
    "duration": 33,
    "start_time": "2022-06-27T11:01:02.419Z"
   },
   {
    "duration": 42,
    "start_time": "2022-06-27T11:01:29.379Z"
   },
   {
    "duration": 980,
    "start_time": "2022-06-27T11:01:42.184Z"
   },
   {
    "duration": 73,
    "start_time": "2022-06-27T11:02:01.754Z"
   },
   {
    "duration": 26,
    "start_time": "2022-06-27T11:02:04.202Z"
   },
   {
    "duration": 34,
    "start_time": "2022-06-27T11:02:06.737Z"
   },
   {
    "duration": 1069,
    "start_time": "2022-06-27T11:12:25.724Z"
   },
   {
    "duration": 163,
    "start_time": "2022-06-27T11:12:26.795Z"
   },
   {
    "duration": 27,
    "start_time": "2022-06-27T11:12:26.960Z"
   },
   {
    "duration": 145,
    "start_time": "2022-06-27T11:12:26.989Z"
   },
   {
    "duration": 22,
    "start_time": "2022-06-27T11:12:27.136Z"
   },
   {
    "duration": 90,
    "start_time": "2022-06-27T11:12:27.160Z"
   },
   {
    "duration": 19,
    "start_time": "2022-06-27T11:12:27.252Z"
   },
   {
    "duration": 29,
    "start_time": "2022-06-27T11:12:27.272Z"
   },
   {
    "duration": 13,
    "start_time": "2022-06-27T11:12:27.302Z"
   },
   {
    "duration": 45,
    "start_time": "2022-06-27T11:12:27.318Z"
   },
   {
    "duration": 15,
    "start_time": "2022-06-27T11:12:27.364Z"
   },
   {
    "duration": 28,
    "start_time": "2022-06-27T11:12:27.381Z"
   },
   {
    "duration": 88,
    "start_time": "2022-06-27T11:12:27.411Z"
   },
   {
    "duration": 50,
    "start_time": "2022-06-27T11:12:27.501Z"
   },
   {
    "duration": 6,
    "start_time": "2022-06-27T11:12:27.553Z"
   },
   {
    "duration": 94,
    "start_time": "2022-06-27T11:12:27.561Z"
   },
   {
    "duration": 32,
    "start_time": "2022-06-27T11:12:27.657Z"
   },
   {
    "duration": 47,
    "start_time": "2022-06-27T11:12:27.690Z"
   },
   {
    "duration": 15,
    "start_time": "2022-06-27T11:12:27.739Z"
   },
   {
    "duration": 50,
    "start_time": "2022-06-27T11:12:27.756Z"
   },
   {
    "duration": 9,
    "start_time": "2022-06-27T11:12:27.808Z"
   },
   {
    "duration": 44,
    "start_time": "2022-06-27T11:12:27.819Z"
   },
   {
    "duration": 5,
    "start_time": "2022-06-27T11:12:27.865Z"
   },
   {
    "duration": 26,
    "start_time": "2022-06-27T11:12:27.872Z"
   },
   {
    "duration": 40,
    "start_time": "2022-06-27T11:12:27.900Z"
   },
   {
    "duration": 64,
    "start_time": "2022-06-27T11:12:27.941Z"
   },
   {
    "duration": 38,
    "start_time": "2022-06-27T11:12:28.007Z"
   },
   {
    "duration": 33,
    "start_time": "2022-06-27T11:12:28.049Z"
   },
   {
    "duration": 18,
    "start_time": "2022-06-27T11:12:28.084Z"
   },
   {
    "duration": 30,
    "start_time": "2022-06-27T11:12:28.104Z"
   },
   {
    "duration": 26,
    "start_time": "2022-06-27T11:12:28.136Z"
   },
   {
    "duration": 3,
    "start_time": "2022-06-27T11:12:28.164Z"
   },
   {
    "duration": 8,
    "start_time": "2022-06-27T11:12:28.169Z"
   },
   {
    "duration": 7,
    "start_time": "2022-06-27T11:12:28.179Z"
   },
   {
    "duration": 8,
    "start_time": "2022-06-27T11:12:28.187Z"
   },
   {
    "duration": 185,
    "start_time": "2022-06-27T11:12:28.196Z"
   },
   {
    "duration": 10,
    "start_time": "2022-06-27T11:12:28.383Z"
   },
   {
    "duration": 11,
    "start_time": "2022-06-27T11:12:28.394Z"
   },
   {
    "duration": 9,
    "start_time": "2022-06-27T11:12:28.407Z"
   },
   {
    "duration": 4,
    "start_time": "2022-06-27T11:12:28.427Z"
   },
   {
    "duration": 11,
    "start_time": "2022-06-27T11:12:28.433Z"
   },
   {
    "duration": 176,
    "start_time": "2022-06-27T11:12:28.446Z"
   },
   {
    "duration": 194,
    "start_time": "2022-06-27T11:12:28.627Z"
   },
   {
    "duration": 7,
    "start_time": "2022-06-27T11:12:28.826Z"
   },
   {
    "duration": 7,
    "start_time": "2022-06-27T11:12:28.834Z"
   },
   {
    "duration": 9,
    "start_time": "2022-06-27T11:12:28.842Z"
   },
   {
    "duration": 9,
    "start_time": "2022-06-27T11:12:28.853Z"
   },
   {
    "duration": 9,
    "start_time": "2022-06-27T11:12:28.864Z"
   },
   {
    "duration": 188,
    "start_time": "2022-06-27T11:12:28.874Z"
   },
   {
    "duration": 7,
    "start_time": "2022-06-27T11:12:29.064Z"
   },
   {
    "duration": 11,
    "start_time": "2022-06-27T11:12:29.072Z"
   },
   {
    "duration": 11,
    "start_time": "2022-06-27T11:12:29.085Z"
   },
   {
    "duration": 9,
    "start_time": "2022-06-27T11:12:29.097Z"
   },
   {
    "duration": 20,
    "start_time": "2022-06-27T11:12:29.108Z"
   },
   {
    "duration": 139,
    "start_time": "2022-06-27T11:12:29.130Z"
   },
   {
    "duration": 183,
    "start_time": "2022-06-27T11:12:29.270Z"
   },
   {
    "duration": 7,
    "start_time": "2022-06-27T11:12:29.455Z"
   },
   {
    "duration": 14,
    "start_time": "2022-06-27T11:12:29.464Z"
   },
   {
    "duration": 13,
    "start_time": "2022-06-27T11:12:29.480Z"
   },
   {
    "duration": 15,
    "start_time": "2022-06-27T11:12:29.495Z"
   },
   {
    "duration": 8,
    "start_time": "2022-06-27T11:12:29.511Z"
   },
   {
    "duration": 177,
    "start_time": "2022-06-27T11:12:29.526Z"
   },
   {
    "duration": 8,
    "start_time": "2022-06-27T11:12:29.705Z"
   },
   {
    "duration": 15,
    "start_time": "2022-06-27T11:12:29.714Z"
   },
   {
    "duration": 7,
    "start_time": "2022-06-27T11:12:29.730Z"
   },
   {
    "duration": 6,
    "start_time": "2022-06-27T11:12:29.738Z"
   },
   {
    "duration": 19,
    "start_time": "2022-06-27T11:12:29.746Z"
   },
   {
    "duration": 153,
    "start_time": "2022-06-27T11:12:29.767Z"
   },
   {
    "duration": 196,
    "start_time": "2022-06-27T11:12:29.922Z"
   },
   {
    "duration": 11,
    "start_time": "2022-06-27T11:12:30.119Z"
   },
   {
    "duration": 18,
    "start_time": "2022-06-27T11:12:30.132Z"
   },
   {
    "duration": 16,
    "start_time": "2022-06-27T11:12:30.151Z"
   },
   {
    "duration": 31,
    "start_time": "2022-06-27T11:12:30.169Z"
   },
   {
    "duration": 1128,
    "start_time": "2022-07-09T10:46:32.766Z"
   },
   {
    "duration": 237,
    "start_time": "2022-07-09T10:46:33.896Z"
   },
   {
    "duration": 29,
    "start_time": "2022-07-09T10:46:34.134Z"
   },
   {
    "duration": 312,
    "start_time": "2022-07-09T10:46:34.165Z"
   },
   {
    "duration": 35,
    "start_time": "2022-07-09T10:46:34.479Z"
   },
   {
    "duration": 135,
    "start_time": "2022-07-09T10:46:34.515Z"
   },
   {
    "duration": 30,
    "start_time": "2022-07-09T10:46:34.653Z"
   },
   {
    "duration": 44,
    "start_time": "2022-07-09T10:46:34.686Z"
   },
   {
    "duration": 15,
    "start_time": "2022-07-09T10:46:34.732Z"
   },
   {
    "duration": 59,
    "start_time": "2022-07-09T10:46:34.750Z"
   },
   {
    "duration": 12,
    "start_time": "2022-07-09T10:46:34.810Z"
   },
   {
    "duration": 9,
    "start_time": "2022-07-09T10:46:34.824Z"
   },
   {
    "duration": 76,
    "start_time": "2022-07-09T10:46:34.835Z"
   },
   {
    "duration": 58,
    "start_time": "2022-07-09T10:46:34.913Z"
   },
   {
    "duration": 6,
    "start_time": "2022-07-09T10:46:34.972Z"
   },
   {
    "duration": 78,
    "start_time": "2022-07-09T10:46:34.980Z"
   },
   {
    "duration": 50,
    "start_time": "2022-07-09T10:46:35.060Z"
   },
   {
    "duration": 59,
    "start_time": "2022-07-09T10:46:35.112Z"
   },
   {
    "duration": 23,
    "start_time": "2022-07-09T10:46:35.173Z"
   },
   {
    "duration": 26,
    "start_time": "2022-07-09T10:46:35.198Z"
   },
   {
    "duration": 23,
    "start_time": "2022-07-09T10:46:35.226Z"
   },
   {
    "duration": 50,
    "start_time": "2022-07-09T10:46:35.251Z"
   },
   {
    "duration": 4,
    "start_time": "2022-07-09T10:46:35.304Z"
   },
   {
    "duration": 46,
    "start_time": "2022-07-09T10:46:35.309Z"
   },
   {
    "duration": 27,
    "start_time": "2022-07-09T10:46:35.357Z"
   },
   {
    "duration": 82,
    "start_time": "2022-07-09T10:46:35.386Z"
   },
   {
    "duration": 25,
    "start_time": "2022-07-09T10:46:35.470Z"
   },
   {
    "duration": 60,
    "start_time": "2022-07-09T10:46:35.498Z"
   },
   {
    "duration": 22,
    "start_time": "2022-07-09T10:46:35.560Z"
   },
   {
    "duration": 14,
    "start_time": "2022-07-09T10:46:35.584Z"
   },
   {
    "duration": 15,
    "start_time": "2022-07-09T10:46:35.600Z"
   },
   {
    "duration": 6,
    "start_time": "2022-07-09T10:46:35.617Z"
   },
   {
    "duration": 4,
    "start_time": "2022-07-09T10:46:35.647Z"
   },
   {
    "duration": 10,
    "start_time": "2022-07-09T10:46:35.653Z"
   },
   {
    "duration": 15,
    "start_time": "2022-07-09T10:46:35.665Z"
   },
   {
    "duration": 178,
    "start_time": "2022-07-09T10:46:35.681Z"
   },
   {
    "duration": 12,
    "start_time": "2022-07-09T10:46:35.862Z"
   },
   {
    "duration": 20,
    "start_time": "2022-07-09T10:46:35.876Z"
   },
   {
    "duration": 27,
    "start_time": "2022-07-09T10:46:35.899Z"
   },
   {
    "duration": 11,
    "start_time": "2022-07-09T10:46:35.928Z"
   },
   {
    "duration": 13,
    "start_time": "2022-07-09T10:46:35.941Z"
   },
   {
    "duration": 187,
    "start_time": "2022-07-09T10:46:35.956Z"
   },
   {
    "duration": 218,
    "start_time": "2022-07-09T10:46:36.146Z"
   },
   {
    "duration": 8,
    "start_time": "2022-07-09T10:46:36.366Z"
   },
   {
    "duration": 5,
    "start_time": "2022-07-09T10:46:36.375Z"
   },
   {
    "duration": 8,
    "start_time": "2022-07-09T10:46:36.382Z"
   },
   {
    "duration": 10,
    "start_time": "2022-07-09T10:46:36.392Z"
   },
   {
    "duration": 11,
    "start_time": "2022-07-09T10:46:36.404Z"
   },
   {
    "duration": 202,
    "start_time": "2022-07-09T10:46:36.416Z"
   },
   {
    "duration": 8,
    "start_time": "2022-07-09T10:46:36.620Z"
   },
   {
    "duration": 10,
    "start_time": "2022-07-09T10:46:36.629Z"
   },
   {
    "duration": 9,
    "start_time": "2022-07-09T10:46:36.646Z"
   },
   {
    "duration": 9,
    "start_time": "2022-07-09T10:46:36.657Z"
   },
   {
    "duration": 9,
    "start_time": "2022-07-09T10:46:36.668Z"
   },
   {
    "duration": 196,
    "start_time": "2022-07-09T10:46:36.679Z"
   },
   {
    "duration": 192,
    "start_time": "2022-07-09T10:46:36.877Z"
   },
   {
    "duration": 9,
    "start_time": "2022-07-09T10:46:37.071Z"
   },
   {
    "duration": 8,
    "start_time": "2022-07-09T10:46:37.082Z"
   },
   {
    "duration": 8,
    "start_time": "2022-07-09T10:46:37.092Z"
   },
   {
    "duration": 7,
    "start_time": "2022-07-09T10:46:37.102Z"
   },
   {
    "duration": 9,
    "start_time": "2022-07-09T10:46:37.110Z"
   },
   {
    "duration": 183,
    "start_time": "2022-07-09T10:46:37.121Z"
   },
   {
    "duration": 7,
    "start_time": "2022-07-09T10:46:37.306Z"
   },
   {
    "duration": 11,
    "start_time": "2022-07-09T10:46:37.315Z"
   },
   {
    "duration": 18,
    "start_time": "2022-07-09T10:46:37.328Z"
   },
   {
    "duration": 8,
    "start_time": "2022-07-09T10:46:37.348Z"
   },
   {
    "duration": 11,
    "start_time": "2022-07-09T10:46:37.357Z"
   },
   {
    "duration": 191,
    "start_time": "2022-07-09T10:46:37.370Z"
   },
   {
    "duration": 193,
    "start_time": "2022-07-09T10:46:37.563Z"
   },
   {
    "duration": 9,
    "start_time": "2022-07-09T10:46:37.758Z"
   },
   {
    "duration": 11,
    "start_time": "2022-07-09T10:46:37.769Z"
   },
   {
    "duration": 11,
    "start_time": "2022-07-09T10:46:37.782Z"
   },
   {
    "duration": 12,
    "start_time": "2022-07-09T10:46:37.795Z"
   }
  ],
  "kernelspec": {
   "display_name": "Python 3 (ipykernel)",
   "language": "python",
   "name": "python3"
  },
  "language_info": {
   "codemirror_mode": {
    "name": "ipython",
    "version": 3
   },
   "file_extension": ".py",
   "mimetype": "text/x-python",
   "name": "python",
   "nbconvert_exporter": "python",
   "pygments_lexer": "ipython3",
   "version": "3.9.5"
  },
  "toc": {
   "base_numbering": 1,
   "nav_menu": {},
   "number_sections": false,
   "sideBar": true,
   "skip_h1_title": true,
   "title_cell": "Table of Contents",
   "title_sidebar": "Contents",
   "toc_cell": false,
   "toc_position": {},
   "toc_section_display": true,
   "toc_window_display": true
  }
 },
 "nbformat": 4,
 "nbformat_minor": 2
}
