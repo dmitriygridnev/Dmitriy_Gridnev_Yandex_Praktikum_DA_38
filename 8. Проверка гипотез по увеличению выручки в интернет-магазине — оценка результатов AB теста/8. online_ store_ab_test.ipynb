{
 "cells": [
  {
   "cell_type": "markdown",
   "metadata": {},
   "source": [
    "# Шаг 1. Знакомство с данными и предобработка. Приоретизация гипотез"
   ]
  },
  {
   "cell_type": "markdown",
   "metadata": {},
   "source": [
    "**Примерный алгоритм выполнения шага:**\n",
    "- подключить библиотеки\n",
    "- создать переименные и \"открыть\" в них данные\n",
    "- посмотреть на данные\n",
    "- найти несоответствие типа данных с их назначением\n",
    "- исправить типы данных на корректные\n",
    "- проверить данные на предмет пропусков и дубликатов"
   ]
  },
  {
   "cell_type": "markdown",
   "metadata": {},
   "source": [
    "**Наименование исследования: \"Анализ гипотез для увеличения выручки крупного интернет-магазина\"**"
   ]
  },
  {
   "cell_type": "markdown",
   "metadata": {},
   "source": [
    "- **Цель исследования:** предоставить рекомендацию руководству интернет-магазина, какие методы увеличения прибыли являются наиболее перспективными с помощью проведения A/B теста.\n",
    "\n",
    "- **Задачи исследования:** рассчитать ключевые метрики и статистические особенности \"поведения\" гипотез и спрогнозировать потенциальную эффективность применения акции \"на практике\""
   ]
  },
  {
   "cell_type": "markdown",
   "metadata": {},
   "source": [
    "**Ожидаемый результат исследования:** предоставление обоснованной рекомендации руководству интернет-магазина и принятие решения, какая из групп теста показала лучшие характеристики и нужно ли продолжать тестирование"
   ]
  },
  {
   "cell_type": "markdown",
   "metadata": {},
   "source": [
    "## 1.1. Знакомство с данными и предобработка"
   ]
  },
  {
   "cell_type": "code",
   "execution_count": 1,
   "metadata": {},
   "outputs": [],
   "source": [
    "import pandas as pd\n",
    "import matplotlib.pyplot as plt\n",
    "import numpy as np\n",
    "from scipy import stats as st\n",
    "import seaborn as sns\n",
    "import datetime as dt\n",
    "from pandas.plotting import register_matplotlib_converters\n",
    "register_matplotlib_converters()"
   ]
  },
  {
   "cell_type": "code",
   "execution_count": 2,
   "metadata": {},
   "outputs": [
    {
     "data": {
      "text/html": [
       "<div>\n",
       "<style scoped>\n",
       "    .dataframe tbody tr th:only-of-type {\n",
       "        vertical-align: middle;\n",
       "    }\n",
       "\n",
       "    .dataframe tbody tr th {\n",
       "        vertical-align: top;\n",
       "    }\n",
       "\n",
       "    .dataframe thead th {\n",
       "        text-align: right;\n",
       "    }\n",
       "</style>\n",
       "<table border=\"1\" class=\"dataframe\">\n",
       "  <thead>\n",
       "    <tr style=\"text-align: right;\">\n",
       "      <th></th>\n",
       "      <th>Hypothesis</th>\n",
       "      <th>Reach</th>\n",
       "      <th>Impact</th>\n",
       "      <th>Confidence</th>\n",
       "      <th>Efforts</th>\n",
       "    </tr>\n",
       "  </thead>\n",
       "  <tbody>\n",
       "    <tr>\n",
       "      <th>0</th>\n",
       "      <td>Добавить два новых канала привлечения трафика, что позволит привлекать на 30% больше пользователей</td>\n",
       "      <td>3</td>\n",
       "      <td>10</td>\n",
       "      <td>8</td>\n",
       "      <td>6</td>\n",
       "    </tr>\n",
       "    <tr>\n",
       "      <th>1</th>\n",
       "      <td>Запустить собственную службу доставки, что сократит срок доставки заказов</td>\n",
       "      <td>2</td>\n",
       "      <td>5</td>\n",
       "      <td>4</td>\n",
       "      <td>10</td>\n",
       "    </tr>\n",
       "    <tr>\n",
       "      <th>2</th>\n",
       "      <td>Добавить блоки рекомендаций товаров на сайт интернет магазина, чтобы повысить конверсию и средний чек заказа</td>\n",
       "      <td>8</td>\n",
       "      <td>3</td>\n",
       "      <td>7</td>\n",
       "      <td>3</td>\n",
       "    </tr>\n",
       "    <tr>\n",
       "      <th>3</th>\n",
       "      <td>Изменить структура категорий, что увеличит конверсию, т.к. пользователи быстрее найдут нужный товар</td>\n",
       "      <td>8</td>\n",
       "      <td>3</td>\n",
       "      <td>3</td>\n",
       "      <td>8</td>\n",
       "    </tr>\n",
       "    <tr>\n",
       "      <th>4</th>\n",
       "      <td>Изменить цвет фона главной страницы, чтобы увеличить вовлеченность пользователей</td>\n",
       "      <td>3</td>\n",
       "      <td>1</td>\n",
       "      <td>1</td>\n",
       "      <td>1</td>\n",
       "    </tr>\n",
       "    <tr>\n",
       "      <th>5</th>\n",
       "      <td>Добавить страницу отзывов клиентов о магазине, что позволит увеличить количество заказов</td>\n",
       "      <td>3</td>\n",
       "      <td>2</td>\n",
       "      <td>2</td>\n",
       "      <td>3</td>\n",
       "    </tr>\n",
       "    <tr>\n",
       "      <th>6</th>\n",
       "      <td>Показать на главной странице баннеры с актуальными акциями и распродажами, чтобы увеличить конверсию</td>\n",
       "      <td>5</td>\n",
       "      <td>3</td>\n",
       "      <td>8</td>\n",
       "      <td>3</td>\n",
       "    </tr>\n",
       "    <tr>\n",
       "      <th>7</th>\n",
       "      <td>Добавить форму подписки на все основные страницы, чтобы собрать базу клиентов для email-рассылок</td>\n",
       "      <td>10</td>\n",
       "      <td>7</td>\n",
       "      <td>8</td>\n",
       "      <td>5</td>\n",
       "    </tr>\n",
       "    <tr>\n",
       "      <th>8</th>\n",
       "      <td>Запустить акцию, дающую скидку на товар в день рождения</td>\n",
       "      <td>1</td>\n",
       "      <td>9</td>\n",
       "      <td>9</td>\n",
       "      <td>5</td>\n",
       "    </tr>\n",
       "  </tbody>\n",
       "</table>\n",
       "</div>"
      ],
      "text/plain": [
       "                                                                                                     Hypothesis  \\\n",
       "0            Добавить два новых канала привлечения трафика, что позволит привлекать на 30% больше пользователей   \n",
       "1                                     Запустить собственную службу доставки, что сократит срок доставки заказов   \n",
       "2  Добавить блоки рекомендаций товаров на сайт интернет магазина, чтобы повысить конверсию и средний чек заказа   \n",
       "3           Изменить структура категорий, что увеличит конверсию, т.к. пользователи быстрее найдут нужный товар   \n",
       "4                              Изменить цвет фона главной страницы, чтобы увеличить вовлеченность пользователей   \n",
       "5                      Добавить страницу отзывов клиентов о магазине, что позволит увеличить количество заказов   \n",
       "6          Показать на главной странице баннеры с актуальными акциями и распродажами, чтобы увеличить конверсию   \n",
       "7              Добавить форму подписки на все основные страницы, чтобы собрать базу клиентов для email-рассылок   \n",
       "8                                                       Запустить акцию, дающую скидку на товар в день рождения   \n",
       "\n",
       "   Reach  Impact  Confidence  Efforts  \n",
       "0      3      10           8        6  \n",
       "1      2       5           4       10  \n",
       "2      8       3           7        3  \n",
       "3      8       3           3        8  \n",
       "4      3       1           1        1  \n",
       "5      3       2           2        3  \n",
       "6      5       3           8        3  \n",
       "7     10       7           8        5  \n",
       "8      1       9           9        5  "
      ]
     },
     "execution_count": 2,
     "metadata": {},
     "output_type": "execute_result"
    }
   ],
   "source": [
    "hypothesis = pd.read_csv('/datasets/hypothesis.csv')\n",
    "pd.set_option(\"max_colwidth\", 700) # изменим границы стобцов, чтобы оставить возможность прочесть полную формулировку гипотезы\n",
    "hypothesis.head(10)"
   ]
  },
  {
   "cell_type": "code",
   "execution_count": 3,
   "metadata": {},
   "outputs": [
    {
     "name": "stdout",
     "output_type": "stream",
     "text": [
      "<class 'pandas.core.frame.DataFrame'>\n",
      "RangeIndex: 9 entries, 0 to 8\n",
      "Data columns (total 5 columns):\n",
      " #   Column      Non-Null Count  Dtype \n",
      "---  ------      --------------  ----- \n",
      " 0   Hypothesis  9 non-null      object\n",
      " 1   Reach       9 non-null      int64 \n",
      " 2   Impact      9 non-null      int64 \n",
      " 3   Confidence  9 non-null      int64 \n",
      " 4   Efforts     9 non-null      int64 \n",
      "dtypes: int64(4), object(1)\n",
      "memory usage: 488.0+ bytes\n"
     ]
    }
   ],
   "source": [
    "hypothesis.info()"
   ]
  },
  {
   "cell_type": "code",
   "execution_count": 4,
   "metadata": {},
   "outputs": [
    {
     "data": {
      "text/plain": [
       "Hypothesis    0\n",
       "Reach         0\n",
       "Impact        0\n",
       "Confidence    0\n",
       "Efforts       0\n",
       "dtype: int64"
      ]
     },
     "execution_count": 4,
     "metadata": {},
     "output_type": "execute_result"
    }
   ],
   "source": [
    "hypothesis.isna().sum()"
   ]
  },
  {
   "cell_type": "code",
   "execution_count": 5,
   "metadata": {},
   "outputs": [
    {
     "data": {
      "text/plain": [
       "0"
      ]
     },
     "execution_count": 5,
     "metadata": {},
     "output_type": "execute_result"
    }
   ],
   "source": [
    "hypothesis.duplicated().sum()"
   ]
  },
  {
   "cell_type": "markdown",
   "metadata": {},
   "source": [
    "**Итог знакомства с первым датасетом:**\n",
    "- Нет проблем с типом данных\n",
    "- Нет дубликатов и пропусков\n",
    "- Едиственное, что не очень хорошо - название столбцов с большой буквы, что не соответствуют \"правилам хорошего кода\", стоит исправить"
   ]
  },
  {
   "cell_type": "code",
   "execution_count": 6,
   "metadata": {},
   "outputs": [
    {
     "data": {
      "text/plain": [
       "['hypothesis', 'reach', 'impact', 'confidence', 'efforts']"
      ]
     },
     "execution_count": 6,
     "metadata": {},
     "output_type": "execute_result"
    }
   ],
   "source": [
    "hypothesis.columns = hypothesis.columns.str.lower()\n",
    "hypothesis.columns.tolist()"
   ]
  },
  {
   "cell_type": "code",
   "execution_count": 7,
   "metadata": {},
   "outputs": [
    {
     "data": {
      "text/html": [
       "<div>\n",
       "<style scoped>\n",
       "    .dataframe tbody tr th:only-of-type {\n",
       "        vertical-align: middle;\n",
       "    }\n",
       "\n",
       "    .dataframe tbody tr th {\n",
       "        vertical-align: top;\n",
       "    }\n",
       "\n",
       "    .dataframe thead th {\n",
       "        text-align: right;\n",
       "    }\n",
       "</style>\n",
       "<table border=\"1\" class=\"dataframe\">\n",
       "  <thead>\n",
       "    <tr style=\"text-align: right;\">\n",
       "      <th></th>\n",
       "      <th>transactionId</th>\n",
       "      <th>visitorId</th>\n",
       "      <th>date</th>\n",
       "      <th>revenue</th>\n",
       "      <th>group</th>\n",
       "    </tr>\n",
       "  </thead>\n",
       "  <tbody>\n",
       "    <tr>\n",
       "      <th>0</th>\n",
       "      <td>3667963787</td>\n",
       "      <td>3312258926</td>\n",
       "      <td>2019-08-15</td>\n",
       "      <td>1650</td>\n",
       "      <td>B</td>\n",
       "    </tr>\n",
       "    <tr>\n",
       "      <th>1</th>\n",
       "      <td>2804400009</td>\n",
       "      <td>3642806036</td>\n",
       "      <td>2019-08-15</td>\n",
       "      <td>730</td>\n",
       "      <td>B</td>\n",
       "    </tr>\n",
       "    <tr>\n",
       "      <th>2</th>\n",
       "      <td>2961555356</td>\n",
       "      <td>4069496402</td>\n",
       "      <td>2019-08-15</td>\n",
       "      <td>400</td>\n",
       "      <td>A</td>\n",
       "    </tr>\n",
       "    <tr>\n",
       "      <th>3</th>\n",
       "      <td>3797467345</td>\n",
       "      <td>1196621759</td>\n",
       "      <td>2019-08-15</td>\n",
       "      <td>9759</td>\n",
       "      <td>B</td>\n",
       "    </tr>\n",
       "    <tr>\n",
       "      <th>4</th>\n",
       "      <td>2282983706</td>\n",
       "      <td>2322279887</td>\n",
       "      <td>2019-08-15</td>\n",
       "      <td>2308</td>\n",
       "      <td>B</td>\n",
       "    </tr>\n",
       "    <tr>\n",
       "      <th>5</th>\n",
       "      <td>182168103</td>\n",
       "      <td>935554773</td>\n",
       "      <td>2019-08-15</td>\n",
       "      <td>2210</td>\n",
       "      <td>B</td>\n",
       "    </tr>\n",
       "    <tr>\n",
       "      <th>6</th>\n",
       "      <td>398296753</td>\n",
       "      <td>2900797465</td>\n",
       "      <td>2019-08-15</td>\n",
       "      <td>1860</td>\n",
       "      <td>B</td>\n",
       "    </tr>\n",
       "    <tr>\n",
       "      <th>7</th>\n",
       "      <td>2626614568</td>\n",
       "      <td>78758296</td>\n",
       "      <td>2019-08-15</td>\n",
       "      <td>1044</td>\n",
       "      <td>A</td>\n",
       "    </tr>\n",
       "    <tr>\n",
       "      <th>8</th>\n",
       "      <td>1576988021</td>\n",
       "      <td>295230930</td>\n",
       "      <td>2019-08-15</td>\n",
       "      <td>13710</td>\n",
       "      <td>A</td>\n",
       "    </tr>\n",
       "    <tr>\n",
       "      <th>9</th>\n",
       "      <td>1506739906</td>\n",
       "      <td>1882260405</td>\n",
       "      <td>2019-08-15</td>\n",
       "      <td>1855</td>\n",
       "      <td>B</td>\n",
       "    </tr>\n",
       "  </tbody>\n",
       "</table>\n",
       "</div>"
      ],
      "text/plain": [
       "   transactionId   visitorId        date  revenue group\n",
       "0     3667963787  3312258926  2019-08-15     1650     B\n",
       "1     2804400009  3642806036  2019-08-15      730     B\n",
       "2     2961555356  4069496402  2019-08-15      400     A\n",
       "3     3797467345  1196621759  2019-08-15     9759     B\n",
       "4     2282983706  2322279887  2019-08-15     2308     B\n",
       "5      182168103   935554773  2019-08-15     2210     B\n",
       "6      398296753  2900797465  2019-08-15     1860     B\n",
       "7     2626614568    78758296  2019-08-15     1044     A\n",
       "8     1576988021   295230930  2019-08-15    13710     A\n",
       "9     1506739906  1882260405  2019-08-15     1855     B"
      ]
     },
     "execution_count": 7,
     "metadata": {},
     "output_type": "execute_result"
    }
   ],
   "source": [
    "orders = pd.read_csv('/datasets/orders.csv')\n",
    "orders.head(10)"
   ]
  },
  {
   "cell_type": "code",
   "execution_count": 8,
   "metadata": {},
   "outputs": [
    {
     "name": "stdout",
     "output_type": "stream",
     "text": [
      "<class 'pandas.core.frame.DataFrame'>\n",
      "RangeIndex: 1197 entries, 0 to 1196\n",
      "Data columns (total 5 columns):\n",
      " #   Column         Non-Null Count  Dtype \n",
      "---  ------         --------------  ----- \n",
      " 0   transactionId  1197 non-null   int64 \n",
      " 1   visitorId      1197 non-null   int64 \n",
      " 2   date           1197 non-null   object\n",
      " 3   revenue        1197 non-null   int64 \n",
      " 4   group          1197 non-null   object\n",
      "dtypes: int64(3), object(2)\n",
      "memory usage: 46.9+ KB\n"
     ]
    }
   ],
   "source": [
    "orders.info()"
   ]
  },
  {
   "cell_type": "code",
   "execution_count": 9,
   "metadata": {},
   "outputs": [
    {
     "data": {
      "text/plain": [
       "transactionId    0\n",
       "visitorId        0\n",
       "date             0\n",
       "revenue          0\n",
       "group            0\n",
       "dtype: int64"
      ]
     },
     "execution_count": 9,
     "metadata": {},
     "output_type": "execute_result"
    }
   ],
   "source": [
    "orders.isna().sum()"
   ]
  },
  {
   "cell_type": "code",
   "execution_count": 10,
   "metadata": {},
   "outputs": [
    {
     "data": {
      "text/plain": [
       "0"
      ]
     },
     "execution_count": 10,
     "metadata": {},
     "output_type": "execute_result"
    }
   ],
   "source": [
    "orders.duplicated().sum()"
   ]
  },
  {
   "cell_type": "code",
   "execution_count": 11,
   "metadata": {},
   "outputs": [],
   "source": [
    "orders = orders.rename(columns={\"transactionId\": \"transaction_id\", \"visitorId\": \"visitor_id\"}) # назовем столбцы корректно"
   ]
  },
  {
   "cell_type": "code",
   "execution_count": 12,
   "metadata": {},
   "outputs": [
    {
     "data": {
      "text/html": [
       "<div>\n",
       "<style scoped>\n",
       "    .dataframe tbody tr th:only-of-type {\n",
       "        vertical-align: middle;\n",
       "    }\n",
       "\n",
       "    .dataframe tbody tr th {\n",
       "        vertical-align: top;\n",
       "    }\n",
       "\n",
       "    .dataframe thead th {\n",
       "        text-align: right;\n",
       "    }\n",
       "</style>\n",
       "<table border=\"1\" class=\"dataframe\">\n",
       "  <thead>\n",
       "    <tr style=\"text-align: right;\">\n",
       "      <th></th>\n",
       "      <th>transaction_id</th>\n",
       "      <th>visitor_id</th>\n",
       "      <th>date</th>\n",
       "      <th>revenue</th>\n",
       "      <th>group</th>\n",
       "    </tr>\n",
       "  </thead>\n",
       "  <tbody>\n",
       "    <tr>\n",
       "      <th>0</th>\n",
       "      <td>3667963787</td>\n",
       "      <td>3312258926</td>\n",
       "      <td>2019-08-15</td>\n",
       "      <td>1650</td>\n",
       "      <td>B</td>\n",
       "    </tr>\n",
       "    <tr>\n",
       "      <th>1</th>\n",
       "      <td>2804400009</td>\n",
       "      <td>3642806036</td>\n",
       "      <td>2019-08-15</td>\n",
       "      <td>730</td>\n",
       "      <td>B</td>\n",
       "    </tr>\n",
       "    <tr>\n",
       "      <th>2</th>\n",
       "      <td>2961555356</td>\n",
       "      <td>4069496402</td>\n",
       "      <td>2019-08-15</td>\n",
       "      <td>400</td>\n",
       "      <td>A</td>\n",
       "    </tr>\n",
       "    <tr>\n",
       "      <th>3</th>\n",
       "      <td>3797467345</td>\n",
       "      <td>1196621759</td>\n",
       "      <td>2019-08-15</td>\n",
       "      <td>9759</td>\n",
       "      <td>B</td>\n",
       "    </tr>\n",
       "    <tr>\n",
       "      <th>4</th>\n",
       "      <td>2282983706</td>\n",
       "      <td>2322279887</td>\n",
       "      <td>2019-08-15</td>\n",
       "      <td>2308</td>\n",
       "      <td>B</td>\n",
       "    </tr>\n",
       "    <tr>\n",
       "      <th>...</th>\n",
       "      <td>...</td>\n",
       "      <td>...</td>\n",
       "      <td>...</td>\n",
       "      <td>...</td>\n",
       "      <td>...</td>\n",
       "    </tr>\n",
       "    <tr>\n",
       "      <th>1192</th>\n",
       "      <td>2662137336</td>\n",
       "      <td>3733762160</td>\n",
       "      <td>2019-08-14</td>\n",
       "      <td>6490</td>\n",
       "      <td>B</td>\n",
       "    </tr>\n",
       "    <tr>\n",
       "      <th>1193</th>\n",
       "      <td>2203539145</td>\n",
       "      <td>370388673</td>\n",
       "      <td>2019-08-14</td>\n",
       "      <td>3190</td>\n",
       "      <td>A</td>\n",
       "    </tr>\n",
       "    <tr>\n",
       "      <th>1194</th>\n",
       "      <td>1807773912</td>\n",
       "      <td>573423106</td>\n",
       "      <td>2019-08-14</td>\n",
       "      <td>10550</td>\n",
       "      <td>A</td>\n",
       "    </tr>\n",
       "    <tr>\n",
       "      <th>1195</th>\n",
       "      <td>1947021204</td>\n",
       "      <td>1614305549</td>\n",
       "      <td>2019-08-14</td>\n",
       "      <td>100</td>\n",
       "      <td>A</td>\n",
       "    </tr>\n",
       "    <tr>\n",
       "      <th>1196</th>\n",
       "      <td>3936777065</td>\n",
       "      <td>2108080724</td>\n",
       "      <td>2019-08-15</td>\n",
       "      <td>202740</td>\n",
       "      <td>B</td>\n",
       "    </tr>\n",
       "  </tbody>\n",
       "</table>\n",
       "<p>1197 rows × 5 columns</p>\n",
       "</div>"
      ],
      "text/plain": [
       "      transaction_id  visitor_id        date  revenue group\n",
       "0         3667963787  3312258926  2019-08-15     1650     B\n",
       "1         2804400009  3642806036  2019-08-15      730     B\n",
       "2         2961555356  4069496402  2019-08-15      400     A\n",
       "3         3797467345  1196621759  2019-08-15     9759     B\n",
       "4         2282983706  2322279887  2019-08-15     2308     B\n",
       "...              ...         ...         ...      ...   ...\n",
       "1192      2662137336  3733762160  2019-08-14     6490     B\n",
       "1193      2203539145   370388673  2019-08-14     3190     A\n",
       "1194      1807773912   573423106  2019-08-14    10550     A\n",
       "1195      1947021204  1614305549  2019-08-14      100     A\n",
       "1196      3936777065  2108080724  2019-08-15   202740     B\n",
       "\n",
       "[1197 rows x 5 columns]"
      ]
     },
     "metadata": {},
     "output_type": "display_data"
    }
   ],
   "source": [
    "display(orders)"
   ]
  },
  {
   "cell_type": "markdown",
   "metadata": {},
   "source": [
    "**Итог знакомства со вторым датасетом:**\n",
    "- Неправильный тип данных в столбце date\n",
    "- Нет дубликатов и пропусков\n",
    "- Наименования приведены к змеиному регистру"
   ]
  },
  {
   "cell_type": "code",
   "execution_count": 13,
   "metadata": {},
   "outputs": [
    {
     "name": "stdout",
     "output_type": "stream",
     "text": [
      "<class 'pandas.core.frame.DataFrame'>\n",
      "RangeIndex: 1197 entries, 0 to 1196\n",
      "Data columns (total 5 columns):\n",
      " #   Column          Non-Null Count  Dtype         \n",
      "---  ------          --------------  -----         \n",
      " 0   transaction_id  1197 non-null   int64         \n",
      " 1   visitor_id      1197 non-null   int64         \n",
      " 2   date            1197 non-null   datetime64[ns]\n",
      " 3   revenue         1197 non-null   int64         \n",
      " 4   group           1197 non-null   object        \n",
      "dtypes: datetime64[ns](1), int64(3), object(1)\n",
      "memory usage: 46.9+ KB\n"
     ]
    }
   ],
   "source": [
    "orders['date'] = pd.to_datetime(orders['date'], format='%Y%m%dT%H:%M:%S')\n",
    "orders.info()"
   ]
  },
  {
   "cell_type": "code",
   "execution_count": 14,
   "metadata": {},
   "outputs": [
    {
     "data": {
      "text/html": [
       "<div>\n",
       "<style scoped>\n",
       "    .dataframe tbody tr th:only-of-type {\n",
       "        vertical-align: middle;\n",
       "    }\n",
       "\n",
       "    .dataframe tbody tr th {\n",
       "        vertical-align: top;\n",
       "    }\n",
       "\n",
       "    .dataframe thead th {\n",
       "        text-align: right;\n",
       "    }\n",
       "</style>\n",
       "<table border=\"1\" class=\"dataframe\">\n",
       "  <thead>\n",
       "    <tr style=\"text-align: right;\">\n",
       "      <th></th>\n",
       "      <th>date</th>\n",
       "      <th>group</th>\n",
       "      <th>visitors</th>\n",
       "    </tr>\n",
       "  </thead>\n",
       "  <tbody>\n",
       "    <tr>\n",
       "      <th>0</th>\n",
       "      <td>2019-08-01</td>\n",
       "      <td>A</td>\n",
       "      <td>719</td>\n",
       "    </tr>\n",
       "    <tr>\n",
       "      <th>1</th>\n",
       "      <td>2019-08-02</td>\n",
       "      <td>A</td>\n",
       "      <td>619</td>\n",
       "    </tr>\n",
       "    <tr>\n",
       "      <th>2</th>\n",
       "      <td>2019-08-03</td>\n",
       "      <td>A</td>\n",
       "      <td>507</td>\n",
       "    </tr>\n",
       "    <tr>\n",
       "      <th>3</th>\n",
       "      <td>2019-08-04</td>\n",
       "      <td>A</td>\n",
       "      <td>717</td>\n",
       "    </tr>\n",
       "    <tr>\n",
       "      <th>4</th>\n",
       "      <td>2019-08-05</td>\n",
       "      <td>A</td>\n",
       "      <td>756</td>\n",
       "    </tr>\n",
       "    <tr>\n",
       "      <th>5</th>\n",
       "      <td>2019-08-06</td>\n",
       "      <td>A</td>\n",
       "      <td>667</td>\n",
       "    </tr>\n",
       "    <tr>\n",
       "      <th>6</th>\n",
       "      <td>2019-08-07</td>\n",
       "      <td>A</td>\n",
       "      <td>644</td>\n",
       "    </tr>\n",
       "    <tr>\n",
       "      <th>7</th>\n",
       "      <td>2019-08-08</td>\n",
       "      <td>A</td>\n",
       "      <td>610</td>\n",
       "    </tr>\n",
       "    <tr>\n",
       "      <th>8</th>\n",
       "      <td>2019-08-09</td>\n",
       "      <td>A</td>\n",
       "      <td>617</td>\n",
       "    </tr>\n",
       "    <tr>\n",
       "      <th>9</th>\n",
       "      <td>2019-08-10</td>\n",
       "      <td>A</td>\n",
       "      <td>406</td>\n",
       "    </tr>\n",
       "  </tbody>\n",
       "</table>\n",
       "</div>"
      ],
      "text/plain": [
       "         date group  visitors\n",
       "0  2019-08-01     A       719\n",
       "1  2019-08-02     A       619\n",
       "2  2019-08-03     A       507\n",
       "3  2019-08-04     A       717\n",
       "4  2019-08-05     A       756\n",
       "5  2019-08-06     A       667\n",
       "6  2019-08-07     A       644\n",
       "7  2019-08-08     A       610\n",
       "8  2019-08-09     A       617\n",
       "9  2019-08-10     A       406"
      ]
     },
     "execution_count": 14,
     "metadata": {},
     "output_type": "execute_result"
    }
   ],
   "source": [
    "visitors = pd.read_csv('/datasets/visitors.csv')\n",
    "visitors.head(10)"
   ]
  },
  {
   "cell_type": "code",
   "execution_count": 15,
   "metadata": {},
   "outputs": [
    {
     "name": "stdout",
     "output_type": "stream",
     "text": [
      "<class 'pandas.core.frame.DataFrame'>\n",
      "RangeIndex: 62 entries, 0 to 61\n",
      "Data columns (total 3 columns):\n",
      " #   Column    Non-Null Count  Dtype \n",
      "---  ------    --------------  ----- \n",
      " 0   date      62 non-null     object\n",
      " 1   group     62 non-null     object\n",
      " 2   visitors  62 non-null     int64 \n",
      "dtypes: int64(1), object(2)\n",
      "memory usage: 1.6+ KB\n"
     ]
    }
   ],
   "source": [
    "visitors.info()"
   ]
  },
  {
   "cell_type": "code",
   "execution_count": 16,
   "metadata": {},
   "outputs": [
    {
     "data": {
      "text/plain": [
       "date        0\n",
       "group       0\n",
       "visitors    0\n",
       "dtype: int64"
      ]
     },
     "execution_count": 16,
     "metadata": {},
     "output_type": "execute_result"
    }
   ],
   "source": [
    "visitors.isna().sum()"
   ]
  },
  {
   "cell_type": "code",
   "execution_count": 17,
   "metadata": {},
   "outputs": [
    {
     "data": {
      "text/plain": [
       "0"
      ]
     },
     "execution_count": 17,
     "metadata": {},
     "output_type": "execute_result"
    }
   ],
   "source": [
    "visitors.duplicated().sum()"
   ]
  },
  {
   "cell_type": "markdown",
   "metadata": {},
   "source": [
    "**Итог знакомства с третьим датасетом:**\n",
    "- Неправильный тип данных в столбце date\n",
    "- Нет дубликатов и пропусков"
   ]
  },
  {
   "cell_type": "code",
   "execution_count": 18,
   "metadata": {},
   "outputs": [
    {
     "name": "stdout",
     "output_type": "stream",
     "text": [
      "<class 'pandas.core.frame.DataFrame'>\n",
      "RangeIndex: 62 entries, 0 to 61\n",
      "Data columns (total 3 columns):\n",
      " #   Column    Non-Null Count  Dtype         \n",
      "---  ------    --------------  -----         \n",
      " 0   date      62 non-null     datetime64[ns]\n",
      " 1   group     62 non-null     object        \n",
      " 2   visitors  62 non-null     int64         \n",
      "dtypes: datetime64[ns](1), int64(1), object(1)\n",
      "memory usage: 1.6+ KB\n"
     ]
    }
   ],
   "source": [
    "visitors['date'] = pd.to_datetime(visitors['date'], format='%Y%m%dT%H:%M:%S')\n",
    "visitors.info()"
   ]
  },
  {
   "cell_type": "markdown",
   "metadata": {},
   "source": [
    "**Вывод:** трудоемкая предобработка не потребовалась, некорректный тип столбцов с датами был исправлен, теперь данные полностью готовы к исследованию"
   ]
  },
  {
   "cell_type": "markdown",
   "metadata": {},
   "source": [
    "## 1.2. Приоретизация гипотез"
   ]
  },
  {
   "cell_type": "markdown",
   "metadata": {},
   "source": [
    "Примерный алгоритм действий:\n",
    "- рассчитать ICE\n",
    "- рассчитать RICE\n",
    "- предположить, чем могла быть вызвана разница в показателях\n",
    "- зафиксировать наиболее перспективные гипотезы"
   ]
  },
  {
   "cell_type": "markdown",
   "metadata": {},
   "source": [
    "### Рассчитаем ICE:"
   ]
  },
  {
   "cell_type": "code",
   "execution_count": 19,
   "metadata": {},
   "outputs": [
    {
     "data": {
      "text/html": [
       "<div>\n",
       "<style scoped>\n",
       "    .dataframe tbody tr th:only-of-type {\n",
       "        vertical-align: middle;\n",
       "    }\n",
       "\n",
       "    .dataframe tbody tr th {\n",
       "        vertical-align: top;\n",
       "    }\n",
       "\n",
       "    .dataframe thead th {\n",
       "        text-align: right;\n",
       "    }\n",
       "</style>\n",
       "<table border=\"1\" class=\"dataframe\">\n",
       "  <thead>\n",
       "    <tr style=\"text-align: right;\">\n",
       "      <th></th>\n",
       "      <th>hypothesis</th>\n",
       "      <th>ICE</th>\n",
       "    </tr>\n",
       "  </thead>\n",
       "  <tbody>\n",
       "    <tr>\n",
       "      <th>8</th>\n",
       "      <td>Запустить акцию, дающую скидку на товар в день рождения</td>\n",
       "      <td>16.2</td>\n",
       "    </tr>\n",
       "    <tr>\n",
       "      <th>0</th>\n",
       "      <td>Добавить два новых канала привлечения трафика, что позволит привлекать на 30% больше пользователей</td>\n",
       "      <td>13.3</td>\n",
       "    </tr>\n",
       "    <tr>\n",
       "      <th>7</th>\n",
       "      <td>Добавить форму подписки на все основные страницы, чтобы собрать базу клиентов для email-рассылок</td>\n",
       "      <td>11.2</td>\n",
       "    </tr>\n",
       "    <tr>\n",
       "      <th>6</th>\n",
       "      <td>Показать на главной странице баннеры с актуальными акциями и распродажами, чтобы увеличить конверсию</td>\n",
       "      <td>8.0</td>\n",
       "    </tr>\n",
       "    <tr>\n",
       "      <th>2</th>\n",
       "      <td>Добавить блоки рекомендаций товаров на сайт интернет магазина, чтобы повысить конверсию и средний чек заказа</td>\n",
       "      <td>7.0</td>\n",
       "    </tr>\n",
       "    <tr>\n",
       "      <th>1</th>\n",
       "      <td>Запустить собственную службу доставки, что сократит срок доставки заказов</td>\n",
       "      <td>2.0</td>\n",
       "    </tr>\n",
       "    <tr>\n",
       "      <th>5</th>\n",
       "      <td>Добавить страницу отзывов клиентов о магазине, что позволит увеличить количество заказов</td>\n",
       "      <td>1.3</td>\n",
       "    </tr>\n",
       "    <tr>\n",
       "      <th>3</th>\n",
       "      <td>Изменить структура категорий, что увеличит конверсию, т.к. пользователи быстрее найдут нужный товар</td>\n",
       "      <td>1.1</td>\n",
       "    </tr>\n",
       "    <tr>\n",
       "      <th>4</th>\n",
       "      <td>Изменить цвет фона главной страницы, чтобы увеличить вовлеченность пользователей</td>\n",
       "      <td>1.0</td>\n",
       "    </tr>\n",
       "  </tbody>\n",
       "</table>\n",
       "</div>"
      ],
      "text/plain": [
       "                                                                                                     hypothesis  \\\n",
       "8                                                       Запустить акцию, дающую скидку на товар в день рождения   \n",
       "0            Добавить два новых канала привлечения трафика, что позволит привлекать на 30% больше пользователей   \n",
       "7              Добавить форму подписки на все основные страницы, чтобы собрать базу клиентов для email-рассылок   \n",
       "6          Показать на главной странице баннеры с актуальными акциями и распродажами, чтобы увеличить конверсию   \n",
       "2  Добавить блоки рекомендаций товаров на сайт интернет магазина, чтобы повысить конверсию и средний чек заказа   \n",
       "1                                     Запустить собственную службу доставки, что сократит срок доставки заказов   \n",
       "5                      Добавить страницу отзывов клиентов о магазине, что позволит увеличить количество заказов   \n",
       "3           Изменить структура категорий, что увеличит конверсию, т.к. пользователи быстрее найдут нужный товар   \n",
       "4                              Изменить цвет фона главной страницы, чтобы увеличить вовлеченность пользователей   \n",
       "\n",
       "    ICE  \n",
       "8  16.2  \n",
       "0  13.3  \n",
       "7  11.2  \n",
       "6   8.0  \n",
       "2   7.0  \n",
       "1   2.0  \n",
       "5   1.3  \n",
       "3   1.1  \n",
       "4   1.0  "
      ]
     },
     "execution_count": 19,
     "metadata": {},
     "output_type": "execute_result"
    }
   ],
   "source": [
    "hypothesis['ICE'] = (hypothesis['impact'] * hypothesis['confidence']) / hypothesis['efforts']\n",
    "pd.set_option(\"max_colwidth\", 700) # изменим границы стобцов, чтобы оставить возможность прочесть полную формулировку гипотезы\n",
    "hypothesis[['hypothesis', 'ICE']].sort_values(by='ICE', ascending=False).round(1)"
   ]
  },
  {
   "cell_type": "markdown",
   "metadata": {},
   "source": [
    "Применение метода ICE символизирует о том, что наиболее перспективными можно считать гипотезы:\n",
    "- №8 (Запустить акцию, дающую скидку на товар в день рождения),\n",
    "- 0 (Добавить два новых канала привлечения трафика, что позволит привлекать на 30% больше пользователей),\n",
    "- \"третий\" показатель у гипотезы №7 (Добавить форму подписки на все основные страницы, чтобы собрать базу клиентов для email-рассылок)"
   ]
  },
  {
   "cell_type": "markdown",
   "metadata": {},
   "source": [
    "### Рассчитаем RICE:"
   ]
  },
  {
   "cell_type": "code",
   "execution_count": 20,
   "metadata": {},
   "outputs": [
    {
     "data": {
      "text/html": [
       "<div>\n",
       "<style scoped>\n",
       "    .dataframe tbody tr th:only-of-type {\n",
       "        vertical-align: middle;\n",
       "    }\n",
       "\n",
       "    .dataframe tbody tr th {\n",
       "        vertical-align: top;\n",
       "    }\n",
       "\n",
       "    .dataframe thead th {\n",
       "        text-align: right;\n",
       "    }\n",
       "</style>\n",
       "<table border=\"1\" class=\"dataframe\">\n",
       "  <thead>\n",
       "    <tr style=\"text-align: right;\">\n",
       "      <th></th>\n",
       "      <th>hypothesis</th>\n",
       "      <th>RICE</th>\n",
       "    </tr>\n",
       "  </thead>\n",
       "  <tbody>\n",
       "    <tr>\n",
       "      <th>7</th>\n",
       "      <td>Добавить форму подписки на все основные страницы, чтобы собрать базу клиентов для email-рассылок</td>\n",
       "      <td>112.0</td>\n",
       "    </tr>\n",
       "    <tr>\n",
       "      <th>2</th>\n",
       "      <td>Добавить блоки рекомендаций товаров на сайт интернет магазина, чтобы повысить конверсию и средний чек заказа</td>\n",
       "      <td>56.0</td>\n",
       "    </tr>\n",
       "    <tr>\n",
       "      <th>0</th>\n",
       "      <td>Добавить два новых канала привлечения трафика, что позволит привлекать на 30% больше пользователей</td>\n",
       "      <td>40.0</td>\n",
       "    </tr>\n",
       "    <tr>\n",
       "      <th>6</th>\n",
       "      <td>Показать на главной странице баннеры с актуальными акциями и распродажами, чтобы увеличить конверсию</td>\n",
       "      <td>40.0</td>\n",
       "    </tr>\n",
       "    <tr>\n",
       "      <th>8</th>\n",
       "      <td>Запустить акцию, дающую скидку на товар в день рождения</td>\n",
       "      <td>16.2</td>\n",
       "    </tr>\n",
       "    <tr>\n",
       "      <th>3</th>\n",
       "      <td>Изменить структура категорий, что увеличит конверсию, т.к. пользователи быстрее найдут нужный товар</td>\n",
       "      <td>9.0</td>\n",
       "    </tr>\n",
       "    <tr>\n",
       "      <th>1</th>\n",
       "      <td>Запустить собственную службу доставки, что сократит срок доставки заказов</td>\n",
       "      <td>4.0</td>\n",
       "    </tr>\n",
       "    <tr>\n",
       "      <th>5</th>\n",
       "      <td>Добавить страницу отзывов клиентов о магазине, что позволит увеличить количество заказов</td>\n",
       "      <td>4.0</td>\n",
       "    </tr>\n",
       "    <tr>\n",
       "      <th>4</th>\n",
       "      <td>Изменить цвет фона главной страницы, чтобы увеличить вовлеченность пользователей</td>\n",
       "      <td>3.0</td>\n",
       "    </tr>\n",
       "  </tbody>\n",
       "</table>\n",
       "</div>"
      ],
      "text/plain": [
       "                                                                                                     hypothesis  \\\n",
       "7              Добавить форму подписки на все основные страницы, чтобы собрать базу клиентов для email-рассылок   \n",
       "2  Добавить блоки рекомендаций товаров на сайт интернет магазина, чтобы повысить конверсию и средний чек заказа   \n",
       "0            Добавить два новых канала привлечения трафика, что позволит привлекать на 30% больше пользователей   \n",
       "6          Показать на главной странице баннеры с актуальными акциями и распродажами, чтобы увеличить конверсию   \n",
       "8                                                       Запустить акцию, дающую скидку на товар в день рождения   \n",
       "3           Изменить структура категорий, что увеличит конверсию, т.к. пользователи быстрее найдут нужный товар   \n",
       "1                                     Запустить собственную службу доставки, что сократит срок доставки заказов   \n",
       "5                      Добавить страницу отзывов клиентов о магазине, что позволит увеличить количество заказов   \n",
       "4                              Изменить цвет фона главной страницы, чтобы увеличить вовлеченность пользователей   \n",
       "\n",
       "    RICE  \n",
       "7  112.0  \n",
       "2   56.0  \n",
       "0   40.0  \n",
       "6   40.0  \n",
       "8   16.2  \n",
       "3    9.0  \n",
       "1    4.0  \n",
       "5    4.0  \n",
       "4    3.0  "
      ]
     },
     "execution_count": 20,
     "metadata": {},
     "output_type": "execute_result"
    }
   ],
   "source": [
    "hypothesis['RICE'] = (hypothesis['reach']*hypothesis['impact']*hypothesis['confidence']) / hypothesis['efforts']\n",
    "pd.set_option(\"max_colwidth\", 700)\n",
    "hypothesis[['hypothesis', 'RICE']].sort_values(by='RICE', ascending=False)"
   ]
  },
  {
   "cell_type": "markdown",
   "metadata": {},
   "source": [
    "Метод показывает, что гипотеза №7 (Добавить форму подписки на все основные страницы, чтобы собрать базу клиентов для email-рассылок) намного перспективнее прочих. На втором месте - гипотеза №2 (Добавить блоки рекомендаций товаров на сайт интернет магазина, чтобы повысить конверсию и средний чек заказа), гипотезы №0 и 6 на третьем месте."
   ]
  },
  {
   "cell_type": "markdown",
   "metadata": {},
   "source": [
    "Имеет смысл посмотреть на сравнительную таблицу, чтобы увидеть различия между ICE и RICE"
   ]
  },
  {
   "cell_type": "code",
   "execution_count": 21,
   "metadata": {},
   "outputs": [
    {
     "data": {
      "text/html": [
       "<div>\n",
       "<style scoped>\n",
       "    .dataframe tbody tr th:only-of-type {\n",
       "        vertical-align: middle;\n",
       "    }\n",
       "\n",
       "    .dataframe tbody tr th {\n",
       "        vertical-align: top;\n",
       "    }\n",
       "\n",
       "    .dataframe thead th {\n",
       "        text-align: right;\n",
       "    }\n",
       "</style>\n",
       "<table border=\"1\" class=\"dataframe\">\n",
       "  <thead>\n",
       "    <tr style=\"text-align: right;\">\n",
       "      <th></th>\n",
       "      <th>hypothesis</th>\n",
       "      <th>ICE</th>\n",
       "      <th>RICE</th>\n",
       "    </tr>\n",
       "  </thead>\n",
       "  <tbody>\n",
       "    <tr>\n",
       "      <th>0</th>\n",
       "      <td>Добавить два новых канала привлечения трафика, что позволит привлекать на 30% больше пользователей</td>\n",
       "      <td>13.3</td>\n",
       "      <td>40.0</td>\n",
       "    </tr>\n",
       "    <tr>\n",
       "      <th>1</th>\n",
       "      <td>Запустить собственную службу доставки, что сократит срок доставки заказов</td>\n",
       "      <td>2.0</td>\n",
       "      <td>4.0</td>\n",
       "    </tr>\n",
       "    <tr>\n",
       "      <th>2</th>\n",
       "      <td>Добавить блоки рекомендаций товаров на сайт интернет магазина, чтобы повысить конверсию и средний чек заказа</td>\n",
       "      <td>7.0</td>\n",
       "      <td>56.0</td>\n",
       "    </tr>\n",
       "    <tr>\n",
       "      <th>3</th>\n",
       "      <td>Изменить структура категорий, что увеличит конверсию, т.к. пользователи быстрее найдут нужный товар</td>\n",
       "      <td>1.1</td>\n",
       "      <td>9.0</td>\n",
       "    </tr>\n",
       "    <tr>\n",
       "      <th>4</th>\n",
       "      <td>Изменить цвет фона главной страницы, чтобы увеличить вовлеченность пользователей</td>\n",
       "      <td>1.0</td>\n",
       "      <td>3.0</td>\n",
       "    </tr>\n",
       "    <tr>\n",
       "      <th>5</th>\n",
       "      <td>Добавить страницу отзывов клиентов о магазине, что позволит увеличить количество заказов</td>\n",
       "      <td>1.3</td>\n",
       "      <td>4.0</td>\n",
       "    </tr>\n",
       "    <tr>\n",
       "      <th>6</th>\n",
       "      <td>Показать на главной странице баннеры с актуальными акциями и распродажами, чтобы увеличить конверсию</td>\n",
       "      <td>8.0</td>\n",
       "      <td>40.0</td>\n",
       "    </tr>\n",
       "    <tr>\n",
       "      <th>7</th>\n",
       "      <td>Добавить форму подписки на все основные страницы, чтобы собрать базу клиентов для email-рассылок</td>\n",
       "      <td>11.2</td>\n",
       "      <td>112.0</td>\n",
       "    </tr>\n",
       "    <tr>\n",
       "      <th>8</th>\n",
       "      <td>Запустить акцию, дающую скидку на товар в день рождения</td>\n",
       "      <td>16.2</td>\n",
       "      <td>16.2</td>\n",
       "    </tr>\n",
       "  </tbody>\n",
       "</table>\n",
       "</div>"
      ],
      "text/plain": [
       "                                                                                                     hypothesis  \\\n",
       "0            Добавить два новых канала привлечения трафика, что позволит привлекать на 30% больше пользователей   \n",
       "1                                     Запустить собственную службу доставки, что сократит срок доставки заказов   \n",
       "2  Добавить блоки рекомендаций товаров на сайт интернет магазина, чтобы повысить конверсию и средний чек заказа   \n",
       "3           Изменить структура категорий, что увеличит конверсию, т.к. пользователи быстрее найдут нужный товар   \n",
       "4                              Изменить цвет фона главной страницы, чтобы увеличить вовлеченность пользователей   \n",
       "5                      Добавить страницу отзывов клиентов о магазине, что позволит увеличить количество заказов   \n",
       "6          Показать на главной странице баннеры с актуальными акциями и распродажами, чтобы увеличить конверсию   \n",
       "7              Добавить форму подписки на все основные страницы, чтобы собрать базу клиентов для email-рассылок   \n",
       "8                                                       Запустить акцию, дающую скидку на товар в день рождения   \n",
       "\n",
       "    ICE   RICE  \n",
       "0  13.3   40.0  \n",
       "1   2.0    4.0  \n",
       "2   7.0   56.0  \n",
       "3   1.1    9.0  \n",
       "4   1.0    3.0  \n",
       "5   1.3    4.0  \n",
       "6   8.0   40.0  \n",
       "7  11.2  112.0  \n",
       "8  16.2   16.2  "
      ]
     },
     "metadata": {},
     "output_type": "display_data"
    }
   ],
   "source": [
    "hypothesis_comparison = hypothesis[['hypothesis','ICE','RICE']].round(1)\n",
    "display(hypothesis_comparison)"
   ]
  },
  {
   "cell_type": "markdown",
   "metadata": {},
   "source": [
    "### Что повлияло на разницу в \"перспективности\" гипотез?"
   ]
  },
  {
   "cell_type": "markdown",
   "metadata": {},
   "source": [
    "Ответ на вопрос содержится в самих формулах, по которым производилась оценка гипотез. Параметр Reach, который \"появился\" в расчете RICE, отражает \"скольких пользователей затронет изменение\". Иными словами, причиной в изменениях показателей стал показатель количества клиентов, которые \"почувствуют\" изменения, которые сейчас тестируются."
   ]
  },
  {
   "cell_type": "markdown",
   "metadata": {},
   "source": [
    "## 1.3. Вывод"
   ]
  },
  {
   "cell_type": "markdown",
   "metadata": {},
   "source": [
    "Были определены перспективные гипотезы. С учетом показателя охвата целевой аудитории (RICE) наиболее перспективной видится гипотеза №7 \"Добавить форму подписки на все основные страницы, чтобы собрать базу клиентов для email-рассылок\". Сам по себе метод не является \"агрессивным\", а с учетом грамотной рассылки, равно как и правильной подачи \"мотивации\" клиента оставить почту может ощутимо увеличить показатели прибыли интернет-магазина. "
   ]
  },
  {
   "cell_type": "markdown",
   "metadata": {},
   "source": [
    "# Шаг 2. Анализ A/B-теста"
   ]
  },
  {
   "cell_type": "markdown",
   "metadata": {},
   "source": [
    "## 2.1. Построение графика кумулятивной выручки по группам"
   ]
  },
  {
   "cell_type": "markdown",
   "metadata": {},
   "source": [
    "Прежде, чем приступить к расчетам, проверим количество участников в каждой из групп:"
   ]
  },
  {
   "cell_type": "code",
   "execution_count": 22,
   "metadata": {},
   "outputs": [
    {
     "data": {
      "text/plain": [
       "B    640\n",
       "A    557\n",
       "Name: group, dtype: int64"
      ]
     },
     "execution_count": 22,
     "metadata": {},
     "output_type": "execute_result"
    }
   ],
   "source": [
    "orders['group'].value_counts()"
   ]
  },
  {
   "cell_type": "markdown",
   "metadata": {},
   "source": [
    "Найдем, есть ли пользователи и в той и в другой группе:"
   ]
  },
  {
   "cell_type": "code",
   "execution_count": 23,
   "metadata": {},
   "outputs": [
    {
     "data": {
      "text/plain": [
       "group    58\n",
       "dtype: int64"
      ]
     },
     "metadata": {},
     "output_type": "display_data"
    }
   ],
   "source": [
    "double_user = orders.pivot_table(index='visitor_id', values='group', aggfunc='nunique')\n",
    "display(double_user.query('group > 1').count())"
   ]
  },
  {
   "cell_type": "markdown",
   "metadata": {},
   "source": [
    "58 участников есть и в той и другой группе. Рискну предположить, что можно пренебречь получившимся значением, т.к. их количество невелико и не должно исказить исследование. Возможно, это группа неких тестовых пользователей, данные о которой попали к нам."
   ]
  },
  {
   "cell_type": "markdown",
   "metadata": {},
   "source": [
    "Создаем новый датафрейм datesGroups путем удаления дубликатов, следовательно, останутся только уникальные значения"
   ]
  },
  {
   "cell_type": "code",
   "execution_count": 24,
   "metadata": {},
   "outputs": [],
   "source": [
    "datesGroups = orders[['date','group']].drop_duplicates()"
   ]
  },
  {
   "cell_type": "code",
   "execution_count": 25,
   "metadata": {},
   "outputs": [
    {
     "data": {
      "text/html": [
       "<div>\n",
       "<style scoped>\n",
       "    .dataframe tbody tr th:only-of-type {\n",
       "        vertical-align: middle;\n",
       "    }\n",
       "\n",
       "    .dataframe tbody tr th {\n",
       "        vertical-align: top;\n",
       "    }\n",
       "\n",
       "    .dataframe thead th {\n",
       "        text-align: right;\n",
       "    }\n",
       "</style>\n",
       "<table border=\"1\" class=\"dataframe\">\n",
       "  <thead>\n",
       "    <tr style=\"text-align: right;\">\n",
       "      <th></th>\n",
       "      <th>date</th>\n",
       "      <th>group</th>\n",
       "    </tr>\n",
       "  </thead>\n",
       "  <tbody>\n",
       "    <tr>\n",
       "      <th>0</th>\n",
       "      <td>2019-08-15</td>\n",
       "      <td>B</td>\n",
       "    </tr>\n",
       "    <tr>\n",
       "      <th>2</th>\n",
       "      <td>2019-08-15</td>\n",
       "      <td>A</td>\n",
       "    </tr>\n",
       "    <tr>\n",
       "      <th>45</th>\n",
       "      <td>2019-08-16</td>\n",
       "      <td>A</td>\n",
       "    </tr>\n",
       "    <tr>\n",
       "      <th>47</th>\n",
       "      <td>2019-08-16</td>\n",
       "      <td>B</td>\n",
       "    </tr>\n",
       "    <tr>\n",
       "      <th>55</th>\n",
       "      <td>2019-08-01</td>\n",
       "      <td>A</td>\n",
       "    </tr>\n",
       "  </tbody>\n",
       "</table>\n",
       "</div>"
      ],
      "text/plain": [
       "         date group\n",
       "0  2019-08-15     B\n",
       "2  2019-08-15     A\n",
       "45 2019-08-16     A\n",
       "47 2019-08-16     B\n",
       "55 2019-08-01     A"
      ]
     },
     "metadata": {},
     "output_type": "display_data"
    }
   ],
   "source": [
    "display(datesGroups.head())"
   ]
  },
  {
   "cell_type": "markdown",
   "metadata": {},
   "source": [
    "Теперь запишем в новую переменную следующие данные:\n",
    "- дата;\n",
    "- группа A/B-теста;\n",
    "- число уникальных заказов в группе теста по указанную дату (включительно);\n",
    "- число пользователей за интересующий диапазон времени;\n",
    "- суммарную выручку заказов в группе теста."
   ]
  },
  {
   "cell_type": "code",
   "execution_count": 26,
   "metadata": {},
   "outputs": [],
   "source": [
    "ordersAggregated = datesGroups.apply(\n",
    "lambda x: orders[np.logical_and(orders['date'] <= x['date'], orders['group'] == x['group'])].agg({\n",
    "'date' : 'max',\n",
    "'group' : 'max',\n",
    "'transaction_id' : pd.Series.nunique,\n",
    "'visitor_id' : pd.Series.nunique,\n",
    "'revenue' : 'sum'}), axis=1).sort_values(by=['date','group'])"
   ]
  },
  {
   "cell_type": "markdown",
   "metadata": {},
   "source": [
    "Идентичной методикой вычислим кумулятивные данные о посетителях интернет-магазина (по дням):"
   ]
  },
  {
   "cell_type": "code",
   "execution_count": 27,
   "metadata": {},
   "outputs": [],
   "source": [
    "visitorsAggregated = datesGroups.apply(\n",
    "lambda x: visitors[np.logical_and(visitors['date'] <= x['date'], visitors['group'] == x['group'])].agg({\n",
    "'date' : 'max',\n",
    "'group' : 'max',\n",
    "'visitors' : 'sum'}), axis=1).sort_values(by=['date','group'])"
   ]
  },
  {
   "cell_type": "markdown",
   "metadata": {},
   "source": [
    "С помощью метода merge объединим имеющиеся датафреймы по общим столбцам и переименуем их:"
   ]
  },
  {
   "cell_type": "code",
   "execution_count": 28,
   "metadata": {},
   "outputs": [],
   "source": [
    "cumulativeData = ordersAggregated.merge(visitorsAggregated, left_on=['date', 'group'], right_on=['date', 'group'])\n",
    "cumulativeData.columns = ['date', 'group', 'orders', 'buyers', 'revenue', 'visitors']"
   ]
  },
  {
   "cell_type": "code",
   "execution_count": 29,
   "metadata": {},
   "outputs": [],
   "source": [
    "cumulativeRevenueA = cumulativeData[cumulativeData['group']=='A'][['date','revenue', 'orders']]"
   ]
  },
  {
   "cell_type": "code",
   "execution_count": 30,
   "metadata": {},
   "outputs": [],
   "source": [
    "cumulativeRevenueB = cumulativeData[cumulativeData['group']=='B'][['date','revenue', 'orders']]"
   ]
  },
  {
   "cell_type": "code",
   "execution_count": 31,
   "metadata": {},
   "outputs": [
    {
     "data": {
      "image/png": "[encoded data removed]",
      "text/plain": [
       "<Figure size 1080x720 with 1 Axes>"
      ]
     },
     "metadata": {
      "needs_background": "light"
     },
     "output_type": "display_data"
    }
   ],
   "source": [
    "plt.figure(figsize=(15,10))\n",
    "#Кривая выручки группы А\n",
    "plt.plot(cumulativeRevenueA['date'], cumulativeRevenueA['revenue'], label='A')\n",
    "\n",
    "#Кривая выручки группы В\n",
    "plt.plot(cumulativeRevenueB['date'], cumulativeRevenueB['revenue'], label='B')\n",
    "\n",
    "plt.xticks(rotation=45)\n",
    "plt.legend() \n",
    "plt.title('Кумулятивная выручка по группам')\n",
    "plt.xlabel('Дата')\n",
    "plt.ylabel('Прибыль')\n",
    "\n",
    "\n",
    "plt.show()"
   ]
  },
  {
   "cell_type": "markdown",
   "metadata": {},
   "source": [
    "Стоит попробовать немного \"оживить\" график и нанести на него пометки"
   ]
  },
  {
   "cell_type": "code",
   "execution_count": 32,
   "metadata": {},
   "outputs": [
    {
     "data": {
      "image/png": "[encoded data removed]",
      "text/plain": [
       "<Figure size 1080x720 with 1 Axes>"
      ]
     },
     "metadata": {
      "needs_background": "light"
     },
     "output_type": "display_data"
    }
   ],
   "source": [
    "plt.figure(figsize=(15,10))\n",
    "#Кривая выручки группы А\n",
    "plt.plot(cumulativeRevenueA['date'], cumulativeRevenueA['revenue'], label='A')\n",
    "\n",
    "#Кривая выручки группы А\n",
    "plt.plot(cumulativeRevenueB['date'], cumulativeRevenueB['revenue'], label='B')\n",
    "\n",
    "plt.xticks(rotation=45)\n",
    "plt.legend() \n",
    "plt.title('Кумулятивная выручка по группам А и В')\n",
    "plt.xlabel('Дата')\n",
    "plt.ylabel('Прибыль')\n",
    "plt.annotate('Скачок', xy=('2019-08-17', 2800000), xytext=('2019-08-10', 3500000),\n",
    "            arrowprops=dict(facecolor='g'))\n",
    "plt.annotate('Отрыв', xy=('2019-08-05', 800000), xytext=('2019-08-05', 2000000),\n",
    "            arrowprops=dict(facecolor='g')) \n",
    "\n",
    "plt.show()"
   ]
  },
  {
   "cell_type": "markdown",
   "metadata": {},
   "source": [
    "График позволяет сказать о том, что группа В \"оторвалась\" от группы А 5-го августа, прибыль достигала 800000, 17 августа при показателях выручки в 2800000 рублей наблюдается резкий отрыв. Полагаю, имеют место аномалии, которые и исказили кривые."
   ]
  },
  {
   "cell_type": "markdown",
   "metadata": {},
   "source": [
    "## 2.2. График кумулятивного среднего чека по группам"
   ]
  },
  {
   "cell_type": "code",
   "execution_count": 33,
   "metadata": {},
   "outputs": [
    {
     "data": {
      "image/png": "[encoded data removed]",
      "text/plain": [
       "<Figure size 1080x720 with 1 Axes>"
      ]
     },
     "metadata": {
      "needs_background": "light"
     },
     "output_type": "display_data"
    }
   ],
   "source": [
    "plt.figure(figsize=(15,10))\n",
    "plt.plot(cumulativeRevenueA['date'], cumulativeRevenueA['revenue']/cumulativeRevenueA['orders'], label='A')\n",
    "plt.plot(cumulativeRevenueB['date'], cumulativeRevenueB['revenue']/cumulativeRevenueB['orders'], label='B')\n",
    "plt.xticks(rotation=45)\n",
    "plt.title('Кумулятивный средний чек по группам')\n",
    "plt.xlabel('Дата')\n",
    "plt.ylabel('Средняя прибыль')\n",
    "plt.legend() \n",
    "plt.annotate('Скачок', xy=('2019-08-18', 7100), xytext=('2019-08-10', 7800),\n",
    "            arrowprops=dict(facecolor='g'))\n",
    "plt.annotate('Скачок', xy=('2019-08-08', 5250), xytext=('2019-08-02', 6500),\n",
    "            arrowprops=dict(facecolor='g')) \n",
    "\n",
    "plt.show()"
   ]
  },
  {
   "cell_type": "markdown",
   "metadata": {},
   "source": [
    "Поведение кривых весьма нестабильно, наблюдаем скачок в группе А 8 августа (прибыль 5250). Что касается группы В - наблюдаем почти вертикальный \"подъем\" 18 августа, чек по группе взлетает до ~10000. Еще один факт, позволяющий считать, что имеет место аномалия"
   ]
  },
  {
   "cell_type": "markdown",
   "metadata": {},
   "source": [
    "# 2.3. Построение графика относительного изменения кумулятивного среднего чека группы B к группе A"
   ]
  },
  {
   "cell_type": "code",
   "execution_count": 34,
   "metadata": {},
   "outputs": [
    {
     "data": {
      "image/png": "[encoded data removed]",
      "text/plain": [
       "<Figure size 1080x720 with 1 Axes>"
      ]
     },
     "metadata": {
      "needs_background": "light"
     },
     "output_type": "display_data"
    }
   ],
   "source": [
    "mergedCumulativeRevenue = cumulativeRevenueA.merge(cumulativeRevenueB, left_on='date', right_on='date', how='left', suffixes=['A', 'B'])\n",
    "\n",
    "plt.figure(figsize=(15,10))\n",
    "plt.plot(mergedCumulativeRevenue['date'], (mergedCumulativeRevenue['revenueB']/mergedCumulativeRevenue['ordersB'])/(mergedCumulativeRevenue['revenueA']/mergedCumulativeRevenue['ordersA'])-1)\n",
    "\n",
    "\n",
    "plt.axhline(y=0, color='red', linestyle='--'); \n",
    "plt.xticks(rotation=45)\n",
    "plt.title('График относительного изменения кумулятивного среднего чека группы B к группе A')\n",
    "plt.xlabel('Дата');\n",
    "plt.ylabel('Относительное изменение среднего чека');"
   ]
  },
  {
   "cell_type": "markdown",
   "metadata": {},
   "source": [
    "Снова наблюдается нестабильность графика. Средний чек мог так прыгать из-за очень большого количества покупок в отдельно взятые дни. Возможно, произошел некий аналог черной пятницы 17 августа и \"бум\" продлился несколько дней, после чего наблюдается спад"
   ]
  },
  {
   "cell_type": "markdown",
   "metadata": {},
   "source": [
    "## 2.4. Построение графика кумулятивной конверсии по группам"
   ]
  },
  {
   "cell_type": "markdown",
   "metadata": {},
   "source": [
    "Прежде, чем строить график стоит отобразить конверсию, как отдельный столбец таблицы - это важный показатель и стоит предоставить его заказчику как \"текстом\", так и на графике."
   ]
  },
  {
   "cell_type": "code",
   "execution_count": 35,
   "metadata": {},
   "outputs": [
    {
     "data": {
      "text/html": [
       "<div>\n",
       "<style scoped>\n",
       "    .dataframe tbody tr th:only-of-type {\n",
       "        vertical-align: middle;\n",
       "    }\n",
       "\n",
       "    .dataframe tbody tr th {\n",
       "        vertical-align: top;\n",
       "    }\n",
       "\n",
       "    .dataframe thead th {\n",
       "        text-align: right;\n",
       "    }\n",
       "</style>\n",
       "<table border=\"1\" class=\"dataframe\">\n",
       "  <thead>\n",
       "    <tr style=\"text-align: right;\">\n",
       "      <th></th>\n",
       "      <th>date</th>\n",
       "      <th>group</th>\n",
       "      <th>orders</th>\n",
       "      <th>buyers</th>\n",
       "      <th>revenue</th>\n",
       "      <th>visitors</th>\n",
       "      <th>conversion</th>\n",
       "    </tr>\n",
       "  </thead>\n",
       "  <tbody>\n",
       "    <tr>\n",
       "      <th>0</th>\n",
       "      <td>2019-08-01</td>\n",
       "      <td>A</td>\n",
       "      <td>24</td>\n",
       "      <td>20</td>\n",
       "      <td>148579</td>\n",
       "      <td>719</td>\n",
       "      <td>3.337969</td>\n",
       "    </tr>\n",
       "    <tr>\n",
       "      <th>1</th>\n",
       "      <td>2019-08-01</td>\n",
       "      <td>B</td>\n",
       "      <td>21</td>\n",
       "      <td>20</td>\n",
       "      <td>101217</td>\n",
       "      <td>713</td>\n",
       "      <td>2.945302</td>\n",
       "    </tr>\n",
       "    <tr>\n",
       "      <th>2</th>\n",
       "      <td>2019-08-02</td>\n",
       "      <td>A</td>\n",
       "      <td>44</td>\n",
       "      <td>38</td>\n",
       "      <td>242401</td>\n",
       "      <td>1338</td>\n",
       "      <td>3.288490</td>\n",
       "    </tr>\n",
       "    <tr>\n",
       "      <th>3</th>\n",
       "      <td>2019-08-02</td>\n",
       "      <td>B</td>\n",
       "      <td>45</td>\n",
       "      <td>43</td>\n",
       "      <td>266748</td>\n",
       "      <td>1294</td>\n",
       "      <td>3.477589</td>\n",
       "    </tr>\n",
       "    <tr>\n",
       "      <th>4</th>\n",
       "      <td>2019-08-03</td>\n",
       "      <td>A</td>\n",
       "      <td>68</td>\n",
       "      <td>62</td>\n",
       "      <td>354874</td>\n",
       "      <td>1845</td>\n",
       "      <td>3.685637</td>\n",
       "    </tr>\n",
       "  </tbody>\n",
       "</table>\n",
       "</div>"
      ],
      "text/plain": [
       "        date group  orders  buyers  revenue  visitors  conversion\n",
       "0 2019-08-01     A      24      20   148579       719    3.337969\n",
       "1 2019-08-01     B      21      20   101217       713    2.945302\n",
       "2 2019-08-02     A      44      38   242401      1338    3.288490\n",
       "3 2019-08-02     B      45      43   266748      1294    3.477589\n",
       "4 2019-08-03     A      68      62   354874      1845    3.685637"
      ]
     },
     "metadata": {},
     "output_type": "display_data"
    }
   ],
   "source": [
    "cumulativeData['conversion'] = (cumulativeData['orders'] / cumulativeData['visitors']) * 100\n",
    "display(cumulativeData.head())"
   ]
  },
  {
   "cell_type": "markdown",
   "metadata": {},
   "source": [
    "Разделим данные по группам:"
   ]
  },
  {
   "cell_type": "code",
   "execution_count": 36,
   "metadata": {},
   "outputs": [],
   "source": [
    "cumulativeDataA = cumulativeData[cumulativeData['group']=='A'] # - А\n",
    " \n",
    "cumulativeDataB = cumulativeData[cumulativeData['group']=='B'] # - B"
   ]
  },
  {
   "cell_type": "code",
   "execution_count": 37,
   "metadata": {},
   "outputs": [
    {
     "data": {
      "image/png": "[encoded data removed]",
      "text/plain": [
       "<Figure size 1080x720 with 1 Axes>"
      ]
     },
     "metadata": {
      "needs_background": "light"
     },
     "output_type": "display_data"
    }
   ],
   "source": [
    "plt.figure(figsize=(15,10))\n",
    "plt.plot(cumulativeDataA['date'], cumulativeDataA['conversion'], label='A')\n",
    "plt.plot(cumulativeDataB['date'], cumulativeDataB['conversion'], label='B')\n",
    "plt.title('График кумулятивной конверсии по группам')\n",
    "plt.xlabel('Дата');\n",
    "plt.ylabel('Конверсия');\n",
    "plt.xticks(rotation=45);\n",
    "plt.legend();"
   ]
  },
  {
   "cell_type": "markdown",
   "metadata": {},
   "source": [
    "Группа А имела хорошую конверсию, но лишь очень короткий интервал времени, затем произошло резкое падение и конверсия держится на уровне чуть более 3%.\n",
    "Группа В имеет более результативную конверсию, тоже имел место спал в начале месяца, но потом группу А \"обогнали с отрывом\""
   ]
  },
  {
   "cell_type": "markdown",
   "metadata": {},
   "source": [
    "## 2.5. Постройте график относительного изменения кумулятивной конверсии группы B к группе A"
   ]
  },
  {
   "cell_type": "markdown",
   "metadata": {},
   "source": [
    "Сперва создадим датафрейм с тремя столбцами с помощью метода merge:"
   ]
  },
  {
   "cell_type": "code",
   "execution_count": 38,
   "metadata": {},
   "outputs": [
    {
     "data": {
      "text/html": [
       "<div>\n",
       "<style scoped>\n",
       "    .dataframe tbody tr th:only-of-type {\n",
       "        vertical-align: middle;\n",
       "    }\n",
       "\n",
       "    .dataframe tbody tr th {\n",
       "        vertical-align: top;\n",
       "    }\n",
       "\n",
       "    .dataframe thead th {\n",
       "        text-align: right;\n",
       "    }\n",
       "</style>\n",
       "<table border=\"1\" class=\"dataframe\">\n",
       "  <thead>\n",
       "    <tr style=\"text-align: right;\">\n",
       "      <th></th>\n",
       "      <th>date</th>\n",
       "      <th>conversionA</th>\n",
       "      <th>conversionB</th>\n",
       "    </tr>\n",
       "  </thead>\n",
       "  <tbody>\n",
       "    <tr>\n",
       "      <th>0</th>\n",
       "      <td>2019-08-01</td>\n",
       "      <td>3.337969</td>\n",
       "      <td>2.945302</td>\n",
       "    </tr>\n",
       "    <tr>\n",
       "      <th>1</th>\n",
       "      <td>2019-08-02</td>\n",
       "      <td>3.288490</td>\n",
       "      <td>3.477589</td>\n",
       "    </tr>\n",
       "    <tr>\n",
       "      <th>2</th>\n",
       "      <td>2019-08-03</td>\n",
       "      <td>3.685637</td>\n",
       "      <td>3.383250</td>\n",
       "    </tr>\n",
       "    <tr>\n",
       "      <th>3</th>\n",
       "      <td>2019-08-04</td>\n",
       "      <td>3.278689</td>\n",
       "      <td>3.031481</td>\n",
       "    </tr>\n",
       "    <tr>\n",
       "      <th>4</th>\n",
       "      <td>2019-08-05</td>\n",
       "      <td>3.285112</td>\n",
       "      <td>3.079268</td>\n",
       "    </tr>\n",
       "  </tbody>\n",
       "</table>\n",
       "</div>"
      ],
      "text/plain": [
       "        date  conversionA  conversionB\n",
       "0 2019-08-01     3.337969     2.945302\n",
       "1 2019-08-02     3.288490     3.477589\n",
       "2 2019-08-03     3.685637     3.383250\n",
       "3 2019-08-04     3.278689     3.031481\n",
       "4 2019-08-05     3.285112     3.079268"
      ]
     },
     "execution_count": 38,
     "metadata": {},
     "output_type": "execute_result"
    }
   ],
   "source": [
    "mergedCumulativeConversions = cumulativeDataA[['date','conversion']].merge(\n",
    "    cumulativeDataB[['date','conversion']], left_on='date', right_on='date', how='left', suffixes=['A', 'B'])\n",
    "\n",
    "mergedCumulativeConversions.head()"
   ]
  },
  {
   "cell_type": "markdown",
   "metadata": {},
   "source": [
    "Теперь построим график c двумя местами: на нуле и на максимальном \"приросте\" графика"
   ]
  },
  {
   "cell_type": "code",
   "execution_count": 39,
   "metadata": {},
   "outputs": [
    {
     "data": {
      "image/png": "[encoded data removed]",
      "text/plain": [
       "<Figure size 1080x720 with 1 Axes>"
      ]
     },
     "metadata": {
      "needs_background": "light"
     },
     "output_type": "display_data"
    }
   ],
   "source": [
    "plt.figure(figsize=(15,10))\n",
    "plt.plot(\n",
    "    mergedCumulativeConversions['date'], \n",
    "    mergedCumulativeConversions['conversionB']/mergedCumulativeConversions['conversionA']-1, \n",
    "    label=\"Относительный прирост конверсии группы B относительно группы A\"\n",
    ")\n",
    "plt.legend()\n",
    "plt.xlabel('Дата')\n",
    "plt.ylabel('Изменение кумулятивной конверсии')\n",
    "\n",
    "plt.xticks(rotation=45)\n",
    "\n",
    "\n",
    "plt.axhline(y=0, color='black', linestyle='--')\n",
    "\n",
    "plt.axhline(y=0.2, color='grey', linestyle='--')\n",
    "\n",
    "plt.show()"
   ]
  },
  {
   "cell_type": "markdown",
   "metadata": {},
   "source": [
    "Видим, что график после не самого продолжительного \"проседания\" в начале продемонстрировал резкий прирост и в дальнем не было сильных \"падений\", то есть, поведение стабильно. Еще одно подтверждение факта, что показатели группы В значительно выше."
   ]
  },
  {
   "cell_type": "markdown",
   "metadata": {},
   "source": [
    "## 2.6. Постройте точечный график количества заказов по пользователям"
   ]
  },
  {
   "cell_type": "markdown",
   "metadata": {},
   "source": [
    "Создадим новую таблицу, где оставим только ID пользователя и количество его заказов. Заодно, сможем определить самых активных клиентов интернет-магазина"
   ]
  },
  {
   "cell_type": "code",
   "execution_count": 40,
   "metadata": {},
   "outputs": [
    {
     "data": {
      "text/html": [
       "<div>\n",
       "<style scoped>\n",
       "    .dataframe tbody tr th:only-of-type {\n",
       "        vertical-align: middle;\n",
       "    }\n",
       "\n",
       "    .dataframe tbody tr th {\n",
       "        vertical-align: top;\n",
       "    }\n",
       "\n",
       "    .dataframe thead th {\n",
       "        text-align: right;\n",
       "    }\n",
       "</style>\n",
       "<table border=\"1\" class=\"dataframe\">\n",
       "  <thead>\n",
       "    <tr style=\"text-align: right;\">\n",
       "      <th></th>\n",
       "      <th>visitorid</th>\n",
       "      <th>orders</th>\n",
       "    </tr>\n",
       "  </thead>\n",
       "  <tbody>\n",
       "    <tr>\n",
       "      <th>1023</th>\n",
       "      <td>4256040402</td>\n",
       "      <td>11</td>\n",
       "    </tr>\n",
       "    <tr>\n",
       "      <th>591</th>\n",
       "      <td>2458001652</td>\n",
       "      <td>11</td>\n",
       "    </tr>\n",
       "    <tr>\n",
       "      <th>569</th>\n",
       "      <td>2378935119</td>\n",
       "      <td>9</td>\n",
       "    </tr>\n",
       "    <tr>\n",
       "      <th>487</th>\n",
       "      <td>2038680547</td>\n",
       "      <td>8</td>\n",
       "    </tr>\n",
       "    <tr>\n",
       "      <th>44</th>\n",
       "      <td>199603092</td>\n",
       "      <td>5</td>\n",
       "    </tr>\n",
       "  </tbody>\n",
       "</table>\n",
       "</div>"
      ],
      "text/plain": [
       "       visitorid  orders\n",
       "1023  4256040402      11\n",
       "591   2458001652      11\n",
       "569   2378935119       9\n",
       "487   2038680547       8\n",
       "44     199603092       5"
      ]
     },
     "execution_count": 40,
     "metadata": {},
     "output_type": "execute_result"
    }
   ],
   "source": [
    "ordersByUsers = orders.drop(['group', 'revenue', 'date'], axis=1).groupby('visitor_id', as_index=False).agg({'transaction_id' : pd.Series.nunique})\n",
    "\n",
    "ordersByUsers.columns = ['visitorid','orders']\n",
    "\n",
    "ordersByUsers.sort_values(by='orders',ascending=False).head()"
   ]
  },
  {
   "cell_type": "code",
   "execution_count": 41,
   "metadata": {},
   "outputs": [
    {
     "data": {
      "text/plain": [
       "1     937\n",
       "2      64\n",
       "3      17\n",
       "5       6\n",
       "4       3\n",
       "11      2\n",
       "8       1\n",
       "9       1\n",
       "Name: orders, dtype: int64"
      ]
     },
     "execution_count": 41,
     "metadata": {},
     "output_type": "execute_result"
    }
   ],
   "source": [
    "ordersByUsers['orders'].value_counts()"
   ]
  },
  {
   "cell_type": "markdown",
   "metadata": {},
   "source": [
    "Видим, что в подавляющем большинстве пользователи делают один заказ, 2-3 заказа тоже встречаются, но дальше - исключение, а не тенденция."
   ]
  },
  {
   "cell_type": "code",
   "execution_count": 42,
   "metadata": {},
   "outputs": [
    {
     "data": {
      "image/png": "[encoded data removed]",
      "text/plain": [
       "<Figure size 1080x720 with 1 Axes>"
      ]
     },
     "metadata": {
      "needs_background": "light"
     },
     "output_type": "display_data"
    }
   ],
   "source": [
    "plt.figure(figsize=(15,10))\n",
    "plt.hist(ordersByUsers['orders']);\n",
    "plt.title('Количество заказов каждого пользователя интернет-магазина')\n",
    "plt.xlabel('Заказы');\n",
    "plt.ylabel('Пользователи');"
   ]
  },
  {
   "cell_type": "markdown",
   "metadata": {},
   "source": [
    "\"Поведение\" гистограммы подтверждает вывод, сделанный на прошлом шаге. Посмотрим, что нам скажет точечная диаграмма:"
   ]
  },
  {
   "cell_type": "code",
   "execution_count": 43,
   "metadata": {},
   "outputs": [
    {
     "data": {
      "image/png": "[encoded data removed]",
      "text/plain": [
       "<Figure size 1080x720 with 1 Axes>"
      ]
     },
     "metadata": {
      "needs_background": "light"
     },
     "output_type": "display_data"
    }
   ],
   "source": [
    "x_values = pd.Series(range(0,len(ordersByUsers)))\n",
    "\n",
    "plt.figure(figsize=(15,10))\n",
    "plt.scatter(x_values, ordersByUsers['orders']); \n",
    "plt.title('Точечная диаграмма числа заказов на одного пользователя')\n",
    "plt.ylabel('Количество заказов');"
   ]
  },
  {
   "cell_type": "markdown",
   "metadata": {},
   "source": [
    "График показывает, что все-таки есть клиенты, которые совершают 2-5 заказов и это не единичные случаи, в отличии от совершивших 8-11 заказов. Склоняюсь считать аномалиями все, что выше 5-и заказов."
   ]
  },
  {
   "cell_type": "markdown",
   "metadata": {},
   "source": [
    "## 2.7. Расчет 95-го и 99-го перцентиля количества заказов на пользователя"
   ]
  },
  {
   "cell_type": "markdown",
   "metadata": {},
   "source": [
    "Посмотрим перцентили количества заказов"
   ]
  },
  {
   "cell_type": "code",
   "execution_count": 44,
   "metadata": {},
   "outputs": [
    {
     "name": "stdout",
     "output_type": "stream",
     "text": [
      "[2. 2. 2. 3. 4.]\n"
     ]
    }
   ],
   "source": [
    "print(np.percentile(ordersByUsers['orders'], [95,96,97,98,99]))"
   ]
  },
  {
   "cell_type": "markdown",
   "metadata": {},
   "source": [
    "Видим, что 4 заказа оформляет лишь 1% клиентов, а 3 заказа - всего 2%. Стоит несколько поменять свою оценку насчет аномалий и отсеивать количество заказов, превышающее 3"
   ]
  },
  {
   "cell_type": "markdown",
   "metadata": {},
   "source": [
    "## 2.8. Построение точечного графика стоимостей заказов"
   ]
  },
  {
   "cell_type": "code",
   "execution_count": 45,
   "metadata": {},
   "outputs": [
    {
     "data": {
      "text/html": [
       "<div>\n",
       "<style scoped>\n",
       "    .dataframe tbody tr th:only-of-type {\n",
       "        vertical-align: middle;\n",
       "    }\n",
       "\n",
       "    .dataframe tbody tr th {\n",
       "        vertical-align: top;\n",
       "    }\n",
       "\n",
       "    .dataframe thead th {\n",
       "        text-align: right;\n",
       "    }\n",
       "</style>\n",
       "<table border=\"1\" class=\"dataframe\">\n",
       "  <thead>\n",
       "    <tr style=\"text-align: right;\">\n",
       "      <th></th>\n",
       "      <th>visitorid</th>\n",
       "      <th>revenue</th>\n",
       "    </tr>\n",
       "  </thead>\n",
       "  <tbody>\n",
       "    <tr>\n",
       "      <th>463</th>\n",
       "      <td>1920142716</td>\n",
       "      <td>1294500</td>\n",
       "    </tr>\n",
       "    <tr>\n",
       "      <th>503</th>\n",
       "      <td>2108080724</td>\n",
       "      <td>202740</td>\n",
       "    </tr>\n",
       "    <tr>\n",
       "      <th>1023</th>\n",
       "      <td>4256040402</td>\n",
       "      <td>176490</td>\n",
       "    </tr>\n",
       "    <tr>\n",
       "      <th>1026</th>\n",
       "      <td>4266935830</td>\n",
       "      <td>157980</td>\n",
       "    </tr>\n",
       "    <tr>\n",
       "      <th>569</th>\n",
       "      <td>2378935119</td>\n",
       "      <td>142939</td>\n",
       "    </tr>\n",
       "    <tr>\n",
       "      <th>316</th>\n",
       "      <td>1316129916</td>\n",
       "      <td>94770</td>\n",
       "    </tr>\n",
       "    <tr>\n",
       "      <th>314</th>\n",
       "      <td>1307669133</td>\n",
       "      <td>92550</td>\n",
       "    </tr>\n",
       "    <tr>\n",
       "      <th>213</th>\n",
       "      <td>888512513</td>\n",
       "      <td>86620</td>\n",
       "    </tr>\n",
       "    <tr>\n",
       "      <th>744</th>\n",
       "      <td>3062433592</td>\n",
       "      <td>75459</td>\n",
       "    </tr>\n",
       "    <tr>\n",
       "      <th>186</th>\n",
       "      <td>759473111</td>\n",
       "      <td>72000</td>\n",
       "    </tr>\n",
       "  </tbody>\n",
       "</table>\n",
       "</div>"
      ],
      "text/plain": [
       "       visitorid  revenue\n",
       "463   1920142716  1294500\n",
       "503   2108080724   202740\n",
       "1023  4256040402   176490\n",
       "1026  4266935830   157980\n",
       "569   2378935119   142939\n",
       "316   1316129916    94770\n",
       "314   1307669133    92550\n",
       "213    888512513    86620\n",
       "744   3062433592    75459\n",
       "186    759473111    72000"
      ]
     },
     "execution_count": 45,
     "metadata": {},
     "output_type": "execute_result"
    }
   ],
   "source": [
    "revenueByUsers = orders.drop(['group', 'date'], axis=1).groupby('visitor_id', as_index=False).agg({'revenue' : 'sum'})\n",
    "revenueByUsers.columns = ['visitorid','revenue']\n",
    "revenueByUsers.sort_values(by='revenue',ascending=False).head(10)"
   ]
  },
  {
   "cell_type": "code",
   "execution_count": 46,
   "metadata": {},
   "outputs": [
    {
     "data": {
      "image/png": "[encoded data removed]",
      "text/plain": [
       "<Figure size 1080x720 with 1 Axes>"
      ]
     },
     "metadata": {
      "needs_background": "light"
     },
     "output_type": "display_data"
    }
   ],
   "source": [
    "rev_values = pd.Series(range(0,len(revenueByUsers)))\n",
    "\n",
    "plt.figure(figsize=(15,10))\n",
    "plt.scatter(rev_values, revenueByUsers['revenue'], alpha = 0.7); \n",
    "\n",
    "plt.title('Точечный график стоимостей заказов')\n",
    "plt.ylabel('Прибыль с заказа');"
   ]
  },
  {
   "cell_type": "markdown",
   "metadata": {},
   "source": [
    "Есть одна сделка на сумму 1294500. Это здорово, что магазин смог реализовать такую сделку, но стабильности в таких значениях точно нет. Посмотрим, как будет выглядеть график, где диапазон прибыли составит 200000, т.е. следующие значения за описанной сверхприбыльной продажей"
   ]
  },
  {
   "cell_type": "code",
   "execution_count": 47,
   "metadata": {},
   "outputs": [
    {
     "data": {
      "image/png": "[encoded data removed]",
      "text/plain": [
       "<Figure size 1080x720 with 1 Axes>"
      ]
     },
     "metadata": {
      "needs_background": "light"
     },
     "output_type": "display_data"
    }
   ],
   "source": [
    "plt.figure(figsize=(15,10))\n",
    "plt.scatter(rev_values, revenueByUsers['revenue'], alpha = 0.7); \n",
    "plt.ylim(0,200000) \n",
    "plt.title('Точечный график стоимостей заказов')\n",
    "plt.ylabel('Прибыль с заказа');"
   ]
  },
  {
   "cell_type": "markdown",
   "metadata": {},
   "source": [
    "Стало детальнее, но все-таки тоже не совсем информативно. Ограничим до 100000"
   ]
  },
  {
   "cell_type": "code",
   "execution_count": 48,
   "metadata": {},
   "outputs": [
    {
     "data": {
      "image/png": "[encoded data removed]",
      "text/plain": [
       "<Figure size 1080x720 with 1 Axes>"
      ]
     },
     "metadata": {
      "needs_background": "light"
     },
     "output_type": "display_data"
    }
   ],
   "source": [
    "plt.figure(figsize=(15,10))\n",
    "plt.scatter(rev_values, revenueByUsers['revenue'], alpha = 0.7); \n",
    "plt.ylim(0,100000) \n",
    "plt.title('Точечный график стоимостей заказов')\n",
    "plt.ylabel('Прибыль с заказа');"
   ]
  },
  {
   "cell_type": "markdown",
   "metadata": {},
   "source": [
    "График показывает, что подавляющее большинство продаж укладывается в 10000. Покупки в диапазоне до 20000 тоже не редки, От 20000 до 40000 также встречаются, но все что выше 40000 - нечто из ряда вон выходящее"
   ]
  },
  {
   "cell_type": "markdown",
   "metadata": {},
   "source": [
    "## 2.9. Расчет 95-го и 99-го перцентиля стоимости заказов"
   ]
  },
  {
   "cell_type": "code",
   "execution_count": 49,
   "metadata": {},
   "outputs": [
    {
     "name": "stdout",
     "output_type": "stream",
     "text": [
      "[28000.  58233.2]\n"
     ]
    }
   ],
   "source": [
    "print(np.percentile(orders['revenue'], [95, 99]))"
   ]
  },
  {
   "cell_type": "markdown",
   "metadata": {},
   "source": [
    "Среди всех клиентов интернет-магазина лишь 5% покупают на сумму 28000, а 58233 - это чек лишь одного процента аудитории. "
   ]
  },
  {
   "cell_type": "code",
   "execution_count": 50,
   "metadata": {},
   "outputs": [
    {
     "name": "stdout",
     "output_type": "stream",
     "text": [
      "[32899.5 35809.  43717.  53904.  67750. ]\n"
     ]
    }
   ],
   "source": [
    "print(np.percentile(revenueByUsers['revenue'], [95,96,97,98,99]))"
   ]
  },
  {
   "cell_type": "markdown",
   "metadata": {},
   "source": [
    "Лишь 3 процента клиентов \"набирают\" на сумму более 35000, думаю, если отказаться от этих данных, картина радикально не поменяется"
   ]
  },
  {
   "cell_type": "markdown",
   "metadata": {},
   "source": [
    "## 2.10. Расчет статистической значимости различий в конверсии между группами по «сырым» данным"
   ]
  },
  {
   "cell_type": "markdown",
   "metadata": {},
   "source": [
    "Прежде, чем осуществлять расчет необходимо определиться с однозначной трактовкой гипотез:\n",
    "- нулевая гипотеза: равенство конверсии групп\n",
    "- альтернативная гипотеза: конверсии групп не равны"
   ]
  },
  {
   "cell_type": "markdown",
   "metadata": {},
   "source": [
    "Добавим информацию о ежедневных посещениях, а также, о кумулятивном количестве посещений"
   ]
  },
  {
   "cell_type": "code",
   "execution_count": 51,
   "metadata": {},
   "outputs": [
    {
     "data": {
      "text/html": [
       "<div>\n",
       "<style scoped>\n",
       "    .dataframe tbody tr th:only-of-type {\n",
       "        vertical-align: middle;\n",
       "    }\n",
       "\n",
       "    .dataframe tbody tr th {\n",
       "        vertical-align: top;\n",
       "    }\n",
       "\n",
       "    .dataframe thead th {\n",
       "        text-align: right;\n",
       "    }\n",
       "</style>\n",
       "<table border=\"1\" class=\"dataframe\">\n",
       "  <thead>\n",
       "    <tr style=\"text-align: right;\">\n",
       "      <th></th>\n",
       "      <th>date</th>\n",
       "      <th>visitorsPerDateA</th>\n",
       "    </tr>\n",
       "  </thead>\n",
       "  <tbody>\n",
       "    <tr>\n",
       "      <th>0</th>\n",
       "      <td>2019-08-01</td>\n",
       "      <td>719</td>\n",
       "    </tr>\n",
       "    <tr>\n",
       "      <th>1</th>\n",
       "      <td>2019-08-02</td>\n",
       "      <td>619</td>\n",
       "    </tr>\n",
       "    <tr>\n",
       "      <th>2</th>\n",
       "      <td>2019-08-03</td>\n",
       "      <td>507</td>\n",
       "    </tr>\n",
       "    <tr>\n",
       "      <th>3</th>\n",
       "      <td>2019-08-04</td>\n",
       "      <td>717</td>\n",
       "    </tr>\n",
       "    <tr>\n",
       "      <th>4</th>\n",
       "      <td>2019-08-05</td>\n",
       "      <td>756</td>\n",
       "    </tr>\n",
       "  </tbody>\n",
       "</table>\n",
       "</div>"
      ],
      "text/plain": [
       "        date  visitorsPerDateA\n",
       "0 2019-08-01               719\n",
       "1 2019-08-02               619\n",
       "2 2019-08-03               507\n",
       "3 2019-08-04               717\n",
       "4 2019-08-05               756"
      ]
     },
     "execution_count": 51,
     "metadata": {},
     "output_type": "execute_result"
    }
   ],
   "source": [
    "visitorsADaily = visitors[visitors['group'] == 'A'][['date', 'visitors']] #получим данные по группе А\n",
    "visitorsADaily.columns = ['date', 'visitorsPerDateA']\n",
    "visitorsADaily.head()"
   ]
  },
  {
   "cell_type": "code",
   "execution_count": 52,
   "metadata": {},
   "outputs": [
    {
     "data": {
      "text/html": [
       "<div>\n",
       "<style scoped>\n",
       "    .dataframe tbody tr th:only-of-type {\n",
       "        vertical-align: middle;\n",
       "    }\n",
       "\n",
       "    .dataframe tbody tr th {\n",
       "        vertical-align: top;\n",
       "    }\n",
       "\n",
       "    .dataframe thead th {\n",
       "        text-align: right;\n",
       "    }\n",
       "</style>\n",
       "<table border=\"1\" class=\"dataframe\">\n",
       "  <thead>\n",
       "    <tr style=\"text-align: right;\">\n",
       "      <th></th>\n",
       "      <th>date</th>\n",
       "      <th>visitorsCummulativeA</th>\n",
       "    </tr>\n",
       "  </thead>\n",
       "  <tbody>\n",
       "    <tr>\n",
       "      <th>0</th>\n",
       "      <td>2019-08-01</td>\n",
       "      <td>719</td>\n",
       "    </tr>\n",
       "    <tr>\n",
       "      <th>1</th>\n",
       "      <td>2019-08-02</td>\n",
       "      <td>1338</td>\n",
       "    </tr>\n",
       "    <tr>\n",
       "      <th>2</th>\n",
       "      <td>2019-08-03</td>\n",
       "      <td>1845</td>\n",
       "    </tr>\n",
       "    <tr>\n",
       "      <th>3</th>\n",
       "      <td>2019-08-04</td>\n",
       "      <td>2562</td>\n",
       "    </tr>\n",
       "    <tr>\n",
       "      <th>4</th>\n",
       "      <td>2019-08-05</td>\n",
       "      <td>3318</td>\n",
       "    </tr>\n",
       "  </tbody>\n",
       "</table>\n",
       "</div>"
      ],
      "text/plain": [
       "        date  visitorsCummulativeA\n",
       "0 2019-08-01                   719\n",
       "1 2019-08-02                  1338\n",
       "2 2019-08-03                  1845\n",
       "3 2019-08-04                  2562\n",
       "4 2019-08-05                  3318"
      ]
     },
     "execution_count": 52,
     "metadata": {},
     "output_type": "execute_result"
    }
   ],
   "source": [
    "visitorsACummulative = visitorsADaily.apply(\n",
    "    lambda x: visitorsADaily[visitorsADaily['date'] <= x['date']].agg(\n",
    "        {'date': 'max', 'visitorsPerDateA': 'sum'}\n",
    "    ),\n",
    "    axis=1,\n",
    ")\n",
    "visitorsACummulative.columns = ['date', 'visitorsCummulativeA']\n",
    "visitorsACummulative.head()"
   ]
  },
  {
   "cell_type": "code",
   "execution_count": 53,
   "metadata": {},
   "outputs": [
    {
     "data": {
      "text/html": [
       "<div>\n",
       "<style scoped>\n",
       "    .dataframe tbody tr th:only-of-type {\n",
       "        vertical-align: middle;\n",
       "    }\n",
       "\n",
       "    .dataframe tbody tr th {\n",
       "        vertical-align: top;\n",
       "    }\n",
       "\n",
       "    .dataframe thead th {\n",
       "        text-align: right;\n",
       "    }\n",
       "</style>\n",
       "<table border=\"1\" class=\"dataframe\">\n",
       "  <thead>\n",
       "    <tr style=\"text-align: right;\">\n",
       "      <th></th>\n",
       "      <th>date</th>\n",
       "      <th>visitorsPerDateB</th>\n",
       "    </tr>\n",
       "  </thead>\n",
       "  <tbody>\n",
       "    <tr>\n",
       "      <th>31</th>\n",
       "      <td>2019-08-01</td>\n",
       "      <td>713</td>\n",
       "    </tr>\n",
       "    <tr>\n",
       "      <th>32</th>\n",
       "      <td>2019-08-02</td>\n",
       "      <td>581</td>\n",
       "    </tr>\n",
       "    <tr>\n",
       "      <th>33</th>\n",
       "      <td>2019-08-03</td>\n",
       "      <td>509</td>\n",
       "    </tr>\n",
       "    <tr>\n",
       "      <th>34</th>\n",
       "      <td>2019-08-04</td>\n",
       "      <td>770</td>\n",
       "    </tr>\n",
       "    <tr>\n",
       "      <th>35</th>\n",
       "      <td>2019-08-05</td>\n",
       "      <td>707</td>\n",
       "    </tr>\n",
       "  </tbody>\n",
       "</table>\n",
       "</div>"
      ],
      "text/plain": [
       "         date  visitorsPerDateB\n",
       "31 2019-08-01               713\n",
       "32 2019-08-02               581\n",
       "33 2019-08-03               509\n",
       "34 2019-08-04               770\n",
       "35 2019-08-05               707"
      ]
     },
     "execution_count": 53,
     "metadata": {},
     "output_type": "execute_result"
    }
   ],
   "source": [
    "visitorsBDaily = visitors[visitors['group'] == 'B'][['date', 'visitors']] #получим данные по группе В\n",
    "visitorsBDaily.columns = ['date', 'visitorsPerDateB']\n",
    "visitorsBDaily.head()"
   ]
  },
  {
   "cell_type": "code",
   "execution_count": 54,
   "metadata": {},
   "outputs": [
    {
     "data": {
      "text/html": [
       "<div>\n",
       "<style scoped>\n",
       "    .dataframe tbody tr th:only-of-type {\n",
       "        vertical-align: middle;\n",
       "    }\n",
       "\n",
       "    .dataframe tbody tr th {\n",
       "        vertical-align: top;\n",
       "    }\n",
       "\n",
       "    .dataframe thead th {\n",
       "        text-align: right;\n",
       "    }\n",
       "</style>\n",
       "<table border=\"1\" class=\"dataframe\">\n",
       "  <thead>\n",
       "    <tr style=\"text-align: right;\">\n",
       "      <th></th>\n",
       "      <th>date</th>\n",
       "      <th>visitorsCummulativeB</th>\n",
       "    </tr>\n",
       "  </thead>\n",
       "  <tbody>\n",
       "    <tr>\n",
       "      <th>31</th>\n",
       "      <td>2019-08-01</td>\n",
       "      <td>713</td>\n",
       "    </tr>\n",
       "    <tr>\n",
       "      <th>32</th>\n",
       "      <td>2019-08-02</td>\n",
       "      <td>1294</td>\n",
       "    </tr>\n",
       "    <tr>\n",
       "      <th>33</th>\n",
       "      <td>2019-08-03</td>\n",
       "      <td>1803</td>\n",
       "    </tr>\n",
       "    <tr>\n",
       "      <th>34</th>\n",
       "      <td>2019-08-04</td>\n",
       "      <td>2573</td>\n",
       "    </tr>\n",
       "    <tr>\n",
       "      <th>35</th>\n",
       "      <td>2019-08-05</td>\n",
       "      <td>3280</td>\n",
       "    </tr>\n",
       "  </tbody>\n",
       "</table>\n",
       "</div>"
      ],
      "text/plain": [
       "         date  visitorsCummulativeB\n",
       "31 2019-08-01                   713\n",
       "32 2019-08-02                  1294\n",
       "33 2019-08-03                  1803\n",
       "34 2019-08-04                  2573\n",
       "35 2019-08-05                  3280"
      ]
     },
     "execution_count": 54,
     "metadata": {},
     "output_type": "execute_result"
    }
   ],
   "source": [
    "visitorsBCummulative = visitorsBDaily.apply(\n",
    "    lambda x: visitorsBDaily[visitorsBDaily['date'] <= x['date']].agg(\n",
    "        {'date': 'max', 'visitorsPerDateB': 'sum'}\n",
    "    ),\n",
    "    axis=1,\n",
    ")\n",
    "visitorsBCummulative.columns = ['date', 'visitorsCummulativeB']\n",
    "visitorsBCummulative.head()"
   ]
  },
  {
   "cell_type": "code",
   "execution_count": 55,
   "metadata": {},
   "outputs": [],
   "source": [
    "ordersADaily = orders[orders['group']=='A'][['date', 'transaction_id', 'visitor_id', 'revenue']]\\\n",
    "    .groupby('date', as_index=False)\\\n",
    "    .agg({'transaction_id' : pd.Series.nunique, 'revenue' : 'sum'})\n",
    "ordersADaily.columns = ['date', 'ordersPerDateA', 'revenuePerDateA']\n",
    "\n",
    "ordersACummulative = ordersADaily.apply(\n",
    "    lambda x: \\\n",
    "        ordersADaily[ordersADaily['date'] <= x['date']]\\\n",
    "            .agg({\n",
    "                'date' : 'max',\n",
    "                'ordersPerDateA' : 'sum',\n",
    "                'revenuePerDateA' : 'sum'}), axis=1).sort_values(by=['date'])\n",
    "ordersACummulative.columns = ['date', 'ordersCummulativeA', 'revenueCummulativeA']\n",
    "\n",
    "ordersBDaily = orders[orders['group']=='B'][['date', 'transaction_id', 'visitor_id', 'revenue']]\\\n",
    "    .groupby('date', as_index=False)\\\n",
    "    .agg({'transaction_id' : pd.Series.nunique, 'revenue' : 'sum'})\n",
    "ordersBDaily.columns = ['date', 'ordersPerDateB', 'revenuePerDateB']\n",
    "\n",
    "ordersBCummulative = ordersBDaily.apply(\n",
    "    lambda x: \\\n",
    "        ordersBDaily[ordersBDaily['date'] <= x['date']]\\\n",
    "            .agg({\n",
    "                'date' : 'max',\n",
    "                'ordersPerDateB' : 'sum',\n",
    "                'revenuePerDateB' : 'sum'}), axis=1).sort_values(by=['date'])\n",
    "ordersBCummulative.columns = ['date', 'ordersCummulativeB', 'revenueCummulativeB']"
   ]
  },
  {
   "cell_type": "code",
   "execution_count": 56,
   "metadata": {},
   "outputs": [
    {
     "data": {
      "text/html": [
       "<div>\n",
       "<style scoped>\n",
       "    .dataframe tbody tr th:only-of-type {\n",
       "        vertical-align: middle;\n",
       "    }\n",
       "\n",
       "    .dataframe tbody tr th {\n",
       "        vertical-align: top;\n",
       "    }\n",
       "\n",
       "    .dataframe thead th {\n",
       "        text-align: right;\n",
       "    }\n",
       "</style>\n",
       "<table border=\"1\" class=\"dataframe\">\n",
       "  <thead>\n",
       "    <tr style=\"text-align: right;\">\n",
       "      <th></th>\n",
       "      <th>date</th>\n",
       "      <th>ordersPerDateA</th>\n",
       "      <th>revenuePerDateA</th>\n",
       "      <th>ordersPerDateB</th>\n",
       "      <th>revenuePerDateB</th>\n",
       "      <th>ordersCummulativeA</th>\n",
       "      <th>revenueCummulativeA</th>\n",
       "      <th>ordersCummulativeB</th>\n",
       "      <th>revenueCummulativeB</th>\n",
       "      <th>visitorsPerDateA</th>\n",
       "      <th>visitorsPerDateB</th>\n",
       "      <th>visitorsCummulativeA</th>\n",
       "      <th>visitorsCummulativeB</th>\n",
       "    </tr>\n",
       "  </thead>\n",
       "  <tbody>\n",
       "    <tr>\n",
       "      <th>0</th>\n",
       "      <td>2019-08-01</td>\n",
       "      <td>24</td>\n",
       "      <td>148579</td>\n",
       "      <td>21</td>\n",
       "      <td>101217</td>\n",
       "      <td>24</td>\n",
       "      <td>148579</td>\n",
       "      <td>21</td>\n",
       "      <td>101217</td>\n",
       "      <td>719</td>\n",
       "      <td>713</td>\n",
       "      <td>719</td>\n",
       "      <td>713</td>\n",
       "    </tr>\n",
       "    <tr>\n",
       "      <th>1</th>\n",
       "      <td>2019-08-02</td>\n",
       "      <td>20</td>\n",
       "      <td>93822</td>\n",
       "      <td>24</td>\n",
       "      <td>165531</td>\n",
       "      <td>44</td>\n",
       "      <td>242401</td>\n",
       "      <td>45</td>\n",
       "      <td>266748</td>\n",
       "      <td>619</td>\n",
       "      <td>581</td>\n",
       "      <td>1338</td>\n",
       "      <td>1294</td>\n",
       "    </tr>\n",
       "    <tr>\n",
       "      <th>2</th>\n",
       "      <td>2019-08-03</td>\n",
       "      <td>24</td>\n",
       "      <td>112473</td>\n",
       "      <td>16</td>\n",
       "      <td>114248</td>\n",
       "      <td>68</td>\n",
       "      <td>354874</td>\n",
       "      <td>61</td>\n",
       "      <td>380996</td>\n",
       "      <td>507</td>\n",
       "      <td>509</td>\n",
       "      <td>1845</td>\n",
       "      <td>1803</td>\n",
       "    </tr>\n",
       "    <tr>\n",
       "      <th>3</th>\n",
       "      <td>2019-08-04</td>\n",
       "      <td>16</td>\n",
       "      <td>70825</td>\n",
       "      <td>17</td>\n",
       "      <td>108571</td>\n",
       "      <td>84</td>\n",
       "      <td>425699</td>\n",
       "      <td>78</td>\n",
       "      <td>489567</td>\n",
       "      <td>717</td>\n",
       "      <td>770</td>\n",
       "      <td>2562</td>\n",
       "      <td>2573</td>\n",
       "    </tr>\n",
       "    <tr>\n",
       "      <th>4</th>\n",
       "      <td>2019-08-05</td>\n",
       "      <td>25</td>\n",
       "      <td>124218</td>\n",
       "      <td>23</td>\n",
       "      <td>92428</td>\n",
       "      <td>109</td>\n",
       "      <td>549917</td>\n",
       "      <td>101</td>\n",
       "      <td>581995</td>\n",
       "      <td>756</td>\n",
       "      <td>707</td>\n",
       "      <td>3318</td>\n",
       "      <td>3280</td>\n",
       "    </tr>\n",
       "  </tbody>\n",
       "</table>\n",
       "</div>"
      ],
      "text/plain": [
       "        date  ordersPerDateA  revenuePerDateA  ordersPerDateB  \\\n",
       "0 2019-08-01              24           148579              21   \n",
       "1 2019-08-02              20            93822              24   \n",
       "2 2019-08-03              24           112473              16   \n",
       "3 2019-08-04              16            70825              17   \n",
       "4 2019-08-05              25           124218              23   \n",
       "\n",
       "   revenuePerDateB  ordersCummulativeA  revenueCummulativeA  \\\n",
       "0           101217                  24               148579   \n",
       "1           165531                  44               242401   \n",
       "2           114248                  68               354874   \n",
       "3           108571                  84               425699   \n",
       "4            92428                 109               549917   \n",
       "\n",
       "   ordersCummulativeB  revenueCummulativeB  visitorsPerDateA  \\\n",
       "0                  21               101217               719   \n",
       "1                  45               266748               619   \n",
       "2                  61               380996               507   \n",
       "3                  78               489567               717   \n",
       "4                 101               581995               756   \n",
       "\n",
       "   visitorsPerDateB  visitorsCummulativeA  visitorsCummulativeB  \n",
       "0               713                   719                   713  \n",
       "1               581                  1338                  1294  \n",
       "2               509                  1845                  1803  \n",
       "3               770                  2562                  2573  \n",
       "4               707                  3318                  3280  "
      ]
     },
     "execution_count": 56,
     "metadata": {},
     "output_type": "execute_result"
    }
   ],
   "source": [
    "data = ordersADaily.merge(ordersBDaily, left_on='date', right_on='date', how='left')\\\n",
    "    .merge(ordersACummulative, left_on='date', right_on='date', how='left')\\\n",
    "    .merge(ordersBCummulative, left_on='date', right_on='date', how='left')\\\n",
    "    .merge(visitorsADaily, left_on='date', right_on='date', how='left')\\\n",
    "    .merge(visitorsBDaily, left_on='date', right_on='date', how='left')\\\n",
    "    .merge(visitorsACummulative, left_on='date', right_on='date', how='left')\\\n",
    "    .merge(visitorsBCummulative, left_on='date', right_on='date', how='left')\n",
    "data.head()"
   ]
  },
  {
   "cell_type": "markdown",
   "metadata": {},
   "source": [
    "Установим статистическую разницу конверсии между группами:"
   ]
  },
  {
   "cell_type": "markdown",
   "metadata": {},
   "source": [
    "Создаем новые датафреймы, где у пользователей, когда-либо осуществлявших заказы будет указано количество выполненных заказов"
   ]
  },
  {
   "cell_type": "code",
   "execution_count": 57,
   "metadata": {},
   "outputs": [],
   "source": [
    "ordersByUsersA = orders[orders['group']=='A'].groupby('visitor_id', as_index=False).agg({'transaction_id' : pd.Series.nunique})\n",
    "ordersByUsersA.columns = ['visitor_id', 'orders']\n",
    "\n",
    "ordersByUsersB = orders[orders['group']=='B'].groupby('visitor_id', as_index=False).agg({'transaction_id' : pd.Series.nunique})\n",
    "ordersByUsersB.columns = ['visitor_id', 'orders']"
   ]
  },
  {
   "cell_type": "markdown",
   "metadata": {},
   "source": [
    "Объявим переменные sampleA и sampleB, в которых пользователям из разных групп будет соответствовать количество заказов. Тем, кто ничего не заказал, будут соответствовать нули."
   ]
  },
  {
   "cell_type": "code",
   "execution_count": 58,
   "metadata": {},
   "outputs": [],
   "source": [
    "sampleA = pd.concat([ordersByUsersA['orders'],pd.Series(0, index=np.arange(data['visitorsPerDateA'].sum() - len(ordersByUsersA['orders'])), name='orders')],axis=0)\n",
    "\n",
    "sampleB = pd.concat([ordersByUsersB['orders'],pd.Series(0, index=np.arange(data['visitorsPerDateB'].sum() - len(ordersByUsersB['orders'])), name='orders')],axis=0)"
   ]
  },
  {
   "cell_type": "markdown",
   "metadata": {},
   "source": [
    "С помощью критерия Манна-Уитни установим, какая из ранее выдвинутых гипотез может быть отвергнута:"
   ]
  },
  {
   "cell_type": "code",
   "execution_count": 59,
   "metadata": {},
   "outputs": [
    {
     "name": "stdout",
     "output_type": "stream",
     "text": [
      "p-value по конверсии сырых данных: 0.01679\n"
     ]
    }
   ],
   "source": [
    "p_value_conversion=st.mannwhitneyu(sampleA, sampleB)[1]\n",
    "print(\"p-value по конверсии сырых данных: {0:.5f}\".format(p_value_conversion))"
   ]
  },
  {
   "cell_type": "code",
   "execution_count": 60,
   "metadata": {},
   "outputs": [
    {
     "name": "stdout",
     "output_type": "stream",
     "text": [
      "Относительный прирост конверсии группы B: 0.138\n"
     ]
    }
   ],
   "source": [
    "increase_conversion = data['ordersPerDateB'].sum()/data['visitorsPerDateB'].sum()/(data['ordersPerDateA'].sum()/data['visitorsPerDateA'].sum())-1\n",
    "print(\"Относительный прирост конверсии группы B: {0:.3f}\".format(increase_conversion))"
   ]
  },
  {
   "cell_type": "code",
   "execution_count": 61,
   "metadata": {},
   "outputs": [
    {
     "name": "stdout",
     "output_type": "stream",
     "text": [
      "Отвергаем нулевую гипотезу\n"
     ]
    }
   ],
   "source": [
    "alpha = 0.05\n",
    "\n",
    "if (p_value_conversion < alpha):\n",
    "    print(\"Отвергаем нулевую гипотезу\")\n",
    "else:\n",
    "    print(\"Не получилось отвергнуть нулевую гипотезу\")"
   ]
  },
  {
   "cell_type": "markdown",
   "metadata": {},
   "source": [
    "p-value меньше 0,05%, что позволяет отвергнуть нулевую гипотезу. Между показателями конверсии явно есть отличия, что подтверждает значение переменной с относительным приростом конверсии группы B к конверсии группы А, т.е. 13%."
   ]
  },
  {
   "cell_type": "markdown",
   "metadata": {},
   "source": [
    "## 2.11. Расчет статистической значимости различий в среднем чеке заказа между группами по «сырым» данным"
   ]
  },
  {
   "cell_type": "markdown",
   "metadata": {},
   "source": [
    "Сформируем гипотезы аналогичным образом:\n",
    "- нулевая гипотеза - средный чек групп А и В равен,\n",
    "- альтернативная - в чеках есть различия"
   ]
  },
  {
   "cell_type": "code",
   "execution_count": 62,
   "metadata": {},
   "outputs": [
    {
     "name": "stdout",
     "output_type": "stream",
     "text": [
      "P-value чека по сырым данным: 0.72929\n"
     ]
    }
   ],
   "source": [
    "p_value_check = st.mannwhitneyu(orders[orders['group']=='A']['revenue'], orders[orders['group']=='B']['revenue'])[1]\n",
    "print(\"P-value чека по сырым данным: {0:.5f}\".format(p_value_check))"
   ]
  },
  {
   "cell_type": "code",
   "execution_count": 63,
   "metadata": {},
   "outputs": [
    {
     "name": "stdout",
     "output_type": "stream",
     "text": [
      "Относительный прирост среднего чека группы B к среднему чеку группы А по сырым данным: 0.26\n"
     ]
    }
   ],
   "source": [
    "relative_increase_check = orders[orders['group']=='B']['revenue'].mean()/orders[orders['group']=='A']['revenue'].mean()-1\n",
    "print('Относительный прирост среднего чека группы B к среднему чеку группы А по сырым данным: {:.2f}'.format(relative_increase_check))"
   ]
  },
  {
   "cell_type": "code",
   "execution_count": 64,
   "metadata": {},
   "outputs": [
    {
     "name": "stdout",
     "output_type": "stream",
     "text": [
      "Не получилось отвергнуть нулевую гипотезу\n"
     ]
    }
   ],
   "source": [
    "alpha = 0.05\n",
    "\n",
    "if (p_value_check < alpha):\n",
    "    print(\"Отвергаем нулевую гипотезу\")\n",
    "else:\n",
    "    print(\"Не получилось отвергнуть нулевую гипотезу\")"
   ]
  },
  {
   "cell_type": "markdown",
   "metadata": {},
   "source": [
    "Cтатистически значимых отличий в среднем чеке между группами нет, следовательно, отвергаем нулевую гипотезу. Однако, если вспомнить, что группа В по многим показателям была \"выигрышнее\" - результат выглядит несколько сомнительным. Скорее всего, аномалии исказили тест."
   ]
  },
  {
   "cell_type": "markdown",
   "metadata": {},
   "source": [
    "## 2.12. Расчет статистической значимости различий в конверсии между группами по «очищенным» данным"
   ]
  },
  {
   "cell_type": "markdown",
   "metadata": {},
   "source": [
    "Трактовка гипотез остается идентичной: за нулевую гипотезу принимаем равенство конверсии между группами, за альтернативную - если конверсии различны"
   ]
  },
  {
   "cell_type": "markdown",
   "metadata": {},
   "source": [
    "Расчет будет произведен с учетом следующих выводах, сделанных на прошлых этапах выполнения работы:\n",
    "- Количество покупок не более 3-х\n",
    "- Сумма чека не более 35000"
   ]
  },
  {
   "cell_type": "code",
   "execution_count": 65,
   "metadata": {},
   "outputs": [],
   "source": [
    "usersWithManyOrders = pd.concat([ordersByUsersA[ordersByUsersA['orders'] > 3]['visitor_id'], ordersByUsersB[ordersByUsersB['orders'] > 2]['visitor_id']], axis = 0)\n",
    "usersWithExpensiveOrders = orders[orders['revenue'] > 35000]['visitor_id']\n",
    "abnormalUsers = pd.concat([usersWithManyOrders, usersWithExpensiveOrders], axis = 0).drop_duplicates().sort_values()"
   ]
  },
  {
   "cell_type": "markdown",
   "metadata": {},
   "source": [
    "Запишем данные, очищенные от аномалий в отдельные переменные:"
   ]
  },
  {
   "cell_type": "code",
   "execution_count": 66,
   "metadata": {},
   "outputs": [],
   "source": [
    "sampleAFiltered = pd.concat([ordersByUsersA[np.logical_not(ordersByUsersA['visitor_id'].isin(abnormalUsers))]['orders'],pd.Series(0, index=np.arange(data['visitorsPerDateA'].sum() - len(ordersByUsersA['orders'])),name='orders')],axis=0)\n",
    "sampleBFiltered = pd.concat([ordersByUsersB[np.logical_not(ordersByUsersB['visitor_id'].isin(abnormalUsers))]['orders'],pd.Series(0, index=np.arange(data['visitorsPerDateB'].sum() - len(ordersByUsersB['orders'])),name='orders')],axis=0)"
   ]
  },
  {
   "cell_type": "code",
   "execution_count": 67,
   "metadata": {},
   "outputs": [
    {
     "name": "stdout",
     "output_type": "stream",
     "text": [
      "p-value по конверсии очищенных данных: 0.01626\n"
     ]
    }
   ],
   "source": [
    "p_value_conversion_clean=st.mannwhitneyu(sampleAFiltered, sampleBFiltered)[1]\n",
    "print(\"p-value по конверсии очищенных данных: {0:.5f}\".format(p_value_conversion_clean))"
   ]
  },
  {
   "cell_type": "code",
   "execution_count": 68,
   "metadata": {},
   "outputs": [
    {
     "name": "stdout",
     "output_type": "stream",
     "text": [
      "Относительный прирост конверсии группы B по очищенным данным: 0.136\n"
     ]
    }
   ],
   "source": [
    "increase_conversion_clean = sampleBFiltered.mean()/sampleAFiltered.mean()-1\n",
    "print(\"Относительный прирост конверсии группы B по очищенным данным: {0:.3f}\".format(increase_conversion_clean))"
   ]
  },
  {
   "cell_type": "code",
   "execution_count": 69,
   "metadata": {},
   "outputs": [
    {
     "name": "stdout",
     "output_type": "stream",
     "text": [
      "Отвергаем нулевую гипотезу\n"
     ]
    }
   ],
   "source": [
    "alpha = 0.05\n",
    "\n",
    "if (p_value_conversion_clean < alpha):\n",
    "    print(\"Отвергаем нулевую гипотезу\")\n",
    "else:\n",
    "    print(\"Не получилось отвергнуть нулевую гипотезу\")"
   ]
  },
  {
   "cell_type": "markdown",
   "metadata": {},
   "source": [
    "Показатели конверсий не равны, как это было в случае с сырыми данными. Группа В по-прежнему продолжает демонстрировать более высокие показатели конверсии"
   ]
  },
  {
   "cell_type": "markdown",
   "metadata": {},
   "source": [
    "## 2.13. Расчет статистической значимости различий в среднем чеке заказа между группами по «очищенным» данным"
   ]
  },
  {
   "cell_type": "markdown",
   "metadata": {},
   "source": [
    "Трактовка гипотез остается идентичной: за нулевую гипотезу принимаем равенство конверсии между группами, за альтернативную - если конверсии различны"
   ]
  },
  {
   "cell_type": "code",
   "execution_count": 70,
   "metadata": {},
   "outputs": [
    {
     "name": "stdout",
     "output_type": "stream",
     "text": [
      "0.945\n",
      "0.020\n"
     ]
    }
   ],
   "source": [
    "print(\"{0:.3f}\".format(st.mannwhitneyu(\n",
    "    orders[np.logical_and(\n",
    "        orders['group']=='A',\n",
    "        np.logical_not(orders['visitor_id'].isin(abnormalUsers)))]['revenue'],\n",
    "    orders[np.logical_and(\n",
    "        orders['group']=='B',\n",
    "        np.logical_not(orders['visitor_id'].isin(abnormalUsers)))]['revenue'])[1]))\n",
    "\n",
    "print(\"{0:.3f}\".format(\n",
    "    orders[np.logical_and(orders['group']=='B',np.logical_not(orders['visitor_id'].isin(abnormalUsers)))]['revenue'].mean()/\n",
    "    orders[np.logical_and(\n",
    "        orders['group']=='A',\n",
    "        np.logical_not(orders['visitor_id'].isin(abnormalUsers)))]['revenue'].mean() - 1)) "
   ]
  },
  {
   "cell_type": "markdown",
   "metadata": {},
   "source": [
    "Видим, что p-value равен 0,945, соответственно, нет оснований отвергнуть нулевую гипотезу. Статистическая значимость данных после отбора аномалий не изменилась."
   ]
  },
  {
   "cell_type": "markdown",
   "metadata": {},
   "source": [
    "**Выводы:**\n",
    "- подавляющее большинство клиентов интернет-магазина осуществляют лишь одну покупку, в течение рассмотренного интервала времени\n",
    "- 95% клиентов делают покупки с чеком менее 28000 рублей, но бывают и более крупные сделки, например, почти в 1,3 млн. Увы, нельзя говорить, что такие сделки регулярны\n",
    "- Показатели группы В выглядят значительно перспективнее группы А \n",
    "- Относительный прирост конверсии по сырым данным составляет 13,8% в пользу группы В\n",
    "- Относительный прирост конверсии по очищенным данным составляет 13,6%\n",
    "- Относительный прирост среднего чека по сырым данным составляет 26%\n",
    "- Относительный прирост среднего чека по очищенным данным составляет 13% - предположение, что аномалии влияли на ход исследования подтвердилось"
   ]
  },
  {
   "cell_type": "markdown",
   "metadata": {},
   "source": [
    "# 3. Общий вывод"
   ]
  },
  {
   "cell_type": "markdown",
   "metadata": {},
   "source": [
    "Можно порекомендовать руководству интернет-магазина следующие потенциально прибыльные гипотезы:\n",
    "- №7 Добавить форму подписки на все основные страницы, чтобы собрать базу клиентов для email-рассылок\n",
    "- №0 Добавить два новых канала привлечения трафика, что позволит привлекать на 30% больше пользователей\n",
    "- №8 Запустить акцию, дающую скидку на товар в день рождения\n",
    "- №2 Добавить блоки рекомендаций товаров на сайт интернет магазина, чтобы повысить конверсию и средний чек заказа"
   ]
  },
  {
   "cell_type": "markdown",
   "metadata": {},
   "source": [
    "**Резюмируя:** промежуточный вывод шага 2 позволяет подчеркнуть, что результаты группы В выше группы А по всем показателям: как конверсия, так и прирост среднего чека.\n",
    "Статистически значимого различия между группами не наблюдается (как по сырым данным, так и по исправленным)\n",
    "\n",
    "Исходя из этих доводов, считаю необходимым порекомендовать интернет-магазину остановку теста и зафиксировать победу группы В, сам тест, соответственно считать успешным. Можно переходить к проверке другой гипотезы."
   ]
  },
  {
   "cell_type": "markdown",
   "metadata": {},
   "source": [
    "# Спасибо за внимание!"
   ]
  }
 ],
 "metadata": {
  "ExecuteTimeLog": [
   {
    "duration": 1326,
    "start_time": "2022-03-29T11:48:07.425Z"
   },
   {
    "duration": 26,
    "start_time": "2022-03-29T11:48:44.688Z"
   },
   {
    "duration": 819,
    "start_time": "2022-03-29T11:48:50.263Z"
   },
   {
    "duration": 20,
    "start_time": "2022-03-29T11:49:05.055Z"
   },
   {
    "duration": 22,
    "start_time": "2022-03-29T11:49:08.455Z"
   },
   {
    "duration": 12,
    "start_time": "2022-03-29T11:49:18.423Z"
   },
   {
    "duration": 50,
    "start_time": "2022-03-29T11:57:11.987Z"
   },
   {
    "duration": 1375,
    "start_time": "2022-03-29T11:57:17.577Z"
   },
   {
    "duration": 37,
    "start_time": "2022-03-29T11:57:18.954Z"
   },
   {
    "duration": 11,
    "start_time": "2022-03-29T11:57:18.993Z"
   },
   {
    "duration": 22,
    "start_time": "2022-03-29T11:57:19.006Z"
   },
   {
    "duration": 6,
    "start_time": "2022-03-29T11:58:11.205Z"
   },
   {
    "duration": 5,
    "start_time": "2022-03-29T12:00:37.675Z"
   },
   {
    "duration": 6,
    "start_time": "2022-03-29T12:00:51.443Z"
   },
   {
    "duration": 52,
    "start_time": "2022-03-29T12:01:34.370Z"
   },
   {
    "duration": 10,
    "start_time": "2022-03-29T12:01:49.075Z"
   },
   {
    "duration": 4,
    "start_time": "2022-03-29T12:02:12.081Z"
   },
   {
    "duration": 6,
    "start_time": "2022-03-29T12:02:39.937Z"
   },
   {
    "duration": 8,
    "start_time": "2022-03-29T12:02:49.880Z"
   },
   {
    "duration": 14,
    "start_time": "2022-03-29T12:07:55.667Z"
   },
   {
    "duration": 30,
    "start_time": "2022-03-29T12:09:19.090Z"
   },
   {
    "duration": 10,
    "start_time": "2022-03-29T12:09:28.345Z"
   },
   {
    "duration": 8,
    "start_time": "2022-03-29T12:10:12.312Z"
   },
   {
    "duration": 5,
    "start_time": "2022-03-29T12:10:27.016Z"
   },
   {
    "duration": 11,
    "start_time": "2022-03-29T12:11:18.272Z"
   },
   {
    "duration": 6,
    "start_time": "2022-03-29T12:15:57.083Z"
   },
   {
    "duration": 11,
    "start_time": "2022-03-29T12:16:14.706Z"
   },
   {
    "duration": 11,
    "start_time": "2022-03-29T12:16:35.002Z"
   },
   {
    "duration": 13,
    "start_time": "2022-03-29T12:16:45.045Z"
   },
   {
    "duration": 13,
    "start_time": "2022-03-29T12:16:59.377Z"
   },
   {
    "duration": 7,
    "start_time": "2022-03-29T12:20:48.974Z"
   },
   {
    "duration": 13,
    "start_time": "2022-03-29T12:20:59.045Z"
   },
   {
    "duration": 14,
    "start_time": "2022-03-29T12:21:03.702Z"
   },
   {
    "duration": 14,
    "start_time": "2022-03-29T12:21:08.613Z"
   },
   {
    "duration": 13,
    "start_time": "2022-03-29T12:21:42.488Z"
   },
   {
    "duration": 13,
    "start_time": "2022-03-29T12:23:12.145Z"
   },
   {
    "duration": 153,
    "start_time": "2022-03-29T12:47:38.605Z"
   },
   {
    "duration": 4,
    "start_time": "2022-03-29T12:48:34.148Z"
   },
   {
    "duration": 10,
    "start_time": "2022-03-29T12:48:42.572Z"
   },
   {
    "duration": 2505,
    "start_time": "2022-03-29T13:15:45.118Z"
   },
   {
    "duration": 5,
    "start_time": "2022-03-29T13:16:03.839Z"
   },
   {
    "duration": 5,
    "start_time": "2022-03-29T13:16:10.566Z"
   },
   {
    "duration": 4,
    "start_time": "2022-03-29T13:20:26.826Z"
   },
   {
    "duration": 5,
    "start_time": "2022-03-29T13:20:44.562Z"
   },
   {
    "duration": 5,
    "start_time": "2022-03-29T13:20:56.697Z"
   },
   {
    "duration": 5,
    "start_time": "2022-03-29T13:21:08.841Z"
   },
   {
    "duration": 7,
    "start_time": "2022-03-29T13:21:49.137Z"
   },
   {
    "duration": 6,
    "start_time": "2022-03-29T13:30:23.808Z"
   },
   {
    "duration": 14,
    "start_time": "2022-03-29T13:30:35.783Z"
   },
   {
    "duration": 29,
    "start_time": "2022-03-29T13:31:51.334Z"
   },
   {
    "duration": 200,
    "start_time": "2022-03-29T13:32:12.766Z"
   },
   {
    "duration": 17,
    "start_time": "2022-03-29T13:32:21.399Z"
   },
   {
    "duration": 23,
    "start_time": "2022-03-29T13:39:47.029Z"
   },
   {
    "duration": 131,
    "start_time": "2022-03-29T13:44:11.784Z"
   },
   {
    "duration": 8,
    "start_time": "2022-03-29T13:45:43.087Z"
   },
   {
    "duration": 5,
    "start_time": "2022-03-29T13:50:55.986Z"
   },
   {
    "duration": 5,
    "start_time": "2022-03-29T13:51:05.209Z"
   },
   {
    "duration": 266,
    "start_time": "2022-03-29T13:51:31.656Z"
   },
   {
    "duration": 169,
    "start_time": "2022-03-29T13:51:53.505Z"
   },
   {
    "duration": 192,
    "start_time": "2022-03-29T13:52:08.944Z"
   },
   {
    "duration": 195,
    "start_time": "2022-03-29T13:53:18.846Z"
   },
   {
    "duration": 108,
    "start_time": "2022-03-29T13:55:33.341Z"
   },
   {
    "duration": 287,
    "start_time": "2022-03-29T13:55:56.182Z"
   },
   {
    "duration": 309,
    "start_time": "2022-03-29T13:56:09.669Z"
   },
   {
    "duration": 382,
    "start_time": "2022-03-29T13:56:14.948Z"
   },
   {
    "duration": 299,
    "start_time": "2022-03-29T13:56:21.604Z"
   },
   {
    "duration": 277,
    "start_time": "2022-03-29T13:56:27.468Z"
   },
   {
    "duration": 224,
    "start_time": "2022-03-29T13:56:56.827Z"
   },
   {
    "duration": 212,
    "start_time": "2022-03-29T13:57:07.170Z"
   },
   {
    "duration": 1693,
    "start_time": "2022-03-30T09:22:51.118Z"
   },
   {
    "duration": 26,
    "start_time": "2022-03-30T09:22:52.815Z"
   },
   {
    "duration": 29,
    "start_time": "2022-03-30T09:22:52.843Z"
   },
   {
    "duration": 8,
    "start_time": "2022-03-30T09:22:52.874Z"
   },
   {
    "duration": 10,
    "start_time": "2022-03-30T09:22:52.886Z"
   },
   {
    "duration": 13,
    "start_time": "2022-03-30T09:22:52.898Z"
   },
   {
    "duration": 42,
    "start_time": "2022-03-30T09:22:52.913Z"
   },
   {
    "duration": 20,
    "start_time": "2022-03-30T09:22:52.957Z"
   },
   {
    "duration": 16,
    "start_time": "2022-03-30T09:22:52.979Z"
   },
   {
    "duration": 15,
    "start_time": "2022-03-30T09:22:52.998Z"
   },
   {
    "duration": 19,
    "start_time": "2022-03-30T09:22:53.016Z"
   },
   {
    "duration": 19,
    "start_time": "2022-03-30T09:22:53.068Z"
   },
   {
    "duration": 16,
    "start_time": "2022-03-30T09:22:53.089Z"
   },
   {
    "duration": 8,
    "start_time": "2022-03-30T09:22:53.109Z"
   },
   {
    "duration": 8,
    "start_time": "2022-03-30T09:22:53.119Z"
   },
   {
    "duration": 49,
    "start_time": "2022-03-30T09:22:53.129Z"
   },
   {
    "duration": 22,
    "start_time": "2022-03-30T09:22:53.181Z"
   },
   {
    "duration": 16,
    "start_time": "2022-03-30T09:22:53.205Z"
   },
   {
    "duration": 52,
    "start_time": "2022-03-30T09:22:53.223Z"
   },
   {
    "duration": 7,
    "start_time": "2022-03-30T09:22:53.277Z"
   },
   {
    "duration": 7,
    "start_time": "2022-03-30T09:22:53.286Z"
   },
   {
    "duration": 15,
    "start_time": "2022-03-30T09:22:53.296Z"
   },
   {
    "duration": 331,
    "start_time": "2022-03-30T09:22:53.313Z"
   },
   {
    "duration": 22,
    "start_time": "2022-03-30T09:22:53.646Z"
   },
   {
    "duration": 227,
    "start_time": "2022-03-30T09:22:53.671Z"
   },
   {
    "duration": 10,
    "start_time": "2022-03-30T09:22:53.900Z"
   },
   {
    "duration": 8,
    "start_time": "2022-03-30T09:22:53.912Z"
   },
   {
    "duration": 7,
    "start_time": "2022-03-30T09:22:53.922Z"
   },
   {
    "duration": 414,
    "start_time": "2022-03-30T09:22:53.931Z"
   },
   {
    "duration": 297,
    "start_time": "2022-03-30T09:22:54.347Z"
   },
   {
    "duration": 140,
    "start_time": "2022-03-30T09:24:40.178Z"
   },
   {
    "duration": 8,
    "start_time": "2022-03-30T09:25:57.535Z"
   },
   {
    "duration": 8,
    "start_time": "2022-03-30T09:26:03.560Z"
   },
   {
    "duration": 24,
    "start_time": "2022-03-30T09:31:11.115Z"
   },
   {
    "duration": 491,
    "start_time": "2022-03-30T09:33:50.032Z"
   },
   {
    "duration": 23,
    "start_time": "2022-03-30T09:34:42.463Z"
   },
   {
    "duration": 5,
    "start_time": "2022-03-30T09:35:53.437Z"
   },
   {
    "duration": 9,
    "start_time": "2022-03-30T09:36:01.045Z"
   },
   {
    "duration": 9,
    "start_time": "2022-03-30T09:36:13.757Z"
   },
   {
    "duration": 6,
    "start_time": "2022-03-30T09:36:36.076Z"
   },
   {
    "duration": 597,
    "start_time": "2022-03-30T09:36:50.604Z"
   },
   {
    "duration": 51,
    "start_time": "2022-03-30T09:37:02.956Z"
   },
   {
    "duration": 13,
    "start_time": "2022-03-30T09:37:16.022Z"
   },
   {
    "duration": 11,
    "start_time": "2022-03-30T09:37:22.300Z"
   },
   {
    "duration": 541,
    "start_time": "2022-03-30T09:38:20.650Z"
   },
   {
    "duration": 5,
    "start_time": "2022-03-30T09:38:31.034Z"
   },
   {
    "duration": 21,
    "start_time": "2022-03-30T09:38:49.395Z"
   },
   {
    "duration": 14,
    "start_time": "2022-03-30T09:38:56.122Z"
   },
   {
    "duration": 20,
    "start_time": "2022-03-30T09:39:05.490Z"
   },
   {
    "duration": 13,
    "start_time": "2022-03-30T09:39:50.633Z"
   },
   {
    "duration": 12,
    "start_time": "2022-03-30T09:39:53.857Z"
   },
   {
    "duration": 1484,
    "start_time": "2022-03-30T09:40:46.427Z"
   },
   {
    "duration": 30,
    "start_time": "2022-03-30T09:40:47.915Z"
   },
   {
    "duration": 23,
    "start_time": "2022-03-30T09:40:47.948Z"
   },
   {
    "duration": 9,
    "start_time": "2022-03-30T09:40:47.975Z"
   },
   {
    "duration": 7,
    "start_time": "2022-03-30T09:40:47.988Z"
   },
   {
    "duration": 8,
    "start_time": "2022-03-30T09:40:47.998Z"
   },
   {
    "duration": 67,
    "start_time": "2022-03-30T09:40:48.009Z"
   },
   {
    "duration": 15,
    "start_time": "2022-03-30T09:40:48.079Z"
   },
   {
    "duration": 10,
    "start_time": "2022-03-30T09:40:48.096Z"
   },
   {
    "duration": 8,
    "start_time": "2022-03-30T09:40:48.108Z"
   },
   {
    "duration": 52,
    "start_time": "2022-03-30T09:40:48.118Z"
   },
   {
    "duration": 19,
    "start_time": "2022-03-30T09:40:48.172Z"
   },
   {
    "duration": 14,
    "start_time": "2022-03-30T09:40:48.193Z"
   },
   {
    "duration": 7,
    "start_time": "2022-03-30T09:40:48.212Z"
   },
   {
    "duration": 46,
    "start_time": "2022-03-30T09:40:48.221Z"
   },
   {
    "duration": 17,
    "start_time": "2022-03-30T09:40:48.270Z"
   },
   {
    "duration": 20,
    "start_time": "2022-03-30T09:40:48.290Z"
   },
   {
    "duration": 15,
    "start_time": "2022-03-30T09:40:48.313Z"
   },
   {
    "duration": 48,
    "start_time": "2022-03-30T09:40:48.331Z"
   },
   {
    "duration": 10,
    "start_time": "2022-03-30T09:40:48.381Z"
   },
   {
    "duration": 9,
    "start_time": "2022-03-30T09:40:48.393Z"
   },
   {
    "duration": 9,
    "start_time": "2022-03-30T09:40:48.404Z"
   },
   {
    "duration": 66,
    "start_time": "2022-03-30T09:40:48.415Z"
   },
   {
    "duration": 315,
    "start_time": "2022-03-30T09:40:48.483Z"
   },
   {
    "duration": 16,
    "start_time": "2022-03-30T09:40:48.800Z"
   },
   {
    "duration": 216,
    "start_time": "2022-03-30T09:40:48.819Z"
   },
   {
    "duration": 10,
    "start_time": "2022-03-30T09:40:49.037Z"
   },
   {
    "duration": 22,
    "start_time": "2022-03-30T09:40:49.049Z"
   },
   {
    "duration": 7,
    "start_time": "2022-03-30T09:40:49.073Z"
   },
   {
    "duration": 399,
    "start_time": "2022-03-30T09:40:49.082Z"
   },
   {
    "duration": 299,
    "start_time": "2022-03-30T09:40:49.483Z"
   },
   {
    "duration": 15,
    "start_time": "2022-03-30T09:41:16.666Z"
   },
   {
    "duration": 15,
    "start_time": "2022-03-30T09:41:24.314Z"
   },
   {
    "duration": 19,
    "start_time": "2022-03-30T09:41:33.721Z"
   },
   {
    "duration": 19,
    "start_time": "2022-03-30T09:41:48.178Z"
   },
   {
    "duration": 5,
    "start_time": "2022-03-30T09:43:30.383Z"
   },
   {
    "duration": 1360,
    "start_time": "2022-03-30T09:44:03.511Z"
   },
   {
    "duration": 26,
    "start_time": "2022-03-30T09:44:04.873Z"
   },
   {
    "duration": 16,
    "start_time": "2022-03-30T09:44:04.901Z"
   },
   {
    "duration": 10,
    "start_time": "2022-03-30T09:44:04.918Z"
   },
   {
    "duration": 7,
    "start_time": "2022-03-30T09:44:04.931Z"
   },
   {
    "duration": 6,
    "start_time": "2022-03-30T09:44:04.967Z"
   },
   {
    "duration": 31,
    "start_time": "2022-03-30T09:44:04.975Z"
   },
   {
    "duration": 14,
    "start_time": "2022-03-30T09:44:05.008Z"
   },
   {
    "duration": 10,
    "start_time": "2022-03-30T09:44:05.024Z"
   },
   {
    "duration": 38,
    "start_time": "2022-03-30T09:44:05.036Z"
   },
   {
    "duration": 10,
    "start_time": "2022-03-30T09:44:05.077Z"
   },
   {
    "duration": 26,
    "start_time": "2022-03-30T09:44:05.089Z"
   },
   {
    "duration": 19,
    "start_time": "2022-03-30T09:44:05.117Z"
   },
   {
    "duration": 28,
    "start_time": "2022-03-30T09:44:05.141Z"
   },
   {
    "duration": 11,
    "start_time": "2022-03-30T09:44:05.172Z"
   },
   {
    "duration": 9,
    "start_time": "2022-03-30T09:44:05.185Z"
   },
   {
    "duration": 16,
    "start_time": "2022-03-30T09:44:05.197Z"
   },
   {
    "duration": 61,
    "start_time": "2022-03-30T09:44:05.216Z"
   },
   {
    "duration": 15,
    "start_time": "2022-03-30T09:44:05.280Z"
   },
   {
    "duration": 15,
    "start_time": "2022-03-30T09:44:05.298Z"
   },
   {
    "duration": 9,
    "start_time": "2022-03-30T09:44:05.315Z"
   },
   {
    "duration": 46,
    "start_time": "2022-03-30T09:44:05.327Z"
   },
   {
    "duration": 9,
    "start_time": "2022-03-30T09:44:05.375Z"
   },
   {
    "duration": 14,
    "start_time": "2022-03-30T09:44:05.387Z"
   },
   {
    "duration": 327,
    "start_time": "2022-03-30T09:44:05.403Z"
   },
   {
    "duration": 16,
    "start_time": "2022-03-30T09:44:05.732Z"
   },
   {
    "duration": 236,
    "start_time": "2022-03-30T09:44:05.750Z"
   },
   {
    "duration": 10,
    "start_time": "2022-03-30T09:44:05.988Z"
   },
   {
    "duration": 11,
    "start_time": "2022-03-30T09:44:06.000Z"
   },
   {
    "duration": 7,
    "start_time": "2022-03-30T09:44:06.013Z"
   },
   {
    "duration": 479,
    "start_time": "2022-03-30T09:44:06.022Z"
   },
   {
    "duration": 308,
    "start_time": "2022-03-30T09:44:06.503Z"
   },
   {
    "duration": 20,
    "start_time": "2022-03-30T09:44:06.814Z"
   },
   {
    "duration": 20,
    "start_time": "2022-03-30T09:44:26.279Z"
   },
   {
    "duration": 155,
    "start_time": "2022-03-30T09:44:37.718Z"
   },
   {
    "duration": 4,
    "start_time": "2022-03-30T09:45:07.437Z"
   },
   {
    "duration": 19,
    "start_time": "2022-03-30T09:45:08.822Z"
   },
   {
    "duration": 14,
    "start_time": "2022-03-30T09:45:10.558Z"
   },
   {
    "duration": 9,
    "start_time": "2022-03-30T09:45:12.222Z"
   },
   {
    "duration": 8,
    "start_time": "2022-03-30T09:45:13.397Z"
   },
   {
    "duration": 6,
    "start_time": "2022-03-30T09:45:15.237Z"
   },
   {
    "duration": 30,
    "start_time": "2022-03-30T09:45:16.438Z"
   },
   {
    "duration": 14,
    "start_time": "2022-03-30T09:45:21.734Z"
   },
   {
    "duration": 9,
    "start_time": "2022-03-30T09:45:23.701Z"
   },
   {
    "duration": 8,
    "start_time": "2022-03-30T09:45:25.365Z"
   },
   {
    "duration": 5,
    "start_time": "2022-03-30T09:45:27.093Z"
   },
   {
    "duration": 19,
    "start_time": "2022-03-30T09:45:48.813Z"
   },
   {
    "duration": 5,
    "start_time": "2022-03-30T09:46:42.388Z"
   },
   {
    "duration": 19,
    "start_time": "2022-03-30T09:46:43.628Z"
   },
   {
    "duration": 1425,
    "start_time": "2022-03-30T09:46:50.846Z"
   },
   {
    "duration": 26,
    "start_time": "2022-03-30T09:46:52.274Z"
   },
   {
    "duration": 16,
    "start_time": "2022-03-30T09:46:52.302Z"
   },
   {
    "duration": 11,
    "start_time": "2022-03-30T09:46:52.321Z"
   },
   {
    "duration": 35,
    "start_time": "2022-03-30T09:46:52.336Z"
   },
   {
    "duration": 8,
    "start_time": "2022-03-30T09:46:52.374Z"
   },
   {
    "duration": 33,
    "start_time": "2022-03-30T09:46:52.384Z"
   },
   {
    "duration": 16,
    "start_time": "2022-03-30T09:46:52.420Z"
   },
   {
    "duration": 37,
    "start_time": "2022-03-30T09:46:52.438Z"
   },
   {
    "duration": 9,
    "start_time": "2022-03-30T09:46:52.477Z"
   },
   {
    "duration": 5,
    "start_time": "2022-03-30T09:46:52.488Z"
   },
   {
    "duration": 22,
    "start_time": "2022-03-30T09:46:52.495Z"
   },
   {
    "duration": 60,
    "start_time": "2022-03-30T09:46:52.519Z"
   },
   {
    "duration": 22,
    "start_time": "2022-03-30T09:46:52.583Z"
   },
   {
    "duration": 13,
    "start_time": "2022-03-30T09:46:52.608Z"
   },
   {
    "duration": 10,
    "start_time": "2022-03-30T09:46:52.624Z"
   },
   {
    "duration": 7,
    "start_time": "2022-03-30T09:46:52.668Z"
   },
   {
    "duration": 16,
    "start_time": "2022-03-30T09:46:52.678Z"
   },
   {
    "duration": 22,
    "start_time": "2022-03-30T09:46:52.696Z"
   },
   {
    "duration": 49,
    "start_time": "2022-03-30T09:46:52.720Z"
   },
   {
    "duration": 12,
    "start_time": "2022-03-30T09:46:52.771Z"
   },
   {
    "duration": 8,
    "start_time": "2022-03-30T09:46:52.785Z"
   },
   {
    "duration": 8,
    "start_time": "2022-03-30T09:46:52.795Z"
   },
   {
    "duration": 8,
    "start_time": "2022-03-30T09:46:52.805Z"
   },
   {
    "duration": 54,
    "start_time": "2022-03-30T09:46:52.815Z"
   },
   {
    "duration": 176,
    "start_time": "2022-03-30T09:46:52.872Z"
   },
   {
    "duration": 0,
    "start_time": "2022-03-30T09:46:53.051Z"
   },
   {
    "duration": 0,
    "start_time": "2022-03-30T09:46:53.053Z"
   },
   {
    "duration": 0,
    "start_time": "2022-03-30T09:46:53.067Z"
   },
   {
    "duration": 0,
    "start_time": "2022-03-30T09:46:53.069Z"
   },
   {
    "duration": 0,
    "start_time": "2022-03-30T09:46:53.071Z"
   },
   {
    "duration": 0,
    "start_time": "2022-03-30T09:46:53.073Z"
   },
   {
    "duration": 0,
    "start_time": "2022-03-30T09:46:53.076Z"
   },
   {
    "duration": 0,
    "start_time": "2022-03-30T09:46:53.078Z"
   },
   {
    "duration": 301,
    "start_time": "2022-03-30T09:47:18.588Z"
   },
   {
    "duration": 17,
    "start_time": "2022-03-30T09:47:21.524Z"
   },
   {
    "duration": 209,
    "start_time": "2022-03-30T09:47:24.412Z"
   },
   {
    "duration": 10,
    "start_time": "2022-03-30T09:47:27.236Z"
   },
   {
    "duration": 7,
    "start_time": "2022-03-30T09:47:28.491Z"
   },
   {
    "duration": 7,
    "start_time": "2022-03-30T09:47:29.387Z"
   },
   {
    "duration": 393,
    "start_time": "2022-03-30T09:47:30.235Z"
   },
   {
    "duration": 284,
    "start_time": "2022-03-30T09:47:32.188Z"
   },
   {
    "duration": 19,
    "start_time": "2022-03-30T09:47:34.667Z"
   },
   {
    "duration": 22,
    "start_time": "2022-03-30T09:53:12.631Z"
   },
   {
    "duration": 22,
    "start_time": "2022-03-30T09:53:24.550Z"
   },
   {
    "duration": 19,
    "start_time": "2022-03-30T09:53:32.606Z"
   },
   {
    "duration": 18,
    "start_time": "2022-03-30T09:53:45.422Z"
   },
   {
    "duration": 292,
    "start_time": "2022-03-30T10:00:22.471Z"
   },
   {
    "duration": 15,
    "start_time": "2022-03-30T10:00:36.231Z"
   },
   {
    "duration": 204,
    "start_time": "2022-03-30T10:01:35.582Z"
   },
   {
    "duration": 205,
    "start_time": "2022-03-30T10:03:28.884Z"
   },
   {
    "duration": 10,
    "start_time": "2022-03-30T10:04:10.251Z"
   },
   {
    "duration": 7,
    "start_time": "2022-03-30T10:04:11.659Z"
   },
   {
    "duration": 6,
    "start_time": "2022-03-30T10:04:12.971Z"
   },
   {
    "duration": 267,
    "start_time": "2022-03-30T10:04:36.275Z"
   },
   {
    "duration": 250,
    "start_time": "2022-03-30T10:04:42.114Z"
   },
   {
    "duration": 284,
    "start_time": "2022-03-30T10:05:48.683Z"
   },
   {
    "duration": 272,
    "start_time": "2022-03-30T10:06:45.201Z"
   },
   {
    "duration": 360,
    "start_time": "2022-03-30T10:06:53.345Z"
   },
   {
    "duration": 177,
    "start_time": "2022-03-30T10:10:31.414Z"
   },
   {
    "duration": 396,
    "start_time": "2022-03-30T10:10:38.165Z"
   },
   {
    "duration": 256,
    "start_time": "2022-03-30T10:10:53.645Z"
   },
   {
    "duration": 402,
    "start_time": "2022-03-30T10:10:59.669Z"
   },
   {
    "duration": 296,
    "start_time": "2022-03-30T10:11:30.009Z"
   },
   {
    "duration": 384,
    "start_time": "2022-03-30T10:12:09.259Z"
   },
   {
    "duration": 396,
    "start_time": "2022-03-30T10:14:31.378Z"
   },
   {
    "duration": 395,
    "start_time": "2022-03-30T10:16:08.376Z"
   },
   {
    "duration": 393,
    "start_time": "2022-03-30T10:16:22.584Z"
   },
   {
    "duration": 370,
    "start_time": "2022-03-30T10:16:31.879Z"
   },
   {
    "duration": 356,
    "start_time": "2022-03-30T10:16:36.855Z"
   },
   {
    "duration": 474,
    "start_time": "2022-03-30T10:16:45.439Z"
   },
   {
    "duration": 524,
    "start_time": "2022-03-30T10:16:51.680Z"
   },
   {
    "duration": 348,
    "start_time": "2022-03-30T10:16:57.638Z"
   },
   {
    "duration": 418,
    "start_time": "2022-03-30T10:17:05.959Z"
   },
   {
    "duration": 348,
    "start_time": "2022-03-30T10:17:11.279Z"
   },
   {
    "duration": 354,
    "start_time": "2022-03-30T10:17:19.391Z"
   },
   {
    "duration": 392,
    "start_time": "2022-03-30T10:17:28.351Z"
   },
   {
    "duration": 404,
    "start_time": "2022-03-30T10:17:36.159Z"
   },
   {
    "duration": 493,
    "start_time": "2022-03-30T10:17:45.710Z"
   },
   {
    "duration": 391,
    "start_time": "2022-03-30T10:17:53.159Z"
   },
   {
    "duration": 438,
    "start_time": "2022-03-30T10:18:38.046Z"
   },
   {
    "duration": 530,
    "start_time": "2022-03-30T10:24:20.528Z"
   },
   {
    "duration": 396,
    "start_time": "2022-03-30T10:27:02.197Z"
   },
   {
    "duration": 381,
    "start_time": "2022-03-30T10:30:50.002Z"
   },
   {
    "duration": 22,
    "start_time": "2022-03-30T10:34:12.814Z"
   },
   {
    "duration": 24,
    "start_time": "2022-03-30T10:34:19.398Z"
   },
   {
    "duration": 16,
    "start_time": "2022-03-30T10:34:43.527Z"
   },
   {
    "duration": 7,
    "start_time": "2022-03-30T10:35:54.588Z"
   },
   {
    "duration": 2098,
    "start_time": "2022-03-30T10:36:48.443Z"
   },
   {
    "duration": 296,
    "start_time": "2022-03-30T10:37:08.451Z"
   },
   {
    "duration": 298,
    "start_time": "2022-03-30T10:42:19.094Z"
   },
   {
    "duration": 282,
    "start_time": "2022-03-30T10:42:29.006Z"
   },
   {
    "duration": 299,
    "start_time": "2022-03-30T10:42:41.742Z"
   },
   {
    "duration": 308,
    "start_time": "2022-03-30T10:43:13.525Z"
   },
   {
    "duration": 173,
    "start_time": "2022-03-30T10:48:12.611Z"
   },
   {
    "duration": 18,
    "start_time": "2022-03-30T10:48:30.224Z"
   },
   {
    "duration": 21,
    "start_time": "2022-03-30T10:48:43.297Z"
   },
   {
    "duration": 21,
    "start_time": "2022-03-30T10:50:00.880Z"
   },
   {
    "duration": 17,
    "start_time": "2022-03-30T10:50:10.192Z"
   },
   {
    "duration": 19,
    "start_time": "2022-03-30T10:50:17.639Z"
   },
   {
    "duration": 19,
    "start_time": "2022-03-30T10:50:46.584Z"
   },
   {
    "duration": 18,
    "start_time": "2022-03-30T10:51:42.261Z"
   },
   {
    "duration": 3293,
    "start_time": "2022-03-30T10:51:50.230Z"
   },
   {
    "duration": 18,
    "start_time": "2022-03-30T10:52:14.749Z"
   },
   {
    "duration": 7,
    "start_time": "2022-03-30T10:52:16.221Z"
   },
   {
    "duration": 312,
    "start_time": "2022-03-30T10:52:17.885Z"
   },
   {
    "duration": 18,
    "start_time": "2022-03-30T10:52:32.829Z"
   },
   {
    "duration": 147,
    "start_time": "2022-03-30T10:52:48.436Z"
   },
   {
    "duration": 413,
    "start_time": "2022-03-30T10:53:20.459Z"
   },
   {
    "duration": 418,
    "start_time": "2022-03-30T10:54:54.850Z"
   },
   {
    "duration": 503,
    "start_time": "2022-03-30T10:58:35.669Z"
   },
   {
    "duration": 1822,
    "start_time": "2022-03-30T11:45:15.021Z"
   },
   {
    "duration": 42,
    "start_time": "2022-03-30T11:45:16.846Z"
   },
   {
    "duration": 16,
    "start_time": "2022-03-30T11:45:16.891Z"
   },
   {
    "duration": 10,
    "start_time": "2022-03-30T11:45:16.909Z"
   },
   {
    "duration": 22,
    "start_time": "2022-03-30T11:45:16.922Z"
   },
   {
    "duration": 8,
    "start_time": "2022-03-30T11:45:16.946Z"
   },
   {
    "duration": 49,
    "start_time": "2022-03-30T11:45:16.956Z"
   },
   {
    "duration": 16,
    "start_time": "2022-03-30T11:45:17.007Z"
   },
   {
    "duration": 14,
    "start_time": "2022-03-30T11:45:17.025Z"
   },
   {
    "duration": 8,
    "start_time": "2022-03-30T11:45:17.043Z"
   },
   {
    "duration": 5,
    "start_time": "2022-03-30T11:45:17.053Z"
   },
   {
    "duration": 23,
    "start_time": "2022-03-30T11:45:17.060Z"
   },
   {
    "duration": 19,
    "start_time": "2022-03-30T11:45:17.085Z"
   },
   {
    "duration": 57,
    "start_time": "2022-03-30T11:45:17.108Z"
   },
   {
    "duration": 14,
    "start_time": "2022-03-30T11:45:17.167Z"
   },
   {
    "duration": 8,
    "start_time": "2022-03-30T11:45:17.184Z"
   },
   {
    "duration": 11,
    "start_time": "2022-03-30T11:45:17.194Z"
   },
   {
    "duration": 43,
    "start_time": "2022-03-30T11:45:17.207Z"
   },
   {
    "duration": 22,
    "start_time": "2022-03-30T11:45:17.253Z"
   },
   {
    "duration": 15,
    "start_time": "2022-03-30T11:45:17.277Z"
   },
   {
    "duration": 14,
    "start_time": "2022-03-30T11:45:17.294Z"
   },
   {
    "duration": 36,
    "start_time": "2022-03-30T11:45:17.310Z"
   },
   {
    "duration": 8,
    "start_time": "2022-03-30T11:45:17.348Z"
   },
   {
    "duration": 25,
    "start_time": "2022-03-30T11:45:17.359Z"
   },
   {
    "duration": 8,
    "start_time": "2022-03-30T11:45:17.386Z"
   },
   {
    "duration": 48,
    "start_time": "2022-03-30T11:45:17.396Z"
   },
   {
    "duration": 307,
    "start_time": "2022-03-30T11:45:17.447Z"
   },
   {
    "duration": 224,
    "start_time": "2022-03-30T11:45:17.757Z"
   },
   {
    "duration": 9,
    "start_time": "2022-03-30T11:45:17.984Z"
   },
   {
    "duration": 6,
    "start_time": "2022-03-30T11:45:17.995Z"
   },
   {
    "duration": 5,
    "start_time": "2022-03-30T11:45:18.002Z"
   },
   {
    "duration": 173,
    "start_time": "2022-03-30T11:45:18.009Z"
   },
   {
    "duration": 0,
    "start_time": "2022-03-30T11:45:18.185Z"
   },
   {
    "duration": 0,
    "start_time": "2022-03-30T11:45:18.187Z"
   },
   {
    "duration": 0,
    "start_time": "2022-03-30T11:45:18.189Z"
   },
   {
    "duration": 0,
    "start_time": "2022-03-30T11:45:18.191Z"
   },
   {
    "duration": 0,
    "start_time": "2022-03-30T11:45:18.193Z"
   },
   {
    "duration": 0,
    "start_time": "2022-03-30T11:45:18.194Z"
   },
   {
    "duration": 0,
    "start_time": "2022-03-30T11:45:18.195Z"
   },
   {
    "duration": 0,
    "start_time": "2022-03-30T11:45:18.197Z"
   },
   {
    "duration": 0,
    "start_time": "2022-03-30T11:45:18.199Z"
   },
   {
    "duration": 1506,
    "start_time": "2022-03-30T11:45:59.450Z"
   },
   {
    "duration": 33,
    "start_time": "2022-03-30T11:46:00.959Z"
   },
   {
    "duration": 16,
    "start_time": "2022-03-30T11:46:00.995Z"
   },
   {
    "duration": 14,
    "start_time": "2022-03-30T11:46:01.014Z"
   },
   {
    "duration": 8,
    "start_time": "2022-03-30T11:46:01.043Z"
   },
   {
    "duration": 8,
    "start_time": "2022-03-30T11:46:01.053Z"
   },
   {
    "duration": 55,
    "start_time": "2022-03-30T11:46:01.064Z"
   },
   {
    "duration": 15,
    "start_time": "2022-03-30T11:46:01.122Z"
   },
   {
    "duration": 30,
    "start_time": "2022-03-30T11:46:01.142Z"
   },
   {
    "duration": 21,
    "start_time": "2022-03-30T11:46:01.176Z"
   },
   {
    "duration": 12,
    "start_time": "2022-03-30T11:46:01.199Z"
   },
   {
    "duration": 35,
    "start_time": "2022-03-30T11:46:01.213Z"
   },
   {
    "duration": 27,
    "start_time": "2022-03-30T11:46:01.250Z"
   },
   {
    "duration": 30,
    "start_time": "2022-03-30T11:46:01.279Z"
   },
   {
    "duration": 21,
    "start_time": "2022-03-30T11:46:01.311Z"
   },
   {
    "duration": 17,
    "start_time": "2022-03-30T11:46:01.334Z"
   },
   {
    "duration": 14,
    "start_time": "2022-03-30T11:46:01.353Z"
   },
   {
    "duration": 23,
    "start_time": "2022-03-30T11:46:01.369Z"
   },
   {
    "duration": 23,
    "start_time": "2022-03-30T11:46:01.395Z"
   },
   {
    "duration": 33,
    "start_time": "2022-03-30T11:46:01.420Z"
   },
   {
    "duration": 18,
    "start_time": "2022-03-30T11:46:01.455Z"
   },
   {
    "duration": 10,
    "start_time": "2022-03-30T11:46:01.475Z"
   },
   {
    "duration": 14,
    "start_time": "2022-03-30T11:46:01.489Z"
   },
   {
    "duration": 111,
    "start_time": "2022-03-30T11:46:01.506Z"
   },
   {
    "duration": 32,
    "start_time": "2022-03-30T11:46:01.620Z"
   },
   {
    "duration": 22,
    "start_time": "2022-03-30T11:46:01.654Z"
   },
   {
    "duration": 298,
    "start_time": "2022-03-30T11:46:01.678Z"
   },
   {
    "duration": 223,
    "start_time": "2022-03-30T11:46:01.980Z"
   },
   {
    "duration": 11,
    "start_time": "2022-03-30T11:46:02.206Z"
   },
   {
    "duration": 24,
    "start_time": "2022-03-30T11:46:02.219Z"
   },
   {
    "duration": 5,
    "start_time": "2022-03-30T11:46:02.245Z"
   },
   {
    "duration": 6,
    "start_time": "2022-03-30T11:46:02.253Z"
   },
   {
    "duration": 164,
    "start_time": "2022-03-30T11:46:02.261Z"
   },
   {
    "duration": 0,
    "start_time": "2022-03-30T11:46:02.427Z"
   },
   {
    "duration": 0,
    "start_time": "2022-03-30T11:46:02.429Z"
   },
   {
    "duration": 0,
    "start_time": "2022-03-30T11:46:02.431Z"
   },
   {
    "duration": 0,
    "start_time": "2022-03-30T11:46:02.433Z"
   },
   {
    "duration": 0,
    "start_time": "2022-03-30T11:46:02.444Z"
   },
   {
    "duration": 0,
    "start_time": "2022-03-30T11:46:02.445Z"
   },
   {
    "duration": 0,
    "start_time": "2022-03-30T11:46:02.446Z"
   },
   {
    "duration": 0,
    "start_time": "2022-03-30T11:46:02.448Z"
   },
   {
    "duration": 1457,
    "start_time": "2022-03-30T11:46:26.986Z"
   },
   {
    "duration": 31,
    "start_time": "2022-03-30T11:46:28.445Z"
   },
   {
    "duration": 16,
    "start_time": "2022-03-30T11:46:28.479Z"
   },
   {
    "duration": 8,
    "start_time": "2022-03-30T11:46:28.498Z"
   },
   {
    "duration": 7,
    "start_time": "2022-03-30T11:46:28.508Z"
   },
   {
    "duration": 7,
    "start_time": "2022-03-30T11:46:28.542Z"
   },
   {
    "duration": 49,
    "start_time": "2022-03-30T11:46:28.551Z"
   },
   {
    "duration": 15,
    "start_time": "2022-03-30T11:46:28.602Z"
   },
   {
    "duration": 10,
    "start_time": "2022-03-30T11:46:28.619Z"
   },
   {
    "duration": 14,
    "start_time": "2022-03-30T11:46:28.633Z"
   },
   {
    "duration": 4,
    "start_time": "2022-03-30T11:46:28.650Z"
   },
   {
    "duration": 19,
    "start_time": "2022-03-30T11:46:28.657Z"
   },
   {
    "duration": 18,
    "start_time": "2022-03-30T11:46:28.679Z"
   },
   {
    "duration": 52,
    "start_time": "2022-03-30T11:46:28.699Z"
   },
   {
    "duration": 14,
    "start_time": "2022-03-30T11:46:28.753Z"
   },
   {
    "duration": 10,
    "start_time": "2022-03-30T11:46:28.769Z"
   },
   {
    "duration": 6,
    "start_time": "2022-03-30T11:46:28.782Z"
   },
   {
    "duration": 52,
    "start_time": "2022-03-30T11:46:28.791Z"
   },
   {
    "duration": 23,
    "start_time": "2022-03-30T11:46:28.845Z"
   },
   {
    "duration": 16,
    "start_time": "2022-03-30T11:46:28.870Z"
   },
   {
    "duration": 15,
    "start_time": "2022-03-30T11:46:28.889Z"
   },
   {
    "duration": 41,
    "start_time": "2022-03-30T11:46:28.906Z"
   },
   {
    "duration": 8,
    "start_time": "2022-03-30T11:46:28.950Z"
   },
   {
    "duration": 21,
    "start_time": "2022-03-30T11:46:28.961Z"
   },
   {
    "duration": 8,
    "start_time": "2022-03-30T11:46:28.984Z"
   },
   {
    "duration": 59,
    "start_time": "2022-03-30T11:46:28.995Z"
   },
   {
    "duration": 302,
    "start_time": "2022-03-30T11:46:29.056Z"
   },
   {
    "duration": 221,
    "start_time": "2022-03-30T11:46:29.363Z"
   },
   {
    "duration": 9,
    "start_time": "2022-03-30T11:46:29.587Z"
   },
   {
    "duration": 11,
    "start_time": "2022-03-30T11:46:29.598Z"
   },
   {
    "duration": 6,
    "start_time": "2022-03-30T11:46:29.612Z"
   },
   {
    "duration": 2,
    "start_time": "2022-03-30T11:46:29.643Z"
   },
   {
    "duration": 410,
    "start_time": "2022-03-30T11:46:29.647Z"
   },
   {
    "duration": 388,
    "start_time": "2022-03-30T11:46:30.059Z"
   },
   {
    "duration": 398,
    "start_time": "2022-03-30T11:46:30.449Z"
   },
   {
    "duration": 415,
    "start_time": "2022-03-30T11:46:30.849Z"
   },
   {
    "duration": 17,
    "start_time": "2022-03-30T11:46:31.267Z"
   },
   {
    "duration": 11,
    "start_time": "2022-03-30T11:46:31.286Z"
   },
   {
    "duration": 356,
    "start_time": "2022-03-30T11:46:31.300Z"
   },
   {
    "duration": 19,
    "start_time": "2022-03-30T11:46:31.659Z"
   },
   {
    "duration": 455,
    "start_time": "2022-03-30T11:46:31.680Z"
   },
   {
    "duration": 580,
    "start_time": "2022-03-30T11:46:52.599Z"
   },
   {
    "duration": 533,
    "start_time": "2022-03-30T11:47:01.158Z"
   },
   {
    "duration": 417,
    "start_time": "2022-03-30T11:47:15.638Z"
   },
   {
    "duration": 545,
    "start_time": "2022-03-30T11:47:22.277Z"
   },
   {
    "duration": 516,
    "start_time": "2022-03-30T11:47:27.301Z"
   },
   {
    "duration": 490,
    "start_time": "2022-03-30T11:47:34.173Z"
   },
   {
    "duration": 502,
    "start_time": "2022-03-30T11:47:45.661Z"
   },
   {
    "duration": 163,
    "start_time": "2022-03-30T11:48:09.693Z"
   },
   {
    "duration": 19,
    "start_time": "2022-03-30T11:48:16.070Z"
   },
   {
    "duration": 259,
    "start_time": "2022-03-30T11:48:25.645Z"
   },
   {
    "duration": 23,
    "start_time": "2022-03-30T11:48:58.571Z"
   },
   {
    "duration": 11,
    "start_time": "2022-03-30T11:49:21.579Z"
   },
   {
    "duration": 9,
    "start_time": "2022-03-30T11:49:57.506Z"
   },
   {
    "duration": 240,
    "start_time": "2022-03-30T11:51:02.698Z"
   },
   {
    "duration": 188,
    "start_time": "2022-03-30T11:51:43.450Z"
   },
   {
    "duration": 275,
    "start_time": "2022-03-30T11:51:53.873Z"
   },
   {
    "duration": 189,
    "start_time": "2022-03-30T11:52:55.297Z"
   },
   {
    "duration": 277,
    "start_time": "2022-03-30T11:53:04.752Z"
   },
   {
    "duration": 7,
    "start_time": "2022-03-30T12:02:29.039Z"
   },
   {
    "duration": 9,
    "start_time": "2022-03-30T12:02:54.271Z"
   },
   {
    "duration": 6,
    "start_time": "2022-03-30T12:03:02.254Z"
   },
   {
    "duration": 171,
    "start_time": "2022-03-30T12:13:55.221Z"
   },
   {
    "duration": 18,
    "start_time": "2022-03-30T12:25:16.290Z"
   },
   {
    "duration": 18,
    "start_time": "2022-03-30T12:25:26.713Z"
   },
   {
    "duration": 11,
    "start_time": "2022-03-30T12:28:08.078Z"
   },
   {
    "duration": 6,
    "start_time": "2022-03-30T12:28:37.966Z"
   },
   {
    "duration": 394,
    "start_time": "2022-03-30T12:37:46.717Z"
   },
   {
    "duration": 292,
    "start_time": "2022-03-30T12:37:51.613Z"
   },
   {
    "duration": 323,
    "start_time": "2022-03-30T12:40:21.220Z"
   },
   {
    "duration": 309,
    "start_time": "2022-03-30T12:41:14.146Z"
   },
   {
    "duration": 6,
    "start_time": "2022-03-30T12:44:42.287Z"
   },
   {
    "duration": 6,
    "start_time": "2022-03-30T12:44:55.870Z"
   },
   {
    "duration": 6,
    "start_time": "2022-03-30T12:44:59.670Z"
   },
   {
    "duration": 7,
    "start_time": "2022-03-30T12:47:17.180Z"
   },
   {
    "duration": 6,
    "start_time": "2022-03-30T12:47:25.195Z"
   },
   {
    "duration": 13,
    "start_time": "2022-03-30T12:55:24.148Z"
   },
   {
    "duration": 175,
    "start_time": "2022-03-30T12:56:02.459Z"
   },
   {
    "duration": 89,
    "start_time": "2022-03-30T12:56:56.483Z"
   },
   {
    "duration": 6,
    "start_time": "2022-03-30T12:58:08.865Z"
   },
   {
    "duration": 13,
    "start_time": "2022-03-30T12:58:19.969Z"
   },
   {
    "duration": 79,
    "start_time": "2022-03-30T12:58:30.007Z"
   },
   {
    "duration": 20,
    "start_time": "2022-03-30T12:59:05.305Z"
   },
   {
    "duration": 18,
    "start_time": "2022-03-30T12:59:28.552Z"
   },
   {
    "duration": 19,
    "start_time": "2022-03-30T12:59:51.264Z"
   },
   {
    "duration": 24,
    "start_time": "2022-03-30T13:00:09.703Z"
   },
   {
    "duration": 19,
    "start_time": "2022-03-30T13:01:00.193Z"
   },
   {
    "duration": 19,
    "start_time": "2022-03-30T13:01:18.181Z"
   },
   {
    "duration": 20,
    "start_time": "2022-03-30T13:02:22.988Z"
   },
   {
    "duration": 19,
    "start_time": "2022-03-30T13:02:29.317Z"
   },
   {
    "duration": 20,
    "start_time": "2022-03-30T13:02:35.101Z"
   },
   {
    "duration": 258,
    "start_time": "2022-03-30T13:04:10.021Z"
   },
   {
    "duration": 47,
    "start_time": "2022-03-30T13:04:45.139Z"
   },
   {
    "duration": 250,
    "start_time": "2022-03-30T13:11:03.116Z"
   },
   {
    "duration": 167,
    "start_time": "2022-03-30T13:12:29.603Z"
   },
   {
    "duration": 14,
    "start_time": "2022-03-30T13:12:43.850Z"
   },
   {
    "duration": 8,
    "start_time": "2022-03-30T13:14:04.505Z"
   },
   {
    "duration": 31,
    "start_time": "2022-03-30T13:15:15.672Z"
   },
   {
    "duration": 9,
    "start_time": "2022-03-30T13:16:26.463Z"
   },
   {
    "duration": 31,
    "start_time": "2022-03-30T13:16:28.622Z"
   },
   {
    "duration": 28,
    "start_time": "2022-03-30T13:18:01.758Z"
   },
   {
    "duration": 7,
    "start_time": "2022-03-30T13:18:06.901Z"
   },
   {
    "duration": 29,
    "start_time": "2022-03-30T13:19:18.453Z"
   },
   {
    "duration": 28,
    "start_time": "2022-03-30T13:19:24.820Z"
   },
   {
    "duration": 6,
    "start_time": "2022-03-30T13:21:12.945Z"
   },
   {
    "duration": 7,
    "start_time": "2022-03-30T13:21:20.018Z"
   },
   {
    "duration": 6,
    "start_time": "2022-03-30T13:21:56.282Z"
   },
   {
    "duration": 5,
    "start_time": "2022-03-30T13:22:25.498Z"
   },
   {
    "duration": 9,
    "start_time": "2022-03-30T13:26:23.253Z"
   },
   {
    "duration": 11,
    "start_time": "2022-03-30T13:27:18.236Z"
   },
   {
    "duration": 10,
    "start_time": "2022-03-30T13:30:00.393Z"
   },
   {
    "duration": 13,
    "start_time": "2022-03-30T13:30:25.475Z"
   },
   {
    "duration": 11,
    "start_time": "2022-03-30T13:31:06.089Z"
   },
   {
    "duration": 5,
    "start_time": "2022-03-30T13:31:12.081Z"
   },
   {
    "duration": 1271,
    "start_time": "2022-03-30T15:34:12.073Z"
   },
   {
    "duration": 21,
    "start_time": "2022-03-30T15:34:13.346Z"
   },
   {
    "duration": 15,
    "start_time": "2022-03-30T15:34:13.368Z"
   },
   {
    "duration": 26,
    "start_time": "2022-03-30T15:34:13.385Z"
   },
   {
    "duration": 14,
    "start_time": "2022-03-30T15:34:13.412Z"
   },
   {
    "duration": 20,
    "start_time": "2022-03-30T15:34:13.427Z"
   },
   {
    "duration": 36,
    "start_time": "2022-03-30T15:34:13.449Z"
   },
   {
    "duration": 9,
    "start_time": "2022-03-30T15:34:13.487Z"
   },
   {
    "duration": 17,
    "start_time": "2022-03-30T15:34:13.498Z"
   },
   {
    "duration": 17,
    "start_time": "2022-03-30T15:34:13.518Z"
   },
   {
    "duration": 10,
    "start_time": "2022-03-30T15:34:13.537Z"
   },
   {
    "duration": 28,
    "start_time": "2022-03-30T15:34:13.548Z"
   },
   {
    "duration": 23,
    "start_time": "2022-03-30T15:34:13.578Z"
   },
   {
    "duration": 33,
    "start_time": "2022-03-30T15:34:13.603Z"
   },
   {
    "duration": 18,
    "start_time": "2022-03-30T15:34:13.638Z"
   },
   {
    "duration": 19,
    "start_time": "2022-03-30T15:34:13.658Z"
   },
   {
    "duration": 26,
    "start_time": "2022-03-30T15:34:13.678Z"
   },
   {
    "duration": 30,
    "start_time": "2022-03-30T15:34:13.705Z"
   },
   {
    "duration": 23,
    "start_time": "2022-03-30T15:34:13.737Z"
   },
   {
    "duration": 17,
    "start_time": "2022-03-30T15:34:13.762Z"
   },
   {
    "duration": 23,
    "start_time": "2022-03-30T15:34:13.780Z"
   },
   {
    "duration": 19,
    "start_time": "2022-03-30T15:34:13.805Z"
   },
   {
    "duration": 23,
    "start_time": "2022-03-30T15:34:13.826Z"
   },
   {
    "duration": 42,
    "start_time": "2022-03-30T15:34:13.851Z"
   },
   {
    "duration": 14,
    "start_time": "2022-03-30T15:34:13.895Z"
   },
   {
    "duration": 23,
    "start_time": "2022-03-30T15:34:13.910Z"
   },
   {
    "duration": 189,
    "start_time": "2022-03-30T15:34:13.935Z"
   },
   {
    "duration": 122,
    "start_time": "2022-03-30T15:34:14.128Z"
   },
   {
    "duration": 6,
    "start_time": "2022-03-30T15:34:14.252Z"
   },
   {
    "duration": 15,
    "start_time": "2022-03-30T15:34:14.259Z"
   },
   {
    "duration": 22,
    "start_time": "2022-03-30T15:34:14.276Z"
   },
   {
    "duration": 20,
    "start_time": "2022-03-30T15:34:14.300Z"
   },
   {
    "duration": 321,
    "start_time": "2022-03-30T15:34:14.322Z"
   },
   {
    "duration": 310,
    "start_time": "2022-03-30T15:34:14.645Z"
   },
   {
    "duration": 337,
    "start_time": "2022-03-30T15:34:14.957Z"
   },
   {
    "duration": 444,
    "start_time": "2022-03-30T15:34:15.296Z"
   },
   {
    "duration": 11,
    "start_time": "2022-03-30T15:34:15.742Z"
   },
   {
    "duration": 13,
    "start_time": "2022-03-30T15:34:15.756Z"
   },
   {
    "duration": 252,
    "start_time": "2022-03-30T15:34:15.771Z"
   },
   {
    "duration": 18,
    "start_time": "2022-03-30T15:34:16.025Z"
   },
   {
    "duration": 337,
    "start_time": "2022-03-30T15:34:16.044Z"
   },
   {
    "duration": 119,
    "start_time": "2022-03-30T15:34:16.382Z"
   },
   {
    "duration": 5,
    "start_time": "2022-03-30T15:34:16.503Z"
   },
   {
    "duration": 165,
    "start_time": "2022-03-30T15:34:16.510Z"
   },
   {
    "duration": 250,
    "start_time": "2022-03-30T15:34:16.677Z"
   },
   {
    "duration": 10,
    "start_time": "2022-03-30T15:34:16.929Z"
   },
   {
    "duration": 17,
    "start_time": "2022-03-30T15:34:16.941Z"
   },
   {
    "duration": 178,
    "start_time": "2022-03-30T15:34:16.959Z"
   },
   {
    "duration": 191,
    "start_time": "2022-03-30T15:34:17.139Z"
   },
   {
    "duration": 179,
    "start_time": "2022-03-30T15:34:17.332Z"
   },
   {
    "duration": 4,
    "start_time": "2022-03-30T15:34:17.513Z"
   },
   {
    "duration": 20,
    "start_time": "2022-03-30T15:34:17.518Z"
   },
   {
    "duration": 23,
    "start_time": "2022-03-30T15:34:17.540Z"
   },
   {
    "duration": 66,
    "start_time": "2022-03-30T15:34:17.565Z"
   },
   {
    "duration": 26,
    "start_time": "2022-03-30T15:34:17.633Z"
   },
   {
    "duration": 72,
    "start_time": "2022-03-30T15:34:17.661Z"
   },
   {
    "duration": 121,
    "start_time": "2022-03-30T15:34:17.735Z"
   },
   {
    "duration": 30,
    "start_time": "2022-03-30T15:34:17.857Z"
   },
   {
    "duration": 138,
    "start_time": "2022-03-30T15:34:17.889Z"
   },
   {
    "duration": 12,
    "start_time": "2022-03-30T15:34:18.029Z"
   },
   {
    "duration": 24,
    "start_time": "2022-03-30T15:34:18.042Z"
   },
   {
    "duration": 4,
    "start_time": "2022-03-30T15:34:18.067Z"
   },
   {
    "duration": 8,
    "start_time": "2022-03-30T15:34:18.073Z"
   },
   {
    "duration": 11,
    "start_time": "2022-03-30T15:34:18.083Z"
   },
   {
    "duration": 8,
    "start_time": "2022-03-30T15:34:18.096Z"
   },
   {
    "duration": 31,
    "start_time": "2022-03-30T15:34:18.106Z"
   },
   {
    "duration": 1556,
    "start_time": "2022-03-30T16:23:39.926Z"
   },
   {
    "duration": 1444,
    "start_time": "2022-03-30T16:23:59.324Z"
   },
   {
    "duration": 1144,
    "start_time": "2022-03-30T16:24:22.136Z"
   },
   {
    "duration": 26,
    "start_time": "2022-03-30T16:24:23.282Z"
   },
   {
    "duration": 11,
    "start_time": "2022-03-30T16:24:23.309Z"
   },
   {
    "duration": 8,
    "start_time": "2022-03-30T16:24:23.322Z"
   },
   {
    "duration": 11,
    "start_time": "2022-03-30T16:24:23.331Z"
   },
   {
    "duration": 7,
    "start_time": "2022-03-30T16:24:23.343Z"
   },
   {
    "duration": 28,
    "start_time": "2022-03-30T16:24:23.351Z"
   },
   {
    "duration": 9,
    "start_time": "2022-03-30T16:24:23.381Z"
   },
   {
    "duration": 8,
    "start_time": "2022-03-30T16:24:23.391Z"
   },
   {
    "duration": 6,
    "start_time": "2022-03-30T16:24:23.401Z"
   },
   {
    "duration": 4,
    "start_time": "2022-03-30T16:24:23.409Z"
   },
   {
    "duration": 27,
    "start_time": "2022-03-30T16:24:23.414Z"
   },
   {
    "duration": 15,
    "start_time": "2022-03-30T16:24:23.443Z"
   },
   {
    "duration": 14,
    "start_time": "2022-03-30T16:24:23.460Z"
   },
   {
    "duration": 10,
    "start_time": "2022-03-30T16:24:23.476Z"
   },
   {
    "duration": 9,
    "start_time": "2022-03-30T16:24:23.487Z"
   },
   {
    "duration": 8,
    "start_time": "2022-03-30T16:24:23.498Z"
   },
   {
    "duration": 37,
    "start_time": "2022-03-30T16:24:23.507Z"
   },
   {
    "duration": 13,
    "start_time": "2022-03-30T16:24:23.546Z"
   },
   {
    "duration": 11,
    "start_time": "2022-03-30T16:24:23.561Z"
   },
   {
    "duration": 12,
    "start_time": "2022-03-30T16:24:23.574Z"
   },
   {
    "duration": 8,
    "start_time": "2022-03-30T16:24:23.588Z"
   },
   {
    "duration": 7,
    "start_time": "2022-03-30T16:24:23.597Z"
   },
   {
    "duration": 43,
    "start_time": "2022-03-30T16:24:23.606Z"
   },
   {
    "duration": 5,
    "start_time": "2022-03-30T16:24:23.650Z"
   },
   {
    "duration": 10,
    "start_time": "2022-03-30T16:24:23.657Z"
   },
   {
    "duration": 193,
    "start_time": "2022-03-30T16:24:23.668Z"
   },
   {
    "duration": 128,
    "start_time": "2022-03-30T16:24:23.864Z"
   },
   {
    "duration": 6,
    "start_time": "2022-03-30T16:24:23.993Z"
   },
   {
    "duration": 7,
    "start_time": "2022-03-30T16:24:24.000Z"
   },
   {
    "duration": 6,
    "start_time": "2022-03-30T16:24:24.009Z"
   },
   {
    "duration": 21,
    "start_time": "2022-03-30T16:24:24.017Z"
   },
   {
    "duration": 301,
    "start_time": "2022-03-30T16:24:24.039Z"
   },
   {
    "duration": 304,
    "start_time": "2022-03-30T16:24:24.341Z"
   },
   {
    "duration": 319,
    "start_time": "2022-03-30T16:24:24.647Z"
   },
   {
    "duration": 331,
    "start_time": "2022-03-30T16:24:24.968Z"
   },
   {
    "duration": 11,
    "start_time": "2022-03-30T16:24:25.300Z"
   },
   {
    "duration": 7,
    "start_time": "2022-03-30T16:24:25.312Z"
   },
   {
    "duration": 251,
    "start_time": "2022-03-30T16:24:25.321Z"
   },
   {
    "duration": 13,
    "start_time": "2022-03-30T16:24:25.573Z"
   },
   {
    "duration": 383,
    "start_time": "2022-03-30T16:24:25.588Z"
   },
   {
    "duration": 128,
    "start_time": "2022-03-30T16:24:25.973Z"
   },
   {
    "duration": 5,
    "start_time": "2022-03-30T16:24:26.102Z"
   },
   {
    "duration": 161,
    "start_time": "2022-03-30T16:24:26.109Z"
   },
   {
    "duration": 254,
    "start_time": "2022-03-30T16:24:26.271Z"
   },
   {
    "duration": 5,
    "start_time": "2022-03-30T16:24:26.526Z"
   },
   {
    "duration": 25,
    "start_time": "2022-03-30T16:24:26.537Z"
   },
   {
    "duration": 167,
    "start_time": "2022-03-30T16:24:26.564Z"
   },
   {
    "duration": 184,
    "start_time": "2022-03-30T16:24:26.737Z"
   },
   {
    "duration": 172,
    "start_time": "2022-03-30T16:24:26.923Z"
   },
   {
    "duration": 5,
    "start_time": "2022-03-30T16:24:27.096Z"
   },
   {
    "duration": 10,
    "start_time": "2022-03-30T16:24:27.103Z"
   },
   {
    "duration": 29,
    "start_time": "2022-03-30T16:24:27.115Z"
   },
   {
    "duration": 51,
    "start_time": "2022-03-30T16:24:27.146Z"
   },
   {
    "duration": 10,
    "start_time": "2022-03-30T16:24:27.199Z"
   },
   {
    "duration": 71,
    "start_time": "2022-03-30T16:24:27.211Z"
   },
   {
    "duration": 114,
    "start_time": "2022-03-30T16:24:27.284Z"
   },
   {
    "duration": 39,
    "start_time": "2022-03-30T16:24:27.400Z"
   },
   {
    "duration": 134,
    "start_time": "2022-03-30T16:24:27.441Z"
   },
   {
    "duration": 6,
    "start_time": "2022-03-30T16:24:27.577Z"
   },
   {
    "duration": 34,
    "start_time": "2022-03-30T16:24:27.585Z"
   },
   {
    "duration": 4,
    "start_time": "2022-03-30T16:24:27.621Z"
   },
   {
    "duration": 11,
    "start_time": "2022-03-30T16:24:27.627Z"
   },
   {
    "duration": 10,
    "start_time": "2022-03-30T16:24:27.639Z"
   },
   {
    "duration": 6,
    "start_time": "2022-03-30T16:24:27.650Z"
   },
   {
    "duration": 4,
    "start_time": "2022-03-30T16:24:27.658Z"
   },
   {
    "duration": 1585,
    "start_time": "2022-03-30T16:24:27.664Z"
   },
   {
    "duration": 9,
    "start_time": "2022-03-30T16:25:32.892Z"
   },
   {
    "duration": 87,
    "start_time": "2022-03-30T16:26:58.037Z"
   },
   {
    "duration": 1598,
    "start_time": "2022-03-30T16:28:40.777Z"
   },
   {
    "duration": 7,
    "start_time": "2022-03-30T16:29:10.345Z"
   },
   {
    "duration": 23,
    "start_time": "2022-03-30T16:29:26.888Z"
   },
   {
    "duration": 21,
    "start_time": "2022-03-30T16:30:38.399Z"
   },
   {
    "duration": 4,
    "start_time": "2022-03-30T16:31:29.942Z"
   },
   {
    "duration": 4,
    "start_time": "2022-03-30T16:33:27.916Z"
   },
   {
    "duration": 3,
    "start_time": "2022-03-30T16:37:16.264Z"
   },
   {
    "duration": 4,
    "start_time": "2022-03-30T16:37:19.424Z"
   },
   {
    "duration": 4,
    "start_time": "2022-03-30T16:38:47.798Z"
   },
   {
    "duration": 1340,
    "start_time": "2022-03-30T16:38:50.669Z"
   },
   {
    "duration": 9,
    "start_time": "2022-03-30T16:39:06.950Z"
   },
   {
    "duration": 4,
    "start_time": "2022-03-30T16:39:13.094Z"
   },
   {
    "duration": 9,
    "start_time": "2022-03-30T16:39:46.685Z"
   },
   {
    "duration": 78,
    "start_time": "2022-03-30T16:40:27.892Z"
   },
   {
    "duration": 1335,
    "start_time": "2022-03-30T16:40:54.596Z"
   },
   {
    "duration": 8,
    "start_time": "2022-03-30T16:41:13.451Z"
   },
   {
    "duration": 147,
    "start_time": "2022-03-30T16:41:31.996Z"
   },
   {
    "duration": 73,
    "start_time": "2022-03-30T16:41:36.643Z"
   },
   {
    "duration": 4,
    "start_time": "2022-03-30T16:42:31.186Z"
   },
   {
    "duration": 5,
    "start_time": "2022-03-30T16:42:38.762Z"
   },
   {
    "duration": 4,
    "start_time": "2022-03-30T16:43:20.738Z"
   },
   {
    "duration": 1500,
    "start_time": "2022-03-30T16:43:22.746Z"
   },
   {
    "duration": 9,
    "start_time": "2022-03-30T16:43:38.978Z"
   },
   {
    "duration": 89,
    "start_time": "2022-03-30T16:43:57.138Z"
   },
   {
    "duration": 79,
    "start_time": "2022-03-30T16:44:09.777Z"
   },
   {
    "duration": 104,
    "start_time": "2022-03-30T16:44:26.817Z"
   },
   {
    "duration": 9,
    "start_time": "2022-03-30T16:44:55.745Z"
   },
   {
    "duration": 11,
    "start_time": "2022-03-30T16:45:00.488Z"
   },
   {
    "duration": 87,
    "start_time": "2022-03-30T16:45:36.463Z"
   },
   {
    "duration": 101,
    "start_time": "2022-03-30T16:45:45.744Z"
   },
   {
    "duration": 76,
    "start_time": "2022-03-30T16:45:55.983Z"
   },
   {
    "duration": 3433,
    "start_time": "2022-03-30T16:55:37.596Z"
   },
   {
    "duration": 4,
    "start_time": "2022-03-30T16:55:45.876Z"
   },
   {
    "duration": 7,
    "start_time": "2022-03-30T16:59:09.388Z"
   },
   {
    "duration": 1295,
    "start_time": "2022-03-31T06:32:03.138Z"
   },
   {
    "duration": 37,
    "start_time": "2022-03-31T06:32:04.435Z"
   },
   {
    "duration": 11,
    "start_time": "2022-03-31T06:32:04.474Z"
   },
   {
    "duration": 8,
    "start_time": "2022-03-31T06:32:04.486Z"
   },
   {
    "duration": 5,
    "start_time": "2022-03-31T06:32:04.496Z"
   },
   {
    "duration": 8,
    "start_time": "2022-03-31T06:32:04.503Z"
   },
   {
    "duration": 45,
    "start_time": "2022-03-31T06:32:04.512Z"
   },
   {
    "duration": 11,
    "start_time": "2022-03-31T06:32:04.559Z"
   },
   {
    "duration": 9,
    "start_time": "2022-03-31T06:32:04.572Z"
   },
   {
    "duration": 7,
    "start_time": "2022-03-31T06:32:04.582Z"
   },
   {
    "duration": 3,
    "start_time": "2022-03-31T06:32:04.590Z"
   },
   {
    "duration": 13,
    "start_time": "2022-03-31T06:32:04.595Z"
   },
   {
    "duration": 11,
    "start_time": "2022-03-31T06:32:04.610Z"
   },
   {
    "duration": 22,
    "start_time": "2022-03-31T06:32:04.624Z"
   },
   {
    "duration": 8,
    "start_time": "2022-03-31T06:32:04.647Z"
   },
   {
    "duration": 6,
    "start_time": "2022-03-31T06:32:04.657Z"
   },
   {
    "duration": 10,
    "start_time": "2022-03-31T06:32:04.665Z"
   },
   {
    "duration": 25,
    "start_time": "2022-03-31T06:32:04.677Z"
   },
   {
    "duration": 16,
    "start_time": "2022-03-31T06:32:04.704Z"
   },
   {
    "duration": 11,
    "start_time": "2022-03-31T06:32:04.721Z"
   },
   {
    "duration": 10,
    "start_time": "2022-03-31T06:32:04.734Z"
   },
   {
    "duration": 7,
    "start_time": "2022-03-31T06:32:04.746Z"
   },
   {
    "duration": 9,
    "start_time": "2022-03-31T06:32:04.755Z"
   },
   {
    "duration": 47,
    "start_time": "2022-03-31T06:32:04.766Z"
   },
   {
    "duration": 6,
    "start_time": "2022-03-31T06:32:04.814Z"
   },
   {
    "duration": 14,
    "start_time": "2022-03-31T06:32:04.821Z"
   },
   {
    "duration": 207,
    "start_time": "2022-03-31T06:32:04.836Z"
   },
   {
    "duration": 124,
    "start_time": "2022-03-31T06:32:05.045Z"
   },
   {
    "duration": 6,
    "start_time": "2022-03-31T06:32:05.171Z"
   },
   {
    "duration": 7,
    "start_time": "2022-03-31T06:32:05.179Z"
   },
   {
    "duration": 18,
    "start_time": "2022-03-31T06:32:05.188Z"
   },
   {
    "duration": 5,
    "start_time": "2022-03-31T06:32:05.208Z"
   },
   {
    "duration": 312,
    "start_time": "2022-03-31T06:32:05.215Z"
   },
   {
    "duration": 315,
    "start_time": "2022-03-31T06:32:05.529Z"
   },
   {
    "duration": 328,
    "start_time": "2022-03-31T06:32:05.846Z"
   },
   {
    "duration": 411,
    "start_time": "2022-03-31T06:32:06.176Z"
   },
   {
    "duration": 16,
    "start_time": "2022-03-31T06:32:06.588Z"
   },
   {
    "duration": 7,
    "start_time": "2022-03-31T06:32:06.606Z"
   },
   {
    "duration": 241,
    "start_time": "2022-03-31T06:32:06.614Z"
   },
   {
    "duration": 14,
    "start_time": "2022-03-31T06:32:06.856Z"
   },
   {
    "duration": 377,
    "start_time": "2022-03-31T06:32:06.874Z"
   },
   {
    "duration": 128,
    "start_time": "2022-03-31T06:32:07.252Z"
   },
   {
    "duration": 5,
    "start_time": "2022-03-31T06:32:07.382Z"
   },
   {
    "duration": 161,
    "start_time": "2022-03-31T06:32:07.389Z"
   },
   {
    "duration": 231,
    "start_time": "2022-03-31T06:32:07.552Z"
   },
   {
    "duration": 4,
    "start_time": "2022-03-31T06:32:07.785Z"
   },
   {
    "duration": 19,
    "start_time": "2022-03-31T06:32:07.790Z"
   },
   {
    "duration": 172,
    "start_time": "2022-03-31T06:32:07.810Z"
   },
   {
    "duration": 186,
    "start_time": "2022-03-31T06:32:07.984Z"
   },
   {
    "duration": 174,
    "start_time": "2022-03-31T06:32:08.172Z"
   },
   {
    "duration": 4,
    "start_time": "2022-03-31T06:32:08.348Z"
   },
   {
    "duration": 7,
    "start_time": "2022-03-31T06:32:08.353Z"
   },
   {
    "duration": 10,
    "start_time": "2022-03-31T06:32:08.361Z"
   },
   {
    "duration": 69,
    "start_time": "2022-03-31T06:32:08.373Z"
   },
   {
    "duration": 10,
    "start_time": "2022-03-31T06:32:08.444Z"
   },
   {
    "duration": 73,
    "start_time": "2022-03-31T06:32:08.456Z"
   },
   {
    "duration": 130,
    "start_time": "2022-03-31T06:32:08.531Z"
   },
   {
    "duration": 41,
    "start_time": "2022-03-31T06:32:08.663Z"
   },
   {
    "duration": 152,
    "start_time": "2022-03-31T06:32:08.706Z"
   },
   {
    "duration": 6,
    "start_time": "2022-03-31T06:32:08.860Z"
   },
   {
    "duration": 36,
    "start_time": "2022-03-31T06:32:08.867Z"
   },
   {
    "duration": 5,
    "start_time": "2022-03-31T06:32:08.904Z"
   },
   {
    "duration": 5,
    "start_time": "2022-03-31T06:32:08.910Z"
   },
   {
    "duration": 8,
    "start_time": "2022-03-31T06:32:08.917Z"
   },
   {
    "duration": 6,
    "start_time": "2022-03-31T06:32:08.927Z"
   },
   {
    "duration": 6,
    "start_time": "2022-03-31T06:32:08.935Z"
   },
   {
    "duration": 10,
    "start_time": "2022-03-31T06:32:08.942Z"
   },
   {
    "duration": 10,
    "start_time": "2022-03-31T06:32:08.954Z"
   },
   {
    "duration": 58,
    "start_time": "2022-03-31T06:32:08.966Z"
   },
   {
    "duration": 23,
    "start_time": "2022-03-31T06:32:09.026Z"
   },
   {
    "duration": 4,
    "start_time": "2022-03-31T06:32:09.050Z"
   },
   {
    "duration": 3,
    "start_time": "2022-03-31T06:32:09.056Z"
   },
   {
    "duration": 12,
    "start_time": "2022-03-31T06:32:09.061Z"
   },
   {
    "duration": 9,
    "start_time": "2022-03-31T06:33:31.048Z"
   },
   {
    "duration": 102,
    "start_time": "2022-03-31T06:34:53.687Z"
   },
   {
    "duration": 4,
    "start_time": "2022-03-31T06:35:37.277Z"
   },
   {
    "duration": 3760,
    "start_time": "2022-03-31T06:37:00.243Z"
   },
   {
    "duration": 2973,
    "start_time": "2022-03-31T06:39:29.497Z"
   },
   {
    "duration": 15,
    "start_time": "2022-03-31T06:40:12.367Z"
   },
   {
    "duration": 207,
    "start_time": "2022-03-31T06:40:32.408Z"
   },
   {
    "duration": 13,
    "start_time": "2022-03-31T06:40:37.664Z"
   },
   {
    "duration": 200,
    "start_time": "2022-03-31T06:52:09.205Z"
   },
   {
    "duration": 160,
    "start_time": "2022-03-31T06:52:17.124Z"
   },
   {
    "duration": 13,
    "start_time": "2022-03-31T06:52:22.756Z"
   },
   {
    "duration": 193,
    "start_time": "2022-03-31T06:53:01.020Z"
   },
   {
    "duration": 188,
    "start_time": "2022-03-31T06:53:06.611Z"
   },
   {
    "duration": 2693,
    "start_time": "2022-03-31T06:53:35.619Z"
   },
   {
    "duration": 13,
    "start_time": "2022-03-31T06:54:08.515Z"
   },
   {
    "duration": 171,
    "start_time": "2022-03-31T06:54:22.882Z"
   },
   {
    "duration": 168,
    "start_time": "2022-03-31T06:54:32.865Z"
   },
   {
    "duration": 14,
    "start_time": "2022-03-31T06:54:51.201Z"
   },
   {
    "duration": 163,
    "start_time": "2022-03-31T06:56:13.633Z"
   },
   {
    "duration": 3,
    "start_time": "2022-03-31T06:57:20.168Z"
   },
   {
    "duration": 4,
    "start_time": "2022-03-31T06:57:26.127Z"
   },
   {
    "duration": 1154,
    "start_time": "2022-03-31T07:07:52.634Z"
   },
   {
    "duration": 25,
    "start_time": "2022-03-31T07:07:53.790Z"
   },
   {
    "duration": 20,
    "start_time": "2022-03-31T07:07:53.817Z"
   },
   {
    "duration": 18,
    "start_time": "2022-03-31T07:07:53.839Z"
   },
   {
    "duration": 12,
    "start_time": "2022-03-31T07:07:53.858Z"
   },
   {
    "duration": 18,
    "start_time": "2022-03-31T07:07:53.872Z"
   },
   {
    "duration": 54,
    "start_time": "2022-03-31T07:07:53.891Z"
   },
   {
    "duration": 9,
    "start_time": "2022-03-31T07:07:53.946Z"
   },
   {
    "duration": 9,
    "start_time": "2022-03-31T07:07:53.957Z"
   },
   {
    "duration": 19,
    "start_time": "2022-03-31T07:07:53.968Z"
   },
   {
    "duration": 9,
    "start_time": "2022-03-31T07:07:53.989Z"
   },
   {
    "duration": 19,
    "start_time": "2022-03-31T07:07:53.999Z"
   },
   {
    "duration": 22,
    "start_time": "2022-03-31T07:07:54.019Z"
   },
   {
    "duration": 21,
    "start_time": "2022-03-31T07:07:54.042Z"
   },
   {
    "duration": 9,
    "start_time": "2022-03-31T07:07:54.064Z"
   },
   {
    "duration": 16,
    "start_time": "2022-03-31T07:07:54.075Z"
   },
   {
    "duration": 18,
    "start_time": "2022-03-31T07:07:54.093Z"
   },
   {
    "duration": 20,
    "start_time": "2022-03-31T07:07:54.113Z"
   },
   {
    "duration": 27,
    "start_time": "2022-03-31T07:07:54.135Z"
   },
   {
    "duration": 13,
    "start_time": "2022-03-31T07:07:54.164Z"
   },
   {
    "duration": 37,
    "start_time": "2022-03-31T07:07:54.178Z"
   },
   {
    "duration": 21,
    "start_time": "2022-03-31T07:07:54.217Z"
   },
   {
    "duration": 13,
    "start_time": "2022-03-31T07:07:54.239Z"
   },
   {
    "duration": 28,
    "start_time": "2022-03-31T07:07:54.254Z"
   },
   {
    "duration": 14,
    "start_time": "2022-03-31T07:07:54.284Z"
   },
   {
    "duration": 25,
    "start_time": "2022-03-31T07:07:54.300Z"
   },
   {
    "duration": 186,
    "start_time": "2022-03-31T07:07:54.327Z"
   },
   {
    "duration": 128,
    "start_time": "2022-03-31T07:07:54.518Z"
   },
   {
    "duration": 6,
    "start_time": "2022-03-31T07:07:54.648Z"
   },
   {
    "duration": 4,
    "start_time": "2022-03-31T07:07:54.656Z"
   },
   {
    "duration": 5,
    "start_time": "2022-03-31T07:07:54.662Z"
   },
   {
    "duration": 4,
    "start_time": "2022-03-31T07:07:54.668Z"
   },
   {
    "duration": 314,
    "start_time": "2022-03-31T07:07:54.674Z"
   },
   {
    "duration": 285,
    "start_time": "2022-03-31T07:07:54.990Z"
   },
   {
    "duration": 309,
    "start_time": "2022-03-31T07:07:55.277Z"
   },
   {
    "duration": 351,
    "start_time": "2022-03-31T07:07:55.587Z"
   },
   {
    "duration": 11,
    "start_time": "2022-03-31T07:07:55.940Z"
   },
   {
    "duration": 7,
    "start_time": "2022-03-31T07:07:55.952Z"
   },
   {
    "duration": 243,
    "start_time": "2022-03-31T07:07:55.961Z"
   },
   {
    "duration": 14,
    "start_time": "2022-03-31T07:07:56.206Z"
   },
   {
    "duration": 334,
    "start_time": "2022-03-31T07:07:56.221Z"
   },
   {
    "duration": 119,
    "start_time": "2022-03-31T07:07:56.557Z"
   },
   {
    "duration": 4,
    "start_time": "2022-03-31T07:07:56.678Z"
   },
   {
    "duration": 152,
    "start_time": "2022-03-31T07:07:56.684Z"
   },
   {
    "duration": 221,
    "start_time": "2022-03-31T07:07:56.838Z"
   },
   {
    "duration": 4,
    "start_time": "2022-03-31T07:07:57.060Z"
   },
   {
    "duration": 24,
    "start_time": "2022-03-31T07:07:57.066Z"
   },
   {
    "duration": 163,
    "start_time": "2022-03-31T07:07:57.091Z"
   },
   {
    "duration": 179,
    "start_time": "2022-03-31T07:07:57.255Z"
   },
   {
    "duration": 166,
    "start_time": "2022-03-31T07:07:57.435Z"
   },
   {
    "duration": 4,
    "start_time": "2022-03-31T07:07:57.603Z"
   },
   {
    "duration": 8,
    "start_time": "2022-03-31T07:07:57.608Z"
   },
   {
    "duration": 15,
    "start_time": "2022-03-31T07:07:57.618Z"
   },
   {
    "duration": 49,
    "start_time": "2022-03-31T07:07:57.635Z"
   },
   {
    "duration": 18,
    "start_time": "2022-03-31T07:07:57.686Z"
   },
   {
    "duration": 55,
    "start_time": "2022-03-31T07:07:57.706Z"
   },
   {
    "duration": 111,
    "start_time": "2022-03-31T07:07:57.763Z"
   },
   {
    "duration": 35,
    "start_time": "2022-03-31T07:07:57.876Z"
   },
   {
    "duration": 124,
    "start_time": "2022-03-31T07:07:57.912Z"
   },
   {
    "duration": 6,
    "start_time": "2022-03-31T07:07:58.038Z"
   },
   {
    "duration": 28,
    "start_time": "2022-03-31T07:07:58.045Z"
   },
   {
    "duration": 4,
    "start_time": "2022-03-31T07:07:58.074Z"
   },
   {
    "duration": 22,
    "start_time": "2022-03-31T07:07:58.080Z"
   },
   {
    "duration": 27,
    "start_time": "2022-03-31T07:07:58.104Z"
   },
   {
    "duration": 9,
    "start_time": "2022-03-31T07:07:58.133Z"
   },
   {
    "duration": 16,
    "start_time": "2022-03-31T07:07:58.144Z"
   },
   {
    "duration": 26,
    "start_time": "2022-03-31T07:07:58.161Z"
   },
   {
    "duration": 14,
    "start_time": "2022-03-31T07:07:58.188Z"
   },
   {
    "duration": 29,
    "start_time": "2022-03-31T07:07:58.204Z"
   },
   {
    "duration": 3,
    "start_time": "2022-03-31T07:07:58.235Z"
   },
   {
    "duration": 14,
    "start_time": "2022-03-31T07:07:58.240Z"
   },
   {
    "duration": 14,
    "start_time": "2022-03-31T07:07:58.256Z"
   },
   {
    "duration": 17,
    "start_time": "2022-03-31T07:07:58.272Z"
   },
   {
    "duration": 32,
    "start_time": "2022-03-31T07:18:58.422Z"
   },
   {
    "duration": 7,
    "start_time": "2022-03-31T07:34:36.233Z"
   },
   {
    "duration": 270,
    "start_time": "2022-03-31T07:34:57.504Z"
   },
   {
    "duration": 427,
    "start_time": "2022-03-31T07:35:43.415Z"
   },
   {
    "duration": 1139,
    "start_time": "2022-03-31T08:11:36.051Z"
   },
   {
    "duration": 24,
    "start_time": "2022-03-31T08:11:37.192Z"
   },
   {
    "duration": 11,
    "start_time": "2022-03-31T08:11:37.218Z"
   },
   {
    "duration": 11,
    "start_time": "2022-03-31T08:11:37.231Z"
   },
   {
    "duration": 7,
    "start_time": "2022-03-31T08:11:37.244Z"
   },
   {
    "duration": 12,
    "start_time": "2022-03-31T08:11:37.253Z"
   },
   {
    "duration": 50,
    "start_time": "2022-03-31T08:11:37.267Z"
   },
   {
    "duration": 9,
    "start_time": "2022-03-31T08:11:37.319Z"
   },
   {
    "duration": 10,
    "start_time": "2022-03-31T08:11:37.330Z"
   },
   {
    "duration": 7,
    "start_time": "2022-03-31T08:11:37.343Z"
   },
   {
    "duration": 6,
    "start_time": "2022-03-31T08:11:37.351Z"
   },
   {
    "duration": 16,
    "start_time": "2022-03-31T08:11:37.358Z"
   },
   {
    "duration": 25,
    "start_time": "2022-03-31T08:11:37.376Z"
   },
   {
    "duration": 20,
    "start_time": "2022-03-31T08:11:37.402Z"
   },
   {
    "duration": 10,
    "start_time": "2022-03-31T08:11:37.423Z"
   },
   {
    "duration": 7,
    "start_time": "2022-03-31T08:11:37.435Z"
   },
   {
    "duration": 11,
    "start_time": "2022-03-31T08:11:37.443Z"
   },
   {
    "duration": 18,
    "start_time": "2022-03-31T08:11:37.456Z"
   },
   {
    "duration": 151,
    "start_time": "2022-03-31T08:11:37.475Z"
   },
   {
    "duration": 10,
    "start_time": "2022-03-31T08:11:37.628Z"
   },
   {
    "duration": 51,
    "start_time": "2022-03-31T08:11:37.640Z"
   },
   {
    "duration": 16,
    "start_time": "2022-03-31T08:11:37.693Z"
   },
   {
    "duration": 30,
    "start_time": "2022-03-31T08:11:37.711Z"
   },
   {
    "duration": 6,
    "start_time": "2022-03-31T08:11:37.743Z"
   },
   {
    "duration": 12,
    "start_time": "2022-03-31T08:11:37.751Z"
   },
   {
    "duration": 205,
    "start_time": "2022-03-31T08:11:37.764Z"
   },
   {
    "duration": 117,
    "start_time": "2022-03-31T08:11:37.971Z"
   },
   {
    "duration": 6,
    "start_time": "2022-03-31T08:11:38.101Z"
   },
   {
    "duration": 6,
    "start_time": "2022-03-31T08:11:38.108Z"
   },
   {
    "duration": 6,
    "start_time": "2022-03-31T08:11:38.116Z"
   },
   {
    "duration": 319,
    "start_time": "2022-03-31T08:11:38.124Z"
   },
   {
    "duration": 279,
    "start_time": "2022-03-31T08:11:38.445Z"
   },
   {
    "duration": 332,
    "start_time": "2022-03-31T08:11:38.726Z"
   },
   {
    "duration": 343,
    "start_time": "2022-03-31T08:11:39.060Z"
   },
   {
    "duration": 15,
    "start_time": "2022-03-31T08:11:39.405Z"
   },
   {
    "duration": 5,
    "start_time": "2022-03-31T08:11:39.422Z"
   },
   {
    "duration": 254,
    "start_time": "2022-03-31T08:11:39.428Z"
   },
   {
    "duration": 23,
    "start_time": "2022-03-31T08:11:39.683Z"
   },
   {
    "duration": 342,
    "start_time": "2022-03-31T08:11:39.708Z"
   },
   {
    "duration": 144,
    "start_time": "2022-03-31T08:11:40.052Z"
   },
   {
    "duration": 8,
    "start_time": "2022-03-31T08:11:40.200Z"
   },
   {
    "duration": 253,
    "start_time": "2022-03-31T08:11:40.210Z"
   },
   {
    "duration": 238,
    "start_time": "2022-03-31T08:11:40.464Z"
   },
   {
    "duration": 5,
    "start_time": "2022-03-31T08:11:40.704Z"
   },
   {
    "duration": 13,
    "start_time": "2022-03-31T08:11:40.710Z"
   },
   {
    "duration": 226,
    "start_time": "2022-03-31T08:11:40.724Z"
   },
   {
    "duration": 255,
    "start_time": "2022-03-31T08:11:40.953Z"
   },
   {
    "duration": 166,
    "start_time": "2022-03-31T08:11:41.210Z"
   },
   {
    "duration": 4,
    "start_time": "2022-03-31T08:11:41.377Z"
   },
   {
    "duration": 6,
    "start_time": "2022-03-31T08:11:41.382Z"
   },
   {
    "duration": 19,
    "start_time": "2022-03-31T08:11:41.389Z"
   },
   {
    "duration": 50,
    "start_time": "2022-03-31T08:11:41.410Z"
   },
   {
    "duration": 12,
    "start_time": "2022-03-31T08:11:41.462Z"
   },
   {
    "duration": 65,
    "start_time": "2022-03-31T08:11:41.475Z"
   },
   {
    "duration": 115,
    "start_time": "2022-03-31T08:11:41.542Z"
   },
   {
    "duration": 26,
    "start_time": "2022-03-31T08:11:41.658Z"
   },
   {
    "duration": 132,
    "start_time": "2022-03-31T08:11:41.686Z"
   },
   {
    "duration": 7,
    "start_time": "2022-03-31T08:11:41.820Z"
   },
   {
    "duration": 22,
    "start_time": "2022-03-31T08:11:41.828Z"
   },
   {
    "duration": 4,
    "start_time": "2022-03-31T08:11:41.852Z"
   },
   {
    "duration": 6,
    "start_time": "2022-03-31T08:11:41.857Z"
   },
   {
    "duration": 8,
    "start_time": "2022-03-31T08:11:41.864Z"
   },
   {
    "duration": 31,
    "start_time": "2022-03-31T08:11:41.874Z"
   },
   {
    "duration": 4,
    "start_time": "2022-03-31T08:11:41.907Z"
   },
   {
    "duration": 11,
    "start_time": "2022-03-31T08:11:41.912Z"
   },
   {
    "duration": 10,
    "start_time": "2022-03-31T08:11:41.924Z"
   },
   {
    "duration": 24,
    "start_time": "2022-03-31T08:11:41.936Z"
   },
   {
    "duration": 4,
    "start_time": "2022-03-31T08:11:41.961Z"
   },
   {
    "duration": 8,
    "start_time": "2022-03-31T08:11:41.966Z"
   },
   {
    "duration": 36,
    "start_time": "2022-03-31T08:11:41.975Z"
   },
   {
    "duration": 117,
    "start_time": "2022-03-31T16:34:00.254Z"
   },
   {
    "duration": 13,
    "start_time": "2022-03-31T16:59:41.986Z"
   },
   {
    "duration": 1430,
    "start_time": "2022-06-28T10:45:20.148Z"
   },
   {
    "duration": 99,
    "start_time": "2022-06-28T10:45:21.581Z"
   },
   {
    "duration": 11,
    "start_time": "2022-06-28T10:45:21.681Z"
   },
   {
    "duration": 8,
    "start_time": "2022-06-28T10:45:21.694Z"
   },
   {
    "duration": 7,
    "start_time": "2022-06-28T10:45:21.703Z"
   },
   {
    "duration": 9,
    "start_time": "2022-06-28T10:45:21.712Z"
   },
   {
    "duration": 140,
    "start_time": "2022-06-28T10:45:21.723Z"
   },
   {
    "duration": 10,
    "start_time": "2022-06-28T10:45:21.865Z"
   },
   {
    "duration": 9,
    "start_time": "2022-06-28T10:45:21.877Z"
   },
   {
    "duration": 7,
    "start_time": "2022-06-28T10:45:21.888Z"
   },
   {
    "duration": 4,
    "start_time": "2022-06-28T10:45:21.896Z"
   },
   {
    "duration": 15,
    "start_time": "2022-06-28T10:45:21.902Z"
   },
   {
    "duration": 26,
    "start_time": "2022-06-28T10:45:21.919Z"
   },
   {
    "duration": 77,
    "start_time": "2022-06-28T10:45:21.947Z"
   },
   {
    "duration": 19,
    "start_time": "2022-06-28T10:45:22.034Z"
   },
   {
    "duration": 9,
    "start_time": "2022-06-28T10:45:22.055Z"
   },
   {
    "duration": 5,
    "start_time": "2022-06-28T10:45:22.066Z"
   },
   {
    "duration": 12,
    "start_time": "2022-06-28T10:45:22.073Z"
   },
   {
    "duration": 15,
    "start_time": "2022-06-28T10:45:22.087Z"
   },
   {
    "duration": 45,
    "start_time": "2022-06-28T10:45:22.104Z"
   },
   {
    "duration": 14,
    "start_time": "2022-06-28T10:45:22.151Z"
   },
   {
    "duration": 10,
    "start_time": "2022-06-28T10:45:22.166Z"
   },
   {
    "duration": 20,
    "start_time": "2022-06-28T10:45:22.177Z"
   },
   {
    "duration": 6,
    "start_time": "2022-06-28T10:45:22.199Z"
   },
   {
    "duration": 10,
    "start_time": "2022-06-28T10:45:22.207Z"
   },
   {
    "duration": 199,
    "start_time": "2022-06-28T10:45:22.219Z"
   },
   {
    "duration": 154,
    "start_time": "2022-06-28T10:45:22.419Z"
   },
   {
    "duration": 6,
    "start_time": "2022-06-28T10:45:22.577Z"
   },
   {
    "duration": 7,
    "start_time": "2022-06-28T10:45:22.585Z"
   },
   {
    "duration": 7,
    "start_time": "2022-06-28T10:45:22.594Z"
   },
   {
    "duration": 362,
    "start_time": "2022-06-28T10:45:22.602Z"
   },
   {
    "duration": 391,
    "start_time": "2022-06-28T10:45:22.966Z"
   },
   {
    "duration": 362,
    "start_time": "2022-06-28T10:45:23.359Z"
   },
   {
    "duration": 437,
    "start_time": "2022-06-28T10:45:23.723Z"
   },
   {
    "duration": 11,
    "start_time": "2022-06-28T10:45:24.162Z"
   },
   {
    "duration": 7,
    "start_time": "2022-06-28T10:45:24.175Z"
   },
   {
    "duration": 296,
    "start_time": "2022-06-28T10:45:24.183Z"
   },
   {
    "duration": 14,
    "start_time": "2022-06-28T10:45:24.481Z"
   },
   {
    "duration": 409,
    "start_time": "2022-06-28T10:45:24.496Z"
   },
   {
    "duration": 151,
    "start_time": "2022-06-28T10:45:24.907Z"
   },
   {
    "duration": 5,
    "start_time": "2022-06-28T10:45:25.060Z"
   },
   {
    "duration": 278,
    "start_time": "2022-06-28T10:45:25.067Z"
   },
   {
    "duration": 181,
    "start_time": "2022-06-28T10:45:25.355Z"
   },
   {
    "duration": 14,
    "start_time": "2022-06-28T10:45:25.538Z"
   },
   {
    "duration": 13,
    "start_time": "2022-06-28T10:45:25.556Z"
   },
   {
    "duration": 188,
    "start_time": "2022-06-28T10:45:25.571Z"
   },
   {
    "duration": 211,
    "start_time": "2022-06-28T10:45:25.761Z"
   },
   {
    "duration": 200,
    "start_time": "2022-06-28T10:45:25.973Z"
   },
   {
    "duration": 4,
    "start_time": "2022-06-28T10:45:26.175Z"
   },
   {
    "duration": 8,
    "start_time": "2022-06-28T10:45:26.181Z"
   },
   {
    "duration": 12,
    "start_time": "2022-06-28T10:45:26.191Z"
   },
   {
    "duration": 79,
    "start_time": "2022-06-28T10:45:26.204Z"
   },
   {
    "duration": 9,
    "start_time": "2022-06-28T10:45:26.284Z"
   },
   {
    "duration": 65,
    "start_time": "2022-06-28T10:45:26.294Z"
   },
   {
    "duration": 133,
    "start_time": "2022-06-28T10:45:26.360Z"
   },
   {
    "duration": 42,
    "start_time": "2022-06-28T10:45:26.495Z"
   },
   {
    "duration": 214,
    "start_time": "2022-06-28T10:45:26.546Z"
   },
   {
    "duration": 8,
    "start_time": "2022-06-28T10:45:26.763Z"
   },
   {
    "duration": 27,
    "start_time": "2022-06-28T10:45:26.773Z"
   },
   {
    "duration": 6,
    "start_time": "2022-06-28T10:45:26.802Z"
   },
   {
    "duration": 39,
    "start_time": "2022-06-28T10:45:26.826Z"
   },
   {
    "duration": 15,
    "start_time": "2022-06-28T10:45:26.867Z"
   },
   {
    "duration": 11,
    "start_time": "2022-06-28T10:45:26.884Z"
   },
   {
    "duration": 8,
    "start_time": "2022-06-28T10:45:26.897Z"
   },
   {
    "duration": 15,
    "start_time": "2022-06-28T10:45:26.906Z"
   },
   {
    "duration": 36,
    "start_time": "2022-06-28T10:45:26.923Z"
   },
   {
    "duration": 19,
    "start_time": "2022-06-28T10:45:26.961Z"
   },
   {
    "duration": 3,
    "start_time": "2022-06-28T10:45:26.982Z"
   },
   {
    "duration": 7,
    "start_time": "2022-06-28T10:45:26.987Z"
   },
   {
    "duration": 14,
    "start_time": "2022-06-28T10:45:26.996Z"
   },
   {
    "duration": 11,
    "start_time": "2022-06-28T10:50:45.352Z"
   },
   {
    "duration": 12,
    "start_time": "2022-06-28T10:50:53.085Z"
   },
   {
    "duration": 1218,
    "start_time": "2022-07-09T11:40:22.849Z"
   },
   {
    "duration": 60,
    "start_time": "2022-07-09T11:40:24.072Z"
   },
   {
    "duration": 14,
    "start_time": "2022-07-09T11:40:24.134Z"
   },
   {
    "duration": 15,
    "start_time": "2022-07-09T11:40:24.150Z"
   },
   {
    "duration": 10,
    "start_time": "2022-07-09T11:40:24.168Z"
   },
   {
    "duration": 8,
    "start_time": "2022-07-09T11:40:24.179Z"
   },
   {
    "duration": 48,
    "start_time": "2022-07-09T11:40:24.189Z"
   },
   {
    "duration": 11,
    "start_time": "2022-07-09T11:40:24.239Z"
   },
   {
    "duration": 8,
    "start_time": "2022-07-09T11:40:24.252Z"
   },
   {
    "duration": 6,
    "start_time": "2022-07-09T11:40:24.263Z"
   },
   {
    "duration": 3,
    "start_time": "2022-07-09T11:40:24.271Z"
   },
   {
    "duration": 17,
    "start_time": "2022-07-09T11:40:24.276Z"
   },
   {
    "duration": 18,
    "start_time": "2022-07-09T11:40:24.294Z"
   },
   {
    "duration": 74,
    "start_time": "2022-07-09T11:40:24.314Z"
   },
   {
    "duration": 11,
    "start_time": "2022-07-09T11:40:24.390Z"
   },
   {
    "duration": 13,
    "start_time": "2022-07-09T11:40:24.403Z"
   },
   {
    "duration": 7,
    "start_time": "2022-07-09T11:40:24.417Z"
   },
   {
    "duration": 14,
    "start_time": "2022-07-09T11:40:24.425Z"
   },
   {
    "duration": 15,
    "start_time": "2022-07-09T11:40:24.440Z"
   },
   {
    "duration": 11,
    "start_time": "2022-07-09T11:40:24.456Z"
   },
   {
    "duration": 11,
    "start_time": "2022-07-09T11:40:24.469Z"
   },
   {
    "duration": 10,
    "start_time": "2022-07-09T11:40:24.482Z"
   },
   {
    "duration": 16,
    "start_time": "2022-07-09T11:40:24.493Z"
   },
   {
    "duration": 5,
    "start_time": "2022-07-09T11:40:24.510Z"
   },
   {
    "duration": 31,
    "start_time": "2022-07-09T11:40:24.516Z"
   },
   {
    "duration": 191,
    "start_time": "2022-07-09T11:40:24.548Z"
   },
   {
    "duration": 121,
    "start_time": "2022-07-09T11:40:24.740Z"
   },
   {
    "duration": 5,
    "start_time": "2022-07-09T11:40:24.865Z"
   },
   {
    "duration": 8,
    "start_time": "2022-07-09T11:40:24.872Z"
   },
   {
    "duration": 6,
    "start_time": "2022-07-09T11:40:24.882Z"
   },
   {
    "duration": 318,
    "start_time": "2022-07-09T11:40:24.890Z"
   },
   {
    "duration": 306,
    "start_time": "2022-07-09T11:40:25.210Z"
   },
   {
    "duration": 305,
    "start_time": "2022-07-09T11:40:25.517Z"
   },
   {
    "duration": 400,
    "start_time": "2022-07-09T11:40:25.824Z"
   },
   {
    "duration": 11,
    "start_time": "2022-07-09T11:40:26.226Z"
   },
   {
    "duration": 20,
    "start_time": "2022-07-09T11:40:26.246Z"
   },
   {
    "duration": 274,
    "start_time": "2022-07-09T11:40:26.268Z"
   },
   {
    "duration": 12,
    "start_time": "2022-07-09T11:40:26.545Z"
   },
   {
    "duration": 336,
    "start_time": "2022-07-09T11:40:26.559Z"
   },
   {
    "duration": 134,
    "start_time": "2022-07-09T11:40:26.897Z"
   },
   {
    "duration": 6,
    "start_time": "2022-07-09T11:40:27.032Z"
   },
   {
    "duration": 172,
    "start_time": "2022-07-09T11:40:27.045Z"
   },
   {
    "duration": 277,
    "start_time": "2022-07-09T11:40:27.219Z"
   },
   {
    "duration": 5,
    "start_time": "2022-07-09T11:40:27.498Z"
   },
   {
    "duration": 37,
    "start_time": "2022-07-09T11:40:27.504Z"
   },
   {
    "duration": 189,
    "start_time": "2022-07-09T11:40:27.543Z"
   },
   {
    "duration": 187,
    "start_time": "2022-07-09T11:40:27.735Z"
   },
   {
    "duration": 183,
    "start_time": "2022-07-09T11:40:27.924Z"
   },
   {
    "duration": 5,
    "start_time": "2022-07-09T11:40:28.109Z"
   },
   {
    "duration": 11,
    "start_time": "2022-07-09T11:40:28.115Z"
   },
   {
    "duration": 26,
    "start_time": "2022-07-09T11:40:28.128Z"
   },
   {
    "duration": 64,
    "start_time": "2022-07-09T11:40:28.156Z"
   },
   {
    "duration": 20,
    "start_time": "2022-07-09T11:40:28.221Z"
   },
   {
    "duration": 50,
    "start_time": "2022-07-09T11:40:28.242Z"
   },
   {
    "duration": 117,
    "start_time": "2022-07-09T11:40:28.294Z"
   },
   {
    "duration": 38,
    "start_time": "2022-07-09T11:40:28.412Z"
   },
   {
    "duration": 149,
    "start_time": "2022-07-09T11:40:28.452Z"
   },
   {
    "duration": 6,
    "start_time": "2022-07-09T11:40:28.602Z"
   },
   {
    "duration": 28,
    "start_time": "2022-07-09T11:40:28.609Z"
   },
   {
    "duration": 4,
    "start_time": "2022-07-09T11:40:28.645Z"
   },
   {
    "duration": 10,
    "start_time": "2022-07-09T11:40:28.650Z"
   },
   {
    "duration": 21,
    "start_time": "2022-07-09T11:40:28.661Z"
   },
   {
    "duration": 16,
    "start_time": "2022-07-09T11:40:28.684Z"
   },
   {
    "duration": 16,
    "start_time": "2022-07-09T11:40:28.701Z"
   },
   {
    "duration": 25,
    "start_time": "2022-07-09T11:40:28.719Z"
   },
   {
    "duration": 19,
    "start_time": "2022-07-09T11:40:28.746Z"
   },
   {
    "duration": 29,
    "start_time": "2022-07-09T11:40:28.767Z"
   },
   {
    "duration": 4,
    "start_time": "2022-07-09T11:40:28.799Z"
   },
   {
    "duration": 11,
    "start_time": "2022-07-09T11:40:28.804Z"
   },
   {
    "duration": 27,
    "start_time": "2022-07-09T11:40:28.816Z"
   },
   {
    "duration": 1174,
    "start_time": "2022-07-09T11:40:58.960Z"
   },
   {
    "duration": 24,
    "start_time": "2022-07-09T11:41:00.135Z"
   },
   {
    "duration": 12,
    "start_time": "2022-07-09T11:41:00.161Z"
   },
   {
    "duration": 10,
    "start_time": "2022-07-09T11:41:00.176Z"
   },
   {
    "duration": 9,
    "start_time": "2022-07-09T11:41:00.188Z"
   },
   {
    "duration": 8,
    "start_time": "2022-07-09T11:41:00.199Z"
   },
   {
    "duration": 38,
    "start_time": "2022-07-09T11:41:00.209Z"
   },
   {
    "duration": 11,
    "start_time": "2022-07-09T11:41:00.249Z"
   },
   {
    "duration": 13,
    "start_time": "2022-07-09T11:41:00.262Z"
   },
   {
    "duration": 19,
    "start_time": "2022-07-09T11:41:00.278Z"
   },
   {
    "duration": 13,
    "start_time": "2022-07-09T11:41:00.299Z"
   },
   {
    "duration": 38,
    "start_time": "2022-07-09T11:41:00.314Z"
   },
   {
    "duration": 31,
    "start_time": "2022-07-09T11:41:00.354Z"
   },
   {
    "duration": 32,
    "start_time": "2022-07-09T11:41:00.387Z"
   },
   {
    "duration": 17,
    "start_time": "2022-07-09T11:41:00.421Z"
   },
   {
    "duration": 22,
    "start_time": "2022-07-09T11:41:00.441Z"
   },
   {
    "duration": 23,
    "start_time": "2022-07-09T11:41:00.465Z"
   },
   {
    "duration": 14,
    "start_time": "2022-07-09T11:41:00.490Z"
   },
   {
    "duration": 16,
    "start_time": "2022-07-09T11:41:00.506Z"
   },
   {
    "duration": 27,
    "start_time": "2022-07-09T11:41:00.524Z"
   },
   {
    "duration": 15,
    "start_time": "2022-07-09T11:41:00.553Z"
   },
   {
    "duration": 12,
    "start_time": "2022-07-09T11:41:00.570Z"
   },
   {
    "duration": 24,
    "start_time": "2022-07-09T11:41:00.583Z"
   },
   {
    "duration": 7,
    "start_time": "2022-07-09T11:41:00.609Z"
   },
   {
    "duration": 18,
    "start_time": "2022-07-09T11:41:00.617Z"
   },
   {
    "duration": 182,
    "start_time": "2022-07-09T11:41:00.646Z"
   },
   {
    "duration": 131,
    "start_time": "2022-07-09T11:41:00.830Z"
   },
   {
    "duration": 9,
    "start_time": "2022-07-09T11:41:00.965Z"
   },
   {
    "duration": 15,
    "start_time": "2022-07-09T11:41:00.975Z"
   },
   {
    "duration": 11,
    "start_time": "2022-07-09T11:41:00.992Z"
   },
   {
    "duration": 329,
    "start_time": "2022-07-09T11:41:01.004Z"
   },
   {
    "duration": 368,
    "start_time": "2022-07-09T11:41:01.335Z"
   },
   {
    "duration": 325,
    "start_time": "2022-07-09T11:41:01.705Z"
   },
   {
    "duration": 405,
    "start_time": "2022-07-09T11:41:02.032Z"
   },
   {
    "duration": 15,
    "start_time": "2022-07-09T11:41:02.445Z"
   },
   {
    "duration": 9,
    "start_time": "2022-07-09T11:41:02.462Z"
   },
   {
    "duration": 299,
    "start_time": "2022-07-09T11:41:02.473Z"
   },
   {
    "duration": 13,
    "start_time": "2022-07-09T11:41:02.774Z"
   },
   {
    "duration": 350,
    "start_time": "2022-07-09T11:41:02.789Z"
   },
   {
    "duration": 147,
    "start_time": "2022-07-09T11:41:03.145Z"
   },
   {
    "duration": 6,
    "start_time": "2022-07-09T11:41:03.293Z"
   },
   {
    "duration": 204,
    "start_time": "2022-07-09T11:41:03.301Z"
   },
   {
    "duration": 284,
    "start_time": "2022-07-09T11:41:03.507Z"
   },
   {
    "duration": 5,
    "start_time": "2022-07-09T11:41:03.794Z"
   },
   {
    "duration": 15,
    "start_time": "2022-07-09T11:41:03.800Z"
   },
   {
    "duration": 217,
    "start_time": "2022-07-09T11:41:03.816Z"
   },
   {
    "duration": 203,
    "start_time": "2022-07-09T11:41:04.034Z"
   },
   {
    "duration": 187,
    "start_time": "2022-07-09T11:41:04.245Z"
   },
   {
    "duration": 11,
    "start_time": "2022-07-09T11:41:04.434Z"
   },
   {
    "duration": 4,
    "start_time": "2022-07-09T11:41:04.447Z"
   },
   {
    "duration": 14,
    "start_time": "2022-07-09T11:41:04.453Z"
   },
   {
    "duration": 79,
    "start_time": "2022-07-09T11:41:04.469Z"
   },
   {
    "duration": 12,
    "start_time": "2022-07-09T11:41:04.550Z"
   },
   {
    "duration": 64,
    "start_time": "2022-07-09T11:41:04.564Z"
   },
   {
    "duration": 164,
    "start_time": "2022-07-09T11:41:04.629Z"
   },
   {
    "duration": 29,
    "start_time": "2022-07-09T11:41:04.795Z"
   },
   {
    "duration": 141,
    "start_time": "2022-07-09T11:41:04.825Z"
   },
   {
    "duration": 6,
    "start_time": "2022-07-09T11:41:04.968Z"
   },
   {
    "duration": 24,
    "start_time": "2022-07-09T11:41:04.975Z"
   },
   {
    "duration": 5,
    "start_time": "2022-07-09T11:41:05.001Z"
   },
   {
    "duration": 8,
    "start_time": "2022-07-09T11:41:05.008Z"
   },
   {
    "duration": 33,
    "start_time": "2022-07-09T11:41:05.018Z"
   },
   {
    "duration": 7,
    "start_time": "2022-07-09T11:41:05.053Z"
   },
   {
    "duration": 11,
    "start_time": "2022-07-09T11:41:05.061Z"
   },
   {
    "duration": 14,
    "start_time": "2022-07-09T11:41:05.073Z"
   },
   {
    "duration": 9,
    "start_time": "2022-07-09T11:41:05.088Z"
   },
   {
    "duration": 24,
    "start_time": "2022-07-09T11:41:05.098Z"
   },
   {
    "duration": 21,
    "start_time": "2022-07-09T11:41:05.124Z"
   },
   {
    "duration": 4,
    "start_time": "2022-07-09T11:41:05.148Z"
   },
   {
    "duration": 18,
    "start_time": "2022-07-09T11:41:05.154Z"
   }
  ],
  "kernelspec": {
   "display_name": "Python 3 (ipykernel)",
   "language": "python",
   "name": "python3"
  },
  "language_info": {
   "codemirror_mode": {
    "name": "ipython",
    "version": 3
   },
   "file_extension": ".py",
   "mimetype": "text/x-python",
   "name": "python",
   "nbconvert_exporter": "python",
   "pygments_lexer": "ipython3",
   "version": "3.9.5"
  },
  "toc": {
   "base_numbering": 1,
   "nav_menu": {},
   "number_sections": false,
   "sideBar": true,
   "skip_h1_title": true,
   "title_cell": "Table of Contents",
   "title_sidebar": "Contents",
   "toc_cell": false,
   "toc_position": {},
   "toc_section_display": true,
   "toc_window_display": true
  }
 },
 "nbformat": 4,
 "nbformat_minor": 2
}
