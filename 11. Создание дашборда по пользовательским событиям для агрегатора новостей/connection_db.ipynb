{
 "cells": [
  {
   "cell_type": "code",
   "execution_count": 9,
   "id": "f543226e",
   "metadata": {},
   "outputs": [],
   "source": [
    "import sys\n",
    "\n",
    "import getopt\n",
    "from datetime import datetime\n",
    "\n",
    "import pandas as pd\n",
    "import psycopg2\n",
    "\n",
    "from sqlalchemy import create_engine"
   ]
  },
  {
   "cell_type": "code",
   "execution_count": 10,
   "id": "10a704c6",
   "metadata": {},
   "outputs": [],
   "source": [
    "#!/usr/bin/python\n",
    "# -*- coding: utf-8 -*-\n",
    "\n",
    "\n",
    "db_config = {'user': 'praktikum_student', # имя пользователя\n",
    "            'pwd': 'Sdf4$2;d-d30pp', # пароль\n",
    "            'host': 'rc1b-wcoijxj3yxfsf3fs.mdb.yandexcloud.net',\n",
    "            'port': 6432, # порт подключения\n",
    "            'db': 'data-analyst-zen-project-db'} # название базы данных\n",
    "\n",
    "connection_string = 'postgresql://{}:{}@{}:{}/{}'.format(db_config['user'],\n",
    "                                                db_config['pwd'],\n",
    "                                                db_config['host'],\n",
    "                                                db_config['port'],\n",
    "                                                db_config['db'])\n",
    "\n",
    "engine = create_engine(connection_string) \n",
    "\n",
    "\n",
    "query = ''' SELECT * \n",
    "            FROM dash_visits\n",
    "        '''\n",
    "\n",
    "dash_visits = pd.io.sql.read_sql(query, con = engine)\n",
    "\n",
    "dash_visits.to_csv('dash_visits.csv', index=False)"
   ]
  },
  {
   "cell_type": "code",
   "execution_count": 11,
   "id": "14f99eb9",
   "metadata": {},
   "outputs": [
    {
     "data": {
      "text/html": [
       "<div>\n",
       "<style scoped>\n",
       "    .dataframe tbody tr th:only-of-type {\n",
       "        vertical-align: middle;\n",
       "    }\n",
       "\n",
       "    .dataframe tbody tr th {\n",
       "        vertical-align: top;\n",
       "    }\n",
       "\n",
       "    .dataframe thead th {\n",
       "        text-align: right;\n",
       "    }\n",
       "</style>\n",
       "<table border=\"1\" class=\"dataframe\">\n",
       "  <thead>\n",
       "    <tr style=\"text-align: right;\">\n",
       "      <th></th>\n",
       "      <th>record_id</th>\n",
       "      <th>item_topic</th>\n",
       "      <th>source_topic</th>\n",
       "      <th>age_segment</th>\n",
       "      <th>dt</th>\n",
       "      <th>visits</th>\n",
       "    </tr>\n",
       "  </thead>\n",
       "  <tbody>\n",
       "    <tr>\n",
       "      <th>25602</th>\n",
       "      <td>1066199</td>\n",
       "      <td>Семья</td>\n",
       "      <td>Знаменитости</td>\n",
       "      <td>36-40</td>\n",
       "      <td>2019-09-24 18:33:00</td>\n",
       "      <td>1</td>\n",
       "    </tr>\n",
       "    <tr>\n",
       "      <th>18243</th>\n",
       "      <td>1058840</td>\n",
       "      <td>Подборки</td>\n",
       "      <td>Одежда</td>\n",
       "      <td>26-30</td>\n",
       "      <td>2019-09-24 18:52:00</td>\n",
       "      <td>1</td>\n",
       "    </tr>\n",
       "    <tr>\n",
       "      <th>23579</th>\n",
       "      <td>1064176</td>\n",
       "      <td>Рассказы</td>\n",
       "      <td>Россия</td>\n",
       "      <td>26-30</td>\n",
       "      <td>2019-09-24 18:59:00</td>\n",
       "      <td>11</td>\n",
       "    </tr>\n",
       "    <tr>\n",
       "      <th>4781</th>\n",
       "      <td>1045378</td>\n",
       "      <td>Здоровье</td>\n",
       "      <td>Еда</td>\n",
       "      <td>31-35</td>\n",
       "      <td>2019-09-24 18:56:00</td>\n",
       "      <td>10</td>\n",
       "    </tr>\n",
       "    <tr>\n",
       "      <th>29917</th>\n",
       "      <td>1070514</td>\n",
       "      <td>Юмор</td>\n",
       "      <td>История</td>\n",
       "      <td>18-25</td>\n",
       "      <td>2019-09-24 18:28:00</td>\n",
       "      <td>2</td>\n",
       "    </tr>\n",
       "    <tr>\n",
       "      <th>12669</th>\n",
       "      <td>1053266</td>\n",
       "      <td>Культура</td>\n",
       "      <td>Психология</td>\n",
       "      <td>18-25</td>\n",
       "      <td>2019-09-24 18:55:00</td>\n",
       "      <td>4</td>\n",
       "    </tr>\n",
       "    <tr>\n",
       "      <th>1064</th>\n",
       "      <td>1041661</td>\n",
       "      <td>Деньги</td>\n",
       "      <td>Семья</td>\n",
       "      <td>31-35</td>\n",
       "      <td>2019-09-24 18:57:00</td>\n",
       "      <td>7</td>\n",
       "    </tr>\n",
       "    <tr>\n",
       "      <th>10725</th>\n",
       "      <td>1051322</td>\n",
       "      <td>История</td>\n",
       "      <td>Спорт</td>\n",
       "      <td>45+</td>\n",
       "      <td>2019-09-24 18:58:00</td>\n",
       "      <td>1</td>\n",
       "    </tr>\n",
       "    <tr>\n",
       "      <th>18126</th>\n",
       "      <td>1058723</td>\n",
       "      <td>Подборки</td>\n",
       "      <td>Кино</td>\n",
       "      <td>26-30</td>\n",
       "      <td>2019-09-24 18:34:00</td>\n",
       "      <td>2</td>\n",
       "    </tr>\n",
       "    <tr>\n",
       "      <th>20093</th>\n",
       "      <td>1060690</td>\n",
       "      <td>Полезные советы</td>\n",
       "      <td>Сад и дача</td>\n",
       "      <td>26-30</td>\n",
       "      <td>2019-09-24 18:29:00</td>\n",
       "      <td>1</td>\n",
       "    </tr>\n",
       "  </tbody>\n",
       "</table>\n",
       "</div>"
      ],
      "text/plain": [
       "       record_id       item_topic  source_topic age_segment  \\\n",
       "25602    1066199            Семья  Знаменитости       36-40   \n",
       "18243    1058840         Подборки        Одежда       26-30   \n",
       "23579    1064176         Рассказы        Россия       26-30   \n",
       "4781     1045378         Здоровье           Еда       31-35   \n",
       "29917    1070514             Юмор       История       18-25   \n",
       "12669    1053266         Культура    Психология       18-25   \n",
       "1064     1041661           Деньги         Семья       31-35   \n",
       "10725    1051322          История         Спорт         45+   \n",
       "18126    1058723         Подборки          Кино       26-30   \n",
       "20093    1060690  Полезные советы    Сад и дача       26-30   \n",
       "\n",
       "                       dt  visits  \n",
       "25602 2019-09-24 18:33:00       1  \n",
       "18243 2019-09-24 18:52:00       1  \n",
       "23579 2019-09-24 18:59:00      11  \n",
       "4781  2019-09-24 18:56:00      10  \n",
       "29917 2019-09-24 18:28:00       2  \n",
       "12669 2019-09-24 18:55:00       4  \n",
       "1064  2019-09-24 18:57:00       7  \n",
       "10725 2019-09-24 18:58:00       1  \n",
       "18126 2019-09-24 18:34:00       2  \n",
       "20093 2019-09-24 18:29:00       1  "
      ]
     },
     "execution_count": 11,
     "metadata": {},
     "output_type": "execute_result"
    }
   ],
   "source": [
    "dash_visits.sample(10)"
   ]
  },
  {
   "cell_type": "code",
   "execution_count": 12,
   "id": "70478e32",
   "metadata": {},
   "outputs": [
    {
     "name": "stdout",
     "output_type": "stream",
     "text": [
      "<class 'pandas.core.frame.DataFrame'>\n",
      "RangeIndex: 30745 entries, 0 to 30744\n",
      "Data columns (total 6 columns):\n",
      " #   Column        Non-Null Count  Dtype         \n",
      "---  ------        --------------  -----         \n",
      " 0   record_id     30745 non-null  int64         \n",
      " 1   item_topic    30745 non-null  object        \n",
      " 2   source_topic  30745 non-null  object        \n",
      " 3   age_segment   30745 non-null  object        \n",
      " 4   dt            30745 non-null  datetime64[ns]\n",
      " 5   visits        30745 non-null  int64         \n",
      "dtypes: datetime64[ns](1), int64(2), object(3)\n",
      "memory usage: 1.4+ MB\n"
     ]
    }
   ],
   "source": [
    "dash_visits.info()"
   ]
  },
  {
   "cell_type": "code",
   "execution_count": 13,
   "id": "9571a2fc",
   "metadata": {},
   "outputs": [
    {
     "data": {
      "text/plain": [
       "record_id       0\n",
       "item_topic      0\n",
       "source_topic    0\n",
       "age_segment     0\n",
       "dt              0\n",
       "visits          0\n",
       "dtype: int64"
      ]
     },
     "execution_count": 13,
     "metadata": {},
     "output_type": "execute_result"
    }
   ],
   "source": [
    "dash_visits.isna().sum()"
   ]
  },
  {
   "cell_type": "code",
   "execution_count": 14,
   "id": "935a8d59",
   "metadata": {},
   "outputs": [
    {
     "data": {
      "text/plain": [
       "0"
      ]
     },
     "execution_count": 14,
     "metadata": {},
     "output_type": "execute_result"
    }
   ],
   "source": [
    "dash_visits.duplicated().sum()"
   ]
  }
 ],
 "metadata": {
  "ExecuteTimeLog": [
   {
    "duration": 33852,
    "start_time": "2022-05-12T12:22:52.319Z"
   },
   {
    "duration": 12039,
    "start_time": "2022-05-12T12:23:26.173Z"
   },
   {
    "duration": 23,
    "start_time": "2022-05-12T12:30:53.013Z"
   },
   {
    "duration": 613,
    "start_time": "2022-05-12T12:32:18.106Z"
   },
   {
    "duration": 12,
    "start_time": "2022-05-12T12:32:33.090Z"
   },
   {
    "duration": 27,
    "start_time": "2022-05-12T12:32:43.515Z"
   },
   {
    "duration": 13,
    "start_time": "2022-05-12T12:33:13.490Z"
   },
   {
    "duration": 21,
    "start_time": "2022-05-12T12:40:01.066Z"
   },
   {
    "duration": 4,
    "start_time": "2022-05-12T12:40:54.418Z"
   },
   {
    "duration": 565,
    "start_time": "2022-05-12T12:40:55.314Z"
   },
   {
    "duration": 11,
    "start_time": "2022-05-12T12:40:56.226Z"
   },
   {
    "duration": 18,
    "start_time": "2022-05-12T12:41:00.186Z"
   },
   {
    "duration": 13,
    "start_time": "2022-05-12T12:41:00.929Z"
   },
   {
    "duration": 22,
    "start_time": "2022-05-12T12:41:03.153Z"
   }
  ],
  "kernelspec": {
   "display_name": "Python 3 (ipykernel)",
   "language": "python",
   "name": "python3"
  },
  "language_info": {
   "codemirror_mode": {
    "name": "ipython",
    "version": 3
   },
   "file_extension": ".py",
   "mimetype": "text/x-python",
   "name": "python",
   "nbconvert_exporter": "python",
   "pygments_lexer": "ipython3",
   "version": "3.9.5"
  },
  "toc": {
   "base_numbering": 1,
   "nav_menu": {},
   "number_sections": true,
   "sideBar": true,
   "skip_h1_title": true,
   "title_cell": "Table of Contents",
   "title_sidebar": "Contents",
   "toc_cell": false,
   "toc_position": {},
   "toc_section_display": true,
   "toc_window_display": false
  }
 },
 "nbformat": 4,
 "nbformat_minor": 5
}
