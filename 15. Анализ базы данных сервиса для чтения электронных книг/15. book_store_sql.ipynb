{
 "cells": [
  {
   "cell_type": "markdown",
   "id": "f1efa18f",
   "metadata": {},
   "source": [
    "# 1. Знакомство с данными"
   ]
  },
  {
   "cell_type": "markdown",
   "id": "239f9beb",
   "metadata": {},
   "source": [
    "**Наименование исследования: \"Анализ базы данных сервиса для чтения электронных книг\"**"
   ]
  },
  {
   "cell_type": "markdown",
   "id": "6f372cc2",
   "metadata": {},
   "source": [
    "- **Цель исследования:** с помощью языка SQL проанализировать базу данных и предоставить ответы на требуемые вопросы, которые позволят сделать прогноз в отношении разработки нового продукта\n",
    "\n",
    "- **Задачи исследования:** познакомиться с данными, разработать примерный план реализации проекта, предоставить требуемые выводы"
   ]
  },
  {
   "cell_type": "markdown",
   "id": "7ee03483",
   "metadata": {},
   "source": [
    "**Примерный план выполнения исследования:**\n",
    "- импорт библиотек\n",
    "- поключение к базе данных\n",
    "- знакомство с данными\n",
    "- написание запросов\n",
    "- \"стандартизирование\" запросов по общепринятым правилам (оформление) с помощью сервиса sqlformat.org\n",
    "- запуск запросов в Jupiter Notebook с помощью библиотеки sqlalchemy\n",
    "- формирование итогов исследования"
   ]
  },
  {
   "cell_type": "markdown",
   "id": "9eab41ce",
   "metadata": {},
   "source": [
    "**Аннотация к данным (легенда):**"
   ]
  },
  {
   "cell_type": "markdown",
   "id": "07ffbac1",
   "metadata": {},
   "source": [
    "**Таблица books**\n",
    "Содержит данные о книгах:\n",
    "- book_id — идентификатор книги;\n",
    "- author_id — идентификатор автора;\n",
    "- title — название книги;\n",
    "- num_pages — количество страниц;\n",
    "- publication_date — дата публикации книги;\n",
    "- publisher_id — идентификатор издателя."
   ]
  },
  {
   "cell_type": "markdown",
   "id": "d10d582d",
   "metadata": {},
   "source": [
    "**Таблица authors**\n",
    "Содержит данные об авторах:\n",
    "- author_id — идентификатор автора;\n",
    "- author — имя автора"
   ]
  },
  {
   "cell_type": "markdown",
   "id": "f46c3821",
   "metadata": {},
   "source": [
    "**Таблица publishers**\n",
    "Содержит данные об издательствах:\n",
    "- publisher_id — идентификатор издательства;\n",
    "- publisher — название издательства;"
   ]
  },
  {
   "cell_type": "markdown",
   "id": "436d45bf",
   "metadata": {},
   "source": [
    "**Таблица ratings**\n",
    "- Содержит данные о пользовательских оценках книг:\n",
    "- rating_id — идентификатор оценки;\n",
    "- book_id — идентификатор книги;\n",
    "- username — имя пользователя, оставившего оценку;\n",
    "- rating — оценка книги."
   ]
  },
  {
   "cell_type": "markdown",
   "id": "a500fe97",
   "metadata": {},
   "source": [
    "**Таблица reviews**\n",
    "- Содержит данные о пользовательских обзорах на книги:\n",
    "- review_id — идентификатор обзора;\n",
    "- book_id — идентификатор книги;\n",
    "- username — имя пользователя, написавшего обзор;\n",
    "- text — текст обзора."
   ]
  },
  {
   "cell_type": "markdown",
   "id": "c94c038a",
   "metadata": {},
   "source": [
    "<code>[Схема базы данных](http://joxi.ru/eAOa063svQdPlm \"Ссылка на схему\")\n",
    "</code>"
   ]
  },
  {
   "cell_type": "code",
   "execution_count": 1,
   "id": "40a5a6a7",
   "metadata": {},
   "outputs": [],
   "source": [
    "# импортируем библиотеки\n",
    "import pandas as pd\n",
    "from sqlalchemy import create_engine"
   ]
  },
  {
   "cell_type": "code",
   "execution_count": 2,
   "id": "b5255301",
   "metadata": {},
   "outputs": [],
   "source": [
    "# устанавливаем параметры\n",
    "db_config = {'user': 'praktikum_student', # имя пользователя\n",
    "'pwd': 'Sdf4$2;d-d30pp', # пароль\n",
    "'host': 'rc1b-wcoijxj3yxfsf3fs.mdb.yandexcloud.net',\n",
    "'port': 6432, # порт подключения\n",
    "'db': 'data-analyst-final-project-db'} # название базы данных\n",
    "connection_string = 'postgresql://{}:{}@{}:{}/{}'.format(db_config['user'],\n",
    "db_config['pwd'],\n",
    "db_config['host'],\n",
    "db_config['port'],\n",
    "db_config['db'])\n",
    "# сохраняем коннектор\n",
    "engine = create_engine(connection_string, connect_args={'sslmode':'require'})"
   ]
  },
  {
   "cell_type": "markdown",
   "id": "37941090",
   "metadata": {},
   "source": [
    "Познакомимся с содержимым каждой таблицы, \"участвующей\" в исследовании:"
   ]
  },
  {
   "cell_type": "markdown",
   "id": "d7117a89",
   "metadata": {},
   "source": [
    "Для удобства ознакомления с количеством записей и столбцов в каждой таблице зададим функцию len_table:"
   ]
  },
  {
   "cell_type": "code",
   "execution_count": 3,
   "id": "a46ce503",
   "metadata": {},
   "outputs": [],
   "source": [
    "def len_table (table_name):\n",
    "    print('Количество записей в таблице:', len(table_name)) , print('Количество столбцов в таблице:', len(table_name.columns))"
   ]
  },
  {
   "cell_type": "code",
   "execution_count": 4,
   "id": "863c3766",
   "metadata": {},
   "outputs": [
    {
     "data": {
      "text/html": [
       "<div>\n",
       "<style scoped>\n",
       "    .dataframe tbody tr th:only-of-type {\n",
       "        vertical-align: middle;\n",
       "    }\n",
       "\n",
       "    .dataframe tbody tr th {\n",
       "        vertical-align: top;\n",
       "    }\n",
       "\n",
       "    .dataframe thead th {\n",
       "        text-align: right;\n",
       "    }\n",
       "</style>\n",
       "<table border=\"1\" class=\"dataframe\">\n",
       "  <thead>\n",
       "    <tr style=\"text-align: right;\">\n",
       "      <th></th>\n",
       "      <th>book_id</th>\n",
       "      <th>author_id</th>\n",
       "      <th>title</th>\n",
       "      <th>num_pages</th>\n",
       "      <th>publication_date</th>\n",
       "      <th>publisher_id</th>\n",
       "    </tr>\n",
       "  </thead>\n",
       "  <tbody>\n",
       "    <tr>\n",
       "      <th>726</th>\n",
       "      <td>727</td>\n",
       "      <td>421</td>\n",
       "      <td>The Five People You Meet in Heaven</td>\n",
       "      <td>196</td>\n",
       "      <td>2003-09-23</td>\n",
       "      <td>159</td>\n",
       "    </tr>\n",
       "    <tr>\n",
       "      <th>430</th>\n",
       "      <td>431</td>\n",
       "      <td>32</td>\n",
       "      <td>Merrick (The Vampire Chronicles #7)</td>\n",
       "      <td>370</td>\n",
       "      <td>2001-10-02</td>\n",
       "      <td>33</td>\n",
       "    </tr>\n",
       "    <tr>\n",
       "      <th>653</th>\n",
       "      <td>654</td>\n",
       "      <td>279</td>\n",
       "      <td>The Bone Collector (Lincoln Rhyme  #1)</td>\n",
       "      <td>528</td>\n",
       "      <td>1998-04-01</td>\n",
       "      <td>266</td>\n",
       "    </tr>\n",
       "    <tr>\n",
       "      <th>367</th>\n",
       "      <td>368</td>\n",
       "      <td>258</td>\n",
       "      <td>Judge &amp; Jury</td>\n",
       "      <td>419</td>\n",
       "      <td>2006-07-31</td>\n",
       "      <td>176</td>\n",
       "    </tr>\n",
       "    <tr>\n",
       "      <th>29</th>\n",
       "      <td>30</td>\n",
       "      <td>447</td>\n",
       "      <td>A Long Way Down</td>\n",
       "      <td>368</td>\n",
       "      <td>2006-05-02</td>\n",
       "      <td>247</td>\n",
       "    </tr>\n",
       "    <tr>\n",
       "      <th>768</th>\n",
       "      <td>769</td>\n",
       "      <td>359</td>\n",
       "      <td>The Killing Dance (Anita Blake  Vampire Hunter...</td>\n",
       "      <td>368</td>\n",
       "      <td>2006-04-04</td>\n",
       "      <td>47</td>\n",
       "    </tr>\n",
       "    <tr>\n",
       "      <th>826</th>\n",
       "      <td>827</td>\n",
       "      <td>226</td>\n",
       "      <td>The Player of Games (Culture  #2)</td>\n",
       "      <td>293</td>\n",
       "      <td>1997-02-01</td>\n",
       "      <td>141</td>\n",
       "    </tr>\n",
       "    <tr>\n",
       "      <th>241</th>\n",
       "      <td>242</td>\n",
       "      <td>165</td>\n",
       "      <td>Fast Food Nation: The Dark Side of the All-Ame...</td>\n",
       "      <td>399</td>\n",
       "      <td>2005-07-05</td>\n",
       "      <td>129</td>\n",
       "    </tr>\n",
       "    <tr>\n",
       "      <th>101</th>\n",
       "      <td>102</td>\n",
       "      <td>281</td>\n",
       "      <td>Bitter Is the New Black: Confessions of a Cond...</td>\n",
       "      <td>400</td>\n",
       "      <td>2006-03-07</td>\n",
       "      <td>186</td>\n",
       "    </tr>\n",
       "    <tr>\n",
       "      <th>797</th>\n",
       "      <td>798</td>\n",
       "      <td>579</td>\n",
       "      <td>The Millionaire Next Door: The Surprising Secr...</td>\n",
       "      <td>258</td>\n",
       "      <td>1998-10-01</td>\n",
       "      <td>111</td>\n",
       "    </tr>\n",
       "  </tbody>\n",
       "</table>\n",
       "</div>"
      ],
      "text/plain": [
       "     book_id  author_id                                              title  \\\n",
       "726      727        421                 The Five People You Meet in Heaven   \n",
       "430      431         32                Merrick (The Vampire Chronicles #7)   \n",
       "653      654        279             The Bone Collector (Lincoln Rhyme  #1)   \n",
       "367      368        258                                       Judge & Jury   \n",
       "29        30        447                                    A Long Way Down   \n",
       "768      769        359  The Killing Dance (Anita Blake  Vampire Hunter...   \n",
       "826      827        226                  The Player of Games (Culture  #2)   \n",
       "241      242        165  Fast Food Nation: The Dark Side of the All-Ame...   \n",
       "101      102        281  Bitter Is the New Black: Confessions of a Cond...   \n",
       "797      798        579  The Millionaire Next Door: The Surprising Secr...   \n",
       "\n",
       "     num_pages publication_date  publisher_id  \n",
       "726        196       2003-09-23           159  \n",
       "430        370       2001-10-02            33  \n",
       "653        528       1998-04-01           266  \n",
       "367        419       2006-07-31           176  \n",
       "29         368       2006-05-02           247  \n",
       "768        368       2006-04-04            47  \n",
       "826        293       1997-02-01           141  \n",
       "241        399       2005-07-05           129  \n",
       "101        400       2006-03-07           186  \n",
       "797        258       1998-10-01           111  "
      ]
     },
     "metadata": {},
     "output_type": "display_data"
    }
   ],
   "source": [
    "request_1 = '''\n",
    "SELECT *\n",
    "FROM books\n",
    "'''\n",
    "table_books = pd.io.sql.read_sql(request_1, con = engine)\n",
    "display(table_books.sample(10))"
   ]
  },
  {
   "cell_type": "code",
   "execution_count": 5,
   "id": "046afeb2",
   "metadata": {},
   "outputs": [
    {
     "name": "stdout",
     "output_type": "stream",
     "text": [
      "Количество записей в таблице: 1000\n",
      "Количество столбцов в таблице: 6\n"
     ]
    }
   ],
   "source": [
    "len_table(table_books)"
   ]
  },
  {
   "cell_type": "markdown",
   "id": "1681bea1",
   "metadata": {},
   "source": [
    "Проверим типы данных:"
   ]
  },
  {
   "cell_type": "code",
   "execution_count": 6,
   "id": "76e96a7e",
   "metadata": {},
   "outputs": [
    {
     "name": "stdout",
     "output_type": "stream",
     "text": [
      "<class 'pandas.core.frame.DataFrame'>\n",
      "RangeIndex: 1000 entries, 0 to 999\n",
      "Data columns (total 6 columns):\n",
      " #   Column            Non-Null Count  Dtype \n",
      "---  ------            --------------  ----- \n",
      " 0   book_id           1000 non-null   int64 \n",
      " 1   author_id         1000 non-null   int64 \n",
      " 2   title             1000 non-null   object\n",
      " 3   num_pages         1000 non-null   int64 \n",
      " 4   publication_date  1000 non-null   object\n",
      " 5   publisher_id      1000 non-null   int64 \n",
      "dtypes: int64(4), object(2)\n",
      "memory usage: 47.0+ KB\n"
     ]
    }
   ],
   "source": [
    "table_books.info()"
   ]
  },
  {
   "cell_type": "markdown",
   "id": "040e9ea3",
   "metadata": {},
   "source": [
    "**Аналогичным образом познакомимся с остальными таблицами:**"
   ]
  },
  {
   "cell_type": "code",
   "execution_count": 7,
   "id": "f3088976",
   "metadata": {},
   "outputs": [
    {
     "data": {
      "text/html": [
       "<div>\n",
       "<style scoped>\n",
       "    .dataframe tbody tr th:only-of-type {\n",
       "        vertical-align: middle;\n",
       "    }\n",
       "\n",
       "    .dataframe tbody tr th {\n",
       "        vertical-align: top;\n",
       "    }\n",
       "\n",
       "    .dataframe thead th {\n",
       "        text-align: right;\n",
       "    }\n",
       "</style>\n",
       "<table border=\"1\" class=\"dataframe\">\n",
       "  <thead>\n",
       "    <tr style=\"text-align: right;\">\n",
       "      <th></th>\n",
       "      <th>author_id</th>\n",
       "      <th>author</th>\n",
       "    </tr>\n",
       "  </thead>\n",
       "  <tbody>\n",
       "    <tr>\n",
       "      <th>135</th>\n",
       "      <td>136</td>\n",
       "      <td>Donald Miller</td>\n",
       "    </tr>\n",
       "    <tr>\n",
       "      <th>151</th>\n",
       "      <td>152</td>\n",
       "      <td>Edgar Rice Burroughs</td>\n",
       "    </tr>\n",
       "    <tr>\n",
       "      <th>169</th>\n",
       "      <td>170</td>\n",
       "      <td>Ernest Hemingway/John Hemingway/Patrick Heming...</td>\n",
       "    </tr>\n",
       "    <tr>\n",
       "      <th>543</th>\n",
       "      <td>544</td>\n",
       "      <td>Stephen King/Bernie Wrightson/Michele Wrightson</td>\n",
       "    </tr>\n",
       "    <tr>\n",
       "      <th>551</th>\n",
       "      <td>552</td>\n",
       "      <td>Stephen R. Covey/A. Roger Merrill/Rebecca R. M...</td>\n",
       "    </tr>\n",
       "    <tr>\n",
       "      <th>54</th>\n",
       "      <td>55</td>\n",
       "      <td>Betty MacDonald/Alexandra Boiger</td>\n",
       "    </tr>\n",
       "    <tr>\n",
       "      <th>172</th>\n",
       "      <td>173</td>\n",
       "      <td>Evelyn Waugh</td>\n",
       "    </tr>\n",
       "    <tr>\n",
       "      <th>346</th>\n",
       "      <td>347</td>\n",
       "      <td>Kerry Patterson/Joseph Grenny/Ron McMillan/Al ...</td>\n",
       "    </tr>\n",
       "    <tr>\n",
       "      <th>155</th>\n",
       "      <td>156</td>\n",
       "      <td>Edmond Rostand/Eteel Lawson/Lowell Bair</td>\n",
       "    </tr>\n",
       "    <tr>\n",
       "      <th>355</th>\n",
       "      <td>356</td>\n",
       "      <td>Lance Armstrong/Sally Jenkins</td>\n",
       "    </tr>\n",
       "  </tbody>\n",
       "</table>\n",
       "</div>"
      ],
      "text/plain": [
       "     author_id                                             author\n",
       "135        136                                      Donald Miller\n",
       "151        152                               Edgar Rice Burroughs\n",
       "169        170  Ernest Hemingway/John Hemingway/Patrick Heming...\n",
       "543        544    Stephen King/Bernie Wrightson/Michele Wrightson\n",
       "551        552  Stephen R. Covey/A. Roger Merrill/Rebecca R. M...\n",
       "54          55                   Betty MacDonald/Alexandra Boiger\n",
       "172        173                                       Evelyn Waugh\n",
       "346        347  Kerry Patterson/Joseph Grenny/Ron McMillan/Al ...\n",
       "155        156            Edmond Rostand/Eteel Lawson/Lowell Bair\n",
       "355        356                      Lance Armstrong/Sally Jenkins"
      ]
     },
     "metadata": {},
     "output_type": "display_data"
    }
   ],
   "source": [
    "request_2 = '''\n",
    "SELECT *\n",
    "FROM authors\n",
    "'''\n",
    "table_authors = pd.io.sql.read_sql(request_2, con = engine)\n",
    "display(table_authors.sample(10))"
   ]
  },
  {
   "cell_type": "code",
   "execution_count": 8,
   "id": "d8364582",
   "metadata": {},
   "outputs": [
    {
     "name": "stdout",
     "output_type": "stream",
     "text": [
      "Количество записей в таблице: 636\n",
      "Количество столбцов в таблице: 2\n"
     ]
    }
   ],
   "source": [
    "len_table(table_authors)"
   ]
  },
  {
   "cell_type": "code",
   "execution_count": 9,
   "id": "13f38713",
   "metadata": {},
   "outputs": [
    {
     "name": "stdout",
     "output_type": "stream",
     "text": [
      "<class 'pandas.core.frame.DataFrame'>\n",
      "RangeIndex: 636 entries, 0 to 635\n",
      "Data columns (total 2 columns):\n",
      " #   Column     Non-Null Count  Dtype \n",
      "---  ------     --------------  ----- \n",
      " 0   author_id  636 non-null    int64 \n",
      " 1   author     636 non-null    object\n",
      "dtypes: int64(1), object(1)\n",
      "memory usage: 10.1+ KB\n"
     ]
    }
   ],
   "source": [
    "table_authors.info()"
   ]
  },
  {
   "cell_type": "code",
   "execution_count": 10,
   "id": "51f0cdb0",
   "metadata": {},
   "outputs": [
    {
     "data": {
      "text/html": [
       "<div>\n",
       "<style scoped>\n",
       "    .dataframe tbody tr th:only-of-type {\n",
       "        vertical-align: middle;\n",
       "    }\n",
       "\n",
       "    .dataframe tbody tr th {\n",
       "        vertical-align: top;\n",
       "    }\n",
       "\n",
       "    .dataframe thead th {\n",
       "        text-align: right;\n",
       "    }\n",
       "</style>\n",
       "<table border=\"1\" class=\"dataframe\">\n",
       "  <thead>\n",
       "    <tr style=\"text-align: right;\">\n",
       "      <th></th>\n",
       "      <th>publisher_id</th>\n",
       "      <th>publisher</th>\n",
       "    </tr>\n",
       "  </thead>\n",
       "  <tbody>\n",
       "    <tr>\n",
       "      <th>139</th>\n",
       "      <td>140</td>\n",
       "      <td>HarperPerennial / Perennial Classics</td>\n",
       "    </tr>\n",
       "    <tr>\n",
       "      <th>291</th>\n",
       "      <td>292</td>\n",
       "      <td>Thorndike Press</td>\n",
       "    </tr>\n",
       "    <tr>\n",
       "      <th>246</th>\n",
       "      <td>247</td>\n",
       "      <td>Riverhead Books</td>\n",
       "    </tr>\n",
       "    <tr>\n",
       "      <th>319</th>\n",
       "      <td>320</td>\n",
       "      <td>W. W. Norton  Company</td>\n",
       "    </tr>\n",
       "    <tr>\n",
       "      <th>243</th>\n",
       "      <td>244</td>\n",
       "      <td>Random House Vintage</td>\n",
       "    </tr>\n",
       "    <tr>\n",
       "      <th>13</th>\n",
       "      <td>14</td>\n",
       "      <td>Amistad</td>\n",
       "    </tr>\n",
       "    <tr>\n",
       "      <th>306</th>\n",
       "      <td>307</td>\n",
       "      <td>Viking</td>\n",
       "    </tr>\n",
       "    <tr>\n",
       "      <th>256</th>\n",
       "      <td>257</td>\n",
       "      <td>Scholastic Press</td>\n",
       "    </tr>\n",
       "    <tr>\n",
       "      <th>92</th>\n",
       "      <td>93</td>\n",
       "      <td>Doubleday</td>\n",
       "    </tr>\n",
       "    <tr>\n",
       "      <th>224</th>\n",
       "      <td>225</td>\n",
       "      <td>Plaza y Janés</td>\n",
       "    </tr>\n",
       "  </tbody>\n",
       "</table>\n",
       "</div>"
      ],
      "text/plain": [
       "     publisher_id                             publisher\n",
       "139           140  HarperPerennial / Perennial Classics\n",
       "291           292                       Thorndike Press\n",
       "246           247                       Riverhead Books\n",
       "319           320                 W. W. Norton  Company\n",
       "243           244                  Random House Vintage\n",
       "13             14                               Amistad\n",
       "306           307                                Viking\n",
       "256           257                      Scholastic Press\n",
       "92             93                             Doubleday\n",
       "224           225                         Plaza y Janés"
      ]
     },
     "metadata": {},
     "output_type": "display_data"
    }
   ],
   "source": [
    "request_3 = '''\n",
    "SELECT *\n",
    "FROM publishers\n",
    "'''\n",
    "table_publishers = pd.io.sql.read_sql(request_3, con = engine)\n",
    "display(table_publishers.sample(10))"
   ]
  },
  {
   "cell_type": "code",
   "execution_count": 11,
   "id": "1aa77c71",
   "metadata": {},
   "outputs": [
    {
     "name": "stdout",
     "output_type": "stream",
     "text": [
      "Количество записей в таблице: 340\n",
      "Количество столбцов в таблице: 2\n"
     ]
    }
   ],
   "source": [
    "len_table(table_publishers)"
   ]
  },
  {
   "cell_type": "code",
   "execution_count": 12,
   "id": "1c95e289",
   "metadata": {},
   "outputs": [
    {
     "name": "stdout",
     "output_type": "stream",
     "text": [
      "<class 'pandas.core.frame.DataFrame'>\n",
      "RangeIndex: 340 entries, 0 to 339\n",
      "Data columns (total 2 columns):\n",
      " #   Column        Non-Null Count  Dtype \n",
      "---  ------        --------------  ----- \n",
      " 0   publisher_id  340 non-null    int64 \n",
      " 1   publisher     340 non-null    object\n",
      "dtypes: int64(1), object(1)\n",
      "memory usage: 5.4+ KB\n"
     ]
    }
   ],
   "source": [
    "table_publishers.info()"
   ]
  },
  {
   "cell_type": "code",
   "execution_count": 13,
   "id": "22cd3584",
   "metadata": {},
   "outputs": [
    {
     "data": {
      "text/html": [
       "<div>\n",
       "<style scoped>\n",
       "    .dataframe tbody tr th:only-of-type {\n",
       "        vertical-align: middle;\n",
       "    }\n",
       "\n",
       "    .dataframe tbody tr th {\n",
       "        vertical-align: top;\n",
       "    }\n",
       "\n",
       "    .dataframe thead th {\n",
       "        text-align: right;\n",
       "    }\n",
       "</style>\n",
       "<table border=\"1\" class=\"dataframe\">\n",
       "  <thead>\n",
       "    <tr style=\"text-align: right;\">\n",
       "      <th></th>\n",
       "      <th>rating_id</th>\n",
       "      <th>book_id</th>\n",
       "      <th>username</th>\n",
       "      <th>rating</th>\n",
       "    </tr>\n",
       "  </thead>\n",
       "  <tbody>\n",
       "    <tr>\n",
       "      <th>132</th>\n",
       "      <td>133</td>\n",
       "      <td>28</td>\n",
       "      <td>cassandragomez</td>\n",
       "      <td>3</td>\n",
       "    </tr>\n",
       "    <tr>\n",
       "      <th>5795</th>\n",
       "      <td>5796</td>\n",
       "      <td>888</td>\n",
       "      <td>eallen</td>\n",
       "      <td>3</td>\n",
       "    </tr>\n",
       "    <tr>\n",
       "      <th>2953</th>\n",
       "      <td>2954</td>\n",
       "      <td>461</td>\n",
       "      <td>fharris</td>\n",
       "      <td>5</td>\n",
       "    </tr>\n",
       "    <tr>\n",
       "      <th>1479</th>\n",
       "      <td>1480</td>\n",
       "      <td>267</td>\n",
       "      <td>serranoangela</td>\n",
       "      <td>4</td>\n",
       "    </tr>\n",
       "    <tr>\n",
       "      <th>5376</th>\n",
       "      <td>5377</td>\n",
       "      <td>831</td>\n",
       "      <td>vanessagardner</td>\n",
       "      <td>4</td>\n",
       "    </tr>\n",
       "    <tr>\n",
       "      <th>4042</th>\n",
       "      <td>4043</td>\n",
       "      <td>656</td>\n",
       "      <td>joe06</td>\n",
       "      <td>5</td>\n",
       "    </tr>\n",
       "    <tr>\n",
       "      <th>5903</th>\n",
       "      <td>5904</td>\n",
       "      <td>909</td>\n",
       "      <td>danielchung</td>\n",
       "      <td>4</td>\n",
       "    </tr>\n",
       "    <tr>\n",
       "      <th>1148</th>\n",
       "      <td>1149</td>\n",
       "      <td>195</td>\n",
       "      <td>lewisdesiree</td>\n",
       "      <td>5</td>\n",
       "    </tr>\n",
       "    <tr>\n",
       "      <th>3801</th>\n",
       "      <td>3802</td>\n",
       "      <td>624</td>\n",
       "      <td>vanessagardner</td>\n",
       "      <td>3</td>\n",
       "    </tr>\n",
       "    <tr>\n",
       "      <th>2533</th>\n",
       "      <td>2534</td>\n",
       "      <td>405</td>\n",
       "      <td>kristykirby</td>\n",
       "      <td>3</td>\n",
       "    </tr>\n",
       "  </tbody>\n",
       "</table>\n",
       "</div>"
      ],
      "text/plain": [
       "      rating_id  book_id        username  rating\n",
       "132         133       28  cassandragomez       3\n",
       "5795       5796      888          eallen       3\n",
       "2953       2954      461         fharris       5\n",
       "1479       1480      267   serranoangela       4\n",
       "5376       5377      831  vanessagardner       4\n",
       "4042       4043      656           joe06       5\n",
       "5903       5904      909     danielchung       4\n",
       "1148       1149      195    lewisdesiree       5\n",
       "3801       3802      624  vanessagardner       3\n",
       "2533       2534      405     kristykirby       3"
      ]
     },
     "metadata": {},
     "output_type": "display_data"
    }
   ],
   "source": [
    "request_4 = '''\n",
    "SELECT *\n",
    "FROM ratings\n",
    "'''\n",
    "table_ratings = pd.io.sql.read_sql(request_4, con = engine)\n",
    "display(table_ratings.sample(10))"
   ]
  },
  {
   "cell_type": "code",
   "execution_count": 14,
   "id": "f8fc0143",
   "metadata": {},
   "outputs": [
    {
     "name": "stdout",
     "output_type": "stream",
     "text": [
      "Количество записей в таблице: 6456\n",
      "Количество столбцов в таблице: 4\n"
     ]
    }
   ],
   "source": [
    "len_table(table_ratings)"
   ]
  },
  {
   "cell_type": "code",
   "execution_count": 15,
   "id": "ff8d79c1",
   "metadata": {},
   "outputs": [
    {
     "name": "stdout",
     "output_type": "stream",
     "text": [
      "<class 'pandas.core.frame.DataFrame'>\n",
      "RangeIndex: 6456 entries, 0 to 6455\n",
      "Data columns (total 4 columns):\n",
      " #   Column     Non-Null Count  Dtype \n",
      "---  ------     --------------  ----- \n",
      " 0   rating_id  6456 non-null   int64 \n",
      " 1   book_id    6456 non-null   int64 \n",
      " 2   username   6456 non-null   object\n",
      " 3   rating     6456 non-null   int64 \n",
      "dtypes: int64(3), object(1)\n",
      "memory usage: 201.9+ KB\n"
     ]
    }
   ],
   "source": [
    "table_ratings.info()"
   ]
  },
  {
   "cell_type": "code",
   "execution_count": 16,
   "id": "fd0d82a8",
   "metadata": {},
   "outputs": [
    {
     "data": {
      "text/html": [
       "<div>\n",
       "<style scoped>\n",
       "    .dataframe tbody tr th:only-of-type {\n",
       "        vertical-align: middle;\n",
       "    }\n",
       "\n",
       "    .dataframe tbody tr th {\n",
       "        vertical-align: top;\n",
       "    }\n",
       "\n",
       "    .dataframe thead th {\n",
       "        text-align: right;\n",
       "    }\n",
       "</style>\n",
       "<table border=\"1\" class=\"dataframe\">\n",
       "  <thead>\n",
       "    <tr style=\"text-align: right;\">\n",
       "      <th></th>\n",
       "      <th>review_id</th>\n",
       "      <th>book_id</th>\n",
       "      <th>username</th>\n",
       "      <th>text</th>\n",
       "    </tr>\n",
       "  </thead>\n",
       "  <tbody>\n",
       "    <tr>\n",
       "      <th>1308</th>\n",
       "      <td>1308</td>\n",
       "      <td>475</td>\n",
       "      <td>amy97</td>\n",
       "      <td>East condition quite when understand rule. Env...</td>\n",
       "    </tr>\n",
       "    <tr>\n",
       "      <th>1275</th>\n",
       "      <td>1275</td>\n",
       "      <td>464</td>\n",
       "      <td>lewisdesiree</td>\n",
       "      <td>You reach while sister store. Speak performanc...</td>\n",
       "    </tr>\n",
       "    <tr>\n",
       "      <th>1210</th>\n",
       "      <td>1210</td>\n",
       "      <td>440</td>\n",
       "      <td>dmiller</td>\n",
       "      <td>Nothing wall great policy piece his. Interest ...</td>\n",
       "    </tr>\n",
       "    <tr>\n",
       "      <th>1428</th>\n",
       "      <td>1428</td>\n",
       "      <td>517</td>\n",
       "      <td>sfitzgerald</td>\n",
       "      <td>Pay there trip culture smile.</td>\n",
       "    </tr>\n",
       "    <tr>\n",
       "      <th>2484</th>\n",
       "      <td>2484</td>\n",
       "      <td>887</td>\n",
       "      <td>brandtandrea</td>\n",
       "      <td>Most large your song international reality lea...</td>\n",
       "    </tr>\n",
       "    <tr>\n",
       "      <th>2319</th>\n",
       "      <td>2319</td>\n",
       "      <td>833</td>\n",
       "      <td>daniel19</td>\n",
       "      <td>Evidence industry weight size drug. Daughter o...</td>\n",
       "    </tr>\n",
       "    <tr>\n",
       "      <th>22</th>\n",
       "      <td>23</td>\n",
       "      <td>9</td>\n",
       "      <td>williamsangela</td>\n",
       "      <td>Plan doctor man admit news. Market thousand tr...</td>\n",
       "    </tr>\n",
       "    <tr>\n",
       "      <th>20</th>\n",
       "      <td>21</td>\n",
       "      <td>8</td>\n",
       "      <td>cassandra90</td>\n",
       "      <td>Blue at simple ok project. Film old firm away.</td>\n",
       "    </tr>\n",
       "    <tr>\n",
       "      <th>953</th>\n",
       "      <td>954</td>\n",
       "      <td>353</td>\n",
       "      <td>shermannatalie</td>\n",
       "      <td>Say him main Republican series. Account nation...</td>\n",
       "    </tr>\n",
       "    <tr>\n",
       "      <th>1742</th>\n",
       "      <td>1741</td>\n",
       "      <td>631</td>\n",
       "      <td>carla64</td>\n",
       "      <td>Single determine national authority. Product t...</td>\n",
       "    </tr>\n",
       "  </tbody>\n",
       "</table>\n",
       "</div>"
      ],
      "text/plain": [
       "      review_id  book_id        username  \\\n",
       "1308       1308      475           amy97   \n",
       "1275       1275      464    lewisdesiree   \n",
       "1210       1210      440         dmiller   \n",
       "1428       1428      517     sfitzgerald   \n",
       "2484       2484      887    brandtandrea   \n",
       "2319       2319      833        daniel19   \n",
       "22           23        9  williamsangela   \n",
       "20           21        8     cassandra90   \n",
       "953         954      353  shermannatalie   \n",
       "1742       1741      631         carla64   \n",
       "\n",
       "                                                   text  \n",
       "1308  East condition quite when understand rule. Env...  \n",
       "1275  You reach while sister store. Speak performanc...  \n",
       "1210  Nothing wall great policy piece his. Interest ...  \n",
       "1428                      Pay there trip culture smile.  \n",
       "2484  Most large your song international reality lea...  \n",
       "2319  Evidence industry weight size drug. Daughter o...  \n",
       "22    Plan doctor man admit news. Market thousand tr...  \n",
       "20       Blue at simple ok project. Film old firm away.  \n",
       "953   Say him main Republican series. Account nation...  \n",
       "1742  Single determine national authority. Product t...  "
      ]
     },
     "metadata": {},
     "output_type": "display_data"
    }
   ],
   "source": [
    "request_5 = '''\n",
    "SELECT *\n",
    "FROM reviews\n",
    "'''\n",
    "table_reviews = pd.io.sql.read_sql(request_5, con = engine)\n",
    "display(table_reviews.sample(10))"
   ]
  },
  {
   "cell_type": "code",
   "execution_count": 17,
   "id": "2041e5fb",
   "metadata": {},
   "outputs": [
    {
     "name": "stdout",
     "output_type": "stream",
     "text": [
      "Количество записей в таблице: 2793\n",
      "Количество столбцов в таблице: 4\n"
     ]
    }
   ],
   "source": [
    "len_table(table_reviews)"
   ]
  },
  {
   "cell_type": "code",
   "execution_count": 18,
   "id": "a5654ffb",
   "metadata": {},
   "outputs": [
    {
     "name": "stdout",
     "output_type": "stream",
     "text": [
      "<class 'pandas.core.frame.DataFrame'>\n",
      "RangeIndex: 2793 entries, 0 to 2792\n",
      "Data columns (total 4 columns):\n",
      " #   Column     Non-Null Count  Dtype \n",
      "---  ------     --------------  ----- \n",
      " 0   review_id  2793 non-null   int64 \n",
      " 1   book_id    2793 non-null   int64 \n",
      " 2   username   2793 non-null   object\n",
      " 3   text       2793 non-null   object\n",
      "dtypes: int64(2), object(2)\n",
      "memory usage: 87.4+ KB\n"
     ]
    }
   ],
   "source": [
    "table_reviews.info()"
   ]
  },
  {
   "cell_type": "markdown",
   "id": "b104e1a8",
   "metadata": {},
   "source": [
    "**Вывод:**\n",
    "- в исследовании будут задействованы 5 таблиц\n",
    "- осуществлены SQL-запросы, которые были обработаны с помощью библиотеки sqlalchemy\n",
    "- было изучено количество записей и количество столбцов для каждой из страниц\n",
    "- произведено \"поверхностное знакомство\" с содержимым таблиц"
   ]
  },
  {
   "cell_type": "markdown",
   "id": "86f0bb89",
   "metadata": {},
   "source": [
    "# 2. Выполнение исследования"
   ]
  },
  {
   "cell_type": "markdown",
   "id": "4f2d92c2",
   "metadata": {},
   "source": [
    "Объявим функцию, чтобы избежать \"рутинной\" работы по повторению вызова pd.io.sql.read_sql в конце каждого запроса и необходимости записывать его в отдельную переменную."
   ]
  },
  {
   "cell_type": "code",
   "execution_count": 19,
   "id": "e9df55a7",
   "metadata": {},
   "outputs": [],
   "source": [
    "def show_result(request_sql):\n",
    "    return pd.io.sql.read_sql(request_sql, con = engine)"
   ]
  },
  {
   "cell_type": "markdown",
   "id": "a798aa87",
   "metadata": {},
   "source": [
    "## 2.1. Определение количества книг, вышедших после 1 января 2000 года"
   ]
  },
  {
   "cell_type": "code",
   "execution_count": 20,
   "id": "f403b534",
   "metadata": {},
   "outputs": [
    {
     "data": {
      "text/html": [
       "<div>\n",
       "<style scoped>\n",
       "    .dataframe tbody tr th:only-of-type {\n",
       "        vertical-align: middle;\n",
       "    }\n",
       "\n",
       "    .dataframe tbody tr th {\n",
       "        vertical-align: top;\n",
       "    }\n",
       "\n",
       "    .dataframe thead th {\n",
       "        text-align: right;\n",
       "    }\n",
       "</style>\n",
       "<table border=\"1\" class=\"dataframe\">\n",
       "  <thead>\n",
       "    <tr style=\"text-align: right;\">\n",
       "      <th></th>\n",
       "      <th>count</th>\n",
       "    </tr>\n",
       "  </thead>\n",
       "  <tbody>\n",
       "    <tr>\n",
       "      <th>0</th>\n",
       "      <td>819</td>\n",
       "    </tr>\n",
       "  </tbody>\n",
       "</table>\n",
       "</div>"
      ],
      "text/plain": [
       "   count\n",
       "0    819"
      ]
     },
     "execution_count": 20,
     "metadata": {},
     "output_type": "execute_result"
    }
   ],
   "source": [
    "count_books = '''\n",
    "SELECT COUNT (*)\n",
    "FROM books\n",
    "WHERE publication_date >= '2000-01-02';\n",
    "'''\n",
    "show_result(count_books)"
   ]
  },
  {
   "cell_type": "markdown",
   "id": "cd5f8c8e",
   "metadata": {},
   "source": [
    "Среди имеющейся \"библиотеки\" книг компании после 1 января 2000 года было выпущено 819 произведений"
   ]
  },
  {
   "cell_type": "markdown",
   "id": "d22f8989",
   "metadata": {},
   "source": [
    "## 2.2. Определение количества обзоров и средней оценки для каждой книги"
   ]
  },
  {
   "cell_type": "code",
   "execution_count": 21,
   "id": "2e2ba8c4",
   "metadata": {},
   "outputs": [
    {
     "data": {
      "text/html": [
       "<div>\n",
       "<style scoped>\n",
       "    .dataframe tbody tr th:only-of-type {\n",
       "        vertical-align: middle;\n",
       "    }\n",
       "\n",
       "    .dataframe tbody tr th {\n",
       "        vertical-align: top;\n",
       "    }\n",
       "\n",
       "    .dataframe thead th {\n",
       "        text-align: right;\n",
       "    }\n",
       "</style>\n",
       "<table border=\"1\" class=\"dataframe\">\n",
       "  <thead>\n",
       "    <tr style=\"text-align: right;\">\n",
       "      <th></th>\n",
       "      <th>title</th>\n",
       "      <th>review_count</th>\n",
       "      <th>avg_rating</th>\n",
       "    </tr>\n",
       "  </thead>\n",
       "  <tbody>\n",
       "    <tr>\n",
       "      <th>0</th>\n",
       "      <td>Twilight (Twilight  #1)</td>\n",
       "      <td>7</td>\n",
       "      <td>3.66</td>\n",
       "    </tr>\n",
       "    <tr>\n",
       "      <th>1</th>\n",
       "      <td>Water for Elephants</td>\n",
       "      <td>6</td>\n",
       "      <td>3.98</td>\n",
       "    </tr>\n",
       "    <tr>\n",
       "      <th>2</th>\n",
       "      <td>The Glass Castle</td>\n",
       "      <td>6</td>\n",
       "      <td>4.21</td>\n",
       "    </tr>\n",
       "    <tr>\n",
       "      <th>3</th>\n",
       "      <td>Harry Potter and the Prisoner of Azkaban (Harr...</td>\n",
       "      <td>6</td>\n",
       "      <td>4.41</td>\n",
       "    </tr>\n",
       "    <tr>\n",
       "      <th>4</th>\n",
       "      <td>The Curious Incident of the Dog in the Night-Time</td>\n",
       "      <td>6</td>\n",
       "      <td>4.08</td>\n",
       "    </tr>\n",
       "    <tr>\n",
       "      <th>...</th>\n",
       "      <td>...</td>\n",
       "      <td>...</td>\n",
       "      <td>...</td>\n",
       "    </tr>\n",
       "    <tr>\n",
       "      <th>995</th>\n",
       "      <td>Anne Rice's The Vampire Lestat: A Graphic Novel</td>\n",
       "      <td>0</td>\n",
       "      <td>3.67</td>\n",
       "    </tr>\n",
       "    <tr>\n",
       "      <th>996</th>\n",
       "      <td>The Natural Way to Draw</td>\n",
       "      <td>0</td>\n",
       "      <td>3.00</td>\n",
       "    </tr>\n",
       "    <tr>\n",
       "      <th>997</th>\n",
       "      <td>The Cat in the Hat and Other Dr. Seuss Favorites</td>\n",
       "      <td>0</td>\n",
       "      <td>5.00</td>\n",
       "    </tr>\n",
       "    <tr>\n",
       "      <th>998</th>\n",
       "      <td>Essential Tales and Poems</td>\n",
       "      <td>0</td>\n",
       "      <td>4.00</td>\n",
       "    </tr>\n",
       "    <tr>\n",
       "      <th>999</th>\n",
       "      <td>Disney's Beauty and the Beast (A Little Golden...</td>\n",
       "      <td>0</td>\n",
       "      <td>4.00</td>\n",
       "    </tr>\n",
       "  </tbody>\n",
       "</table>\n",
       "<p>1000 rows × 3 columns</p>\n",
       "</div>"
      ],
      "text/plain": [
       "                                                 title  review_count  \\\n",
       "0                              Twilight (Twilight  #1)             7   \n",
       "1                                  Water for Elephants             6   \n",
       "2                                     The Glass Castle             6   \n",
       "3    Harry Potter and the Prisoner of Azkaban (Harr...             6   \n",
       "4    The Curious Incident of the Dog in the Night-Time             6   \n",
       "..                                                 ...           ...   \n",
       "995    Anne Rice's The Vampire Lestat: A Graphic Novel             0   \n",
       "996                            The Natural Way to Draw             0   \n",
       "997   The Cat in the Hat and Other Dr. Seuss Favorites             0   \n",
       "998                          Essential Tales and Poems             0   \n",
       "999  Disney's Beauty and the Beast (A Little Golden...             0   \n",
       "\n",
       "     avg_rating  \n",
       "0          3.66  \n",
       "1          3.98  \n",
       "2          4.21  \n",
       "3          4.41  \n",
       "4          4.08  \n",
       "..          ...  \n",
       "995        3.67  \n",
       "996        3.00  \n",
       "997        5.00  \n",
       "998        4.00  \n",
       "999        4.00  \n",
       "\n",
       "[1000 rows x 3 columns]"
      ]
     },
     "execution_count": 21,
     "metadata": {},
     "output_type": "execute_result"
    }
   ],
   "source": [
    "count_review_avg_rating = '''\n",
    "SELECT\n",
    "    b.title,\n",
    "    (\n",
    "        SELECT\n",
    "            COUNT(review_id) AS review_count\n",
    "        FROM reviews\n",
    "        WHERE book_id = b.book_id\n",
    "    ),\n",
    "    (\n",
    "        SELECT\n",
    "            ROUND(AVG(rating),2)\n",
    "        FROM ratings\n",
    "        WHERE book_id = b.book_id\n",
    "    ) AS avg_rating\n",
    "FROM books AS b, reviews AS r\n",
    "GROUP BY b.book_id\n",
    "order by review_count desc;\n",
    "'''\n",
    "show_result(count_review_avg_rating)"
   ]
  },
  {
   "cell_type": "markdown",
   "id": "60a312aa",
   "metadata": {},
   "source": [
    "Такой запрос позволит нам посмотреть как рейтинг по каждому произведению и увидеть количество рецензий."
   ]
  },
  {
   "cell_type": "markdown",
   "id": "974e38c0",
   "metadata": {},
   "source": [
    "## 2.3. Определите издательства, которое выпустило наибольшее число книг толще 50 страниц"
   ]
  },
  {
   "cell_type": "code",
   "execution_count": 22,
   "id": "cf72cd45",
   "metadata": {},
   "outputs": [
    {
     "data": {
      "text/html": [
       "<div>\n",
       "<style scoped>\n",
       "    .dataframe tbody tr th:only-of-type {\n",
       "        vertical-align: middle;\n",
       "    }\n",
       "\n",
       "    .dataframe tbody tr th {\n",
       "        vertical-align: top;\n",
       "    }\n",
       "\n",
       "    .dataframe thead th {\n",
       "        text-align: right;\n",
       "    }\n",
       "</style>\n",
       "<table border=\"1\" class=\"dataframe\">\n",
       "  <thead>\n",
       "    <tr style=\"text-align: right;\">\n",
       "      <th></th>\n",
       "      <th>publisher</th>\n",
       "      <th>count</th>\n",
       "    </tr>\n",
       "  </thead>\n",
       "  <tbody>\n",
       "    <tr>\n",
       "      <th>0</th>\n",
       "      <td>Penguin Books</td>\n",
       "      <td>42</td>\n",
       "    </tr>\n",
       "    <tr>\n",
       "      <th>1</th>\n",
       "      <td>Vintage</td>\n",
       "      <td>31</td>\n",
       "    </tr>\n",
       "    <tr>\n",
       "      <th>2</th>\n",
       "      <td>Grand Central Publishing</td>\n",
       "      <td>25</td>\n",
       "    </tr>\n",
       "    <tr>\n",
       "      <th>3</th>\n",
       "      <td>Penguin Classics</td>\n",
       "      <td>24</td>\n",
       "    </tr>\n",
       "    <tr>\n",
       "      <th>4</th>\n",
       "      <td>Bantam</td>\n",
       "      <td>19</td>\n",
       "    </tr>\n",
       "  </tbody>\n",
       "</table>\n",
       "</div>"
      ],
      "text/plain": [
       "                  publisher  count\n",
       "0             Penguin Books     42\n",
       "1                   Vintage     31\n",
       "2  Grand Central Publishing     25\n",
       "3          Penguin Classics     24\n",
       "4                    Bantam     19"
      ]
     },
     "execution_count": 22,
     "metadata": {},
     "output_type": "execute_result"
    }
   ],
   "source": [
    "publisher_50 = '''\n",
    "SELECT publishers.publisher,\n",
    "       COUNT(book_id)\n",
    "FROM books\n",
    "LEFT JOIN publishers ON publishers.publisher_id = books.publisher_id\n",
    "WHERE num_pages > 50\n",
    "GROUP BY publishers.publisher\n",
    "ORDER BY COUNT(book_id) DESC\n",
    "LIMIT 5\n",
    "'''\n",
    "show_result(publisher_50)"
   ]
  },
  {
   "cell_type": "markdown",
   "id": "11d4ac4f",
   "metadata": {},
   "source": [
    "Больше всего книг, толщиной более 50 страниц было выпущено издательством Penguin Books - 42 книги. Для решения запроса была применена группировка и сортировка по количеству книг от большего к меньшему. Поскольку, мы ищем одно издательство, достаточно посмотреть первую строку, но для сравнения выведем 5. В итоге, под требуемые критерии попадает вышеупомянутое издательство, которое \"лидирует\" с большим отрывом"
   ]
  },
  {
   "cell_type": "markdown",
   "id": "18fd3e7f",
   "metadata": {},
   "source": [
    "## 2.4.Определение автора с самой высокой средней оценкой книг (50 и более оценок)"
   ]
  },
  {
   "cell_type": "code",
   "execution_count": 23,
   "id": "f0730366",
   "metadata": {},
   "outputs": [
    {
     "data": {
      "text/html": [
       "<div>\n",
       "<style scoped>\n",
       "    .dataframe tbody tr th:only-of-type {\n",
       "        vertical-align: middle;\n",
       "    }\n",
       "\n",
       "    .dataframe tbody tr th {\n",
       "        vertical-align: top;\n",
       "    }\n",
       "\n",
       "    .dataframe thead th {\n",
       "        text-align: right;\n",
       "    }\n",
       "</style>\n",
       "<table border=\"1\" class=\"dataframe\">\n",
       "  <thead>\n",
       "    <tr style=\"text-align: right;\">\n",
       "      <th></th>\n",
       "      <th>author</th>\n",
       "      <th>avg_rating</th>\n",
       "    </tr>\n",
       "  </thead>\n",
       "  <tbody>\n",
       "    <tr>\n",
       "      <th>0</th>\n",
       "      <td>J.K. Rowling/Mary GrandPré</td>\n",
       "      <td>4.287</td>\n",
       "    </tr>\n",
       "    <tr>\n",
       "      <th>1</th>\n",
       "      <td>Markus Zusak/Cao Xuân Việt Khương</td>\n",
       "      <td>4.264</td>\n",
       "    </tr>\n",
       "    <tr>\n",
       "      <th>2</th>\n",
       "      <td>J.R.R. Tolkien</td>\n",
       "      <td>4.247</td>\n",
       "    </tr>\n",
       "    <tr>\n",
       "      <th>3</th>\n",
       "      <td>Louisa May Alcott</td>\n",
       "      <td>4.192</td>\n",
       "    </tr>\n",
       "    <tr>\n",
       "      <th>4</th>\n",
       "      <td>Rick Riordan</td>\n",
       "      <td>4.081</td>\n",
       "    </tr>\n",
       "  </tbody>\n",
       "</table>\n",
       "</div>"
      ],
      "text/plain": [
       "                              author  avg_rating\n",
       "0         J.K. Rowling/Mary GrandPré       4.287\n",
       "1  Markus Zusak/Cao Xuân Việt Khương       4.264\n",
       "2                     J.R.R. Tolkien       4.247\n",
       "3                  Louisa May Alcott       4.192\n",
       "4                       Rick Riordan       4.081"
      ]
     },
     "execution_count": 23,
     "metadata": {},
     "output_type": "execute_result"
    }
   ],
   "source": [
    "top_author = '''\n",
    "SELECT author,\n",
    "       ROUND(AVG(rate.rating),3) AS avg_rating\n",
    "FROM\n",
    "  (SELECT author,\n",
    "          AVG(rating) AS rating\n",
    "   FROM\n",
    "     (SELECT *\n",
    "      FROM books\n",
    "      WHERE book_id IN\n",
    "          (SELECT book_id\n",
    "           FROM ratings\n",
    "           GROUP BY book_id\n",
    "           HAVING COUNT(rating) >= 50\n",
    "           )\n",
    "           ) AS books_int\n",
    "   INNER JOIN authors ON books_int.author_id = authors.author_id\n",
    "   INNER JOIN ratings ON books_int.book_id = ratings.book_id\n",
    "   GROUP BY author\n",
    "   ) AS rate\n",
    "GROUP BY author\n",
    "ORDER BY avg_rating DESC\n",
    "LIMIT 5\n",
    "'''\n",
    "show_result(top_author)"
   ]
  },
  {
   "cell_type": "markdown",
   "id": "c257369d",
   "metadata": {},
   "source": [
    "Для нахождения требуемых показателей понадобилось воспользоваться подзапросом. Сначала, были получены данные, соответствующие условию (чтобы оценок было 50+), затем, выведена \"сводная\" таблица, в которой указаны только данные автора и средний рейтинг. Для удобства восприятия, рейтинг ограничен двумя знаками после запятой.\n",
    "\n",
    "Наиболее высокий рейтинг, среди авторов, в разрезе не менее 50-ти суммарных оценок у Дж.К.Роулинг, что неудивительно, с учетом того, что ее основной бренд \"Гарри Поттер\" даже спустя много лет после выхода последней книги серии успешно продается, переиздается, и.т.п. Судя по всему, через слеш указаны ФИО иллюстратора. На втором месте Маркус Зузак, иллюстратор Cao Xuân Việt Khương. Третье место у Толкиена.\n",
    "Стоит также отметить, что есть не ограничить запрос первыми пятью строками, будет наблюдаться \"падение\" рейтинга. С шестой строки от будет уже менее 3,9."
   ]
  },
  {
   "cell_type": "markdown",
   "id": "74e8fd91",
   "metadata": {},
   "source": [
    "## 2.5.  Определение среднего количества обзоров от пользователей, которые поставили больше 50 оценок"
   ]
  },
  {
   "cell_type": "code",
   "execution_count": 24,
   "id": "cb965599",
   "metadata": {},
   "outputs": [
    {
     "data": {
      "text/html": [
       "<div>\n",
       "<style scoped>\n",
       "    .dataframe tbody tr th:only-of-type {\n",
       "        vertical-align: middle;\n",
       "    }\n",
       "\n",
       "    .dataframe tbody tr th {\n",
       "        vertical-align: top;\n",
       "    }\n",
       "\n",
       "    .dataframe thead th {\n",
       "        text-align: right;\n",
       "    }\n",
       "</style>\n",
       "<table border=\"1\" class=\"dataframe\">\n",
       "  <thead>\n",
       "    <tr style=\"text-align: right;\">\n",
       "      <th></th>\n",
       "      <th>round</th>\n",
       "    </tr>\n",
       "  </thead>\n",
       "  <tbody>\n",
       "    <tr>\n",
       "      <th>0</th>\n",
       "      <td>24.0</td>\n",
       "    </tr>\n",
       "  </tbody>\n",
       "</table>\n",
       "</div>"
      ],
      "text/plain": [
       "   round\n",
       "0   24.0"
      ]
     },
     "execution_count": 24,
     "metadata": {},
     "output_type": "execute_result"
    }
   ],
   "source": [
    "count_reviews_user = '''\n",
    "SELECT ROUND(AVG(subquery.count_review), 0)\n",
    "FROM\n",
    "  (SELECT COUNT(review_id) AS count_review\n",
    "   FROM reviews\n",
    "   WHERE username IN\n",
    "       (SELECT username\n",
    "        FROM ratings\n",
    "        GROUP BY username\n",
    "        HAVING COUNT(rating) > 50)\n",
    "   GROUP BY username) AS subquery;\n",
    "'''\n",
    "show_result(count_reviews_user)"
   ]
  },
  {
   "cell_type": "markdown",
   "id": "e91638f8",
   "metadata": {},
   "source": [
    "С помощью ряда подзапросов было найдено требуемое значение: 24 пользователя поставили более 50 оценок. С учетом того, что книги сейчас (в любом формате) не самый популярный вид досуга - такие клиенты настоящие поклонники литературы."
   ]
  },
  {
   "cell_type": "markdown",
   "id": "b9363ff6",
   "metadata": {},
   "source": [
    "# 3. Выводы"
   ]
  },
  {
   "cell_type": "markdown",
   "id": "4734c94d",
   "metadata": {},
   "source": [
    "В ходе реализации проекта были использованы 5 таблиц из базы данных. На момент исследования в базе были сведения о:\n",
    "- 1000 произведений\n",
    "- 636 авторах\n",
    "- 340 издательствах\n",
    "- 6456 оценках\n",
    "- 2793 рецензиях\n",
    "\n",
    "Также:\n",
    "- с начала 2000 года было выпущено 819 произведений\n",
    "- для каждой книги были определены средний балл (оценка) и количество обзоров\n",
    "- определено издательство, которое наиболее часто издает книги толщиной более 50 страниц (Penguin Books)\n",
    "- наиболее высокие оценки по мнению читателей ресурса у Дж.К.Роулинг и Маркуса Зузака\n",
    "- пользователи, которые поставили более 50 оценок, в среднем оставляют 24 обзора"
   ]
  }
 ],
 "metadata": {
  "ExecuteTimeLog": [
   {
    "duration": 487,
    "start_time": "2022-06-13T09:22:48.209Z"
   },
   {
    "duration": 6,
    "start_time": "2022-06-13T09:22:49.430Z"
   },
   {
    "duration": 83,
    "start_time": "2022-06-13T09:24:30.036Z"
   },
   {
    "duration": 295,
    "start_time": "2022-06-13T09:26:24.844Z"
   },
   {
    "duration": 81,
    "start_time": "2022-06-13T09:26:33.980Z"
   },
   {
    "duration": 100,
    "start_time": "2022-06-13T09:26:36.759Z"
   },
   {
    "duration": 75,
    "start_time": "2022-06-13T09:27:02.419Z"
   },
   {
    "duration": 47,
    "start_time": "2022-06-13T09:27:13.739Z"
   },
   {
    "duration": 20,
    "start_time": "2022-06-13T09:27:17.652Z"
   },
   {
    "duration": 78,
    "start_time": "2022-06-13T09:29:58.800Z"
   },
   {
    "duration": 124,
    "start_time": "2022-06-13T09:32:04.238Z"
   },
   {
    "duration": 95,
    "start_time": "2022-06-13T09:32:38.879Z"
   },
   {
    "duration": 8,
    "start_time": "2022-06-13T09:32:54.542Z"
   },
   {
    "duration": 95,
    "start_time": "2022-06-13T09:32:59.638Z"
   },
   {
    "duration": 59,
    "start_time": "2022-06-13T09:33:07.118Z"
   },
   {
    "duration": 204,
    "start_time": "2022-06-13T09:33:24.334Z"
   },
   {
    "duration": 543,
    "start_time": "2022-06-13T09:33:45.283Z"
   },
   {
    "duration": 61,
    "start_time": "2022-06-13T09:33:45.828Z"
   },
   {
    "duration": 306,
    "start_time": "2022-06-13T09:33:45.891Z"
   },
   {
    "duration": 81,
    "start_time": "2022-06-13T09:34:17.768Z"
   },
   {
    "duration": 142,
    "start_time": "2022-06-13T09:34:26.378Z"
   },
   {
    "duration": 127,
    "start_time": "2022-06-13T09:34:58.890Z"
   },
   {
    "duration": 88,
    "start_time": "2022-06-13T09:35:24.009Z"
   },
   {
    "duration": 109,
    "start_time": "2022-06-13T09:36:11.435Z"
   },
   {
    "duration": 99,
    "start_time": "2022-06-13T09:36:24.193Z"
   },
   {
    "duration": 525,
    "start_time": "2022-06-13T09:37:22.880Z"
   },
   {
    "duration": 55,
    "start_time": "2022-06-13T09:37:23.408Z"
   },
   {
    "duration": 4,
    "start_time": "2022-06-13T09:37:23.464Z"
   },
   {
    "duration": 302,
    "start_time": "2022-06-13T09:44:04.476Z"
   },
   {
    "duration": 13,
    "start_time": "2022-06-13T09:44:14.828Z"
   },
   {
    "duration": 8,
    "start_time": "2022-06-13T09:44:20.620Z"
   },
   {
    "duration": 12,
    "start_time": "2022-06-13T09:44:46.916Z"
   },
   {
    "duration": 9,
    "start_time": "2022-06-13T09:45:05.412Z"
   },
   {
    "duration": 5,
    "start_time": "2022-06-13T09:46:03.587Z"
   },
   {
    "duration": 108,
    "start_time": "2022-06-13T09:47:09.330Z"
   },
   {
    "duration": 4,
    "start_time": "2022-06-13T09:47:36.676Z"
   },
   {
    "duration": 99,
    "start_time": "2022-06-13T09:49:48.291Z"
   },
   {
    "duration": 3,
    "start_time": "2022-06-13T09:50:04.344Z"
   },
   {
    "duration": 11,
    "start_time": "2022-06-13T09:50:29.719Z"
   },
   {
    "duration": 73,
    "start_time": "2022-06-13T09:50:58.175Z"
   },
   {
    "duration": 5,
    "start_time": "2022-06-13T09:51:14.430Z"
   },
   {
    "duration": 14,
    "start_time": "2022-06-13T09:51:25.288Z"
   },
   {
    "duration": 145,
    "start_time": "2022-06-13T09:51:59.301Z"
   },
   {
    "duration": 4,
    "start_time": "2022-06-13T09:52:13.681Z"
   },
   {
    "duration": 133,
    "start_time": "2022-06-13T09:54:03.811Z"
   },
   {
    "duration": 4,
    "start_time": "2022-06-13T09:54:16.288Z"
   },
   {
    "duration": 510,
    "start_time": "2022-06-13T09:54:25.298Z"
   },
   {
    "duration": 44,
    "start_time": "2022-06-13T09:54:25.810Z"
   },
   {
    "duration": 6,
    "start_time": "2022-06-13T09:54:25.864Z"
   },
   {
    "duration": 356,
    "start_time": "2022-06-13T09:54:25.886Z"
   },
   {
    "duration": 4,
    "start_time": "2022-06-13T09:54:26.245Z"
   },
   {
    "duration": 54,
    "start_time": "2022-06-13T09:54:26.250Z"
   },
   {
    "duration": 98,
    "start_time": "2022-06-13T09:54:26.306Z"
   },
   {
    "duration": 5,
    "start_time": "2022-06-13T09:54:26.406Z"
   },
   {
    "duration": 12,
    "start_time": "2022-06-13T09:54:26.413Z"
   },
   {
    "duration": 108,
    "start_time": "2022-06-13T09:54:26.427Z"
   },
   {
    "duration": 5,
    "start_time": "2022-06-13T09:54:26.537Z"
   },
   {
    "duration": 36,
    "start_time": "2022-06-13T09:54:26.543Z"
   },
   {
    "duration": 130,
    "start_time": "2022-06-13T09:54:26.589Z"
   },
   {
    "duration": 4,
    "start_time": "2022-06-13T09:54:26.722Z"
   },
   {
    "duration": 113,
    "start_time": "2022-06-13T09:54:26.727Z"
   },
   {
    "duration": 4,
    "start_time": "2022-06-13T09:54:26.841Z"
   },
   {
    "duration": 10,
    "start_time": "2022-06-13T09:54:47.538Z"
   },
   {
    "duration": 71,
    "start_time": "2022-06-13T09:54:55.075Z"
   },
   {
    "duration": 21,
    "start_time": "2022-06-13T09:55:00.367Z"
   },
   {
    "duration": 5,
    "start_time": "2022-06-13T10:07:40.651Z"
   },
   {
    "duration": 89,
    "start_time": "2022-06-13T10:07:54.100Z"
   },
   {
    "duration": 3,
    "start_time": "2022-06-13T10:10:37.632Z"
   },
   {
    "duration": 88,
    "start_time": "2022-06-13T10:10:42.802Z"
   },
   {
    "duration": 2,
    "start_time": "2022-06-13T10:10:52.097Z"
   },
   {
    "duration": 82,
    "start_time": "2022-06-13T10:10:55.409Z"
   },
   {
    "duration": 3,
    "start_time": "2022-06-13T10:11:23.793Z"
   },
   {
    "duration": 72,
    "start_time": "2022-06-13T10:11:25.067Z"
   },
   {
    "duration": 575,
    "start_time": "2022-06-13T10:11:34.838Z"
   },
   {
    "duration": 44,
    "start_time": "2022-06-13T10:11:35.415Z"
   },
   {
    "duration": 8,
    "start_time": "2022-06-13T10:11:35.462Z"
   },
   {
    "duration": 332,
    "start_time": "2022-06-13T10:11:35.471Z"
   },
   {
    "duration": 4,
    "start_time": "2022-06-13T10:11:35.805Z"
   },
   {
    "duration": 21,
    "start_time": "2022-06-13T10:11:35.811Z"
   },
   {
    "duration": 93,
    "start_time": "2022-06-13T10:11:35.833Z"
   },
   {
    "duration": 4,
    "start_time": "2022-06-13T10:11:35.928Z"
   },
   {
    "duration": 44,
    "start_time": "2022-06-13T10:11:35.933Z"
   },
   {
    "duration": 81,
    "start_time": "2022-06-13T10:11:35.979Z"
   },
   {
    "duration": 7,
    "start_time": "2022-06-13T10:11:36.062Z"
   },
   {
    "duration": 24,
    "start_time": "2022-06-13T10:11:36.071Z"
   },
   {
    "duration": 121,
    "start_time": "2022-06-13T10:11:36.097Z"
   },
   {
    "duration": 3,
    "start_time": "2022-06-13T10:11:36.220Z"
   },
   {
    "duration": 43,
    "start_time": "2022-06-13T10:11:36.225Z"
   },
   {
    "duration": 125,
    "start_time": "2022-06-13T10:11:36.270Z"
   },
   {
    "duration": 4,
    "start_time": "2022-06-13T10:11:36.396Z"
   },
   {
    "duration": 30,
    "start_time": "2022-06-13T10:11:36.402Z"
   },
   {
    "duration": 40,
    "start_time": "2022-06-13T10:11:36.434Z"
   },
   {
    "duration": 104,
    "start_time": "2022-06-13T10:11:36.476Z"
   },
   {
    "duration": 78,
    "start_time": "2022-06-13T10:14:33.994Z"
   },
   {
    "duration": 71,
    "start_time": "2022-06-13T10:14:41.369Z"
   },
   {
    "duration": 77,
    "start_time": "2022-06-13T10:14:54.225Z"
   },
   {
    "duration": 75,
    "start_time": "2022-06-13T10:15:11.866Z"
   },
   {
    "duration": 7,
    "start_time": "2022-06-13T10:15:18.554Z"
   },
   {
    "duration": 9,
    "start_time": "2022-06-13T10:15:26.353Z"
   },
   {
    "duration": 81,
    "start_time": "2022-06-13T10:16:20.536Z"
   },
   {
    "duration": 7,
    "start_time": "2022-06-13T10:16:23.596Z"
   },
   {
    "duration": 10,
    "start_time": "2022-06-13T10:16:29.196Z"
   },
   {
    "duration": 5,
    "start_time": "2022-06-13T10:16:36.667Z"
   },
   {
    "duration": 100,
    "start_time": "2022-06-13T10:16:45.088Z"
   },
   {
    "duration": 6,
    "start_time": "2022-06-13T10:17:03.772Z"
   },
   {
    "duration": 6,
    "start_time": "2022-06-13T10:17:19.518Z"
   },
   {
    "duration": 6,
    "start_time": "2022-06-13T10:17:28.614Z"
   },
   {
    "duration": 14,
    "start_time": "2022-06-13T10:17:31.092Z"
   },
   {
    "duration": 43,
    "start_time": "2022-06-13T10:17:33.551Z"
   },
   {
    "duration": 6,
    "start_time": "2022-06-13T10:17:36.519Z"
   },
   {
    "duration": 13,
    "start_time": "2022-06-13T10:20:12.684Z"
   },
   {
    "duration": 629,
    "start_time": "2022-06-13T10:20:45.565Z"
   },
   {
    "duration": 47,
    "start_time": "2022-06-13T10:20:46.196Z"
   },
   {
    "duration": 3,
    "start_time": "2022-06-13T10:20:46.244Z"
   },
   {
    "duration": 350,
    "start_time": "2022-06-13T10:20:46.254Z"
   },
   {
    "duration": 5,
    "start_time": "2022-06-13T10:20:46.607Z"
   },
   {
    "duration": 19,
    "start_time": "2022-06-13T10:20:46.615Z"
   },
   {
    "duration": 108,
    "start_time": "2022-06-13T10:20:46.637Z"
   },
   {
    "duration": 5,
    "start_time": "2022-06-13T10:20:46.748Z"
   },
   {
    "duration": 41,
    "start_time": "2022-06-13T10:20:46.759Z"
   },
   {
    "duration": 87,
    "start_time": "2022-06-13T10:20:46.803Z"
   },
   {
    "duration": 5,
    "start_time": "2022-06-13T10:20:46.892Z"
   },
   {
    "duration": 18,
    "start_time": "2022-06-13T10:20:46.899Z"
   },
   {
    "duration": 115,
    "start_time": "2022-06-13T10:20:46.919Z"
   },
   {
    "duration": 4,
    "start_time": "2022-06-13T10:20:47.037Z"
   },
   {
    "duration": 49,
    "start_time": "2022-06-13T10:20:47.043Z"
   },
   {
    "duration": 104,
    "start_time": "2022-06-13T10:20:47.094Z"
   },
   {
    "duration": 5,
    "start_time": "2022-06-13T10:20:47.200Z"
   },
   {
    "duration": 33,
    "start_time": "2022-06-13T10:20:47.207Z"
   },
   {
    "duration": 40,
    "start_time": "2022-06-13T10:20:47.242Z"
   },
   {
    "duration": 71,
    "start_time": "2022-06-13T10:20:47.283Z"
   },
   {
    "duration": 4,
    "start_time": "2022-06-13T10:20:58.883Z"
   },
   {
    "duration": 9,
    "start_time": "2022-06-13T10:21:06.063Z"
   },
   {
    "duration": 189,
    "start_time": "2022-06-13T10:21:26.007Z"
   },
   {
    "duration": 85,
    "start_time": "2022-06-13T10:21:35.695Z"
   },
   {
    "duration": 61,
    "start_time": "2022-06-13T10:24:48.584Z"
   },
   {
    "duration": 76,
    "start_time": "2022-06-13T10:24:55.947Z"
   },
   {
    "duration": 7,
    "start_time": "2022-06-13T10:25:16.123Z"
   },
   {
    "duration": 86,
    "start_time": "2022-06-13T10:25:30.707Z"
   },
   {
    "duration": 77,
    "start_time": "2022-06-13T10:26:24.450Z"
   },
   {
    "duration": 67,
    "start_time": "2022-06-13T10:27:18.193Z"
   },
   {
    "duration": 77,
    "start_time": "2022-06-13T10:27:24.440Z"
   },
   {
    "duration": 79,
    "start_time": "2022-06-13T10:27:58.400Z"
   },
   {
    "duration": 68,
    "start_time": "2022-06-13T10:28:15.068Z"
   },
   {
    "duration": 4,
    "start_time": "2022-06-13T10:47:40.266Z"
   },
   {
    "duration": 5,
    "start_time": "2022-06-13T10:47:51.251Z"
   },
   {
    "duration": 11,
    "start_time": "2022-06-13T10:56:44.628Z"
   },
   {
    "duration": 3,
    "start_time": "2022-06-13T10:57:03.146Z"
   },
   {
    "duration": 4,
    "start_time": "2022-06-13T10:57:15.529Z"
   },
   {
    "duration": 5,
    "start_time": "2022-06-13T10:57:38.156Z"
   },
   {
    "duration": 3,
    "start_time": "2022-06-13T10:57:39.669Z"
   },
   {
    "duration": 3,
    "start_time": "2022-06-13T10:57:56.481Z"
   },
   {
    "duration": 4,
    "start_time": "2022-06-13T10:57:56.905Z"
   },
   {
    "duration": 3,
    "start_time": "2022-06-13T10:58:07.810Z"
   },
   {
    "duration": 5,
    "start_time": "2022-06-13T10:58:08.297Z"
   },
   {
    "duration": 3,
    "start_time": "2022-06-13T10:58:28.802Z"
   },
   {
    "duration": 5,
    "start_time": "2022-06-13T10:58:29.345Z"
   },
   {
    "duration": 3,
    "start_time": "2022-06-13T10:59:13.337Z"
   },
   {
    "duration": 6,
    "start_time": "2022-06-13T10:59:18.272Z"
   },
   {
    "duration": 3,
    "start_time": "2022-06-13T10:59:39.928Z"
   },
   {
    "duration": 7,
    "start_time": "2022-06-13T10:59:40.496Z"
   },
   {
    "duration": 8,
    "start_time": "2022-06-13T10:59:48.839Z"
   },
   {
    "duration": 7,
    "start_time": "2022-06-13T10:59:55.280Z"
   },
   {
    "duration": 7,
    "start_time": "2022-06-13T10:59:56.175Z"
   },
   {
    "duration": 5,
    "start_time": "2022-06-13T11:00:07.479Z"
   },
   {
    "duration": 6,
    "start_time": "2022-06-13T11:00:07.879Z"
   },
   {
    "duration": 3,
    "start_time": "2022-06-13T11:00:23.471Z"
   },
   {
    "duration": 4,
    "start_time": "2022-06-13T11:01:05.968Z"
   },
   {
    "duration": 3,
    "start_time": "2022-06-13T11:01:06.569Z"
   },
   {
    "duration": 4,
    "start_time": "2022-06-13T11:01:20.039Z"
   },
   {
    "duration": 5,
    "start_time": "2022-06-13T11:01:21.271Z"
   },
   {
    "duration": 8,
    "start_time": "2022-06-13T11:01:31.865Z"
   },
   {
    "duration": 5,
    "start_time": "2022-06-13T11:01:32.222Z"
   },
   {
    "duration": 4,
    "start_time": "2022-06-13T11:03:10.072Z"
   },
   {
    "duration": 5,
    "start_time": "2022-06-13T11:03:10.472Z"
   },
   {
    "duration": 559,
    "start_time": "2022-06-13T11:08:55.657Z"
   },
   {
    "duration": 60,
    "start_time": "2022-06-13T11:08:57.224Z"
   },
   {
    "duration": 337,
    "start_time": "2022-06-13T11:09:01.297Z"
   },
   {
    "duration": 92,
    "start_time": "2022-06-13T11:09:06.432Z"
   },
   {
    "duration": 88,
    "start_time": "2022-06-13T11:09:09.151Z"
   },
   {
    "duration": 133,
    "start_time": "2022-06-13T11:09:12.271Z"
   },
   {
    "duration": 129,
    "start_time": "2022-06-13T11:09:15.728Z"
   },
   {
    "duration": 4,
    "start_time": "2022-06-13T11:09:18.319Z"
   },
   {
    "duration": 4,
    "start_time": "2022-06-13T11:09:40.239Z"
   },
   {
    "duration": 73,
    "start_time": "2022-06-13T11:09:49.703Z"
   },
   {
    "duration": 5,
    "start_time": "2022-06-13T11:10:00.406Z"
   },
   {
    "duration": 49,
    "start_time": "2022-06-13T11:10:36.325Z"
   },
   {
    "duration": 29,
    "start_time": "2022-06-13T11:10:43.120Z"
   },
   {
    "duration": 5,
    "start_time": "2022-06-13T11:10:55.109Z"
   },
   {
    "duration": 4,
    "start_time": "2022-06-13T11:11:32.517Z"
   },
   {
    "duration": 4,
    "start_time": "2022-06-13T11:11:41.829Z"
   },
   {
    "duration": 16,
    "start_time": "2022-06-13T11:11:42.950Z"
   },
   {
    "duration": 4,
    "start_time": "2022-06-13T11:11:46.771Z"
   },
   {
    "duration": 6,
    "start_time": "2022-06-13T11:11:47.828Z"
   },
   {
    "duration": 5,
    "start_time": "2022-06-13T11:11:54.492Z"
   },
   {
    "duration": 6,
    "start_time": "2022-06-13T11:11:55.768Z"
   },
   {
    "duration": 4,
    "start_time": "2022-06-13T11:12:58.411Z"
   },
   {
    "duration": 6,
    "start_time": "2022-06-13T11:12:58.869Z"
   },
   {
    "duration": 4,
    "start_time": "2022-06-13T11:13:15.167Z"
   },
   {
    "duration": 4,
    "start_time": "2022-06-13T11:13:16.324Z"
   },
   {
    "duration": 4,
    "start_time": "2022-06-13T11:17:05.178Z"
   },
   {
    "duration": 10,
    "start_time": "2022-06-13T11:17:10.296Z"
   },
   {
    "duration": 4,
    "start_time": "2022-06-13T11:17:23.807Z"
   },
   {
    "duration": 4,
    "start_time": "2022-06-13T11:17:24.183Z"
   },
   {
    "duration": 4,
    "start_time": "2022-06-13T11:17:59.623Z"
   },
   {
    "duration": 5,
    "start_time": "2022-06-13T11:17:59.963Z"
   },
   {
    "duration": 4,
    "start_time": "2022-06-13T11:19:59.868Z"
   },
   {
    "duration": 10,
    "start_time": "2022-06-13T11:20:00.340Z"
   },
   {
    "duration": 3,
    "start_time": "2022-06-13T11:26:57.182Z"
   },
   {
    "duration": 8,
    "start_time": "2022-06-13T11:26:57.853Z"
   },
   {
    "duration": 4,
    "start_time": "2022-06-13T11:27:57.829Z"
   },
   {
    "duration": 7,
    "start_time": "2022-06-13T11:27:58.533Z"
   },
   {
    "duration": 8,
    "start_time": "2022-06-13T11:28:38.844Z"
   },
   {
    "duration": 4,
    "start_time": "2022-06-13T11:28:47.064Z"
   },
   {
    "duration": 3,
    "start_time": "2022-06-13T11:29:05.821Z"
   },
   {
    "duration": 3,
    "start_time": "2022-06-13T11:29:06.276Z"
   },
   {
    "duration": 4,
    "start_time": "2022-06-13T11:29:14.764Z"
   },
   {
    "duration": 5,
    "start_time": "2022-06-13T11:29:15.307Z"
   },
   {
    "duration": 5,
    "start_time": "2022-06-13T11:29:33.100Z"
   },
   {
    "duration": 8,
    "start_time": "2022-06-13T11:29:34.619Z"
   },
   {
    "duration": 14,
    "start_time": "2022-06-13T11:29:48.650Z"
   },
   {
    "duration": 9,
    "start_time": "2022-06-13T11:29:48.979Z"
   },
   {
    "duration": 4,
    "start_time": "2022-06-13T11:30:02.939Z"
   },
   {
    "duration": 3,
    "start_time": "2022-06-13T11:30:11.283Z"
   },
   {
    "duration": 536,
    "start_time": "2022-06-13T11:31:31.729Z"
   },
   {
    "duration": 39,
    "start_time": "2022-06-13T11:31:32.977Z"
   },
   {
    "duration": 3,
    "start_time": "2022-06-13T11:32:27.880Z"
   },
   {
    "duration": 3,
    "start_time": "2022-06-13T11:33:07.615Z"
   },
   {
    "duration": 5,
    "start_time": "2022-06-13T11:33:15.351Z"
   },
   {
    "duration": 292,
    "start_time": "2022-06-13T11:33:50.190Z"
   },
   {
    "duration": 71,
    "start_time": "2022-06-13T11:33:52.799Z"
   },
   {
    "duration": 3,
    "start_time": "2022-06-13T11:34:06.897Z"
   },
   {
    "duration": 60,
    "start_time": "2022-06-13T11:34:24.750Z"
   },
   {
    "duration": 3,
    "start_time": "2022-06-13T11:34:45.567Z"
   },
   {
    "duration": 114,
    "start_time": "2022-06-13T11:34:46.869Z"
   },
   {
    "duration": 4,
    "start_time": "2022-06-13T11:34:48.229Z"
   },
   {
    "duration": 4,
    "start_time": "2022-06-13T11:35:06.670Z"
   },
   {
    "duration": 98,
    "start_time": "2022-06-13T11:35:07.005Z"
   },
   {
    "duration": 8,
    "start_time": "2022-06-13T11:35:11.267Z"
   },
   {
    "duration": 3,
    "start_time": "2022-06-13T11:35:25.693Z"
   },
   {
    "duration": 104,
    "start_time": "2022-06-13T11:35:26.046Z"
   },
   {
    "duration": 3,
    "start_time": "2022-06-13T11:35:29.493Z"
   },
   {
    "duration": 88,
    "start_time": "2022-06-13T11:35:44.470Z"
   },
   {
    "duration": 5,
    "start_time": "2022-06-13T11:35:59.916Z"
   },
   {
    "duration": 3,
    "start_time": "2022-06-13T11:37:20.283Z"
   },
   {
    "duration": 103,
    "start_time": "2022-06-13T11:37:21.227Z"
   },
   {
    "duration": 3,
    "start_time": "2022-06-13T11:37:28.779Z"
   },
   {
    "duration": 3,
    "start_time": "2022-06-13T11:38:06.443Z"
   },
   {
    "duration": 8,
    "start_time": "2022-06-13T11:38:21.051Z"
   },
   {
    "duration": 3,
    "start_time": "2022-06-13T11:38:36.193Z"
   },
   {
    "duration": 9,
    "start_time": "2022-06-13T11:38:38.871Z"
   },
   {
    "duration": 555,
    "start_time": "2022-06-13T11:39:02.433Z"
   },
   {
    "duration": 56,
    "start_time": "2022-06-13T11:39:03.745Z"
   },
   {
    "duration": 3,
    "start_time": "2022-06-13T11:39:10.505Z"
   },
   {
    "duration": 290,
    "start_time": "2022-06-13T11:39:11.794Z"
   },
   {
    "duration": 4,
    "start_time": "2022-06-13T11:39:15.587Z"
   },
   {
    "duration": 14,
    "start_time": "2022-06-13T11:39:34.953Z"
   },
   {
    "duration": 85,
    "start_time": "2022-06-13T11:39:38.768Z"
   },
   {
    "duration": 87,
    "start_time": "2022-06-13T11:39:48.929Z"
   },
   {
    "duration": 3,
    "start_time": "2022-06-13T11:39:52.201Z"
   },
   {
    "duration": 15,
    "start_time": "2022-06-13T11:39:59.009Z"
   },
   {
    "duration": 81,
    "start_time": "2022-06-13T11:40:01.623Z"
   },
   {
    "duration": 3,
    "start_time": "2022-06-13T11:40:22.369Z"
   },
   {
    "duration": 10,
    "start_time": "2022-06-13T11:40:27.008Z"
   },
   {
    "duration": 134,
    "start_time": "2022-06-13T11:40:31.913Z"
   },
   {
    "duration": 5,
    "start_time": "2022-06-13T11:40:43.104Z"
   },
   {
    "duration": 12,
    "start_time": "2022-06-13T11:40:46.223Z"
   },
   {
    "duration": 127,
    "start_time": "2022-06-13T11:40:49.089Z"
   },
   {
    "duration": 4,
    "start_time": "2022-06-13T11:41:07.276Z"
   },
   {
    "duration": 10,
    "start_time": "2022-06-13T11:41:10.695Z"
   },
   {
    "duration": 548,
    "start_time": "2022-06-13T11:41:22.735Z"
   },
   {
    "duration": 39,
    "start_time": "2022-06-13T11:41:23.285Z"
   },
   {
    "duration": 3,
    "start_time": "2022-06-13T11:41:23.326Z"
   },
   {
    "duration": 301,
    "start_time": "2022-06-13T11:41:23.331Z"
   },
   {
    "duration": 3,
    "start_time": "2022-06-13T11:41:23.634Z"
   },
   {
    "duration": 12,
    "start_time": "2022-06-13T11:41:23.639Z"
   },
   {
    "duration": 85,
    "start_time": "2022-06-13T11:41:23.656Z"
   },
   {
    "duration": 3,
    "start_time": "2022-06-13T11:41:23.743Z"
   },
   {
    "duration": 45,
    "start_time": "2022-06-13T11:41:23.748Z"
   },
   {
    "duration": 81,
    "start_time": "2022-06-13T11:41:23.795Z"
   },
   {
    "duration": 3,
    "start_time": "2022-06-13T11:41:23.877Z"
   },
   {
    "duration": 15,
    "start_time": "2022-06-13T11:41:23.882Z"
   },
   {
    "duration": 103,
    "start_time": "2022-06-13T11:41:23.898Z"
   },
   {
    "duration": 3,
    "start_time": "2022-06-13T11:41:24.002Z"
   },
   {
    "duration": 13,
    "start_time": "2022-06-13T11:41:24.007Z"
   },
   {
    "duration": 94,
    "start_time": "2022-06-13T11:41:24.021Z"
   },
   {
    "duration": 3,
    "start_time": "2022-06-13T11:41:24.117Z"
   },
   {
    "duration": 13,
    "start_time": "2022-06-13T11:41:24.122Z"
   },
   {
    "duration": 5,
    "start_time": "2022-06-13T11:41:24.137Z"
   },
   {
    "duration": 80,
    "start_time": "2022-06-13T11:41:24.144Z"
   },
   {
    "duration": 62,
    "start_time": "2022-06-13T11:42:53.682Z"
   },
   {
    "duration": 3,
    "start_time": "2022-06-13T11:47:45.189Z"
   },
   {
    "duration": 100,
    "start_time": "2022-06-13T11:47:59.917Z"
   },
   {
    "duration": 87,
    "start_time": "2022-06-13T11:48:37.404Z"
   },
   {
    "duration": 4,
    "start_time": "2022-06-13T11:48:47.532Z"
   },
   {
    "duration": 116,
    "start_time": "2022-06-13T11:48:54.020Z"
   },
   {
    "duration": 5,
    "start_time": "2022-06-13T11:49:00.197Z"
   },
   {
    "duration": 115,
    "start_time": "2022-06-13T11:49:48.752Z"
   },
   {
    "duration": 533,
    "start_time": "2022-06-13T11:51:17.243Z"
   },
   {
    "duration": 37,
    "start_time": "2022-06-13T11:51:17.778Z"
   },
   {
    "duration": 3,
    "start_time": "2022-06-13T11:51:17.817Z"
   },
   {
    "duration": 5,
    "start_time": "2022-06-13T11:51:17.821Z"
   },
   {
    "duration": 348,
    "start_time": "2022-06-13T11:51:17.829Z"
   },
   {
    "duration": 3,
    "start_time": "2022-06-13T11:51:18.179Z"
   },
   {
    "duration": 14,
    "start_time": "2022-06-13T11:51:18.183Z"
   },
   {
    "duration": 95,
    "start_time": "2022-06-13T11:51:18.199Z"
   },
   {
    "duration": 3,
    "start_time": "2022-06-13T11:51:18.296Z"
   },
   {
    "duration": 21,
    "start_time": "2022-06-13T11:51:18.300Z"
   },
   {
    "duration": 98,
    "start_time": "2022-06-13T11:51:18.323Z"
   },
   {
    "duration": 3,
    "start_time": "2022-06-13T11:51:18.423Z"
   },
   {
    "duration": 20,
    "start_time": "2022-06-13T11:51:18.427Z"
   },
   {
    "duration": 147,
    "start_time": "2022-06-13T11:51:18.449Z"
   },
   {
    "duration": 3,
    "start_time": "2022-06-13T11:51:18.599Z"
   },
   {
    "duration": 16,
    "start_time": "2022-06-13T11:51:18.605Z"
   },
   {
    "duration": 112,
    "start_time": "2022-06-13T11:51:18.623Z"
   },
   {
    "duration": 3,
    "start_time": "2022-06-13T11:51:18.737Z"
   },
   {
    "duration": 22,
    "start_time": "2022-06-13T11:51:18.742Z"
   },
   {
    "duration": 19,
    "start_time": "2022-06-13T11:51:18.767Z"
   },
   {
    "duration": 88,
    "start_time": "2022-06-13T11:51:18.788Z"
   },
   {
    "duration": 111,
    "start_time": "2022-06-13T11:51:18.877Z"
   },
   {
    "duration": 4,
    "start_time": "2022-06-13T11:51:18.989Z"
   },
   {
    "duration": 3,
    "start_time": "2022-06-13T11:51:35.412Z"
   },
   {
    "duration": 118,
    "start_time": "2022-06-13T11:51:39.516Z"
   },
   {
    "duration": 124,
    "start_time": "2022-06-13T11:51:49.579Z"
   },
   {
    "duration": 119,
    "start_time": "2022-06-13T11:53:20.961Z"
   },
   {
    "duration": 129,
    "start_time": "2022-06-13T11:53:31.395Z"
   },
   {
    "duration": 73,
    "start_time": "2022-06-13T11:53:53.546Z"
   },
   {
    "duration": 122,
    "start_time": "2022-06-13T11:53:58.269Z"
   },
   {
    "duration": 153,
    "start_time": "2022-06-13T11:54:06.780Z"
   },
   {
    "duration": 143,
    "start_time": "2022-06-13T11:54:11.986Z"
   },
   {
    "duration": 115,
    "start_time": "2022-06-13T11:56:04.776Z"
   },
   {
    "duration": 112,
    "start_time": "2022-06-13T11:57:19.287Z"
   },
   {
    "duration": 1005,
    "start_time": "2022-06-13T11:59:31.517Z"
   },
   {
    "duration": 10,
    "start_time": "2022-06-13T12:00:11.568Z"
   },
   {
    "duration": 9,
    "start_time": "2022-06-13T12:00:17.468Z"
   },
   {
    "duration": 126,
    "start_time": "2022-06-13T12:00:21.908Z"
   },
   {
    "duration": 3,
    "start_time": "2022-06-13T12:20:36.984Z"
   },
   {
    "duration": 116,
    "start_time": "2022-06-13T12:20:53.776Z"
   },
   {
    "duration": 121,
    "start_time": "2022-06-13T12:21:12.673Z"
   },
   {
    "duration": 110,
    "start_time": "2022-06-13T12:21:38.480Z"
   },
   {
    "duration": 74,
    "start_time": "2022-06-13T13:25:27.807Z"
   },
   {
    "duration": 129,
    "start_time": "2022-06-13T13:25:38.598Z"
   },
   {
    "duration": 123,
    "start_time": "2022-06-13T13:26:25.405Z"
   },
   {
    "duration": 73,
    "start_time": "2022-06-13T13:26:47.181Z"
   },
   {
    "duration": 80,
    "start_time": "2022-06-13T13:27:25.544Z"
   },
   {
    "duration": 83,
    "start_time": "2022-06-13T13:29:43.628Z"
   },
   {
    "duration": 74,
    "start_time": "2022-06-13T13:34:05.975Z"
   },
   {
    "duration": 2,
    "start_time": "2022-06-13T13:40:58.543Z"
   },
   {
    "duration": 76,
    "start_time": "2022-06-13T13:41:14.267Z"
   },
   {
    "duration": 90,
    "start_time": "2022-06-13T13:41:54.443Z"
   },
   {
    "duration": 140,
    "start_time": "2022-06-13T13:42:00.373Z"
   },
   {
    "duration": 81,
    "start_time": "2022-06-13T13:42:14.877Z"
   },
   {
    "duration": 76,
    "start_time": "2022-06-13T13:42:20.372Z"
   },
   {
    "duration": 122,
    "start_time": "2022-06-13T13:42:24.294Z"
   },
   {
    "duration": 114,
    "start_time": "2022-06-13T13:42:33.032Z"
   },
   {
    "duration": 79,
    "start_time": "2022-06-13T13:42:44.638Z"
   },
   {
    "duration": 76,
    "start_time": "2022-06-13T13:43:08.466Z"
   },
   {
    "duration": 88,
    "start_time": "2022-06-13T13:47:54.007Z"
   },
   {
    "duration": 82,
    "start_time": "2022-06-13T13:52:16.995Z"
   },
   {
    "duration": 76,
    "start_time": "2022-06-13T13:58:57.893Z"
   },
   {
    "duration": 77,
    "start_time": "2022-06-13T13:59:07.293Z"
   },
   {
    "duration": 78,
    "start_time": "2022-06-13T14:00:09.564Z"
   },
   {
    "duration": 87,
    "start_time": "2022-06-13T14:03:24.330Z"
   },
   {
    "duration": 108,
    "start_time": "2022-06-13T14:03:37.921Z"
   },
   {
    "duration": 83,
    "start_time": "2022-06-13T14:03:40.097Z"
   },
   {
    "duration": 3,
    "start_time": "2022-06-13T14:54:59.270Z"
   },
   {
    "duration": 76,
    "start_time": "2022-06-13T14:55:14.093Z"
   },
   {
    "duration": 74,
    "start_time": "2022-06-13T14:55:21.997Z"
   },
   {
    "duration": 83,
    "start_time": "2022-06-13T14:55:34.108Z"
   },
   {
    "duration": 75,
    "start_time": "2022-06-13T14:55:41.264Z"
   },
   {
    "duration": 89,
    "start_time": "2022-06-13T14:55:46.044Z"
   },
   {
    "duration": 136,
    "start_time": "2022-06-13T14:56:18.108Z"
   },
   {
    "duration": 106,
    "start_time": "2022-06-13T14:56:26.373Z"
   },
   {
    "duration": 79,
    "start_time": "2022-06-13T14:56:49.654Z"
   },
   {
    "duration": 119,
    "start_time": "2022-06-13T14:57:02.028Z"
   },
   {
    "duration": 80,
    "start_time": "2022-06-13T14:57:37.156Z"
   },
   {
    "duration": 79,
    "start_time": "2022-06-13T14:58:00.067Z"
   },
   {
    "duration": 122,
    "start_time": "2022-06-13T14:58:06.499Z"
   },
   {
    "duration": 74,
    "start_time": "2022-06-13T14:58:28.771Z"
   },
   {
    "duration": 106,
    "start_time": "2022-06-13T14:58:40.826Z"
   },
   {
    "duration": 104,
    "start_time": "2022-06-13T14:58:59.498Z"
   },
   {
    "duration": 79,
    "start_time": "2022-06-13T14:59:07.730Z"
   },
   {
    "duration": 120,
    "start_time": "2022-06-13T14:59:56.112Z"
   },
   {
    "duration": 78,
    "start_time": "2022-06-13T15:00:02.913Z"
   },
   {
    "duration": 2,
    "start_time": "2022-06-13T15:14:20.035Z"
   },
   {
    "duration": 120,
    "start_time": "2022-06-13T15:14:27.994Z"
   },
   {
    "duration": 106,
    "start_time": "2022-06-13T15:15:27.913Z"
   },
   {
    "duration": 83,
    "start_time": "2022-06-13T15:16:27.290Z"
   },
   {
    "duration": 79,
    "start_time": "2022-06-13T15:17:01.032Z"
   },
   {
    "duration": 72,
    "start_time": "2022-06-13T15:19:08.687Z"
   },
   {
    "duration": 72,
    "start_time": "2022-06-13T15:19:20.231Z"
   },
   {
    "duration": 72,
    "start_time": "2022-06-13T15:21:10.996Z"
   },
   {
    "duration": 75,
    "start_time": "2022-06-13T15:21:14.435Z"
   },
   {
    "duration": 76,
    "start_time": "2022-06-13T15:21:47.830Z"
   },
   {
    "duration": 75,
    "start_time": "2022-06-13T15:21:51.987Z"
   },
   {
    "duration": 118,
    "start_time": "2022-06-13T15:22:27.525Z"
   },
   {
    "duration": 71,
    "start_time": "2022-06-13T15:22:32.643Z"
   },
   {
    "duration": 544,
    "start_time": "2022-06-13T15:24:29.742Z"
   },
   {
    "duration": 39,
    "start_time": "2022-06-13T15:24:30.288Z"
   },
   {
    "duration": 3,
    "start_time": "2022-06-13T15:24:30.328Z"
   },
   {
    "duration": 264,
    "start_time": "2022-06-13T15:24:30.332Z"
   },
   {
    "duration": 4,
    "start_time": "2022-06-13T15:24:30.598Z"
   },
   {
    "duration": 34,
    "start_time": "2022-06-13T15:24:30.603Z"
   },
   {
    "duration": 98,
    "start_time": "2022-06-13T15:24:30.639Z"
   },
   {
    "duration": 4,
    "start_time": "2022-06-13T15:24:30.739Z"
   },
   {
    "duration": 21,
    "start_time": "2022-06-13T15:24:30.745Z"
   },
   {
    "duration": 75,
    "start_time": "2022-06-13T15:24:30.768Z"
   },
   {
    "duration": 3,
    "start_time": "2022-06-13T15:24:30.845Z"
   },
   {
    "duration": 23,
    "start_time": "2022-06-13T15:24:30.849Z"
   },
   {
    "duration": 107,
    "start_time": "2022-06-13T15:24:30.874Z"
   },
   {
    "duration": 3,
    "start_time": "2022-06-13T15:24:30.984Z"
   },
   {
    "duration": 38,
    "start_time": "2022-06-13T15:24:30.988Z"
   },
   {
    "duration": 91,
    "start_time": "2022-06-13T15:24:31.028Z"
   },
   {
    "duration": 3,
    "start_time": "2022-06-13T15:24:31.121Z"
   },
   {
    "duration": 14,
    "start_time": "2022-06-13T15:24:31.126Z"
   },
   {
    "duration": 8,
    "start_time": "2022-06-13T15:24:31.141Z"
   },
   {
    "duration": 79,
    "start_time": "2022-06-13T15:24:31.150Z"
   },
   {
    "duration": 83,
    "start_time": "2022-06-13T15:24:31.230Z"
   },
   {
    "duration": 66,
    "start_time": "2022-06-13T15:24:31.315Z"
   },
   {
    "duration": 72,
    "start_time": "2022-06-13T15:24:31.383Z"
   },
   {
    "duration": 67,
    "start_time": "2022-06-13T15:24:31.456Z"
   },
   {
    "duration": 4,
    "start_time": "2022-06-13T15:40:14.997Z"
   },
   {
    "duration": 29,
    "start_time": "2022-06-13T15:40:24.692Z"
   },
   {
    "duration": 19,
    "start_time": "2022-06-13T15:40:27.972Z"
   },
   {
    "duration": 479,
    "start_time": "2022-06-13T15:41:48.856Z"
   },
   {
    "duration": 35,
    "start_time": "2022-06-13T15:41:49.337Z"
   },
   {
    "duration": 2,
    "start_time": "2022-06-13T15:41:49.374Z"
   },
   {
    "duration": 256,
    "start_time": "2022-06-13T15:41:49.378Z"
   },
   {
    "duration": 3,
    "start_time": "2022-06-13T15:41:49.637Z"
   },
   {
    "duration": 22,
    "start_time": "2022-06-13T15:41:49.642Z"
   },
   {
    "duration": 83,
    "start_time": "2022-06-13T15:41:49.666Z"
   },
   {
    "duration": 3,
    "start_time": "2022-06-13T15:41:49.751Z"
   },
   {
    "duration": 13,
    "start_time": "2022-06-13T15:41:49.755Z"
   },
   {
    "duration": 73,
    "start_time": "2022-06-13T15:41:49.769Z"
   },
   {
    "duration": 3,
    "start_time": "2022-06-13T15:41:49.843Z"
   },
   {
    "duration": 12,
    "start_time": "2022-06-13T15:41:49.848Z"
   },
   {
    "duration": 101,
    "start_time": "2022-06-13T15:41:49.862Z"
   },
   {
    "duration": 3,
    "start_time": "2022-06-13T15:41:49.966Z"
   },
   {
    "duration": 11,
    "start_time": "2022-06-13T15:41:49.971Z"
   },
   {
    "duration": 84,
    "start_time": "2022-06-13T15:41:49.984Z"
   },
   {
    "duration": 3,
    "start_time": "2022-06-13T15:41:50.070Z"
   },
   {
    "duration": 14,
    "start_time": "2022-06-13T15:41:50.074Z"
   },
   {
    "duration": 5,
    "start_time": "2022-06-13T15:41:50.089Z"
   },
   {
    "duration": 70,
    "start_time": "2022-06-13T15:41:50.095Z"
   },
   {
    "duration": 84,
    "start_time": "2022-06-13T15:41:50.167Z"
   },
   {
    "duration": 70,
    "start_time": "2022-06-13T15:41:50.252Z"
   },
   {
    "duration": 73,
    "start_time": "2022-06-13T15:41:50.323Z"
   },
   {
    "duration": 70,
    "start_time": "2022-06-13T15:41:50.397Z"
   },
   {
    "duration": 511,
    "start_time": "2022-06-13T15:53:09.350Z"
   },
   {
    "duration": 37,
    "start_time": "2022-06-13T15:53:09.863Z"
   },
   {
    "duration": 2,
    "start_time": "2022-06-13T15:53:09.902Z"
   },
   {
    "duration": 271,
    "start_time": "2022-06-13T15:53:09.906Z"
   },
   {
    "duration": 3,
    "start_time": "2022-06-13T15:53:10.180Z"
   },
   {
    "duration": 14,
    "start_time": "2022-06-13T15:53:10.185Z"
   },
   {
    "duration": 78,
    "start_time": "2022-06-13T15:53:10.201Z"
   },
   {
    "duration": 3,
    "start_time": "2022-06-13T15:53:10.281Z"
   },
   {
    "duration": 13,
    "start_time": "2022-06-13T15:53:10.286Z"
   },
   {
    "duration": 75,
    "start_time": "2022-06-13T15:53:10.301Z"
   },
   {
    "duration": 3,
    "start_time": "2022-06-13T15:53:10.378Z"
   },
   {
    "duration": 12,
    "start_time": "2022-06-13T15:53:10.382Z"
   },
   {
    "duration": 94,
    "start_time": "2022-06-13T15:53:10.396Z"
   },
   {
    "duration": 3,
    "start_time": "2022-06-13T15:53:10.493Z"
   },
   {
    "duration": 12,
    "start_time": "2022-06-13T15:53:10.498Z"
   },
   {
    "duration": 94,
    "start_time": "2022-06-13T15:53:10.511Z"
   },
   {
    "duration": 3,
    "start_time": "2022-06-13T15:53:10.607Z"
   },
   {
    "duration": 14,
    "start_time": "2022-06-13T15:53:10.613Z"
   },
   {
    "duration": 6,
    "start_time": "2022-06-13T15:53:10.628Z"
   },
   {
    "duration": 73,
    "start_time": "2022-06-13T15:53:10.635Z"
   },
   {
    "duration": 83,
    "start_time": "2022-06-13T15:53:10.710Z"
   },
   {
    "duration": 71,
    "start_time": "2022-06-13T15:53:10.795Z"
   },
   {
    "duration": 77,
    "start_time": "2022-06-13T15:53:10.867Z"
   },
   {
    "duration": 73,
    "start_time": "2022-06-13T15:53:10.946Z"
   },
   {
    "duration": 597,
    "start_time": "2022-06-14T10:35:21.219Z"
   },
   {
    "duration": 109,
    "start_time": "2022-06-14T10:35:21.818Z"
   },
   {
    "duration": 3,
    "start_time": "2022-06-14T10:35:21.930Z"
   },
   {
    "duration": 144,
    "start_time": "2022-06-14T10:35:21.936Z"
   },
   {
    "duration": 10,
    "start_time": "2022-06-14T10:35:22.082Z"
   },
   {
    "duration": 31,
    "start_time": "2022-06-14T10:35:22.094Z"
   },
   {
    "duration": 77,
    "start_time": "2022-06-14T10:35:22.127Z"
   },
   {
    "duration": 4,
    "start_time": "2022-06-14T10:35:22.207Z"
   },
   {
    "duration": 27,
    "start_time": "2022-06-14T10:35:22.213Z"
   },
   {
    "duration": 69,
    "start_time": "2022-06-14T10:35:22.244Z"
   },
   {
    "duration": 4,
    "start_time": "2022-06-14T10:35:22.316Z"
   },
   {
    "duration": 33,
    "start_time": "2022-06-14T10:35:22.322Z"
   },
   {
    "duration": 76,
    "start_time": "2022-06-14T10:35:22.358Z"
   },
   {
    "duration": 4,
    "start_time": "2022-06-14T10:35:22.437Z"
   },
   {
    "duration": 24,
    "start_time": "2022-06-14T10:35:22.443Z"
   },
   {
    "duration": 36,
    "start_time": "2022-06-14T10:35:22.475Z"
   },
   {
    "duration": 5,
    "start_time": "2022-06-14T10:35:22.513Z"
   },
   {
    "duration": 22,
    "start_time": "2022-06-14T10:35:22.520Z"
   },
   {
    "duration": 8,
    "start_time": "2022-06-14T10:35:22.543Z"
   },
   {
    "duration": 43,
    "start_time": "2022-06-14T10:35:22.553Z"
   },
   {
    "duration": 40,
    "start_time": "2022-06-14T10:35:22.599Z"
   },
   {
    "duration": 16,
    "start_time": "2022-06-14T10:35:22.641Z"
   },
   {
    "duration": 33,
    "start_time": "2022-06-14T10:35:22.660Z"
   },
   {
    "duration": 17,
    "start_time": "2022-06-14T10:35:22.695Z"
   },
   {
    "duration": 7,
    "start_time": "2022-06-14T10:35:52.565Z"
   },
   {
    "duration": 17,
    "start_time": "2022-06-14T10:36:07.816Z"
   },
   {
    "duration": 123,
    "start_time": "2022-06-14T10:36:17.353Z"
   },
   {
    "duration": 13,
    "start_time": "2022-06-14T10:37:04.297Z"
   },
   {
    "duration": 15,
    "start_time": "2022-06-14T10:37:28.208Z"
   },
   {
    "duration": 25,
    "start_time": "2022-06-14T10:37:49.879Z"
   },
   {
    "duration": 18,
    "start_time": "2022-06-14T10:39:06.219Z"
   },
   {
    "duration": 648,
    "start_time": "2022-06-14T10:39:21.789Z"
   },
   {
    "duration": 82,
    "start_time": "2022-06-14T10:39:22.440Z"
   },
   {
    "duration": 3,
    "start_time": "2022-06-14T10:39:22.524Z"
   },
   {
    "duration": 121,
    "start_time": "2022-06-14T10:39:22.530Z"
   },
   {
    "duration": 5,
    "start_time": "2022-06-14T10:39:22.653Z"
   },
   {
    "duration": 54,
    "start_time": "2022-06-14T10:39:22.659Z"
   },
   {
    "duration": 18,
    "start_time": "2022-06-14T10:39:22.715Z"
   },
   {
    "duration": 4,
    "start_time": "2022-06-14T10:39:22.734Z"
   },
   {
    "duration": 17,
    "start_time": "2022-06-14T10:39:22.740Z"
   },
   {
    "duration": 46,
    "start_time": "2022-06-14T10:39:22.761Z"
   },
   {
    "duration": 4,
    "start_time": "2022-06-14T10:39:22.809Z"
   },
   {
    "duration": 16,
    "start_time": "2022-06-14T10:39:22.815Z"
   },
   {
    "duration": 50,
    "start_time": "2022-06-14T10:39:22.833Z"
   },
   {
    "duration": 5,
    "start_time": "2022-06-14T10:39:22.886Z"
   },
   {
    "duration": 30,
    "start_time": "2022-06-14T10:39:22.893Z"
   },
   {
    "duration": 23,
    "start_time": "2022-06-14T10:39:22.925Z"
   },
   {
    "duration": 5,
    "start_time": "2022-06-14T10:39:22.950Z"
   },
   {
    "duration": 46,
    "start_time": "2022-06-14T10:39:22.957Z"
   },
   {
    "duration": 6,
    "start_time": "2022-06-14T10:39:23.005Z"
   },
   {
    "duration": 22,
    "start_time": "2022-06-14T10:39:23.013Z"
   },
   {
    "duration": 46,
    "start_time": "2022-06-14T10:39:23.038Z"
   },
   {
    "duration": 24,
    "start_time": "2022-06-14T10:39:23.086Z"
   },
   {
    "duration": 19,
    "start_time": "2022-06-14T10:39:23.112Z"
   },
   {
    "duration": 4,
    "start_time": "2022-06-14T10:39:23.133Z"
   },
   {
    "duration": 0,
    "start_time": "2022-06-14T10:39:23.139Z"
   },
   {
    "duration": 69,
    "start_time": "2022-06-14T10:39:42.144Z"
   },
   {
    "duration": 553,
    "start_time": "2022-06-21T06:35:12.997Z"
   },
   {
    "duration": 39195,
    "start_time": "2022-06-21T06:35:13.552Z"
   },
   {
    "duration": 15,
    "start_time": "2022-06-21T06:35:52.749Z"
   },
   {
    "duration": 81,
    "start_time": "2022-06-21T06:35:52.766Z"
   },
   {
    "duration": 3,
    "start_time": "2022-06-21T06:35:52.850Z"
   },
   {
    "duration": 19,
    "start_time": "2022-06-21T06:35:52.855Z"
   },
   {
    "duration": 16,
    "start_time": "2022-06-21T06:35:52.875Z"
   },
   {
    "duration": 3,
    "start_time": "2022-06-21T06:35:52.893Z"
   },
   {
    "duration": 31,
    "start_time": "2022-06-21T06:35:52.898Z"
   },
   {
    "duration": 19,
    "start_time": "2022-06-21T06:35:52.931Z"
   },
   {
    "duration": 4,
    "start_time": "2022-06-21T06:35:52.952Z"
   },
   {
    "duration": 13,
    "start_time": "2022-06-21T06:35:52.957Z"
   },
   {
    "duration": 30,
    "start_time": "2022-06-21T06:35:52.971Z"
   },
   {
    "duration": 3,
    "start_time": "2022-06-21T06:35:53.004Z"
   },
   {
    "duration": 12,
    "start_time": "2022-06-21T06:35:53.026Z"
   },
   {
    "duration": 23,
    "start_time": "2022-06-21T06:35:53.039Z"
   },
   {
    "duration": 4,
    "start_time": "2022-06-21T06:35:53.064Z"
   },
   {
    "duration": 16,
    "start_time": "2022-06-21T06:35:53.070Z"
   },
   {
    "duration": 8,
    "start_time": "2022-06-21T06:35:53.088Z"
   },
   {
    "duration": 38,
    "start_time": "2022-06-21T06:35:53.098Z"
   },
   {
    "duration": 34,
    "start_time": "2022-06-21T06:35:53.139Z"
   },
   {
    "duration": 13,
    "start_time": "2022-06-21T06:35:53.175Z"
   },
   {
    "duration": 16,
    "start_time": "2022-06-21T06:35:53.189Z"
   },
   {
    "duration": 2,
    "start_time": "2022-06-21T06:35:53.207Z"
   },
   {
    "duration": 25,
    "start_time": "2022-06-21T06:35:53.212Z"
   },
   {
    "duration": 530,
    "start_time": "2022-06-21T06:40:13.259Z"
   },
   {
    "duration": 24593,
    "start_time": "2022-06-21T06:40:13.791Z"
   },
   {
    "duration": 3,
    "start_time": "2022-06-21T06:40:38.386Z"
   },
   {
    "duration": 134,
    "start_time": "2022-06-21T06:40:38.390Z"
   },
   {
    "duration": 3,
    "start_time": "2022-06-21T06:40:38.527Z"
   },
   {
    "duration": 33,
    "start_time": "2022-06-21T06:40:38.532Z"
   },
   {
    "duration": 49,
    "start_time": "2022-06-21T06:40:38.567Z"
   },
   {
    "duration": 15,
    "start_time": "2022-06-21T06:40:38.618Z"
   },
   {
    "duration": 49,
    "start_time": "2022-06-21T06:40:38.635Z"
   },
   {
    "duration": 41,
    "start_time": "2022-06-21T06:40:38.686Z"
   },
   {
    "duration": 25,
    "start_time": "2022-06-21T06:40:38.729Z"
   },
   {
    "duration": 59,
    "start_time": "2022-06-21T06:40:38.756Z"
   },
   {
    "duration": 64,
    "start_time": "2022-06-21T06:40:38.817Z"
   },
   {
    "duration": 10,
    "start_time": "2022-06-21T06:40:38.884Z"
   },
   {
    "duration": 33,
    "start_time": "2022-06-21T06:40:38.896Z"
   },
   {
    "duration": 102,
    "start_time": "2022-06-21T06:40:38.930Z"
   },
   {
    "duration": 11,
    "start_time": "2022-06-21T06:40:39.033Z"
   },
   {
    "duration": 42,
    "start_time": "2022-06-21T06:40:39.046Z"
   },
   {
    "duration": 25,
    "start_time": "2022-06-21T06:40:39.090Z"
   },
   {
    "duration": 31,
    "start_time": "2022-06-21T06:40:39.117Z"
   },
   {
    "duration": 47,
    "start_time": "2022-06-21T06:40:39.151Z"
   },
   {
    "duration": 21,
    "start_time": "2022-06-21T06:40:39.200Z"
   },
   {
    "duration": 65,
    "start_time": "2022-06-21T06:40:39.223Z"
   },
   {
    "duration": 29,
    "start_time": "2022-06-21T06:40:39.290Z"
   },
   {
    "duration": 627,
    "start_time": "2022-06-21T13:23:59.093Z"
   },
   {
    "duration": 14908,
    "start_time": "2022-06-21T13:23:59.723Z"
   },
   {
    "duration": 4,
    "start_time": "2022-06-21T13:24:14.633Z"
   },
   {
    "duration": 403,
    "start_time": "2022-06-21T13:24:14.639Z"
   },
   {
    "duration": 12,
    "start_time": "2022-06-21T13:24:15.046Z"
   },
   {
    "duration": 52,
    "start_time": "2022-06-21T13:24:15.063Z"
   },
   {
    "duration": 103,
    "start_time": "2022-06-21T13:24:15.118Z"
   },
   {
    "duration": 4,
    "start_time": "2022-06-21T13:24:15.224Z"
   },
   {
    "duration": 39,
    "start_time": "2022-06-21T13:24:15.231Z"
   },
   {
    "duration": 153,
    "start_time": "2022-06-21T13:24:15.280Z"
   },
   {
    "duration": 4,
    "start_time": "2022-06-21T13:24:15.435Z"
   },
   {
    "duration": 78,
    "start_time": "2022-06-21T13:24:15.441Z"
   },
   {
    "duration": 179,
    "start_time": "2022-06-21T13:24:15.520Z"
   },
   {
    "duration": 9,
    "start_time": "2022-06-21T13:24:15.702Z"
   },
   {
    "duration": 35,
    "start_time": "2022-06-21T13:24:15.715Z"
   },
   {
    "duration": 198,
    "start_time": "2022-06-21T13:24:15.752Z"
   },
   {
    "duration": 6,
    "start_time": "2022-06-21T13:24:15.960Z"
   },
   {
    "duration": 55,
    "start_time": "2022-06-21T13:24:15.968Z"
   },
   {
    "duration": 12,
    "start_time": "2022-06-21T13:24:16.026Z"
   },
   {
    "duration": 151,
    "start_time": "2022-06-21T13:24:16.040Z"
   },
   {
    "duration": 129,
    "start_time": "2022-06-21T13:24:16.193Z"
   },
   {
    "duration": 106,
    "start_time": "2022-06-21T13:24:16.324Z"
   },
   {
    "duration": 182,
    "start_time": "2022-06-21T13:24:16.432Z"
   },
   {
    "duration": 123,
    "start_time": "2022-06-21T13:24:16.616Z"
   },
   {
    "duration": 104,
    "start_time": "2022-06-21T13:25:36.704Z"
   },
   {
    "duration": 99,
    "start_time": "2022-06-21T13:27:49.387Z"
   },
   {
    "duration": 45,
    "start_time": "2022-06-21T13:40:58.914Z"
   },
   {
    "duration": 515,
    "start_time": "2022-06-21T13:41:07.886Z"
   },
   {
    "duration": 6725,
    "start_time": "2022-06-21T13:41:08.403Z"
   },
   {
    "duration": 3,
    "start_time": "2022-06-21T13:41:15.130Z"
   },
   {
    "duration": 269,
    "start_time": "2022-06-21T13:41:15.134Z"
   },
   {
    "duration": 3,
    "start_time": "2022-06-21T13:41:15.406Z"
   },
   {
    "duration": 25,
    "start_time": "2022-06-21T13:41:15.411Z"
   },
   {
    "duration": 74,
    "start_time": "2022-06-21T13:41:15.438Z"
   },
   {
    "duration": 3,
    "start_time": "2022-06-21T13:41:15.513Z"
   },
   {
    "duration": 13,
    "start_time": "2022-06-21T13:41:15.518Z"
   },
   {
    "duration": 77,
    "start_time": "2022-06-21T13:41:15.533Z"
   },
   {
    "duration": 3,
    "start_time": "2022-06-21T13:41:15.611Z"
   },
   {
    "duration": 12,
    "start_time": "2022-06-21T13:41:15.615Z"
   },
   {
    "duration": 107,
    "start_time": "2022-06-21T13:41:15.629Z"
   },
   {
    "duration": 3,
    "start_time": "2022-06-21T13:41:15.738Z"
   },
   {
    "duration": 11,
    "start_time": "2022-06-21T13:41:15.744Z"
   },
   {
    "duration": 95,
    "start_time": "2022-06-21T13:41:15.757Z"
   },
   {
    "duration": 3,
    "start_time": "2022-06-21T13:41:15.854Z"
   },
   {
    "duration": 12,
    "start_time": "2022-06-21T13:41:15.859Z"
   },
   {
    "duration": 6,
    "start_time": "2022-06-21T13:41:15.872Z"
   },
   {
    "duration": 79,
    "start_time": "2022-06-21T13:41:15.880Z"
   },
   {
    "duration": 86,
    "start_time": "2022-06-21T13:41:15.961Z"
   },
   {
    "duration": 70,
    "start_time": "2022-06-21T13:41:16.048Z"
   },
   {
    "duration": 76,
    "start_time": "2022-06-21T13:41:16.119Z"
   },
   {
    "duration": 69,
    "start_time": "2022-06-21T13:41:16.197Z"
   },
   {
    "duration": 76,
    "start_time": "2022-06-21T13:41:50.937Z"
   },
   {
    "duration": 84,
    "start_time": "2022-06-21T13:45:46.993Z"
   },
   {
    "duration": 108,
    "start_time": "2022-06-21T13:46:03.181Z"
   },
   {
    "duration": 101,
    "start_time": "2022-06-21T13:47:46.289Z"
   },
   {
    "duration": 65,
    "start_time": "2022-06-21T13:50:15.585Z"
   },
   {
    "duration": 102,
    "start_time": "2022-06-21T13:50:28.871Z"
   },
   {
    "duration": 94,
    "start_time": "2022-06-21T13:57:22.030Z"
   },
   {
    "duration": 86,
    "start_time": "2022-06-21T13:58:12.592Z"
   },
   {
    "duration": 731,
    "start_time": "2022-06-21T14:00:34.495Z"
   },
   {
    "duration": 145,
    "start_time": "2022-06-21T14:02:05.642Z"
   },
   {
    "duration": 181,
    "start_time": "2022-06-21T14:02:10.628Z"
   },
   {
    "duration": 95,
    "start_time": "2022-06-21T14:02:22.330Z"
   },
   {
    "duration": 147,
    "start_time": "2022-06-21T14:12:31.391Z"
   },
   {
    "duration": 152,
    "start_time": "2022-06-21T14:13:08.198Z"
   },
   {
    "duration": 142,
    "start_time": "2022-06-21T14:14:48.421Z"
   },
   {
    "duration": 74,
    "start_time": "2022-06-21T14:15:12.302Z"
   },
   {
    "duration": 126,
    "start_time": "2022-06-21T14:18:50.394Z"
   },
   {
    "duration": 125,
    "start_time": "2022-06-21T14:19:05.706Z"
   },
   {
    "duration": 76,
    "start_time": "2022-06-21T14:19:53.306Z"
   },
   {
    "duration": 74,
    "start_time": "2022-06-21T14:22:02.735Z"
   },
   {
    "duration": 3,
    "start_time": "2022-06-21T14:27:16.209Z"
   },
   {
    "duration": 99,
    "start_time": "2022-06-21T14:27:30.138Z"
   },
   {
    "duration": 99,
    "start_time": "2022-06-21T14:27:47.568Z"
   },
   {
    "duration": 101,
    "start_time": "2022-06-21T14:28:06.128Z"
   },
   {
    "duration": 145,
    "start_time": "2022-06-21T14:28:45.528Z"
   },
   {
    "duration": 99,
    "start_time": "2022-06-21T14:28:48.689Z"
   },
   {
    "duration": 361,
    "start_time": "2022-06-21T14:32:00.029Z"
   },
   {
    "duration": 388,
    "start_time": "2022-06-21T14:32:11.280Z"
   },
   {
    "duration": 764,
    "start_time": "2022-06-21T14:32:17.611Z"
   },
   {
    "duration": 144,
    "start_time": "2022-06-21T14:35:30.313Z"
   },
   {
    "duration": 166,
    "start_time": "2022-06-21T14:35:33.538Z"
   },
   {
    "duration": 80,
    "start_time": "2022-06-21T14:35:40.338Z"
   },
   {
    "duration": 72,
    "start_time": "2022-06-21T14:36:29.743Z"
   },
   {
    "duration": 118,
    "start_time": "2022-06-21T14:40:01.436Z"
   },
   {
    "duration": 69,
    "start_time": "2022-06-21T14:40:57.330Z"
   },
   {
    "duration": 74,
    "start_time": "2022-06-21T14:43:10.661Z"
   },
   {
    "duration": 155,
    "start_time": "2022-06-21T14:43:38.000Z"
   },
   {
    "duration": 84,
    "start_time": "2022-06-21T14:43:45.361Z"
   },
   {
    "duration": 144,
    "start_time": "2022-06-21T14:43:53.184Z"
   },
   {
    "duration": 80,
    "start_time": "2022-06-21T14:44:02.504Z"
   },
   {
    "duration": 83,
    "start_time": "2022-06-21T14:44:46.632Z"
   },
   {
    "duration": 251,
    "start_time": "2022-06-21T14:45:01.863Z"
   },
   {
    "duration": 73,
    "start_time": "2022-06-21T14:45:09.622Z"
   },
   {
    "duration": 187,
    "start_time": "2022-06-21T14:48:36.901Z"
   },
   {
    "duration": 88,
    "start_time": "2022-06-21T14:48:44.460Z"
   },
   {
    "duration": 161,
    "start_time": "2022-06-21T14:49:49.386Z"
   },
   {
    "duration": 75,
    "start_time": "2022-06-21T14:49:52.434Z"
   },
   {
    "duration": 132,
    "start_time": "2022-06-21T14:50:48.358Z"
   },
   {
    "duration": 75,
    "start_time": "2022-06-21T14:50:53.371Z"
   },
   {
    "duration": 76,
    "start_time": "2022-06-21T14:51:12.297Z"
   },
   {
    "duration": 132,
    "start_time": "2022-06-21T14:51:33.889Z"
   },
   {
    "duration": 163,
    "start_time": "2022-06-21T14:51:36.465Z"
   },
   {
    "duration": 72,
    "start_time": "2022-06-21T14:51:38.960Z"
   },
   {
    "duration": 151,
    "start_time": "2022-06-21T14:52:15.520Z"
   },
   {
    "duration": 155,
    "start_time": "2022-06-21T14:55:59.692Z"
   },
   {
    "duration": 71,
    "start_time": "2022-06-21T14:56:08.499Z"
   },
   {
    "duration": 154,
    "start_time": "2022-06-21T14:56:58.523Z"
   },
   {
    "duration": 3,
    "start_time": "2022-06-21T15:01:23.494Z"
   },
   {
    "duration": 706,
    "start_time": "2022-06-21T15:01:34.062Z"
   },
   {
    "duration": 731,
    "start_time": "2022-06-21T15:02:00.998Z"
   },
   {
    "duration": 699,
    "start_time": "2022-06-21T15:02:26.870Z"
   },
   {
    "duration": 74,
    "start_time": "2022-06-21T15:12:23.108Z"
   },
   {
    "duration": 74,
    "start_time": "2022-06-21T15:14:20.171Z"
   },
   {
    "duration": 80,
    "start_time": "2022-06-21T15:14:53.002Z"
   },
   {
    "duration": 73,
    "start_time": "2022-06-21T15:16:19.566Z"
   },
   {
    "duration": 82,
    "start_time": "2022-06-21T15:17:14.615Z"
   },
   {
    "duration": 71,
    "start_time": "2022-06-21T15:17:38.479Z"
   },
   {
    "duration": 179,
    "start_time": "2022-06-21T15:18:19.878Z"
   },
   {
    "duration": 145,
    "start_time": "2022-06-21T15:18:23.770Z"
   },
   {
    "duration": 141,
    "start_time": "2022-06-21T15:18:33.180Z"
   },
   {
    "duration": 77,
    "start_time": "2022-06-21T15:18:47.782Z"
   },
   {
    "duration": 173,
    "start_time": "2022-06-21T15:19:22.486Z"
   },
   {
    "duration": 168,
    "start_time": "2022-06-21T15:19:42.894Z"
   },
   {
    "duration": 87,
    "start_time": "2022-06-21T15:21:18.802Z"
   },
   {
    "duration": 72,
    "start_time": "2022-06-21T15:22:10.174Z"
   },
   {
    "duration": 90,
    "start_time": "2022-06-21T15:23:20.232Z"
   },
   {
    "duration": 63,
    "start_time": "2022-06-21T15:23:54.374Z"
   },
   {
    "duration": 3,
    "start_time": "2022-06-21T15:23:59.678Z"
   },
   {
    "duration": 75,
    "start_time": "2022-06-21T15:24:01.502Z"
   },
   {
    "duration": 147,
    "start_time": "2022-06-21T15:24:26.066Z"
   },
   {
    "duration": 77,
    "start_time": "2022-06-21T15:25:16.195Z"
   },
   {
    "duration": 3,
    "start_time": "2022-06-21T15:29:07.619Z"
   },
   {
    "duration": 143,
    "start_time": "2022-06-21T15:29:20.869Z"
   },
   {
    "duration": 71,
    "start_time": "2022-06-21T15:30:25.873Z"
   },
   {
    "duration": 194,
    "start_time": "2022-06-21T15:31:09.091Z"
   },
   {
    "duration": 78,
    "start_time": "2022-06-21T15:31:13.408Z"
   },
   {
    "duration": 76,
    "start_time": "2022-06-21T15:31:37.867Z"
   },
   {
    "duration": 74,
    "start_time": "2022-06-21T15:32:49.622Z"
   },
   {
    "duration": 135,
    "start_time": "2022-06-21T15:34:06.294Z"
   },
   {
    "duration": 73,
    "start_time": "2022-06-21T15:34:21.926Z"
   },
   {
    "duration": 80,
    "start_time": "2022-06-21T15:35:00.464Z"
   },
   {
    "duration": 495,
    "start_time": "2022-06-21T15:36:33.268Z"
   },
   {
    "duration": 6794,
    "start_time": "2022-06-21T15:36:33.765Z"
   },
   {
    "duration": 3,
    "start_time": "2022-06-21T15:36:40.561Z"
   },
   {
    "duration": 278,
    "start_time": "2022-06-21T15:36:40.566Z"
   },
   {
    "duration": 4,
    "start_time": "2022-06-21T15:36:40.846Z"
   },
   {
    "duration": 19,
    "start_time": "2022-06-21T15:36:40.851Z"
   },
   {
    "duration": 81,
    "start_time": "2022-06-21T15:36:40.872Z"
   },
   {
    "duration": 4,
    "start_time": "2022-06-21T15:36:40.955Z"
   },
   {
    "duration": 13,
    "start_time": "2022-06-21T15:36:40.960Z"
   },
   {
    "duration": 76,
    "start_time": "2022-06-21T15:36:40.975Z"
   },
   {
    "duration": 3,
    "start_time": "2022-06-21T15:36:41.053Z"
   },
   {
    "duration": 15,
    "start_time": "2022-06-21T15:36:41.058Z"
   },
   {
    "duration": 96,
    "start_time": "2022-06-21T15:36:41.074Z"
   },
   {
    "duration": 3,
    "start_time": "2022-06-21T15:36:41.173Z"
   },
   {
    "duration": 15,
    "start_time": "2022-06-21T15:36:41.178Z"
   },
   {
    "duration": 89,
    "start_time": "2022-06-21T15:36:41.195Z"
   },
   {
    "duration": 3,
    "start_time": "2022-06-21T15:36:41.286Z"
   },
   {
    "duration": 34,
    "start_time": "2022-06-21T15:36:41.291Z"
   },
   {
    "duration": 14,
    "start_time": "2022-06-21T15:36:41.327Z"
   },
   {
    "duration": 84,
    "start_time": "2022-06-21T15:36:41.343Z"
   },
   {
    "duration": 3,
    "start_time": "2022-06-21T15:36:41.429Z"
   },
   {
    "duration": 701,
    "start_time": "2022-06-21T15:36:41.434Z"
   },
   {
    "duration": 74,
    "start_time": "2022-06-21T15:36:42.137Z"
   },
   {
    "duration": 47,
    "start_time": "2022-06-21T15:36:42.214Z"
   },
   {
    "duration": 0,
    "start_time": "2022-06-21T15:36:42.263Z"
   },
   {
    "duration": 0,
    "start_time": "2022-06-21T15:36:42.265Z"
   },
   {
    "duration": 0,
    "start_time": "2022-06-21T15:36:42.265Z"
   },
   {
    "duration": 75,
    "start_time": "2022-06-21T15:37:11.165Z"
   },
   {
    "duration": 82,
    "start_time": "2022-06-21T15:37:13.403Z"
   },
   {
    "duration": 539,
    "start_time": "2022-06-21T15:37:20.136Z"
   },
   {
    "duration": 7155,
    "start_time": "2022-06-21T15:37:20.677Z"
   },
   {
    "duration": 3,
    "start_time": "2022-06-21T15:37:27.834Z"
   },
   {
    "duration": 285,
    "start_time": "2022-06-21T15:37:27.839Z"
   },
   {
    "duration": 5,
    "start_time": "2022-06-21T15:37:28.127Z"
   },
   {
    "duration": 28,
    "start_time": "2022-06-21T15:37:28.135Z"
   },
   {
    "duration": 82,
    "start_time": "2022-06-21T15:37:28.165Z"
   },
   {
    "duration": 6,
    "start_time": "2022-06-21T15:37:28.249Z"
   },
   {
    "duration": 22,
    "start_time": "2022-06-21T15:37:28.257Z"
   },
   {
    "duration": 97,
    "start_time": "2022-06-21T15:37:28.282Z"
   },
   {
    "duration": 5,
    "start_time": "2022-06-21T15:37:28.381Z"
   },
   {
    "duration": 23,
    "start_time": "2022-06-21T15:37:28.388Z"
   },
   {
    "duration": 106,
    "start_time": "2022-06-21T15:37:28.413Z"
   },
   {
    "duration": 4,
    "start_time": "2022-06-21T15:37:28.521Z"
   },
   {
    "duration": 18,
    "start_time": "2022-06-21T15:37:28.527Z"
   },
   {
    "duration": 101,
    "start_time": "2022-06-21T15:37:28.546Z"
   },
   {
    "duration": 4,
    "start_time": "2022-06-21T15:37:28.648Z"
   },
   {
    "duration": 21,
    "start_time": "2022-06-21T15:37:28.654Z"
   },
   {
    "duration": 9,
    "start_time": "2022-06-21T15:37:28.676Z"
   },
   {
    "duration": 82,
    "start_time": "2022-06-21T15:37:28.686Z"
   },
   {
    "duration": 3,
    "start_time": "2022-06-21T15:37:28.769Z"
   },
   {
    "duration": 692,
    "start_time": "2022-06-21T15:37:28.774Z"
   },
   {
    "duration": 75,
    "start_time": "2022-06-21T15:37:29.469Z"
   },
   {
    "duration": 3,
    "start_time": "2022-06-21T15:37:29.546Z"
   },
   {
    "duration": 9,
    "start_time": "2022-06-21T15:37:29.550Z"
   },
   {
    "duration": 82,
    "start_time": "2022-06-21T15:37:29.561Z"
   },
   {
    "duration": 76,
    "start_time": "2022-06-21T15:37:29.645Z"
   },
   {
    "duration": 78,
    "start_time": "2022-06-21T15:39:56.475Z"
   },
   {
    "duration": 78,
    "start_time": "2022-06-21T15:40:05.980Z"
   },
   {
    "duration": 78,
    "start_time": "2022-06-21T15:40:15.259Z"
   },
   {
    "duration": 79,
    "start_time": "2022-06-21T15:40:18.916Z"
   },
   {
    "duration": 84,
    "start_time": "2022-06-21T15:40:24.012Z"
   },
   {
    "duration": 77,
    "start_time": "2022-06-21T15:40:27.715Z"
   },
   {
    "duration": 78,
    "start_time": "2022-06-21T15:40:32.076Z"
   },
   {
    "duration": 530,
    "start_time": "2022-06-21T15:40:37.076Z"
   },
   {
    "duration": 6804,
    "start_time": "2022-06-21T15:40:37.608Z"
   },
   {
    "duration": 4,
    "start_time": "2022-06-21T15:40:44.414Z"
   },
   {
    "duration": 310,
    "start_time": "2022-06-21T15:40:44.420Z"
   },
   {
    "duration": 4,
    "start_time": "2022-06-21T15:40:44.733Z"
   },
   {
    "duration": 16,
    "start_time": "2022-06-21T15:40:44.738Z"
   },
   {
    "duration": 83,
    "start_time": "2022-06-21T15:40:44.756Z"
   },
   {
    "duration": 4,
    "start_time": "2022-06-21T15:40:44.841Z"
   },
   {
    "duration": 15,
    "start_time": "2022-06-21T15:40:44.846Z"
   },
   {
    "duration": 79,
    "start_time": "2022-06-21T15:40:44.863Z"
   },
   {
    "duration": 3,
    "start_time": "2022-06-21T15:40:44.944Z"
   },
   {
    "duration": 13,
    "start_time": "2022-06-21T15:40:44.949Z"
   },
   {
    "duration": 105,
    "start_time": "2022-06-21T15:40:44.964Z"
   },
   {
    "duration": 4,
    "start_time": "2022-06-21T15:40:45.072Z"
   },
   {
    "duration": 27,
    "start_time": "2022-06-21T15:40:45.077Z"
   },
   {
    "duration": 105,
    "start_time": "2022-06-21T15:40:45.106Z"
   },
   {
    "duration": 3,
    "start_time": "2022-06-21T15:40:45.213Z"
   },
   {
    "duration": 15,
    "start_time": "2022-06-21T15:40:45.218Z"
   },
   {
    "duration": 7,
    "start_time": "2022-06-21T15:40:45.235Z"
   },
   {
    "duration": 82,
    "start_time": "2022-06-21T15:40:45.243Z"
   },
   {
    "duration": 3,
    "start_time": "2022-06-21T15:40:45.326Z"
   },
   {
    "duration": 706,
    "start_time": "2022-06-21T15:40:45.332Z"
   },
   {
    "duration": 79,
    "start_time": "2022-06-21T15:40:46.041Z"
   },
   {
    "duration": 4,
    "start_time": "2022-06-21T15:40:46.122Z"
   },
   {
    "duration": 10,
    "start_time": "2022-06-21T15:40:46.127Z"
   },
   {
    "duration": 87,
    "start_time": "2022-06-21T15:40:46.140Z"
   },
   {
    "duration": 80,
    "start_time": "2022-06-21T15:40:46.230Z"
   },
   {
    "duration": 518,
    "start_time": "2022-06-21T15:41:15.690Z"
   },
   {
    "duration": 8136,
    "start_time": "2022-06-21T15:41:16.210Z"
   },
   {
    "duration": 3,
    "start_time": "2022-06-21T15:41:24.347Z"
   },
   {
    "duration": 316,
    "start_time": "2022-06-21T15:41:24.352Z"
   },
   {
    "duration": 4,
    "start_time": "2022-06-21T15:41:24.671Z"
   },
   {
    "duration": 15,
    "start_time": "2022-06-21T15:41:24.676Z"
   },
   {
    "duration": 85,
    "start_time": "2022-06-21T15:41:24.692Z"
   },
   {
    "duration": 4,
    "start_time": "2022-06-21T15:41:24.779Z"
   },
   {
    "duration": 18,
    "start_time": "2022-06-21T15:41:24.784Z"
   },
   {
    "duration": 82,
    "start_time": "2022-06-21T15:41:24.804Z"
   },
   {
    "duration": 4,
    "start_time": "2022-06-21T15:41:24.888Z"
   },
   {
    "duration": 12,
    "start_time": "2022-06-21T15:41:24.894Z"
   },
   {
    "duration": 102,
    "start_time": "2022-06-21T15:41:24.908Z"
   },
   {
    "duration": 4,
    "start_time": "2022-06-21T15:41:25.013Z"
   },
   {
    "duration": 12,
    "start_time": "2022-06-21T15:41:25.019Z"
   },
   {
    "duration": 104,
    "start_time": "2022-06-21T15:41:25.033Z"
   },
   {
    "duration": 4,
    "start_time": "2022-06-21T15:41:25.139Z"
   },
   {
    "duration": 23,
    "start_time": "2022-06-21T15:41:25.146Z"
   },
   {
    "duration": 11,
    "start_time": "2022-06-21T15:41:25.170Z"
   },
   {
    "duration": 81,
    "start_time": "2022-06-21T15:41:25.182Z"
   },
   {
    "duration": 3,
    "start_time": "2022-06-21T15:41:25.264Z"
   },
   {
    "duration": 731,
    "start_time": "2022-06-21T15:41:25.268Z"
   },
   {
    "duration": 77,
    "start_time": "2022-06-21T15:41:26.001Z"
   },
   {
    "duration": 2,
    "start_time": "2022-06-21T15:41:26.080Z"
   },
   {
    "duration": 92,
    "start_time": "2022-06-21T15:41:26.083Z"
   },
   {
    "duration": 77,
    "start_time": "2022-06-21T15:41:26.177Z"
   },
   {
    "duration": 228,
    "start_time": "2022-06-21T16:01:31.168Z"
   },
   {
    "duration": 81,
    "start_time": "2022-06-21T16:01:41.893Z"
   },
   {
    "duration": 81,
    "start_time": "2022-06-21T16:01:59.766Z"
   },
   {
    "duration": 80,
    "start_time": "2022-06-21T16:02:24.967Z"
   },
   {
    "duration": 81,
    "start_time": "2022-06-21T16:02:38.390Z"
   },
   {
    "duration": 569,
    "start_time": "2022-06-21T16:02:47.904Z"
   },
   {
    "duration": 7086,
    "start_time": "2022-06-21T16:02:48.475Z"
   },
   {
    "duration": 3,
    "start_time": "2022-06-21T16:02:55.562Z"
   },
   {
    "duration": 274,
    "start_time": "2022-06-21T16:02:55.567Z"
   },
   {
    "duration": 4,
    "start_time": "2022-06-21T16:02:55.843Z"
   },
   {
    "duration": 21,
    "start_time": "2022-06-21T16:02:55.849Z"
   },
   {
    "duration": 96,
    "start_time": "2022-06-21T16:02:55.872Z"
   },
   {
    "duration": 4,
    "start_time": "2022-06-21T16:02:55.971Z"
   },
   {
    "duration": 20,
    "start_time": "2022-06-21T16:02:55.976Z"
   },
   {
    "duration": 80,
    "start_time": "2022-06-21T16:02:55.998Z"
   },
   {
    "duration": 4,
    "start_time": "2022-06-21T16:02:56.080Z"
   },
   {
    "duration": 15,
    "start_time": "2022-06-21T16:02:56.086Z"
   },
   {
    "duration": 101,
    "start_time": "2022-06-21T16:02:56.103Z"
   },
   {
    "duration": 4,
    "start_time": "2022-06-21T16:02:56.207Z"
   },
   {
    "duration": 14,
    "start_time": "2022-06-21T16:02:56.212Z"
   },
   {
    "duration": 121,
    "start_time": "2022-06-21T16:02:56.229Z"
   },
   {
    "duration": 3,
    "start_time": "2022-06-21T16:02:56.351Z"
   },
   {
    "duration": 27,
    "start_time": "2022-06-21T16:02:56.356Z"
   },
   {
    "duration": 6,
    "start_time": "2022-06-21T16:02:56.385Z"
   },
   {
    "duration": 85,
    "start_time": "2022-06-21T16:02:56.393Z"
   },
   {
    "duration": 4,
    "start_time": "2022-06-21T16:02:56.481Z"
   },
   {
    "duration": 704,
    "start_time": "2022-06-21T16:02:56.487Z"
   },
   {
    "duration": 73,
    "start_time": "2022-06-21T16:02:57.193Z"
   },
   {
    "duration": 3,
    "start_time": "2022-06-21T16:02:57.268Z"
   },
   {
    "duration": 80,
    "start_time": "2022-06-21T16:02:57.273Z"
   },
   {
    "duration": 71,
    "start_time": "2022-06-21T16:02:57.355Z"
   },
   {
    "duration": 545,
    "start_time": "2022-07-02T08:35:20.410Z"
   },
   {
    "duration": 8235,
    "start_time": "2022-07-02T08:35:20.957Z"
   },
   {
    "duration": 3,
    "start_time": "2022-07-02T08:35:29.194Z"
   },
   {
    "duration": 312,
    "start_time": "2022-07-02T08:35:29.200Z"
   },
   {
    "duration": 4,
    "start_time": "2022-07-02T08:35:29.513Z"
   },
   {
    "duration": 33,
    "start_time": "2022-07-02T08:35:29.519Z"
   },
   {
    "duration": 98,
    "start_time": "2022-07-02T08:35:29.553Z"
   },
   {
    "duration": 3,
    "start_time": "2022-07-02T08:35:29.653Z"
   },
   {
    "duration": 33,
    "start_time": "2022-07-02T08:35:29.658Z"
   },
   {
    "duration": 105,
    "start_time": "2022-07-02T08:35:29.694Z"
   },
   {
    "duration": 4,
    "start_time": "2022-07-02T08:35:29.801Z"
   },
   {
    "duration": 37,
    "start_time": "2022-07-02T08:35:29.808Z"
   },
   {
    "duration": 122,
    "start_time": "2022-07-02T08:35:29.847Z"
   },
   {
    "duration": 4,
    "start_time": "2022-07-02T08:35:29.971Z"
   },
   {
    "duration": 15,
    "start_time": "2022-07-02T08:35:29.976Z"
   },
   {
    "duration": 117,
    "start_time": "2022-07-02T08:35:29.993Z"
   },
   {
    "duration": 4,
    "start_time": "2022-07-02T08:35:30.112Z"
   },
   {
    "duration": 36,
    "start_time": "2022-07-02T08:35:30.117Z"
   },
   {
    "duration": 48,
    "start_time": "2022-07-02T08:35:30.155Z"
   },
   {
    "duration": 94,
    "start_time": "2022-07-02T08:35:30.205Z"
   },
   {
    "duration": 4,
    "start_time": "2022-07-02T08:35:30.301Z"
   },
   {
    "duration": 792,
    "start_time": "2022-07-02T08:35:30.307Z"
   },
   {
    "duration": 73,
    "start_time": "2022-07-02T08:35:31.101Z"
   },
   {
    "duration": 3,
    "start_time": "2022-07-02T08:35:31.176Z"
   },
   {
    "duration": 113,
    "start_time": "2022-07-02T08:35:31.181Z"
   },
   {
    "duration": 80,
    "start_time": "2022-07-02T08:35:31.296Z"
   },
   {
    "duration": 793,
    "start_time": "2022-07-02T09:03:05.879Z"
   },
   {
    "duration": 76,
    "start_time": "2022-07-02T09:04:20.230Z"
   },
   {
    "duration": 491,
    "start_time": "2022-07-02T09:05:23.762Z"
   },
   {
    "duration": 5824,
    "start_time": "2022-07-02T09:05:24.255Z"
   },
   {
    "duration": 3,
    "start_time": "2022-07-02T09:05:30.080Z"
   },
   {
    "duration": 304,
    "start_time": "2022-07-02T09:05:30.085Z"
   },
   {
    "duration": 4,
    "start_time": "2022-07-02T09:05:30.390Z"
   },
   {
    "duration": 17,
    "start_time": "2022-07-02T09:05:30.396Z"
   },
   {
    "duration": 107,
    "start_time": "2022-07-02T09:05:30.414Z"
   },
   {
    "duration": 3,
    "start_time": "2022-07-02T09:05:30.523Z"
   },
   {
    "duration": 22,
    "start_time": "2022-07-02T09:05:30.528Z"
   },
   {
    "duration": 110,
    "start_time": "2022-07-02T09:05:30.553Z"
   },
   {
    "duration": 3,
    "start_time": "2022-07-02T09:05:30.665Z"
   },
   {
    "duration": 35,
    "start_time": "2022-07-02T09:05:30.670Z"
   },
   {
    "duration": 122,
    "start_time": "2022-07-02T09:05:30.706Z"
   },
   {
    "duration": 3,
    "start_time": "2022-07-02T09:05:30.829Z"
   },
   {
    "duration": 17,
    "start_time": "2022-07-02T09:05:30.834Z"
   },
   {
    "duration": 100,
    "start_time": "2022-07-02T09:05:30.853Z"
   },
   {
    "duration": 3,
    "start_time": "2022-07-02T09:05:30.954Z"
   },
   {
    "duration": 49,
    "start_time": "2022-07-02T09:05:30.959Z"
   },
   {
    "duration": 18,
    "start_time": "2022-07-02T09:05:31.009Z"
   },
   {
    "duration": 95,
    "start_time": "2022-07-02T09:05:31.029Z"
   },
   {
    "duration": 764,
    "start_time": "2022-07-02T09:05:31.127Z"
   },
   {
    "duration": 77,
    "start_time": "2022-07-02T09:05:31.892Z"
   },
   {
    "duration": 83,
    "start_time": "2022-07-02T09:05:31.971Z"
   },
   {
    "duration": 79,
    "start_time": "2022-07-02T09:05:32.056Z"
   },
   {
    "duration": 558,
    "start_time": "2022-07-10T08:44:08.106Z"
   },
   {
    "duration": 5486,
    "start_time": "2022-07-10T08:44:08.665Z"
   },
   {
    "duration": 3,
    "start_time": "2022-07-10T08:44:14.152Z"
   },
   {
    "duration": 286,
    "start_time": "2022-07-10T08:44:14.157Z"
   },
   {
    "duration": 3,
    "start_time": "2022-07-10T08:44:14.445Z"
   },
   {
    "duration": 19,
    "start_time": "2022-07-10T08:44:14.449Z"
   },
   {
    "duration": 88,
    "start_time": "2022-07-10T08:44:14.470Z"
   },
   {
    "duration": 4,
    "start_time": "2022-07-10T08:44:14.561Z"
   },
   {
    "duration": 19,
    "start_time": "2022-07-10T08:44:14.567Z"
   },
   {
    "duration": 82,
    "start_time": "2022-07-10T08:44:14.588Z"
   },
   {
    "duration": 3,
    "start_time": "2022-07-10T08:44:14.673Z"
   },
   {
    "duration": 12,
    "start_time": "2022-07-10T08:44:14.678Z"
   },
   {
    "duration": 110,
    "start_time": "2022-07-10T08:44:14.691Z"
   },
   {
    "duration": 3,
    "start_time": "2022-07-10T08:44:14.805Z"
   },
   {
    "duration": 16,
    "start_time": "2022-07-10T08:44:14.810Z"
   },
   {
    "duration": 103,
    "start_time": "2022-07-10T08:44:14.827Z"
   },
   {
    "duration": 5,
    "start_time": "2022-07-10T08:44:14.932Z"
   },
   {
    "duration": 18,
    "start_time": "2022-07-10T08:44:14.939Z"
   },
   {
    "duration": 8,
    "start_time": "2022-07-10T08:44:14.958Z"
   },
   {
    "duration": 77,
    "start_time": "2022-07-10T08:44:14.968Z"
   },
   {
    "duration": 686,
    "start_time": "2022-07-10T08:44:15.047Z"
   },
   {
    "duration": 75,
    "start_time": "2022-07-10T08:44:15.735Z"
   },
   {
    "duration": 79,
    "start_time": "2022-07-10T08:44:15.812Z"
   },
   {
    "duration": 78,
    "start_time": "2022-07-10T08:44:15.892Z"
   }
  ],
  "kernelspec": {
   "display_name": "Python 3 (ipykernel)",
   "language": "python",
   "name": "python3"
  },
  "language_info": {
   "codemirror_mode": {
    "name": "ipython",
    "version": 3
   },
   "file_extension": ".py",
   "mimetype": "text/x-python",
   "name": "python",
   "nbconvert_exporter": "python",
   "pygments_lexer": "ipython3",
   "version": "3.9.5"
  },
  "toc": {
   "base_numbering": 1,
   "nav_menu": {},
   "number_sections": false,
   "sideBar": true,
   "skip_h1_title": true,
   "title_cell": "Table of Contents",
   "title_sidebar": "Contents",
   "toc_cell": false,
   "toc_position": {},
   "toc_section_display": true,
   "toc_window_display": true
  }
 },
 "nbformat": 4,
 "nbformat_minor": 5
}
