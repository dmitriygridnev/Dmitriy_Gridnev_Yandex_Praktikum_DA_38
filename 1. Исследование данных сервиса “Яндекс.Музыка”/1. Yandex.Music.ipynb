{
 "cells": [
  {
   "cell_type": "markdown",
   "metadata": {
    "id": "E0vqbgi9ay0H"
   },
   "source": [
    "# Яндекс.Музыка"
   ]
  },
  {
   "cell_type": "markdown",
   "metadata": {
    "id": "VUC88oWjTJw2"
   },
   "source": [
    "Сравнение Москвы и Петербурга окружено мифами. Например:\n",
    " * Москва — мегаполис, подчинённый жёсткому ритму рабочей недели;\n",
    " * Петербург — культурная столица, со своими вкусами.\n",
    "\n",
    "На данных Яндекс.Музыки вы сравните поведение пользователей двух столиц.\n",
    "\n",
    "**Цель исследования** — проверьте три гипотезы:\n",
    "1. Активность пользователей зависит от дня недели. Причём в Москве и Петербурге это проявляется по-разному.\n",
    "2. В понедельник утром в Москве преобладают одни жанры, а в Петербурге — другие. Так же и вечером пятницы преобладают разные жанры — в зависимости от города. \n",
    "3. Москва и Петербург предпочитают разные жанры музыки. В Москве чаще слушают поп-музыку, в Петербурге — русский рэп.\n",
    "\n",
    "**Ход исследования**\n",
    "\n",
    "Данные о поведении пользователей вы получите из файла `yandex_music_project.csv`. О качестве данных ничего не известно. Поэтому перед проверкой гипотез понадобится обзор данных. \n",
    "\n",
    "Вы проверите данные на ошибки и оцените их влияние на исследование. Затем, на этапе предобработки вы поищете возможность исправить самые критичные ошибки данных.\n",
    " \n",
    "Таким образом, исследование пройдёт в три этапа:\n",
    " 1. Обзор данных.\n",
    " 2. Предобработка данных.\n",
    " 3. Проверка гипотез.\n",
    "\n"
   ]
  },
  {
   "cell_type": "markdown",
   "metadata": {
    "id": "Ml1hmfXC_Zcs"
   },
   "source": [
    "## Обзор данных\n",
    "\n",
    "Составьте первое представление о данных Яндекс.Музыки.\n",
    "\n",
    "\n"
   ]
  },
  {
   "cell_type": "markdown",
   "metadata": {
    "id": "57eAOGIz_Zcs"
   },
   "source": [
    "Основной инструмент аналитика — `pandas`. Импортируйте эту библиотеку."
   ]
  },
  {
   "cell_type": "code",
   "execution_count": 1,
   "metadata": {
    "id": "AXN7PHPN_Zcs"
   },
   "outputs": [],
   "source": [
    "# импорт библиотеки pandas\n",
    "import pandas as pd"
   ]
  },
  {
   "cell_type": "markdown",
   "metadata": {
    "id": "SG23P8tt_Zcs"
   },
   "source": [
    "Прочитайте файл `yandex_music_project.csv` из папки `/datasets` и сохраните его в переменной `df`:"
   ]
  },
  {
   "cell_type": "code",
   "execution_count": 2,
   "metadata": {
    "id": "fFVu7vqh_Zct"
   },
   "outputs": [],
   "source": [
    "# чтение файла с данными и сохранение в df\n",
    "df = pd.read_csv('/datasets/yandex_music_project.csv')"
   ]
  },
  {
   "cell_type": "markdown",
   "metadata": {
    "id": "rDoOMd3uTqnZ"
   },
   "source": [
    "Выведите на экран первые десять строк таблицы:"
   ]
  },
  {
   "cell_type": "code",
   "execution_count": 3,
   "metadata": {
    "id": "oWTVX3gW_Zct"
   },
   "outputs": [
    {
     "data": {
      "text/html": [
       "<div>\n",
       "<style scoped>\n",
       "    .dataframe tbody tr th:only-of-type {\n",
       "        vertical-align: middle;\n",
       "    }\n",
       "\n",
       "    .dataframe tbody tr th {\n",
       "        vertical-align: top;\n",
       "    }\n",
       "\n",
       "    .dataframe thead th {\n",
       "        text-align: right;\n",
       "    }\n",
       "</style>\n",
       "<table border=\"1\" class=\"dataframe\">\n",
       "  <thead>\n",
       "    <tr style=\"text-align: right;\">\n",
       "      <th></th>\n",
       "      <th>userID</th>\n",
       "      <th>Track</th>\n",
       "      <th>artist</th>\n",
       "      <th>genre</th>\n",
       "      <th>City</th>\n",
       "      <th>time</th>\n",
       "      <th>Day</th>\n",
       "    </tr>\n",
       "  </thead>\n",
       "  <tbody>\n",
       "    <tr>\n",
       "      <th>0</th>\n",
       "      <td>FFB692EC</td>\n",
       "      <td>Kamigata To Boots</td>\n",
       "      <td>The Mass Missile</td>\n",
       "      <td>rock</td>\n",
       "      <td>Saint-Petersburg</td>\n",
       "      <td>20:28:33</td>\n",
       "      <td>Wednesday</td>\n",
       "    </tr>\n",
       "    <tr>\n",
       "      <th>1</th>\n",
       "      <td>55204538</td>\n",
       "      <td>Delayed Because of Accident</td>\n",
       "      <td>Andreas Rönnberg</td>\n",
       "      <td>rock</td>\n",
       "      <td>Moscow</td>\n",
       "      <td>14:07:09</td>\n",
       "      <td>Friday</td>\n",
       "    </tr>\n",
       "    <tr>\n",
       "      <th>2</th>\n",
       "      <td>20EC38</td>\n",
       "      <td>Funiculì funiculà</td>\n",
       "      <td>Mario Lanza</td>\n",
       "      <td>pop</td>\n",
       "      <td>Saint-Petersburg</td>\n",
       "      <td>20:58:07</td>\n",
       "      <td>Wednesday</td>\n",
       "    </tr>\n",
       "    <tr>\n",
       "      <th>3</th>\n",
       "      <td>A3DD03C9</td>\n",
       "      <td>Dragons in the Sunset</td>\n",
       "      <td>Fire + Ice</td>\n",
       "      <td>folk</td>\n",
       "      <td>Saint-Petersburg</td>\n",
       "      <td>08:37:09</td>\n",
       "      <td>Monday</td>\n",
       "    </tr>\n",
       "    <tr>\n",
       "      <th>4</th>\n",
       "      <td>E2DC1FAE</td>\n",
       "      <td>Soul People</td>\n",
       "      <td>Space Echo</td>\n",
       "      <td>dance</td>\n",
       "      <td>Moscow</td>\n",
       "      <td>08:34:34</td>\n",
       "      <td>Monday</td>\n",
       "    </tr>\n",
       "    <tr>\n",
       "      <th>5</th>\n",
       "      <td>842029A1</td>\n",
       "      <td>Преданная</td>\n",
       "      <td>IMPERVTOR</td>\n",
       "      <td>rusrap</td>\n",
       "      <td>Saint-Petersburg</td>\n",
       "      <td>13:09:41</td>\n",
       "      <td>Friday</td>\n",
       "    </tr>\n",
       "    <tr>\n",
       "      <th>6</th>\n",
       "      <td>4CB90AA5</td>\n",
       "      <td>True</td>\n",
       "      <td>Roman Messer</td>\n",
       "      <td>dance</td>\n",
       "      <td>Moscow</td>\n",
       "      <td>13:00:07</td>\n",
       "      <td>Wednesday</td>\n",
       "    </tr>\n",
       "    <tr>\n",
       "      <th>7</th>\n",
       "      <td>F03E1C1F</td>\n",
       "      <td>Feeling This Way</td>\n",
       "      <td>Polina Griffith</td>\n",
       "      <td>dance</td>\n",
       "      <td>Moscow</td>\n",
       "      <td>20:47:49</td>\n",
       "      <td>Wednesday</td>\n",
       "    </tr>\n",
       "    <tr>\n",
       "      <th>8</th>\n",
       "      <td>8FA1D3BE</td>\n",
       "      <td>И вновь продолжается бой</td>\n",
       "      <td>NaN</td>\n",
       "      <td>ruspop</td>\n",
       "      <td>Moscow</td>\n",
       "      <td>09:17:40</td>\n",
       "      <td>Friday</td>\n",
       "    </tr>\n",
       "    <tr>\n",
       "      <th>9</th>\n",
       "      <td>E772D5C0</td>\n",
       "      <td>Pessimist</td>\n",
       "      <td>NaN</td>\n",
       "      <td>dance</td>\n",
       "      <td>Saint-Petersburg</td>\n",
       "      <td>21:20:49</td>\n",
       "      <td>Wednesday</td>\n",
       "    </tr>\n",
       "  </tbody>\n",
       "</table>\n",
       "</div>"
      ],
      "text/plain": [
       "     userID                        Track            artist   genre  \\\n",
       "0  FFB692EC            Kamigata To Boots  The Mass Missile    rock   \n",
       "1  55204538  Delayed Because of Accident  Andreas Rönnberg    rock   \n",
       "2    20EC38            Funiculì funiculà       Mario Lanza     pop   \n",
       "3  A3DD03C9        Dragons in the Sunset        Fire + Ice    folk   \n",
       "4  E2DC1FAE                  Soul People        Space Echo   dance   \n",
       "5  842029A1                    Преданная         IMPERVTOR  rusrap   \n",
       "6  4CB90AA5                         True      Roman Messer   dance   \n",
       "7  F03E1C1F             Feeling This Way   Polina Griffith   dance   \n",
       "8  8FA1D3BE     И вновь продолжается бой               NaN  ruspop   \n",
       "9  E772D5C0                    Pessimist               NaN   dance   \n",
       "\n",
       "             City        time        Day  \n",
       "0  Saint-Petersburg  20:28:33  Wednesday  \n",
       "1            Moscow  14:07:09     Friday  \n",
       "2  Saint-Petersburg  20:58:07  Wednesday  \n",
       "3  Saint-Petersburg  08:37:09     Monday  \n",
       "4            Moscow  08:34:34     Monday  \n",
       "5  Saint-Petersburg  13:09:41     Friday  \n",
       "6            Moscow  13:00:07  Wednesday  \n",
       "7            Moscow  20:47:49  Wednesday  \n",
       "8            Moscow  09:17:40     Friday  \n",
       "9  Saint-Petersburg  21:20:49  Wednesday  "
      ]
     },
     "metadata": {},
     "output_type": "display_data"
    }
   ],
   "source": [
    "# получение первых 10 строк таблицы df\n",
    "display(df.head(10)) #в head указываем то количество строк, которое необходимо для ознакомления с таблицей"
   ]
  },
  {
   "cell_type": "markdown",
   "metadata": {
    "id": "EO73Kwic_Zct"
   },
   "source": [
    "Одной командой получим общую информацию о таблице:"
   ]
  },
  {
   "cell_type": "code",
   "execution_count": 4,
   "metadata": {
    "id": "DSf2kIb-_Zct"
   },
   "outputs": [
    {
     "name": "stdout",
     "output_type": "stream",
     "text": [
      "<class 'pandas.core.frame.DataFrame'>\n",
      "RangeIndex: 65079 entries, 0 to 65078\n",
      "Data columns (total 7 columns):\n",
      " #   Column    Non-Null Count  Dtype \n",
      "---  ------    --------------  ----- \n",
      " 0     userID  65079 non-null  object\n",
      " 1   Track     63848 non-null  object\n",
      " 2   artist    57876 non-null  object\n",
      " 3   genre     63881 non-null  object\n",
      " 4     City    65079 non-null  object\n",
      " 5   time      65079 non-null  object\n",
      " 6   Day       65079 non-null  object\n",
      "dtypes: object(7)\n",
      "memory usage: 3.5+ MB\n"
     ]
    }
   ],
   "source": [
    "# получение общей информации о данных в таблице df\n",
    "df.info()"
   ]
  },
  {
   "cell_type": "markdown",
   "metadata": {
    "id": "TaQ2Iwbr_Zct"
   },
   "source": [
    "Итак, в таблице семь столбцов. Тип данных во всех столбцах — `object`.\n",
    "\n",
    "Согласно документации к данным:\n",
    "* `userID` — идентификатор пользователя;\n",
    "* `Track` — название трека;  \n",
    "* `artist` — имя исполнителя;\n",
    "* `genre` — название жанра;\n",
    "* `City` — город пользователя;\n",
    "* `time` — время начала прослушивания;\n",
    "* `Day` — день недели.\n",
    "\n",
    "В названиях колонок видны три нарушения стиля:\n",
    "1. Строчные буквы сочетаются с прописными.\n",
    "2. Встречаются пробелы.\n",
    "3. Найдите ещё одну проблему в названии колонок и опишите её в этом пункте.\n",
    "\n",
    "\n",
    "\n",
    "Количество значений в столбцах различается. Значит, в данных есть пропущенные значения.\n"
   ]
  },
  {
   "cell_type": "markdown",
   "metadata": {},
   "source": [
    "В исходном названии «userID» двойная ошибка: разом встречается \"высокий\" регистр вместе со строчными буквами, а также, по сути, два слова объединены в одно. Правильно назвать 'user_id'. Поскольку, пробел нельзя использовать по синтаксическим правилам, \"пропуск\" обозначаем нижним подчеркиванием. Забегая вперед - там даже тройная ошибка, перед наименованием колонки \"стоят\" два пробела."
   ]
  },
  {
   "cell_type": "markdown",
   "metadata": {
    "id": "MCB6-dXG_Zct"
   },
   "source": [
    "**Выводы**\n",
    "\n",
    "В каждой строке таблицы — данные о прослушанном треке. Часть колонок описывает саму композицию: название, исполнителя и жанр. Остальные данные рассказывают о пользователе: из какого он города, когда он слушал музыку. \n",
    "\n",
    "Предварительно можно утверждать, что, данных достаточно для проверки гипотез. Но встречаются пропуски в данных, а в названиях колонок — расхождения с хорошим стилем.\n",
    "\n",
    "Чтобы двигаться дальше, нужно устранить проблемы в данных."
   ]
  },
  {
   "cell_type": "markdown",
   "metadata": {
    "id": "SjYF6Ub9_Zct"
   },
   "source": [
    "## Предобработка данных\n",
    "Исправьте стиль в заголовках столбцов, исключите пропуски. Затем проверьте данные на дубликаты."
   ]
  },
  {
   "cell_type": "markdown",
   "metadata": {
    "id": "dIaKXr29_Zct"
   },
   "source": [
    "### Стиль заголовков\n",
    "Выведите на экран названия столбцов:"
   ]
  },
  {
   "cell_type": "code",
   "execution_count": 5,
   "metadata": {
    "id": "oKOTdF_Q_Zct"
   },
   "outputs": [
    {
     "data": {
      "text/plain": [
       "Index(['  userID', 'Track', 'artist', 'genre', '  City  ', 'time', 'Day'], dtype='object')"
      ]
     },
     "execution_count": 5,
     "metadata": {},
     "output_type": "execute_result"
    }
   ],
   "source": [
    "# перечень названий столбцов таблицы df\n",
    "df.columns"
   ]
  },
  {
   "cell_type": "markdown",
   "metadata": {
    "id": "zj5534cv_Zct"
   },
   "source": [
    "Приведите названия в соответствие с хорошим стилем:\n",
    "* несколько слов в названии запишите в «змеином_регистре»,\n",
    "* все символы сделайте строчными,\n",
    "* устраните пробелы.\n",
    "\n",
    "Для этого переименуйте колонки так:\n",
    "* `'  userID'` → `'user_id'`;\n",
    "* `'Track'` → `'track'`;\n",
    "* `'  City  '` → `'city'`;\n",
    "* `'Day'` → `'day'`."
   ]
  },
  {
   "cell_type": "code",
   "execution_count": 6,
   "metadata": {
    "id": "ISlFqs5y_Zct"
   },
   "outputs": [],
   "source": [
    "# переименование столбцов\n",
    "df = df.rename(columns={'  userID':'user_id', 'Track':'track', '  City  ':'city', 'Day':'day'}) #для переименования столбцов применяем метод \"rename\". Указывается некорректное наименование столбца, через двоеточие - правильное, которое должно быть после выполнения строки кода"
   ]
  },
  {
   "cell_type": "markdown",
   "metadata": {
    "id": "1dqbh00J_Zct"
   },
   "source": [
    "Проверьте результат. Для этого ещё раз выведите на экран названия столбцов:"
   ]
  },
  {
   "cell_type": "code",
   "execution_count": 7,
   "metadata": {
    "id": "d4NOAmTW_Zct"
   },
   "outputs": [
    {
     "data": {
      "text/html": [
       "<div>\n",
       "<style scoped>\n",
       "    .dataframe tbody tr th:only-of-type {\n",
       "        vertical-align: middle;\n",
       "    }\n",
       "\n",
       "    .dataframe tbody tr th {\n",
       "        vertical-align: top;\n",
       "    }\n",
       "\n",
       "    .dataframe thead th {\n",
       "        text-align: right;\n",
       "    }\n",
       "</style>\n",
       "<table border=\"1\" class=\"dataframe\">\n",
       "  <thead>\n",
       "    <tr style=\"text-align: right;\">\n",
       "      <th></th>\n",
       "      <th>user_id</th>\n",
       "      <th>track</th>\n",
       "      <th>artist</th>\n",
       "      <th>genre</th>\n",
       "      <th>city</th>\n",
       "      <th>time</th>\n",
       "      <th>day</th>\n",
       "    </tr>\n",
       "  </thead>\n",
       "  <tbody>\n",
       "    <tr>\n",
       "      <th>13550</th>\n",
       "      <td>38187E60</td>\n",
       "      <td>Teenage Funeral</td>\n",
       "      <td>Shaimus</td>\n",
       "      <td>rock</td>\n",
       "      <td>Saint-Petersburg</td>\n",
       "      <td>21:10:03</td>\n",
       "      <td>Wednesday</td>\n",
       "    </tr>\n",
       "    <tr>\n",
       "      <th>9990</th>\n",
       "      <td>1590FF28</td>\n",
       "      <td>Bom Bom</td>\n",
       "      <td>Sam and the Womp</td>\n",
       "      <td>dance</td>\n",
       "      <td>Moscow</td>\n",
       "      <td>08:44:07</td>\n",
       "      <td>Monday</td>\n",
       "    </tr>\n",
       "    <tr>\n",
       "      <th>31843</th>\n",
       "      <td>9DF44D89</td>\n",
       "      <td>Lites</td>\n",
       "      <td>The Chi Lites</td>\n",
       "      <td>old</td>\n",
       "      <td>Saint-Petersburg</td>\n",
       "      <td>08:12:35</td>\n",
       "      <td>Friday</td>\n",
       "    </tr>\n",
       "    <tr>\n",
       "      <th>5802</th>\n",
       "      <td>3346F45F</td>\n",
       "      <td>All Summer Long</td>\n",
       "      <td>Smash Hifi</td>\n",
       "      <td>dance</td>\n",
       "      <td>Saint-Petersburg</td>\n",
       "      <td>22:00:55</td>\n",
       "      <td>Wednesday</td>\n",
       "    </tr>\n",
       "    <tr>\n",
       "      <th>11996</th>\n",
       "      <td>D09603B7</td>\n",
       "      <td>Простреленный флаг</td>\n",
       "      <td>ДМЦ</td>\n",
       "      <td>rusrock</td>\n",
       "      <td>Moscow</td>\n",
       "      <td>20:06:44</td>\n",
       "      <td>Monday</td>\n",
       "    </tr>\n",
       "    <tr>\n",
       "      <th>26692</th>\n",
       "      <td>C8899A6E</td>\n",
       "      <td>Kerosene</td>\n",
       "      <td>Youngest</td>\n",
       "      <td>rock</td>\n",
       "      <td>Moscow</td>\n",
       "      <td>08:52:56</td>\n",
       "      <td>Wednesday</td>\n",
       "    </tr>\n",
       "    <tr>\n",
       "      <th>11853</th>\n",
       "      <td>9AD0EC14</td>\n",
       "      <td>Городские цветы</td>\n",
       "      <td>NaN</td>\n",
       "      <td>film</td>\n",
       "      <td>Moscow</td>\n",
       "      <td>13:38:36</td>\n",
       "      <td>Monday</td>\n",
       "    </tr>\n",
       "    <tr>\n",
       "      <th>32062</th>\n",
       "      <td>F573D7F5</td>\n",
       "      <td>Кружится снег</td>\n",
       "      <td>Любавин С. &amp; Гуричева А.</td>\n",
       "      <td>shanson</td>\n",
       "      <td>Moscow</td>\n",
       "      <td>13:02:37</td>\n",
       "      <td>Monday</td>\n",
       "    </tr>\n",
       "    <tr>\n",
       "      <th>33677</th>\n",
       "      <td>74538A5E</td>\n",
       "      <td>Ninghizida</td>\n",
       "      <td>Ekaologik</td>\n",
       "      <td>dance</td>\n",
       "      <td>Moscow</td>\n",
       "      <td>20:07:18</td>\n",
       "      <td>Wednesday</td>\n",
       "    </tr>\n",
       "    <tr>\n",
       "      <th>19614</th>\n",
       "      <td>1E05B54F</td>\n",
       "      <td>She Found You</td>\n",
       "      <td>Samiam</td>\n",
       "      <td>punk</td>\n",
       "      <td>Saint-Petersburg</td>\n",
       "      <td>08:23:53</td>\n",
       "      <td>Monday</td>\n",
       "    </tr>\n",
       "  </tbody>\n",
       "</table>\n",
       "</div>"
      ],
      "text/plain": [
       "        user_id               track                    artist    genre  \\\n",
       "13550  38187E60     Teenage Funeral                   Shaimus     rock   \n",
       "9990   1590FF28             Bom Bom          Sam and the Womp    dance   \n",
       "31843  9DF44D89               Lites             The Chi Lites      old   \n",
       "5802   3346F45F     All Summer Long                Smash Hifi    dance   \n",
       "11996  D09603B7  Простреленный флаг                       ДМЦ  rusrock   \n",
       "26692  C8899A6E            Kerosene                  Youngest     rock   \n",
       "11853  9AD0EC14     Городские цветы                       NaN     film   \n",
       "32062  F573D7F5       Кружится снег  Любавин С. & Гуричева А.  shanson   \n",
       "33677  74538A5E          Ninghizida                 Ekaologik    dance   \n",
       "19614  1E05B54F       She Found You                    Samiam     punk   \n",
       "\n",
       "                   city      time        day  \n",
       "13550  Saint-Petersburg  21:10:03  Wednesday  \n",
       "9990             Moscow  08:44:07     Monday  \n",
       "31843  Saint-Petersburg  08:12:35     Friday  \n",
       "5802   Saint-Petersburg  22:00:55  Wednesday  \n",
       "11996            Moscow  20:06:44     Monday  \n",
       "26692            Moscow  08:52:56  Wednesday  \n",
       "11853            Moscow  13:38:36     Monday  \n",
       "32062            Moscow  13:02:37     Monday  \n",
       "33677            Moscow  20:07:18  Wednesday  \n",
       "19614  Saint-Petersburg  08:23:53     Monday  "
      ]
     },
     "metadata": {},
     "output_type": "display_data"
    }
   ],
   "source": [
    "# проверка результатов - перечень названий столбцов\n",
    "display(df.sample(10))"
   ]
  },
  {
   "cell_type": "markdown",
   "metadata": {
    "id": "5ISfbcfY_Zct"
   },
   "source": [
    "### Пропуски значений\n",
    "Сначала посчитайте, сколько в таблице пропущенных значений. Для этого достаточно двух методов `pandas`:"
   ]
  },
  {
   "cell_type": "code",
   "execution_count": 8,
   "metadata": {
    "id": "RskX29qr_Zct"
   },
   "outputs": [
    {
     "data": {
      "text/plain": [
       "user_id       0\n",
       "track      1231\n",
       "artist     7203\n",
       "genre      1198\n",
       "city          0\n",
       "time          0\n",
       "day           0\n",
       "dtype: int64"
      ]
     },
     "execution_count": 8,
     "metadata": {},
     "output_type": "execute_result"
    }
   ],
   "source": [
    "# подсчёт пропусков\n",
    "df.isna().sum() #метод isna определит пропущенные значения, затем, метод sum сложит их количество - это и будет количество пропущенных значений."
   ]
  },
  {
   "cell_type": "markdown",
   "metadata": {
    "id": "qubhgnlO_Zct"
   },
   "source": [
    "Не все пропущенные значения влияют на исследование. Так в `track` и `artist` пропуски не важны для вашей работы. Достаточно заменить их явными обозначениями.\n",
    "\n",
    "Но пропуски в `genre` могут помешать сравнению музыкальных вкусов в Москве и Санкт-Петербурге. На практике было бы правильно установить причину пропусков и восстановить данные. Такой возможности нет в учебном проекте. Придётся:\n",
    "* заполнить и эти пропуски явными обозначениями,\n",
    "* оценить, насколько они повредят расчётам. "
   ]
  },
  {
   "cell_type": "markdown",
   "metadata": {
    "id": "fSv2laPA_Zct"
   },
   "source": [
    "Замените пропущенные значения в столбцах `track`, `artist` и `genre` на строку `'unknown'`. Для этого создайте список `columns_to_replace`, переберите его элементы циклом `for` и для каждого столбца выполните замену пропущенных значений:"
   ]
  },
  {
   "cell_type": "code",
   "execution_count": 9,
   "metadata": {
    "id": "KplB5qWs_Zct"
   },
   "outputs": [],
   "source": [
    "# перебор названий столбцов в цикле и замена пропущенных значений на 'unknown'\n",
    "columns_to_replace = ['track', 'artist', 'genre']\n",
    "for missing_values in columns_to_replace: # создаем переменную цикла, в переводе, означает \"пропущенные значения\"\n",
    "       df[missing_values] = df[missing_values].fillna('unknown') #метод fillna заменит пропуски на 'unknown'"
   ]
  },
  {
   "cell_type": "markdown",
   "metadata": {
    "id": "Ilsm-MZo_Zct"
   },
   "source": [
    "Убедитесь, что в таблице не осталось пропусков. Для этого ещё раз посчитайте пропущенные значения."
   ]
  },
  {
   "cell_type": "code",
   "execution_count": 10,
   "metadata": {
    "id": "Tq4nYRX4_Zct"
   },
   "outputs": [
    {
     "data": {
      "text/plain": [
       "user_id    0\n",
       "track      0\n",
       "artist     0\n",
       "genre      0\n",
       "city       0\n",
       "time       0\n",
       "day        0\n",
       "dtype: int64"
      ]
     },
     "execution_count": 10,
     "metadata": {},
     "output_type": "execute_result"
    }
   ],
   "source": [
    "# подсчёт пропусков\n",
    "df.isna().sum() #если метод сработал, должны быть нули"
   ]
  },
  {
   "cell_type": "markdown",
   "metadata": {
    "id": "BWKRtBJ3_Zct"
   },
   "source": [
    "### Дубликаты\n",
    "Посчитайте явные дубликаты в таблице одной командой:"
   ]
  },
  {
   "cell_type": "code",
   "execution_count": 11,
   "metadata": {
    "id": "36eES_S0_Zct"
   },
   "outputs": [
    {
     "data": {
      "text/plain": [
       "3826"
      ]
     },
     "execution_count": 11,
     "metadata": {},
     "output_type": "execute_result"
    }
   ],
   "source": [
    "# подсчёт явных дубликатов\n",
    "df.duplicated().sum() #для поиска явных дубликатов используем метод duplicated, и суммируем количество найденных дубликатов"
   ]
  },
  {
   "cell_type": "markdown",
   "metadata": {
    "id": "Ot25h6XR_Zct"
   },
   "source": [
    "Вызовите специальный метод `pandas`, чтобы удалить явные дубликаты:"
   ]
  },
  {
   "cell_type": "code",
   "execution_count": 12,
   "metadata": {
    "id": "exFHq6tt_Zct"
   },
   "outputs": [],
   "source": [
    "# удаление явных дубликатов (с удалением старых индексов и формированием новых)\n",
    "df = df.drop_duplicates().reset_index() # метод drop_duplicates() позволит удалить явные дубликаты. Чтобы не было \"пробелов\" в нумерации индексов - применим reset_index()"
   ]
  },
  {
   "cell_type": "markdown",
   "metadata": {
    "id": "Im2YwBEG_Zct"
   },
   "source": [
    "Ещё раз посчитайте явные дубликаты в таблице — убедитесь, что полностью от них избавились:"
   ]
  },
  {
   "cell_type": "code",
   "execution_count": 13,
   "metadata": {
    "id": "-8PuNWQ0_Zct"
   },
   "outputs": [
    {
     "data": {
      "text/plain": [
       "0"
      ]
     },
     "execution_count": 13,
     "metadata": {},
     "output_type": "execute_result"
    }
   ],
   "source": [
    "df.duplicated().sum()"
   ]
  },
  {
   "cell_type": "markdown",
   "metadata": {
    "id": "QlFBsxAr_Zct"
   },
   "source": [
    "Теперь избавьтесь от неявных дубликатов в колонке `genre`. Например, название одного и того же жанра может быть записано немного по-разному. Такие ошибки тоже повлияют на результат исследования."
   ]
  },
  {
   "cell_type": "markdown",
   "metadata": {
    "id": "eSjWwsOh_Zct"
   },
   "source": [
    "Выведите на экран список уникальных названий жанров, отсортированный в алфавитном порядке. Для этого:\n",
    "* извлеките нужный столбец датафрейма, \n",
    "* примените к нему метод сортировки,\n",
    "* для отсортированного столбца вызовите метод, который вернёт уникальные значения из столбца."
   ]
  },
  {
   "cell_type": "code",
   "execution_count": 14,
   "metadata": {
    "id": "JIUcqzZN_Zct"
   },
   "outputs": [
    {
     "data": {
      "text/plain": [
       "array(['acid', 'acoustic', 'action', 'adult', 'africa', 'afrikaans',\n",
       "       'alternative', 'alternativepunk', 'ambient', 'americana',\n",
       "       'animated', 'anime', 'arabesk', 'arabic', 'arena',\n",
       "       'argentinetango', 'art', 'audiobook', 'author', 'avantgarde',\n",
       "       'axé', 'baile', 'balkan', 'beats', 'bigroom', 'black', 'bluegrass',\n",
       "       'blues', 'bollywood', 'bossa', 'brazilian', 'breakbeat', 'breaks',\n",
       "       'broadway', 'cantautori', 'cantopop', 'canzone', 'caribbean',\n",
       "       'caucasian', 'celtic', 'chamber', 'chanson', 'children', 'chill',\n",
       "       'chinese', 'choral', 'christian', 'christmas', 'classical',\n",
       "       'classicmetal', 'club', 'colombian', 'comedy', 'conjazz',\n",
       "       'contemporary', 'country', 'cuban', 'dance', 'dancehall',\n",
       "       'dancepop', 'dark', 'death', 'deep', 'deutschrock', 'deutschspr',\n",
       "       'dirty', 'disco', 'dnb', 'documentary', 'downbeat', 'downtempo',\n",
       "       'drum', 'dub', 'dubstep', 'eastern', 'easy', 'electronic',\n",
       "       'electropop', 'emo', 'entehno', 'epicmetal', 'estrada', 'ethnic',\n",
       "       'eurofolk', 'european', 'experimental', 'extrememetal', 'fado',\n",
       "       'fairytail', 'film', 'fitness', 'flamenco', 'folk', 'folklore',\n",
       "       'folkmetal', 'folkrock', 'folktronica', 'forró', 'frankreich',\n",
       "       'französisch', 'french', 'funk', 'future', 'gangsta', 'garage',\n",
       "       'german', 'ghazal', 'gitarre', 'glitch', 'gospel', 'gothic',\n",
       "       'grime', 'grunge', 'gypsy', 'handsup', \"hard'n'heavy\", 'hardcore',\n",
       "       'hardstyle', 'hardtechno', 'hip', 'hip-hop', 'hiphop',\n",
       "       'historisch', 'holiday', 'hop', 'horror', 'house', 'hymn', 'idm',\n",
       "       'independent', 'indian', 'indie', 'indipop', 'industrial',\n",
       "       'inspirational', 'instrumental', 'international', 'irish', 'jam',\n",
       "       'japanese', 'jazz', 'jewish', 'jpop', 'jungle', 'k-pop',\n",
       "       'karadeniz', 'karaoke', 'kayokyoku', 'korean', 'laiko', 'latin',\n",
       "       'latino', 'leftfield', 'local', 'lounge', 'loungeelectronic',\n",
       "       'lovers', 'malaysian', 'mandopop', 'marschmusik', 'meditative',\n",
       "       'mediterranean', 'melodic', 'metal', 'metalcore', 'mexican',\n",
       "       'middle', 'minimal', 'miscellaneous', 'modern', 'mood', 'mpb',\n",
       "       'muslim', 'native', 'neoklassik', 'neue', 'new', 'newage',\n",
       "       'newwave', 'nu', 'nujazz', 'numetal', 'oceania', 'old', 'opera',\n",
       "       'orchestral', 'other', 'piano', 'podcasts', 'pop', 'popdance',\n",
       "       'popelectronic', 'popeurodance', 'poprussian', 'post',\n",
       "       'posthardcore', 'postrock', 'power', 'progmetal', 'progressive',\n",
       "       'psychedelic', 'punjabi', 'punk', 'quebecois', 'ragga', 'ram',\n",
       "       'rancheras', 'rap', 'rave', 'reggae', 'reggaeton', 'regional',\n",
       "       'relax', 'religious', 'retro', 'rhythm', 'rnb', 'rnr', 'rock',\n",
       "       'rockabilly', 'rockalternative', 'rockindie', 'rockother',\n",
       "       'romance', 'roots', 'ruspop', 'rusrap', 'rusrock', 'russian',\n",
       "       'salsa', 'samba', 'scenic', 'schlager', 'self', 'sertanejo',\n",
       "       'shanson', 'shoegazing', 'showtunes', 'singer', 'ska', 'skarock',\n",
       "       'slow', 'smooth', 'soft', 'soul', 'soulful', 'sound', 'soundtrack',\n",
       "       'southern', 'specialty', 'speech', 'spiritual', 'sport',\n",
       "       'stonerrock', 'surf', 'swing', 'synthpop', 'synthrock',\n",
       "       'sängerportrait', 'tango', 'tanzorchester', 'taraftar', 'tatar',\n",
       "       'tech', 'techno', 'teen', 'thrash', 'top', 'traditional',\n",
       "       'tradjazz', 'trance', 'tribal', 'trip', 'triphop', 'tropical',\n",
       "       'türk', 'türkçe', 'ukrrock', 'unknown', 'urban', 'uzbek',\n",
       "       'variété', 'vi', 'videogame', 'vocal', 'western', 'world',\n",
       "       'worldbeat', 'ïîï', 'электроника'], dtype=object)"
      ]
     },
     "metadata": {},
     "output_type": "display_data"
    }
   ],
   "source": [
    "# Просмотр уникальных названий жанров\n",
    "display(df['genre'].sort_values().unique()) #метод unique выведет уникальные значения - это позволит оценить, имеются ли неявные дубликаты"
   ]
  },
  {
   "cell_type": "markdown",
   "metadata": {
    "id": "qej-Qmuo_Zct"
   },
   "source": [
    "Просмотрите список и найдите неявные дубликаты названия `hiphop`. Это могут быть названия с ошибками или альтернативные названия того же жанра.\n",
    "\n",
    "Вы увидите следующие неявные дубликаты:\n",
    "* *hip*,\n",
    "* *hop*,\n",
    "* *hip-hop*.\n",
    "\n",
    "Чтобы очистить от них таблицу, напишите функцию `replace_wrong_genres()` с двумя параметрами: \n",
    "* `wrong_genres` — список дубликатов,\n",
    "* `correct_genre` — строка с правильным значением.\n",
    "\n",
    "Функция должна исправить колонку `genre` в таблице `df`: заменить каждое значение из списка `wrong_genres` на значение из `correct_genre`."
   ]
  },
  {
   "cell_type": "code",
   "execution_count": 15,
   "metadata": {
    "id": "ErNDkmns_Zct"
   },
   "outputs": [],
   "source": [
    "# Функция для замены неявных дубликатов\n",
    "def replace_wrong_genres(wrong_genres, correct_genre): #объявим новую функцию\n",
    "    for wrong_genres in wrong_genres: # применяем цикл for\n",
    "        df['genre'] = df['genre'].replace(wrong_genres, correct_genre) #метод replace предназначен для замены \"синонимов\", если они останутся в том виде, как сейчас - это исказит результаты исследования. Нужно привести все к \"общему знаменателю\""
   ]
  },
  {
   "cell_type": "markdown",
   "metadata": {
    "id": "aDoBJxbA_Zct"
   },
   "source": [
    "Вызовите `replace_wrong_genres()` и передайте ей такие аргументы, чтобы она устранила неявные дубликаты: вместо `hip`, `hop` и `hip-hop` в таблице должно быть значение `hiphop`:"
   ]
  },
  {
   "cell_type": "code",
   "execution_count": 16,
   "metadata": {
    "id": "YN5i2hpmSo09"
   },
   "outputs": [],
   "source": [
    "# Устранение неявных дубликатов\n",
    "wrong_genres = ['hip', 'hop', 'hip-hop'] #объявляем \"некорректные\" значения\n",
    "correct_genre = 'hiphop' #указываем, как должна выглядеть \"правильная\" формулировка жанра\n",
    "replace_wrong_genres(wrong_genres, correct_genre) #производим \"замену\""
   ]
  },
  {
   "cell_type": "markdown",
   "metadata": {
    "id": "zQKF16_RG15m"
   },
   "source": [
    "Проверьте, что заменили неправильные названия:\n",
    "\n",
    "*   hip\n",
    "*   hop\n",
    "*   hip-hop\n",
    "\n",
    "Выведите отсортированный список уникальных значений столбца `genre`:"
   ]
  },
  {
   "cell_type": "code",
   "execution_count": 17,
   "metadata": {
    "id": "wvixALnFG15m"
   },
   "outputs": [
    {
     "data": {
      "text/plain": [
       "0              rock\n",
       "1              rock\n",
       "2               pop\n",
       "3              folk\n",
       "4             dance\n",
       "            ...    \n",
       "61248           rnb\n",
       "61249        hiphop\n",
       "61250    industrial\n",
       "61251          rock\n",
       "61252       country\n",
       "Name: genre, Length: 61253, dtype: object"
      ]
     },
     "metadata": {},
     "output_type": "display_data"
    }
   ],
   "source": [
    "# Проверка на неявные дубликаты\n",
    "display(df['genre']) # смотрим, что \"хип-хоп\" теперь написан в одном стиле, расхождения исключены"
   ]
  },
  {
   "cell_type": "markdown",
   "metadata": {
    "id": "jz6a9-7HQUDd"
   },
   "source": [
    "**Выводы**\n",
    "\n",
    "Предобработка обнаружила три проблемы в данных:\n",
    "\n",
    "- нарушения в стиле заголовков,\n",
    "- пропущенные значения,\n",
    "- дубликаты — явные и неявные.\n",
    "\n",
    "Вы исправили заголовки, чтобы упростить работу с таблицей. Без дубликатов исследование станет более точным.\n",
    "\n",
    "Пропущенные значения вы заменили на `'unknown'`. Ещё предстоит увидеть, не повредят ли исследованию пропуски в колонке `genre`.\n",
    "\n",
    "Теперь можно перейти к проверке гипотез. "
   ]
  },
  {
   "cell_type": "markdown",
   "metadata": {
    "id": "WttZHXH0SqKk"
   },
   "source": [
    "## Проверка гипотез"
   ]
  },
  {
   "cell_type": "markdown",
   "metadata": {
    "id": "Im936VVi_Zcu"
   },
   "source": [
    "### Сравнение поведения пользователей двух столиц"
   ]
  },
  {
   "cell_type": "markdown",
   "metadata": {
    "id": "nwt_MuaL_Zcu"
   },
   "source": [
    "Первая гипотеза утверждает, что пользователи по-разному слушают музыку в Москве и Санкт-Петербурге. Проверьте это предположение по данным о трёх днях недели — понедельнике, среде и пятнице. Для этого:\n",
    "\n",
    "* Разделите пользователей Москвы и Санкт-Петербурга\n",
    "* Сравните, сколько треков послушала каждая группа пользователей в понедельник, среду и пятницу.\n"
   ]
  },
  {
   "cell_type": "markdown",
   "metadata": {
    "id": "8Dw_YMmT_Zcu"
   },
   "source": [
    "Для тренировки сначала выполните каждый из расчётов по отдельности. \n",
    "\n",
    "Оцените активность пользователей в каждом городе. Сгруппируйте данные по городу и посчитайте прослушивания в каждой группе.\n",
    "\n"
   ]
  },
  {
   "cell_type": "code",
   "execution_count": 18,
   "metadata": {
    "id": "0_Qs96oh_Zcu"
   },
   "outputs": [
    {
     "data": {
      "text/plain": [
       "city\n",
       "Moscow              42741\n",
       "Saint-Petersburg    18512\n",
       "Name: user_id, dtype: int64"
      ]
     },
     "metadata": {},
     "output_type": "display_data"
    }
   ],
   "source": [
    "# Подсчёт прослушиваний в каждом городе\n",
    "number_of_auditions = df.groupby('city')['user_id'].count() # переменная number of auditions хранит данные о том, сколько было прослушиваний\n",
    "display(number_of_auditions) #вывод результатов группировки на экран"
   ]
  },
  {
   "cell_type": "markdown",
   "metadata": {
    "id": "dzli3w8o_Zcu"
   },
   "source": [
    "В Москве прослушиваний больше, чем в Петербурге. Из этого не следует, что московские пользователи чаще слушают музыку. Просто самих пользователей в Москве больше.\n",
    "\n",
    "Теперь сгруппируйте данные по дню недели и подсчитайте прослушивания в понедельник, среду и пятницу. Учтите, что в данных есть информация только о прослушиваниях только за эти дни.\n"
   ]
  },
  {
   "cell_type": "code",
   "execution_count": 19,
   "metadata": {
    "id": "uZMKjiJz_Zcu"
   },
   "outputs": [
    {
     "data": {
      "text/plain": [
       "day\n",
       "Friday       21840\n",
       "Monday       21354\n",
       "Wednesday    18059\n",
       "Name: user_id, dtype: int64"
      ]
     },
     "metadata": {},
     "output_type": "display_data"
    }
   ],
   "source": [
    "# Подсчёт прослушиваний в каждый из трёх дней\n",
    "number_of_auditions_different = df.groupby('day')['user_id'].count() #переменная number_of_auditions_different хранит разные показатели прослушиваний (для каждого из трех дней)\n",
    "display(number_of_auditions_different) "
   ]
  },
  {
   "cell_type": "markdown",
   "metadata": {
    "id": "cC2tNrlL_Zcu"
   },
   "source": [
    "В среднем пользователи из двух городов менее активны по средам. Но картина может измениться, если рассмотреть каждый город в отдельности."
   ]
  },
  {
   "cell_type": "markdown",
   "metadata": {
    "id": "POzs8bGa_Zcu"
   },
   "source": [
    "Вы видели, как работает группировка по городу и по дням недели. Теперь напишите функцию, которая объединит два эти расчёта.\n",
    "\n",
    "Создайте функцию `number_tracks()`, которая посчитает прослушивания для заданного дня и города. Ей понадобятся два параметра:\n",
    "* день недели,\n",
    "* название города.\n",
    "\n",
    "В функции сохраните в переменную строки исходной таблицы, у которых значение:\n",
    "  * в колонке `day` равно параметру `day`,\n",
    "  * в колонке `city` равно параметру `city`.\n",
    "\n",
    "Для этого примените последовательную фильтрацию с логической индексацией.\n",
    "\n",
    "Затем посчитайте значения в столбце `user_id` получившейся таблицы. Результат сохраните в новую переменную. Верните эту переменную из функции."
   ]
  },
  {
   "cell_type": "code",
   "execution_count": 20,
   "metadata": {
    "id": "Nz3GdQB1_Zcu"
   },
   "outputs": [
    {
     "data": {
      "text/plain": [
       "city\n",
       "Moscow    15740\n",
       "Name: user_id, dtype: int64"
      ]
     },
     "execution_count": 20,
     "metadata": {},
     "output_type": "execute_result"
    }
   ],
   "source": [
    "def number_tracks(day, city): #создаем функцию с двумя переменными\n",
    "    track_list = df[df['day'] == day] \n",
    "    track_list = track_list[track_list['city'] == city] #последовательная фильтрация\n",
    "    track_list_count = track_list.groupby('city')['user_id'].count() #производим группировку по городу и идентификатору пользователя\n",
    "    return track_list_count #\"возвращаем\" результат работы функции\n",
    "\n",
    "number_tracks('Monday','Moscow')\n",
    "\n",
    "# <создание функции number_tracks()>\n",
    "# Объявляется функция с двумя параметрами: day, city.\n",
    "# В переменной track_list сохраняются те строки таблицы df, для которых \n",
    "# значение в столбце 'day' равно параметру day и одновременно значение\n",
    "# в столбце 'city' равно параметру city (используйте последовательную фильтрацию\n",
    "# с помощью логической индексации).\n",
    "# В переменной track_list_count сохраняется число значений столбца 'user_id',\n",
    "# рассчитанное методом count() для таблицы track_list.\n",
    "# Функция возвращает число - значение track_list_count.\n",
    "\n",
    "# Функция для подсчёта прослушиваний для конкретного города и дня.\n",
    "# С помощью последовательной фильтрации с логической индексацией она \n",
    "# сначала получит из исходной таблицы строки с нужным днём,\n",
    "# затем из результата отфильтрует строки с нужным городом,\n",
    "# методом count() посчитает количество значений в колонке user_id. \n",
    "# Это количество функция вернёт в качестве результата"
   ]
  },
  {
   "cell_type": "markdown",
   "metadata": {
    "id": "ytf7xFrFJQ2r"
   },
   "source": [
    "Вызовите `number_tracks()` шесть раз, меняя значение параметров — так, чтобы получить данные для каждого города в каждый из трёх дней."
   ]
  },
  {
   "cell_type": "code",
   "execution_count": 21,
   "metadata": {
    "id": "rJcRATNQ_Zcu"
   },
   "outputs": [
    {
     "data": {
      "text/plain": [
       "city\n",
       "Moscow    15740\n",
       "Name: user_id, dtype: int64"
      ]
     },
     "execution_count": 21,
     "metadata": {},
     "output_type": "execute_result"
    }
   ],
   "source": [
    "# количество прослушиваний в Москве по понедельникам\n",
    "number_tracks('Monday','Moscow')"
   ]
  },
  {
   "cell_type": "code",
   "execution_count": 22,
   "metadata": {
    "id": "hq_ncZ5T_Zcu"
   },
   "outputs": [
    {
     "data": {
      "text/plain": [
       "city\n",
       "Saint-Petersburg    5614\n",
       "Name: user_id, dtype: int64"
      ]
     },
     "execution_count": 22,
     "metadata": {},
     "output_type": "execute_result"
    }
   ],
   "source": [
    "# количество прослушиваний в Санкт-Петербурге по понедельникам\n",
    "number_tracks('Monday','Saint-Petersburg')"
   ]
  },
  {
   "cell_type": "code",
   "execution_count": 23,
   "metadata": {
    "id": "_NTy2VPU_Zcu"
   },
   "outputs": [
    {
     "data": {
      "text/plain": [
       "city\n",
       "Moscow    11056\n",
       "Name: user_id, dtype: int64"
      ]
     },
     "execution_count": 23,
     "metadata": {},
     "output_type": "execute_result"
    }
   ],
   "source": [
    "# количество прослушиваний в Москве по средам\n",
    "number_tracks('Wednesday','Moscow')"
   ]
  },
  {
   "cell_type": "code",
   "execution_count": 24,
   "metadata": {
    "id": "j2y3TAwo_Zcu"
   },
   "outputs": [
    {
     "data": {
      "text/plain": [
       "city\n",
       "Saint-Petersburg    7003\n",
       "Name: user_id, dtype: int64"
      ]
     },
     "execution_count": 24,
     "metadata": {},
     "output_type": "execute_result"
    }
   ],
   "source": [
    "# количество прослушиваний в Санкт-Петербурге по средам\n",
    "number_tracks('Wednesday','Saint-Petersburg')"
   ]
  },
  {
   "cell_type": "code",
   "execution_count": 25,
   "metadata": {
    "id": "vYDw5u_K_Zcu"
   },
   "outputs": [
    {
     "data": {
      "text/plain": [
       "city\n",
       "Moscow    15945\n",
       "Name: user_id, dtype: int64"
      ]
     },
     "execution_count": 25,
     "metadata": {},
     "output_type": "execute_result"
    }
   ],
   "source": [
    "# количество прослушиваний в Москве по пятницам\n",
    "number_tracks('Friday','Moscow')"
   ]
  },
  {
   "cell_type": "code",
   "execution_count": 26,
   "metadata": {
    "id": "8_yzFtW3_Zcu"
   },
   "outputs": [
    {
     "data": {
      "text/plain": [
       "city\n",
       "Saint-Petersburg    5895\n",
       "Name: user_id, dtype: int64"
      ]
     },
     "execution_count": 26,
     "metadata": {},
     "output_type": "execute_result"
    }
   ],
   "source": [
    "# количество прослушиваний в Санкт-Петербурге по пятницам\n",
    "number_tracks('Friday','Saint-Petersburg')"
   ]
  },
  {
   "cell_type": "markdown",
   "metadata": {
    "id": "7QXffbO-_Zcu"
   },
   "source": [
    "Создайте c помощью конструктора `pd.DataFrame` таблицу, где\n",
    "* названия колонок — `['city', 'monday', 'wednesday', 'friday']`;\n",
    "* данные — результаты, которые вы получили с помощью `number_tracks`."
   ]
  },
  {
   "cell_type": "code",
   "execution_count": 27,
   "metadata": {
    "id": "APAcLpOr_Zcu"
   },
   "outputs": [
    {
     "data": {
      "text/html": [
       "<div>\n",
       "<style scoped>\n",
       "    .dataframe tbody tr th:only-of-type {\n",
       "        vertical-align: middle;\n",
       "    }\n",
       "\n",
       "    .dataframe tbody tr th {\n",
       "        vertical-align: top;\n",
       "    }\n",
       "\n",
       "    .dataframe thead th {\n",
       "        text-align: right;\n",
       "    }\n",
       "</style>\n",
       "<table border=\"1\" class=\"dataframe\">\n",
       "  <thead>\n",
       "    <tr style=\"text-align: right;\">\n",
       "      <th></th>\n",
       "      <th>city</th>\n",
       "      <th>monday</th>\n",
       "      <th>wednesday</th>\n",
       "      <th>friday</th>\n",
       "    </tr>\n",
       "  </thead>\n",
       "  <tbody>\n",
       "    <tr>\n",
       "      <th>0</th>\n",
       "      <td>Moscow</td>\n",
       "      <td>15740</td>\n",
       "      <td>11056</td>\n",
       "      <td>15945</td>\n",
       "    </tr>\n",
       "    <tr>\n",
       "      <th>1</th>\n",
       "      <td>Saint-Petersburg</td>\n",
       "      <td>7003</td>\n",
       "      <td>5895</td>\n",
       "      <td>5895</td>\n",
       "    </tr>\n",
       "  </tbody>\n",
       "</table>\n",
       "</div>"
      ],
      "text/plain": [
       "               city  monday  wednesday  friday\n",
       "0            Moscow   15740      11056   15945\n",
       "1  Saint-Petersburg    7003       5895    5895"
      ]
     },
     "metadata": {},
     "output_type": "display_data"
    }
   ],
   "source": [
    "# Таблица с результатами\n",
    "\n",
    "table = pd.DataFrame(data=[['Moscow', number_tracks('Monday', 'Moscow')[0], number_tracks('Wednesday', 'Moscow')[0], number_tracks('Friday', 'Moscow')[0]], ['Saint-Petersburg', number_tracks('Wednesday', 'Saint-Petersburg')[0], number_tracks('Friday', 'Saint-Petersburg')[0], number_tracks('Friday', 'Saint-Petersburg')[0]]], columns=['city', 'monday', 'wednesday', 'friday']) #table_result - переменная для сводной таблицы, в которую включено количество прослушиваний для каждого города\n",
    "display(table)\n"
   ]
  },
  {
   "cell_type": "markdown",
   "metadata": {
    "id": "-EgPIHYu_Zcu"
   },
   "source": [
    "**Выводы**\n",
    "\n",
    "Данные показывают разницу поведения пользователей:\n",
    "\n",
    "- В Москве пик прослушиваний приходится на понедельник и пятницу, а в среду заметен спад.\n",
    "- В Петербурге, наоборот, больше слушают музыку по средам. Активность в понедельник и пятницу здесь почти в равной мере уступает среде.\n",
    "\n",
    "Значит, данные говорят в пользу первой гипотезы."
   ]
  },
  {
   "cell_type": "markdown",
   "metadata": {
    "id": "atZAxtq4_Zcu"
   },
   "source": [
    "### Музыка в начале и в конце недели"
   ]
  },
  {
   "cell_type": "markdown",
   "metadata": {
    "id": "eXrQqXFH_Zcu"
   },
   "source": [
    "Согласно второй гипотезе, утром в понедельник в Москве преобладают одни жанры, а в Петербурге — другие. Так же и вечером пятницы преобладают разные жанры — в зависимости от города."
   ]
  },
  {
   "cell_type": "markdown",
   "metadata": {
    "id": "S8UcW6Hw_Zcu"
   },
   "source": [
    "Сохраните таблицы с данными в две переменные:\n",
    "* по Москве — в `moscow_general`;\n",
    "* по Санкт-Петербургу — в `spb_general`."
   ]
  },
  {
   "cell_type": "code",
   "execution_count": 28,
   "metadata": {
    "id": "qeaFfM_P_Zcu"
   },
   "outputs": [
    {
     "data": {
      "text/html": [
       "<div>\n",
       "<style scoped>\n",
       "    .dataframe tbody tr th:only-of-type {\n",
       "        vertical-align: middle;\n",
       "    }\n",
       "\n",
       "    .dataframe tbody tr th {\n",
       "        vertical-align: top;\n",
       "    }\n",
       "\n",
       "    .dataframe thead th {\n",
       "        text-align: right;\n",
       "    }\n",
       "</style>\n",
       "<table border=\"1\" class=\"dataframe\">\n",
       "  <thead>\n",
       "    <tr style=\"text-align: right;\">\n",
       "      <th></th>\n",
       "      <th>index</th>\n",
       "      <th>user_id</th>\n",
       "      <th>track</th>\n",
       "      <th>artist</th>\n",
       "      <th>genre</th>\n",
       "      <th>city</th>\n",
       "      <th>time</th>\n",
       "      <th>day</th>\n",
       "    </tr>\n",
       "  </thead>\n",
       "  <tbody>\n",
       "    <tr>\n",
       "      <th>7271</th>\n",
       "      <td>7316</td>\n",
       "      <td>DFA89266</td>\n",
       "      <td>Relax</td>\n",
       "      <td>unknown</td>\n",
       "      <td>electronic</td>\n",
       "      <td>Moscow</td>\n",
       "      <td>13:23:02</td>\n",
       "      <td>Friday</td>\n",
       "    </tr>\n",
       "    <tr>\n",
       "      <th>46974</th>\n",
       "      <td>49121</td>\n",
       "      <td>ACE20EBA</td>\n",
       "      <td>Escape</td>\n",
       "      <td>Sheridan Grout</td>\n",
       "      <td>dance</td>\n",
       "      <td>Moscow</td>\n",
       "      <td>09:59:31</td>\n",
       "      <td>Monday</td>\n",
       "    </tr>\n",
       "    <tr>\n",
       "      <th>16492</th>\n",
       "      <td>16746</td>\n",
       "      <td>B4F6034E</td>\n",
       "      <td>Concerning Hobbits</td>\n",
       "      <td>Lord of the Rings</td>\n",
       "      <td>film</td>\n",
       "      <td>Moscow</td>\n",
       "      <td>14:48:06</td>\n",
       "      <td>Monday</td>\n",
       "    </tr>\n",
       "    <tr>\n",
       "      <th>16749</th>\n",
       "      <td>17011</td>\n",
       "      <td>9A35ED9B</td>\n",
       "      <td>Happiness Happening</td>\n",
       "      <td>Lange ft. Tracey Carmen</td>\n",
       "      <td>unknown</td>\n",
       "      <td>Moscow</td>\n",
       "      <td>20:45:11</td>\n",
       "      <td>Monday</td>\n",
       "    </tr>\n",
       "    <tr>\n",
       "      <th>24682</th>\n",
       "      <td>25238</td>\n",
       "      <td>2427E257</td>\n",
       "      <td>Ice Cold</td>\n",
       "      <td>Aurosonic &amp; Vlad Zhukov</td>\n",
       "      <td>dance</td>\n",
       "      <td>Moscow</td>\n",
       "      <td>08:11:50</td>\n",
       "      <td>Monday</td>\n",
       "    </tr>\n",
       "    <tr>\n",
       "      <th>56366</th>\n",
       "      <td>59499</td>\n",
       "      <td>1BA3900F</td>\n",
       "      <td>Air from Suite No. 3 in D</td>\n",
       "      <td>London Philharmonic</td>\n",
       "      <td>classical</td>\n",
       "      <td>Moscow</td>\n",
       "      <td>08:52:22</td>\n",
       "      <td>Monday</td>\n",
       "    </tr>\n",
       "    <tr>\n",
       "      <th>7074</th>\n",
       "      <td>7118</td>\n",
       "      <td>E7E03B29</td>\n",
       "      <td>Ехали цыгане</td>\n",
       "      <td>Николай Сличенко</td>\n",
       "      <td>pop</td>\n",
       "      <td>Moscow</td>\n",
       "      <td>14:59:44</td>\n",
       "      <td>Wednesday</td>\n",
       "    </tr>\n",
       "    <tr>\n",
       "      <th>45847</th>\n",
       "      <td>47885</td>\n",
       "      <td>A1D71D2D</td>\n",
       "      <td>unknown</td>\n",
       "      <td>unknown</td>\n",
       "      <td>pop</td>\n",
       "      <td>Moscow</td>\n",
       "      <td>08:57:07</td>\n",
       "      <td>Monday</td>\n",
       "    </tr>\n",
       "    <tr>\n",
       "      <th>45233</th>\n",
       "      <td>47205</td>\n",
       "      <td>B19A627E</td>\n",
       "      <td>Piano Sonata No. 1 in C Major K. 279: I. Allegro</td>\n",
       "      <td>Glenn Gould</td>\n",
       "      <td>classical</td>\n",
       "      <td>Moscow</td>\n",
       "      <td>20:02:02</td>\n",
       "      <td>Friday</td>\n",
       "    </tr>\n",
       "    <tr>\n",
       "      <th>12217</th>\n",
       "      <td>12359</td>\n",
       "      <td>189AD00F</td>\n",
       "      <td>21st Century Heartbeat</td>\n",
       "      <td>Luke Sital-Singh</td>\n",
       "      <td>singer</td>\n",
       "      <td>Moscow</td>\n",
       "      <td>20:22:32</td>\n",
       "      <td>Friday</td>\n",
       "    </tr>\n",
       "  </tbody>\n",
       "</table>\n",
       "</div>"
      ],
      "text/plain": [
       "       index   user_id                                             track  \\\n",
       "7271    7316  DFA89266                                             Relax   \n",
       "46974  49121  ACE20EBA                                            Escape   \n",
       "16492  16746  B4F6034E                                Concerning Hobbits   \n",
       "16749  17011  9A35ED9B                               Happiness Happening   \n",
       "24682  25238  2427E257                                          Ice Cold   \n",
       "56366  59499  1BA3900F                         Air from Suite No. 3 in D   \n",
       "7074    7118  E7E03B29                                      Ехали цыгане   \n",
       "45847  47885  A1D71D2D                                           unknown   \n",
       "45233  47205  B19A627E  Piano Sonata No. 1 in C Major K. 279: I. Allegro   \n",
       "12217  12359  189AD00F                            21st Century Heartbeat   \n",
       "\n",
       "                        artist       genre    city      time        day  \n",
       "7271                   unknown  electronic  Moscow  13:23:02     Friday  \n",
       "46974           Sheridan Grout       dance  Moscow  09:59:31     Monday  \n",
       "16492        Lord of the Rings        film  Moscow  14:48:06     Monday  \n",
       "16749  Lange ft. Tracey Carmen     unknown  Moscow  20:45:11     Monday  \n",
       "24682  Aurosonic & Vlad Zhukov       dance  Moscow  08:11:50     Monday  \n",
       "56366      London Philharmonic   classical  Moscow  08:52:22     Monday  \n",
       "7074          Николай Сличенко         pop  Moscow  14:59:44  Wednesday  \n",
       "45847                  unknown         pop  Moscow  08:57:07     Monday  \n",
       "45233              Glenn Gould   classical  Moscow  20:02:02     Friday  \n",
       "12217         Luke Sital-Singh      singer  Moscow  20:22:32     Friday  "
      ]
     },
     "metadata": {},
     "output_type": "display_data"
    }
   ],
   "source": [
    "# получение таблицы moscow_general из тех строк таблицы df, \n",
    "# для которых значение в столбце 'city' равно 'Moscow'\n",
    "moscow_general = df[df['city'] == 'Moscow']\n",
    "display(moscow_general.sample(10))"
   ]
  },
  {
   "cell_type": "code",
   "execution_count": 29,
   "metadata": {
    "id": "ORaVRKto_Zcu"
   },
   "outputs": [
    {
     "data": {
      "text/html": [
       "<div>\n",
       "<style scoped>\n",
       "    .dataframe tbody tr th:only-of-type {\n",
       "        vertical-align: middle;\n",
       "    }\n",
       "\n",
       "    .dataframe tbody tr th {\n",
       "        vertical-align: top;\n",
       "    }\n",
       "\n",
       "    .dataframe thead th {\n",
       "        text-align: right;\n",
       "    }\n",
       "</style>\n",
       "<table border=\"1\" class=\"dataframe\">\n",
       "  <thead>\n",
       "    <tr style=\"text-align: right;\">\n",
       "      <th></th>\n",
       "      <th>index</th>\n",
       "      <th>user_id</th>\n",
       "      <th>track</th>\n",
       "      <th>artist</th>\n",
       "      <th>genre</th>\n",
       "      <th>city</th>\n",
       "      <th>time</th>\n",
       "      <th>day</th>\n",
       "    </tr>\n",
       "  </thead>\n",
       "  <tbody>\n",
       "    <tr>\n",
       "      <th>16265</th>\n",
       "      <td>16505</td>\n",
       "      <td>F7330352</td>\n",
       "      <td>Under My Skin</td>\n",
       "      <td>TAEMIN</td>\n",
       "      <td>pop</td>\n",
       "      <td>Saint-Petersburg</td>\n",
       "      <td>09:24:24</td>\n",
       "      <td>Wednesday</td>\n",
       "    </tr>\n",
       "    <tr>\n",
       "      <th>8640</th>\n",
       "      <td>8713</td>\n",
       "      <td>32C59875</td>\n",
       "      <td>Summoning Fear</td>\n",
       "      <td>Diocletian</td>\n",
       "      <td>rock</td>\n",
       "      <td>Saint-Petersburg</td>\n",
       "      <td>14:52:55</td>\n",
       "      <td>Wednesday</td>\n",
       "    </tr>\n",
       "    <tr>\n",
       "      <th>36995</th>\n",
       "      <td>38287</td>\n",
       "      <td>8D4F955F</td>\n",
       "      <td>Growling Swell</td>\n",
       "      <td>White Noise Meditation</td>\n",
       "      <td>ambient</td>\n",
       "      <td>Saint-Petersburg</td>\n",
       "      <td>14:56:01</td>\n",
       "      <td>Monday</td>\n",
       "    </tr>\n",
       "    <tr>\n",
       "      <th>16111</th>\n",
       "      <td>16345</td>\n",
       "      <td>3522FD2</td>\n",
       "      <td>New Myth</td>\n",
       "      <td>Lia Ices</td>\n",
       "      <td>folk</td>\n",
       "      <td>Saint-Petersburg</td>\n",
       "      <td>13:46:42</td>\n",
       "      <td>Monday</td>\n",
       "    </tr>\n",
       "    <tr>\n",
       "      <th>52929</th>\n",
       "      <td>55653</td>\n",
       "      <td>3158CBE9</td>\n",
       "      <td>Ice Cream</td>\n",
       "      <td>Captain Pete's Jazz Band</td>\n",
       "      <td>jazz</td>\n",
       "      <td>Saint-Petersburg</td>\n",
       "      <td>13:54:35</td>\n",
       "      <td>Wednesday</td>\n",
       "    </tr>\n",
       "    <tr>\n",
       "      <th>3488</th>\n",
       "      <td>3501</td>\n",
       "      <td>3E2B5AF0</td>\n",
       "      <td>Hopeful</td>\n",
       "      <td>v e g e t a b l e s</td>\n",
       "      <td>indie</td>\n",
       "      <td>Saint-Petersburg</td>\n",
       "      <td>08:58:18</td>\n",
       "      <td>Monday</td>\n",
       "    </tr>\n",
       "    <tr>\n",
       "      <th>10863</th>\n",
       "      <td>10976</td>\n",
       "      <td>690462F8</td>\n",
       "      <td>R U Mine</td>\n",
       "      <td>Rozes &amp; Stélouse</td>\n",
       "      <td>electronic</td>\n",
       "      <td>Saint-Petersburg</td>\n",
       "      <td>08:44:21</td>\n",
       "      <td>Wednesday</td>\n",
       "    </tr>\n",
       "    <tr>\n",
       "      <th>55672</th>\n",
       "      <td>58718</td>\n",
       "      <td>2678468C</td>\n",
       "      <td>unknown</td>\n",
       "      <td>unknown</td>\n",
       "      <td>latin</td>\n",
       "      <td>Saint-Petersburg</td>\n",
       "      <td>13:48:24</td>\n",
       "      <td>Monday</td>\n",
       "    </tr>\n",
       "    <tr>\n",
       "      <th>52498</th>\n",
       "      <td>55187</td>\n",
       "      <td>3CF5E419</td>\n",
       "      <td>Peace</td>\n",
       "      <td>unknown</td>\n",
       "      <td>dance</td>\n",
       "      <td>Saint-Petersburg</td>\n",
       "      <td>20:46:55</td>\n",
       "      <td>Monday</td>\n",
       "    </tr>\n",
       "    <tr>\n",
       "      <th>31926</th>\n",
       "      <td>32895</td>\n",
       "      <td>4E48BA34</td>\n",
       "      <td>Beowulf</td>\n",
       "      <td>Baba Brinkman</td>\n",
       "      <td>hiphop</td>\n",
       "      <td>Saint-Petersburg</td>\n",
       "      <td>20:59:52</td>\n",
       "      <td>Friday</td>\n",
       "    </tr>\n",
       "  </tbody>\n",
       "</table>\n",
       "</div>"
      ],
      "text/plain": [
       "       index   user_id           track                    artist       genre  \\\n",
       "16265  16505  F7330352   Under My Skin                    TAEMIN         pop   \n",
       "8640    8713  32C59875  Summoning Fear                Diocletian        rock   \n",
       "36995  38287  8D4F955F  Growling Swell    White Noise Meditation     ambient   \n",
       "16111  16345   3522FD2        New Myth                  Lia Ices        folk   \n",
       "52929  55653  3158CBE9       Ice Cream  Captain Pete's Jazz Band        jazz   \n",
       "3488    3501  3E2B5AF0         Hopeful       v e g e t a b l e s       indie   \n",
       "10863  10976  690462F8        R U Mine          Rozes & Stélouse  electronic   \n",
       "55672  58718  2678468C         unknown                   unknown       latin   \n",
       "52498  55187  3CF5E419           Peace                   unknown       dance   \n",
       "31926  32895  4E48BA34         Beowulf             Baba Brinkman      hiphop   \n",
       "\n",
       "                   city      time        day  \n",
       "16265  Saint-Petersburg  09:24:24  Wednesday  \n",
       "8640   Saint-Petersburg  14:52:55  Wednesday  \n",
       "36995  Saint-Petersburg  14:56:01     Monday  \n",
       "16111  Saint-Petersburg  13:46:42     Monday  \n",
       "52929  Saint-Petersburg  13:54:35  Wednesday  \n",
       "3488   Saint-Petersburg  08:58:18     Monday  \n",
       "10863  Saint-Petersburg  08:44:21  Wednesday  \n",
       "55672  Saint-Petersburg  13:48:24     Monday  \n",
       "52498  Saint-Petersburg  20:46:55     Monday  \n",
       "31926  Saint-Petersburg  20:59:52     Friday  "
      ]
     },
     "metadata": {},
     "output_type": "display_data"
    }
   ],
   "source": [
    "# получение таблицы spb_general из тех строк таблицы df,\n",
    "# для которых значение в столбце 'city' равно 'Saint-Petersburg'\n",
    "spb_general = df[df['city'] == 'Saint-Petersburg']\n",
    "display(spb_general.sample(10))"
   ]
  },
  {
   "cell_type": "markdown",
   "metadata": {
    "id": "MEJV-CX2_Zcu"
   },
   "source": [
    "Создайте функцию `genre_weekday()` с четырьмя параметрами:\n",
    "* таблица (датафрейм) с данными,\n",
    "* день недели,\n",
    "* начальная временная метка в формате 'hh:mm', \n",
    "* последняя временная метка в формате 'hh:mm'.\n",
    "\n",
    "Функция должна вернуть информацию о топ-10 жанров тех треков, которые прослушивали в указанный день, в промежутке между двумя отметками времени."
   ]
  },
  {
   "cell_type": "code",
   "execution_count": 30,
   "metadata": {
    "id": "laJT9BYl_Zcu"
   },
   "outputs": [],
   "source": [
    "# Объявление функции genre_weekday() с параметрами table, day, time1, time2,\n",
    "# которая возвращает информацию о самых популярных жанрах в указанный день в\n",
    "# заданное время:\n",
    "def genre_weekday(table, day, time1, time2): #объявление новой функции\n",
    "    genre_df = table[table['day'] == day] #значение в столбце day равно значению аргумента day\n",
    "    genre_df = genre_df[genre_df['time'] > time1] #применяем последовательную фильтрацию: сначала условие 1\n",
    "    genre_df = genre_df[genre_df['time'] < time2] #условие 2 соответственно\n",
    "    \n",
    "    genre_df_count = genre_df.groupby('genre')['user_id'].count() #в новую переменную записываем сгенерированный датафрейм с подсчетом количества записей для каждого жанра\n",
    "    \n",
    "    genre_df_sorted = genre_df_count.sort_values(ascending = False) #для сортировки вызываем метод sort_values. Поскольку нужно найти убываемость, а по умолчанию метод сортирует по возрастанию - указываем ему параметр ascending=False, т.е. обратную задачу\n",
    "    \n",
    "    return genre_df_sorted.head(10) # для того, чтобы увидеть топ-10 жанров, воспользуемся методом head, чтобы посмотреть только \"шапку\" таблицы\n",
    "# 1) в переменную genre_df сохраняются те строки переданного датафрейма table, для\n",
    "#    которых одновременно:\n",
    "#    - значение в столбце day равно значению аргумента day\n",
    "#    - значение в столбце time больше значения аргумента time1\n",
    "#    - значение в столбце time меньше значения аргумента time2\n",
    "#    Используйте последовательную фильтрацию с помощью логической индексации.\n",
    "# 2) сгруппировать датафрейм genre_df по столбцу genre, взять один из его\n",
    "#    столбцов и посчитать методом count() количество записей для каждого из\n",
    "#    присутствующих жанров, получившийся Series записать в переменную\n",
    "#    genre_df_count\n",
    "# 3) отсортировать genre_df_count по убыванию встречаемости и сохранить\n",
    "#    в переменную genre_df_sorted\n",
    "# 4) вернуть Series из 10 первых значений genre_df_sorted, это будут топ-10\n",
    "#    популярных жанров (в указанный день, в заданное время)"
   ]
  },
  {
   "cell_type": "markdown",
   "metadata": {
    "id": "la2s2_PF_Zcu"
   },
   "source": [
    "Cравните результаты функции `genre_weekday()` для Москвы и Санкт-Петербурга в понедельник утром (с 7:00 до 11:00) и в пятницу вечером (с 17:00 до 23:00):"
   ]
  },
  {
   "cell_type": "code",
   "execution_count": 31,
   "metadata": {
    "id": "yz7itPUQ_Zcu"
   },
   "outputs": [
    {
     "data": {
      "text/plain": [
       "genre\n",
       "pop            781\n",
       "dance          549\n",
       "electronic     480\n",
       "rock           474\n",
       "hiphop         286\n",
       "ruspop         186\n",
       "world          181\n",
       "rusrap         175\n",
       "alternative    164\n",
       "unknown        161\n",
       "Name: user_id, dtype: int64"
      ]
     },
     "execution_count": 31,
     "metadata": {},
     "output_type": "execute_result"
    }
   ],
   "source": [
    "# вызов функции для утра понедельника в Москве (вместо df — таблица moscow_general)\n",
    "# объекты, хранящие время, являются строками и сравниваются как строки\n",
    "# пример вызова: genre_weekday(moscow_general, 'Monday', '07:00', '11:00')\n",
    "genre_weekday(moscow_general, 'Monday', '07:00', '11:00')"
   ]
  },
  {
   "cell_type": "code",
   "execution_count": 32,
   "metadata": {
    "id": "kwUcHPdy_Zcu"
   },
   "outputs": [
    {
     "data": {
      "text/plain": [
       "genre\n",
       "pop            218\n",
       "dance          182\n",
       "rock           162\n",
       "electronic     147\n",
       "hiphop          80\n",
       "ruspop          64\n",
       "alternative     58\n",
       "rusrap          55\n",
       "jazz            44\n",
       "classical       40\n",
       "Name: user_id, dtype: int64"
      ]
     },
     "execution_count": 32,
     "metadata": {},
     "output_type": "execute_result"
    }
   ],
   "source": [
    "# вызов функции для утра понедельника в Петербурге (вместо df — таблица spb_general)\n",
    "genre_weekday(spb_general, 'Monday', '07:00', '11:00')"
   ]
  },
  {
   "cell_type": "code",
   "execution_count": 33,
   "metadata": {
    "id": "EzXVRE1o_Zcu"
   },
   "outputs": [
    {
     "data": {
      "text/plain": [
       "genre\n",
       "pop            713\n",
       "rock           517\n",
       "dance          495\n",
       "electronic     482\n",
       "hiphop         273\n",
       "world          208\n",
       "ruspop         170\n",
       "alternative    163\n",
       "classical      163\n",
       "rusrap         142\n",
       "Name: user_id, dtype: int64"
      ]
     },
     "execution_count": 33,
     "metadata": {},
     "output_type": "execute_result"
    }
   ],
   "source": [
    "# вызов функции для вечера пятницы в Москве\n",
    "genre_weekday(moscow_general, 'Friday', '17:00', '23:00')"
   ]
  },
  {
   "cell_type": "code",
   "execution_count": 34,
   "metadata": {
    "id": "JZaEKu5v_Zcu"
   },
   "outputs": [
    {
     "data": {
      "text/plain": [
       "genre\n",
       "pop            256\n",
       "electronic     216\n",
       "rock           216\n",
       "dance          210\n",
       "hiphop          97\n",
       "alternative     63\n",
       "jazz            61\n",
       "classical       60\n",
       "rusrap          59\n",
       "world           54\n",
       "Name: user_id, dtype: int64"
      ]
     },
     "execution_count": 34,
     "metadata": {},
     "output_type": "execute_result"
    }
   ],
   "source": [
    "# вызов функции для вечера пятницы в Петербурге\n",
    "genre_weekday(spb_general, 'Friday', '17:00', '23:00')"
   ]
  },
  {
   "cell_type": "markdown",
   "metadata": {
    "id": "wrCe4MNX_Zcu"
   },
   "source": [
    "**Выводы**\n",
    "\n",
    "Если сравнить топ-10 жанров в понедельник утром, можно сделать такие выводы:\n",
    "\n",
    "1. В Москве и Петербурге слушают похожую музыку. Единственное отличие — в московский рейтинг вошёл жанр “world”, а в петербургский — джаз и классика.\n",
    "\n",
    "2. В Москве пропущенных значений оказалось так много, что значение `'unknown'` заняло десятое место среди самых популярных жанров. Значит, пропущенные значения занимают существенную долю в данных и угрожают достоверности исследования.\n",
    "\n",
    "Вечер пятницы не меняет эту картину. Некоторые жанры поднимаются немного выше, другие спускаются, но в целом топ-10 остаётся тем же самым.\n",
    "\n",
    "Таким образом, вторая гипотеза подтвердилась лишь частично:\n",
    "* Пользователи слушают похожую музыку в начале недели и в конце.\n",
    "* Разница между Москвой и Петербургом не слишком выражена. В Москве чаще слушают русскую популярную музыку, в Петербурге — джаз.\n",
    "\n",
    "Однако пропуски в данных ставят под сомнение этот результат. В Москве их так много, что рейтинг топ-10 мог бы выглядеть иначе, если бы не утерянные  данные о жанрах."
   ]
  },
  {
   "cell_type": "markdown",
   "metadata": {
    "id": "JolODAqr_Zcu"
   },
   "source": [
    "### Жанровые предпочтения в Москве и Петербурге\n",
    "\n",
    "Гипотеза: Петербург — столица рэпа, музыку этого жанра там слушают чаще, чем в Москве.  А Москва — город контрастов, в котором, тем не менее, преобладает поп-музыка."
   ]
  },
  {
   "cell_type": "markdown",
   "metadata": {
    "id": "DlegSvaT_Zcu"
   },
   "source": [
    "Сгруппируйте таблицу `moscow_general` по жанру и посчитайте прослушивания треков каждого жанра методом `count()`. Затем отсортируйте результат в порядке убывания и сохраните его в таблице `moscow_genres`."
   ]
  },
  {
   "cell_type": "code",
   "execution_count": 35,
   "metadata": {
    "id": "r19lIPke_Zcu"
   },
   "outputs": [],
   "source": [
    "# одной строкой: группировка таблицы moscow_general по столбцу 'genre', \n",
    "# подсчёт числа значений 'genre' в этой группировке методом count(), \n",
    "# сортировка получившегося Series в порядке убывания и сохранение в moscow_genres\n",
    "moscow_genres = moscow_general.groupby('genre')['user_id'].count().sort_values(ascending = False)"
   ]
  },
  {
   "cell_type": "markdown",
   "metadata": {
    "id": "6kMuomxTiIr8"
   },
   "source": [
    "Выведите на экран первые десять строк `moscow_genres`:"
   ]
  },
  {
   "cell_type": "code",
   "execution_count": 36,
   "metadata": {
    "id": "WhCSooF8_Zcv"
   },
   "outputs": [
    {
     "data": {
      "text/plain": [
       "genre\n",
       "pop            5892\n",
       "dance          4435\n",
       "rock           3965\n",
       "electronic     3786\n",
       "hiphop         2096\n",
       "classical      1616\n",
       "world          1432\n",
       "alternative    1379\n",
       "ruspop         1372\n",
       "rusrap         1161\n",
       "Name: user_id, dtype: int64"
      ]
     },
     "metadata": {},
     "output_type": "display_data"
    }
   ],
   "source": [
    "# просмотр первых 10 строк moscow_genres\n",
    "display(moscow_genres.head(10))"
   ]
  },
  {
   "cell_type": "markdown",
   "metadata": {
    "id": "cnPG2vnN_Zcv"
   },
   "source": [
    "Теперь повторите то же и для Петербурга.\n",
    "\n",
    "Сгруппируйте таблицу `spb_general` по жанру. Посчитайте прослушивания треков каждого жанра. Результат отсортируйте в порядке убывания и сохраните в таблице `spb_genres`:\n"
   ]
  },
  {
   "cell_type": "code",
   "execution_count": 37,
   "metadata": {
    "id": "gluLIpE7_Zcv"
   },
   "outputs": [],
   "source": [
    "# одной строкой: группировка таблицы spb_general по столбцу 'genre', \n",
    "# подсчёт числа значений 'genre' в этой группировке методом count(), \n",
    "# сортировка получившегося Series в порядке убывания и сохранение в spb_genres\n",
    "spb_genres = spb_general.groupby('genre')['user_id'].count().sort_values(ascending = False) #по умолчанию sort_values = True, для сортировки в порядке убывания нужно указать False"
   ]
  },
  {
   "cell_type": "markdown",
   "metadata": {
    "id": "5Doha_ODgyQ8"
   },
   "source": [
    "Выведите на экран первые десять строк `spb_genres`:"
   ]
  },
  {
   "cell_type": "code",
   "execution_count": 38,
   "metadata": {
    "id": "uaGJHjVU_Zcv"
   },
   "outputs": [
    {
     "data": {
      "text/plain": [
       "genre\n",
       "pop            2431\n",
       "dance          1932\n",
       "rock           1879\n",
       "electronic     1736\n",
       "hiphop          960\n",
       "alternative     649\n",
       "classical       646\n",
       "rusrap          564\n",
       "ruspop          538\n",
       "world           515\n",
       "Name: user_id, dtype: int64"
      ]
     },
     "metadata": {},
     "output_type": "display_data"
    }
   ],
   "source": [
    "# просмотр первых 10 строк spb_genres\n",
    "display(spb_genres.head(10))"
   ]
  },
  {
   "cell_type": "markdown",
   "metadata": {
    "id": "RY51YJYu_Zcv"
   },
   "source": [
    "**Выводы**"
   ]
  },
  {
   "cell_type": "markdown",
   "metadata": {
    "id": "nVhnJEm__Zcv"
   },
   "source": [
    "Гипотеза частично подтвердилась:\n",
    "* Поп-музыка — самый популярный жанр в Москве, как и предполагала гипотеза. Более того, в топ-10 жанров встречается близкий жанр — русская популярная музыка.\n",
    "* Вопреки ожиданиям, рэп одинаково популярен в Москве и Петербурге. \n"
   ]
  },
  {
   "cell_type": "markdown",
   "metadata": {
    "id": "ykKQ0N65_Zcv"
   },
   "source": [
    "## Итоги исследования"
   ]
  },
  {
   "cell_type": "markdown",
   "metadata": {
    "id": "tjUwbHb3_Zcv"
   },
   "source": [
    "Вы проверили три гипотезы и установили:\n",
    "\n",
    "1. День недели по-разному влияет на активность пользователей в Москве и Петербурге. \n",
    "\n",
    "Первая гипотеза полностью подтвердилась.\n",
    "\n",
    "2. Музыкальные предпочтения не сильно меняются в течение недели — будь то Москва или Петербург. Небольшие различия заметны в начале недели, по понедельникам:\n",
    "* в Москве слушают музыку жанра “world”,\n",
    "* в Петербурге — джаз и классику.\n",
    "\n",
    "Таким образом, вторая гипотеза подтвердилась лишь отчасти. Этот результат мог оказаться иным, если бы не пропуски в данных.\n",
    "\n",
    "3. Во вкусах пользователей Москвы и Петербурга больше общего чем различий. Вопреки ожиданиям, предпочтения жанров в Петербурге напоминают московские.\n",
    "\n",
    "Третья гипотеза не подтвердилась. Если различия в предпочтениях и существуют, на основной массе пользователей они незаметны.\n",
    "\n",
    "**На практике исследования содержат проверки статистических гипотез.**\n",
    "Из данных одного сервиса не всегда можно сделать вывод о всех жителях города.\n",
    "Проверки статистических гипотез покажут, насколько они достоверны, исходя из имеющихся данных. \n",
    "С методами проверок гипотез вы ещё познакомитесь в следующих темах."
   ]
  }
 ],
 "metadata": {
  "ExecuteTimeLog": [
   {
    "duration": 775,
    "start_time": "2021-12-20T11:36:24.572Z"
   },
   {
    "duration": 4,
    "start_time": "2021-12-20T11:36:32.853Z"
   },
   {
    "duration": 113,
    "start_time": "2021-12-20T11:40:02.576Z"
   },
   {
    "duration": 217,
    "start_time": "2021-12-20T11:40:23.579Z"
   },
   {
    "duration": 29,
    "start_time": "2021-12-20T11:41:37.667Z"
   },
   {
    "duration": 7,
    "start_time": "2021-12-20T11:44:18.580Z"
   },
   {
    "duration": 32,
    "start_time": "2021-12-20T11:47:25.430Z"
   },
   {
    "duration": 113,
    "start_time": "2021-12-20T11:52:32.423Z"
   },
   {
    "duration": 19,
    "start_time": "2021-12-20T11:52:42.334Z"
   },
   {
    "duration": 401,
    "start_time": "2021-12-20T11:53:31.790Z"
   },
   {
    "duration": 30,
    "start_time": "2021-12-20T11:53:48.951Z"
   },
   {
    "duration": 30,
    "start_time": "2021-12-20T11:53:54.079Z"
   },
   {
    "duration": 26,
    "start_time": "2021-12-20T11:53:56.960Z"
   },
   {
    "duration": 24,
    "start_time": "2021-12-20T11:54:11.918Z"
   },
   {
    "duration": 18,
    "start_time": "2021-12-20T11:54:28.894Z"
   },
   {
    "duration": 19,
    "start_time": "2021-12-20T11:54:49.942Z"
   },
   {
    "duration": 18,
    "start_time": "2021-12-20T11:56:06.901Z"
   },
   {
    "duration": 528,
    "start_time": "2021-12-20T11:56:43.096Z"
   },
   {
    "duration": 452,
    "start_time": "2021-12-20T11:57:10.119Z"
   },
   {
    "duration": 303,
    "start_time": "2021-12-20T11:57:49.653Z"
   },
   {
    "duration": 751,
    "start_time": "2021-12-20T11:57:54.110Z"
   },
   {
    "duration": 206,
    "start_time": "2021-12-20T11:57:57.973Z"
   },
   {
    "duration": 27,
    "start_time": "2021-12-20T11:58:01.350Z"
   },
   {
    "duration": 7,
    "start_time": "2021-12-20T11:58:07.006Z"
   },
   {
    "duration": 33,
    "start_time": "2021-12-20T11:58:13.189Z"
   },
   {
    "duration": 30,
    "start_time": "2021-12-20T11:58:17.325Z"
   },
   {
    "duration": 20,
    "start_time": "2021-12-20T11:58:21.678Z"
   },
   {
    "duration": 29,
    "start_time": "2021-12-20T11:58:49.405Z"
   },
   {
    "duration": 20,
    "start_time": "2021-12-20T11:58:54.013Z"
   },
   {
    "duration": 34,
    "start_time": "2021-12-20T12:03:53.725Z"
   },
   {
    "duration": 23,
    "start_time": "2021-12-20T12:47:50.706Z"
   },
   {
    "duration": 31,
    "start_time": "2021-12-20T12:48:14.355Z"
   },
   {
    "duration": 86,
    "start_time": "2021-12-20T12:53:07.294Z"
   },
   {
    "duration": 102,
    "start_time": "2021-12-20T13:35:56.955Z"
   },
   {
    "duration": 91,
    "start_time": "2021-12-20T13:36:11.810Z"
   },
   {
    "duration": 9,
    "start_time": "2021-12-20T13:52:40.415Z"
   },
   {
    "duration": 4,
    "start_time": "2021-12-20T14:08:22.271Z"
   },
   {
    "duration": 5,
    "start_time": "2021-12-20T14:24:42.376Z"
   },
   {
    "duration": 25,
    "start_time": "2021-12-20T14:25:01.120Z"
   },
   {
    "duration": 8,
    "start_time": "2021-12-20T14:26:23.495Z"
   },
   {
    "duration": 4,
    "start_time": "2021-12-20T14:31:47.521Z"
   },
   {
    "duration": 30,
    "start_time": "2021-12-20T14:31:51.063Z"
   },
   {
    "duration": 813,
    "start_time": "2021-12-20T14:41:19.664Z"
   },
   {
    "duration": 5,
    "start_time": "2021-12-20T14:41:42.287Z"
   },
   {
    "duration": 4,
    "start_time": "2021-12-20T14:41:50.511Z"
   },
   {
    "duration": 432,
    "start_time": "2021-12-20T14:42:08.987Z"
   },
   {
    "duration": 807,
    "start_time": "2021-12-20T14:43:23.678Z"
   },
   {
    "duration": 390,
    "start_time": "2021-12-20T14:44:40.691Z"
   },
   {
    "duration": 5,
    "start_time": "2021-12-20T14:48:13.502Z"
   },
   {
    "duration": 685,
    "start_time": "2021-12-20T14:48:16.734Z"
   },
   {
    "duration": 927,
    "start_time": "2021-12-20T14:48:25.647Z"
   },
   {
    "duration": 203,
    "start_time": "2021-12-20T14:48:29.486Z"
   },
   {
    "duration": 30,
    "start_time": "2021-12-20T14:48:31.739Z"
   },
   {
    "duration": 8,
    "start_time": "2021-12-20T14:48:34.965Z"
   },
   {
    "duration": 33,
    "start_time": "2021-12-20T14:48:39.310Z"
   },
   {
    "duration": 44,
    "start_time": "2021-12-20T14:48:45.997Z"
   },
   {
    "duration": 21,
    "start_time": "2021-12-20T14:48:48.006Z"
   },
   {
    "duration": 35,
    "start_time": "2021-12-20T14:48:57.317Z"
   },
   {
    "duration": 27,
    "start_time": "2021-12-20T14:49:00.093Z"
   },
   {
    "duration": 31,
    "start_time": "2021-12-20T14:49:02.982Z"
   },
   {
    "duration": 96,
    "start_time": "2021-12-20T14:49:05.349Z"
   },
   {
    "duration": 114,
    "start_time": "2021-12-20T14:49:07.493Z"
   },
   {
    "duration": 99,
    "start_time": "2021-12-20T14:49:10.237Z"
   },
   {
    "duration": 10,
    "start_time": "2021-12-20T14:49:13.012Z"
   },
   {
    "duration": 5,
    "start_time": "2021-12-20T14:49:16.741Z"
   },
   {
    "duration": 15,
    "start_time": "2021-12-20T14:49:19.509Z"
   },
   {
    "duration": 7,
    "start_time": "2021-12-20T14:49:23.189Z"
   },
   {
    "duration": 14,
    "start_time": "2021-12-20T15:07:17.651Z"
   },
   {
    "duration": 17,
    "start_time": "2021-12-20T15:07:31.553Z"
   },
   {
    "duration": 138,
    "start_time": "2021-12-20T15:08:52.497Z"
   },
   {
    "duration": 18,
    "start_time": "2021-12-20T15:09:11.729Z"
   },
   {
    "duration": 355,
    "start_time": "2021-12-20T15:11:22.342Z"
   },
   {
    "duration": 331,
    "start_time": "2021-12-20T15:11:54.678Z"
   },
   {
    "duration": 32,
    "start_time": "2021-12-20T15:14:57.923Z"
   },
   {
    "duration": -790,
    "start_time": "2021-12-20T15:15:33.450Z"
   },
   {
    "duration": 32,
    "start_time": "2021-12-20T15:15:50.562Z"
   },
   {
    "duration": 33,
    "start_time": "2021-12-20T15:16:16.506Z"
   },
   {
    "duration": 9,
    "start_time": "2021-12-20T15:17:12.792Z"
   },
   {
    "duration": 33,
    "start_time": "2021-12-20T15:17:38.176Z"
   },
   {
    "duration": 34,
    "start_time": "2021-12-20T15:17:55.104Z"
   },
   {
    "duration": 8,
    "start_time": "2021-12-20T15:19:04.231Z"
   },
   {
    "duration": 52,
    "start_time": "2021-12-20T15:19:16.871Z"
   },
   {
    "duration": 21,
    "start_time": "2021-12-20T15:20:03.742Z"
   },
   {
    "duration": 16,
    "start_time": "2021-12-20T15:21:43.951Z"
   },
   {
    "duration": 17,
    "start_time": "2021-12-20T15:35:45.604Z"
   },
   {
    "duration": 33,
    "start_time": "2021-12-20T15:37:30.420Z"
   },
   {
    "duration": 30,
    "start_time": "2021-12-20T15:40:24.026Z"
   },
   {
    "duration": 39,
    "start_time": "2021-12-20T15:45:46.275Z"
   },
   {
    "duration": 43,
    "start_time": "2021-12-20T15:46:50.114Z"
   },
   {
    "duration": 33,
    "start_time": "2021-12-20T15:47:24.618Z"
   },
   {
    "duration": 25,
    "start_time": "2021-12-20T15:47:51.017Z"
   },
   {
    "duration": 36,
    "start_time": "2021-12-20T15:50:48.431Z"
   },
   {
    "duration": 25,
    "start_time": "2021-12-20T15:51:05.663Z"
   },
   {
    "duration": 30,
    "start_time": "2021-12-20T15:51:24.358Z"
   },
   {
    "duration": 27,
    "start_time": "2021-12-20T15:51:40.102Z"
   },
   {
    "duration": 235,
    "start_time": "2021-12-20T15:55:12.472Z"
   },
   {
    "duration": 566,
    "start_time": "2021-12-20T15:56:41.441Z"
   },
   {
    "duration": 475,
    "start_time": "2021-12-20T15:57:56.752Z"
   },
   {
    "duration": 4,
    "start_time": "2021-12-20T16:01:11.085Z"
   },
   {
    "duration": 35,
    "start_time": "2021-12-20T16:02:46.084Z"
   },
   {
    "duration": 34,
    "start_time": "2021-12-20T16:03:09.066Z"
   },
   {
    "duration": 46,
    "start_time": "2021-12-20T16:03:18.114Z"
   },
   {
    "duration": 51,
    "start_time": "2021-12-20T16:04:50.846Z"
   },
   {
    "duration": 420,
    "start_time": "2021-12-20T16:07:15.973Z"
   },
   {
    "duration": 325,
    "start_time": "2021-12-20T16:42:06.865Z"
   },
   {
    "duration": 333,
    "start_time": "2021-12-20T16:42:54.106Z"
   },
   {
    "duration": 477,
    "start_time": "2021-12-20T16:44:33.328Z"
   },
   {
    "duration": 793,
    "start_time": "2021-12-20T16:45:08.511Z"
   },
   {
    "duration": 346,
    "start_time": "2021-12-20T16:45:40.991Z"
   },
   {
    "duration": 368,
    "start_time": "2021-12-20T16:47:44.790Z"
   },
   {
    "duration": 113,
    "start_time": "2021-12-20T16:48:00.237Z"
   },
   {
    "duration": 314,
    "start_time": "2021-12-20T16:48:08.340Z"
   },
   {
    "duration": 324,
    "start_time": "2021-12-20T16:48:49.755Z"
   },
   {
    "duration": 374,
    "start_time": "2021-12-20T16:49:02.076Z"
   },
   {
    "duration": 304,
    "start_time": "2021-12-20T16:49:30.203Z"
   },
   {
    "duration": 360,
    "start_time": "2021-12-20T16:50:24.394Z"
   },
   {
    "duration": 9,
    "start_time": "2021-12-20T16:50:52.898Z"
   },
   {
    "duration": 7,
    "start_time": "2021-12-20T16:50:59.215Z"
   },
   {
    "duration": 14,
    "start_time": "2021-12-20T16:51:14.113Z"
   },
   {
    "duration": 17,
    "start_time": "2021-12-20T16:58:20.744Z"
   },
   {
    "duration": 38,
    "start_time": "2021-12-20T16:58:30.386Z"
   },
   {
    "duration": 54,
    "start_time": "2021-12-20T16:59:05.840Z"
   },
   {
    "duration": 28,
    "start_time": "2021-12-20T17:00:00.393Z"
   },
   {
    "duration": 14,
    "start_time": "2021-12-20T17:01:59.190Z"
   },
   {
    "duration": 6,
    "start_time": "2021-12-20T17:20:01.690Z"
   },
   {
    "duration": 30,
    "start_time": "2021-12-20T17:20:47.924Z"
   },
   {
    "duration": 21,
    "start_time": "2021-12-20T17:27:12.773Z"
   },
   {
    "duration": 26,
    "start_time": "2021-12-20T17:28:05.284Z"
   },
   {
    "duration": 20,
    "start_time": "2021-12-20T17:28:29.373Z"
   },
   {
    "duration": 15,
    "start_time": "2021-12-20T17:32:15.376Z"
   },
   {
    "duration": 7,
    "start_time": "2021-12-20T17:32:42.655Z"
   },
   {
    "duration": 369,
    "start_time": "2021-12-20T17:33:23.320Z"
   },
   {
    "duration": 362,
    "start_time": "2021-12-20T17:33:31.198Z"
   },
   {
    "duration": 11,
    "start_time": "2021-12-20T17:33:43.549Z"
   },
   {
    "duration": 7,
    "start_time": "2021-12-20T17:33:54.005Z"
   },
   {
    "duration": 79,
    "start_time": "2021-12-21T10:02:26.233Z"
   },
   {
    "duration": 70,
    "start_time": "2021-12-21T10:02:50.290Z"
   },
   {
    "duration": 245,
    "start_time": "2021-12-21T10:07:47.430Z"
   },
   {
    "duration": 321,
    "start_time": "2021-12-21T10:07:55.774Z"
   },
   {
    "duration": 216,
    "start_time": "2021-12-21T10:08:21.064Z"
   },
   {
    "duration": 311,
    "start_time": "2021-12-21T10:08:36.189Z"
   },
   {
    "duration": 607,
    "start_time": "2021-12-21T10:08:40.159Z"
   },
   {
    "duration": 164,
    "start_time": "2021-12-21T10:08:43.983Z"
   },
   {
    "duration": 20,
    "start_time": "2021-12-21T10:08:46.087Z"
   },
   {
    "duration": 8,
    "start_time": "2021-12-21T10:08:52.751Z"
   },
   {
    "duration": 4,
    "start_time": "2021-12-21T10:35:47.473Z"
   },
   {
    "duration": 8,
    "start_time": "2021-12-21T10:37:07.346Z"
   },
   {
    "duration": 26,
    "start_time": "2021-12-21T10:42:38.212Z"
   },
   {
    "duration": 209,
    "start_time": "2021-12-21T10:42:50.811Z"
   },
   {
    "duration": 5,
    "start_time": "2021-12-21T10:42:55.749Z"
   },
   {
    "duration": 21,
    "start_time": "2021-12-21T11:06:03.503Z"
   },
   {
    "duration": 13,
    "start_time": "2021-12-21T11:06:07.174Z"
   },
   {
    "duration": 25,
    "start_time": "2021-12-21T11:06:10.830Z"
   },
   {
    "duration": 19,
    "start_time": "2021-12-21T11:06:14.479Z"
   },
   {
    "duration": 27,
    "start_time": "2021-12-21T11:06:16.796Z"
   },
   {
    "duration": 67,
    "start_time": "2021-12-21T11:06:19.333Z"
   },
   {
    "duration": 84,
    "start_time": "2021-12-21T11:06:21.277Z"
   },
   {
    "duration": 60,
    "start_time": "2021-12-21T11:06:23.861Z"
   },
   {
    "duration": 63,
    "start_time": "2021-12-21T11:20:57.486Z"
   },
   {
    "duration": 59,
    "start_time": "2021-12-21T11:21:11.235Z"
   },
   {
    "duration": 60,
    "start_time": "2021-12-21T11:22:00.513Z"
   },
   {
    "duration": 90,
    "start_time": "2021-12-21T11:24:15.725Z"
   },
   {
    "duration": 222,
    "start_time": "2021-12-21T11:24:51.358Z"
   },
   {
    "duration": 350,
    "start_time": "2021-12-21T11:25:04.674Z"
   },
   {
    "duration": 290,
    "start_time": "2021-12-21T11:27:18.103Z"
   },
   {
    "duration": 204,
    "start_time": "2021-12-21T11:27:38.775Z"
   },
   {
    "duration": 10,
    "start_time": "2021-12-21T11:28:45.438Z"
   },
   {
    "duration": 64,
    "start_time": "2021-12-21T11:30:43.404Z"
   },
   {
    "duration": 64,
    "start_time": "2021-12-21T11:30:48.164Z"
   },
   {
    "duration": 97,
    "start_time": "2021-12-21T11:33:35.136Z"
   },
   {
    "duration": 64,
    "start_time": "2021-12-21T11:34:46.751Z"
   },
   {
    "duration": 64,
    "start_time": "2021-12-21T11:35:09.686Z"
   },
   {
    "duration": 84,
    "start_time": "2021-12-21T11:35:21.043Z"
   },
   {
    "duration": 63,
    "start_time": "2021-12-21T11:36:13.318Z"
   },
   {
    "duration": 56,
    "start_time": "2021-12-21T11:36:25.038Z"
   },
   {
    "duration": 360,
    "start_time": "2021-12-21T11:38:31.283Z"
   },
   {
    "duration": 74,
    "start_time": "2021-12-21T11:39:49.202Z"
   },
   {
    "duration": 62,
    "start_time": "2021-12-21T11:39:56.194Z"
   },
   {
    "duration": 102,
    "start_time": "2021-12-21T11:40:22.027Z"
   },
   {
    "duration": 60,
    "start_time": "2021-12-21T11:40:34.722Z"
   },
   {
    "duration": 65,
    "start_time": "2021-12-21T11:41:05.601Z"
   },
   {
    "duration": 7,
    "start_time": "2021-12-21T11:44:17.878Z"
   },
   {
    "duration": 201,
    "start_time": "2021-12-21T11:44:47.453Z"
   },
   {
    "duration": 275,
    "start_time": "2021-12-21T11:44:56.636Z"
   },
   {
    "duration": 44,
    "start_time": "2021-12-21T11:45:34.188Z"
   },
   {
    "duration": 44,
    "start_time": "2021-12-21T11:46:09.922Z"
   },
   {
    "duration": 6,
    "start_time": "2021-12-21T11:47:08.467Z"
   },
   {
    "duration": 44,
    "start_time": "2021-12-21T11:47:27.875Z"
   },
   {
    "duration": 48,
    "start_time": "2021-12-21T11:48:17.074Z"
   },
   {
    "duration": 45,
    "start_time": "2021-12-21T11:48:33.554Z"
   },
   {
    "duration": 220,
    "start_time": "2021-12-21T11:48:58.321Z"
   },
   {
    "duration": 72,
    "start_time": "2021-12-21T11:49:48.608Z"
   },
   {
    "duration": 8,
    "start_time": "2021-12-21T11:49:53.951Z"
   },
   {
    "duration": 45,
    "start_time": "2021-12-21T11:52:05.526Z"
   },
   {
    "duration": 44,
    "start_time": "2021-12-21T11:52:46.189Z"
   },
   {
    "duration": 44,
    "start_time": "2021-12-21T11:52:49.773Z"
   },
   {
    "duration": 47,
    "start_time": "2021-12-21T11:52:58.493Z"
   },
   {
    "duration": 53,
    "start_time": "2021-12-21T11:54:07.493Z"
   },
   {
    "duration": 50,
    "start_time": "2021-12-21T11:54:37.732Z"
   },
   {
    "duration": 45,
    "start_time": "2021-12-21T11:54:47.252Z"
   },
   {
    "duration": 45,
    "start_time": "2021-12-21T11:54:51.892Z"
   },
   {
    "duration": 45,
    "start_time": "2021-12-21T11:56:30.394Z"
   },
   {
    "duration": 3,
    "start_time": "2021-12-21T12:01:12.421Z"
   },
   {
    "duration": 10,
    "start_time": "2021-12-21T12:01:14.965Z"
   },
   {
    "duration": 6,
    "start_time": "2021-12-21T12:02:23.627Z"
   },
   {
    "duration": 15,
    "start_time": "2021-12-21T12:02:27.211Z"
   },
   {
    "duration": 13,
    "start_time": "2021-12-21T12:02:29.947Z"
   },
   {
    "duration": 26,
    "start_time": "2021-12-21T12:02:33.581Z"
   },
   {
    "duration": 22,
    "start_time": "2021-12-21T12:02:40.923Z"
   },
   {
    "duration": 19,
    "start_time": "2021-12-21T12:02:43.884Z"
   },
   {
    "duration": 29,
    "start_time": "2021-12-21T12:02:47.251Z"
   },
   {
    "duration": 22,
    "start_time": "2021-12-21T12:02:50.787Z"
   },
   {
    "duration": 23,
    "start_time": "2021-12-21T12:02:53.763Z"
   },
   {
    "duration": 19,
    "start_time": "2021-12-21T12:02:56.866Z"
   },
   {
    "duration": 290,
    "start_time": "2021-12-21T12:05:07.584Z"
   },
   {
    "duration": 104,
    "start_time": "2021-12-21T12:05:17.552Z"
   },
   {
    "duration": 156,
    "start_time": "2021-12-21T12:05:46.771Z"
   },
   {
    "duration": 161,
    "start_time": "2021-12-21T12:06:06.707Z"
   },
   {
    "duration": 79,
    "start_time": "2021-12-21T12:06:38.112Z"
   },
   {
    "duration": 214,
    "start_time": "2021-12-21T12:07:04.671Z"
   },
   {
    "duration": 441,
    "start_time": "2021-12-21T12:07:08.503Z"
   },
   {
    "duration": 23,
    "start_time": "2021-12-21T12:07:16.247Z"
   },
   {
    "duration": 95,
    "start_time": "2021-12-21T12:07:45.767Z"
   },
   {
    "duration": 221,
    "start_time": "2021-12-21T12:08:24.406Z"
   },
   {
    "duration": 20,
    "start_time": "2021-12-21T12:09:02.501Z"
   },
   {
    "duration": 19,
    "start_time": "2021-12-21T12:09:06.829Z"
   },
   {
    "duration": 85,
    "start_time": "2021-12-21T12:09:19.919Z"
   },
   {
    "duration": 21,
    "start_time": "2021-12-21T12:10:02.972Z"
   },
   {
    "duration": 80,
    "start_time": "2021-12-21T12:10:48.624Z"
   },
   {
    "duration": 78,
    "start_time": "2021-12-21T12:17:44.849Z"
   },
   {
    "duration": 244,
    "start_time": "2021-12-21T12:18:55.460Z"
   },
   {
    "duration": 8,
    "start_time": "2021-12-21T12:24:10.997Z"
   },
   {
    "duration": 27,
    "start_time": "2021-12-21T12:24:57.185Z"
   },
   {
    "duration": 23,
    "start_time": "2021-12-21T12:25:01.332Z"
   },
   {
    "duration": 4,
    "start_time": "2021-12-21T12:25:06.716Z"
   },
   {
    "duration": 19,
    "start_time": "2021-12-21T12:25:21.762Z"
   },
   {
    "duration": 14,
    "start_time": "2021-12-21T12:25:24.730Z"
   },
   {
    "duration": 17,
    "start_time": "2021-12-21T12:25:34.170Z"
   },
   {
    "duration": 11,
    "start_time": "2021-12-21T12:25:38.219Z"
   },
   {
    "duration": 8,
    "start_time": "2021-12-21T12:25:52.011Z"
   },
   {
    "duration": 4,
    "start_time": "2021-12-21T12:25:54.530Z"
   },
   {
    "duration": 7,
    "start_time": "2021-12-21T12:26:00.682Z"
   },
   {
    "duration": 6,
    "start_time": "2021-12-21T12:26:04.651Z"
   },
   {
    "duration": 79,
    "start_time": "2021-12-21T13:07:51.462Z"
   },
   {
    "duration": 74,
    "start_time": "2021-12-21T13:15:05.488Z"
   },
   {
    "duration": 24,
    "start_time": "2021-12-21T13:15:10.177Z"
   },
   {
    "duration": 22,
    "start_time": "2021-12-21T13:15:18.264Z"
   },
   {
    "duration": 4,
    "start_time": "2021-12-21T13:15:20.968Z"
   },
   {
    "duration": 20,
    "start_time": "2021-12-21T13:15:23.984Z"
   },
   {
    "duration": 17,
    "start_time": "2021-12-21T13:15:25.383Z"
   },
   {
    "duration": 9,
    "start_time": "2021-12-21T13:15:28.913Z"
   },
   {
    "duration": 5,
    "start_time": "2021-12-21T13:15:29.943Z"
   },
   {
    "duration": 8,
    "start_time": "2021-12-21T13:15:33.064Z"
   },
   {
    "duration": 5,
    "start_time": "2021-12-21T13:15:34.198Z"
   },
   {
    "duration": 372,
    "start_time": "2022-06-26T08:12:27.858Z"
   },
   {
    "duration": 237,
    "start_time": "2022-06-26T08:12:28.232Z"
   },
   {
    "duration": 17,
    "start_time": "2022-06-26T08:12:28.471Z"
   },
   {
    "duration": 21,
    "start_time": "2022-06-26T08:12:28.490Z"
   },
   {
    "duration": 18,
    "start_time": "2022-06-26T08:12:28.513Z"
   },
   {
    "duration": 22,
    "start_time": "2022-06-26T08:12:28.533Z"
   },
   {
    "duration": 17,
    "start_time": "2022-06-26T08:12:28.557Z"
   },
   {
    "duration": 33,
    "start_time": "2022-06-26T08:12:28.576Z"
   },
   {
    "duration": 22,
    "start_time": "2022-06-26T08:12:28.610Z"
   },
   {
    "duration": 27,
    "start_time": "2022-06-26T08:12:28.634Z"
   },
   {
    "duration": 82,
    "start_time": "2022-06-26T08:12:28.663Z"
   },
   {
    "duration": 85,
    "start_time": "2022-06-26T08:12:28.747Z"
   },
   {
    "duration": 63,
    "start_time": "2022-06-26T08:12:28.833Z"
   },
   {
    "duration": 57,
    "start_time": "2022-06-26T08:12:28.902Z"
   },
   {
    "duration": 12,
    "start_time": "2022-06-26T08:12:28.961Z"
   },
   {
    "duration": 27,
    "start_time": "2022-06-26T08:12:28.975Z"
   },
   {
    "duration": 10,
    "start_time": "2022-06-26T08:12:29.004Z"
   },
   {
    "duration": 20,
    "start_time": "2022-06-26T08:12:29.016Z"
   },
   {
    "duration": 21,
    "start_time": "2022-06-26T08:12:29.037Z"
   },
   {
    "duration": 27,
    "start_time": "2022-06-26T08:12:29.060Z"
   },
   {
    "duration": 25,
    "start_time": "2022-06-26T08:12:29.088Z"
   },
   {
    "duration": 26,
    "start_time": "2022-06-26T08:12:29.115Z"
   },
   {
    "duration": 16,
    "start_time": "2022-06-26T08:12:29.143Z"
   },
   {
    "duration": 16,
    "start_time": "2022-06-26T08:12:29.161Z"
   },
   {
    "duration": 17,
    "start_time": "2022-06-26T08:12:29.179Z"
   },
   {
    "duration": 44,
    "start_time": "2022-06-26T08:12:29.197Z"
   },
   {
    "duration": 85,
    "start_time": "2022-06-26T08:12:29.242Z"
   },
   {
    "duration": 22,
    "start_time": "2022-06-26T08:12:29.329Z"
   },
   {
    "duration": 19,
    "start_time": "2022-06-26T08:12:29.353Z"
   },
   {
    "duration": 11,
    "start_time": "2022-06-26T08:12:29.374Z"
   },
   {
    "duration": 43,
    "start_time": "2022-06-26T08:12:29.386Z"
   },
   {
    "duration": 11,
    "start_time": "2022-06-26T08:12:29.431Z"
   },
   {
    "duration": 17,
    "start_time": "2022-06-26T08:12:29.444Z"
   },
   {
    "duration": 12,
    "start_time": "2022-06-26T08:12:29.463Z"
   },
   {
    "duration": 15,
    "start_time": "2022-06-26T08:12:29.477Z"
   },
   {
    "duration": 7,
    "start_time": "2022-06-26T08:12:29.493Z"
   },
   {
    "duration": 7,
    "start_time": "2022-06-26T08:12:29.526Z"
   },
   {
    "duration": 17,
    "start_time": "2022-06-26T08:12:29.535Z"
   },
   {
    "duration": 29,
    "start_time": "2022-06-26T08:14:20.465Z"
   },
   {
    "duration": 11,
    "start_time": "2022-06-26T08:16:25.440Z"
   },
   {
    "duration": 13,
    "start_time": "2022-06-26T08:16:31.335Z"
   },
   {
    "duration": 67,
    "start_time": "2022-06-26T08:18:37.461Z"
   },
   {
    "duration": 39,
    "start_time": "2022-06-26T08:19:00.692Z"
   },
   {
    "duration": 45,
    "start_time": "2022-06-26T08:19:14.717Z"
   },
   {
    "duration": 27,
    "start_time": "2022-06-26T08:22:31.513Z"
   },
   {
    "duration": 25,
    "start_time": "2022-06-26T08:22:45.466Z"
   },
   {
    "duration": 378,
    "start_time": "2022-06-26T08:25:20.755Z"
   },
   {
    "duration": 170,
    "start_time": "2022-06-26T08:25:21.135Z"
   },
   {
    "duration": 17,
    "start_time": "2022-06-26T08:25:21.306Z"
   },
   {
    "duration": 33,
    "start_time": "2022-06-26T08:25:21.324Z"
   },
   {
    "duration": 4,
    "start_time": "2022-06-26T08:25:21.359Z"
   },
   {
    "duration": 21,
    "start_time": "2022-06-26T08:25:21.364Z"
   },
   {
    "duration": 15,
    "start_time": "2022-06-26T08:25:21.386Z"
   },
   {
    "duration": 40,
    "start_time": "2022-06-26T08:25:21.402Z"
   },
   {
    "duration": 25,
    "start_time": "2022-06-26T08:25:21.444Z"
   },
   {
    "duration": 28,
    "start_time": "2022-06-26T08:25:21.471Z"
   },
   {
    "duration": 90,
    "start_time": "2022-06-26T08:25:21.501Z"
   },
   {
    "duration": 85,
    "start_time": "2022-06-26T08:25:21.592Z"
   },
   {
    "duration": 65,
    "start_time": "2022-06-26T08:25:21.679Z"
   },
   {
    "duration": 38,
    "start_time": "2022-06-26T08:25:21.746Z"
   },
   {
    "duration": 3,
    "start_time": "2022-06-26T08:25:21.786Z"
   },
   {
    "duration": 13,
    "start_time": "2022-06-26T08:25:21.790Z"
   },
   {
    "duration": 22,
    "start_time": "2022-06-26T08:25:21.805Z"
   },
   {
    "duration": 17,
    "start_time": "2022-06-26T08:25:21.829Z"
   },
   {
    "duration": 14,
    "start_time": "2022-06-26T08:25:21.847Z"
   },
   {
    "duration": 20,
    "start_time": "2022-06-26T08:25:21.863Z"
   },
   {
    "duration": 17,
    "start_time": "2022-06-26T08:25:21.885Z"
   },
   {
    "duration": 32,
    "start_time": "2022-06-26T08:25:21.904Z"
   },
   {
    "duration": 15,
    "start_time": "2022-06-26T08:25:21.938Z"
   },
   {
    "duration": 15,
    "start_time": "2022-06-26T08:25:21.955Z"
   },
   {
    "duration": 20,
    "start_time": "2022-06-26T08:25:21.972Z"
   },
   {
    "duration": 48,
    "start_time": "2022-06-26T08:25:21.993Z"
   },
   {
    "duration": 93,
    "start_time": "2022-06-26T08:25:22.043Z"
   },
   {
    "duration": 20,
    "start_time": "2022-06-26T08:25:22.138Z"
   },
   {
    "duration": 18,
    "start_time": "2022-06-26T08:25:22.160Z"
   },
   {
    "duration": 6,
    "start_time": "2022-06-26T08:25:22.180Z"
   },
   {
    "duration": 45,
    "start_time": "2022-06-26T08:25:22.187Z"
   },
   {
    "duration": 13,
    "start_time": "2022-06-26T08:25:22.233Z"
   },
   {
    "duration": 20,
    "start_time": "2022-06-26T08:25:22.247Z"
   },
   {
    "duration": 13,
    "start_time": "2022-06-26T08:25:22.268Z"
   },
   {
    "duration": 12,
    "start_time": "2022-06-26T08:25:22.282Z"
   },
   {
    "duration": 32,
    "start_time": "2022-06-26T08:25:22.295Z"
   },
   {
    "duration": 21,
    "start_time": "2022-06-26T08:25:22.329Z"
   },
   {
    "duration": 10,
    "start_time": "2022-06-26T08:25:22.351Z"
   },
   {
    "duration": 476,
    "start_time": "2022-07-09T07:38:49.218Z"
   },
   {
    "duration": 281,
    "start_time": "2022-07-09T07:38:49.696Z"
   },
   {
    "duration": 19,
    "start_time": "2022-07-09T07:38:49.979Z"
   },
   {
    "duration": 54,
    "start_time": "2022-07-09T07:38:50.000Z"
   },
   {
    "duration": 6,
    "start_time": "2022-07-09T07:38:50.056Z"
   },
   {
    "duration": 21,
    "start_time": "2022-07-09T07:38:50.064Z"
   },
   {
    "duration": 16,
    "start_time": "2022-07-09T07:38:50.087Z"
   },
   {
    "duration": 66,
    "start_time": "2022-07-09T07:38:50.106Z"
   },
   {
    "duration": 32,
    "start_time": "2022-07-09T07:38:50.175Z"
   },
   {
    "duration": 71,
    "start_time": "2022-07-09T07:38:50.212Z"
   },
   {
    "duration": 108,
    "start_time": "2022-07-09T07:38:50.295Z"
   },
   {
    "duration": 122,
    "start_time": "2022-07-09T07:38:50.405Z"
   },
   {
    "duration": 80,
    "start_time": "2022-07-09T07:38:50.529Z"
   },
   {
    "duration": 60,
    "start_time": "2022-07-09T07:38:50.611Z"
   },
   {
    "duration": 3,
    "start_time": "2022-07-09T07:38:50.673Z"
   },
   {
    "duration": 17,
    "start_time": "2022-07-09T07:38:50.678Z"
   },
   {
    "duration": 13,
    "start_time": "2022-07-09T07:38:50.697Z"
   },
   {
    "duration": 19,
    "start_time": "2022-07-09T07:38:50.712Z"
   },
   {
    "duration": 22,
    "start_time": "2022-07-09T07:38:50.746Z"
   },
   {
    "duration": 22,
    "start_time": "2022-07-09T07:38:50.770Z"
   },
   {
    "duration": 20,
    "start_time": "2022-07-09T07:38:50.794Z"
   },
   {
    "duration": 53,
    "start_time": "2022-07-09T07:38:50.815Z"
   },
   {
    "duration": 23,
    "start_time": "2022-07-09T07:38:50.871Z"
   },
   {
    "duration": 49,
    "start_time": "2022-07-09T07:38:50.897Z"
   },
   {
    "duration": 30,
    "start_time": "2022-07-09T07:38:50.948Z"
   },
   {
    "duration": 27,
    "start_time": "2022-07-09T07:38:50.981Z"
   },
   {
    "duration": 155,
    "start_time": "2022-07-09T07:38:51.010Z"
   },
   {
    "duration": 26,
    "start_time": "2022-07-09T07:38:51.172Z"
   },
   {
    "duration": 22,
    "start_time": "2022-07-09T07:38:51.200Z"
   },
   {
    "duration": 25,
    "start_time": "2022-07-09T07:38:51.225Z"
   },
   {
    "duration": 45,
    "start_time": "2022-07-09T07:38:51.253Z"
   },
   {
    "duration": 23,
    "start_time": "2022-07-09T07:38:51.300Z"
   },
   {
    "duration": 42,
    "start_time": "2022-07-09T07:38:51.324Z"
   },
   {
    "duration": 17,
    "start_time": "2022-07-09T07:38:51.368Z"
   },
   {
    "duration": 14,
    "start_time": "2022-07-09T07:38:51.388Z"
   },
   {
    "duration": 8,
    "start_time": "2022-07-09T07:38:51.405Z"
   },
   {
    "duration": 40,
    "start_time": "2022-07-09T07:38:51.416Z"
   },
   {
    "duration": 7,
    "start_time": "2022-07-09T07:38:51.459Z"
   }
  ],
  "colab": {
   "collapsed_sections": [
    "E0vqbgi9ay0H",
    "VUC88oWjTJw2"
   ],
   "name": "yandex_music_project_2021.2.ipynb",
   "provenance": []
  },
  "kernelspec": {
   "display_name": "Python 3 (ipykernel)",
   "language": "python",
   "name": "python3"
  },
  "language_info": {
   "codemirror_mode": {
    "name": "ipython",
    "version": 3
   },
   "file_extension": ".py",
   "mimetype": "text/x-python",
   "name": "python",
   "nbconvert_exporter": "python",
   "pygments_lexer": "ipython3",
   "version": "3.9.5"
  },
  "toc": {
   "base_numbering": 1,
   "nav_menu": {},
   "number_sections": true,
   "sideBar": true,
   "skip_h1_title": true,
   "title_cell": "Table of Contents",
   "title_sidebar": "Contents",
   "toc_cell": false,
   "toc_position": {},
   "toc_section_display": true,
   "toc_window_display": true
  }
 },
 "nbformat": 4,
 "nbformat_minor": 1
}
