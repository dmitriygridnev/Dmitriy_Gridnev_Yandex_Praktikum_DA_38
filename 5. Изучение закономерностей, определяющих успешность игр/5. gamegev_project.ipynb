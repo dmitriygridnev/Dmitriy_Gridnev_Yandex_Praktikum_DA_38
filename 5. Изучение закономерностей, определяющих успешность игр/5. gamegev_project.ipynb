{
 "cells": [
  {
   "cell_type": "markdown",
   "metadata": {},
   "source": [
    "# Шаг 1. Цели исследования и ознакомление с датасетом"
   ]
  },
  {
   "cell_type": "markdown",
   "metadata": {},
   "source": [
    "## 1.1. Знакомство с данными"
   ]
  },
  {
   "cell_type": "markdown",
   "metadata": {},
   "source": [
    "**Примерный план:**\n",
    "- описать цель исследования и ожидаемый результат\n",
    "- добавить легенду (описание данных)\n",
    "- изучить каждый датасет\n",
    "- определить проблемы с данными (пропуски, ошибочные значения, неверные типы данных)"
   ]
  },
  {
   "cell_type": "markdown",
   "metadata": {},
   "source": [
    "**Наименование исследования: \"Прогнозирование востребованности игровых платформ и их продуктов для интернет-магазина \"Стримчик\" в 2017 году**"
   ]
  },
  {
   "cell_type": "markdown",
   "metadata": {},
   "source": [
    "- **Цель исследования:** с помощью имеющихся данных предоставить рекомендацию интернет-магазину \"Стримчик\", на какие продукты индустрии игр следует обратить внимание в 2017 году (какие платформы будут востребованы и какие жанры наиболее нравятся геймерам).\n",
    "\n",
    "- **Задачи исследования:** изучить \"историю\" развития индустрии игровых продуктов, затем выявить наиболее актуальный временной интервал для прогноза. Также, в ходе исследования необходимо установить, как долго платформы (и продукты к ним, соответственно) востребованы на рынке, способны ли оценки влиять на экономический \"выхлоп\" игр, понять, какие жанры нравятся геймерам и составить \"портреты\" потребителя по 4-м крупным сегментам рынка."
   ]
  },
  {
   "cell_type": "markdown",
   "metadata": {},
   "source": [
    "**Аннотация:** исследование будет произведено на основании данных открытого датасета, в котором описаны продажи игр на различных платформах с 1980 года."
   ]
  },
  {
   "cell_type": "markdown",
   "metadata": {},
   "source": [
    "**Ожидаемый результат исследования:** предоставление обоснованной рекомендации интернет-магазину \"Стримчик\", сделаной на основании выявленных зависимостей, наблюдений и проверки гипотез"
   ]
  },
  {
   "cell_type": "markdown",
   "metadata": {},
   "source": [
    "**Описание данных:**\n",
    "- Name — название игры\n",
    "- Platform — платформа\n",
    "- Year_of_Release — год выпуска\n",
    "- Genre — жанр игры\n",
    "- NA_sales — продажи в Северной Америке (миллионы проданных копий)\n",
    "- EU_sales — продажи в Европе (миллионы проданных копий)\n",
    "- JP_sales — продажи в Японии (миллионы проданных копий)\n",
    "- Other_sales — продажи в других странах (миллионы проданных копий)\n",
    "- Critic_Score — оценка критиков (максимум 100)\n",
    "- User_Score — оценка пользователей (максимум 10)\n",
    "- Rating — рейтинг от организации ESRB (англ. Entertainment Software Rating Board). Эта ассоциация определяет рейтинг компьютерных игр и присваивает им подходящую возрастную категорию."
   ]
  },
  {
   "cell_type": "code",
   "execution_count": 1,
   "metadata": {},
   "outputs": [],
   "source": [
    "import pandas as pd\n",
    "import matplotlib.pyplot as plt\n",
    "import numpy as np\n",
    "from scipy import stats as st\n",
    "import seaborn as sns\n",
    "import warnings\n",
    "warnings.filterwarnings('ignore')"
   ]
  },
  {
   "cell_type": "code",
   "execution_count": 2,
   "metadata": {},
   "outputs": [
    {
     "data": {
      "text/html": [
       "<div>\n",
       "<style scoped>\n",
       "    .dataframe tbody tr th:only-of-type {\n",
       "        vertical-align: middle;\n",
       "    }\n",
       "\n",
       "    .dataframe tbody tr th {\n",
       "        vertical-align: top;\n",
       "    }\n",
       "\n",
       "    .dataframe thead th {\n",
       "        text-align: right;\n",
       "    }\n",
       "</style>\n",
       "<table border=\"1\" class=\"dataframe\">\n",
       "  <thead>\n",
       "    <tr style=\"text-align: right;\">\n",
       "      <th></th>\n",
       "      <th>Name</th>\n",
       "      <th>Platform</th>\n",
       "      <th>Year_of_Release</th>\n",
       "      <th>Genre</th>\n",
       "      <th>NA_sales</th>\n",
       "      <th>EU_sales</th>\n",
       "      <th>JP_sales</th>\n",
       "      <th>Other_sales</th>\n",
       "      <th>Critic_Score</th>\n",
       "      <th>User_Score</th>\n",
       "      <th>Rating</th>\n",
       "    </tr>\n",
       "  </thead>\n",
       "  <tbody>\n",
       "    <tr>\n",
       "      <th>0</th>\n",
       "      <td>Wii Sports</td>\n",
       "      <td>Wii</td>\n",
       "      <td>2006.0</td>\n",
       "      <td>Sports</td>\n",
       "      <td>41.36</td>\n",
       "      <td>28.96</td>\n",
       "      <td>3.77</td>\n",
       "      <td>8.45</td>\n",
       "      <td>76.0</td>\n",
       "      <td>8</td>\n",
       "      <td>E</td>\n",
       "    </tr>\n",
       "    <tr>\n",
       "      <th>1</th>\n",
       "      <td>Super Mario Bros.</td>\n",
       "      <td>NES</td>\n",
       "      <td>1985.0</td>\n",
       "      <td>Platform</td>\n",
       "      <td>29.08</td>\n",
       "      <td>3.58</td>\n",
       "      <td>6.81</td>\n",
       "      <td>0.77</td>\n",
       "      <td>NaN</td>\n",
       "      <td>NaN</td>\n",
       "      <td>NaN</td>\n",
       "    </tr>\n",
       "    <tr>\n",
       "      <th>2</th>\n",
       "      <td>Mario Kart Wii</td>\n",
       "      <td>Wii</td>\n",
       "      <td>2008.0</td>\n",
       "      <td>Racing</td>\n",
       "      <td>15.68</td>\n",
       "      <td>12.76</td>\n",
       "      <td>3.79</td>\n",
       "      <td>3.29</td>\n",
       "      <td>82.0</td>\n",
       "      <td>8.3</td>\n",
       "      <td>E</td>\n",
       "    </tr>\n",
       "    <tr>\n",
       "      <th>3</th>\n",
       "      <td>Wii Sports Resort</td>\n",
       "      <td>Wii</td>\n",
       "      <td>2009.0</td>\n",
       "      <td>Sports</td>\n",
       "      <td>15.61</td>\n",
       "      <td>10.93</td>\n",
       "      <td>3.28</td>\n",
       "      <td>2.95</td>\n",
       "      <td>80.0</td>\n",
       "      <td>8</td>\n",
       "      <td>E</td>\n",
       "    </tr>\n",
       "    <tr>\n",
       "      <th>4</th>\n",
       "      <td>Pokemon Red/Pokemon Blue</td>\n",
       "      <td>GB</td>\n",
       "      <td>1996.0</td>\n",
       "      <td>Role-Playing</td>\n",
       "      <td>11.27</td>\n",
       "      <td>8.89</td>\n",
       "      <td>10.22</td>\n",
       "      <td>1.00</td>\n",
       "      <td>NaN</td>\n",
       "      <td>NaN</td>\n",
       "      <td>NaN</td>\n",
       "    </tr>\n",
       "    <tr>\n",
       "      <th>5</th>\n",
       "      <td>Tetris</td>\n",
       "      <td>GB</td>\n",
       "      <td>1989.0</td>\n",
       "      <td>Puzzle</td>\n",
       "      <td>23.20</td>\n",
       "      <td>2.26</td>\n",
       "      <td>4.22</td>\n",
       "      <td>0.58</td>\n",
       "      <td>NaN</td>\n",
       "      <td>NaN</td>\n",
       "      <td>NaN</td>\n",
       "    </tr>\n",
       "    <tr>\n",
       "      <th>6</th>\n",
       "      <td>New Super Mario Bros.</td>\n",
       "      <td>DS</td>\n",
       "      <td>2006.0</td>\n",
       "      <td>Platform</td>\n",
       "      <td>11.28</td>\n",
       "      <td>9.14</td>\n",
       "      <td>6.50</td>\n",
       "      <td>2.88</td>\n",
       "      <td>89.0</td>\n",
       "      <td>8.5</td>\n",
       "      <td>E</td>\n",
       "    </tr>\n",
       "    <tr>\n",
       "      <th>7</th>\n",
       "      <td>Wii Play</td>\n",
       "      <td>Wii</td>\n",
       "      <td>2006.0</td>\n",
       "      <td>Misc</td>\n",
       "      <td>13.96</td>\n",
       "      <td>9.18</td>\n",
       "      <td>2.93</td>\n",
       "      <td>2.84</td>\n",
       "      <td>58.0</td>\n",
       "      <td>6.6</td>\n",
       "      <td>E</td>\n",
       "    </tr>\n",
       "    <tr>\n",
       "      <th>8</th>\n",
       "      <td>New Super Mario Bros. Wii</td>\n",
       "      <td>Wii</td>\n",
       "      <td>2009.0</td>\n",
       "      <td>Platform</td>\n",
       "      <td>14.44</td>\n",
       "      <td>6.94</td>\n",
       "      <td>4.70</td>\n",
       "      <td>2.24</td>\n",
       "      <td>87.0</td>\n",
       "      <td>8.4</td>\n",
       "      <td>E</td>\n",
       "    </tr>\n",
       "    <tr>\n",
       "      <th>9</th>\n",
       "      <td>Duck Hunt</td>\n",
       "      <td>NES</td>\n",
       "      <td>1984.0</td>\n",
       "      <td>Shooter</td>\n",
       "      <td>26.93</td>\n",
       "      <td>0.63</td>\n",
       "      <td>0.28</td>\n",
       "      <td>0.47</td>\n",
       "      <td>NaN</td>\n",
       "      <td>NaN</td>\n",
       "      <td>NaN</td>\n",
       "    </tr>\n",
       "  </tbody>\n",
       "</table>\n",
       "</div>"
      ],
      "text/plain": [
       "                        Name Platform  Year_of_Release         Genre  \\\n",
       "0                 Wii Sports      Wii           2006.0        Sports   \n",
       "1          Super Mario Bros.      NES           1985.0      Platform   \n",
       "2             Mario Kart Wii      Wii           2008.0        Racing   \n",
       "3          Wii Sports Resort      Wii           2009.0        Sports   \n",
       "4   Pokemon Red/Pokemon Blue       GB           1996.0  Role-Playing   \n",
       "5                     Tetris       GB           1989.0        Puzzle   \n",
       "6      New Super Mario Bros.       DS           2006.0      Platform   \n",
       "7                   Wii Play      Wii           2006.0          Misc   \n",
       "8  New Super Mario Bros. Wii      Wii           2009.0      Platform   \n",
       "9                  Duck Hunt      NES           1984.0       Shooter   \n",
       "\n",
       "   NA_sales  EU_sales  JP_sales  Other_sales  Critic_Score User_Score Rating  \n",
       "0     41.36     28.96      3.77         8.45          76.0          8      E  \n",
       "1     29.08      3.58      6.81         0.77           NaN        NaN    NaN  \n",
       "2     15.68     12.76      3.79         3.29          82.0        8.3      E  \n",
       "3     15.61     10.93      3.28         2.95          80.0          8      E  \n",
       "4     11.27      8.89     10.22         1.00           NaN        NaN    NaN  \n",
       "5     23.20      2.26      4.22         0.58           NaN        NaN    NaN  \n",
       "6     11.28      9.14      6.50         2.88          89.0        8.5      E  \n",
       "7     13.96      9.18      2.93         2.84          58.0        6.6      E  \n",
       "8     14.44      6.94      4.70         2.24          87.0        8.4      E  \n",
       "9     26.93      0.63      0.28         0.47           NaN        NaN    NaN  "
      ]
     },
     "execution_count": 2,
     "metadata": {},
     "output_type": "execute_result"
    }
   ],
   "source": [
    "data = pd.read_csv('/datasets/games.csv')\n",
    "data.head(10)"
   ]
  },
  {
   "cell_type": "code",
   "execution_count": 3,
   "metadata": {},
   "outputs": [
    {
     "name": "stdout",
     "output_type": "stream",
     "text": [
      "<class 'pandas.core.frame.DataFrame'>\n",
      "RangeIndex: 16715 entries, 0 to 16714\n",
      "Data columns (total 11 columns):\n",
      " #   Column           Non-Null Count  Dtype  \n",
      "---  ------           --------------  -----  \n",
      " 0   Name             16713 non-null  object \n",
      " 1   Platform         16715 non-null  object \n",
      " 2   Year_of_Release  16446 non-null  float64\n",
      " 3   Genre            16713 non-null  object \n",
      " 4   NA_sales         16715 non-null  float64\n",
      " 5   EU_sales         16715 non-null  float64\n",
      " 6   JP_sales         16715 non-null  float64\n",
      " 7   Other_sales      16715 non-null  float64\n",
      " 8   Critic_Score     8137 non-null   float64\n",
      " 9   User_Score       10014 non-null  object \n",
      " 10  Rating           9949 non-null   object \n",
      "dtypes: float64(6), object(5)\n",
      "memory usage: 1.4+ MB\n"
     ]
    }
   ],
   "source": [
    "data.info()"
   ]
  },
  {
   "cell_type": "code",
   "execution_count": 4,
   "metadata": {},
   "outputs": [
    {
     "data": {
      "text/plain": [
       "Critic_Score       8578\n",
       "Rating             6766\n",
       "User_Score         6701\n",
       "Year_of_Release     269\n",
       "Name                  2\n",
       "Genre                 2\n",
       "Platform              0\n",
       "NA_sales              0\n",
       "EU_sales              0\n",
       "JP_sales              0\n",
       "Other_sales           0\n",
       "dtype: int64"
      ]
     },
     "execution_count": 4,
     "metadata": {},
     "output_type": "execute_result"
    }
   ],
   "source": [
    "data.isna().sum().sort_values(ascending = False) # проверим, какое количество пропусков имеется"
   ]
  },
  {
   "cell_type": "code",
   "execution_count": 5,
   "metadata": {},
   "outputs": [
    {
     "data": {
      "text/plain": [
       "0"
      ]
     },
     "execution_count": 5,
     "metadata": {},
     "output_type": "execute_result"
    }
   ],
   "source": [
    "data.duplicated().sum() #проверим наличие явных дубликатов"
   ]
  },
  {
   "cell_type": "markdown",
   "metadata": {},
   "source": [
    "## 1.2. Вывод"
   ]
  },
  {
   "cell_type": "markdown",
   "metadata": {},
   "source": [
    "- наименования всех столбцов начинаются с заглавной буквы, что считается \"дурным тоном\"\n",
    "- некорректный тип данных в столбце Year_of_Release, нет необходимости в дробной части, целесообразнее перевести в int\n",
    "- User_Score лучше перевести во float, как правило, оценки содержат 2 знака после запятой\n",
    "- имеется большое количество пропусков (выведены чуть выше) "
   ]
  },
  {
   "cell_type": "markdown",
   "metadata": {},
   "source": [
    "# Шаг 2. Предобработка данных"
   ]
  },
  {
   "cell_type": "markdown",
   "metadata": {},
   "source": [
    "## 2.1. Работа по улучшению качества данных"
   ]
  },
  {
   "cell_type": "markdown",
   "metadata": {},
   "source": [
    "**Примерный план выполнения шага:**\n",
    "- Перевести наименование всех столбцов к \"змеиному регистру\"\n",
    "- Исправить тип данных, согласно выводам из первого шага\n",
    "- Посмотреть процент пропусков в тех столбцах, где они есть\n",
    "- Удалить пропуски, которые не исказят суть исследования\n",
    "- Осуществить замену пропусков там, где это возможно и не будет заведомо недостоверным значением\n",
    "- Посчитать суммарное количество проданных игр по всем рассматриваемым сегментам рынка"
   ]
  },
  {
   "cell_type": "markdown",
   "metadata": {},
   "source": [
    "**Приведем столбцы к нижнему регистру:**"
   ]
  },
  {
   "cell_type": "code",
   "execution_count": 6,
   "metadata": {},
   "outputs": [
    {
     "data": {
      "text/plain": [
       "['name',\n",
       " 'platform',\n",
       " 'year_of_release',\n",
       " 'genre',\n",
       " 'na_sales',\n",
       " 'eu_sales',\n",
       " 'jp_sales',\n",
       " 'other_sales',\n",
       " 'critic_score',\n",
       " 'user_score',\n",
       " 'rating']"
      ]
     },
     "metadata": {},
     "output_type": "display_data"
    }
   ],
   "source": [
    "data.columns = data.columns.str.lower()\n",
    "display(data.columns.tolist())"
   ]
  },
  {
   "cell_type": "markdown",
   "metadata": {},
   "source": [
    "**Посмотрим количество пропущенных значений:**"
   ]
  },
  {
   "cell_type": "code",
   "execution_count": 7,
   "metadata": {},
   "outputs": [
    {
     "name": "stdout",
     "output_type": "stream",
     "text": [
      "Процент пропущенных значений в столбце critic_score: 51.3\n",
      "\n",
      "Процент пропущенных значений в столбце rating: 40.5\n",
      "\n",
      "Процент пропущенных значений в столбце rating: 40.1\n",
      "\n",
      "Процент пропущенных значений в столбце year_of_release: 1.6\n"
     ]
    }
   ],
   "source": [
    "print('Процент пропущенных значений в столбце critic_score:', (data['critic_score'].isna().sum()/len(data['critic_score']) * 100).round(1))\n",
    "print()\n",
    "print('Процент пропущенных значений в столбце rating:', (data['rating'].isna().sum()/len(data['rating']) * 100).round(1))\n",
    "print()\n",
    "print('Процент пропущенных значений в столбце rating:', (data['user_score'].isna().sum()/len(data['user_score']) * 100).round(1))\n",
    "print()\n",
    "print('Процент пропущенных значений в столбце year_of_release:', (data['year_of_release'].isna().sum()/len(data['year_of_release']) * 100).round(1))"
   ]
  },
  {
   "cell_type": "markdown",
   "metadata": {},
   "source": [
    "Процент пропущенных значений в столбце year_of_release позволяет нам пренебречь этими значениями, тем более, что найти год выхода мы можем разве что в интернете, не получится заменить его с помощью значений других столбцов. Среднее/медиана тут тоже не помогут."
   ]
  },
  {
   "cell_type": "code",
   "execution_count": 8,
   "metadata": {},
   "outputs": [],
   "source": [
    "data.dropna(subset = ['year_of_release'],inplace = True)\n",
    "data['year_of_release'] = data['year_of_release'].astype('int')"
   ]
  },
  {
   "cell_type": "markdown",
   "metadata": {},
   "source": [
    "В расчете процента пропущенных значений я не выводил пропуски в жанре и имени, очевидно, что процент крайне мал. Посмотрим, что за строки содержат в себе пропуск с помощью query."
   ]
  },
  {
   "cell_type": "code",
   "execution_count": 9,
   "metadata": {},
   "outputs": [
    {
     "data": {
      "text/html": [
       "<div>\n",
       "<style scoped>\n",
       "    .dataframe tbody tr th:only-of-type {\n",
       "        vertical-align: middle;\n",
       "    }\n",
       "\n",
       "    .dataframe tbody tr th {\n",
       "        vertical-align: top;\n",
       "    }\n",
       "\n",
       "    .dataframe thead th {\n",
       "        text-align: right;\n",
       "    }\n",
       "</style>\n",
       "<table border=\"1\" class=\"dataframe\">\n",
       "  <thead>\n",
       "    <tr style=\"text-align: right;\">\n",
       "      <th></th>\n",
       "      <th>name</th>\n",
       "      <th>platform</th>\n",
       "      <th>year_of_release</th>\n",
       "      <th>genre</th>\n",
       "      <th>na_sales</th>\n",
       "      <th>eu_sales</th>\n",
       "      <th>jp_sales</th>\n",
       "      <th>other_sales</th>\n",
       "      <th>critic_score</th>\n",
       "      <th>user_score</th>\n",
       "      <th>rating</th>\n",
       "    </tr>\n",
       "  </thead>\n",
       "  <tbody>\n",
       "    <tr>\n",
       "      <th>659</th>\n",
       "      <td>NaN</td>\n",
       "      <td>GEN</td>\n",
       "      <td>1993</td>\n",
       "      <td>NaN</td>\n",
       "      <td>1.78</td>\n",
       "      <td>0.53</td>\n",
       "      <td>0.00</td>\n",
       "      <td>0.08</td>\n",
       "      <td>NaN</td>\n",
       "      <td>NaN</td>\n",
       "      <td>NaN</td>\n",
       "    </tr>\n",
       "    <tr>\n",
       "      <th>14244</th>\n",
       "      <td>NaN</td>\n",
       "      <td>GEN</td>\n",
       "      <td>1993</td>\n",
       "      <td>NaN</td>\n",
       "      <td>0.00</td>\n",
       "      <td>0.00</td>\n",
       "      <td>0.03</td>\n",
       "      <td>0.00</td>\n",
       "      <td>NaN</td>\n",
       "      <td>NaN</td>\n",
       "      <td>NaN</td>\n",
       "    </tr>\n",
       "  </tbody>\n",
       "</table>\n",
       "</div>"
      ],
      "text/plain": [
       "      name platform  year_of_release genre  na_sales  eu_sales  jp_sales  \\\n",
       "659    NaN      GEN             1993   NaN      1.78      0.53      0.00   \n",
       "14244  NaN      GEN             1993   NaN      0.00      0.00      0.03   \n",
       "\n",
       "       other_sales  critic_score user_score rating  \n",
       "659           0.08           NaN        NaN    NaN  \n",
       "14244         0.00           NaN        NaN    NaN  "
      ]
     },
     "metadata": {},
     "output_type": "display_data"
    }
   ],
   "source": [
    "display(data.query('name.isna()'))"
   ]
  },
  {
   "cell_type": "markdown",
   "metadata": {},
   "source": [
    "Удивительно, но в этих же самых строках оказался и пропуск в genre. Обе строки не повлияют на общую картину, а пропусков тут больше, чем полезной информации. Стоит и от них избавиться."
   ]
  },
  {
   "cell_type": "code",
   "execution_count": 10,
   "metadata": {},
   "outputs": [],
   "source": [
    "data.dropna(subset = ['name'],inplace = True)"
   ]
  },
  {
   "cell_type": "markdown",
   "metadata": {},
   "source": [
    "В столбце с пользовательской оценкой приличное количество значений tbd. Поиск по интернету приводит к следующему сокращению этой аббревиатуры: To Be Determined, то есть \"Будет определено\". Видимо, было опрошено слишком малое количество геймеров для формирования корректной оценки. В данном случае, это сокращение = пропуску, т.к. мы не можем с ним работать. Поэтому, с помощью to_numeric, переведем тип в числовой, а tbd станет пропуском."
   ]
  },
  {
   "cell_type": "code",
   "execution_count": 11,
   "metadata": {},
   "outputs": [],
   "source": [
    "data['user_score'] = pd.to_numeric(data['user_score'], errors='coerce')\n",
    "data['user_score'] = data['user_score'].astype('float64')"
   ]
  },
  {
   "cell_type": "markdown",
   "metadata": {},
   "source": [
    "С пропусками в оценках (что геймеров, что критиков) ситуация более сложная, т.к. их нельзя заменить медианным значением по жанру, году выхода, и.т.п. Суть рейтинга в том, что это индивидуальный показатель. Игра могла как выстрелить, так и провалиться, любое усреднение не даст корректной оценки по каждой игре. Что касается рейтинга - явно имеем дело с расчетной характеристикой - где был пропущен хотя бы один показатель оценки (геймера или критика) - имеем пропуск. Заменим его на unk (unknown), чтобы улучшить восприятие датасета."
   ]
  },
  {
   "cell_type": "code",
   "execution_count": 12,
   "metadata": {},
   "outputs": [],
   "source": [
    "data['rating'] = data['rating'].fillna('unk')"
   ]
  },
  {
   "cell_type": "markdown",
   "metadata": {},
   "source": [
    "## 2.2. Расчет суммарной прибыли"
   ]
  },
  {
   "cell_type": "markdown",
   "metadata": {},
   "source": [
    "**Рассчитаем суммарную прибыль для каждой игры, путем сложения каждого сегмента потребителей друг с другом.**"
   ]
  },
  {
   "cell_type": "code",
   "execution_count": 13,
   "metadata": {},
   "outputs": [
    {
     "data": {
      "text/html": [
       "<div>\n",
       "<style scoped>\n",
       "    .dataframe tbody tr th:only-of-type {\n",
       "        vertical-align: middle;\n",
       "    }\n",
       "\n",
       "    .dataframe tbody tr th {\n",
       "        vertical-align: top;\n",
       "    }\n",
       "\n",
       "    .dataframe thead th {\n",
       "        text-align: right;\n",
       "    }\n",
       "</style>\n",
       "<table border=\"1\" class=\"dataframe\">\n",
       "  <thead>\n",
       "    <tr style=\"text-align: right;\">\n",
       "      <th></th>\n",
       "      <th>name</th>\n",
       "      <th>platform</th>\n",
       "      <th>year_of_release</th>\n",
       "      <th>genre</th>\n",
       "      <th>na_sales</th>\n",
       "      <th>eu_sales</th>\n",
       "      <th>jp_sales</th>\n",
       "      <th>other_sales</th>\n",
       "      <th>critic_score</th>\n",
       "      <th>user_score</th>\n",
       "      <th>rating</th>\n",
       "      <th>sum_sales</th>\n",
       "    </tr>\n",
       "  </thead>\n",
       "  <tbody>\n",
       "    <tr>\n",
       "      <th>0</th>\n",
       "      <td>Wii Sports</td>\n",
       "      <td>Wii</td>\n",
       "      <td>2006</td>\n",
       "      <td>Sports</td>\n",
       "      <td>41.36</td>\n",
       "      <td>28.96</td>\n",
       "      <td>3.77</td>\n",
       "      <td>8.45</td>\n",
       "      <td>76.0</td>\n",
       "      <td>8.0</td>\n",
       "      <td>E</td>\n",
       "      <td>82.54</td>\n",
       "    </tr>\n",
       "    <tr>\n",
       "      <th>1</th>\n",
       "      <td>Super Mario Bros.</td>\n",
       "      <td>NES</td>\n",
       "      <td>1985</td>\n",
       "      <td>Platform</td>\n",
       "      <td>29.08</td>\n",
       "      <td>3.58</td>\n",
       "      <td>6.81</td>\n",
       "      <td>0.77</td>\n",
       "      <td>NaN</td>\n",
       "      <td>NaN</td>\n",
       "      <td>unk</td>\n",
       "      <td>40.24</td>\n",
       "    </tr>\n",
       "    <tr>\n",
       "      <th>2</th>\n",
       "      <td>Mario Kart Wii</td>\n",
       "      <td>Wii</td>\n",
       "      <td>2008</td>\n",
       "      <td>Racing</td>\n",
       "      <td>15.68</td>\n",
       "      <td>12.76</td>\n",
       "      <td>3.79</td>\n",
       "      <td>3.29</td>\n",
       "      <td>82.0</td>\n",
       "      <td>8.3</td>\n",
       "      <td>E</td>\n",
       "      <td>35.52</td>\n",
       "    </tr>\n",
       "    <tr>\n",
       "      <th>3</th>\n",
       "      <td>Wii Sports Resort</td>\n",
       "      <td>Wii</td>\n",
       "      <td>2009</td>\n",
       "      <td>Sports</td>\n",
       "      <td>15.61</td>\n",
       "      <td>10.93</td>\n",
       "      <td>3.28</td>\n",
       "      <td>2.95</td>\n",
       "      <td>80.0</td>\n",
       "      <td>8.0</td>\n",
       "      <td>E</td>\n",
       "      <td>32.77</td>\n",
       "    </tr>\n",
       "    <tr>\n",
       "      <th>4</th>\n",
       "      <td>Pokemon Red/Pokemon Blue</td>\n",
       "      <td>GB</td>\n",
       "      <td>1996</td>\n",
       "      <td>Role-Playing</td>\n",
       "      <td>11.27</td>\n",
       "      <td>8.89</td>\n",
       "      <td>10.22</td>\n",
       "      <td>1.00</td>\n",
       "      <td>NaN</td>\n",
       "      <td>NaN</td>\n",
       "      <td>unk</td>\n",
       "      <td>31.38</td>\n",
       "    </tr>\n",
       "    <tr>\n",
       "      <th>5</th>\n",
       "      <td>Tetris</td>\n",
       "      <td>GB</td>\n",
       "      <td>1989</td>\n",
       "      <td>Puzzle</td>\n",
       "      <td>23.20</td>\n",
       "      <td>2.26</td>\n",
       "      <td>4.22</td>\n",
       "      <td>0.58</td>\n",
       "      <td>NaN</td>\n",
       "      <td>NaN</td>\n",
       "      <td>unk</td>\n",
       "      <td>30.26</td>\n",
       "    </tr>\n",
       "    <tr>\n",
       "      <th>6</th>\n",
       "      <td>New Super Mario Bros.</td>\n",
       "      <td>DS</td>\n",
       "      <td>2006</td>\n",
       "      <td>Platform</td>\n",
       "      <td>11.28</td>\n",
       "      <td>9.14</td>\n",
       "      <td>6.50</td>\n",
       "      <td>2.88</td>\n",
       "      <td>89.0</td>\n",
       "      <td>8.5</td>\n",
       "      <td>E</td>\n",
       "      <td>29.80</td>\n",
       "    </tr>\n",
       "    <tr>\n",
       "      <th>7</th>\n",
       "      <td>Wii Play</td>\n",
       "      <td>Wii</td>\n",
       "      <td>2006</td>\n",
       "      <td>Misc</td>\n",
       "      <td>13.96</td>\n",
       "      <td>9.18</td>\n",
       "      <td>2.93</td>\n",
       "      <td>2.84</td>\n",
       "      <td>58.0</td>\n",
       "      <td>6.6</td>\n",
       "      <td>E</td>\n",
       "      <td>28.91</td>\n",
       "    </tr>\n",
       "    <tr>\n",
       "      <th>8</th>\n",
       "      <td>New Super Mario Bros. Wii</td>\n",
       "      <td>Wii</td>\n",
       "      <td>2009</td>\n",
       "      <td>Platform</td>\n",
       "      <td>14.44</td>\n",
       "      <td>6.94</td>\n",
       "      <td>4.70</td>\n",
       "      <td>2.24</td>\n",
       "      <td>87.0</td>\n",
       "      <td>8.4</td>\n",
       "      <td>E</td>\n",
       "      <td>28.32</td>\n",
       "    </tr>\n",
       "    <tr>\n",
       "      <th>9</th>\n",
       "      <td>Duck Hunt</td>\n",
       "      <td>NES</td>\n",
       "      <td>1984</td>\n",
       "      <td>Shooter</td>\n",
       "      <td>26.93</td>\n",
       "      <td>0.63</td>\n",
       "      <td>0.28</td>\n",
       "      <td>0.47</td>\n",
       "      <td>NaN</td>\n",
       "      <td>NaN</td>\n",
       "      <td>unk</td>\n",
       "      <td>28.31</td>\n",
       "    </tr>\n",
       "  </tbody>\n",
       "</table>\n",
       "</div>"
      ],
      "text/plain": [
       "                        name platform  year_of_release         genre  \\\n",
       "0                 Wii Sports      Wii             2006        Sports   \n",
       "1          Super Mario Bros.      NES             1985      Platform   \n",
       "2             Mario Kart Wii      Wii             2008        Racing   \n",
       "3          Wii Sports Resort      Wii             2009        Sports   \n",
       "4   Pokemon Red/Pokemon Blue       GB             1996  Role-Playing   \n",
       "5                     Tetris       GB             1989        Puzzle   \n",
       "6      New Super Mario Bros.       DS             2006      Platform   \n",
       "7                   Wii Play      Wii             2006          Misc   \n",
       "8  New Super Mario Bros. Wii      Wii             2009      Platform   \n",
       "9                  Duck Hunt      NES             1984       Shooter   \n",
       "\n",
       "   na_sales  eu_sales  jp_sales  other_sales  critic_score  user_score rating  \\\n",
       "0     41.36     28.96      3.77         8.45          76.0         8.0      E   \n",
       "1     29.08      3.58      6.81         0.77           NaN         NaN    unk   \n",
       "2     15.68     12.76      3.79         3.29          82.0         8.3      E   \n",
       "3     15.61     10.93      3.28         2.95          80.0         8.0      E   \n",
       "4     11.27      8.89     10.22         1.00           NaN         NaN    unk   \n",
       "5     23.20      2.26      4.22         0.58           NaN         NaN    unk   \n",
       "6     11.28      9.14      6.50         2.88          89.0         8.5      E   \n",
       "7     13.96      9.18      2.93         2.84          58.0         6.6      E   \n",
       "8     14.44      6.94      4.70         2.24          87.0         8.4      E   \n",
       "9     26.93      0.63      0.28         0.47           NaN         NaN    unk   \n",
       "\n",
       "   sum_sales  \n",
       "0      82.54  \n",
       "1      40.24  \n",
       "2      35.52  \n",
       "3      32.77  \n",
       "4      31.38  \n",
       "5      30.26  \n",
       "6      29.80  \n",
       "7      28.91  \n",
       "8      28.32  \n",
       "9      28.31  "
      ]
     },
     "metadata": {},
     "output_type": "display_data"
    }
   ],
   "source": [
    "data['sum_sales'] = data[['na_sales','eu_sales','jp_sales', 'other_sales']].sum(axis = 1)\n",
    "display(data.head(10))"
   ]
  },
  {
   "cell_type": "markdown",
   "metadata": {},
   "source": [
    "## 2.3. Вывод"
   ]
  },
  {
   "cell_type": "markdown",
   "metadata": {},
   "source": [
    "В данных, помимо не самых \"порядочных\" решений, вроде наименования столбцов с большой буквы есть масса пропусков, заменить которые каким-либо шаблонным решением не представляется возможным. Есть риск как \"повысить\" рейтинг плохой игре, так и в обратную сторону. На прошлых этапах работы с данными были допущены ошибки в типах данных, которые не позволяли с ними корректно работать (например, целочисленный формат столбца с рейтингом, который всегда указывается в сотых, т.е. 2 знака после запятой.\n",
    "Причиной пропусков видятся как человеческий фактор, так и технологические ошибки, в равной степени. В идеале, будь такая возможность, стоило бы пообщаться с теми, кто формировал датасет и понять, как можно получить его более корректную версию."
   ]
  },
  {
   "cell_type": "markdown",
   "metadata": {},
   "source": [
    "# Шаг 3. Исследовательский анализ данных"
   ]
  },
  {
   "cell_type": "markdown",
   "metadata": {},
   "source": [
    "**Примерный план выполнения шага:**\n",
    "- Посмотреть количество игр, выпускаемых в разные годы\n",
    "- Определить, какие платформы более востребованы за имеющийся интервал времени\n",
    "- Определить \"топ\" платформ, продукция для которых наиболее часто приобреталась\n",
    "- Установить \"цикл жизни\" для платформ, которые \"заходят\" на рынок игровой индустрии\n",
    "- Выбрать временной интервал для дальнейшего построения прогноза\n",
    "- Предположить, какие платформы будут наиболее актуальны в 2017 году\n",
    "- Проверить предположение, что отзывы (как критиков, так и геймеров) влияют на количество проданных игр\n",
    "- Установить самые популярные жанры игр"
   ]
  },
  {
   "cell_type": "markdown",
   "metadata": {},
   "source": [
    "### 3.1. **Определим, какое количество игр выпускалось в разные годы:**"
   ]
  },
  {
   "cell_type": "code",
   "execution_count": 14,
   "metadata": {},
   "outputs": [
    {
     "data": {
      "image/png": "[encoded data removed]",
      "text/plain": [
       "<Figure size 720x720 with 1 Axes>"
      ]
     },
     "metadata": {
      "needs_background": "light"
     },
     "output_type": "display_data"
    }
   ],
   "source": [
    "data.groupby('year_of_release')['name'].count().plot(figsize=(10, 10), title='Количество выпущенных игр c 1980 года');\n",
    "plt.xlabel('Год выхода');\n",
    "plt.ylabel('Количество выпущенных игр');"
   ]
  },
  {
   "cell_type": "markdown",
   "metadata": {},
   "source": [
    "График позволяет сделать вывод, что количество игр (ежегодное) стало регулярно расти с 1995 года, а пик был в 2008-2009 годах. Также, выведем соотношение в цифрах, чтобы убедиться в верности предположения"
   ]
  },
  {
   "cell_type": "code",
   "execution_count": 15,
   "metadata": {},
   "outputs": [
    {
     "data": {
      "text/plain": [
       "year_of_release\n",
       "1980       9\n",
       "1981      46\n",
       "1982      36\n",
       "1983      17\n",
       "1984      14\n",
       "1985      14\n",
       "1986      21\n",
       "1987      16\n",
       "1988      15\n",
       "1989      17\n",
       "1990      16\n",
       "1991      41\n",
       "1992      43\n",
       "1993      60\n",
       "1994     121\n",
       "1995     219\n",
       "1996     263\n",
       "1997     289\n",
       "1998     379\n",
       "1999     338\n",
       "2000     350\n",
       "2001     482\n",
       "2002     829\n",
       "2003     775\n",
       "2004     762\n",
       "2005     939\n",
       "2006    1006\n",
       "2007    1197\n",
       "2008    1427\n",
       "2009    1426\n",
       "2010    1255\n",
       "2011    1136\n",
       "2012     653\n",
       "2013     544\n",
       "2014     581\n",
       "2015     606\n",
       "2016     502\n",
       "Name: name, dtype: int64"
      ]
     },
     "execution_count": 15,
     "metadata": {},
     "output_type": "execute_result"
    }
   ],
   "source": [
    "data.groupby('year_of_release')['name'].count()"
   ]
  },
  {
   "cell_type": "markdown",
   "metadata": {},
   "source": [
    "Учтем эту информацию, для выполнения следующих шагов исследования"
   ]
  },
  {
   "cell_type": "markdown",
   "metadata": {},
   "source": [
    "### 3.2. **Изучим зависимость количества продаж от платформы, на которых были реализованы игры**"
   ]
  },
  {
   "cell_type": "code",
   "execution_count": 16,
   "metadata": {},
   "outputs": [],
   "source": [
    "platform_sales = data.pivot_table(index='platform', values='sum_sales', aggfunc='sum').sort_values(by='sum_sales', ascending = False)"
   ]
  },
  {
   "cell_type": "markdown",
   "metadata": {},
   "source": [
    "Посмотрим на гистограмму."
   ]
  },
  {
   "cell_type": "code",
   "execution_count": 17,
   "metadata": {},
   "outputs": [],
   "source": [
    "#data.pivot_table(index='platform', values='sum_sales', aggfunc='sum').plot(kind='bar', grid=True, figsize=(15, 10), title='Сумма продаж по платформам')\n",
    "#;\n",
    "#plt.xlabel('Платформа');\n",
    "#plt.ylabel('Прибыль');"
   ]
  },
  {
   "cell_type": "code",
   "execution_count": 18,
   "metadata": {},
   "outputs": [],
   "source": [
    "#aaa = data.pivot_table(index='platform', values='sum_sales', aggfunc='sum').sort_values(by='sum_sales', ascending = False)"
   ]
  },
  {
   "cell_type": "code",
   "execution_count": 19,
   "metadata": {},
   "outputs": [
    {
     "data": {
      "image/png": "[encoded data removed]",
      "text/plain": [
       "<Figure size 1080x720 with 1 Axes>"
      ]
     },
     "metadata": {
      "needs_background": "light"
     },
     "output_type": "display_data"
    }
   ],
   "source": [
    "platform_sales.plot(kind='bar', grid=True, figsize=(15, 10), title='Сумма продаж по платформам')\n",
    ";\n",
    "plt.xlabel('Платформа');\n",
    "plt.ylabel('Прибыль');"
   ]
  },
  {
   "cell_type": "markdown",
   "metadata": {},
   "source": [
    "Определим топ платформ с наибольшими продажами. В моей выборке будет топ-6, т.к. по прибыли наблюдается \"пропасть\" между PS и PS4, почти в 2 раза."
   ]
  },
  {
   "cell_type": "code",
   "execution_count": 20,
   "metadata": {},
   "outputs": [
    {
     "data": {
      "text/html": [
       "<div>\n",
       "<style scoped>\n",
       "    .dataframe tbody tr th:only-of-type {\n",
       "        vertical-align: middle;\n",
       "    }\n",
       "\n",
       "    .dataframe tbody tr th {\n",
       "        vertical-align: top;\n",
       "    }\n",
       "\n",
       "    .dataframe thead th {\n",
       "        text-align: right;\n",
       "    }\n",
       "</style>\n",
       "<table border=\"1\" class=\"dataframe\">\n",
       "  <thead>\n",
       "    <tr style=\"text-align: right;\">\n",
       "      <th></th>\n",
       "      <th>sum_sales</th>\n",
       "    </tr>\n",
       "    <tr>\n",
       "      <th>platform</th>\n",
       "      <th></th>\n",
       "    </tr>\n",
       "  </thead>\n",
       "  <tbody>\n",
       "    <tr>\n",
       "      <th>PS2</th>\n",
       "      <td>1233.56</td>\n",
       "    </tr>\n",
       "    <tr>\n",
       "      <th>X360</th>\n",
       "      <td>961.24</td>\n",
       "    </tr>\n",
       "    <tr>\n",
       "      <th>PS3</th>\n",
       "      <td>931.34</td>\n",
       "    </tr>\n",
       "    <tr>\n",
       "      <th>Wii</th>\n",
       "      <td>891.18</td>\n",
       "    </tr>\n",
       "    <tr>\n",
       "      <th>DS</th>\n",
       "      <td>802.78</td>\n",
       "    </tr>\n",
       "    <tr>\n",
       "      <th>PS</th>\n",
       "      <td>727.58</td>\n",
       "    </tr>\n",
       "  </tbody>\n",
       "</table>\n",
       "</div>"
      ],
      "text/plain": [
       "          sum_sales\n",
       "platform           \n",
       "PS2         1233.56\n",
       "X360         961.24\n",
       "PS3          931.34\n",
       "Wii          891.18\n",
       "DS           802.78\n",
       "PS           727.58"
      ]
     },
     "metadata": {},
     "output_type": "display_data"
    }
   ],
   "source": [
    "top6 = data.pivot_table(index='platform', values='sum_sales', aggfunc='sum').sort_values(by='sum_sales', ascending = False).head(6)\n",
    "display(top6)"
   ]
  },
  {
   "cell_type": "markdown",
   "metadata": {},
   "source": [
    "Попробуем автоматизировать построение n-го количества идентичных графиков"
   ]
  },
  {
   "cell_type": "code",
   "execution_count": 21,
   "metadata": {
    "scrolled": false
   },
   "outputs": [
    {
     "data": {
      "image/png": "[encoded data removed]",
      "text/plain": [
       "<Figure size 1080x720 with 1 Axes>"
      ]
     },
     "metadata": {
      "needs_background": "light"
     },
     "output_type": "display_data"
    },
    {
     "data": {
      "image/png": "[encoded data removed]",
      "text/plain": [
       "<Figure size 1080x720 with 1 Axes>"
      ]
     },
     "metadata": {
      "needs_background": "light"
     },
     "output_type": "display_data"
    },
    {
     "data": {
      "image/png": "[encoded data removed]",
      "text/plain": [
       "<Figure size 1080x720 with 1 Axes>"
      ]
     },
     "metadata": {
      "needs_background": "light"
     },
     "output_type": "display_data"
    },
    {
     "data": {
      "image/png": "[encoded data removed]",
      "text/plain": [
       "<Figure size 1080x720 with 1 Axes>"
      ]
     },
     "metadata": {
      "needs_background": "light"
     },
     "output_type": "display_data"
    },
    {
     "data": {
      "image/png": "[encoded data removed]",
      "text/plain": [
       "<Figure size 1080x720 with 1 Axes>"
      ]
     },
     "metadata": {
      "needs_background": "light"
     },
     "output_type": "display_data"
    },
    {
     "data": {
      "image/png": "[encoded data removed]",
      "text/plain": [
       "<Figure size 1080x720 with 1 Axes>"
      ]
     },
     "metadata": {
      "needs_background": "light"
     },
     "output_type": "display_data"
    }
   ],
   "source": [
    "for name_platform in top6.index:   \n",
    "    data.groupby(['platform', 'year_of_release'])['name'].agg(['count']).query('platform == @name_platform').plot(kind='bar', \n",
    "                                                                                                       grid=True, \n",
    "                                                                                                       figsize=(15, 10), \n",
    "                                                                                                       title=f'Продажи по годам по платформе {name_platform}')  \n",
    "    plt.xlabel('Платформа, год');\n",
    "    plt.ylabel('Количество проданных игр');"
   ]
  },
  {
   "cell_type": "markdown",
   "metadata": {},
   "source": [
    "По графикам можно сделать вывод, что востребованность платформы на рынке компьютерных игр имеет \"взлет\" и \"падение\". Т.е. новая платформа какое-то время \"раскручивается\", а позднее, теряет потребителей из-за выхода более новых решений. В среднем, такой всплеск укладывается в 5 лет."
   ]
  },
  {
   "cell_type": "markdown",
   "metadata": {},
   "source": [
    "Рассмотрим продукты, вышедшие с 2014 года и далее. Даже без графиков, использовать что-то более раннее не было бы логичным. Тут и инфляция и другие классы игровых устройств, за более высокую стоимость соответственно. Конечно, бывают как игры, востребованные более чем 20 лет, например, Counter Strike, так и потребители, остающиеся на старой консоли до последнего, но это скорее исключения, чем тенденция."
   ]
  },
  {
   "cell_type": "markdown",
   "metadata": {},
   "source": [
    "### 3.3. Определение временного интервала для дальнейшего исследования"
   ]
  },
  {
   "cell_type": "code",
   "execution_count": 22,
   "metadata": {},
   "outputs": [
    {
     "data": {
      "text/html": [
       "<div>\n",
       "<style scoped>\n",
       "    .dataframe tbody tr th:only-of-type {\n",
       "        vertical-align: middle;\n",
       "    }\n",
       "\n",
       "    .dataframe tbody tr th {\n",
       "        vertical-align: top;\n",
       "    }\n",
       "\n",
       "    .dataframe thead th {\n",
       "        text-align: right;\n",
       "    }\n",
       "</style>\n",
       "<table border=\"1\" class=\"dataframe\">\n",
       "  <thead>\n",
       "    <tr style=\"text-align: right;\">\n",
       "      <th></th>\n",
       "      <th>name</th>\n",
       "      <th>platform</th>\n",
       "      <th>year_of_release</th>\n",
       "      <th>genre</th>\n",
       "      <th>na_sales</th>\n",
       "      <th>eu_sales</th>\n",
       "      <th>jp_sales</th>\n",
       "      <th>other_sales</th>\n",
       "      <th>critic_score</th>\n",
       "      <th>user_score</th>\n",
       "      <th>rating</th>\n",
       "      <th>sum_sales</th>\n",
       "    </tr>\n",
       "  </thead>\n",
       "  <tbody>\n",
       "    <tr>\n",
       "      <th>31</th>\n",
       "      <td>Call of Duty: Black Ops 3</td>\n",
       "      <td>PS4</td>\n",
       "      <td>2015</td>\n",
       "      <td>Shooter</td>\n",
       "      <td>6.03</td>\n",
       "      <td>5.86</td>\n",
       "      <td>0.36</td>\n",
       "      <td>2.38</td>\n",
       "      <td>NaN</td>\n",
       "      <td>NaN</td>\n",
       "      <td>unk</td>\n",
       "      <td>14.63</td>\n",
       "    </tr>\n",
       "    <tr>\n",
       "      <th>42</th>\n",
       "      <td>Grand Theft Auto V</td>\n",
       "      <td>PS4</td>\n",
       "      <td>2014</td>\n",
       "      <td>Action</td>\n",
       "      <td>3.96</td>\n",
       "      <td>6.31</td>\n",
       "      <td>0.38</td>\n",
       "      <td>1.97</td>\n",
       "      <td>97.0</td>\n",
       "      <td>8.3</td>\n",
       "      <td>M</td>\n",
       "      <td>12.62</td>\n",
       "    </tr>\n",
       "    <tr>\n",
       "      <th>47</th>\n",
       "      <td>Pokemon Omega Ruby/Pokemon Alpha Sapphire</td>\n",
       "      <td>3DS</td>\n",
       "      <td>2014</td>\n",
       "      <td>Role-Playing</td>\n",
       "      <td>4.35</td>\n",
       "      <td>3.49</td>\n",
       "      <td>3.10</td>\n",
       "      <td>0.74</td>\n",
       "      <td>NaN</td>\n",
       "      <td>NaN</td>\n",
       "      <td>unk</td>\n",
       "      <td>11.68</td>\n",
       "    </tr>\n",
       "    <tr>\n",
       "      <th>77</th>\n",
       "      <td>FIFA 16</td>\n",
       "      <td>PS4</td>\n",
       "      <td>2015</td>\n",
       "      <td>Sports</td>\n",
       "      <td>1.12</td>\n",
       "      <td>6.12</td>\n",
       "      <td>0.06</td>\n",
       "      <td>1.28</td>\n",
       "      <td>82.0</td>\n",
       "      <td>4.3</td>\n",
       "      <td>E</td>\n",
       "      <td>8.58</td>\n",
       "    </tr>\n",
       "    <tr>\n",
       "      <th>87</th>\n",
       "      <td>Star Wars Battlefront (2015)</td>\n",
       "      <td>PS4</td>\n",
       "      <td>2015</td>\n",
       "      <td>Shooter</td>\n",
       "      <td>2.99</td>\n",
       "      <td>3.49</td>\n",
       "      <td>0.22</td>\n",
       "      <td>1.28</td>\n",
       "      <td>NaN</td>\n",
       "      <td>NaN</td>\n",
       "      <td>unk</td>\n",
       "      <td>7.98</td>\n",
       "    </tr>\n",
       "    <tr>\n",
       "      <th>92</th>\n",
       "      <td>Call of Duty: Advanced Warfare</td>\n",
       "      <td>PS4</td>\n",
       "      <td>2014</td>\n",
       "      <td>Shooter</td>\n",
       "      <td>2.81</td>\n",
       "      <td>3.48</td>\n",
       "      <td>0.14</td>\n",
       "      <td>1.23</td>\n",
       "      <td>83.0</td>\n",
       "      <td>5.7</td>\n",
       "      <td>M</td>\n",
       "      <td>7.66</td>\n",
       "    </tr>\n",
       "    <tr>\n",
       "      <th>94</th>\n",
       "      <td>FIFA 17</td>\n",
       "      <td>PS4</td>\n",
       "      <td>2016</td>\n",
       "      <td>Sports</td>\n",
       "      <td>0.66</td>\n",
       "      <td>5.75</td>\n",
       "      <td>0.08</td>\n",
       "      <td>1.11</td>\n",
       "      <td>85.0</td>\n",
       "      <td>5.0</td>\n",
       "      <td>E</td>\n",
       "      <td>7.60</td>\n",
       "    </tr>\n",
       "    <tr>\n",
       "      <th>96</th>\n",
       "      <td>Super Smash Bros. for Wii U and 3DS</td>\n",
       "      <td>3DS</td>\n",
       "      <td>2014</td>\n",
       "      <td>Fighting</td>\n",
       "      <td>3.27</td>\n",
       "      <td>1.37</td>\n",
       "      <td>2.43</td>\n",
       "      <td>0.48</td>\n",
       "      <td>NaN</td>\n",
       "      <td>NaN</td>\n",
       "      <td>unk</td>\n",
       "      <td>7.55</td>\n",
       "    </tr>\n",
       "    <tr>\n",
       "      <th>99</th>\n",
       "      <td>Call of Duty: Black Ops 3</td>\n",
       "      <td>XOne</td>\n",
       "      <td>2015</td>\n",
       "      <td>Shooter</td>\n",
       "      <td>4.59</td>\n",
       "      <td>2.11</td>\n",
       "      <td>0.01</td>\n",
       "      <td>0.68</td>\n",
       "      <td>NaN</td>\n",
       "      <td>NaN</td>\n",
       "      <td>unk</td>\n",
       "      <td>7.39</td>\n",
       "    </tr>\n",
       "    <tr>\n",
       "      <th>105</th>\n",
       "      <td>Fallout 4</td>\n",
       "      <td>PS4</td>\n",
       "      <td>2015</td>\n",
       "      <td>Role-Playing</td>\n",
       "      <td>2.53</td>\n",
       "      <td>3.27</td>\n",
       "      <td>0.24</td>\n",
       "      <td>1.13</td>\n",
       "      <td>87.0</td>\n",
       "      <td>6.5</td>\n",
       "      <td>M</td>\n",
       "      <td>7.17</td>\n",
       "    </tr>\n",
       "  </tbody>\n",
       "</table>\n",
       "</div>"
      ],
      "text/plain": [
       "                                          name platform  year_of_release  \\\n",
       "31                   Call of Duty: Black Ops 3      PS4             2015   \n",
       "42                          Grand Theft Auto V      PS4             2014   \n",
       "47   Pokemon Omega Ruby/Pokemon Alpha Sapphire      3DS             2014   \n",
       "77                                     FIFA 16      PS4             2015   \n",
       "87                Star Wars Battlefront (2015)      PS4             2015   \n",
       "92              Call of Duty: Advanced Warfare      PS4             2014   \n",
       "94                                     FIFA 17      PS4             2016   \n",
       "96         Super Smash Bros. for Wii U and 3DS      3DS             2014   \n",
       "99                   Call of Duty: Black Ops 3     XOne             2015   \n",
       "105                                  Fallout 4      PS4             2015   \n",
       "\n",
       "            genre  na_sales  eu_sales  jp_sales  other_sales  critic_score  \\\n",
       "31        Shooter      6.03      5.86      0.36         2.38           NaN   \n",
       "42         Action      3.96      6.31      0.38         1.97          97.0   \n",
       "47   Role-Playing      4.35      3.49      3.10         0.74           NaN   \n",
       "77         Sports      1.12      6.12      0.06         1.28          82.0   \n",
       "87        Shooter      2.99      3.49      0.22         1.28           NaN   \n",
       "92        Shooter      2.81      3.48      0.14         1.23          83.0   \n",
       "94         Sports      0.66      5.75      0.08         1.11          85.0   \n",
       "96       Fighting      3.27      1.37      2.43         0.48           NaN   \n",
       "99        Shooter      4.59      2.11      0.01         0.68           NaN   \n",
       "105  Role-Playing      2.53      3.27      0.24         1.13          87.0   \n",
       "\n",
       "     user_score rating  sum_sales  \n",
       "31          NaN    unk      14.63  \n",
       "42          8.3      M      12.62  \n",
       "47          NaN    unk      11.68  \n",
       "77          4.3      E       8.58  \n",
       "87          NaN    unk       7.98  \n",
       "92          5.7      M       7.66  \n",
       "94          5.0      E       7.60  \n",
       "96          NaN    unk       7.55  \n",
       "99          NaN    unk       7.39  \n",
       "105         6.5      M       7.17  "
      ]
     },
     "execution_count": 22,
     "metadata": {},
     "output_type": "execute_result"
    }
   ],
   "source": [
    "games = data.query('year_of_release > 2013')\n",
    "games.head(10)"
   ]
  },
  {
   "cell_type": "markdown",
   "metadata": {},
   "source": [
    "**Посмотрим, какие из платформ были наиболее прибыльнами за выбранный временной интервал:**"
   ]
  },
  {
   "cell_type": "code",
   "execution_count": 23,
   "metadata": {},
   "outputs": [
    {
     "data": {
      "text/html": [
       "<div>\n",
       "<style scoped>\n",
       "    .dataframe tbody tr th:only-of-type {\n",
       "        vertical-align: middle;\n",
       "    }\n",
       "\n",
       "    .dataframe tbody tr th {\n",
       "        vertical-align: top;\n",
       "    }\n",
       "\n",
       "    .dataframe thead th {\n",
       "        text-align: right;\n",
       "    }\n",
       "</style>\n",
       "<table border=\"1\" class=\"dataframe\">\n",
       "  <thead>\n",
       "    <tr style=\"text-align: right;\">\n",
       "      <th></th>\n",
       "      <th>sum_sales</th>\n",
       "    </tr>\n",
       "    <tr>\n",
       "      <th>platform</th>\n",
       "      <th></th>\n",
       "    </tr>\n",
       "  </thead>\n",
       "  <tbody>\n",
       "    <tr>\n",
       "      <th>PS4</th>\n",
       "      <td>288.15</td>\n",
       "    </tr>\n",
       "    <tr>\n",
       "      <th>XOne</th>\n",
       "      <td>140.36</td>\n",
       "    </tr>\n",
       "    <tr>\n",
       "      <th>3DS</th>\n",
       "      <td>86.68</td>\n",
       "    </tr>\n",
       "    <tr>\n",
       "      <th>PS3</th>\n",
       "      <td>68.18</td>\n",
       "    </tr>\n",
       "    <tr>\n",
       "      <th>X360</th>\n",
       "      <td>48.22</td>\n",
       "    </tr>\n",
       "    <tr>\n",
       "      <th>WiiU</th>\n",
       "      <td>42.98</td>\n",
       "    </tr>\n",
       "    <tr>\n",
       "      <th>PC</th>\n",
       "      <td>27.05</td>\n",
       "    </tr>\n",
       "    <tr>\n",
       "      <th>PSV</th>\n",
       "      <td>22.40</td>\n",
       "    </tr>\n",
       "    <tr>\n",
       "      <th>Wii</th>\n",
       "      <td>5.07</td>\n",
       "    </tr>\n",
       "    <tr>\n",
       "      <th>PSP</th>\n",
       "      <td>0.36</td>\n",
       "    </tr>\n",
       "  </tbody>\n",
       "</table>\n",
       "</div>"
      ],
      "text/plain": [
       "          sum_sales\n",
       "platform           \n",
       "PS4          288.15\n",
       "XOne         140.36\n",
       "3DS           86.68\n",
       "PS3           68.18\n",
       "X360          48.22\n",
       "WiiU          42.98\n",
       "PC            27.05\n",
       "PSV           22.40\n",
       "Wii            5.07\n",
       "PSP            0.36"
      ]
     },
     "execution_count": 23,
     "metadata": {},
     "output_type": "execute_result"
    }
   ],
   "source": [
    "games.pivot_table(index = 'platform', values = 'sum_sales', aggfunc= 'sum').sort_values(by = 'sum_sales', ascending = False)"
   ]
  },
  {
   "cell_type": "markdown",
   "metadata": {},
   "source": [
    "Визуализируем:"
   ]
  },
  {
   "cell_type": "code",
   "execution_count": 24,
   "metadata": {},
   "outputs": [
    {
     "data": {
      "image/png": "[encoded data removed]",
      "text/plain": [
       "<Figure size 1080x720 with 1 Axes>"
      ]
     },
     "metadata": {
      "needs_background": "light"
     },
     "output_type": "display_data"
    }
   ],
   "source": [
    "(games    \n",
    "         .pivot_table(index='platform', values='sum_sales', aggfunc='sum').sort_values(by = 'sum_sales', ascending = False)\n",
    "         .plot(kind='bar', grid=True, figsize=(15, 10), title='Зависимость прибыли от платформы')\n",
    ");\n",
    "plt.xlabel('Платформы');\n",
    "plt.ylabel('Прибыль');"
   ]
  },
  {
   "cell_type": "markdown",
   "metadata": {},
   "source": [
    "В полученном срезе явно \"доминирует\" PS4 - прибыль самая большая. Уверенное второе место \"держит\" XOne. Учитывая то, что консоли зачастую выживаются более новыми моделями, перспективными можно считать PS4 и XOne. Скорее всего, они смогут \"прибавить\" в плане прибыли, тогда как другие платформы будут \"падать\"."
   ]
  },
  {
   "cell_type": "markdown",
   "metadata": {},
   "source": [
    "**Изучим прибыль за выбранный временной интервал по каждой из платформ**"
   ]
  },
  {
   "cell_type": "markdown",
   "metadata": {},
   "source": [
    "Исследование целесообразно провести не на всех платформах, а на топ-5, в котором есть вероятно перспективные платформы. Добавим туда также PC, здравый смысл подсказывает, что существует сегмент консервативных пользователей, которые не видят альтернативы компьютеру, прибыль от них тоже имеет место быть."
   ]
  },
  {
   "cell_type": "code",
   "execution_count": 25,
   "metadata": {},
   "outputs": [
    {
     "data": {
      "text/html": [
       "<div>\n",
       "<style scoped>\n",
       "    .dataframe tbody tr th:only-of-type {\n",
       "        vertical-align: middle;\n",
       "    }\n",
       "\n",
       "    .dataframe tbody tr th {\n",
       "        vertical-align: top;\n",
       "    }\n",
       "\n",
       "    .dataframe thead th {\n",
       "        text-align: right;\n",
       "    }\n",
       "</style>\n",
       "<table border=\"1\" class=\"dataframe\">\n",
       "  <thead>\n",
       "    <tr style=\"text-align: right;\">\n",
       "      <th></th>\n",
       "      <th>sum_sales</th>\n",
       "    </tr>\n",
       "    <tr>\n",
       "      <th>platform</th>\n",
       "      <th></th>\n",
       "    </tr>\n",
       "  </thead>\n",
       "  <tbody>\n",
       "    <tr>\n",
       "      <th>PS4</th>\n",
       "      <td>288.15</td>\n",
       "    </tr>\n",
       "    <tr>\n",
       "      <th>XOne</th>\n",
       "      <td>140.36</td>\n",
       "    </tr>\n",
       "    <tr>\n",
       "      <th>3DS</th>\n",
       "      <td>86.68</td>\n",
       "    </tr>\n",
       "    <tr>\n",
       "      <th>PS3</th>\n",
       "      <td>68.18</td>\n",
       "    </tr>\n",
       "    <tr>\n",
       "      <th>X360</th>\n",
       "      <td>48.22</td>\n",
       "    </tr>\n",
       "    <tr>\n",
       "      <th>WiiU</th>\n",
       "      <td>42.98</td>\n",
       "    </tr>\n",
       "  </tbody>\n",
       "</table>\n",
       "</div>"
      ],
      "text/plain": [
       "          sum_sales\n",
       "platform           \n",
       "PS4          288.15\n",
       "XOne         140.36\n",
       "3DS           86.68\n",
       "PS3           68.18\n",
       "X360          48.22\n",
       "WiiU          42.98"
      ]
     },
     "metadata": {},
     "output_type": "display_data"
    }
   ],
   "source": [
    "top_6 = games.pivot_table(index='platform', values='sum_sales', aggfunc='sum').sort_values(by = 'sum_sales', ascending = False).head(6)\n",
    "display(top_6)"
   ]
  },
  {
   "cell_type": "code",
   "execution_count": 26,
   "metadata": {
    "scrolled": false
   },
   "outputs": [
    {
     "data": {
      "image/png": "[encoded data removed]",
      "text/plain": [
       "<Figure size 1080x720 with 1 Axes>"
      ]
     },
     "metadata": {
      "needs_background": "light"
     },
     "output_type": "display_data"
    },
    {
     "data": {
      "image/png": "[encoded data removed]",
      "text/plain": [
       "<Figure size 1080x720 with 1 Axes>"
      ]
     },
     "metadata": {
      "needs_background": "light"
     },
     "output_type": "display_data"
    },
    {
     "data": {
      "image/png": "[encoded data removed]",
      "text/plain": [
       "<Figure size 1080x720 with 1 Axes>"
      ]
     },
     "metadata": {
      "needs_background": "light"
     },
     "output_type": "display_data"
    },
    {
     "data": {
      "image/png": "[encoded data removed]",
      "text/plain": [
       "<Figure size 1080x720 with 1 Axes>"
      ]
     },
     "metadata": {
      "needs_background": "light"
     },
     "output_type": "display_data"
    },
    {
     "data": {
      "image/png": "[encoded data removed]",
      "text/plain": [
       "<Figure size 1080x720 with 1 Axes>"
      ]
     },
     "metadata": {
      "needs_background": "light"
     },
     "output_type": "display_data"
    },
    {
     "data": {
      "image/png": "[encoded data removed]",
      "text/plain": [
       "<Figure size 1080x720 with 1 Axes>"
      ]
     },
     "metadata": {
      "needs_background": "light"
     },
     "output_type": "display_data"
    }
   ],
   "source": [
    "for platform_name in top_6.index:   \n",
    "    games.groupby(['platform', 'year_of_release'])['sum_sales'].agg(['sum']).query('platform == @platform_name').plot(kind='bar', \n",
    "                                                                                                       grid=True, \n",
    "                                                                                                       figsize=(15, 10), \n",
    "                                                                                                       title=f'Количество продаж с 2014 года по платформе {platform_name}')  \n",
    "    plt.xlabel('Платформа, год');\n",
    "    plt.ylabel('Количество проданных игр');"
   ]
  },
  {
   "cell_type": "markdown",
   "metadata": {},
   "source": [
    "Прежде чем комментировать графики, стоит еще раз вспомнить, что данные за 2016 год неполные. Если немного пофантазировать и оценить графики таким образом, что наблюдается постепенный рост прибыли по новым платформам, а старые платформы теряют клиентов (как это было выявлено ранее) - в лидерах как-раз таки окажутся PS4 и XOne, что подтверждает мое предположение. PC ведет себя относительно стабильно. В 2017 году они могут стать еще более прибыльными, поэтому, считаем их основной перспективой на планируемый год."
   ]
  },
  {
   "cell_type": "markdown",
   "metadata": {},
   "source": [
    "### 3.4.**Построение \"ящика с усами\"**"
   ]
  },
  {
   "cell_type": "markdown",
   "metadata": {},
   "source": [
    "Перед выполнением этого шага исследования, стоит вспомнить, что в играх, продукты бывают как \"вирусными\", так и \"провальными\". Причем как с точки зрения продаж, так и с точки зрения рейтингов. Поэтому, целесообразно рассмотреть только те продукты, которые хотя бы немного, но покупались пользователями. Посмотрим выборку игр, которые купили хотя бы 1 миллион раз."
   ]
  },
  {
   "cell_type": "code",
   "execution_count": 27,
   "metadata": {},
   "outputs": [
    {
     "data": {
      "text/html": [
       "<div>\n",
       "<style scoped>\n",
       "    .dataframe tbody tr th:only-of-type {\n",
       "        vertical-align: middle;\n",
       "    }\n",
       "\n",
       "    .dataframe tbody tr th {\n",
       "        vertical-align: top;\n",
       "    }\n",
       "\n",
       "    .dataframe thead th {\n",
       "        text-align: right;\n",
       "    }\n",
       "</style>\n",
       "<table border=\"1\" class=\"dataframe\">\n",
       "  <thead>\n",
       "    <tr style=\"text-align: right;\">\n",
       "      <th></th>\n",
       "      <th>name</th>\n",
       "      <th>platform</th>\n",
       "      <th>year_of_release</th>\n",
       "      <th>genre</th>\n",
       "      <th>na_sales</th>\n",
       "      <th>eu_sales</th>\n",
       "      <th>jp_sales</th>\n",
       "      <th>other_sales</th>\n",
       "      <th>critic_score</th>\n",
       "      <th>user_score</th>\n",
       "      <th>rating</th>\n",
       "      <th>sum_sales</th>\n",
       "    </tr>\n",
       "  </thead>\n",
       "  <tbody>\n",
       "    <tr>\n",
       "      <th>31</th>\n",
       "      <td>Call of Duty: Black Ops 3</td>\n",
       "      <td>PS4</td>\n",
       "      <td>2015</td>\n",
       "      <td>Shooter</td>\n",
       "      <td>6.03</td>\n",
       "      <td>5.86</td>\n",
       "      <td>0.36</td>\n",
       "      <td>2.38</td>\n",
       "      <td>NaN</td>\n",
       "      <td>NaN</td>\n",
       "      <td>unk</td>\n",
       "      <td>14.63</td>\n",
       "    </tr>\n",
       "    <tr>\n",
       "      <th>42</th>\n",
       "      <td>Grand Theft Auto V</td>\n",
       "      <td>PS4</td>\n",
       "      <td>2014</td>\n",
       "      <td>Action</td>\n",
       "      <td>3.96</td>\n",
       "      <td>6.31</td>\n",
       "      <td>0.38</td>\n",
       "      <td>1.97</td>\n",
       "      <td>97.0</td>\n",
       "      <td>8.3</td>\n",
       "      <td>M</td>\n",
       "      <td>12.62</td>\n",
       "    </tr>\n",
       "    <tr>\n",
       "      <th>47</th>\n",
       "      <td>Pokemon Omega Ruby/Pokemon Alpha Sapphire</td>\n",
       "      <td>3DS</td>\n",
       "      <td>2014</td>\n",
       "      <td>Role-Playing</td>\n",
       "      <td>4.35</td>\n",
       "      <td>3.49</td>\n",
       "      <td>3.10</td>\n",
       "      <td>0.74</td>\n",
       "      <td>NaN</td>\n",
       "      <td>NaN</td>\n",
       "      <td>unk</td>\n",
       "      <td>11.68</td>\n",
       "    </tr>\n",
       "    <tr>\n",
       "      <th>77</th>\n",
       "      <td>FIFA 16</td>\n",
       "      <td>PS4</td>\n",
       "      <td>2015</td>\n",
       "      <td>Sports</td>\n",
       "      <td>1.12</td>\n",
       "      <td>6.12</td>\n",
       "      <td>0.06</td>\n",
       "      <td>1.28</td>\n",
       "      <td>82.0</td>\n",
       "      <td>4.3</td>\n",
       "      <td>E</td>\n",
       "      <td>8.58</td>\n",
       "    </tr>\n",
       "    <tr>\n",
       "      <th>87</th>\n",
       "      <td>Star Wars Battlefront (2015)</td>\n",
       "      <td>PS4</td>\n",
       "      <td>2015</td>\n",
       "      <td>Shooter</td>\n",
       "      <td>2.99</td>\n",
       "      <td>3.49</td>\n",
       "      <td>0.22</td>\n",
       "      <td>1.28</td>\n",
       "      <td>NaN</td>\n",
       "      <td>NaN</td>\n",
       "      <td>unk</td>\n",
       "      <td>7.98</td>\n",
       "    </tr>\n",
       "    <tr>\n",
       "      <th>...</th>\n",
       "      <td>...</td>\n",
       "      <td>...</td>\n",
       "      <td>...</td>\n",
       "      <td>...</td>\n",
       "      <td>...</td>\n",
       "      <td>...</td>\n",
       "      <td>...</td>\n",
       "      <td>...</td>\n",
       "      <td>...</td>\n",
       "      <td>...</td>\n",
       "      <td>...</td>\n",
       "      <td>...</td>\n",
       "    </tr>\n",
       "    <tr>\n",
       "      <th>2012</th>\n",
       "      <td>The Legend of Zelda: Twilight Princess HD</td>\n",
       "      <td>WiiU</td>\n",
       "      <td>2016</td>\n",
       "      <td>Action</td>\n",
       "      <td>0.56</td>\n",
       "      <td>0.30</td>\n",
       "      <td>0.08</td>\n",
       "      <td>0.09</td>\n",
       "      <td>86.0</td>\n",
       "      <td>8.4</td>\n",
       "      <td>T</td>\n",
       "      <td>1.03</td>\n",
       "    </tr>\n",
       "    <tr>\n",
       "      <th>2024</th>\n",
       "      <td>NBA 2K17</td>\n",
       "      <td>XOne</td>\n",
       "      <td>2016</td>\n",
       "      <td>Sports</td>\n",
       "      <td>0.86</td>\n",
       "      <td>0.06</td>\n",
       "      <td>0.00</td>\n",
       "      <td>0.11</td>\n",
       "      <td>90.0</td>\n",
       "      <td>6.2</td>\n",
       "      <td>E</td>\n",
       "      <td>1.03</td>\n",
       "    </tr>\n",
       "    <tr>\n",
       "      <th>2050</th>\n",
       "      <td>Assassin's Creed: Rogue</td>\n",
       "      <td>X360</td>\n",
       "      <td>2014</td>\n",
       "      <td>Action</td>\n",
       "      <td>0.58</td>\n",
       "      <td>0.34</td>\n",
       "      <td>0.00</td>\n",
       "      <td>0.09</td>\n",
       "      <td>72.0</td>\n",
       "      <td>7.3</td>\n",
       "      <td>M</td>\n",
       "      <td>1.01</td>\n",
       "    </tr>\n",
       "    <tr>\n",
       "      <th>2051</th>\n",
       "      <td>Rayman Legends</td>\n",
       "      <td>PS4</td>\n",
       "      <td>2014</td>\n",
       "      <td>Platform</td>\n",
       "      <td>0.22</td>\n",
       "      <td>0.64</td>\n",
       "      <td>0.00</td>\n",
       "      <td>0.16</td>\n",
       "      <td>90.0</td>\n",
       "      <td>8.5</td>\n",
       "      <td>E10+</td>\n",
       "      <td>1.02</td>\n",
       "    </tr>\n",
       "    <tr>\n",
       "      <th>2056</th>\n",
       "      <td>Pokken Tournament</td>\n",
       "      <td>WiiU</td>\n",
       "      <td>2016</td>\n",
       "      <td>Fighting</td>\n",
       "      <td>0.50</td>\n",
       "      <td>0.26</td>\n",
       "      <td>0.17</td>\n",
       "      <td>0.08</td>\n",
       "      <td>76.0</td>\n",
       "      <td>8.0</td>\n",
       "      <td>E10+</td>\n",
       "      <td>1.01</td>\n",
       "    </tr>\n",
       "  </tbody>\n",
       "</table>\n",
       "<p>171 rows × 12 columns</p>\n",
       "</div>"
      ],
      "text/plain": [
       "                                           name platform  year_of_release  \\\n",
       "31                    Call of Duty: Black Ops 3      PS4             2015   \n",
       "42                           Grand Theft Auto V      PS4             2014   \n",
       "47    Pokemon Omega Ruby/Pokemon Alpha Sapphire      3DS             2014   \n",
       "77                                      FIFA 16      PS4             2015   \n",
       "87                 Star Wars Battlefront (2015)      PS4             2015   \n",
       "...                                         ...      ...              ...   \n",
       "2012  The Legend of Zelda: Twilight Princess HD     WiiU             2016   \n",
       "2024                                   NBA 2K17     XOne             2016   \n",
       "2050                    Assassin's Creed: Rogue     X360             2014   \n",
       "2051                             Rayman Legends      PS4             2014   \n",
       "2056                          Pokken Tournament     WiiU             2016   \n",
       "\n",
       "             genre  na_sales  eu_sales  jp_sales  other_sales  critic_score  \\\n",
       "31         Shooter      6.03      5.86      0.36         2.38           NaN   \n",
       "42          Action      3.96      6.31      0.38         1.97          97.0   \n",
       "47    Role-Playing      4.35      3.49      3.10         0.74           NaN   \n",
       "77          Sports      1.12      6.12      0.06         1.28          82.0   \n",
       "87         Shooter      2.99      3.49      0.22         1.28           NaN   \n",
       "...            ...       ...       ...       ...          ...           ...   \n",
       "2012        Action      0.56      0.30      0.08         0.09          86.0   \n",
       "2024        Sports      0.86      0.06      0.00         0.11          90.0   \n",
       "2050        Action      0.58      0.34      0.00         0.09          72.0   \n",
       "2051      Platform      0.22      0.64      0.00         0.16          90.0   \n",
       "2056      Fighting      0.50      0.26      0.17         0.08          76.0   \n",
       "\n",
       "      user_score rating  sum_sales  \n",
       "31           NaN    unk      14.63  \n",
       "42           8.3      M      12.62  \n",
       "47           NaN    unk      11.68  \n",
       "77           4.3      E       8.58  \n",
       "87           NaN    unk       7.98  \n",
       "...          ...    ...        ...  \n",
       "2012         8.4      T       1.03  \n",
       "2024         6.2      E       1.03  \n",
       "2050         7.3      M       1.01  \n",
       "2051         8.5   E10+       1.02  \n",
       "2056         8.0   E10+       1.01  \n",
       "\n",
       "[171 rows x 12 columns]"
      ]
     },
     "metadata": {},
     "output_type": "display_data"
    }
   ],
   "source": [
    "sold_games = games.query('sum_sales > 1')\n",
    "display(sold_games)"
   ]
  },
  {
   "cell_type": "code",
   "execution_count": 28,
   "metadata": {},
   "outputs": [
    {
     "data": {
      "text/plain": [
       "Text(0.5, 0, 'Количество проданных копий, млн')"
      ]
     },
     "execution_count": 28,
     "metadata": {},
     "output_type": "execute_result"
    },
    {
     "data": {
      "image/png": "[encoded data removed]",
      "text/plain": [
       "<Figure size 432x288 with 1 Axes>"
      ]
     },
     "metadata": {
      "needs_background": "light"
     },
     "output_type": "display_data"
    }
   ],
   "source": [
    "boxplot_sold_games = sns.boxplot('sum_sales', data = sold_games)\n",
    "boxplot_sold_games.set_title('Глобальные сборы по играм')\n",
    "boxplot_sold_games.set_xlabel('Количество проданных копий, млн')"
   ]
  },
  {
   "cell_type": "code",
   "execution_count": 29,
   "metadata": {},
   "outputs": [
    {
     "data": {
      "text/plain": [
       "(1.0, 15.0)"
      ]
     },
     "execution_count": 29,
     "metadata": {},
     "output_type": "execute_result"
    },
    {
     "data": {
      "image/png": "[encoded data removed]",
      "text/plain": [
       "<Figure size 432x288 with 1 Axes>"
      ]
     },
     "metadata": {
      "needs_background": "light"
     },
     "output_type": "display_data"
    }
   ],
   "source": [
    "sns.boxplot(data=sold_games, x='sum_sales', y='platform')\n",
    "\n",
    "plt.title(label='Диаграмма размаха по глобальным продажам игр в разбивке по платформам')\n",
    "plt.xlabel('Суммарные продажи')\n",
    "plt.ylabel('Платформы')\n",
    "plt.xlim(1, 15) #смотрим график от минимального до максимального значения в выборке"
   ]
  },
  {
   "cell_type": "markdown",
   "metadata": {},
   "source": [
    "Такой график говорит, конечно, о выбросах, но в данном случае это не аномалии, а очень востребованные и прибыльные игры. Подавляющее большинство игр на всех платформах продаются в пределах 1-2 миллиона копий. Количественно, больше всего \"крутых\" продуктов выходило на PS3, X360, PS4 и 3DS."
   ]
  },
  {
   "cell_type": "markdown",
   "metadata": {},
   "source": [
    "Также, посмотрим круговую диаграмму прибыли с платформ за исследуемые годы."
   ]
  },
  {
   "cell_type": "code",
   "execution_count": 30,
   "metadata": {},
   "outputs": [
    {
     "data": {
      "text/plain": [
       "platform\n",
       "3DS     3.49\n",
       "PC      1.67\n",
       "PS3     2.27\n",
       "PS4     3.20\n",
       "PSV     1.96\n",
       "Wii     2.01\n",
       "WiiU    2.59\n",
       "X360    1.78\n",
       "XOne    2.33\n",
       "Name: sum_sales, dtype: float64"
      ]
     },
     "metadata": {},
     "output_type": "display_data"
    },
    {
     "data": {
      "text/plain": [
       "<AxesSubplot:title={'center':'Прибыль с платформ за 2014-2016 г.'}, ylabel='sum_sales'>"
      ]
     },
     "execution_count": 30,
     "metadata": {},
     "output_type": "execute_result"
    },
    {
     "data": {
      "image/png": "[encoded data removed]",
      "text/plain": [
       "<Figure size 864x864 with 1 Axes>"
      ]
     },
     "metadata": {},
     "output_type": "display_data"
    }
   ],
   "source": [
    "revenue_mean = sold_games.groupby('platform')['sum_sales'].mean().round(2)\n",
    "display(revenue_mean)\n",
    "revenue_mean.plot(kind='pie', figsize=(12, 12), title='Прибыль с платформ за 2014-2016 г.')"
   ]
  },
  {
   "cell_type": "markdown",
   "metadata": {},
   "source": [
    "Выделяются PS4 и 3DS."
   ]
  },
  {
   "cell_type": "markdown",
   "metadata": {},
   "source": [
    "### 3.5.**Установим зависимость между отзывами и продажами игр**"
   ]
  },
  {
   "cell_type": "markdown",
   "metadata": {},
   "source": [
    "Сначала проверим, есть ли зависимость на примере PS4 - по прогнозу она может \"сделать кассу\" в 2017 году"
   ]
  },
  {
   "cell_type": "code",
   "execution_count": 31,
   "metadata": {},
   "outputs": [
    {
     "data": {
      "text/html": [
       "<div>\n",
       "<style scoped>\n",
       "    .dataframe tbody tr th:only-of-type {\n",
       "        vertical-align: middle;\n",
       "    }\n",
       "\n",
       "    .dataframe tbody tr th {\n",
       "        vertical-align: top;\n",
       "    }\n",
       "\n",
       "    .dataframe thead th {\n",
       "        text-align: right;\n",
       "    }\n",
       "</style>\n",
       "<table border=\"1\" class=\"dataframe\">\n",
       "  <thead>\n",
       "    <tr style=\"text-align: right;\">\n",
       "      <th></th>\n",
       "      <th>name</th>\n",
       "      <th>platform</th>\n",
       "      <th>year_of_release</th>\n",
       "      <th>genre</th>\n",
       "      <th>na_sales</th>\n",
       "      <th>eu_sales</th>\n",
       "      <th>jp_sales</th>\n",
       "      <th>other_sales</th>\n",
       "      <th>critic_score</th>\n",
       "      <th>user_score</th>\n",
       "      <th>rating</th>\n",
       "      <th>sum_sales</th>\n",
       "    </tr>\n",
       "  </thead>\n",
       "  <tbody>\n",
       "    <tr>\n",
       "      <th>31</th>\n",
       "      <td>Call of Duty: Black Ops 3</td>\n",
       "      <td>PS4</td>\n",
       "      <td>2015</td>\n",
       "      <td>Shooter</td>\n",
       "      <td>6.03</td>\n",
       "      <td>5.86</td>\n",
       "      <td>0.36</td>\n",
       "      <td>2.38</td>\n",
       "      <td>NaN</td>\n",
       "      <td>NaN</td>\n",
       "      <td>unk</td>\n",
       "      <td>14.63</td>\n",
       "    </tr>\n",
       "    <tr>\n",
       "      <th>42</th>\n",
       "      <td>Grand Theft Auto V</td>\n",
       "      <td>PS4</td>\n",
       "      <td>2014</td>\n",
       "      <td>Action</td>\n",
       "      <td>3.96</td>\n",
       "      <td>6.31</td>\n",
       "      <td>0.38</td>\n",
       "      <td>1.97</td>\n",
       "      <td>97.0</td>\n",
       "      <td>8.3</td>\n",
       "      <td>M</td>\n",
       "      <td>12.62</td>\n",
       "    </tr>\n",
       "    <tr>\n",
       "      <th>77</th>\n",
       "      <td>FIFA 16</td>\n",
       "      <td>PS4</td>\n",
       "      <td>2015</td>\n",
       "      <td>Sports</td>\n",
       "      <td>1.12</td>\n",
       "      <td>6.12</td>\n",
       "      <td>0.06</td>\n",
       "      <td>1.28</td>\n",
       "      <td>82.0</td>\n",
       "      <td>4.3</td>\n",
       "      <td>E</td>\n",
       "      <td>8.58</td>\n",
       "    </tr>\n",
       "    <tr>\n",
       "      <th>87</th>\n",
       "      <td>Star Wars Battlefront (2015)</td>\n",
       "      <td>PS4</td>\n",
       "      <td>2015</td>\n",
       "      <td>Shooter</td>\n",
       "      <td>2.99</td>\n",
       "      <td>3.49</td>\n",
       "      <td>0.22</td>\n",
       "      <td>1.28</td>\n",
       "      <td>NaN</td>\n",
       "      <td>NaN</td>\n",
       "      <td>unk</td>\n",
       "      <td>7.98</td>\n",
       "    </tr>\n",
       "    <tr>\n",
       "      <th>92</th>\n",
       "      <td>Call of Duty: Advanced Warfare</td>\n",
       "      <td>PS4</td>\n",
       "      <td>2014</td>\n",
       "      <td>Shooter</td>\n",
       "      <td>2.81</td>\n",
       "      <td>3.48</td>\n",
       "      <td>0.14</td>\n",
       "      <td>1.23</td>\n",
       "      <td>83.0</td>\n",
       "      <td>5.7</td>\n",
       "      <td>M</td>\n",
       "      <td>7.66</td>\n",
       "    </tr>\n",
       "    <tr>\n",
       "      <th>94</th>\n",
       "      <td>FIFA 17</td>\n",
       "      <td>PS4</td>\n",
       "      <td>2016</td>\n",
       "      <td>Sports</td>\n",
       "      <td>0.66</td>\n",
       "      <td>5.75</td>\n",
       "      <td>0.08</td>\n",
       "      <td>1.11</td>\n",
       "      <td>85.0</td>\n",
       "      <td>5.0</td>\n",
       "      <td>E</td>\n",
       "      <td>7.60</td>\n",
       "    </tr>\n",
       "    <tr>\n",
       "      <th>105</th>\n",
       "      <td>Fallout 4</td>\n",
       "      <td>PS4</td>\n",
       "      <td>2015</td>\n",
       "      <td>Role-Playing</td>\n",
       "      <td>2.53</td>\n",
       "      <td>3.27</td>\n",
       "      <td>0.24</td>\n",
       "      <td>1.13</td>\n",
       "      <td>87.0</td>\n",
       "      <td>6.5</td>\n",
       "      <td>M</td>\n",
       "      <td>7.17</td>\n",
       "    </tr>\n",
       "    <tr>\n",
       "      <th>143</th>\n",
       "      <td>FIFA 15</td>\n",
       "      <td>PS4</td>\n",
       "      <td>2014</td>\n",
       "      <td>Sports</td>\n",
       "      <td>0.80</td>\n",
       "      <td>4.33</td>\n",
       "      <td>0.05</td>\n",
       "      <td>0.90</td>\n",
       "      <td>82.0</td>\n",
       "      <td>5.7</td>\n",
       "      <td>E</td>\n",
       "      <td>6.08</td>\n",
       "    </tr>\n",
       "    <tr>\n",
       "      <th>154</th>\n",
       "      <td>Destiny</td>\n",
       "      <td>PS4</td>\n",
       "      <td>2014</td>\n",
       "      <td>Shooter</td>\n",
       "      <td>2.49</td>\n",
       "      <td>2.07</td>\n",
       "      <td>0.16</td>\n",
       "      <td>0.92</td>\n",
       "      <td>76.0</td>\n",
       "      <td>6.1</td>\n",
       "      <td>T</td>\n",
       "      <td>5.64</td>\n",
       "    </tr>\n",
       "    <tr>\n",
       "      <th>171</th>\n",
       "      <td>Uncharted 4: A Thief's End</td>\n",
       "      <td>PS4</td>\n",
       "      <td>2016</td>\n",
       "      <td>Shooter</td>\n",
       "      <td>1.85</td>\n",
       "      <td>2.50</td>\n",
       "      <td>0.19</td>\n",
       "      <td>0.85</td>\n",
       "      <td>93.0</td>\n",
       "      <td>7.9</td>\n",
       "      <td>T</td>\n",
       "      <td>5.39</td>\n",
       "    </tr>\n",
       "  </tbody>\n",
       "</table>\n",
       "</div>"
      ],
      "text/plain": [
       "                               name platform  year_of_release         genre  \\\n",
       "31        Call of Duty: Black Ops 3      PS4             2015       Shooter   \n",
       "42               Grand Theft Auto V      PS4             2014        Action   \n",
       "77                          FIFA 16      PS4             2015        Sports   \n",
       "87     Star Wars Battlefront (2015)      PS4             2015       Shooter   \n",
       "92   Call of Duty: Advanced Warfare      PS4             2014       Shooter   \n",
       "94                          FIFA 17      PS4             2016        Sports   \n",
       "105                       Fallout 4      PS4             2015  Role-Playing   \n",
       "143                         FIFA 15      PS4             2014        Sports   \n",
       "154                         Destiny      PS4             2014       Shooter   \n",
       "171      Uncharted 4: A Thief's End      PS4             2016       Shooter   \n",
       "\n",
       "     na_sales  eu_sales  jp_sales  other_sales  critic_score  user_score  \\\n",
       "31       6.03      5.86      0.36         2.38           NaN         NaN   \n",
       "42       3.96      6.31      0.38         1.97          97.0         8.3   \n",
       "77       1.12      6.12      0.06         1.28          82.0         4.3   \n",
       "87       2.99      3.49      0.22         1.28           NaN         NaN   \n",
       "92       2.81      3.48      0.14         1.23          83.0         5.7   \n",
       "94       0.66      5.75      0.08         1.11          85.0         5.0   \n",
       "105      2.53      3.27      0.24         1.13          87.0         6.5   \n",
       "143      0.80      4.33      0.05         0.90          82.0         5.7   \n",
       "154      2.49      2.07      0.16         0.92          76.0         6.1   \n",
       "171      1.85      2.50      0.19         0.85          93.0         7.9   \n",
       "\n",
       "    rating  sum_sales  \n",
       "31     unk      14.63  \n",
       "42       M      12.62  \n",
       "77       E       8.58  \n",
       "87     unk       7.98  \n",
       "92       M       7.66  \n",
       "94       E       7.60  \n",
       "105      M       7.17  \n",
       "143      E       6.08  \n",
       "154      T       5.64  \n",
       "171      T       5.39  "
      ]
     },
     "execution_count": 31,
     "metadata": {},
     "output_type": "execute_result"
    }
   ],
   "source": [
    "ps4 = games.query('platform == \"PS4\"')\n",
    "ps4.sort_values(by = 'sum_sales', ascending = False).head(10) #смотрим самые прибыльные игры"
   ]
  },
  {
   "cell_type": "code",
   "execution_count": 32,
   "metadata": {},
   "outputs": [
    {
     "data": {
      "image/png": "[encoded data removed]",
      "text/plain": [
       "<Figure size 432x288 with 1 Axes>"
      ]
     },
     "metadata": {
      "needs_background": "light"
     },
     "output_type": "display_data"
    }
   ],
   "source": [
    "(ps4 \n",
    "         .plot(x = 'user_score', y = 'sum_sales', kind = 'scatter', alpha = 0.5, \n",
    "          title='Зависимость между прибылью и рейтингом геймеров')\n",
    ");\n",
    "plt.ylabel('Прибыль');\n",
    "plt.xlabel('Рейтинг геймеров');"
   ]
  },
  {
   "cell_type": "code",
   "execution_count": 33,
   "metadata": {},
   "outputs": [
    {
     "data": {
      "text/plain": [
       "-0.040131589472697356"
      ]
     },
     "execution_count": 33,
     "metadata": {},
     "output_type": "execute_result"
    }
   ],
   "source": [
    "ps4['sum_sales'].corr(ps4['user_score'])"
   ]
  },
  {
   "cell_type": "code",
   "execution_count": 34,
   "metadata": {},
   "outputs": [
    {
     "data": {
      "image/png": "[encoded data removed]",
      "text/plain": [
       "<Figure size 432x288 with 1 Axes>"
      ]
     },
     "metadata": {
      "needs_background": "light"
     },
     "output_type": "display_data"
    }
   ],
   "source": [
    "(ps4 \n",
    "         .plot(x = 'critic_score', y = 'sum_sales', kind = 'scatter', alpha = 0.5, \n",
    "          title='Зависимость между прибылью и рейтингом критиков')\n",
    ");\n",
    "plt.ylabel('Прибыль');\n",
    "plt.xlabel('Рейтинг критиков');"
   ]
  },
  {
   "cell_type": "code",
   "execution_count": 35,
   "metadata": {},
   "outputs": [
    {
     "data": {
      "text/plain": [
       "0.40266141068104083"
      ]
     },
     "execution_count": 35,
     "metadata": {},
     "output_type": "execute_result"
    }
   ],
   "source": [
    "ps4['sum_sales'].corr(ps4['critic_score'])"
   ]
  },
  {
   "cell_type": "markdown",
   "metadata": {},
   "source": [
    "Существует зависимость между рейтингом профессиональных критиков и фактом реализации игр. Игры, которым критики поставили 70+ баллов продаются лучше, а также, видим положительную корреляцию. Соответственно, чем выше оценка критиков - тем лучше игра покупается пользователям.\n",
    "\n",
    "В свою очередь, зависимость между рейтингом геймеров и успешностью продукта практически отсутствует.\n",
    "\n",
    "**Справедливо сделать вывод, что оценка критиков на рынке игровой индустрии имеет куда большее влияние.**"
   ]
  },
  {
   "cell_type": "markdown",
   "metadata": {},
   "source": [
    "**Произведем идентичные расчеты для XOne**"
   ]
  },
  {
   "cell_type": "code",
   "execution_count": 36,
   "metadata": {},
   "outputs": [
    {
     "data": {
      "text/html": [
       "<div>\n",
       "<style scoped>\n",
       "    .dataframe tbody tr th:only-of-type {\n",
       "        vertical-align: middle;\n",
       "    }\n",
       "\n",
       "    .dataframe tbody tr th {\n",
       "        vertical-align: top;\n",
       "    }\n",
       "\n",
       "    .dataframe thead th {\n",
       "        text-align: right;\n",
       "    }\n",
       "</style>\n",
       "<table border=\"1\" class=\"dataframe\">\n",
       "  <thead>\n",
       "    <tr style=\"text-align: right;\">\n",
       "      <th></th>\n",
       "      <th>name</th>\n",
       "      <th>platform</th>\n",
       "      <th>year_of_release</th>\n",
       "      <th>genre</th>\n",
       "      <th>na_sales</th>\n",
       "      <th>eu_sales</th>\n",
       "      <th>jp_sales</th>\n",
       "      <th>other_sales</th>\n",
       "      <th>critic_score</th>\n",
       "      <th>user_score</th>\n",
       "      <th>rating</th>\n",
       "      <th>sum_sales</th>\n",
       "    </tr>\n",
       "  </thead>\n",
       "  <tbody>\n",
       "    <tr>\n",
       "      <th>99</th>\n",
       "      <td>Call of Duty: Black Ops 3</td>\n",
       "      <td>XOne</td>\n",
       "      <td>2015</td>\n",
       "      <td>Shooter</td>\n",
       "      <td>4.59</td>\n",
       "      <td>2.11</td>\n",
       "      <td>0.01</td>\n",
       "      <td>0.68</td>\n",
       "      <td>NaN</td>\n",
       "      <td>NaN</td>\n",
       "      <td>unk</td>\n",
       "      <td>7.39</td>\n",
       "    </tr>\n",
       "    <tr>\n",
       "      <th>165</th>\n",
       "      <td>Grand Theft Auto V</td>\n",
       "      <td>XOne</td>\n",
       "      <td>2014</td>\n",
       "      <td>Action</td>\n",
       "      <td>2.81</td>\n",
       "      <td>2.19</td>\n",
       "      <td>0.00</td>\n",
       "      <td>0.47</td>\n",
       "      <td>97.0</td>\n",
       "      <td>7.9</td>\n",
       "      <td>M</td>\n",
       "      <td>5.47</td>\n",
       "    </tr>\n",
       "    <tr>\n",
       "      <th>179</th>\n",
       "      <td>Call of Duty: Advanced Warfare</td>\n",
       "      <td>XOne</td>\n",
       "      <td>2014</td>\n",
       "      <td>Shooter</td>\n",
       "      <td>3.22</td>\n",
       "      <td>1.55</td>\n",
       "      <td>0.01</td>\n",
       "      <td>0.48</td>\n",
       "      <td>81.0</td>\n",
       "      <td>5.4</td>\n",
       "      <td>M</td>\n",
       "      <td>5.26</td>\n",
       "    </tr>\n",
       "    <tr>\n",
       "      <th>242</th>\n",
       "      <td>Halo 5: Guardians</td>\n",
       "      <td>XOne</td>\n",
       "      <td>2015</td>\n",
       "      <td>Shooter</td>\n",
       "      <td>2.78</td>\n",
       "      <td>1.27</td>\n",
       "      <td>0.03</td>\n",
       "      <td>0.41</td>\n",
       "      <td>84.0</td>\n",
       "      <td>6.4</td>\n",
       "      <td>T</td>\n",
       "      <td>4.49</td>\n",
       "    </tr>\n",
       "    <tr>\n",
       "      <th>270</th>\n",
       "      <td>Fallout 4</td>\n",
       "      <td>XOne</td>\n",
       "      <td>2015</td>\n",
       "      <td>Role-Playing</td>\n",
       "      <td>2.51</td>\n",
       "      <td>1.32</td>\n",
       "      <td>0.01</td>\n",
       "      <td>0.38</td>\n",
       "      <td>88.0</td>\n",
       "      <td>6.2</td>\n",
       "      <td>M</td>\n",
       "      <td>4.22</td>\n",
       "    </tr>\n",
       "    <tr>\n",
       "      <th>342</th>\n",
       "      <td>Star Wars Battlefront (2015)</td>\n",
       "      <td>XOne</td>\n",
       "      <td>2015</td>\n",
       "      <td>Shooter</td>\n",
       "      <td>2.04</td>\n",
       "      <td>1.28</td>\n",
       "      <td>0.02</td>\n",
       "      <td>0.32</td>\n",
       "      <td>NaN</td>\n",
       "      <td>NaN</td>\n",
       "      <td>unk</td>\n",
       "      <td>3.66</td>\n",
       "    </tr>\n",
       "    <tr>\n",
       "      <th>373</th>\n",
       "      <td>Assassin's Creed: Unity</td>\n",
       "      <td>XOne</td>\n",
       "      <td>2014</td>\n",
       "      <td>Action</td>\n",
       "      <td>2.27</td>\n",
       "      <td>0.90</td>\n",
       "      <td>0.00</td>\n",
       "      <td>0.33</td>\n",
       "      <td>72.0</td>\n",
       "      <td>4.1</td>\n",
       "      <td>M</td>\n",
       "      <td>3.50</td>\n",
       "    </tr>\n",
       "    <tr>\n",
       "      <th>398</th>\n",
       "      <td>Destiny</td>\n",
       "      <td>XOne</td>\n",
       "      <td>2014</td>\n",
       "      <td>Shooter</td>\n",
       "      <td>2.14</td>\n",
       "      <td>0.92</td>\n",
       "      <td>0.00</td>\n",
       "      <td>0.31</td>\n",
       "      <td>75.0</td>\n",
       "      <td>5.5</td>\n",
       "      <td>T</td>\n",
       "      <td>3.37</td>\n",
       "    </tr>\n",
       "    <tr>\n",
       "      <th>413</th>\n",
       "      <td>Gears of War: Ultimate Edition</td>\n",
       "      <td>XOne</td>\n",
       "      <td>2015</td>\n",
       "      <td>Shooter</td>\n",
       "      <td>2.61</td>\n",
       "      <td>0.33</td>\n",
       "      <td>0.00</td>\n",
       "      <td>0.34</td>\n",
       "      <td>82.0</td>\n",
       "      <td>7.5</td>\n",
       "      <td>M</td>\n",
       "      <td>3.28</td>\n",
       "    </tr>\n",
       "    <tr>\n",
       "      <th>417</th>\n",
       "      <td>FIFA 16</td>\n",
       "      <td>XOne</td>\n",
       "      <td>2015</td>\n",
       "      <td>Sports</td>\n",
       "      <td>0.89</td>\n",
       "      <td>2.12</td>\n",
       "      <td>0.00</td>\n",
       "      <td>0.24</td>\n",
       "      <td>84.0</td>\n",
       "      <td>4.4</td>\n",
       "      <td>E</td>\n",
       "      <td>3.25</td>\n",
       "    </tr>\n",
       "  </tbody>\n",
       "</table>\n",
       "</div>"
      ],
      "text/plain": [
       "                               name platform  year_of_release         genre  \\\n",
       "99        Call of Duty: Black Ops 3     XOne             2015       Shooter   \n",
       "165              Grand Theft Auto V     XOne             2014        Action   \n",
       "179  Call of Duty: Advanced Warfare     XOne             2014       Shooter   \n",
       "242               Halo 5: Guardians     XOne             2015       Shooter   \n",
       "270                       Fallout 4     XOne             2015  Role-Playing   \n",
       "342    Star Wars Battlefront (2015)     XOne             2015       Shooter   \n",
       "373         Assassin's Creed: Unity     XOne             2014        Action   \n",
       "398                         Destiny     XOne             2014       Shooter   \n",
       "413  Gears of War: Ultimate Edition     XOne             2015       Shooter   \n",
       "417                         FIFA 16     XOne             2015        Sports   \n",
       "\n",
       "     na_sales  eu_sales  jp_sales  other_sales  critic_score  user_score  \\\n",
       "99       4.59      2.11      0.01         0.68           NaN         NaN   \n",
       "165      2.81      2.19      0.00         0.47          97.0         7.9   \n",
       "179      3.22      1.55      0.01         0.48          81.0         5.4   \n",
       "242      2.78      1.27      0.03         0.41          84.0         6.4   \n",
       "270      2.51      1.32      0.01         0.38          88.0         6.2   \n",
       "342      2.04      1.28      0.02         0.32           NaN         NaN   \n",
       "373      2.27      0.90      0.00         0.33          72.0         4.1   \n",
       "398      2.14      0.92      0.00         0.31          75.0         5.5   \n",
       "413      2.61      0.33      0.00         0.34          82.0         7.5   \n",
       "417      0.89      2.12      0.00         0.24          84.0         4.4   \n",
       "\n",
       "    rating  sum_sales  \n",
       "99     unk       7.39  \n",
       "165      M       5.47  \n",
       "179      M       5.26  \n",
       "242      T       4.49  \n",
       "270      M       4.22  \n",
       "342    unk       3.66  \n",
       "373      M       3.50  \n",
       "398      T       3.37  \n",
       "413      M       3.28  \n",
       "417      E       3.25  "
      ]
     },
     "execution_count": 36,
     "metadata": {},
     "output_type": "execute_result"
    }
   ],
   "source": [
    "x_one = games.query('platform == \"XOne\"')\n",
    "x_one.sort_values(by = 'sum_sales', ascending = False).head(10) #смотрим самые прибыльные игры"
   ]
  },
  {
   "cell_type": "code",
   "execution_count": 37,
   "metadata": {},
   "outputs": [
    {
     "data": {
      "image/png": "[encoded data removed]",
      "text/plain": [
       "<Figure size 432x288 with 1 Axes>"
      ]
     },
     "metadata": {
      "needs_background": "light"
     },
     "output_type": "display_data"
    }
   ],
   "source": [
    "(x_one \n",
    "         .plot(x = 'user_score', y = 'sum_sales', kind = 'scatter', alpha = 0.5, \n",
    "          title='Зависимость между прибылью и рейтингом геймеров')\n",
    ");\n",
    "plt.ylabel('Прибыль');\n",
    "plt.xlabel('Рейтинг геймеров');"
   ]
  },
  {
   "cell_type": "code",
   "execution_count": 38,
   "metadata": {},
   "outputs": [
    {
     "data": {
      "text/plain": [
       "-0.0703839280647581"
      ]
     },
     "execution_count": 38,
     "metadata": {},
     "output_type": "execute_result"
    }
   ],
   "source": [
    "x_one['sum_sales'].corr(x_one['user_score'])"
   ]
  },
  {
   "cell_type": "code",
   "execution_count": 39,
   "metadata": {},
   "outputs": [
    {
     "data": {
      "image/png": "[encoded data removed]",
      "text/plain": [
       "<Figure size 432x288 with 1 Axes>"
      ]
     },
     "metadata": {
      "needs_background": "light"
     },
     "output_type": "display_data"
    }
   ],
   "source": [
    "(x_one \n",
    "         .plot(x = 'critic_score', y = 'sum_sales', kind = 'scatter', alpha = 0.5, \n",
    "          title='Зависимость между прибылью и рейтингом критиков')\n",
    ");\n",
    "plt.ylabel('Прибыль');\n",
    "plt.xlabel('Рейтинг критиков');"
   ]
  },
  {
   "cell_type": "code",
   "execution_count": 40,
   "metadata": {},
   "outputs": [
    {
     "data": {
      "text/plain": [
       "0.42867694370333226"
      ]
     },
     "execution_count": 40,
     "metadata": {},
     "output_type": "execute_result"
    }
   ],
   "source": [
    "x_one['sum_sales'].corr(x_one['critic_score'])"
   ]
  },
  {
   "cell_type": "markdown",
   "metadata": {},
   "source": [
    "**Выводы полностью аналогичны сделанным при расчетах связи оценки и реализации игр на PS4**"
   ]
  },
  {
   "cell_type": "markdown",
   "metadata": {},
   "source": [
    "**Посмотрим зависимость для всех платформ (не только тех, которые ранее были условно классифицированы, как топовые):**"
   ]
  },
  {
   "cell_type": "code",
   "execution_count": 41,
   "metadata": {},
   "outputs": [
    {
     "data": {
      "image/png": "[encoded data removed]",
      "text/plain": [
       "<Figure size 432x288 with 1 Axes>"
      ]
     },
     "metadata": {
      "needs_background": "light"
     },
     "output_type": "display_data"
    }
   ],
   "source": [
    "(games \n",
    "         .plot(x = 'critic_score', y = 'sum_sales', kind = 'scatter', alpha = 0.5, \n",
    "          title='Зависимость между прибылью и рейтингом критиков')\n",
    ");\n",
    "plt.ylabel('Прибыль');\n",
    "plt.xlabel('Рейтинг критиков');"
   ]
  },
  {
   "cell_type": "code",
   "execution_count": 42,
   "metadata": {},
   "outputs": [
    {
     "data": {
      "text/plain": [
       "0.328105086966363"
      ]
     },
     "execution_count": 42,
     "metadata": {},
     "output_type": "execute_result"
    }
   ],
   "source": [
    "games['sum_sales'].corr(games['critic_score'])"
   ]
  },
  {
   "cell_type": "code",
   "execution_count": 43,
   "metadata": {},
   "outputs": [
    {
     "data": {
      "image/png": "[encoded data removed]",
      "text/plain": [
       "<Figure size 432x288 with 1 Axes>"
      ]
     },
     "metadata": {
      "needs_background": "light"
     },
     "output_type": "display_data"
    }
   ],
   "source": [
    "(games \n",
    "         .plot(x = 'user_score', y = 'sum_sales', kind = 'scatter', alpha = 0.5, \n",
    "          title='Зависимость между прибылью и рейтингом геймеров')\n",
    ");\n",
    "plt.ylabel('Прибыль');\n",
    "plt.xlabel('Рейтинг геймеров');"
   ]
  },
  {
   "cell_type": "code",
   "execution_count": 44,
   "metadata": {},
   "outputs": [
    {
     "data": {
      "text/plain": [
       "-0.013070305002484585"
      ]
     },
     "execution_count": 44,
     "metadata": {},
     "output_type": "execute_result"
    }
   ],
   "source": [
    "games['sum_sales'].corr(games['user_score'])"
   ]
  },
  {
   "cell_type": "markdown",
   "metadata": {},
   "source": [
    "**Можно констатировать следующее: как и в случае перспективных платформ, критики и их оценки способны влиять на факт \"успешности\" реализации игры.**\n",
    "\n",
    "**По оценкам геймеров зависимость также, практически отсутствует.**"
   ]
  },
  {
   "cell_type": "markdown",
   "metadata": {},
   "source": [
    "### 3.6. Какие жанры востребованы геймерами?"
   ]
  },
  {
   "cell_type": "markdown",
   "metadata": {},
   "source": [
    "**Посмотрим, какие жанры наиболее востребованы среди геймеров:**"
   ]
  },
  {
   "cell_type": "code",
   "execution_count": 45,
   "metadata": {},
   "outputs": [
    {
     "data": {
      "text/html": [
       "<div>\n",
       "<style scoped>\n",
       "    .dataframe tbody tr th:only-of-type {\n",
       "        vertical-align: middle;\n",
       "    }\n",
       "\n",
       "    .dataframe tbody tr th {\n",
       "        vertical-align: top;\n",
       "    }\n",
       "\n",
       "    .dataframe thead th {\n",
       "        text-align: right;\n",
       "    }\n",
       "</style>\n",
       "<table border=\"1\" class=\"dataframe\">\n",
       "  <thead>\n",
       "    <tr style=\"text-align: right;\">\n",
       "      <th></th>\n",
       "      <th>sum_sales</th>\n",
       "    </tr>\n",
       "    <tr>\n",
       "      <th>genre</th>\n",
       "      <th></th>\n",
       "    </tr>\n",
       "  </thead>\n",
       "  <tbody>\n",
       "    <tr>\n",
       "      <th>Action</th>\n",
       "      <td>1716.52</td>\n",
       "    </tr>\n",
       "    <tr>\n",
       "      <th>Sports</th>\n",
       "      <td>1309.67</td>\n",
       "    </tr>\n",
       "    <tr>\n",
       "      <th>Shooter</th>\n",
       "      <td>1041.36</td>\n",
       "    </tr>\n",
       "    <tr>\n",
       "      <th>Role-Playing</th>\n",
       "      <td>931.08</td>\n",
       "    </tr>\n",
       "    <tr>\n",
       "      <th>Platform</th>\n",
       "      <td>825.55</td>\n",
       "    </tr>\n",
       "    <tr>\n",
       "      <th>Misc</th>\n",
       "      <td>790.29</td>\n",
       "    </tr>\n",
       "    <tr>\n",
       "      <th>Racing</th>\n",
       "      <td>723.49</td>\n",
       "    </tr>\n",
       "    <tr>\n",
       "      <th>Fighting</th>\n",
       "      <td>442.66</td>\n",
       "    </tr>\n",
       "    <tr>\n",
       "      <th>Simulation</th>\n",
       "      <td>387.96</td>\n",
       "    </tr>\n",
       "    <tr>\n",
       "      <th>Puzzle</th>\n",
       "      <td>239.89</td>\n",
       "    </tr>\n",
       "  </tbody>\n",
       "</table>\n",
       "</div>"
      ],
      "text/plain": [
       "              sum_sales\n",
       "genre                  \n",
       "Action          1716.52\n",
       "Sports          1309.67\n",
       "Shooter         1041.36\n",
       "Role-Playing     931.08\n",
       "Platform         825.55\n",
       "Misc             790.29\n",
       "Racing           723.49\n",
       "Fighting         442.66\n",
       "Simulation       387.96\n",
       "Puzzle           239.89"
      ]
     },
     "metadata": {},
     "output_type": "display_data"
    }
   ],
   "source": [
    "top_genre = data.pivot_table(index='genre', values='sum_sales', aggfunc='sum').sort_values(by='sum_sales', ascending=False).head(10)\n",
    "display(top_genre)"
   ]
  },
  {
   "cell_type": "markdown",
   "metadata": {},
   "source": [
    "Для наглядности, обратимся к графику"
   ]
  },
  {
   "cell_type": "code",
   "execution_count": 46,
   "metadata": {},
   "outputs": [
    {
     "data": {
      "text/plain": [
       "<AxesSubplot:ylabel='genre'>"
      ]
     },
     "execution_count": 46,
     "metadata": {},
     "output_type": "execute_result"
    },
    {
     "data": {
      "image/png": "[encoded data removed]",
      "text/plain": [
       "<Figure size 864x864 with 1 Axes>"
      ]
     },
     "metadata": {},
     "output_type": "display_data"
    }
   ],
   "source": [
    "data['genre'].value_counts().plot(kind='pie', figsize=(12, 12), legend=False)"
   ]
  },
  {
   "cell_type": "markdown",
   "metadata": {},
   "source": [
    "Тройка самых популярных жанров: Action, Sports, Shooter. Меньше всего нравятся симуляторы и паззлы."
   ]
  },
  {
   "cell_type": "code",
   "execution_count": 47,
   "metadata": {},
   "outputs": [
    {
     "data": {
      "image/png": "[encoded data removed]",
      "text/plain": [
       "<Figure size 720x360 with 1 Axes>"
      ]
     },
     "metadata": {
      "needs_background": "light"
     },
     "output_type": "display_data"
    }
   ],
   "source": [
    "top_genre.plot(y='sum_sales', kind='bar', figsize=(10, 5), title='Зависимость между прибылью и жанром игр')\n",
    "\n",
    "plt.ylabel('Количество проданных копий');\n",
    "plt.xlabel('Жанр');"
   ]
  },
  {
   "cell_type": "markdown",
   "metadata": {},
   "source": [
    "График выглядит вполне предсказуемо: логично, что если экшн наиболее часто покупается, прибыль от него тоже будет значительно выше чем от других жанров."
   ]
  },
  {
   "cell_type": "markdown",
   "metadata": {},
   "source": [
    "### 3.7. Вывод"
   ]
  },
  {
   "cell_type": "markdown",
   "metadata": {},
   "source": [
    "- Индустрия компьютерных игр начала расти с 1995 года и достигла своего пика в 2008-2009 годах\n",
    "- \"Цикл жизни\" каждой платформы, впервые выходящей на рынок составляет ~ 5 лет\n",
    "- С 2014 года пользователи наиболее активно приобретали игры для следующих платформ: PS4, 3DS\n",
    "- Перспективными можно считать платформы PS4, XOne\n",
    "- Критики и их оценки способны влиять на продажу продукта\n",
    "- Пользовательские оценки не влияют на реализацию игр\n",
    "- Тройка наиболее часто приобретаемых и, соответственно, прибыльных жанров: Action, Sports, Shooter"
   ]
  },
  {
   "cell_type": "markdown",
   "metadata": {},
   "source": [
    "# Шаг 4. Составление портрета пользователя каждого региона"
   ]
  },
  {
   "cell_type": "markdown",
   "metadata": {},
   "source": [
    "**Примерный план выполнения шага:**\n",
    "- Сформировать \"портрет\" геймеров из каждого сегмента рынка: Северная Америка, Европа, Япония, другие страны\n",
    "- Установить, что общего между полученными портретами и каковы различия между потребителями из разных стран"
   ]
  },
  {
   "cell_type": "markdown",
   "metadata": {},
   "source": [
    "## 4.1. **Портрет геймеров в Северной Америке**"
   ]
  },
  {
   "cell_type": "markdown",
   "metadata": {},
   "source": [
    "**Определим топ-5 продаваемых платформ по сегменту Северная Америка (NA)**"
   ]
  },
  {
   "cell_type": "code",
   "execution_count": 48,
   "metadata": {},
   "outputs": [
    {
     "data": {
      "text/html": [
       "<div>\n",
       "<style scoped>\n",
       "    .dataframe tbody tr th:only-of-type {\n",
       "        vertical-align: middle;\n",
       "    }\n",
       "\n",
       "    .dataframe tbody tr th {\n",
       "        vertical-align: top;\n",
       "    }\n",
       "\n",
       "    .dataframe thead th {\n",
       "        text-align: right;\n",
       "    }\n",
       "</style>\n",
       "<table border=\"1\" class=\"dataframe\">\n",
       "  <thead>\n",
       "    <tr style=\"text-align: right;\">\n",
       "      <th></th>\n",
       "      <th>platform</th>\n",
       "      <th>na_sales</th>\n",
       "    </tr>\n",
       "  </thead>\n",
       "  <tbody>\n",
       "    <tr>\n",
       "      <th>3</th>\n",
       "      <td>PS4</td>\n",
       "      <td>98.61</td>\n",
       "    </tr>\n",
       "    <tr>\n",
       "      <th>9</th>\n",
       "      <td>XOne</td>\n",
       "      <td>81.27</td>\n",
       "    </tr>\n",
       "    <tr>\n",
       "      <th>8</th>\n",
       "      <td>X360</td>\n",
       "      <td>28.30</td>\n",
       "    </tr>\n",
       "    <tr>\n",
       "      <th>0</th>\n",
       "      <td>3DS</td>\n",
       "      <td>22.64</td>\n",
       "    </tr>\n",
       "    <tr>\n",
       "      <th>2</th>\n",
       "      <td>PS3</td>\n",
       "      <td>22.05</td>\n",
       "    </tr>\n",
       "  </tbody>\n",
       "</table>\n",
       "</div>"
      ],
      "text/plain": [
       "  platform  na_sales\n",
       "3      PS4     98.61\n",
       "9     XOne     81.27\n",
       "8     X360     28.30\n",
       "0      3DS     22.64\n",
       "2      PS3     22.05"
      ]
     },
     "metadata": {},
     "output_type": "display_data"
    }
   ],
   "source": [
    "na_top5_platform = games.pivot_table(index='platform', values='na_sales', aggfunc='sum').reset_index().sort_values(by = 'na_sales', ascending = False).head()\n",
    "display(na_top5_platform)"
   ]
  },
  {
   "cell_type": "code",
   "execution_count": 49,
   "metadata": {},
   "outputs": [
    {
     "data": {
      "text/html": [
       "<div>\n",
       "<style scoped>\n",
       "    .dataframe tbody tr th:only-of-type {\n",
       "        vertical-align: middle;\n",
       "    }\n",
       "\n",
       "    .dataframe tbody tr th {\n",
       "        vertical-align: top;\n",
       "    }\n",
       "\n",
       "    .dataframe thead th {\n",
       "        text-align: right;\n",
       "    }\n",
       "</style>\n",
       "<table border=\"1\" class=\"dataframe\">\n",
       "  <thead>\n",
       "    <tr style=\"text-align: right;\">\n",
       "      <th></th>\n",
       "      <th>genre</th>\n",
       "      <th>na_sales</th>\n",
       "    </tr>\n",
       "  </thead>\n",
       "  <tbody>\n",
       "    <tr>\n",
       "      <th>8</th>\n",
       "      <td>Shooter</td>\n",
       "      <td>79.02</td>\n",
       "    </tr>\n",
       "    <tr>\n",
       "      <th>0</th>\n",
       "      <td>Action</td>\n",
       "      <td>72.53</td>\n",
       "    </tr>\n",
       "    <tr>\n",
       "      <th>10</th>\n",
       "      <td>Sports</td>\n",
       "      <td>46.13</td>\n",
       "    </tr>\n",
       "    <tr>\n",
       "      <th>7</th>\n",
       "      <td>Role-Playing</td>\n",
       "      <td>33.47</td>\n",
       "    </tr>\n",
       "    <tr>\n",
       "      <th>3</th>\n",
       "      <td>Misc</td>\n",
       "      <td>15.05</td>\n",
       "    </tr>\n",
       "  </tbody>\n",
       "</table>\n",
       "</div>"
      ],
      "text/plain": [
       "           genre  na_sales\n",
       "8        Shooter     79.02\n",
       "0         Action     72.53\n",
       "10        Sports     46.13\n",
       "7   Role-Playing     33.47\n",
       "3           Misc     15.05"
      ]
     },
     "metadata": {},
     "output_type": "display_data"
    }
   ],
   "source": [
    "na_top5_genre = games.pivot_table(index='genre', values='na_sales', aggfunc='sum').reset_index().sort_values(by = 'na_sales', ascending = False).head()\n",
    "display(na_top5_genre)"
   ]
  },
  {
   "cell_type": "code",
   "execution_count": 50,
   "metadata": {},
   "outputs": [
    {
     "data": {
      "text/html": [
       "<div>\n",
       "<style scoped>\n",
       "    .dataframe tbody tr th:only-of-type {\n",
       "        vertical-align: middle;\n",
       "    }\n",
       "\n",
       "    .dataframe tbody tr th {\n",
       "        vertical-align: top;\n",
       "    }\n",
       "\n",
       "    .dataframe thead th {\n",
       "        text-align: right;\n",
       "    }\n",
       "</style>\n",
       "<table border=\"1\" class=\"dataframe\">\n",
       "  <thead>\n",
       "    <tr style=\"text-align: right;\">\n",
       "      <th></th>\n",
       "      <th>rating</th>\n",
       "      <th>na_sales</th>\n",
       "    </tr>\n",
       "  </thead>\n",
       "  <tbody>\n",
       "    <tr>\n",
       "      <th>2</th>\n",
       "      <td>M</td>\n",
       "      <td>96.42</td>\n",
       "    </tr>\n",
       "    <tr>\n",
       "      <th>4</th>\n",
       "      <td>unk</td>\n",
       "      <td>64.72</td>\n",
       "    </tr>\n",
       "    <tr>\n",
       "      <th>0</th>\n",
       "      <td>E</td>\n",
       "      <td>50.74</td>\n",
       "    </tr>\n",
       "    <tr>\n",
       "      <th>3</th>\n",
       "      <td>T</td>\n",
       "      <td>38.95</td>\n",
       "    </tr>\n",
       "    <tr>\n",
       "      <th>1</th>\n",
       "      <td>E10+</td>\n",
       "      <td>33.23</td>\n",
       "    </tr>\n",
       "  </tbody>\n",
       "</table>\n",
       "</div>"
      ],
      "text/plain": [
       "  rating  na_sales\n",
       "2      M     96.42\n",
       "4    unk     64.72\n",
       "0      E     50.74\n",
       "3      T     38.95\n",
       "1   E10+     33.23"
      ]
     },
     "metadata": {},
     "output_type": "display_data"
    }
   ],
   "source": [
    "rating_na = games.groupby('rating')['na_sales'].sum().reset_index().sort_values(by='na_sales', ascending=False).head()\n",
    "display(rating_na)"
   ]
  },
  {
   "cell_type": "markdown",
   "metadata": {},
   "source": [
    "**Описание рынка игр в Северной Америке**\n",
    "- В Северной Америке рынок игр \"захватил\" PS4, но XOne, пусть и отстает, но не многократно\n",
    "- Тройка жанров аналогична результату исследования на прошлом этапе: Action, Shooter, Sports\n",
    "- Наибольшую прибыль приносят продажи игр с рейтингом М. На втором месте - неизвестный рейтинг. Тут следует вспомнить, что на стадии предобработки было решено, что это не только пропуски, в смысле проблемы с данными, но и TBD - где рейтинг не определен. Судя по всему, есть сегмент пользователей, которым непринципиально во что играть."
   ]
  },
  {
   "cell_type": "markdown",
   "metadata": {},
   "source": [
    "## 4.2. **Портрет геймеров в Европе**"
   ]
  },
  {
   "cell_type": "code",
   "execution_count": 51,
   "metadata": {},
   "outputs": [
    {
     "data": {
      "text/html": [
       "<div>\n",
       "<style scoped>\n",
       "    .dataframe tbody tr th:only-of-type {\n",
       "        vertical-align: middle;\n",
       "    }\n",
       "\n",
       "    .dataframe tbody tr th {\n",
       "        vertical-align: top;\n",
       "    }\n",
       "\n",
       "    .dataframe thead th {\n",
       "        text-align: right;\n",
       "    }\n",
       "</style>\n",
       "<table border=\"1\" class=\"dataframe\">\n",
       "  <thead>\n",
       "    <tr style=\"text-align: right;\">\n",
       "      <th></th>\n",
       "      <th>platform</th>\n",
       "      <th>eu_sales</th>\n",
       "    </tr>\n",
       "  </thead>\n",
       "  <tbody>\n",
       "    <tr>\n",
       "      <th>3</th>\n",
       "      <td>PS4</td>\n",
       "      <td>130.04</td>\n",
       "    </tr>\n",
       "    <tr>\n",
       "      <th>9</th>\n",
       "      <td>XOne</td>\n",
       "      <td>46.25</td>\n",
       "    </tr>\n",
       "    <tr>\n",
       "      <th>2</th>\n",
       "      <td>PS3</td>\n",
       "      <td>25.54</td>\n",
       "    </tr>\n",
       "    <tr>\n",
       "      <th>1</th>\n",
       "      <td>PC</td>\n",
       "      <td>17.97</td>\n",
       "    </tr>\n",
       "    <tr>\n",
       "      <th>0</th>\n",
       "      <td>3DS</td>\n",
       "      <td>16.12</td>\n",
       "    </tr>\n",
       "  </tbody>\n",
       "</table>\n",
       "</div>"
      ],
      "text/plain": [
       "  platform  eu_sales\n",
       "3      PS4    130.04\n",
       "9     XOne     46.25\n",
       "2      PS3     25.54\n",
       "1       PC     17.97\n",
       "0      3DS     16.12"
      ]
     },
     "metadata": {},
     "output_type": "display_data"
    }
   ],
   "source": [
    "eu_top5_platform = games.pivot_table(index='platform', values='eu_sales', aggfunc='sum').reset_index().sort_values(by = 'eu_sales', ascending = False).head()\n",
    "display(eu_top5_platform)"
   ]
  },
  {
   "cell_type": "code",
   "execution_count": 52,
   "metadata": {},
   "outputs": [
    {
     "data": {
      "text/html": [
       "<div>\n",
       "<style scoped>\n",
       "    .dataframe tbody tr th:only-of-type {\n",
       "        vertical-align: middle;\n",
       "    }\n",
       "\n",
       "    .dataframe tbody tr th {\n",
       "        vertical-align: top;\n",
       "    }\n",
       "\n",
       "    .dataframe thead th {\n",
       "        text-align: right;\n",
       "    }\n",
       "</style>\n",
       "<table border=\"1\" class=\"dataframe\">\n",
       "  <thead>\n",
       "    <tr style=\"text-align: right;\">\n",
       "      <th></th>\n",
       "      <th>genre</th>\n",
       "      <th>eu_sales</th>\n",
       "    </tr>\n",
       "  </thead>\n",
       "  <tbody>\n",
       "    <tr>\n",
       "      <th>0</th>\n",
       "      <td>Action</td>\n",
       "      <td>74.68</td>\n",
       "    </tr>\n",
       "    <tr>\n",
       "      <th>8</th>\n",
       "      <td>Shooter</td>\n",
       "      <td>65.52</td>\n",
       "    </tr>\n",
       "    <tr>\n",
       "      <th>10</th>\n",
       "      <td>Sports</td>\n",
       "      <td>45.73</td>\n",
       "    </tr>\n",
       "    <tr>\n",
       "      <th>7</th>\n",
       "      <td>Role-Playing</td>\n",
       "      <td>28.17</td>\n",
       "    </tr>\n",
       "    <tr>\n",
       "      <th>6</th>\n",
       "      <td>Racing</td>\n",
       "      <td>14.13</td>\n",
       "    </tr>\n",
       "  </tbody>\n",
       "</table>\n",
       "</div>"
      ],
      "text/plain": [
       "           genre  eu_sales\n",
       "0         Action     74.68\n",
       "8        Shooter     65.52\n",
       "10        Sports     45.73\n",
       "7   Role-Playing     28.17\n",
       "6         Racing     14.13"
      ]
     },
     "metadata": {},
     "output_type": "display_data"
    }
   ],
   "source": [
    "eu_top5_genre = games.pivot_table(index='genre', values='eu_sales', aggfunc='sum').reset_index().sort_values(by = 'eu_sales', ascending = False).head()\n",
    "display(eu_top5_genre)"
   ]
  },
  {
   "cell_type": "code",
   "execution_count": 53,
   "metadata": {},
   "outputs": [
    {
     "data": {
      "text/html": [
       "<div>\n",
       "<style scoped>\n",
       "    .dataframe tbody tr th:only-of-type {\n",
       "        vertical-align: middle;\n",
       "    }\n",
       "\n",
       "    .dataframe tbody tr th {\n",
       "        vertical-align: top;\n",
       "    }\n",
       "\n",
       "    .dataframe thead th {\n",
       "        text-align: right;\n",
       "    }\n",
       "</style>\n",
       "<table border=\"1\" class=\"dataframe\">\n",
       "  <thead>\n",
       "    <tr style=\"text-align: right;\">\n",
       "      <th></th>\n",
       "      <th>rating</th>\n",
       "      <th>eu_sales</th>\n",
       "    </tr>\n",
       "  </thead>\n",
       "  <tbody>\n",
       "    <tr>\n",
       "      <th>2</th>\n",
       "      <td>M</td>\n",
       "      <td>93.44</td>\n",
       "    </tr>\n",
       "    <tr>\n",
       "      <th>4</th>\n",
       "      <td>unk</td>\n",
       "      <td>58.95</td>\n",
       "    </tr>\n",
       "    <tr>\n",
       "      <th>0</th>\n",
       "      <td>E</td>\n",
       "      <td>58.06</td>\n",
       "    </tr>\n",
       "    <tr>\n",
       "      <th>3</th>\n",
       "      <td>T</td>\n",
       "      <td>34.07</td>\n",
       "    </tr>\n",
       "    <tr>\n",
       "      <th>1</th>\n",
       "      <td>E10+</td>\n",
       "      <td>26.16</td>\n",
       "    </tr>\n",
       "  </tbody>\n",
       "</table>\n",
       "</div>"
      ],
      "text/plain": [
       "  rating  eu_sales\n",
       "2      M     93.44\n",
       "4    unk     58.95\n",
       "0      E     58.06\n",
       "3      T     34.07\n",
       "1   E10+     26.16"
      ]
     },
     "metadata": {},
     "output_type": "display_data"
    }
   ],
   "source": [
    "rating_eu = games.groupby('rating')['eu_sales'].sum().reset_index().sort_values(by='eu_sales', ascending=False).head()\n",
    "display(rating_eu)"
   ]
  },
  {
   "cell_type": "markdown",
   "metadata": {},
   "source": [
    "**Описание рынка игр в Европе**\n",
    "- Европейцы более \"жалуют\" PS4 - приобретают продукты для этой консоли более чем в 2,5 раза чаще, чем на XOne\n",
    "- Тройка жанров аналогична результату исследования на прошлом этапе (как в Северной Америке): Action, Shooter, Sports\n",
    "- Наибольшую прибыль приносят продажи игр с рейтингом М, аналогично"
   ]
  },
  {
   "cell_type": "markdown",
   "metadata": {},
   "source": [
    "## 4.3. **Портрет геймеров в Японии**"
   ]
  },
  {
   "cell_type": "code",
   "execution_count": 54,
   "metadata": {},
   "outputs": [
    {
     "data": {
      "text/html": [
       "<div>\n",
       "<style scoped>\n",
       "    .dataframe tbody tr th:only-of-type {\n",
       "        vertical-align: middle;\n",
       "    }\n",
       "\n",
       "    .dataframe tbody tr th {\n",
       "        vertical-align: top;\n",
       "    }\n",
       "\n",
       "    .dataframe thead th {\n",
       "        text-align: right;\n",
       "    }\n",
       "</style>\n",
       "<table border=\"1\" class=\"dataframe\">\n",
       "  <thead>\n",
       "    <tr style=\"text-align: right;\">\n",
       "      <th></th>\n",
       "      <th>platform</th>\n",
       "      <th>jp_sales</th>\n",
       "    </tr>\n",
       "  </thead>\n",
       "  <tbody>\n",
       "    <tr>\n",
       "      <th>0</th>\n",
       "      <td>3DS</td>\n",
       "      <td>44.24</td>\n",
       "    </tr>\n",
       "    <tr>\n",
       "      <th>3</th>\n",
       "      <td>PS4</td>\n",
       "      <td>15.02</td>\n",
       "    </tr>\n",
       "    <tr>\n",
       "      <th>5</th>\n",
       "      <td>PSV</td>\n",
       "      <td>14.54</td>\n",
       "    </tr>\n",
       "    <tr>\n",
       "      <th>2</th>\n",
       "      <td>PS3</td>\n",
       "      <td>11.22</td>\n",
       "    </tr>\n",
       "    <tr>\n",
       "      <th>7</th>\n",
       "      <td>WiiU</td>\n",
       "      <td>7.31</td>\n",
       "    </tr>\n",
       "  </tbody>\n",
       "</table>\n",
       "</div>"
      ],
      "text/plain": [
       "  platform  jp_sales\n",
       "0      3DS     44.24\n",
       "3      PS4     15.02\n",
       "5      PSV     14.54\n",
       "2      PS3     11.22\n",
       "7     WiiU      7.31"
      ]
     },
     "metadata": {},
     "output_type": "display_data"
    }
   ],
   "source": [
    "jp_top5_platform = games.pivot_table(index='platform', values='jp_sales', aggfunc='sum').reset_index().sort_values(by = 'jp_sales', ascending = False).head()\n",
    "display(jp_top5_platform)"
   ]
  },
  {
   "cell_type": "code",
   "execution_count": 55,
   "metadata": {},
   "outputs": [
    {
     "data": {
      "text/html": [
       "<div>\n",
       "<style scoped>\n",
       "    .dataframe tbody tr th:only-of-type {\n",
       "        vertical-align: middle;\n",
       "    }\n",
       "\n",
       "    .dataframe tbody tr th {\n",
       "        vertical-align: top;\n",
       "    }\n",
       "\n",
       "    .dataframe thead th {\n",
       "        text-align: right;\n",
       "    }\n",
       "</style>\n",
       "<table border=\"1\" class=\"dataframe\">\n",
       "  <thead>\n",
       "    <tr style=\"text-align: right;\">\n",
       "      <th></th>\n",
       "      <th>genre</th>\n",
       "      <th>jp_sales</th>\n",
       "    </tr>\n",
       "  </thead>\n",
       "  <tbody>\n",
       "    <tr>\n",
       "      <th>7</th>\n",
       "      <td>Role-Playing</td>\n",
       "      <td>31.16</td>\n",
       "    </tr>\n",
       "    <tr>\n",
       "      <th>0</th>\n",
       "      <td>Action</td>\n",
       "      <td>29.58</td>\n",
       "    </tr>\n",
       "    <tr>\n",
       "      <th>2</th>\n",
       "      <td>Fighting</td>\n",
       "      <td>6.37</td>\n",
       "    </tr>\n",
       "    <tr>\n",
       "      <th>3</th>\n",
       "      <td>Misc</td>\n",
       "      <td>5.61</td>\n",
       "    </tr>\n",
       "    <tr>\n",
       "      <th>8</th>\n",
       "      <td>Shooter</td>\n",
       "      <td>4.87</td>\n",
       "    </tr>\n",
       "  </tbody>\n",
       "</table>\n",
       "</div>"
      ],
      "text/plain": [
       "          genre  jp_sales\n",
       "7  Role-Playing     31.16\n",
       "0        Action     29.58\n",
       "2      Fighting      6.37\n",
       "3          Misc      5.61\n",
       "8       Shooter      4.87"
      ]
     },
     "metadata": {},
     "output_type": "display_data"
    }
   ],
   "source": [
    "jp_top5_genre = games.pivot_table(index='genre', values='jp_sales', aggfunc='sum').reset_index().sort_values(by = 'jp_sales', ascending = False).head()\n",
    "display(jp_top5_genre)"
   ]
  },
  {
   "cell_type": "code",
   "execution_count": 56,
   "metadata": {},
   "outputs": [
    {
     "data": {
      "text/html": [
       "<div>\n",
       "<style scoped>\n",
       "    .dataframe tbody tr th:only-of-type {\n",
       "        vertical-align: middle;\n",
       "    }\n",
       "\n",
       "    .dataframe tbody tr th {\n",
       "        vertical-align: top;\n",
       "    }\n",
       "\n",
       "    .dataframe thead th {\n",
       "        text-align: right;\n",
       "    }\n",
       "</style>\n",
       "<table border=\"1\" class=\"dataframe\">\n",
       "  <thead>\n",
       "    <tr style=\"text-align: right;\">\n",
       "      <th></th>\n",
       "      <th>rating</th>\n",
       "      <th>jp_sales</th>\n",
       "    </tr>\n",
       "  </thead>\n",
       "  <tbody>\n",
       "    <tr>\n",
       "      <th>4</th>\n",
       "      <td>unk</td>\n",
       "      <td>56.90</td>\n",
       "    </tr>\n",
       "    <tr>\n",
       "      <th>3</th>\n",
       "      <td>T</td>\n",
       "      <td>14.78</td>\n",
       "    </tr>\n",
       "    <tr>\n",
       "      <th>0</th>\n",
       "      <td>E</td>\n",
       "      <td>8.94</td>\n",
       "    </tr>\n",
       "    <tr>\n",
       "      <th>2</th>\n",
       "      <td>M</td>\n",
       "      <td>8.01</td>\n",
       "    </tr>\n",
       "    <tr>\n",
       "      <th>1</th>\n",
       "      <td>E10+</td>\n",
       "      <td>4.46</td>\n",
       "    </tr>\n",
       "  </tbody>\n",
       "</table>\n",
       "</div>"
      ],
      "text/plain": [
       "  rating  jp_sales\n",
       "4    unk     56.90\n",
       "3      T     14.78\n",
       "0      E      8.94\n",
       "2      M      8.01\n",
       "1   E10+      4.46"
      ]
     },
     "metadata": {},
     "output_type": "display_data"
    }
   ],
   "source": [
    "rating_jp = games.groupby('rating')['jp_sales'].sum().reset_index().sort_values(by='jp_sales', ascending=False).head()\n",
    "display(rating_jp)"
   ]
  },
  {
   "cell_type": "markdown",
   "metadata": {},
   "source": [
    "**Описание рынка игр в Японии**\n",
    "- Японцам значительно больше нравится 3DS, продается в 2 раза чаще, чем PS4\n",
    "- Тройка жанров совсем другая, преобладают \"спокойные\" жанры, но Action тоже есть, вот только востребован он куда меньше, чем в других сегментах\n",
    "- Наибольшую прибыль приносят продажи игр с неизвестным в рамках данного исследования рейтингом. Видимо, для японцев факт возрастного ограничения менее критичен. Наиболее продаваемый в Америке и Европе М лишь четвертый."
   ]
  },
  {
   "cell_type": "markdown",
   "metadata": {},
   "source": [
    "## 4.4. **Портрет геймеров в других странах**"
   ]
  },
  {
   "cell_type": "code",
   "execution_count": 57,
   "metadata": {},
   "outputs": [
    {
     "data": {
      "text/html": [
       "<div>\n",
       "<style scoped>\n",
       "    .dataframe tbody tr th:only-of-type {\n",
       "        vertical-align: middle;\n",
       "    }\n",
       "\n",
       "    .dataframe tbody tr th {\n",
       "        vertical-align: top;\n",
       "    }\n",
       "\n",
       "    .dataframe thead th {\n",
       "        text-align: right;\n",
       "    }\n",
       "</style>\n",
       "<table border=\"1\" class=\"dataframe\">\n",
       "  <thead>\n",
       "    <tr style=\"text-align: right;\">\n",
       "      <th></th>\n",
       "      <th>platform</th>\n",
       "      <th>other_sales</th>\n",
       "    </tr>\n",
       "  </thead>\n",
       "  <tbody>\n",
       "    <tr>\n",
       "      <th>3</th>\n",
       "      <td>PS4</td>\n",
       "      <td>44.48</td>\n",
       "    </tr>\n",
       "    <tr>\n",
       "      <th>9</th>\n",
       "      <td>XOne</td>\n",
       "      <td>12.52</td>\n",
       "    </tr>\n",
       "    <tr>\n",
       "      <th>2</th>\n",
       "      <td>PS3</td>\n",
       "      <td>9.37</td>\n",
       "    </tr>\n",
       "    <tr>\n",
       "      <th>8</th>\n",
       "      <td>X360</td>\n",
       "      <td>4.35</td>\n",
       "    </tr>\n",
       "    <tr>\n",
       "      <th>0</th>\n",
       "      <td>3DS</td>\n",
       "      <td>3.68</td>\n",
       "    </tr>\n",
       "  </tbody>\n",
       "</table>\n",
       "</div>"
      ],
      "text/plain": [
       "  platform  other_sales\n",
       "3      PS4        44.48\n",
       "9     XOne        12.52\n",
       "2      PS3         9.37\n",
       "8     X360         4.35\n",
       "0      3DS         3.68"
      ]
     },
     "metadata": {},
     "output_type": "display_data"
    }
   ],
   "source": [
    "other_top5_platform = games.pivot_table(index='platform', values='other_sales', aggfunc='sum').reset_index().sort_values(by = 'other_sales', ascending = False).head()\n",
    "display(other_top5_platform)"
   ]
  },
  {
   "cell_type": "code",
   "execution_count": 58,
   "metadata": {},
   "outputs": [
    {
     "data": {
      "text/html": [
       "<div>\n",
       "<style scoped>\n",
       "    .dataframe tbody tr th:only-of-type {\n",
       "        vertical-align: middle;\n",
       "    }\n",
       "\n",
       "    .dataframe tbody tr th {\n",
       "        vertical-align: top;\n",
       "    }\n",
       "\n",
       "    .dataframe thead th {\n",
       "        text-align: right;\n",
       "    }\n",
       "</style>\n",
       "<table border=\"1\" class=\"dataframe\">\n",
       "  <thead>\n",
       "    <tr style=\"text-align: right;\">\n",
       "      <th></th>\n",
       "      <th>genre</th>\n",
       "      <th>other_sales</th>\n",
       "    </tr>\n",
       "  </thead>\n",
       "  <tbody>\n",
       "    <tr>\n",
       "      <th>0</th>\n",
       "      <td>Action</td>\n",
       "      <td>22.57</td>\n",
       "    </tr>\n",
       "    <tr>\n",
       "      <th>8</th>\n",
       "      <td>Shooter</td>\n",
       "      <td>21.53</td>\n",
       "    </tr>\n",
       "    <tr>\n",
       "      <th>10</th>\n",
       "      <td>Sports</td>\n",
       "      <td>14.36</td>\n",
       "    </tr>\n",
       "    <tr>\n",
       "      <th>7</th>\n",
       "      <td>Role-Playing</td>\n",
       "      <td>8.64</td>\n",
       "    </tr>\n",
       "    <tr>\n",
       "      <th>3</th>\n",
       "      <td>Misc</td>\n",
       "      <td>4.03</td>\n",
       "    </tr>\n",
       "  </tbody>\n",
       "</table>\n",
       "</div>"
      ],
      "text/plain": [
       "           genre  other_sales\n",
       "0         Action        22.57\n",
       "8        Shooter        21.53\n",
       "10        Sports        14.36\n",
       "7   Role-Playing         8.64\n",
       "3           Misc         4.03"
      ]
     },
     "metadata": {},
     "output_type": "display_data"
    }
   ],
   "source": [
    "other_top5_genre = games.pivot_table(index='genre', values='other_sales', aggfunc='sum').reset_index().sort_values(by = 'other_sales', ascending = False).head()\n",
    "display(other_top5_genre)"
   ]
  },
  {
   "cell_type": "code",
   "execution_count": 59,
   "metadata": {},
   "outputs": [
    {
     "data": {
      "text/html": [
       "<div>\n",
       "<style scoped>\n",
       "    .dataframe tbody tr th:only-of-type {\n",
       "        vertical-align: middle;\n",
       "    }\n",
       "\n",
       "    .dataframe tbody tr th {\n",
       "        vertical-align: top;\n",
       "    }\n",
       "\n",
       "    .dataframe thead th {\n",
       "        text-align: right;\n",
       "    }\n",
       "</style>\n",
       "<table border=\"1\" class=\"dataframe\">\n",
       "  <thead>\n",
       "    <tr style=\"text-align: right;\">\n",
       "      <th></th>\n",
       "      <th>rating</th>\n",
       "      <th>other_sales</th>\n",
       "    </tr>\n",
       "  </thead>\n",
       "  <tbody>\n",
       "    <tr>\n",
       "      <th>2</th>\n",
       "      <td>M</td>\n",
       "      <td>28.67</td>\n",
       "    </tr>\n",
       "    <tr>\n",
       "      <th>4</th>\n",
       "      <td>unk</td>\n",
       "      <td>18.40</td>\n",
       "    </tr>\n",
       "    <tr>\n",
       "      <th>0</th>\n",
       "      <td>E</td>\n",
       "      <td>15.39</td>\n",
       "    </tr>\n",
       "    <tr>\n",
       "      <th>3</th>\n",
       "      <td>T</td>\n",
       "      <td>11.33</td>\n",
       "    </tr>\n",
       "    <tr>\n",
       "      <th>1</th>\n",
       "      <td>E10+</td>\n",
       "      <td>7.83</td>\n",
       "    </tr>\n",
       "  </tbody>\n",
       "</table>\n",
       "</div>"
      ],
      "text/plain": [
       "  rating  other_sales\n",
       "2      M        28.67\n",
       "4    unk        18.40\n",
       "0      E        15.39\n",
       "3      T        11.33\n",
       "1   E10+         7.83"
      ]
     },
     "metadata": {},
     "output_type": "display_data"
    }
   ],
   "source": [
    "rating_other = games.groupby('rating')['other_sales'].sum().reset_index().sort_values(by='other_sales', ascending=False).head()\n",
    "display(rating_other)"
   ]
  },
  {
   "cell_type": "markdown",
   "metadata": {},
   "source": [
    "Картина по другим странам идентична данным по Европе и не особо отличается от американской. Выделяется только Япония"
   ]
  },
  {
   "cell_type": "markdown",
   "metadata": {},
   "source": [
    "## 4.5. Вывод"
   ]
  },
  {
   "cell_type": "markdown",
   "metadata": {},
   "source": [
    "- В целом, положение вещей на всех рассмотренных сегментах рынка идентично, за исключением Японии\n",
    "- В Америке и Европе одинаково востребованы жанры: Action, Shooter, Sports\n",
    "- Наиболее часто, люди приобретают продукты на PS4 и XOne\n",
    "- Наиболее часто приобретаются игры с рейтингом М, за исключением Японии\n",
    "- Рынок Японии сильно отличается от других сегментов: там преобладают продажи игр для платформы 3DS, а самый распространенный жанр - ролевые игры. Рейтинг тоже выделяется, чаще всего покупают игры, без учета рейтинга, а также рейтинг Т."
   ]
  },
  {
   "cell_type": "markdown",
   "metadata": {},
   "source": [
    "# Шаг 5. Проверка гипотез"
   ]
  },
  {
   "cell_type": "markdown",
   "metadata": {},
   "source": [
    "**Примерный план выполнения шага:**\n",
    "- Одназначно трактовать гипотезы (что считается нулевой, а что альтернативной)\n",
    "- Создать выборки для проверки гипотез\n",
    "- Рассчитать статисческие параметры\n",
    "- Осуществить t-test\n",
    "- Описать выводы, верна ли гипотеза"
   ]
  },
  {
   "cell_type": "markdown",
   "metadata": {},
   "source": [
    "## 5.1. **Гипотеза 1. Средние пользовательские рейтинги платформ Xbox One и PC одинаковые**"
   ]
  },
  {
   "cell_type": "markdown",
   "metadata": {},
   "source": [
    "Перед проверкой гипотез необходимо одназначно трактовать нулевую и альтернативную гипотезы:\n",
    "\n",
    "- За нулевую гипотезу примем, что средние рейтинги по двум требуемым платформам равны\n",
    "- За альтернативную гипотезу примем, что рейтинги не равны, вне зависимости от того, рейтинги какой платформы будет как выше, так и ниже относительно друг друга."
   ]
  },
  {
   "cell_type": "markdown",
   "metadata": {},
   "source": [
    "Для расчета создадим 2 среза, по каждой интересующей платформе соответственно."
   ]
  },
  {
   "cell_type": "code",
   "execution_count": 60,
   "metadata": {},
   "outputs": [],
   "source": [
    "xone = games.query('platform == \"XOne\"').dropna()\n",
    "pc = games.query('platform == \"PC\"').dropna()"
   ]
  },
  {
   "cell_type": "markdown",
   "metadata": {},
   "source": [
    "**Посчитаем дисперсию:**"
   ]
  },
  {
   "cell_type": "code",
   "execution_count": 61,
   "metadata": {},
   "outputs": [
    {
     "data": {
      "text/plain": [
       "1.7393757174392939"
      ]
     },
     "execution_count": 61,
     "metadata": {},
     "output_type": "execute_result"
    }
   ],
   "source": [
    "np.var(xone['user_score'], ddof=1)"
   ]
  },
  {
   "cell_type": "code",
   "execution_count": 62,
   "metadata": {},
   "outputs": [
    {
     "data": {
      "text/plain": [
       "2.75648817696415"
      ]
     },
     "execution_count": 62,
     "metadata": {},
     "output_type": "execute_result"
    }
   ],
   "source": [
    "np.var(pc['user_score'], ddof=1)"
   ]
  },
  {
   "cell_type": "markdown",
   "metadata": {},
   "source": [
    "**Посчитаем стандартное отклонение:**"
   ]
  },
  {
   "cell_type": "code",
   "execution_count": 63,
   "metadata": {},
   "outputs": [
    {
     "data": {
      "text/plain": [
       "1.3188539409044862"
      ]
     },
     "execution_count": 63,
     "metadata": {},
     "output_type": "execute_result"
    }
   ],
   "source": [
    "np.std(xone['user_score'], ddof=1)"
   ]
  },
  {
   "cell_type": "code",
   "execution_count": 64,
   "metadata": {},
   "outputs": [
    {
     "data": {
      "text/plain": [
       "1.660267501628623"
      ]
     },
     "execution_count": 64,
     "metadata": {},
     "output_type": "execute_result"
    }
   ],
   "source": [
    "np.std(pc['user_score'], ddof=1)"
   ]
  },
  {
   "cell_type": "markdown",
   "metadata": {},
   "source": [
    "**С помощью t-тест'а проверим гипотезу. Также, чтобы убедиться в правильности вывода, вместе с констатацией факта о достоверности гипотезы выведем на экран сравнение средних пользовательских рейтингов по интересующим платформам:**"
   ]
  },
  {
   "cell_type": "code",
   "execution_count": 65,
   "metadata": {},
   "outputs": [
    {
     "name": "stdout",
     "output_type": "stream",
     "text": [
      "p-значение:  0.1403785186826978\n",
      "Не получилось отвергнуть нулевую гипотезу\n",
      "\n",
      "Средний рейтинг пользователей игр на платформе XOne 6.62\n",
      "Средний рейтинг пользователей игр на PC 6.34\n"
     ]
    }
   ],
   "source": [
    "alpha = 0.05 \n",
    "\n",
    "results = st.ttest_ind(\n",
    "    xone['user_score'], \n",
    "    pc['user_score'], equal_var = False)\n",
    "\n",
    "print('p-значение: ', results.pvalue)  \n",
    "\n",
    "if (results.pvalue < alpha):\n",
    "    print(\"Отвергаем нулевую гипотезу\")\n",
    "else:\n",
    "    print(\"Не получилось отвергнуть нулевую гипотезу\")\n",
    "print()\n",
    "print('Средний рейтинг пользователей игр на платформе XOne',xone['user_score'].mean().round(2))\n",
    "print('Средний рейтинг пользователей игр на PC',pc['user_score'].mean().round(2))"
   ]
  },
  {
   "cell_type": "markdown",
   "metadata": {},
   "source": [
    "Нулевая гипотеза **достоверна и не может быть отвергнута**. Об этом говорит и t-тест и сравнение рейтингов. Можно сказать, что пользовательские рейтинги равны."
   ]
  },
  {
   "cell_type": "markdown",
   "metadata": {},
   "source": [
    "## 5.2.**Гипотеза 2. Средние пользовательские рейтинги жанров Action и Sports разные.**"
   ]
  },
  {
   "cell_type": "markdown",
   "metadata": {},
   "source": [
    "- За нулевую гипотезу примем, что средние рейтинги по двум жанрам равны\n",
    "- За альтернативную гипотезу примем, что рейтинги не равны, вне зависимости от того, рейтинги какого жанра будут как выше, так и ниже относительно друг друга."
   ]
  },
  {
   "cell_type": "code",
   "execution_count": 66,
   "metadata": {},
   "outputs": [],
   "source": [
    "action = games.query('genre == \"Action\"').dropna()\n",
    "sports = games.query('genre == \"Sports\"').dropna()"
   ]
  },
  {
   "cell_type": "code",
   "execution_count": 67,
   "metadata": {},
   "outputs": [
    {
     "data": {
      "text/plain": [
       "1.8065432146894858"
      ]
     },
     "execution_count": 67,
     "metadata": {},
     "output_type": "execute_result"
    }
   ],
   "source": [
    "np.var(action['user_score'], ddof=1)"
   ]
  },
  {
   "cell_type": "code",
   "execution_count": 68,
   "metadata": {},
   "outputs": [
    {
     "data": {
      "text/plain": [
       "2.2310931531002054"
      ]
     },
     "execution_count": 68,
     "metadata": {},
     "output_type": "execute_result"
    }
   ],
   "source": [
    "np.var(sports['user_score'], ddof=1)"
   ]
  },
  {
   "cell_type": "code",
   "execution_count": 69,
   "metadata": {},
   "outputs": [
    {
     "data": {
      "text/plain": [
       "1.3440770865874792"
      ]
     },
     "execution_count": 69,
     "metadata": {},
     "output_type": "execute_result"
    }
   ],
   "source": [
    "np.std(action['user_score'], ddof=1)"
   ]
  },
  {
   "cell_type": "code",
   "execution_count": 70,
   "metadata": {},
   "outputs": [
    {
     "data": {
      "text/plain": [
       "1.493684422192387"
      ]
     },
     "execution_count": 70,
     "metadata": {},
     "output_type": "execute_result"
    }
   ],
   "source": [
    "np.std(sports['user_score'], ddof=1)"
   ]
  },
  {
   "cell_type": "code",
   "execution_count": 71,
   "metadata": {},
   "outputs": [
    {
     "name": "stdout",
     "output_type": "stream",
     "text": [
      "p-значение:  8.327612976032047e-09\n",
      "Отвергаем нулевую гипотезу\n",
      "\n",
      "Средний рейтинг игр в жанре Action по мнению пользователей 6.83\n",
      "Средний рейтинг игр в жанре Sport по мнению пользователей 5.68\n"
     ]
    }
   ],
   "source": [
    "alpha = 0.05 \n",
    "\n",
    "results = st.ttest_ind(\n",
    "    action['user_score'], \n",
    "    sports['user_score'], equal_var = False)\n",
    "\n",
    "print('p-значение: ', results.pvalue)  \n",
    "\n",
    "if (results.pvalue < alpha):\n",
    "    print(\"Отвергаем нулевую гипотезу\")\n",
    "else:\n",
    "    print(\"Не получилось отвергнуть нулевую гипотезу\")\n",
    "print()\n",
    "print('Средний рейтинг игр в жанре Action по мнению пользователей', action['user_score'].mean().round(2))\n",
    "print('Средний рейтинг игр в жанре Sport по мнению пользователей', sports['user_score'].mean().round(2))"
   ]
  },
  {
   "cell_type": "markdown",
   "metadata": {},
   "source": [
    "Результат t-тест'а говорит о том, что рейтинги двух жанров разные. Они не различаются, условно, в 2 раза, но разница есть и  весомая. Имеем право сказать, что **верна альтернативная гипотеза**, т.е. предположение, что рейтинги для двух жанров не равны **было верным**."
   ]
  },
  {
   "cell_type": "markdown",
   "metadata": {},
   "source": [
    "## 5.3. Вывод"
   ]
  },
  {
   "cell_type": "markdown",
   "metadata": {},
   "source": [
    "Были проверены 2 гипотезы и обе оказались верными:\n",
    "\n",
    "- Рейтинги, которые выставили пользователи платформ PC и XOne можно считать одинаковыми\n",
    "- Между пользовательскими рейтингами игр по жанрам Action и Sport есть разница. Игры жанра Action пользователям нравятся больше"
   ]
  },
  {
   "cell_type": "markdown",
   "metadata": {},
   "source": [
    "# Шаг 6. Общий вывод"
   ]
  },
  {
   "cell_type": "markdown",
   "metadata": {},
   "source": [
    "**В ходе исследования были констатированы следующие факты:**\n",
    "\n",
    "- Платформы наиболее востребованы в течение ~5 лет с момент появления их на рынке игр\n",
    "- С 2014 года пользователи наиболее активно приобретали игры для следующих платформ: PS4 и XOne\n",
    "- Оценка игр профессиональными критиками влияет на количество их продаж, но это явно не основной фактор успеха/провала продукта\n",
    "- Пользовательские оценки (при анализе всей индустрии игр) не влияют на коммерческий успех игр\n",
    "- Тройка наиболее часто приобретаемых и, соответственно, прибыльных жанров: Action, Sports, Shooter\n",
    "- Портрет потребителя Европы, Северной Америки и других стран почти идентичен\n",
    "- Портрет потребителя из Японии очень сильно отличается от геймеров других стран\n",
    "- Пользователи платформ PC и XOne выставляют играм примерно одинаковые оценки\n",
    "- Игры жанра Action пользователям нравятся больше, рейтинг выше, по сравнению с жанром Sports"
   ]
  },
  {
   "cell_type": "markdown",
   "metadata": {},
   "source": [
    "**Резюмируя:**\n",
    "\n",
    "- Интернет-магазину \"Стримчик\" следует обратить внимание на платформы PS4 и XOne, они способны принести весомую выручку в прогнозируемом году. Причем, стоит взять на реализацию как сами приставки, так и игры для них.\n",
    "- В свою очередь, не стоит отказываться от реализации товаров по другим направлениям, например PS3, т.к. спрос на них также будет сохраняться в 2017 году.\n",
    "- Применительно к играм стоит сделать основной упор на закупку и распространение игр по трем наиболее популярным жанрам. Однако, рекомендация не означает, что не стоит закупать игры строго из тройки самых популярных жанров. Если потребитель придет покупать условный пазл, а магазин приобрел только вышеупомянутые жанры - это будет прямой потерей прибыли\n",
    "- В случае расширения рынка (и/или при переходе на целевую аудиторию другой страны) следует оценить портрет потребителя и корректировать пропорции реализуемой продукции. Если \"Стримчик\" решит продавать товары, условно, в Японии - ориентир на портрет европейца будет нерентабельным."
   ]
  },
  {
   "cell_type": "markdown",
   "metadata": {},
   "source": [
    "### Спасибо за внимание!"
   ]
  }
 ],
 "metadata": {
  "ExecuteTimeLog": [
   {
    "duration": 260,
    "start_time": "2022-02-07T12:48:07.362Z"
   },
   {
    "duration": 212,
    "start_time": "2022-02-07T13:01:53.313Z"
   },
   {
    "duration": 1083,
    "start_time": "2022-02-07T13:02:18.559Z"
   },
   {
    "duration": 55,
    "start_time": "2022-02-07T13:02:19.644Z"
   },
   {
    "duration": 73,
    "start_time": "2022-02-07T13:04:57.260Z"
   },
   {
    "duration": 11,
    "start_time": "2022-02-07T13:06:00.945Z"
   },
   {
    "duration": 9,
    "start_time": "2022-02-07T13:07:12.608Z"
   },
   {
    "duration": 323,
    "start_time": "2022-02-07T13:26:08.569Z"
   },
   {
    "duration": 7,
    "start_time": "2022-02-07T13:26:29.266Z"
   },
   {
    "duration": 74,
    "start_time": "2022-02-07T13:31:23.127Z"
   },
   {
    "duration": 11,
    "start_time": "2022-02-07T13:34:09.525Z"
   },
   {
    "duration": 853,
    "start_time": "2022-02-07T13:35:18.098Z"
   },
   {
    "duration": 4,
    "start_time": "2022-02-07T13:38:33.624Z"
   },
   {
    "duration": 7,
    "start_time": "2022-02-07T13:38:48.168Z"
   },
   {
    "duration": 308,
    "start_time": "2022-02-07T13:43:37.539Z"
   },
   {
    "duration": 8,
    "start_time": "2022-02-07T13:44:09.413Z"
   },
   {
    "duration": 1093,
    "start_time": "2022-02-07T13:45:21.320Z"
   },
   {
    "duration": 57,
    "start_time": "2022-02-07T13:45:22.415Z"
   },
   {
    "duration": 11,
    "start_time": "2022-02-07T13:45:22.475Z"
   },
   {
    "duration": 12,
    "start_time": "2022-02-07T13:45:22.497Z"
   },
   {
    "duration": 2,
    "start_time": "2022-02-07T13:45:22.511Z"
   },
   {
    "duration": 4,
    "start_time": "2022-02-07T13:48:21.597Z"
   },
   {
    "duration": 21,
    "start_time": "2022-02-07T13:48:27.837Z"
   },
   {
    "duration": 4,
    "start_time": "2022-02-07T13:48:52.965Z"
   },
   {
    "duration": 4,
    "start_time": "2022-02-07T13:50:42.259Z"
   },
   {
    "duration": 1140,
    "start_time": "2022-02-07T15:11:00.110Z"
   },
   {
    "duration": 59,
    "start_time": "2022-02-07T15:11:01.253Z"
   },
   {
    "duration": 18,
    "start_time": "2022-02-07T15:11:01.315Z"
   },
   {
    "duration": 16,
    "start_time": "2022-02-07T15:11:01.336Z"
   },
   {
    "duration": 11,
    "start_time": "2022-02-07T15:11:01.354Z"
   },
   {
    "duration": 31,
    "start_time": "2022-02-07T15:11:01.367Z"
   },
   {
    "duration": 28,
    "start_time": "2022-02-07T15:12:32.933Z"
   },
   {
    "duration": 25,
    "start_time": "2022-02-07T15:12:52.045Z"
   },
   {
    "duration": 43,
    "start_time": "2022-02-07T15:13:29.429Z"
   },
   {
    "duration": 366,
    "start_time": "2022-02-07T15:14:51.643Z"
   },
   {
    "duration": 437,
    "start_time": "2022-02-07T15:17:54.984Z"
   },
   {
    "duration": 221,
    "start_time": "2022-02-07T15:18:01.095Z"
   },
   {
    "duration": 210,
    "start_time": "2022-02-07T15:18:53.703Z"
   },
   {
    "duration": 9,
    "start_time": "2022-02-07T15:19:06.822Z"
   },
   {
    "duration": 5,
    "start_time": "2022-02-07T15:19:15.022Z"
   },
   {
    "duration": 8,
    "start_time": "2022-02-07T15:19:18.957Z"
   },
   {
    "duration": 24,
    "start_time": "2022-02-07T15:19:22.349Z"
   },
   {
    "duration": 25,
    "start_time": "2022-02-07T15:19:26.942Z"
   },
   {
    "duration": 9,
    "start_time": "2022-02-07T15:23:06.400Z"
   },
   {
    "duration": 107,
    "start_time": "2022-02-07T15:24:33.433Z"
   },
   {
    "duration": 7,
    "start_time": "2022-02-07T15:24:40.417Z"
   },
   {
    "duration": 7,
    "start_time": "2022-02-07T15:24:43.608Z"
   },
   {
    "duration": 8,
    "start_time": "2022-02-07T15:24:51.320Z"
   },
   {
    "duration": 24,
    "start_time": "2022-02-07T15:25:16.496Z"
   },
   {
    "duration": 10,
    "start_time": "2022-02-07T15:25:54.448Z"
   },
   {
    "duration": 9,
    "start_time": "2022-02-07T15:26:05.671Z"
   },
   {
    "duration": 1055,
    "start_time": "2022-02-07T15:27:08.541Z"
   },
   {
    "duration": 56,
    "start_time": "2022-02-07T15:27:09.598Z"
   },
   {
    "duration": 12,
    "start_time": "2022-02-07T15:27:09.656Z"
   },
   {
    "duration": 11,
    "start_time": "2022-02-07T15:27:09.670Z"
   },
   {
    "duration": 17,
    "start_time": "2022-02-07T15:27:09.682Z"
   },
   {
    "duration": 4,
    "start_time": "2022-02-07T15:27:09.701Z"
   },
   {
    "duration": 89,
    "start_time": "2022-02-07T15:27:09.707Z"
   },
   {
    "duration": -388,
    "start_time": "2022-02-07T15:27:10.186Z"
   },
   {
    "duration": 5,
    "start_time": "2022-02-07T15:38:35.130Z"
   },
   {
    "duration": 7,
    "start_time": "2022-02-07T15:39:08.497Z"
   },
   {
    "duration": 6,
    "start_time": "2022-02-07T15:39:18.089Z"
   },
   {
    "duration": 71,
    "start_time": "2022-02-07T15:39:32.209Z"
   },
   {
    "duration": 7,
    "start_time": "2022-02-07T15:39:37.080Z"
   },
   {
    "duration": 358,
    "start_time": "2022-02-07T15:40:05.048Z"
   },
   {
    "duration": 589,
    "start_time": "2022-02-07T15:40:10.576Z"
   },
   {
    "duration": 6,
    "start_time": "2022-02-07T15:40:22.816Z"
   },
   {
    "duration": 8,
    "start_time": "2022-02-07T15:40:34.239Z"
   },
   {
    "duration": 7,
    "start_time": "2022-02-07T15:41:31.711Z"
   },
   {
    "duration": 6,
    "start_time": "2022-02-07T15:41:35.904Z"
   },
   {
    "duration": 6,
    "start_time": "2022-02-07T15:41:48.479Z"
   },
   {
    "duration": 5,
    "start_time": "2022-02-07T15:42:09.935Z"
   },
   {
    "duration": 294,
    "start_time": "2022-02-07T15:42:36.026Z"
   },
   {
    "duration": 5,
    "start_time": "2022-02-07T15:42:43.191Z"
   },
   {
    "duration": 5,
    "start_time": "2022-02-07T15:43:26.325Z"
   },
   {
    "duration": 5,
    "start_time": "2022-02-07T15:43:32.213Z"
   },
   {
    "duration": 6,
    "start_time": "2022-02-07T15:44:24.532Z"
   },
   {
    "duration": 9,
    "start_time": "2022-02-07T15:45:10.051Z"
   },
   {
    "duration": 12,
    "start_time": "2022-02-07T15:46:43.954Z"
   },
   {
    "duration": 11,
    "start_time": "2022-02-07T15:46:52.642Z"
   },
   {
    "duration": 10,
    "start_time": "2022-02-07T15:47:27.927Z"
   },
   {
    "duration": 9,
    "start_time": "2022-02-07T15:49:58.591Z"
   },
   {
    "duration": 18,
    "start_time": "2022-02-07T15:53:04.051Z"
   },
   {
    "duration": 9,
    "start_time": "2022-02-07T15:55:17.169Z"
   },
   {
    "duration": 11,
    "start_time": "2022-02-07T15:55:48.641Z"
   },
   {
    "duration": 11,
    "start_time": "2022-02-07T15:56:07.768Z"
   },
   {
    "duration": 9,
    "start_time": "2022-02-07T15:56:12.222Z"
   },
   {
    "duration": 9,
    "start_time": "2022-02-07T15:57:35.655Z"
   },
   {
    "duration": 6,
    "start_time": "2022-02-07T15:57:49.839Z"
   },
   {
    "duration": 5,
    "start_time": "2022-02-07T15:57:56.302Z"
   },
   {
    "duration": 27,
    "start_time": "2022-02-07T16:03:43.857Z"
   },
   {
    "duration": 12,
    "start_time": "2022-02-07T16:04:10.897Z"
   },
   {
    "duration": 24,
    "start_time": "2022-02-07T16:04:23.953Z"
   },
   {
    "duration": 1150,
    "start_time": "2022-02-07T17:15:16.478Z"
   },
   {
    "duration": 53,
    "start_time": "2022-02-07T17:15:17.630Z"
   },
   {
    "duration": 13,
    "start_time": "2022-02-07T17:15:17.686Z"
   },
   {
    "duration": 10,
    "start_time": "2022-02-07T17:15:17.701Z"
   },
   {
    "duration": 4,
    "start_time": "2022-02-07T17:15:17.713Z"
   },
   {
    "duration": 7,
    "start_time": "2022-02-07T17:15:17.719Z"
   },
   {
    "duration": 11,
    "start_time": "2022-02-07T17:15:17.728Z"
   },
   {
    "duration": 8,
    "start_time": "2022-02-07T17:15:17.741Z"
   },
   {
    "duration": 50,
    "start_time": "2022-02-07T17:15:17.751Z"
   },
   {
    "duration": 8,
    "start_time": "2022-02-07T17:15:17.803Z"
   },
   {
    "duration": 9,
    "start_time": "2022-02-07T17:15:17.812Z"
   },
   {
    "duration": 6,
    "start_time": "2022-02-07T17:15:17.823Z"
   },
   {
    "duration": 5,
    "start_time": "2022-02-07T17:21:02.874Z"
   },
   {
    "duration": 11,
    "start_time": "2022-02-07T17:21:26.801Z"
   },
   {
    "duration": 5,
    "start_time": "2022-02-07T17:32:27.883Z"
   },
   {
    "duration": 24,
    "start_time": "2022-02-07T17:32:37.326Z"
   },
   {
    "duration": 1092,
    "start_time": "2022-02-08T11:15:13.621Z"
   },
   {
    "duration": 53,
    "start_time": "2022-02-08T11:15:14.716Z"
   },
   {
    "duration": 11,
    "start_time": "2022-02-08T11:15:14.772Z"
   },
   {
    "duration": 13,
    "start_time": "2022-02-08T11:15:14.785Z"
   },
   {
    "duration": 12,
    "start_time": "2022-02-08T11:15:14.800Z"
   },
   {
    "duration": 14,
    "start_time": "2022-02-08T11:15:14.814Z"
   },
   {
    "duration": 12,
    "start_time": "2022-02-08T11:15:14.830Z"
   },
   {
    "duration": 10,
    "start_time": "2022-02-08T11:15:14.844Z"
   },
   {
    "duration": 19,
    "start_time": "2022-02-08T11:15:14.856Z"
   },
   {
    "duration": 30,
    "start_time": "2022-02-08T11:15:14.877Z"
   },
   {
    "duration": 12,
    "start_time": "2022-02-08T11:15:14.909Z"
   },
   {
    "duration": 8,
    "start_time": "2022-02-08T11:15:14.923Z"
   },
   {
    "duration": 29,
    "start_time": "2022-02-08T11:15:14.933Z"
   },
   {
    "duration": 191,
    "start_time": "2022-02-08T11:22:30.816Z"
   },
   {
    "duration": 187,
    "start_time": "2022-02-08T11:22:49.437Z"
   },
   {
    "duration": 184,
    "start_time": "2022-02-08T11:22:57.511Z"
   },
   {
    "duration": 194,
    "start_time": "2022-02-08T11:23:06.175Z"
   },
   {
    "duration": 195,
    "start_time": "2022-02-08T11:23:09.175Z"
   },
   {
    "duration": 204,
    "start_time": "2022-02-08T11:23:15.423Z"
   },
   {
    "duration": 197,
    "start_time": "2022-02-08T11:23:23.215Z"
   },
   {
    "duration": 652,
    "start_time": "2022-02-08T11:24:46.126Z"
   },
   {
    "duration": 312,
    "start_time": "2022-02-08T11:24:55.029Z"
   },
   {
    "duration": 350,
    "start_time": "2022-02-08T11:25:05.813Z"
   },
   {
    "duration": 12,
    "start_time": "2022-02-08T11:25:56.149Z"
   },
   {
    "duration": 200,
    "start_time": "2022-02-08T11:32:19.585Z"
   },
   {
    "duration": 15,
    "start_time": "2022-02-08T11:32:38.444Z"
   },
   {
    "duration": 289,
    "start_time": "2022-02-08T11:33:15.192Z"
   },
   {
    "duration": 17,
    "start_time": "2022-02-08T11:33:29.183Z"
   },
   {
    "duration": 63,
    "start_time": "2022-02-08T11:33:57.665Z"
   },
   {
    "duration": 18,
    "start_time": "2022-02-08T11:34:07.886Z"
   },
   {
    "duration": 393,
    "start_time": "2022-02-08T11:35:31.014Z"
   },
   {
    "duration": 477,
    "start_time": "2022-02-08T11:35:40.885Z"
   },
   {
    "duration": 516,
    "start_time": "2022-02-08T11:36:31.940Z"
   },
   {
    "duration": 17,
    "start_time": "2022-02-08T11:47:58.503Z"
   },
   {
    "duration": 17,
    "start_time": "2022-02-08T11:48:10.486Z"
   },
   {
    "duration": 211,
    "start_time": "2022-02-08T11:50:47.622Z"
   },
   {
    "duration": 325,
    "start_time": "2022-02-08T11:51:04.173Z"
   },
   {
    "duration": 2575,
    "start_time": "2022-02-08T11:51:12.677Z"
   },
   {
    "duration": 3509,
    "start_time": "2022-02-08T11:51:22.645Z"
   },
   {
    "duration": 15,
    "start_time": "2022-02-08T12:12:22.511Z"
   },
   {
    "duration": 1738,
    "start_time": "2022-02-08T12:12:27.682Z"
   },
   {
    "duration": 1799,
    "start_time": "2022-02-08T12:25:11.132Z"
   },
   {
    "duration": 1823,
    "start_time": "2022-02-08T12:25:19.397Z"
   },
   {
    "duration": 15,
    "start_time": "2022-02-08T12:27:38.851Z"
   },
   {
    "duration": 2111,
    "start_time": "2022-02-08T12:27:42.426Z"
   },
   {
    "duration": 2317,
    "start_time": "2022-02-08T12:28:05.074Z"
   },
   {
    "duration": 2030,
    "start_time": "2022-02-08T12:28:36.626Z"
   },
   {
    "duration": 2235,
    "start_time": "2022-02-08T12:37:45.913Z"
   },
   {
    "duration": 20,
    "start_time": "2022-02-08T12:45:24.863Z"
   },
   {
    "duration": 20,
    "start_time": "2022-02-08T12:46:01.879Z"
   },
   {
    "duration": 210,
    "start_time": "2022-02-08T13:00:49.713Z"
   },
   {
    "duration": 216,
    "start_time": "2022-02-08T13:00:56.016Z"
   },
   {
    "duration": 317,
    "start_time": "2022-02-08T13:01:00.008Z"
   },
   {
    "duration": 16,
    "start_time": "2022-02-08T13:01:07.448Z"
   },
   {
    "duration": 353,
    "start_time": "2022-02-08T13:02:48.542Z"
   },
   {
    "duration": 358,
    "start_time": "2022-02-08T13:04:12.973Z"
   },
   {
    "duration": 359,
    "start_time": "2022-02-08T13:04:21.397Z"
   },
   {
    "duration": 212,
    "start_time": "2022-02-08T13:14:59.418Z"
   },
   {
    "duration": 11,
    "start_time": "2022-02-08T13:15:12.019Z"
   },
   {
    "duration": 206,
    "start_time": "2022-02-08T13:16:51.249Z"
   },
   {
    "duration": 221,
    "start_time": "2022-02-08T13:16:59.807Z"
   },
   {
    "duration": 234,
    "start_time": "2022-02-08T13:17:09.128Z"
   },
   {
    "duration": 212,
    "start_time": "2022-02-08T13:17:43.792Z"
   },
   {
    "duration": 227,
    "start_time": "2022-02-08T13:18:03.327Z"
   },
   {
    "duration": 1821,
    "start_time": "2022-02-08T13:18:18.327Z"
   },
   {
    "duration": 340,
    "start_time": "2022-02-08T13:18:49.046Z"
   },
   {
    "duration": 1351,
    "start_time": "2022-02-08T13:18:55.541Z"
   },
   {
    "duration": 2005,
    "start_time": "2022-02-08T13:20:09.621Z"
   },
   {
    "duration": 284,
    "start_time": "2022-02-08T13:43:32.542Z"
   },
   {
    "duration": 6,
    "start_time": "2022-02-08T13:43:42.157Z"
   },
   {
    "duration": 268,
    "start_time": "2022-02-08T13:44:19.221Z"
   },
   {
    "duration": 25,
    "start_time": "2022-02-08T13:44:35.125Z"
   },
   {
    "duration": 219,
    "start_time": "2022-02-08T13:45:12.980Z"
   },
   {
    "duration": 4,
    "start_time": "2022-02-08T13:52:28.996Z"
   },
   {
    "duration": 734,
    "start_time": "2022-02-08T13:52:50.988Z"
   },
   {
    "duration": 588,
    "start_time": "2022-02-08T13:58:36.271Z"
   },
   {
    "duration": 296,
    "start_time": "2022-02-08T14:10:49.514Z"
   },
   {
    "duration": 245,
    "start_time": "2022-02-08T14:11:05.390Z"
   },
   {
    "duration": 266,
    "start_time": "2022-02-08T14:13:20.487Z"
   },
   {
    "duration": 250,
    "start_time": "2022-02-08T14:13:41.247Z"
   },
   {
    "duration": 77,
    "start_time": "2022-02-08T14:15:42.333Z"
   },
   {
    "duration": 1218,
    "start_time": "2022-02-08T14:18:58.383Z"
   },
   {
    "duration": 49,
    "start_time": "2022-02-08T14:18:59.604Z"
   },
   {
    "duration": 15,
    "start_time": "2022-02-08T14:18:59.656Z"
   },
   {
    "duration": 17,
    "start_time": "2022-02-08T14:18:59.673Z"
   },
   {
    "duration": 15,
    "start_time": "2022-02-08T14:18:59.693Z"
   },
   {
    "duration": 9,
    "start_time": "2022-02-08T14:18:59.710Z"
   },
   {
    "duration": 14,
    "start_time": "2022-02-08T14:18:59.721Z"
   },
   {
    "duration": 8,
    "start_time": "2022-02-08T14:18:59.738Z"
   },
   {
    "duration": 20,
    "start_time": "2022-02-08T14:18:59.748Z"
   },
   {
    "duration": 43,
    "start_time": "2022-02-08T14:18:59.770Z"
   },
   {
    "duration": 13,
    "start_time": "2022-02-08T14:18:59.815Z"
   },
   {
    "duration": 10,
    "start_time": "2022-02-08T14:18:59.830Z"
   },
   {
    "duration": 30,
    "start_time": "2022-02-08T14:18:59.842Z"
   },
   {
    "duration": 311,
    "start_time": "2022-02-08T14:18:59.873Z"
   },
   {
    "duration": 7,
    "start_time": "2022-02-08T14:19:00.186Z"
   },
   {
    "duration": 17,
    "start_time": "2022-02-08T14:19:00.207Z"
   },
   {
    "duration": 497,
    "start_time": "2022-02-08T14:19:00.226Z"
   },
   {
    "duration": 16,
    "start_time": "2022-02-08T14:19:00.725Z"
   },
   {
    "duration": 2235,
    "start_time": "2022-02-08T14:19:00.742Z"
   },
   {
    "duration": 28,
    "start_time": "2022-02-08T14:19:02.979Z"
   },
   {
    "duration": 16,
    "start_time": "2022-02-08T14:19:03.010Z"
   },
   {
    "duration": 490,
    "start_time": "2022-02-08T14:19:03.028Z"
   },
   {
    "duration": 12,
    "start_time": "2022-02-08T14:19:03.521Z"
   },
   {
    "duration": 1799,
    "start_time": "2022-02-08T14:19:03.535Z"
   },
   {
    "duration": 24,
    "start_time": "2022-02-08T14:19:05.335Z"
   },
   {
    "duration": 268,
    "start_time": "2022-02-08T14:19:05.361Z"
   },
   {
    "duration": 157,
    "start_time": "2022-02-08T14:20:30.795Z"
   },
   {
    "duration": 151,
    "start_time": "2022-02-08T14:22:19.136Z"
   },
   {
    "duration": 500,
    "start_time": "2022-02-08T14:26:03.181Z"
   },
   {
    "duration": 475,
    "start_time": "2022-02-08T14:26:19.989Z"
   },
   {
    "duration": 541,
    "start_time": "2022-02-08T14:26:30.379Z"
   },
   {
    "duration": 577,
    "start_time": "2022-02-08T14:26:43.467Z"
   },
   {
    "duration": 326,
    "start_time": "2022-02-08T14:27:30.891Z"
   },
   {
    "duration": 1280,
    "start_time": "2022-02-08T14:27:45.121Z"
   },
   {
    "duration": 50,
    "start_time": "2022-02-08T14:27:46.404Z"
   },
   {
    "duration": 11,
    "start_time": "2022-02-08T14:27:46.456Z"
   },
   {
    "duration": 11,
    "start_time": "2022-02-08T14:27:46.470Z"
   },
   {
    "duration": 3,
    "start_time": "2022-02-08T14:27:46.483Z"
   },
   {
    "duration": 6,
    "start_time": "2022-02-08T14:27:46.508Z"
   },
   {
    "duration": 10,
    "start_time": "2022-02-08T14:27:46.516Z"
   },
   {
    "duration": 9,
    "start_time": "2022-02-08T14:27:46.529Z"
   },
   {
    "duration": 17,
    "start_time": "2022-02-08T14:27:46.541Z"
   },
   {
    "duration": 8,
    "start_time": "2022-02-08T14:27:46.560Z"
   },
   {
    "duration": 42,
    "start_time": "2022-02-08T14:27:46.570Z"
   },
   {
    "duration": 7,
    "start_time": "2022-02-08T14:27:46.614Z"
   },
   {
    "duration": 32,
    "start_time": "2022-02-08T14:27:46.623Z"
   },
   {
    "duration": 321,
    "start_time": "2022-02-08T14:27:46.657Z"
   },
   {
    "duration": 8,
    "start_time": "2022-02-08T14:27:46.980Z"
   },
   {
    "duration": 30,
    "start_time": "2022-02-08T14:27:46.990Z"
   },
   {
    "duration": 548,
    "start_time": "2022-02-08T14:27:47.022Z"
   },
   {
    "duration": 16,
    "start_time": "2022-02-08T14:27:47.572Z"
   },
   {
    "duration": 2099,
    "start_time": "2022-02-08T14:27:47.589Z"
   },
   {
    "duration": 28,
    "start_time": "2022-02-08T14:27:49.691Z"
   },
   {
    "duration": 16,
    "start_time": "2022-02-08T14:27:49.722Z"
   },
   {
    "duration": 474,
    "start_time": "2022-02-08T14:27:49.740Z"
   },
   {
    "duration": 11,
    "start_time": "2022-02-08T14:27:50.217Z"
   },
   {
    "duration": 1827,
    "start_time": "2022-02-08T14:27:50.230Z"
   },
   {
    "duration": 23,
    "start_time": "2022-02-08T14:27:52.059Z"
   },
   {
    "duration": 172,
    "start_time": "2022-02-08T14:27:52.083Z"
   },
   {
    "duration": 346,
    "start_time": "2022-02-08T14:27:52.257Z"
   },
   {
    "duration": 331,
    "start_time": "2022-02-08T14:28:35.356Z"
   },
   {
    "duration": 330,
    "start_time": "2022-02-08T14:28:48.724Z"
   },
   {
    "duration": 627,
    "start_time": "2022-02-08T14:29:02.076Z"
   },
   {
    "duration": 328,
    "start_time": "2022-02-08T14:29:10.124Z"
   },
   {
    "duration": 338,
    "start_time": "2022-02-08T14:29:40.116Z"
   },
   {
    "duration": 342,
    "start_time": "2022-02-08T14:29:52.385Z"
   },
   {
    "duration": 329,
    "start_time": "2022-02-08T14:29:57.538Z"
   },
   {
    "duration": 214,
    "start_time": "2022-02-08T14:30:35.714Z"
   },
   {
    "duration": 223,
    "start_time": "2022-02-08T14:31:00.530Z"
   },
   {
    "duration": 5,
    "start_time": "2022-02-08T14:31:09.234Z"
   },
   {
    "duration": 334,
    "start_time": "2022-02-08T14:31:23.730Z"
   },
   {
    "duration": 410,
    "start_time": "2022-02-08T14:44:25.492Z"
   },
   {
    "duration": 341,
    "start_time": "2022-02-08T14:44:30.980Z"
   },
   {
    "duration": 329,
    "start_time": "2022-02-08T14:44:35.604Z"
   },
   {
    "duration": 73,
    "start_time": "2022-02-08T14:58:02.189Z"
   },
   {
    "duration": 346,
    "start_time": "2022-02-08T14:58:10.579Z"
   },
   {
    "duration": 174,
    "start_time": "2022-02-08T14:58:19.821Z"
   },
   {
    "duration": 170,
    "start_time": "2022-02-08T14:58:42.685Z"
   },
   {
    "duration": 235,
    "start_time": "2022-02-08T15:03:18.321Z"
   },
   {
    "duration": 19,
    "start_time": "2022-02-08T15:11:54.538Z"
   },
   {
    "duration": 298,
    "start_time": "2022-02-08T15:12:37.134Z"
   },
   {
    "duration": 320,
    "start_time": "2022-02-08T15:12:52.655Z"
   },
   {
    "duration": 395,
    "start_time": "2022-02-08T15:13:34.743Z"
   },
   {
    "duration": 203,
    "start_time": "2022-02-08T15:14:17.622Z"
   },
   {
    "duration": 8,
    "start_time": "2022-02-08T15:16:39.452Z"
   },
   {
    "duration": 417,
    "start_time": "2022-02-08T15:17:23.428Z"
   },
   {
    "duration": 8,
    "start_time": "2022-02-08T15:17:40.725Z"
   },
   {
    "duration": 407,
    "start_time": "2022-02-08T15:26:01.123Z"
   },
   {
    "duration": 6,
    "start_time": "2022-02-08T15:26:16.603Z"
   },
   {
    "duration": 453,
    "start_time": "2022-02-08T15:26:48.090Z"
   },
   {
    "duration": 456,
    "start_time": "2022-02-08T15:27:12.569Z"
   },
   {
    "duration": 6,
    "start_time": "2022-02-08T15:27:24.722Z"
   },
   {
    "duration": 12,
    "start_time": "2022-02-08T15:32:50.885Z"
   },
   {
    "duration": 11,
    "start_time": "2022-02-08T15:33:08.890Z"
   },
   {
    "duration": 20,
    "start_time": "2022-02-08T15:33:15.180Z"
   },
   {
    "duration": 12,
    "start_time": "2022-02-08T15:33:30.485Z"
   },
   {
    "duration": 19,
    "start_time": "2022-02-08T15:33:35.028Z"
   },
   {
    "duration": 343,
    "start_time": "2022-02-08T15:34:02.196Z"
   },
   {
    "duration": 77,
    "start_time": "2022-02-08T15:34:21.779Z"
   },
   {
    "duration": 6,
    "start_time": "2022-02-08T15:34:45.875Z"
   },
   {
    "duration": 342,
    "start_time": "2022-02-08T15:35:28.898Z"
   },
   {
    "duration": 8,
    "start_time": "2022-02-08T15:35:39.610Z"
   },
   {
    "duration": 1221,
    "start_time": "2022-02-08T15:39:26.824Z"
   },
   {
    "duration": 53,
    "start_time": "2022-02-08T15:39:28.047Z"
   },
   {
    "duration": 13,
    "start_time": "2022-02-08T15:39:28.107Z"
   },
   {
    "duration": 16,
    "start_time": "2022-02-08T15:39:28.123Z"
   },
   {
    "duration": 3,
    "start_time": "2022-02-08T15:39:28.142Z"
   },
   {
    "duration": 7,
    "start_time": "2022-02-08T15:39:28.147Z"
   },
   {
    "duration": 15,
    "start_time": "2022-02-08T15:39:28.156Z"
   },
   {
    "duration": 11,
    "start_time": "2022-02-08T15:39:28.209Z"
   },
   {
    "duration": 24,
    "start_time": "2022-02-08T15:39:28.223Z"
   },
   {
    "duration": 12,
    "start_time": "2022-02-08T15:39:28.250Z"
   },
   {
    "duration": 45,
    "start_time": "2022-02-08T15:39:28.264Z"
   },
   {
    "duration": 8,
    "start_time": "2022-02-08T15:39:28.312Z"
   },
   {
    "duration": 39,
    "start_time": "2022-02-08T15:39:28.323Z"
   },
   {
    "duration": 318,
    "start_time": "2022-02-08T15:39:28.364Z"
   },
   {
    "duration": 7,
    "start_time": "2022-02-08T15:39:28.684Z"
   },
   {
    "duration": 17,
    "start_time": "2022-02-08T15:39:28.708Z"
   },
   {
    "duration": 512,
    "start_time": "2022-02-08T15:39:28.727Z"
   },
   {
    "duration": 15,
    "start_time": "2022-02-08T15:39:29.241Z"
   },
   {
    "duration": 2261,
    "start_time": "2022-02-08T15:39:29.258Z"
   },
   {
    "duration": 20,
    "start_time": "2022-02-08T15:39:31.531Z"
   },
   {
    "duration": 16,
    "start_time": "2022-02-08T15:39:31.553Z"
   },
   {
    "duration": 478,
    "start_time": "2022-02-08T15:39:31.571Z"
   },
   {
    "duration": 13,
    "start_time": "2022-02-08T15:39:32.053Z"
   },
   {
    "duration": 1953,
    "start_time": "2022-02-08T15:39:32.069Z"
   },
   {
    "duration": 24,
    "start_time": "2022-02-08T15:39:34.024Z"
   },
   {
    "duration": 176,
    "start_time": "2022-02-08T15:39:34.049Z"
   },
   {
    "duration": 359,
    "start_time": "2022-02-08T15:39:34.227Z"
   },
   {
    "duration": 358,
    "start_time": "2022-02-08T15:39:34.589Z"
   },
   {
    "duration": 255,
    "start_time": "2022-02-08T15:39:34.949Z"
   },
   {
    "duration": 18,
    "start_time": "2022-02-08T15:39:35.207Z"
   },
   {
    "duration": 441,
    "start_time": "2022-02-08T15:39:35.227Z"
   },
   {
    "duration": 6,
    "start_time": "2022-02-08T15:39:35.670Z"
   },
   {
    "duration": 393,
    "start_time": "2022-02-08T15:39:35.678Z"
   },
   {
    "duration": 6,
    "start_time": "2022-02-08T15:39:36.073Z"
   },
   {
    "duration": 34,
    "start_time": "2022-02-08T15:39:36.081Z"
   },
   {
    "duration": 342,
    "start_time": "2022-02-08T15:39:36.117Z"
   },
   {
    "duration": 5,
    "start_time": "2022-02-08T15:39:36.461Z"
   },
   {
    "duration": 447,
    "start_time": "2022-02-08T15:39:36.468Z"
   },
   {
    "duration": 322,
    "start_time": "2022-02-08T15:39:36.917Z"
   },
   {
    "duration": 6,
    "start_time": "2022-02-08T15:39:37.240Z"
   },
   {
    "duration": 8,
    "start_time": "2022-02-08T15:39:37.247Z"
   },
   {
    "duration": 463,
    "start_time": "2022-02-08T15:39:37.257Z"
   },
   {
    "duration": 6,
    "start_time": "2022-02-08T15:39:37.722Z"
   },
   {
    "duration": 305,
    "start_time": "2022-02-08T15:41:51.282Z"
   },
   {
    "duration": 12,
    "start_time": "2022-02-08T15:42:05.962Z"
   },
   {
    "duration": 16,
    "start_time": "2022-02-08T15:42:21.673Z"
   },
   {
    "duration": 255,
    "start_time": "2022-02-08T15:44:22.071Z"
   },
   {
    "duration": 5629,
    "start_time": "2022-02-08T15:45:18.982Z"
   },
   {
    "duration": 17,
    "start_time": "2022-02-08T15:45:45.182Z"
   },
   {
    "duration": 221,
    "start_time": "2022-02-08T15:45:52.238Z"
   },
   {
    "duration": 242,
    "start_time": "2022-02-08T15:46:45.388Z"
   },
   {
    "duration": 68,
    "start_time": "2022-02-08T15:48:12.955Z"
   },
   {
    "duration": 5691,
    "start_time": "2022-02-08T15:49:16.475Z"
   },
   {
    "duration": 311,
    "start_time": "2022-02-08T15:49:32.010Z"
   },
   {
    "duration": 240,
    "start_time": "2022-02-08T15:56:35.659Z"
   },
   {
    "duration": 72,
    "start_time": "2022-02-08T15:56:48.483Z"
   },
   {
    "duration": 4889,
    "start_time": "2022-02-08T15:59:23.192Z"
   },
   {
    "duration": 90,
    "start_time": "2022-02-08T16:01:21.543Z"
   },
   {
    "duration": 240,
    "start_time": "2022-02-08T16:01:26.887Z"
   },
   {
    "duration": 254,
    "start_time": "2022-02-08T16:01:44.087Z"
   },
   {
    "duration": 1137,
    "start_time": "2022-02-09T05:22:02.423Z"
   },
   {
    "duration": 46,
    "start_time": "2022-02-09T05:22:03.562Z"
   },
   {
    "duration": 9,
    "start_time": "2022-02-09T05:22:03.613Z"
   },
   {
    "duration": 9,
    "start_time": "2022-02-09T05:22:03.624Z"
   },
   {
    "duration": 2,
    "start_time": "2022-02-09T05:22:03.635Z"
   },
   {
    "duration": 5,
    "start_time": "2022-02-09T05:22:03.639Z"
   },
   {
    "duration": 10,
    "start_time": "2022-02-09T05:22:03.646Z"
   },
   {
    "duration": 8,
    "start_time": "2022-02-09T05:22:03.659Z"
   },
   {
    "duration": 57,
    "start_time": "2022-02-09T05:22:03.669Z"
   },
   {
    "duration": 7,
    "start_time": "2022-02-09T05:22:03.727Z"
   },
   {
    "duration": 8,
    "start_time": "2022-02-09T05:22:03.736Z"
   },
   {
    "duration": 5,
    "start_time": "2022-02-09T05:22:03.746Z"
   },
   {
    "duration": 23,
    "start_time": "2022-02-09T05:22:03.752Z"
   },
   {
    "duration": 312,
    "start_time": "2022-02-09T05:22:03.777Z"
   },
   {
    "duration": 7,
    "start_time": "2022-02-09T05:22:04.091Z"
   },
   {
    "duration": 26,
    "start_time": "2022-02-09T05:22:04.099Z"
   },
   {
    "duration": 474,
    "start_time": "2022-02-09T05:22:04.126Z"
   },
   {
    "duration": 18,
    "start_time": "2022-02-09T05:22:04.602Z"
   },
   {
    "duration": 1984,
    "start_time": "2022-02-09T05:22:04.621Z"
   },
   {
    "duration": 20,
    "start_time": "2022-02-09T05:22:06.606Z"
   },
   {
    "duration": 12,
    "start_time": "2022-02-09T05:22:06.628Z"
   },
   {
    "duration": 439,
    "start_time": "2022-02-09T05:22:06.642Z"
   },
   {
    "duration": 10,
    "start_time": "2022-02-09T05:22:07.084Z"
   },
   {
    "duration": 1747,
    "start_time": "2022-02-09T05:22:07.096Z"
   },
   {
    "duration": 22,
    "start_time": "2022-02-09T05:22:08.845Z"
   },
   {
    "duration": 166,
    "start_time": "2022-02-09T05:22:08.869Z"
   },
   {
    "duration": 339,
    "start_time": "2022-02-09T05:22:09.037Z"
   },
   {
    "duration": 338,
    "start_time": "2022-02-09T05:22:09.377Z"
   },
   {
    "duration": 238,
    "start_time": "2022-02-09T05:22:09.717Z"
   },
   {
    "duration": 19,
    "start_time": "2022-02-09T05:22:09.956Z"
   },
   {
    "duration": 389,
    "start_time": "2022-02-09T05:22:09.976Z"
   },
   {
    "duration": 5,
    "start_time": "2022-02-09T05:22:10.366Z"
   },
   {
    "duration": 308,
    "start_time": "2022-02-09T05:22:10.372Z"
   },
   {
    "duration": 5,
    "start_time": "2022-02-09T05:22:10.681Z"
   },
   {
    "duration": 32,
    "start_time": "2022-02-09T05:22:10.687Z"
   },
   {
    "duration": 332,
    "start_time": "2022-02-09T05:22:10.721Z"
   },
   {
    "duration": 6,
    "start_time": "2022-02-09T05:22:11.055Z"
   },
   {
    "duration": 456,
    "start_time": "2022-02-09T05:22:11.063Z"
   },
   {
    "duration": 318,
    "start_time": "2022-02-09T05:22:11.521Z"
   },
   {
    "duration": 5,
    "start_time": "2022-02-09T05:22:11.841Z"
   },
   {
    "duration": 5,
    "start_time": "2022-02-09T05:22:11.848Z"
   },
   {
    "duration": 448,
    "start_time": "2022-02-09T05:22:11.854Z"
   },
   {
    "duration": 10,
    "start_time": "2022-02-09T05:22:12.304Z"
   },
   {
    "duration": 14,
    "start_time": "2022-02-09T05:22:12.316Z"
   },
   {
    "duration": 261,
    "start_time": "2022-02-09T05:22:12.332Z"
   },
   {
    "duration": 256,
    "start_time": "2022-02-09T05:22:12.596Z"
   },
   {
    "duration": 196,
    "start_time": "2022-02-09T05:22:31.121Z"
   },
   {
    "duration": 197,
    "start_time": "2022-02-09T05:23:02.467Z"
   },
   {
    "duration": 287,
    "start_time": "2022-02-09T05:30:40.868Z"
   },
   {
    "duration": 320,
    "start_time": "2022-02-09T05:31:08.017Z"
   },
   {
    "duration": 5,
    "start_time": "2022-02-09T05:31:20.924Z"
   },
   {
    "duration": 376,
    "start_time": "2022-02-09T05:31:28.564Z"
   },
   {
    "duration": 5,
    "start_time": "2022-02-09T05:31:39.083Z"
   },
   {
    "duration": 11,
    "start_time": "2022-02-09T05:32:03.954Z"
   },
   {
    "duration": 15,
    "start_time": "2022-02-09T05:32:16.690Z"
   },
   {
    "duration": 333,
    "start_time": "2022-02-09T05:32:57.152Z"
   },
   {
    "duration": 271,
    "start_time": "2022-02-09T05:33:27.218Z"
   },
   {
    "duration": 250,
    "start_time": "2022-02-09T05:33:51.466Z"
   },
   {
    "duration": 246,
    "start_time": "2022-02-09T05:34:15.105Z"
   },
   {
    "duration": 395,
    "start_time": "2022-02-09T05:35:31.432Z"
   },
   {
    "duration": 385,
    "start_time": "2022-02-09T05:35:43.920Z"
   },
   {
    "duration": 110,
    "start_time": "2022-02-09T05:35:56.160Z"
   },
   {
    "duration": 7,
    "start_time": "2022-02-09T05:37:04.270Z"
   },
   {
    "duration": 211,
    "start_time": "2022-02-09T05:37:16.470Z"
   },
   {
    "duration": 195,
    "start_time": "2022-02-09T05:37:32.063Z"
   },
   {
    "duration": 16,
    "start_time": "2022-02-09T05:37:56.797Z"
   },
   {
    "duration": 119,
    "start_time": "2022-02-09T05:38:04.741Z"
   },
   {
    "duration": 15,
    "start_time": "2022-02-09T05:39:16.468Z"
   },
   {
    "duration": 118,
    "start_time": "2022-02-09T05:39:18.851Z"
   },
   {
    "duration": 15,
    "start_time": "2022-02-09T05:40:57.906Z"
   },
   {
    "duration": 120,
    "start_time": "2022-02-09T05:41:16.953Z"
   },
   {
    "duration": 151,
    "start_time": "2022-02-09T05:41:24.418Z"
   },
   {
    "duration": 128,
    "start_time": "2022-02-09T05:41:33.209Z"
   },
   {
    "duration": 121,
    "start_time": "2022-02-09T05:41:39.001Z"
   },
   {
    "duration": 126,
    "start_time": "2022-02-09T05:42:07.857Z"
   },
   {
    "duration": 137,
    "start_time": "2022-02-09T05:42:41.392Z"
   },
   {
    "duration": 129,
    "start_time": "2022-02-09T05:43:03.856Z"
   },
   {
    "duration": 12,
    "start_time": "2022-02-09T05:44:54.830Z"
   },
   {
    "duration": 15,
    "start_time": "2022-02-09T05:45:04.181Z"
   },
   {
    "duration": 15,
    "start_time": "2022-02-09T05:45:17.972Z"
   },
   {
    "duration": 128,
    "start_time": "2022-02-09T05:53:42.358Z"
   },
   {
    "duration": 6,
    "start_time": "2022-02-09T05:54:27.022Z"
   },
   {
    "duration": 6,
    "start_time": "2022-02-09T05:54:40.549Z"
   },
   {
    "duration": 14,
    "start_time": "2022-02-09T05:57:39.684Z"
   },
   {
    "duration": 910,
    "start_time": "2022-02-09T05:58:41.457Z"
   },
   {
    "duration": 16,
    "start_time": "2022-02-09T06:08:21.951Z"
   },
   {
    "duration": 242,
    "start_time": "2022-02-09T06:08:38.160Z"
   },
   {
    "duration": 12,
    "start_time": "2022-02-09T06:08:45.176Z"
   },
   {
    "duration": 91,
    "start_time": "2022-02-09T06:08:56.985Z"
   },
   {
    "duration": 11,
    "start_time": "2022-02-09T06:17:28.840Z"
   },
   {
    "duration": 15,
    "start_time": "2022-02-09T06:17:38.280Z"
   },
   {
    "duration": 273,
    "start_time": "2022-02-09T06:20:44.988Z"
   },
   {
    "duration": 14,
    "start_time": "2022-02-09T06:21:17.996Z"
   },
   {
    "duration": 17,
    "start_time": "2022-02-09T06:26:10.262Z"
   },
   {
    "duration": 15,
    "start_time": "2022-02-09T06:26:50.478Z"
   },
   {
    "duration": 14,
    "start_time": "2022-02-09T06:27:21.133Z"
   },
   {
    "duration": 14,
    "start_time": "2022-02-09T06:30:40.074Z"
   },
   {
    "duration": 14,
    "start_time": "2022-02-09T06:31:09.681Z"
   },
   {
    "duration": 12,
    "start_time": "2022-02-09T06:31:38.137Z"
   },
   {
    "duration": 16,
    "start_time": "2022-02-09T06:45:17.818Z"
   },
   {
    "duration": 14,
    "start_time": "2022-02-09T06:45:50.586Z"
   },
   {
    "duration": 12,
    "start_time": "2022-02-09T06:46:35.106Z"
   },
   {
    "duration": 7,
    "start_time": "2022-02-09T07:19:27.783Z"
   },
   {
    "duration": 5,
    "start_time": "2022-02-09T07:20:42.670Z"
   },
   {
    "duration": 4,
    "start_time": "2022-02-09T07:20:57.557Z"
   },
   {
    "duration": 6,
    "start_time": "2022-02-09T07:21:48.637Z"
   },
   {
    "duration": 10,
    "start_time": "2022-02-09T07:22:23.579Z"
   },
   {
    "duration": 5,
    "start_time": "2022-02-09T07:22:25.731Z"
   },
   {
    "duration": 5,
    "start_time": "2022-02-09T07:22:26.891Z"
   },
   {
    "duration": 6,
    "start_time": "2022-02-09T07:22:28.348Z"
   },
   {
    "duration": 7,
    "start_time": "2022-02-09T07:22:37.076Z"
   },
   {
    "duration": 10,
    "start_time": "2022-02-09T07:24:37.002Z"
   },
   {
    "duration": 5,
    "start_time": "2022-02-09T07:24:38.250Z"
   },
   {
    "duration": 5,
    "start_time": "2022-02-09T07:24:41.250Z"
   },
   {
    "duration": 6,
    "start_time": "2022-02-09T07:24:42.402Z"
   },
   {
    "duration": 12,
    "start_time": "2022-02-09T07:25:05.034Z"
   },
   {
    "duration": 5,
    "start_time": "2022-02-09T07:25:22.857Z"
   },
   {
    "duration": 5,
    "start_time": "2022-02-09T07:25:31.401Z"
   },
   {
    "duration": 7,
    "start_time": "2022-02-09T07:26:00.857Z"
   },
   {
    "duration": 7,
    "start_time": "2022-02-09T07:26:21.393Z"
   },
   {
    "duration": 8,
    "start_time": "2022-02-09T07:27:21.016Z"
   },
   {
    "duration": 7,
    "start_time": "2022-02-09T07:28:03.959Z"
   },
   {
    "duration": 1159,
    "start_time": "2022-02-09T07:28:18.915Z"
   },
   {
    "duration": 53,
    "start_time": "2022-02-09T07:28:20.076Z"
   },
   {
    "duration": 11,
    "start_time": "2022-02-09T07:28:20.132Z"
   },
   {
    "duration": 11,
    "start_time": "2022-02-09T07:28:20.146Z"
   },
   {
    "duration": 2,
    "start_time": "2022-02-09T07:28:20.159Z"
   },
   {
    "duration": 6,
    "start_time": "2022-02-09T07:28:20.162Z"
   },
   {
    "duration": 43,
    "start_time": "2022-02-09T07:28:20.169Z"
   },
   {
    "duration": 8,
    "start_time": "2022-02-09T07:28:20.215Z"
   },
   {
    "duration": 16,
    "start_time": "2022-02-09T07:28:20.225Z"
   },
   {
    "duration": 8,
    "start_time": "2022-02-09T07:28:20.242Z"
   },
   {
    "duration": 9,
    "start_time": "2022-02-09T07:28:20.251Z"
   },
   {
    "duration": 9,
    "start_time": "2022-02-09T07:28:20.261Z"
   },
   {
    "duration": 53,
    "start_time": "2022-02-09T07:28:20.272Z"
   },
   {
    "duration": 299,
    "start_time": "2022-02-09T07:28:20.327Z"
   },
   {
    "duration": 7,
    "start_time": "2022-02-09T07:28:20.627Z"
   },
   {
    "duration": 19,
    "start_time": "2022-02-09T07:28:20.636Z"
   },
   {
    "duration": 572,
    "start_time": "2022-02-09T07:28:20.657Z"
   },
   {
    "duration": 14,
    "start_time": "2022-02-09T07:28:21.231Z"
   },
   {
    "duration": 2169,
    "start_time": "2022-02-09T07:28:21.247Z"
   },
   {
    "duration": 19,
    "start_time": "2022-02-09T07:28:23.418Z"
   },
   {
    "duration": 13,
    "start_time": "2022-02-09T07:28:23.439Z"
   },
   {
    "duration": 455,
    "start_time": "2022-02-09T07:28:23.454Z"
   },
   {
    "duration": 10,
    "start_time": "2022-02-09T07:28:23.914Z"
   },
   {
    "duration": 1864,
    "start_time": "2022-02-09T07:28:23.927Z"
   },
   {
    "duration": 32,
    "start_time": "2022-02-09T07:28:25.793Z"
   },
   {
    "duration": 169,
    "start_time": "2022-02-09T07:28:25.827Z"
   },
   {
    "duration": 364,
    "start_time": "2022-02-09T07:28:25.997Z"
   },
   {
    "duration": 377,
    "start_time": "2022-02-09T07:28:26.363Z"
   },
   {
    "duration": 248,
    "start_time": "2022-02-09T07:28:26.742Z"
   },
   {
    "duration": 28,
    "start_time": "2022-02-09T07:28:26.992Z"
   },
   {
    "duration": 417,
    "start_time": "2022-02-09T07:28:27.022Z"
   },
   {
    "duration": 4,
    "start_time": "2022-02-09T07:28:27.441Z"
   },
   {
    "duration": 311,
    "start_time": "2022-02-09T07:28:27.447Z"
   },
   {
    "duration": 5,
    "start_time": "2022-02-09T07:28:27.760Z"
   },
   {
    "duration": 20,
    "start_time": "2022-02-09T07:28:27.766Z"
   },
   {
    "duration": 345,
    "start_time": "2022-02-09T07:28:27.787Z"
   },
   {
    "duration": 4,
    "start_time": "2022-02-09T07:28:28.134Z"
   },
   {
    "duration": 309,
    "start_time": "2022-02-09T07:28:28.140Z"
   },
   {
    "duration": 5,
    "start_time": "2022-02-09T07:28:28.451Z"
   },
   {
    "duration": 317,
    "start_time": "2022-02-09T07:28:28.458Z"
   },
   {
    "duration": 5,
    "start_time": "2022-02-09T07:28:28.777Z"
   },
   {
    "duration": 361,
    "start_time": "2022-02-09T07:28:28.784Z"
   },
   {
    "duration": 4,
    "start_time": "2022-02-09T07:28:29.147Z"
   },
   {
    "duration": 18,
    "start_time": "2022-02-09T07:28:29.153Z"
   },
   {
    "duration": 266,
    "start_time": "2022-02-09T07:28:29.173Z"
   },
   {
    "duration": 273,
    "start_time": "2022-02-09T07:28:29.441Z"
   },
   {
    "duration": 16,
    "start_time": "2022-02-09T07:28:29.716Z"
   },
   {
    "duration": 15,
    "start_time": "2022-02-09T07:28:29.733Z"
   },
   {
    "duration": 13,
    "start_time": "2022-02-09T07:28:29.750Z"
   },
   {
    "duration": 13,
    "start_time": "2022-02-09T07:28:29.764Z"
   },
   {
    "duration": 47,
    "start_time": "2022-02-09T07:28:29.778Z"
   },
   {
    "duration": 15,
    "start_time": "2022-02-09T07:28:29.827Z"
   },
   {
    "duration": 14,
    "start_time": "2022-02-09T07:28:29.843Z"
   },
   {
    "duration": 14,
    "start_time": "2022-02-09T07:28:29.859Z"
   },
   {
    "duration": 45,
    "start_time": "2022-02-09T07:28:29.874Z"
   },
   {
    "duration": 20,
    "start_time": "2022-02-09T07:28:29.921Z"
   },
   {
    "duration": 15,
    "start_time": "2022-02-09T07:28:29.943Z"
   },
   {
    "duration": 15,
    "start_time": "2022-02-09T07:28:29.959Z"
   },
   {
    "duration": 37,
    "start_time": "2022-02-09T07:28:29.976Z"
   },
   {
    "duration": 16,
    "start_time": "2022-02-09T07:28:30.015Z"
   },
   {
    "duration": 15,
    "start_time": "2022-02-09T07:28:30.032Z"
   },
   {
    "duration": 12,
    "start_time": "2022-02-09T07:28:30.048Z"
   },
   {
    "duration": 6,
    "start_time": "2022-02-09T07:28:30.062Z"
   },
   {
    "duration": 17,
    "start_time": "2022-02-09T07:28:30.070Z"
   },
   {
    "duration": 30,
    "start_time": "2022-02-09T07:28:30.088Z"
   },
   {
    "duration": 15,
    "start_time": "2022-02-09T07:28:30.119Z"
   },
   {
    "duration": 12,
    "start_time": "2022-02-09T07:28:30.136Z"
   },
   {
    "duration": 12,
    "start_time": "2022-02-09T07:28:30.152Z"
   },
   {
    "duration": 14,
    "start_time": "2022-02-09T07:28:30.165Z"
   },
   {
    "duration": 1656,
    "start_time": "2022-02-09T11:37:04.482Z"
   },
   {
    "duration": 67,
    "start_time": "2022-02-09T11:37:06.142Z"
   },
   {
    "duration": 31,
    "start_time": "2022-02-09T11:37:06.212Z"
   },
   {
    "duration": 14,
    "start_time": "2022-02-09T11:37:06.246Z"
   },
   {
    "duration": 2,
    "start_time": "2022-02-09T11:37:06.263Z"
   },
   {
    "duration": 9,
    "start_time": "2022-02-09T11:37:06.268Z"
   },
   {
    "duration": 60,
    "start_time": "2022-02-09T11:37:06.279Z"
   },
   {
    "duration": 11,
    "start_time": "2022-02-09T11:37:06.344Z"
   },
   {
    "duration": 33,
    "start_time": "2022-02-09T11:37:06.358Z"
   },
   {
    "duration": 38,
    "start_time": "2022-02-09T11:37:06.394Z"
   },
   {
    "duration": 14,
    "start_time": "2022-02-09T11:37:06.437Z"
   },
   {
    "duration": 7,
    "start_time": "2022-02-09T11:37:06.454Z"
   },
   {
    "duration": 59,
    "start_time": "2022-02-09T11:37:06.464Z"
   },
   {
    "duration": 459,
    "start_time": "2022-02-09T11:37:06.526Z"
   },
   {
    "duration": 9,
    "start_time": "2022-02-09T11:37:06.987Z"
   },
   {
    "duration": 44,
    "start_time": "2022-02-09T11:37:06.998Z"
   },
   {
    "duration": 809,
    "start_time": "2022-02-09T11:37:07.044Z"
   },
   {
    "duration": 20,
    "start_time": "2022-02-09T11:37:07.856Z"
   },
   {
    "duration": 3365,
    "start_time": "2022-02-09T11:37:07.879Z"
   },
   {
    "duration": 29,
    "start_time": "2022-02-09T11:37:11.247Z"
   },
   {
    "duration": 48,
    "start_time": "2022-02-09T11:37:11.279Z"
   },
   {
    "duration": 665,
    "start_time": "2022-02-09T11:37:11.331Z"
   },
   {
    "duration": 25,
    "start_time": "2022-02-09T11:37:12.001Z"
   },
   {
    "duration": 2966,
    "start_time": "2022-02-09T11:37:12.032Z"
   },
   {
    "duration": 59,
    "start_time": "2022-02-09T11:37:15.000Z"
   },
   {
    "duration": 270,
    "start_time": "2022-02-09T11:37:15.062Z"
   },
   {
    "duration": 537,
    "start_time": "2022-02-09T11:37:15.336Z"
   },
   {
    "duration": 569,
    "start_time": "2022-02-09T11:37:15.876Z"
   },
   {
    "duration": 407,
    "start_time": "2022-02-09T11:37:16.448Z"
   },
   {
    "duration": 28,
    "start_time": "2022-02-09T11:37:16.857Z"
   },
   {
    "duration": 571,
    "start_time": "2022-02-09T11:37:16.888Z"
   },
   {
    "duration": 7,
    "start_time": "2022-02-09T11:37:17.461Z"
   },
   {
    "duration": 490,
    "start_time": "2022-02-09T11:37:17.470Z"
   },
   {
    "duration": 6,
    "start_time": "2022-02-09T11:37:17.962Z"
   },
   {
    "duration": 27,
    "start_time": "2022-02-09T11:37:17.971Z"
   },
   {
    "duration": 452,
    "start_time": "2022-02-09T11:37:18.026Z"
   },
   {
    "duration": 7,
    "start_time": "2022-02-09T11:37:18.480Z"
   },
   {
    "duration": 460,
    "start_time": "2022-02-09T11:37:18.489Z"
   },
   {
    "duration": 7,
    "start_time": "2022-02-09T11:37:18.952Z"
   },
   {
    "duration": 509,
    "start_time": "2022-02-09T11:37:18.961Z"
   },
   {
    "duration": 9,
    "start_time": "2022-02-09T11:37:19.473Z"
   },
   {
    "duration": 483,
    "start_time": "2022-02-09T11:37:19.484Z"
   },
   {
    "duration": 7,
    "start_time": "2022-02-09T11:37:19.970Z"
   },
   {
    "duration": 82,
    "start_time": "2022-02-09T11:37:19.979Z"
   },
   {
    "duration": 391,
    "start_time": "2022-02-09T11:37:20.063Z"
   },
   {
    "duration": 433,
    "start_time": "2022-02-09T11:37:20.458Z"
   },
   {
    "duration": 39,
    "start_time": "2022-02-09T11:37:20.893Z"
   },
   {
    "duration": 27,
    "start_time": "2022-02-09T11:37:20.935Z"
   },
   {
    "duration": 20,
    "start_time": "2022-02-09T11:37:20.965Z"
   },
   {
    "duration": 53,
    "start_time": "2022-02-09T11:37:20.988Z"
   },
   {
    "duration": 31,
    "start_time": "2022-02-09T11:37:21.044Z"
   },
   {
    "duration": 62,
    "start_time": "2022-02-09T11:37:21.077Z"
   },
   {
    "duration": 20,
    "start_time": "2022-02-09T11:37:21.141Z"
   },
   {
    "duration": 23,
    "start_time": "2022-02-09T11:37:21.163Z"
   },
   {
    "duration": 63,
    "start_time": "2022-02-09T11:37:21.189Z"
   },
   {
    "duration": 22,
    "start_time": "2022-02-09T11:37:21.255Z"
   },
   {
    "duration": 53,
    "start_time": "2022-02-09T11:37:21.280Z"
   },
   {
    "duration": 22,
    "start_time": "2022-02-09T11:37:21.338Z"
   },
   {
    "duration": 18,
    "start_time": "2022-02-09T11:37:21.363Z"
   },
   {
    "duration": 59,
    "start_time": "2022-02-09T11:37:21.384Z"
   },
   {
    "duration": 22,
    "start_time": "2022-02-09T11:37:21.445Z"
   },
   {
    "duration": 16,
    "start_time": "2022-02-09T11:37:21.469Z"
   },
   {
    "duration": 39,
    "start_time": "2022-02-09T11:37:21.488Z"
   },
   {
    "duration": 15,
    "start_time": "2022-02-09T11:37:21.530Z"
   },
   {
    "duration": 14,
    "start_time": "2022-02-09T11:37:21.547Z"
   },
   {
    "duration": 16,
    "start_time": "2022-02-09T11:37:21.564Z"
   },
   {
    "duration": 7,
    "start_time": "2022-02-09T11:37:21.583Z"
   },
   {
    "duration": 17,
    "start_time": "2022-02-09T11:37:21.631Z"
   },
   {
    "duration": 14,
    "start_time": "2022-02-09T11:37:21.651Z"
   },
   {
    "duration": 22,
    "start_time": "2022-02-09T11:40:50.492Z"
   },
   {
    "duration": 3301,
    "start_time": "2022-02-09T11:53:31.638Z"
   },
   {
    "duration": 3568,
    "start_time": "2022-02-09T11:54:08.912Z"
   },
   {
    "duration": 557,
    "start_time": "2022-02-09T11:59:47.711Z"
   },
   {
    "duration": 545,
    "start_time": "2022-02-09T11:59:53.138Z"
   },
   {
    "duration": 375,
    "start_time": "2022-02-09T12:00:25.649Z"
   },
   {
    "duration": 378,
    "start_time": "2022-02-09T12:00:41.330Z"
   },
   {
    "duration": 128,
    "start_time": "2022-02-09T12:58:36.529Z"
   },
   {
    "duration": 6,
    "start_time": "2022-02-09T12:59:15.070Z"
   },
   {
    "duration": 6,
    "start_time": "2022-02-09T12:59:28.406Z"
   },
   {
    "duration": 7,
    "start_time": "2022-02-09T13:03:30.370Z"
   },
   {
    "duration": 7,
    "start_time": "2022-02-09T13:03:41.145Z"
   },
   {
    "duration": 103,
    "start_time": "2022-02-13T07:13:08.998Z"
   },
   {
    "duration": 1507,
    "start_time": "2022-02-13T08:53:50.241Z"
   },
   {
    "duration": 72,
    "start_time": "2022-02-13T08:53:51.751Z"
   },
   {
    "duration": 23,
    "start_time": "2022-02-13T08:53:51.835Z"
   },
   {
    "duration": 19,
    "start_time": "2022-02-13T08:53:51.861Z"
   },
   {
    "duration": 62,
    "start_time": "2022-02-13T08:53:51.883Z"
   },
   {
    "duration": 7,
    "start_time": "2022-02-13T08:53:51.947Z"
   },
   {
    "duration": 16,
    "start_time": "2022-02-13T08:53:51.960Z"
   },
   {
    "duration": 14,
    "start_time": "2022-02-13T08:53:51.979Z"
   },
   {
    "duration": 32,
    "start_time": "2022-02-13T08:53:52.033Z"
   },
   {
    "duration": 15,
    "start_time": "2022-02-13T08:53:52.069Z"
   },
   {
    "duration": 54,
    "start_time": "2022-02-13T08:53:52.087Z"
   },
   {
    "duration": 9,
    "start_time": "2022-02-13T08:53:52.144Z"
   },
   {
    "duration": 75,
    "start_time": "2022-02-13T08:53:52.156Z"
   },
   {
    "duration": 616,
    "start_time": "2022-02-13T08:53:52.235Z"
   },
   {
    "duration": 17,
    "start_time": "2022-02-13T08:53:52.855Z"
   },
   {
    "duration": 31,
    "start_time": "2022-02-13T08:53:52.876Z"
   },
   {
    "duration": 798,
    "start_time": "2022-02-13T08:53:52.934Z"
   },
   {
    "duration": 20,
    "start_time": "2022-02-13T08:53:53.735Z"
   },
   {
    "duration": 3842,
    "start_time": "2022-02-13T08:53:53.757Z"
   },
   {
    "duration": 45,
    "start_time": "2022-02-13T08:53:57.601Z"
   },
   {
    "duration": 19,
    "start_time": "2022-02-13T08:53:57.648Z"
   },
   {
    "duration": 649,
    "start_time": "2022-02-13T08:53:57.673Z"
   },
   {
    "duration": 19,
    "start_time": "2022-02-13T08:53:58.326Z"
   },
   {
    "duration": 4342,
    "start_time": "2022-02-13T08:53:58.347Z"
   },
   {
    "duration": 54,
    "start_time": "2022-02-13T08:54:02.692Z"
   },
   {
    "duration": 245,
    "start_time": "2022-02-13T08:54:02.749Z"
   },
   {
    "duration": 548,
    "start_time": "2022-02-13T08:54:02.997Z"
   },
   {
    "duration": 517,
    "start_time": "2022-02-13T08:54:03.548Z"
   },
   {
    "duration": 401,
    "start_time": "2022-02-13T08:54:04.067Z"
   },
   {
    "duration": 27,
    "start_time": "2022-02-13T08:54:04.470Z"
   },
   {
    "duration": 551,
    "start_time": "2022-02-13T08:54:04.501Z"
   },
   {
    "duration": 7,
    "start_time": "2022-02-13T08:54:05.055Z"
   },
   {
    "duration": 398,
    "start_time": "2022-02-13T08:54:05.064Z"
   },
   {
    "duration": 7,
    "start_time": "2022-02-13T08:54:05.465Z"
   },
   {
    "duration": 29,
    "start_time": "2022-02-13T08:54:05.474Z"
   },
   {
    "duration": 446,
    "start_time": "2022-02-13T08:54:05.506Z"
   },
   {
    "duration": 7,
    "start_time": "2022-02-13T08:54:05.954Z"
   },
   {
    "duration": 406,
    "start_time": "2022-02-13T08:54:05.963Z"
   },
   {
    "duration": 6,
    "start_time": "2022-02-13T08:54:06.372Z"
   },
   {
    "duration": 464,
    "start_time": "2022-02-13T08:54:06.381Z"
   },
   {
    "duration": 7,
    "start_time": "2022-02-13T08:54:06.847Z"
   },
   {
    "duration": 412,
    "start_time": "2022-02-13T08:54:06.856Z"
   },
   {
    "duration": 7,
    "start_time": "2022-02-13T08:54:07.271Z"
   },
   {
    "duration": 37,
    "start_time": "2022-02-13T08:54:07.281Z"
   },
   {
    "duration": 402,
    "start_time": "2022-02-13T08:54:07.320Z"
   },
   {
    "duration": 375,
    "start_time": "2022-02-13T08:54:07.732Z"
   },
   {
    "duration": 31,
    "start_time": "2022-02-13T08:54:08.109Z"
   },
   {
    "duration": 32,
    "start_time": "2022-02-13T08:54:08.143Z"
   },
   {
    "duration": 20,
    "start_time": "2022-02-13T08:54:08.178Z"
   },
   {
    "duration": 51,
    "start_time": "2022-02-13T08:54:08.201Z"
   },
   {
    "duration": 35,
    "start_time": "2022-02-13T08:54:08.255Z"
   },
   {
    "duration": 41,
    "start_time": "2022-02-13T08:54:08.293Z"
   },
   {
    "duration": 21,
    "start_time": "2022-02-13T08:54:08.336Z"
   },
   {
    "duration": 27,
    "start_time": "2022-02-13T08:54:08.360Z"
   },
   {
    "duration": 45,
    "start_time": "2022-02-13T08:54:08.390Z"
   },
   {
    "duration": 22,
    "start_time": "2022-02-13T08:54:08.437Z"
   },
   {
    "duration": 22,
    "start_time": "2022-02-13T08:54:08.462Z"
   },
   {
    "duration": 55,
    "start_time": "2022-02-13T08:54:08.486Z"
   },
   {
    "duration": 13,
    "start_time": "2022-02-13T08:54:08.543Z"
   },
   {
    "duration": 16,
    "start_time": "2022-02-13T08:54:08.559Z"
   },
   {
    "duration": 13,
    "start_time": "2022-02-13T08:54:08.578Z"
   },
   {
    "duration": 14,
    "start_time": "2022-02-13T08:54:08.593Z"
   },
   {
    "duration": 27,
    "start_time": "2022-02-13T08:54:08.610Z"
   },
   {
    "duration": 17,
    "start_time": "2022-02-13T08:54:08.639Z"
   },
   {
    "duration": 23,
    "start_time": "2022-02-13T08:54:08.659Z"
   },
   {
    "duration": 8,
    "start_time": "2022-02-13T08:54:08.684Z"
   },
   {
    "duration": 11,
    "start_time": "2022-02-13T08:54:08.699Z"
   },
   {
    "duration": 21,
    "start_time": "2022-02-13T08:54:08.712Z"
   },
   {
    "duration": 15,
    "start_time": "2022-02-13T08:54:08.735Z"
   },
   {
    "duration": 10,
    "start_time": "2022-02-13T08:54:08.752Z"
   },
   {
    "duration": 322,
    "start_time": "2022-02-13T08:55:31.555Z"
   },
   {
    "duration": 404,
    "start_time": "2022-02-13T08:57:01.731Z"
   },
   {
    "duration": 363,
    "start_time": "2022-02-13T09:02:53.773Z"
   },
   {
    "duration": 1482,
    "start_time": "2022-02-13T09:03:08.533Z"
   },
   {
    "duration": 62,
    "start_time": "2022-02-13T09:03:10.018Z"
   },
   {
    "duration": 14,
    "start_time": "2022-02-13T09:03:10.083Z"
   },
   {
    "duration": 38,
    "start_time": "2022-02-13T09:03:10.100Z"
   },
   {
    "duration": 24,
    "start_time": "2022-02-13T09:03:10.141Z"
   },
   {
    "duration": 7,
    "start_time": "2022-02-13T09:03:10.167Z"
   },
   {
    "duration": 14,
    "start_time": "2022-02-13T09:03:10.177Z"
   },
   {
    "duration": 14,
    "start_time": "2022-02-13T09:03:10.232Z"
   },
   {
    "duration": 32,
    "start_time": "2022-02-13T09:03:10.250Z"
   },
   {
    "duration": 51,
    "start_time": "2022-02-13T09:03:10.285Z"
   },
   {
    "duration": 13,
    "start_time": "2022-02-13T09:03:10.339Z"
   },
   {
    "duration": 8,
    "start_time": "2022-02-13T09:03:10.354Z"
   },
   {
    "duration": 37,
    "start_time": "2022-02-13T09:03:10.365Z"
   },
   {
    "duration": 466,
    "start_time": "2022-02-13T09:03:10.404Z"
   },
   {
    "duration": 12,
    "start_time": "2022-02-13T09:03:10.873Z"
   },
   {
    "duration": 47,
    "start_time": "2022-02-13T09:03:10.887Z"
   },
   {
    "duration": 760,
    "start_time": "2022-02-13T09:03:10.936Z"
   },
   {
    "duration": 19,
    "start_time": "2022-02-13T09:03:11.698Z"
   },
   {
    "duration": 3606,
    "start_time": "2022-02-13T09:03:11.733Z"
   },
   {
    "duration": 26,
    "start_time": "2022-02-13T09:03:15.342Z"
   },
   {
    "duration": 23,
    "start_time": "2022-02-13T09:03:15.371Z"
   },
   {
    "duration": 649,
    "start_time": "2022-02-13T09:03:15.397Z"
   },
   {
    "duration": 14,
    "start_time": "2022-02-13T09:03:16.052Z"
   },
   {
    "duration": 3062,
    "start_time": "2022-02-13T09:03:16.070Z"
   },
   {
    "duration": 35,
    "start_time": "2022-02-13T09:03:19.135Z"
   },
   {
    "duration": 260,
    "start_time": "2022-02-13T09:03:19.172Z"
   },
   {
    "duration": 524,
    "start_time": "2022-02-13T09:03:19.434Z"
   },
   {
    "duration": 520,
    "start_time": "2022-02-13T09:03:19.960Z"
   },
   {
    "duration": 392,
    "start_time": "2022-02-13T09:03:20.482Z"
   },
   {
    "duration": 27,
    "start_time": "2022-02-13T09:03:20.877Z"
   },
   {
    "duration": 529,
    "start_time": "2022-02-13T09:03:20.906Z"
   },
   {
    "duration": 8,
    "start_time": "2022-02-13T09:03:21.438Z"
   },
   {
    "duration": 400,
    "start_time": "2022-02-13T09:03:21.450Z"
   },
   {
    "duration": 8,
    "start_time": "2022-02-13T09:03:21.853Z"
   },
   {
    "duration": 28,
    "start_time": "2022-02-13T09:03:21.864Z"
   },
   {
    "duration": 439,
    "start_time": "2022-02-13T09:03:21.894Z"
   },
   {
    "duration": 7,
    "start_time": "2022-02-13T09:03:22.336Z"
   },
   {
    "duration": 402,
    "start_time": "2022-02-13T09:03:22.346Z"
   },
   {
    "duration": 7,
    "start_time": "2022-02-13T09:03:22.751Z"
   },
   {
    "duration": 574,
    "start_time": "2022-02-13T09:03:22.761Z"
   },
   {
    "duration": 8,
    "start_time": "2022-02-13T09:03:23.338Z"
   },
   {
    "duration": 410,
    "start_time": "2022-02-13T09:03:23.348Z"
   },
   {
    "duration": 7,
    "start_time": "2022-02-13T09:03:23.760Z"
   },
   {
    "duration": 29,
    "start_time": "2022-02-13T09:03:23.770Z"
   },
   {
    "duration": 521,
    "start_time": "2022-02-13T09:03:23.833Z"
   },
   {
    "duration": 494,
    "start_time": "2022-02-13T09:03:24.356Z"
   },
   {
    "duration": 23,
    "start_time": "2022-02-13T09:03:24.852Z"
   },
   {
    "duration": 23,
    "start_time": "2022-02-13T09:03:24.877Z"
   },
   {
    "duration": 18,
    "start_time": "2022-02-13T09:03:24.933Z"
   },
   {
    "duration": 23,
    "start_time": "2022-02-13T09:03:24.954Z"
   },
   {
    "duration": 53,
    "start_time": "2022-02-13T09:03:24.979Z"
   },
   {
    "duration": 19,
    "start_time": "2022-02-13T09:03:25.035Z"
   },
   {
    "duration": 23,
    "start_time": "2022-02-13T09:03:25.057Z"
   },
   {
    "duration": 64,
    "start_time": "2022-02-13T09:03:25.082Z"
   },
   {
    "duration": 17,
    "start_time": "2022-02-13T09:03:25.149Z"
   },
   {
    "duration": 21,
    "start_time": "2022-02-13T09:03:25.168Z"
   },
   {
    "duration": 54,
    "start_time": "2022-02-13T09:03:25.191Z"
   },
   {
    "duration": 17,
    "start_time": "2022-02-13T09:03:25.247Z"
   },
   {
    "duration": 14,
    "start_time": "2022-02-13T09:03:25.267Z"
   },
   {
    "duration": 49,
    "start_time": "2022-02-13T09:03:25.283Z"
   },
   {
    "duration": 6,
    "start_time": "2022-02-13T09:03:25.334Z"
   },
   {
    "duration": 7,
    "start_time": "2022-02-13T09:03:25.343Z"
   },
   {
    "duration": 8,
    "start_time": "2022-02-13T09:03:25.352Z"
   },
   {
    "duration": 14,
    "start_time": "2022-02-13T09:03:25.362Z"
   },
   {
    "duration": 56,
    "start_time": "2022-02-13T09:03:25.379Z"
   },
   {
    "duration": 9,
    "start_time": "2022-02-13T09:03:25.437Z"
   },
   {
    "duration": 16,
    "start_time": "2022-02-13T09:03:25.449Z"
   },
   {
    "duration": 6,
    "start_time": "2022-02-13T09:03:25.474Z"
   },
   {
    "duration": 10,
    "start_time": "2022-02-13T09:03:25.482Z"
   },
   {
    "duration": 40,
    "start_time": "2022-02-13T09:03:25.494Z"
   },
   {
    "duration": 25,
    "start_time": "2022-02-13T09:11:23.593Z"
   },
   {
    "duration": 21,
    "start_time": "2022-02-13T09:22:17.741Z"
   },
   {
    "duration": 1562,
    "start_time": "2022-02-13T09:29:06.102Z"
   },
   {
    "duration": 69,
    "start_time": "2022-02-13T09:29:07.666Z"
   },
   {
    "duration": 14,
    "start_time": "2022-02-13T09:29:07.738Z"
   },
   {
    "duration": 16,
    "start_time": "2022-02-13T09:29:07.755Z"
   },
   {
    "duration": 22,
    "start_time": "2022-02-13T09:29:07.774Z"
   },
   {
    "duration": 6,
    "start_time": "2022-02-13T09:29:07.832Z"
   },
   {
    "duration": 16,
    "start_time": "2022-02-13T09:29:07.841Z"
   },
   {
    "duration": 11,
    "start_time": "2022-02-13T09:29:07.862Z"
   },
   {
    "duration": 69,
    "start_time": "2022-02-13T09:29:07.877Z"
   },
   {
    "duration": 12,
    "start_time": "2022-02-13T09:29:07.949Z"
   },
   {
    "duration": 12,
    "start_time": "2022-02-13T09:29:07.964Z"
   },
   {
    "duration": 7,
    "start_time": "2022-02-13T09:29:07.978Z"
   },
   {
    "duration": 69,
    "start_time": "2022-02-13T09:29:07.988Z"
   },
   {
    "duration": 463,
    "start_time": "2022-02-13T09:29:08.060Z"
   },
   {
    "duration": 10,
    "start_time": "2022-02-13T09:29:08.532Z"
   },
   {
    "duration": 28,
    "start_time": "2022-02-13T09:29:08.544Z"
   },
   {
    "duration": 796,
    "start_time": "2022-02-13T09:29:08.574Z"
   },
   {
    "duration": 22,
    "start_time": "2022-02-13T09:29:09.372Z"
   },
   {
    "duration": 3898,
    "start_time": "2022-02-13T09:29:09.396Z"
   },
   {
    "duration": 42,
    "start_time": "2022-02-13T09:29:13.297Z"
   },
   {
    "duration": 22,
    "start_time": "2022-02-13T09:29:13.341Z"
   },
   {
    "duration": 669,
    "start_time": "2022-02-13T09:29:13.365Z"
   },
   {
    "duration": 20,
    "start_time": "2022-02-13T09:29:14.040Z"
   },
   {
    "duration": 3140,
    "start_time": "2022-02-13T09:29:14.065Z"
   },
   {
    "duration": 41,
    "start_time": "2022-02-13T09:29:17.208Z"
   },
   {
    "duration": 248,
    "start_time": "2022-02-13T09:29:17.251Z"
   },
   {
    "duration": 510,
    "start_time": "2022-02-13T09:29:17.502Z"
   },
   {
    "duration": 533,
    "start_time": "2022-02-13T09:29:18.016Z"
   },
   {
    "duration": 390,
    "start_time": "2022-02-13T09:29:18.551Z"
   },
   {
    "duration": 27,
    "start_time": "2022-02-13T09:29:18.944Z"
   },
   {
    "duration": 516,
    "start_time": "2022-02-13T09:29:18.974Z"
   },
   {
    "duration": 7,
    "start_time": "2022-02-13T09:29:19.492Z"
   },
   {
    "duration": 437,
    "start_time": "2022-02-13T09:29:19.501Z"
   },
   {
    "duration": 6,
    "start_time": "2022-02-13T09:29:19.941Z"
   },
   {
    "duration": 29,
    "start_time": "2022-02-13T09:29:19.949Z"
   },
   {
    "duration": 446,
    "start_time": "2022-02-13T09:29:19.980Z"
   },
   {
    "duration": 6,
    "start_time": "2022-02-13T09:29:20.428Z"
   },
   {
    "duration": 407,
    "start_time": "2022-02-13T09:29:20.436Z"
   },
   {
    "duration": 6,
    "start_time": "2022-02-13T09:29:20.846Z"
   },
   {
    "duration": 409,
    "start_time": "2022-02-13T09:29:20.854Z"
   },
   {
    "duration": 8,
    "start_time": "2022-02-13T09:29:21.265Z"
   },
   {
    "duration": 596,
    "start_time": "2022-02-13T09:29:21.275Z"
   },
   {
    "duration": 8,
    "start_time": "2022-02-13T09:29:21.874Z"
   },
   {
    "duration": 50,
    "start_time": "2022-02-13T09:29:21.884Z"
   },
   {
    "duration": 543,
    "start_time": "2022-02-13T09:29:21.937Z"
   },
   {
    "duration": 552,
    "start_time": "2022-02-13T09:29:22.483Z"
   },
   {
    "duration": 29,
    "start_time": "2022-02-13T09:29:23.038Z"
   },
   {
    "duration": 24,
    "start_time": "2022-02-13T09:29:23.069Z"
   },
   {
    "duration": 51,
    "start_time": "2022-02-13T09:29:23.096Z"
   },
   {
    "duration": 25,
    "start_time": "2022-02-13T09:29:23.150Z"
   },
   {
    "duration": 22,
    "start_time": "2022-02-13T09:29:23.177Z"
   },
   {
    "duration": 20,
    "start_time": "2022-02-13T09:29:23.233Z"
   },
   {
    "duration": 24,
    "start_time": "2022-02-13T09:29:23.256Z"
   },
   {
    "duration": 58,
    "start_time": "2022-02-13T09:29:23.283Z"
   },
   {
    "duration": 17,
    "start_time": "2022-02-13T09:29:23.343Z"
   },
   {
    "duration": 20,
    "start_time": "2022-02-13T09:29:23.363Z"
   },
   {
    "duration": 56,
    "start_time": "2022-02-13T09:29:23.385Z"
   },
   {
    "duration": 21,
    "start_time": "2022-02-13T09:29:23.444Z"
   },
   {
    "duration": 13,
    "start_time": "2022-02-13T09:29:23.468Z"
   },
   {
    "duration": 49,
    "start_time": "2022-02-13T09:29:23.485Z"
   },
   {
    "duration": 6,
    "start_time": "2022-02-13T09:29:23.536Z"
   },
   {
    "duration": 8,
    "start_time": "2022-02-13T09:29:23.544Z"
   },
   {
    "duration": 7,
    "start_time": "2022-02-13T09:29:23.554Z"
   },
   {
    "duration": 12,
    "start_time": "2022-02-13T09:29:23.564Z"
   },
   {
    "duration": 56,
    "start_time": "2022-02-13T09:29:23.579Z"
   },
   {
    "duration": 6,
    "start_time": "2022-02-13T09:29:23.637Z"
   },
   {
    "duration": 9,
    "start_time": "2022-02-13T09:29:23.645Z"
   },
   {
    "duration": 6,
    "start_time": "2022-02-13T09:29:23.660Z"
   },
   {
    "duration": 9,
    "start_time": "2022-02-13T09:29:23.668Z"
   },
   {
    "duration": 10,
    "start_time": "2022-02-13T09:29:23.679Z"
   },
   {
    "duration": 1411,
    "start_time": "2022-02-13T14:03:45.073Z"
   },
   {
    "duration": 67,
    "start_time": "2022-02-13T14:03:46.486Z"
   },
   {
    "duration": 13,
    "start_time": "2022-02-13T14:03:46.556Z"
   },
   {
    "duration": 12,
    "start_time": "2022-02-13T14:03:46.572Z"
   },
   {
    "duration": 19,
    "start_time": "2022-02-13T14:03:46.585Z"
   },
   {
    "duration": 4,
    "start_time": "2022-02-13T14:03:46.606Z"
   },
   {
    "duration": 9,
    "start_time": "2022-02-13T14:03:46.627Z"
   },
   {
    "duration": 7,
    "start_time": "2022-02-13T14:03:46.638Z"
   },
   {
    "duration": 13,
    "start_time": "2022-02-13T14:03:46.647Z"
   },
   {
    "duration": 8,
    "start_time": "2022-02-13T14:03:46.662Z"
   },
   {
    "duration": 7,
    "start_time": "2022-02-13T14:03:46.672Z"
   },
   {
    "duration": 6,
    "start_time": "2022-02-13T14:03:46.680Z"
   },
   {
    "duration": 48,
    "start_time": "2022-02-13T14:03:46.687Z"
   },
   {
    "duration": 247,
    "start_time": "2022-02-13T14:03:46.737Z"
   },
   {
    "duration": 6,
    "start_time": "2022-02-13T14:03:46.987Z"
   },
   {
    "duration": 15,
    "start_time": "2022-02-13T14:03:46.995Z"
   },
   {
    "duration": 394,
    "start_time": "2022-02-13T14:03:47.027Z"
   },
   {
    "duration": 13,
    "start_time": "2022-02-13T14:03:47.427Z"
   },
   {
    "duration": 1940,
    "start_time": "2022-02-13T14:03:47.442Z"
   },
   {
    "duration": 14,
    "start_time": "2022-02-13T14:03:49.384Z"
   },
   {
    "duration": 14,
    "start_time": "2022-02-13T14:03:49.400Z"
   },
   {
    "duration": 375,
    "start_time": "2022-02-13T14:03:49.427Z"
   },
   {
    "duration": 20,
    "start_time": "2022-02-13T14:03:49.807Z"
   },
   {
    "duration": 1667,
    "start_time": "2022-02-13T14:03:49.830Z"
   },
   {
    "duration": 19,
    "start_time": "2022-02-13T14:03:51.499Z"
   },
   {
    "duration": 138,
    "start_time": "2022-02-13T14:03:51.527Z"
   },
   {
    "duration": 297,
    "start_time": "2022-02-13T14:03:51.667Z"
   },
   {
    "duration": 280,
    "start_time": "2022-02-13T14:03:51.966Z"
   },
   {
    "duration": 209,
    "start_time": "2022-02-13T14:03:52.248Z"
   },
   {
    "duration": 15,
    "start_time": "2022-02-13T14:03:52.459Z"
   },
   {
    "duration": 368,
    "start_time": "2022-02-13T14:03:52.476Z"
   },
   {
    "duration": 5,
    "start_time": "2022-02-13T14:03:52.845Z"
   },
   {
    "duration": 287,
    "start_time": "2022-02-13T14:03:52.851Z"
   },
   {
    "duration": 4,
    "start_time": "2022-02-13T14:03:53.140Z"
   },
   {
    "duration": 16,
    "start_time": "2022-02-13T14:03:53.146Z"
   },
   {
    "duration": 265,
    "start_time": "2022-02-13T14:03:53.164Z"
   },
   {
    "duration": 6,
    "start_time": "2022-02-13T14:03:53.430Z"
   },
   {
    "duration": 299,
    "start_time": "2022-02-13T14:03:53.437Z"
   },
   {
    "duration": 5,
    "start_time": "2022-02-13T14:03:53.738Z"
   },
   {
    "duration": 302,
    "start_time": "2022-02-13T14:03:53.745Z"
   },
   {
    "duration": 5,
    "start_time": "2022-02-13T14:03:54.049Z"
   },
   {
    "duration": 322,
    "start_time": "2022-02-13T14:03:54.056Z"
   },
   {
    "duration": 4,
    "start_time": "2022-02-13T14:03:54.380Z"
   },
   {
    "duration": 16,
    "start_time": "2022-02-13T14:03:54.385Z"
   },
   {
    "duration": 225,
    "start_time": "2022-02-13T14:03:54.402Z"
   },
   {
    "duration": 209,
    "start_time": "2022-02-13T14:03:54.628Z"
   },
   {
    "duration": 13,
    "start_time": "2022-02-13T14:03:54.839Z"
   },
   {
    "duration": 13,
    "start_time": "2022-02-13T14:03:54.854Z"
   },
   {
    "duration": 10,
    "start_time": "2022-02-13T14:03:54.868Z"
   },
   {
    "duration": 12,
    "start_time": "2022-02-13T14:03:54.880Z"
   },
   {
    "duration": 42,
    "start_time": "2022-02-13T14:03:54.893Z"
   },
   {
    "duration": 9,
    "start_time": "2022-02-13T14:03:54.937Z"
   },
   {
    "duration": 11,
    "start_time": "2022-02-13T14:03:54.948Z"
   },
   {
    "duration": 12,
    "start_time": "2022-02-13T14:03:54.960Z"
   },
   {
    "duration": 10,
    "start_time": "2022-02-13T14:03:54.973Z"
   },
   {
    "duration": 44,
    "start_time": "2022-02-13T14:03:54.984Z"
   },
   {
    "duration": 12,
    "start_time": "2022-02-13T14:03:55.029Z"
   },
   {
    "duration": 15,
    "start_time": "2022-02-13T14:03:55.043Z"
   },
   {
    "duration": 7,
    "start_time": "2022-02-13T14:03:55.060Z"
   },
   {
    "duration": 4,
    "start_time": "2022-02-13T14:03:55.068Z"
   },
   {
    "duration": 4,
    "start_time": "2022-02-13T14:03:55.073Z"
   },
   {
    "duration": 4,
    "start_time": "2022-02-13T14:03:55.079Z"
   },
   {
    "duration": 4,
    "start_time": "2022-02-13T14:03:55.085Z"
   },
   {
    "duration": 37,
    "start_time": "2022-02-13T14:03:55.091Z"
   },
   {
    "duration": 8,
    "start_time": "2022-02-13T14:03:55.130Z"
   },
   {
    "duration": 6,
    "start_time": "2022-02-13T14:03:55.140Z"
   },
   {
    "duration": 5,
    "start_time": "2022-02-13T14:03:55.147Z"
   },
   {
    "duration": 5,
    "start_time": "2022-02-13T14:03:55.156Z"
   },
   {
    "duration": 5,
    "start_time": "2022-02-13T14:03:55.162Z"
   },
   {
    "duration": 6,
    "start_time": "2022-02-13T14:03:55.168Z"
   },
   {
    "duration": 1544,
    "start_time": "2022-02-20T20:46:04.154Z"
   },
   {
    "duration": 112,
    "start_time": "2022-02-20T20:46:05.701Z"
   },
   {
    "duration": 22,
    "start_time": "2022-02-20T20:46:05.817Z"
   },
   {
    "duration": 12,
    "start_time": "2022-02-20T20:46:05.843Z"
   },
   {
    "duration": 55,
    "start_time": "2022-02-20T20:46:05.857Z"
   },
   {
    "duration": 7,
    "start_time": "2022-02-20T20:46:05.914Z"
   },
   {
    "duration": 16,
    "start_time": "2022-02-20T20:46:05.923Z"
   },
   {
    "duration": 12,
    "start_time": "2022-02-20T20:46:05.944Z"
   },
   {
    "duration": 76,
    "start_time": "2022-02-20T20:46:05.959Z"
   },
   {
    "duration": 11,
    "start_time": "2022-02-20T20:46:06.038Z"
   },
   {
    "duration": 19,
    "start_time": "2022-02-20T20:46:06.051Z"
   },
   {
    "duration": 11,
    "start_time": "2022-02-20T20:46:06.073Z"
   },
   {
    "duration": 52,
    "start_time": "2022-02-20T20:46:06.087Z"
   },
   {
    "duration": 477,
    "start_time": "2022-02-20T20:46:06.141Z"
   },
   {
    "duration": 12,
    "start_time": "2022-02-20T20:46:06.621Z"
   },
   {
    "duration": 24,
    "start_time": "2022-02-20T20:46:06.636Z"
   },
   {
    "duration": 16,
    "start_time": "2022-02-20T20:49:40.896Z"
   },
   {
    "duration": 762,
    "start_time": "2022-02-20T20:49:54.777Z"
   },
   {
    "duration": 16,
    "start_time": "2022-02-20T20:50:36.952Z"
   },
   {
    "duration": 795,
    "start_time": "2022-02-20T20:50:55.465Z"
   },
   {
    "duration": 1426,
    "start_time": "2022-02-21T05:39:31.896Z"
   },
   {
    "duration": 129,
    "start_time": "2022-02-21T05:39:33.324Z"
   },
   {
    "duration": 14,
    "start_time": "2022-02-21T05:39:33.456Z"
   },
   {
    "duration": 15,
    "start_time": "2022-02-21T05:39:33.473Z"
   },
   {
    "duration": 20,
    "start_time": "2022-02-21T05:39:33.490Z"
   },
   {
    "duration": 6,
    "start_time": "2022-02-21T05:39:33.512Z"
   },
   {
    "duration": 47,
    "start_time": "2022-02-21T05:39:33.520Z"
   },
   {
    "duration": 10,
    "start_time": "2022-02-21T05:39:33.570Z"
   },
   {
    "duration": 21,
    "start_time": "2022-02-21T05:39:33.583Z"
   },
   {
    "duration": 10,
    "start_time": "2022-02-21T05:39:33.606Z"
   },
   {
    "duration": 49,
    "start_time": "2022-02-21T05:39:33.618Z"
   },
   {
    "duration": 6,
    "start_time": "2022-02-21T05:39:33.669Z"
   },
   {
    "duration": 27,
    "start_time": "2022-02-21T05:39:33.677Z"
   },
   {
    "duration": 437,
    "start_time": "2022-02-21T05:39:33.706Z"
   },
   {
    "duration": 20,
    "start_time": "2022-02-21T05:39:34.145Z"
   },
   {
    "duration": 23,
    "start_time": "2022-02-21T05:39:34.168Z"
   },
   {
    "duration": 716,
    "start_time": "2022-02-21T05:39:34.194Z"
   },
   {
    "duration": 20,
    "start_time": "2022-02-21T05:39:34.912Z"
   },
   {
    "duration": 3540,
    "start_time": "2022-02-21T05:39:34.935Z"
   },
   {
    "duration": 29,
    "start_time": "2022-02-21T05:39:38.478Z"
   },
   {
    "duration": 20,
    "start_time": "2022-02-21T05:39:38.509Z"
   },
   {
    "duration": 691,
    "start_time": "2022-02-21T05:39:38.531Z"
   },
   {
    "duration": 19,
    "start_time": "2022-02-21T05:39:39.229Z"
   },
   {
    "duration": 3427,
    "start_time": "2022-02-21T05:39:39.264Z"
   },
   {
    "duration": 79,
    "start_time": "2022-02-21T05:39:42.694Z"
   },
   {
    "duration": 262,
    "start_time": "2022-02-21T05:39:42.775Z"
   },
   {
    "duration": 539,
    "start_time": "2022-02-21T05:39:43.040Z"
   },
   {
    "duration": 518,
    "start_time": "2022-02-21T05:39:43.582Z"
   },
   {
    "duration": 380,
    "start_time": "2022-02-21T05:39:44.103Z"
   },
   {
    "duration": 29,
    "start_time": "2022-02-21T05:39:44.485Z"
   },
   {
    "duration": 552,
    "start_time": "2022-02-21T05:39:44.517Z"
   },
   {
    "duration": 7,
    "start_time": "2022-02-21T05:39:45.071Z"
   },
   {
    "duration": 437,
    "start_time": "2022-02-21T05:39:45.080Z"
   },
   {
    "duration": 7,
    "start_time": "2022-02-21T05:39:45.519Z"
   },
   {
    "duration": 48,
    "start_time": "2022-02-21T05:39:45.528Z"
   },
   {
    "duration": 413,
    "start_time": "2022-02-21T05:39:45.578Z"
   },
   {
    "duration": 7,
    "start_time": "2022-02-21T05:39:45.994Z"
   },
   {
    "duration": 478,
    "start_time": "2022-02-21T05:39:46.004Z"
   },
   {
    "duration": 8,
    "start_time": "2022-02-21T05:39:46.485Z"
   },
   {
    "duration": 479,
    "start_time": "2022-02-21T05:39:46.495Z"
   },
   {
    "duration": 7,
    "start_time": "2022-02-21T05:39:46.977Z"
   },
   {
    "duration": 431,
    "start_time": "2022-02-21T05:39:46.987Z"
   },
   {
    "duration": 8,
    "start_time": "2022-02-21T05:39:47.421Z"
   },
   {
    "duration": 44,
    "start_time": "2022-02-21T05:39:47.432Z"
   },
   {
    "duration": 389,
    "start_time": "2022-02-21T05:39:47.479Z"
   },
   {
    "duration": 399,
    "start_time": "2022-02-21T05:39:47.871Z"
   },
   {
    "duration": 22,
    "start_time": "2022-02-21T05:39:48.272Z"
   },
   {
    "duration": 20,
    "start_time": "2022-02-21T05:39:48.297Z"
   },
   {
    "duration": 51,
    "start_time": "2022-02-21T05:39:48.319Z"
   },
   {
    "duration": 21,
    "start_time": "2022-02-21T05:39:48.372Z"
   },
   {
    "duration": 21,
    "start_time": "2022-02-21T05:39:48.396Z"
   },
   {
    "duration": 52,
    "start_time": "2022-02-21T05:39:48.419Z"
   },
   {
    "duration": 23,
    "start_time": "2022-02-21T05:39:48.473Z"
   },
   {
    "duration": 26,
    "start_time": "2022-02-21T05:39:48.498Z"
   },
   {
    "duration": 49,
    "start_time": "2022-02-21T05:39:48.527Z"
   },
   {
    "duration": 22,
    "start_time": "2022-02-21T05:39:48.579Z"
   },
   {
    "duration": 31,
    "start_time": "2022-02-21T05:39:48.603Z"
   },
   {
    "duration": 19,
    "start_time": "2022-02-21T05:39:48.661Z"
   },
   {
    "duration": 13,
    "start_time": "2022-02-21T05:39:48.682Z"
   },
   {
    "duration": 11,
    "start_time": "2022-02-21T05:39:48.698Z"
   },
   {
    "duration": 14,
    "start_time": "2022-02-21T05:39:48.712Z"
   },
   {
    "duration": 41,
    "start_time": "2022-02-21T05:39:48.729Z"
   },
   {
    "duration": 5,
    "start_time": "2022-02-21T05:39:48.773Z"
   },
   {
    "duration": 9,
    "start_time": "2022-02-21T05:39:48.781Z"
   },
   {
    "duration": 14,
    "start_time": "2022-02-21T05:39:48.793Z"
   },
   {
    "duration": 6,
    "start_time": "2022-02-21T05:39:48.810Z"
   },
   {
    "duration": 45,
    "start_time": "2022-02-21T05:39:48.818Z"
   },
   {
    "duration": 6,
    "start_time": "2022-02-21T05:39:48.870Z"
   },
   {
    "duration": 7,
    "start_time": "2022-02-21T05:39:48.879Z"
   },
   {
    "duration": 10,
    "start_time": "2022-02-21T05:39:48.889Z"
   },
   {
    "duration": 15,
    "start_time": "2022-02-21T05:40:48.524Z"
   },
   {
    "duration": 736,
    "start_time": "2022-02-21T05:40:54.006Z"
   },
   {
    "duration": 28,
    "start_time": "2022-02-21T05:42:09.603Z"
   },
   {
    "duration": 23,
    "start_time": "2022-02-21T05:42:17.830Z"
   },
   {
    "duration": 544,
    "start_time": "2022-02-21T05:42:26.733Z"
   },
   {
    "duration": 20,
    "start_time": "2022-02-21T05:44:39.139Z"
   },
   {
    "duration": 2998,
    "start_time": "2022-02-21T05:44:50.683Z"
   },
   {
    "duration": 29,
    "start_time": "2022-02-21T05:45:27.235Z"
   },
   {
    "duration": 20,
    "start_time": "2022-02-21T05:45:31.555Z"
   },
   {
    "duration": 704,
    "start_time": "2022-02-21T05:45:36.653Z"
   },
   {
    "duration": 20,
    "start_time": "2022-02-21T05:45:50.538Z"
   },
   {
    "duration": 2935,
    "start_time": "2022-02-21T05:45:54.554Z"
   },
   {
    "duration": 2983,
    "start_time": "2022-02-21T05:46:08.282Z"
   },
   {
    "duration": 35,
    "start_time": "2022-02-21T05:46:29.034Z"
   },
   {
    "duration": 232,
    "start_time": "2022-02-21T05:46:34.562Z"
   },
   {
    "duration": 599,
    "start_time": "2022-02-21T05:46:44.353Z"
   },
   {
    "duration": 464,
    "start_time": "2022-02-21T05:46:54.250Z"
   },
   {
    "duration": 6,
    "start_time": "2022-02-21T05:47:51.464Z"
   },
   {
    "duration": 478,
    "start_time": "2022-02-21T05:47:57.816Z"
   },
   {
    "duration": 368,
    "start_time": "2022-02-21T05:48:55.207Z"
   },
   {
    "duration": 336,
    "start_time": "2022-02-21T05:49:35.887Z"
   },
   {
    "duration": 358,
    "start_time": "2022-02-21T05:50:23.110Z"
   },
   {
    "duration": 826,
    "start_time": "2022-02-21T05:52:33.285Z"
   },
   {
    "duration": 439,
    "start_time": "2022-02-21T05:52:41.908Z"
   },
   {
    "duration": 326,
    "start_time": "2022-02-21T05:52:54.948Z"
   },
   {
    "duration": 365,
    "start_time": "2022-02-21T05:53:05.747Z"
   },
   {
    "duration": 30,
    "start_time": "2022-02-21T05:53:43.986Z"
   },
   {
    "duration": 401,
    "start_time": "2022-02-21T05:53:49.602Z"
   },
   {
    "duration": 7,
    "start_time": "2022-02-21T05:53:53.874Z"
   },
   {
    "duration": 512,
    "start_time": "2022-02-21T05:53:56.482Z"
   },
   {
    "duration": 7,
    "start_time": "2022-02-21T05:54:00.386Z"
   },
   {
    "duration": 28,
    "start_time": "2022-02-21T05:54:08.762Z"
   },
   {
    "duration": 106,
    "start_time": "2022-02-21T06:02:36.330Z"
   },
   {
    "duration": 366,
    "start_time": "2022-02-21T06:02:42.097Z"
   },
   {
    "duration": 319,
    "start_time": "2022-02-21T06:03:09.929Z"
   },
   {
    "duration": 381,
    "start_time": "2022-02-21T06:03:28.353Z"
   },
   {
    "duration": 414,
    "start_time": "2022-02-21T06:04:18.872Z"
   },
   {
    "duration": 7,
    "start_time": "2022-02-21T06:04:23.920Z"
   },
   {
    "duration": 453,
    "start_time": "2022-02-21T06:04:25.840Z"
   },
   {
    "duration": 7,
    "start_time": "2022-02-21T06:04:31.768Z"
   },
   {
    "duration": 464,
    "start_time": "2022-02-21T06:04:39.128Z"
   },
   {
    "duration": 8,
    "start_time": "2022-02-21T06:04:42.575Z"
   },
   {
    "duration": 397,
    "start_time": "2022-02-21T06:04:57.079Z"
   },
   {
    "duration": 7,
    "start_time": "2022-02-21T06:05:02.607Z"
   },
   {
    "duration": 22,
    "start_time": "2022-02-21T06:05:22.719Z"
   },
   {
    "duration": 370,
    "start_time": "2022-02-21T06:05:29.527Z"
   },
   {
    "duration": 400,
    "start_time": "2022-02-21T06:05:37.263Z"
   },
   {
    "duration": 25,
    "start_time": "2022-02-21T06:05:46.974Z"
   },
   {
    "duration": 23,
    "start_time": "2022-02-21T06:05:52.718Z"
   },
   {
    "duration": 15,
    "start_time": "2022-02-21T06:06:28.118Z"
   },
   {
    "duration": 22,
    "start_time": "2022-02-21T06:06:46.118Z"
   },
   {
    "duration": 25,
    "start_time": "2022-02-21T06:06:48.629Z"
   },
   {
    "duration": 17,
    "start_time": "2022-02-21T06:06:55.733Z"
   },
   {
    "duration": 23,
    "start_time": "2022-02-21T06:07:05.358Z"
   },
   {
    "duration": 24,
    "start_time": "2022-02-21T06:07:08.541Z"
   },
   {
    "duration": 16,
    "start_time": "2022-02-21T06:07:16.502Z"
   },
   {
    "duration": 24,
    "start_time": "2022-02-21T06:07:29.309Z"
   },
   {
    "duration": 24,
    "start_time": "2022-02-21T06:07:31.773Z"
   },
   {
    "duration": 16,
    "start_time": "2022-02-21T06:07:42.398Z"
   },
   {
    "duration": 14,
    "start_time": "2022-02-21T06:07:52.445Z"
   },
   {
    "duration": 6,
    "start_time": "2022-02-21T06:07:54.668Z"
   },
   {
    "duration": 6,
    "start_time": "2022-02-21T06:07:56.908Z"
   },
   {
    "duration": 7,
    "start_time": "2022-02-21T06:08:01.540Z"
   },
   {
    "duration": 7,
    "start_time": "2022-02-21T06:08:03.804Z"
   },
   {
    "duration": 9,
    "start_time": "2022-02-21T06:08:07.508Z"
   },
   {
    "duration": 13,
    "start_time": "2022-02-21T06:08:32.150Z"
   },
   {
    "duration": 6,
    "start_time": "2022-02-21T06:08:33.940Z"
   },
   {
    "duration": 6,
    "start_time": "2022-02-21T06:08:34.956Z"
   },
   {
    "duration": 6,
    "start_time": "2022-02-21T06:08:35.900Z"
   },
   {
    "duration": 6,
    "start_time": "2022-02-21T06:08:36.780Z"
   },
   {
    "duration": 11,
    "start_time": "2022-02-21T06:08:40.787Z"
   },
   {
    "duration": 1549,
    "start_time": "2022-02-21T06:38:15.073Z"
   },
   {
    "duration": 68,
    "start_time": "2022-02-21T06:38:16.625Z"
   },
   {
    "duration": 14,
    "start_time": "2022-02-21T06:38:16.699Z"
   },
   {
    "duration": 30,
    "start_time": "2022-02-21T06:38:16.716Z"
   },
   {
    "duration": 22,
    "start_time": "2022-02-21T06:38:16.761Z"
   },
   {
    "duration": 6,
    "start_time": "2022-02-21T06:38:16.786Z"
   },
   {
    "duration": 24,
    "start_time": "2022-02-21T06:38:16.795Z"
   },
   {
    "duration": 39,
    "start_time": "2022-02-21T06:38:16.822Z"
   },
   {
    "duration": 25,
    "start_time": "2022-02-21T06:38:16.863Z"
   },
   {
    "duration": 25,
    "start_time": "2022-02-21T06:38:16.890Z"
   },
   {
    "duration": 20,
    "start_time": "2022-02-21T06:38:16.918Z"
   },
   {
    "duration": 21,
    "start_time": "2022-02-21T06:38:16.940Z"
   },
   {
    "duration": 35,
    "start_time": "2022-02-21T06:38:16.964Z"
   },
   {
    "duration": 465,
    "start_time": "2022-02-21T06:38:17.001Z"
   },
   {
    "duration": 13,
    "start_time": "2022-02-21T06:38:17.469Z"
   },
   {
    "duration": 26,
    "start_time": "2022-02-21T06:38:17.485Z"
   },
   {
    "duration": 841,
    "start_time": "2022-02-21T06:38:17.515Z"
   },
   {
    "duration": 22,
    "start_time": "2022-02-21T06:38:18.361Z"
   },
   {
    "duration": 3660,
    "start_time": "2022-02-21T06:38:18.385Z"
   },
   {
    "duration": 36,
    "start_time": "2022-02-21T06:38:22.048Z"
   },
   {
    "duration": 22,
    "start_time": "2022-02-21T06:38:22.086Z"
   },
   {
    "duration": 747,
    "start_time": "2022-02-21T06:38:22.117Z"
   },
   {
    "duration": 21,
    "start_time": "2022-02-21T06:38:22.869Z"
   },
   {
    "duration": 3237,
    "start_time": "2022-02-21T06:38:22.893Z"
   },
   {
    "duration": 52,
    "start_time": "2022-02-21T06:38:26.132Z"
   },
   {
    "duration": 235,
    "start_time": "2022-02-21T06:38:26.188Z"
   },
   {
    "duration": 527,
    "start_time": "2022-02-21T06:38:26.426Z"
   },
   {
    "duration": 8,
    "start_time": "2022-02-21T06:38:26.955Z"
   },
   {
    "duration": 387,
    "start_time": "2022-02-21T06:38:26.966Z"
   },
   {
    "duration": 33,
    "start_time": "2022-02-21T06:38:27.360Z"
   },
   {
    "duration": 405,
    "start_time": "2022-02-21T06:38:27.395Z"
   },
   {
    "duration": 6,
    "start_time": "2022-02-21T06:38:27.803Z"
   },
   {
    "duration": 462,
    "start_time": "2022-02-21T06:38:27.811Z"
   },
   {
    "duration": 7,
    "start_time": "2022-02-21T06:38:28.275Z"
   },
   {
    "duration": 25,
    "start_time": "2022-02-21T06:38:28.284Z"
   },
   {
    "duration": 449,
    "start_time": "2022-02-21T06:38:28.312Z"
   },
   {
    "duration": 7,
    "start_time": "2022-02-21T06:38:28.763Z"
   },
   {
    "duration": 510,
    "start_time": "2022-02-21T06:38:28.773Z"
   },
   {
    "duration": 7,
    "start_time": "2022-02-21T06:38:29.285Z"
   },
   {
    "duration": 455,
    "start_time": "2022-02-21T06:38:29.294Z"
   },
   {
    "duration": 14,
    "start_time": "2022-02-21T06:38:29.751Z"
   },
   {
    "duration": 436,
    "start_time": "2022-02-21T06:38:29.767Z"
   },
   {
    "duration": 8,
    "start_time": "2022-02-21T06:38:30.207Z"
   },
   {
    "duration": 53,
    "start_time": "2022-02-21T06:38:30.218Z"
   },
   {
    "duration": 403,
    "start_time": "2022-02-21T06:38:30.274Z"
   },
   {
    "duration": 406,
    "start_time": "2022-02-21T06:38:30.680Z"
   },
   {
    "duration": 24,
    "start_time": "2022-02-21T06:38:31.089Z"
   },
   {
    "duration": 47,
    "start_time": "2022-02-21T06:38:31.116Z"
   },
   {
    "duration": 15,
    "start_time": "2022-02-21T06:38:31.165Z"
   },
   {
    "duration": 29,
    "start_time": "2022-02-21T06:38:31.182Z"
   },
   {
    "duration": 49,
    "start_time": "2022-02-21T06:38:31.213Z"
   },
   {
    "duration": 15,
    "start_time": "2022-02-21T06:38:31.265Z"
   },
   {
    "duration": 22,
    "start_time": "2022-02-21T06:38:31.283Z"
   },
   {
    "duration": 55,
    "start_time": "2022-02-21T06:38:31.308Z"
   },
   {
    "duration": 16,
    "start_time": "2022-02-21T06:38:31.367Z"
   },
   {
    "duration": 28,
    "start_time": "2022-02-21T06:38:31.385Z"
   },
   {
    "duration": 49,
    "start_time": "2022-02-21T06:38:31.416Z"
   },
   {
    "duration": 16,
    "start_time": "2022-02-21T06:38:31.467Z"
   },
   {
    "duration": 14,
    "start_time": "2022-02-21T06:38:31.486Z"
   },
   {
    "duration": 7,
    "start_time": "2022-02-21T06:38:31.502Z"
   },
   {
    "duration": 14,
    "start_time": "2022-02-21T06:38:31.512Z"
   },
   {
    "duration": 10,
    "start_time": "2022-02-21T06:38:31.560Z"
   },
   {
    "duration": 7,
    "start_time": "2022-02-21T06:38:31.572Z"
   },
   {
    "duration": 11,
    "start_time": "2022-02-21T06:38:31.581Z"
   },
   {
    "duration": 13,
    "start_time": "2022-02-21T06:38:31.595Z"
   },
   {
    "duration": 7,
    "start_time": "2022-02-21T06:38:31.611Z"
   },
   {
    "duration": 9,
    "start_time": "2022-02-21T06:38:31.661Z"
   },
   {
    "duration": 8,
    "start_time": "2022-02-21T06:38:31.673Z"
   },
   {
    "duration": 6,
    "start_time": "2022-02-21T06:38:31.683Z"
   },
   {
    "duration": 14,
    "start_time": "2022-02-21T06:38:31.692Z"
   },
   {
    "duration": 1189,
    "start_time": "2022-06-27T11:50:47.715Z"
   },
   {
    "duration": 96,
    "start_time": "2022-06-27T11:50:48.906Z"
   },
   {
    "duration": 12,
    "start_time": "2022-06-27T11:50:49.004Z"
   },
   {
    "duration": 10,
    "start_time": "2022-06-27T11:50:49.018Z"
   },
   {
    "duration": 25,
    "start_time": "2022-06-27T11:50:49.029Z"
   },
   {
    "duration": 5,
    "start_time": "2022-06-27T11:50:49.055Z"
   },
   {
    "duration": 10,
    "start_time": "2022-06-27T11:50:49.061Z"
   },
   {
    "duration": 7,
    "start_time": "2022-06-27T11:50:49.072Z"
   },
   {
    "duration": 16,
    "start_time": "2022-06-27T11:50:49.080Z"
   },
   {
    "duration": 13,
    "start_time": "2022-06-27T11:50:49.099Z"
   },
   {
    "duration": 27,
    "start_time": "2022-06-27T11:50:49.113Z"
   },
   {
    "duration": 9,
    "start_time": "2022-06-27T11:50:49.142Z"
   },
   {
    "duration": 18,
    "start_time": "2022-06-27T11:50:49.153Z"
   },
   {
    "duration": 194,
    "start_time": "2022-06-27T11:50:49.173Z"
   },
   {
    "duration": 6,
    "start_time": "2022-06-27T11:50:49.369Z"
   },
   {
    "duration": 21,
    "start_time": "2022-06-27T11:50:49.377Z"
   },
   {
    "duration": 382,
    "start_time": "2022-06-27T11:50:49.399Z"
   },
   {
    "duration": 14,
    "start_time": "2022-06-27T11:50:49.783Z"
   },
   {
    "duration": 1469,
    "start_time": "2022-06-27T11:50:49.798Z"
   },
   {
    "duration": 19,
    "start_time": "2022-06-27T11:50:51.269Z"
   },
   {
    "duration": 17,
    "start_time": "2022-06-27T11:50:51.290Z"
   },
   {
    "duration": 285,
    "start_time": "2022-06-27T11:50:51.308Z"
   },
   {
    "duration": 22,
    "start_time": "2022-06-27T11:50:51.595Z"
   },
   {
    "duration": 1230,
    "start_time": "2022-06-27T11:50:51.629Z"
   },
   {
    "duration": 23,
    "start_time": "2022-06-27T11:50:52.861Z"
   },
   {
    "duration": 113,
    "start_time": "2022-06-27T11:50:52.886Z"
   },
   {
    "duration": 247,
    "start_time": "2022-06-27T11:50:53.000Z"
   },
   {
    "duration": 2,
    "start_time": "2022-06-27T11:50:53.250Z"
   },
   {
    "duration": 185,
    "start_time": "2022-06-27T11:50:53.254Z"
   },
   {
    "duration": 20,
    "start_time": "2022-06-27T11:50:53.441Z"
   },
   {
    "duration": 141,
    "start_time": "2022-06-27T11:50:53.462Z"
   },
   {
    "duration": 5,
    "start_time": "2022-06-27T11:50:53.605Z"
   },
   {
    "duration": 162,
    "start_time": "2022-06-27T11:50:53.612Z"
   },
   {
    "duration": 5,
    "start_time": "2022-06-27T11:50:53.775Z"
   },
   {
    "duration": 20,
    "start_time": "2022-06-27T11:50:53.781Z"
   },
   {
    "duration": 155,
    "start_time": "2022-06-27T11:50:53.802Z"
   },
   {
    "duration": 5,
    "start_time": "2022-06-27T11:50:53.959Z"
   },
   {
    "duration": 174,
    "start_time": "2022-06-27T11:50:53.965Z"
   },
   {
    "duration": 5,
    "start_time": "2022-06-27T11:50:54.141Z"
   },
   {
    "duration": 229,
    "start_time": "2022-06-27T11:50:54.148Z"
   },
   {
    "duration": 6,
    "start_time": "2022-06-27T11:50:54.379Z"
   },
   {
    "duration": 154,
    "start_time": "2022-06-27T11:50:54.386Z"
   },
   {
    "duration": 6,
    "start_time": "2022-06-27T11:50:54.543Z"
   },
   {
    "duration": 18,
    "start_time": "2022-06-27T11:50:54.550Z"
   },
   {
    "duration": 200,
    "start_time": "2022-06-27T11:50:54.569Z"
   },
   {
    "duration": 213,
    "start_time": "2022-06-27T11:50:54.770Z"
   },
   {
    "duration": 15,
    "start_time": "2022-06-27T11:50:54.985Z"
   },
   {
    "duration": 39,
    "start_time": "2022-06-27T11:50:55.001Z"
   },
   {
    "duration": 18,
    "start_time": "2022-06-27T11:50:55.042Z"
   },
   {
    "duration": 20,
    "start_time": "2022-06-27T11:50:55.062Z"
   },
   {
    "duration": 15,
    "start_time": "2022-06-27T11:50:55.083Z"
   },
   {
    "duration": 13,
    "start_time": "2022-06-27T11:50:55.100Z"
   },
   {
    "duration": 41,
    "start_time": "2022-06-27T11:50:55.114Z"
   },
   {
    "duration": 20,
    "start_time": "2022-06-27T11:50:55.156Z"
   },
   {
    "duration": 12,
    "start_time": "2022-06-27T11:50:55.178Z"
   },
   {
    "duration": 22,
    "start_time": "2022-06-27T11:50:55.192Z"
   },
   {
    "duration": 24,
    "start_time": "2022-06-27T11:50:55.216Z"
   },
   {
    "duration": 20,
    "start_time": "2022-06-27T11:50:55.242Z"
   },
   {
    "duration": 9,
    "start_time": "2022-06-27T11:50:55.264Z"
   },
   {
    "duration": 9,
    "start_time": "2022-06-27T11:50:55.274Z"
   },
   {
    "duration": 13,
    "start_time": "2022-06-27T11:50:55.285Z"
   },
   {
    "duration": 7,
    "start_time": "2022-06-27T11:50:55.300Z"
   },
   {
    "duration": 9,
    "start_time": "2022-06-27T11:50:55.309Z"
   },
   {
    "duration": 15,
    "start_time": "2022-06-27T11:50:55.319Z"
   },
   {
    "duration": 28,
    "start_time": "2022-06-27T11:50:55.335Z"
   },
   {
    "duration": 14,
    "start_time": "2022-06-27T11:50:55.364Z"
   },
   {
    "duration": 8,
    "start_time": "2022-06-27T11:50:55.380Z"
   },
   {
    "duration": 15,
    "start_time": "2022-06-27T11:50:55.390Z"
   },
   {
    "duration": 16,
    "start_time": "2022-06-27T11:50:55.406Z"
   },
   {
    "duration": 20,
    "start_time": "2022-06-27T11:50:55.424Z"
   },
   {
    "duration": 1136,
    "start_time": "2022-06-27T11:51:35.584Z"
   },
   {
    "duration": 64,
    "start_time": "2022-06-27T11:51:36.722Z"
   },
   {
    "duration": 22,
    "start_time": "2022-06-27T11:51:36.788Z"
   },
   {
    "duration": 31,
    "start_time": "2022-06-27T11:51:36.813Z"
   },
   {
    "duration": 20,
    "start_time": "2022-06-27T11:51:36.847Z"
   },
   {
    "duration": 6,
    "start_time": "2022-06-27T11:51:36.869Z"
   },
   {
    "duration": 15,
    "start_time": "2022-06-27T11:51:36.877Z"
   },
   {
    "duration": 18,
    "start_time": "2022-06-27T11:51:36.894Z"
   },
   {
    "duration": 29,
    "start_time": "2022-06-27T11:51:36.914Z"
   },
   {
    "duration": 8,
    "start_time": "2022-06-27T11:51:36.946Z"
   },
   {
    "duration": 14,
    "start_time": "2022-06-27T11:51:36.956Z"
   },
   {
    "duration": 16,
    "start_time": "2022-06-27T11:51:36.972Z"
   },
   {
    "duration": 33,
    "start_time": "2022-06-27T11:51:36.990Z"
   },
   {
    "duration": 238,
    "start_time": "2022-06-27T11:51:37.026Z"
   },
   {
    "duration": 8,
    "start_time": "2022-06-27T11:51:37.265Z"
   },
   {
    "duration": 23,
    "start_time": "2022-06-27T11:51:37.275Z"
   },
   {
    "duration": 431,
    "start_time": "2022-06-27T11:51:37.300Z"
   },
   {
    "duration": 16,
    "start_time": "2022-06-27T11:51:37.736Z"
   },
   {
    "duration": 1525,
    "start_time": "2022-06-27T11:51:37.754Z"
   },
   {
    "duration": 20,
    "start_time": "2022-06-27T11:51:39.280Z"
   },
   {
    "duration": 51,
    "start_time": "2022-06-27T11:51:39.302Z"
   },
   {
    "duration": 284,
    "start_time": "2022-06-27T11:51:39.354Z"
   },
   {
    "duration": 15,
    "start_time": "2022-06-27T11:51:39.640Z"
   },
   {
    "duration": 1357,
    "start_time": "2022-06-27T11:51:39.657Z"
   },
   {
    "duration": 34,
    "start_time": "2022-06-27T11:51:41.016Z"
   },
   {
    "duration": 112,
    "start_time": "2022-06-27T11:51:41.052Z"
   },
   {
    "duration": 248,
    "start_time": "2022-06-27T11:51:41.166Z"
   },
   {
    "duration": 8,
    "start_time": "2022-06-27T11:51:41.420Z"
   },
   {
    "duration": 226,
    "start_time": "2022-06-27T11:51:41.434Z"
   },
   {
    "duration": 24,
    "start_time": "2022-06-27T11:51:41.661Z"
   },
   {
    "duration": 177,
    "start_time": "2022-06-27T11:51:41.687Z"
   },
   {
    "duration": 4,
    "start_time": "2022-06-27T11:51:41.866Z"
   },
   {
    "duration": 180,
    "start_time": "2022-06-27T11:51:41.872Z"
   },
   {
    "duration": 5,
    "start_time": "2022-06-27T11:51:42.054Z"
   },
   {
    "duration": 37,
    "start_time": "2022-06-27T11:51:42.061Z"
   },
   {
    "duration": 168,
    "start_time": "2022-06-27T11:51:42.099Z"
   },
   {
    "duration": 5,
    "start_time": "2022-06-27T11:51:42.269Z"
   },
   {
    "duration": 171,
    "start_time": "2022-06-27T11:51:42.276Z"
   },
   {
    "duration": 5,
    "start_time": "2022-06-27T11:51:42.448Z"
   },
   {
    "duration": 258,
    "start_time": "2022-06-27T11:51:42.455Z"
   },
   {
    "duration": 26,
    "start_time": "2022-06-27T11:51:42.714Z"
   },
   {
    "duration": 150,
    "start_time": "2022-06-27T11:51:42.741Z"
   },
   {
    "duration": 6,
    "start_time": "2022-06-27T11:51:42.893Z"
   },
   {
    "duration": 38,
    "start_time": "2022-06-27T11:51:42.901Z"
   },
   {
    "duration": 181,
    "start_time": "2022-06-27T11:51:42.941Z"
   },
   {
    "duration": 215,
    "start_time": "2022-06-27T11:51:43.124Z"
   },
   {
    "duration": 14,
    "start_time": "2022-06-27T11:51:43.341Z"
   },
   {
    "duration": 16,
    "start_time": "2022-06-27T11:51:43.357Z"
   },
   {
    "duration": 10,
    "start_time": "2022-06-27T11:51:43.375Z"
   },
   {
    "duration": 18,
    "start_time": "2022-06-27T11:51:43.387Z"
   },
   {
    "duration": 36,
    "start_time": "2022-06-27T11:51:43.407Z"
   },
   {
    "duration": 15,
    "start_time": "2022-06-27T11:51:43.445Z"
   },
   {
    "duration": 26,
    "start_time": "2022-06-27T11:51:43.462Z"
   },
   {
    "duration": 45,
    "start_time": "2022-06-27T11:51:43.490Z"
   },
   {
    "duration": 23,
    "start_time": "2022-06-27T11:51:43.537Z"
   },
   {
    "duration": 18,
    "start_time": "2022-06-27T11:51:43.562Z"
   },
   {
    "duration": 17,
    "start_time": "2022-06-27T11:51:43.583Z"
   },
   {
    "duration": 10,
    "start_time": "2022-06-27T11:51:43.602Z"
   },
   {
    "duration": 19,
    "start_time": "2022-06-27T11:51:43.614Z"
   },
   {
    "duration": 34,
    "start_time": "2022-06-27T11:51:43.634Z"
   },
   {
    "duration": 18,
    "start_time": "2022-06-27T11:51:43.670Z"
   },
   {
    "duration": 14,
    "start_time": "2022-06-27T11:51:43.690Z"
   },
   {
    "duration": 9,
    "start_time": "2022-06-27T11:51:43.706Z"
   },
   {
    "duration": 29,
    "start_time": "2022-06-27T11:51:43.717Z"
   },
   {
    "duration": 11,
    "start_time": "2022-06-27T11:51:43.748Z"
   },
   {
    "duration": 7,
    "start_time": "2022-06-27T11:51:43.760Z"
   },
   {
    "duration": 10,
    "start_time": "2022-06-27T11:51:43.768Z"
   },
   {
    "duration": 13,
    "start_time": "2022-06-27T11:51:43.780Z"
   },
   {
    "duration": 7,
    "start_time": "2022-06-27T11:51:43.795Z"
   },
   {
    "duration": 12,
    "start_time": "2022-06-27T11:51:43.804Z"
   },
   {
    "duration": 14,
    "start_time": "2022-06-27T11:52:30.624Z"
   },
   {
    "duration": 27,
    "start_time": "2022-06-27T11:52:58.708Z"
   },
   {
    "duration": 7,
    "start_time": "2022-06-27T11:53:42.651Z"
   },
   {
    "duration": 11,
    "start_time": "2022-06-27T11:54:10.770Z"
   },
   {
    "duration": 8,
    "start_time": "2022-06-27T11:54:12.227Z"
   },
   {
    "duration": 28,
    "start_time": "2022-06-27T11:54:15.314Z"
   },
   {
    "duration": 8,
    "start_time": "2022-06-27T11:54:33.673Z"
   },
   {
    "duration": 21,
    "start_time": "2022-06-27T11:54:34.578Z"
   },
   {
    "duration": 1078,
    "start_time": "2022-06-27T11:54:49.444Z"
   },
   {
    "duration": 64,
    "start_time": "2022-06-27T11:54:50.524Z"
   },
   {
    "duration": 14,
    "start_time": "2022-06-27T11:54:50.590Z"
   },
   {
    "duration": 14,
    "start_time": "2022-06-27T11:54:50.605Z"
   },
   {
    "duration": 28,
    "start_time": "2022-06-27T11:54:50.622Z"
   },
   {
    "duration": 13,
    "start_time": "2022-06-27T11:54:50.652Z"
   },
   {
    "duration": 12,
    "start_time": "2022-06-27T11:54:50.666Z"
   },
   {
    "duration": 13,
    "start_time": "2022-06-27T11:54:50.680Z"
   },
   {
    "duration": 18,
    "start_time": "2022-06-27T11:54:50.694Z"
   },
   {
    "duration": 23,
    "start_time": "2022-06-27T11:54:50.713Z"
   },
   {
    "duration": 8,
    "start_time": "2022-06-27T11:54:50.738Z"
   },
   {
    "duration": 7,
    "start_time": "2022-06-27T11:54:50.748Z"
   },
   {
    "duration": 20,
    "start_time": "2022-06-27T11:54:50.757Z"
   },
   {
    "duration": 202,
    "start_time": "2022-06-27T11:54:50.780Z"
   },
   {
    "duration": 7,
    "start_time": "2022-06-27T11:54:50.983Z"
   },
   {
    "duration": 23,
    "start_time": "2022-06-27T11:54:50.992Z"
   },
   {
    "duration": 344,
    "start_time": "2022-06-27T11:54:51.017Z"
   },
   {
    "duration": 14,
    "start_time": "2022-06-27T11:54:51.362Z"
   },
   {
    "duration": 1489,
    "start_time": "2022-06-27T11:54:51.377Z"
   },
   {
    "duration": 18,
    "start_time": "2022-06-27T11:54:52.868Z"
   },
   {
    "duration": 13,
    "start_time": "2022-06-27T11:54:52.888Z"
   },
   {
    "duration": 243,
    "start_time": "2022-06-27T11:54:52.902Z"
   },
   {
    "duration": 13,
    "start_time": "2022-06-27T11:54:53.147Z"
   },
   {
    "duration": 1184,
    "start_time": "2022-06-27T11:54:53.162Z"
   },
   {
    "duration": 22,
    "start_time": "2022-06-27T11:54:54.348Z"
   },
   {
    "duration": 115,
    "start_time": "2022-06-27T11:54:54.372Z"
   },
   {
    "duration": 237,
    "start_time": "2022-06-27T11:54:54.489Z"
   },
   {
    "duration": 3,
    "start_time": "2022-06-27T11:54:54.728Z"
   },
   {
    "duration": 190,
    "start_time": "2022-06-27T11:54:54.733Z"
   },
   {
    "duration": 30,
    "start_time": "2022-06-27T11:54:54.926Z"
   },
   {
    "duration": 142,
    "start_time": "2022-06-27T11:54:54.958Z"
   },
   {
    "duration": 5,
    "start_time": "2022-06-27T11:54:55.102Z"
   },
   {
    "duration": 163,
    "start_time": "2022-06-27T11:54:55.108Z"
   },
   {
    "duration": 5,
    "start_time": "2022-06-27T11:54:55.273Z"
   },
   {
    "duration": 62,
    "start_time": "2022-06-27T11:54:55.279Z"
   },
   {
    "duration": 158,
    "start_time": "2022-06-27T11:54:55.343Z"
   },
   {
    "duration": 5,
    "start_time": "2022-06-27T11:54:55.503Z"
   },
   {
    "duration": 147,
    "start_time": "2022-06-27T11:54:55.509Z"
   },
   {
    "duration": 5,
    "start_time": "2022-06-27T11:54:55.658Z"
   },
   {
    "duration": 260,
    "start_time": "2022-06-27T11:54:55.665Z"
   },
   {
    "duration": 5,
    "start_time": "2022-06-27T11:54:55.940Z"
   },
   {
    "duration": 142,
    "start_time": "2022-06-27T11:54:55.946Z"
   },
   {
    "duration": 5,
    "start_time": "2022-06-27T11:54:56.089Z"
   },
   {
    "duration": 18,
    "start_time": "2022-06-27T11:54:56.095Z"
   },
   {
    "duration": 191,
    "start_time": "2022-06-27T11:54:56.115Z"
   },
   {
    "duration": 191,
    "start_time": "2022-06-27T11:54:56.307Z"
   },
   {
    "duration": 14,
    "start_time": "2022-06-27T11:54:56.499Z"
   },
   {
    "duration": 27,
    "start_time": "2022-06-27T11:54:56.515Z"
   },
   {
    "duration": 19,
    "start_time": "2022-06-27T11:54:56.544Z"
   },
   {
    "duration": 17,
    "start_time": "2022-06-27T11:54:56.565Z"
   },
   {
    "duration": 13,
    "start_time": "2022-06-27T11:54:56.584Z"
   },
   {
    "duration": 12,
    "start_time": "2022-06-27T11:54:56.599Z"
   },
   {
    "duration": 35,
    "start_time": "2022-06-27T11:54:56.612Z"
   },
   {
    "duration": 19,
    "start_time": "2022-06-27T11:54:56.648Z"
   },
   {
    "duration": 24,
    "start_time": "2022-06-27T11:54:56.669Z"
   },
   {
    "duration": 15,
    "start_time": "2022-06-27T11:54:56.695Z"
   },
   {
    "duration": 27,
    "start_time": "2022-06-27T11:54:56.711Z"
   },
   {
    "duration": 16,
    "start_time": "2022-06-27T11:54:56.740Z"
   },
   {
    "duration": 9,
    "start_time": "2022-06-27T11:54:56.757Z"
   },
   {
    "duration": 25,
    "start_time": "2022-06-27T11:54:56.768Z"
   },
   {
    "duration": 43,
    "start_time": "2022-06-27T11:54:56.795Z"
   },
   {
    "duration": 13,
    "start_time": "2022-06-27T11:54:56.839Z"
   },
   {
    "duration": 7,
    "start_time": "2022-06-27T11:54:56.854Z"
   },
   {
    "duration": 15,
    "start_time": "2022-06-27T11:54:56.863Z"
   },
   {
    "duration": 12,
    "start_time": "2022-06-27T11:54:56.880Z"
   },
   {
    "duration": 9,
    "start_time": "2022-06-27T11:54:56.894Z"
   },
   {
    "duration": 9,
    "start_time": "2022-06-27T11:54:56.904Z"
   },
   {
    "duration": 6,
    "start_time": "2022-06-27T11:54:56.914Z"
   },
   {
    "duration": 22,
    "start_time": "2022-06-27T11:54:56.921Z"
   },
   {
    "duration": 8,
    "start_time": "2022-06-27T11:54:56.945Z"
   },
   {
    "duration": 8,
    "start_time": "2022-06-27T11:54:56.955Z"
   },
   {
    "duration": 1155,
    "start_time": "2022-06-27T11:57:29.437Z"
   },
   {
    "duration": 71,
    "start_time": "2022-06-27T11:57:30.594Z"
   },
   {
    "duration": 15,
    "start_time": "2022-06-27T11:57:30.667Z"
   },
   {
    "duration": 9,
    "start_time": "2022-06-27T11:57:30.685Z"
   },
   {
    "duration": 40,
    "start_time": "2022-06-27T11:57:30.696Z"
   },
   {
    "duration": 5,
    "start_time": "2022-06-27T11:57:30.737Z"
   },
   {
    "duration": 18,
    "start_time": "2022-06-27T11:57:30.744Z"
   },
   {
    "duration": 21,
    "start_time": "2022-06-27T11:57:30.763Z"
   },
   {
    "duration": 25,
    "start_time": "2022-06-27T11:57:30.785Z"
   },
   {
    "duration": 14,
    "start_time": "2022-06-27T11:57:30.814Z"
   },
   {
    "duration": 24,
    "start_time": "2022-06-27T11:57:30.836Z"
   },
   {
    "duration": 22,
    "start_time": "2022-06-27T11:57:30.862Z"
   },
   {
    "duration": 39,
    "start_time": "2022-06-27T11:57:30.886Z"
   },
   {
    "duration": 235,
    "start_time": "2022-06-27T11:57:30.926Z"
   },
   {
    "duration": 7,
    "start_time": "2022-06-27T11:57:31.163Z"
   },
   {
    "duration": 26,
    "start_time": "2022-06-27T11:57:31.171Z"
   },
   {
    "duration": 393,
    "start_time": "2022-06-27T11:57:31.199Z"
   },
   {
    "duration": 21,
    "start_time": "2022-06-27T11:57:31.593Z"
   },
   {
    "duration": 1489,
    "start_time": "2022-06-27T11:57:31.616Z"
   },
   {
    "duration": 33,
    "start_time": "2022-06-27T11:57:33.107Z"
   },
   {
    "duration": 17,
    "start_time": "2022-06-27T11:57:33.142Z"
   },
   {
    "duration": 219,
    "start_time": "2022-06-27T11:57:33.161Z"
   },
   {
    "duration": 14,
    "start_time": "2022-06-27T11:57:33.382Z"
   },
   {
    "duration": 1150,
    "start_time": "2022-06-27T11:57:33.398Z"
   },
   {
    "duration": 23,
    "start_time": "2022-06-27T11:57:34.550Z"
   },
   {
    "duration": 134,
    "start_time": "2022-06-27T11:57:34.575Z"
   },
   {
    "duration": 231,
    "start_time": "2022-06-27T11:57:34.710Z"
   },
   {
    "duration": 4,
    "start_time": "2022-06-27T11:57:34.945Z"
   },
   {
    "duration": 170,
    "start_time": "2022-06-27T11:57:34.951Z"
   },
   {
    "duration": 26,
    "start_time": "2022-06-27T11:57:35.122Z"
   },
   {
    "duration": 168,
    "start_time": "2022-06-27T11:57:35.150Z"
   },
   {
    "duration": 20,
    "start_time": "2022-06-27T11:57:35.320Z"
   },
   {
    "duration": 165,
    "start_time": "2022-06-27T11:57:35.342Z"
   },
   {
    "duration": 4,
    "start_time": "2022-06-27T11:57:35.509Z"
   },
   {
    "duration": 30,
    "start_time": "2022-06-27T11:57:35.515Z"
   },
   {
    "duration": 161,
    "start_time": "2022-06-27T11:57:35.547Z"
   },
   {
    "duration": 6,
    "start_time": "2022-06-27T11:57:35.709Z"
   },
   {
    "duration": 172,
    "start_time": "2022-06-27T11:57:35.717Z"
   },
   {
    "duration": 5,
    "start_time": "2022-06-27T11:57:35.890Z"
   },
   {
    "duration": 246,
    "start_time": "2022-06-27T11:57:35.897Z"
   },
   {
    "duration": 5,
    "start_time": "2022-06-27T11:57:36.144Z"
   },
   {
    "duration": 140,
    "start_time": "2022-06-27T11:57:36.150Z"
   },
   {
    "duration": 4,
    "start_time": "2022-06-27T11:57:36.292Z"
   },
   {
    "duration": 24,
    "start_time": "2022-06-27T11:57:36.298Z"
   },
   {
    "duration": 188,
    "start_time": "2022-06-27T11:57:36.327Z"
   },
   {
    "duration": 203,
    "start_time": "2022-06-27T11:57:36.517Z"
   },
   {
    "duration": 26,
    "start_time": "2022-06-27T11:57:36.722Z"
   },
   {
    "duration": 32,
    "start_time": "2022-06-27T11:57:36.750Z"
   },
   {
    "duration": 30,
    "start_time": "2022-06-27T11:57:36.784Z"
   },
   {
    "duration": 46,
    "start_time": "2022-06-27T11:57:36.816Z"
   },
   {
    "duration": 31,
    "start_time": "2022-06-27T11:57:36.863Z"
   },
   {
    "duration": 24,
    "start_time": "2022-06-27T11:57:36.896Z"
   },
   {
    "duration": 44,
    "start_time": "2022-06-27T11:57:36.922Z"
   },
   {
    "duration": 34,
    "start_time": "2022-06-27T11:57:36.967Z"
   },
   {
    "duration": 12,
    "start_time": "2022-06-27T11:57:37.002Z"
   },
   {
    "duration": 36,
    "start_time": "2022-06-27T11:57:37.015Z"
   },
   {
    "duration": 34,
    "start_time": "2022-06-27T11:57:37.052Z"
   },
   {
    "duration": 22,
    "start_time": "2022-06-27T11:57:37.087Z"
   },
   {
    "duration": 39,
    "start_time": "2022-06-27T11:57:37.110Z"
   },
   {
    "duration": 27,
    "start_time": "2022-06-27T11:57:37.151Z"
   },
   {
    "duration": 18,
    "start_time": "2022-06-27T11:57:37.179Z"
   },
   {
    "duration": 6,
    "start_time": "2022-06-27T11:57:37.199Z"
   },
   {
    "duration": 28,
    "start_time": "2022-06-27T11:57:37.207Z"
   },
   {
    "duration": 20,
    "start_time": "2022-06-27T11:57:37.239Z"
   },
   {
    "duration": 24,
    "start_time": "2022-06-27T11:57:37.260Z"
   },
   {
    "duration": 31,
    "start_time": "2022-06-27T11:57:37.286Z"
   },
   {
    "duration": 6,
    "start_time": "2022-06-27T11:57:37.319Z"
   },
   {
    "duration": 19,
    "start_time": "2022-06-27T11:57:37.330Z"
   },
   {
    "duration": 11,
    "start_time": "2022-06-27T11:57:37.351Z"
   },
   {
    "duration": 21,
    "start_time": "2022-06-27T11:57:37.363Z"
   },
   {
    "duration": 20,
    "start_time": "2022-06-27T11:57:37.386Z"
   },
   {
    "duration": 14,
    "start_time": "2022-06-27T12:01:56.838Z"
   },
   {
    "duration": 20,
    "start_time": "2022-06-27T12:02:02.322Z"
   },
   {
    "duration": 1431,
    "start_time": "2022-06-27T12:02:06.934Z"
   },
   {
    "duration": 59,
    "start_time": "2022-06-27T12:02:08.367Z"
   },
   {
    "duration": 25,
    "start_time": "2022-06-27T12:02:08.428Z"
   },
   {
    "duration": 11,
    "start_time": "2022-06-27T12:02:08.455Z"
   },
   {
    "duration": 18,
    "start_time": "2022-06-27T12:02:08.468Z"
   },
   {
    "duration": 4,
    "start_time": "2022-06-27T12:02:08.487Z"
   },
   {
    "duration": 12,
    "start_time": "2022-06-27T12:02:08.493Z"
   },
   {
    "duration": 43,
    "start_time": "2022-06-27T12:02:08.506Z"
   },
   {
    "duration": 24,
    "start_time": "2022-06-27T12:02:08.550Z"
   },
   {
    "duration": 6,
    "start_time": "2022-06-27T12:02:08.576Z"
   },
   {
    "duration": 9,
    "start_time": "2022-06-27T12:02:08.583Z"
   },
   {
    "duration": 9,
    "start_time": "2022-06-27T12:02:08.593Z"
   },
   {
    "duration": 20,
    "start_time": "2022-06-27T12:02:08.603Z"
   },
   {
    "duration": 211,
    "start_time": "2022-06-27T12:02:08.626Z"
   },
   {
    "duration": 15,
    "start_time": "2022-06-27T12:02:08.840Z"
   },
   {
    "duration": 21,
    "start_time": "2022-06-27T12:02:08.857Z"
   },
   {
    "duration": 359,
    "start_time": "2022-06-27T12:02:08.880Z"
   },
   {
    "duration": 21,
    "start_time": "2022-06-27T12:02:09.241Z"
   },
   {
    "duration": 1513,
    "start_time": "2022-06-27T12:02:09.263Z"
   },
   {
    "duration": 20,
    "start_time": "2022-06-27T12:02:10.778Z"
   },
   {
    "duration": 58,
    "start_time": "2022-06-27T12:02:10.799Z"
   },
   {
    "duration": 239,
    "start_time": "2022-06-27T12:02:10.858Z"
   },
   {
    "duration": 14,
    "start_time": "2022-06-27T12:02:11.099Z"
   },
   {
    "duration": 1297,
    "start_time": "2022-06-27T12:02:11.114Z"
   },
   {
    "duration": 32,
    "start_time": "2022-06-27T12:02:12.413Z"
   },
   {
    "duration": 114,
    "start_time": "2022-06-27T12:02:12.447Z"
   },
   {
    "duration": 250,
    "start_time": "2022-06-27T12:02:12.563Z"
   },
   {
    "duration": 3,
    "start_time": "2022-06-27T12:02:12.815Z"
   },
   {
    "duration": 187,
    "start_time": "2022-06-27T12:02:12.819Z"
   },
   {
    "duration": 38,
    "start_time": "2022-06-27T12:02:13.008Z"
   },
   {
    "duration": 152,
    "start_time": "2022-06-27T12:02:13.048Z"
   },
   {
    "duration": 6,
    "start_time": "2022-06-27T12:02:13.201Z"
   },
   {
    "duration": 165,
    "start_time": "2022-06-27T12:02:13.209Z"
   },
   {
    "duration": 5,
    "start_time": "2022-06-27T12:02:13.376Z"
   },
   {
    "duration": 21,
    "start_time": "2022-06-27T12:02:13.383Z"
   },
   {
    "duration": 163,
    "start_time": "2022-06-27T12:02:13.406Z"
   },
   {
    "duration": 4,
    "start_time": "2022-06-27T12:02:13.571Z"
   },
   {
    "duration": 170,
    "start_time": "2022-06-27T12:02:13.577Z"
   },
   {
    "duration": 7,
    "start_time": "2022-06-27T12:02:13.748Z"
   },
   {
    "duration": 227,
    "start_time": "2022-06-27T12:02:13.757Z"
   },
   {
    "duration": 5,
    "start_time": "2022-06-27T12:02:13.989Z"
   },
   {
    "duration": 159,
    "start_time": "2022-06-27T12:02:13.995Z"
   },
   {
    "duration": 5,
    "start_time": "2022-06-27T12:02:14.156Z"
   },
   {
    "duration": 18,
    "start_time": "2022-06-27T12:02:14.162Z"
   },
   {
    "duration": 205,
    "start_time": "2022-06-27T12:02:14.181Z"
   },
   {
    "duration": 192,
    "start_time": "2022-06-27T12:02:14.388Z"
   },
   {
    "duration": 15,
    "start_time": "2022-06-27T12:02:14.582Z"
   },
   {
    "duration": 50,
    "start_time": "2022-06-27T12:02:14.599Z"
   },
   {
    "duration": 24,
    "start_time": "2022-06-27T12:02:14.652Z"
   },
   {
    "duration": 15,
    "start_time": "2022-06-27T12:02:14.678Z"
   },
   {
    "duration": 18,
    "start_time": "2022-06-27T12:02:14.695Z"
   },
   {
    "duration": 17,
    "start_time": "2022-06-27T12:02:14.714Z"
   },
   {
    "duration": 24,
    "start_time": "2022-06-27T12:02:14.732Z"
   },
   {
    "duration": 20,
    "start_time": "2022-06-27T12:02:14.758Z"
   },
   {
    "duration": 10,
    "start_time": "2022-06-27T12:02:14.779Z"
   },
   {
    "duration": 15,
    "start_time": "2022-06-27T12:02:14.790Z"
   },
   {
    "duration": 25,
    "start_time": "2022-06-27T12:02:14.806Z"
   },
   {
    "duration": 17,
    "start_time": "2022-06-27T12:02:14.836Z"
   },
   {
    "duration": 12,
    "start_time": "2022-06-27T12:02:14.855Z"
   },
   {
    "duration": 27,
    "start_time": "2022-06-27T12:02:14.868Z"
   },
   {
    "duration": 8,
    "start_time": "2022-06-27T12:02:14.897Z"
   },
   {
    "duration": 11,
    "start_time": "2022-06-27T12:02:14.906Z"
   },
   {
    "duration": 6,
    "start_time": "2022-06-27T12:02:14.918Z"
   },
   {
    "duration": 26,
    "start_time": "2022-06-27T12:02:14.931Z"
   },
   {
    "duration": 9,
    "start_time": "2022-06-27T12:02:14.959Z"
   },
   {
    "duration": 9,
    "start_time": "2022-06-27T12:02:14.970Z"
   },
   {
    "duration": 5,
    "start_time": "2022-06-27T12:02:14.981Z"
   },
   {
    "duration": 11,
    "start_time": "2022-06-27T12:02:14.987Z"
   },
   {
    "duration": 15,
    "start_time": "2022-06-27T12:02:14.999Z"
   },
   {
    "duration": 44,
    "start_time": "2022-06-27T12:02:15.015Z"
   },
   {
    "duration": 9,
    "start_time": "2022-06-27T12:02:15.061Z"
   },
   {
    "duration": 14,
    "start_time": "2022-06-27T12:02:53.342Z"
   },
   {
    "duration": 7,
    "start_time": "2022-06-27T12:02:55.587Z"
   },
   {
    "duration": 1150,
    "start_time": "2022-06-27T12:03:15.425Z"
   },
   {
    "duration": 65,
    "start_time": "2022-06-27T12:03:16.577Z"
   },
   {
    "duration": 17,
    "start_time": "2022-06-27T12:03:16.652Z"
   },
   {
    "duration": 17,
    "start_time": "2022-06-27T12:03:16.671Z"
   },
   {
    "duration": 50,
    "start_time": "2022-06-27T12:03:16.689Z"
   },
   {
    "duration": 13,
    "start_time": "2022-06-27T12:03:16.746Z"
   },
   {
    "duration": 16,
    "start_time": "2022-06-27T12:03:16.761Z"
   },
   {
    "duration": 22,
    "start_time": "2022-06-27T12:03:16.779Z"
   },
   {
    "duration": 51,
    "start_time": "2022-06-27T12:03:16.802Z"
   },
   {
    "duration": 18,
    "start_time": "2022-06-27T12:03:16.857Z"
   },
   {
    "duration": 25,
    "start_time": "2022-06-27T12:03:16.876Z"
   },
   {
    "duration": 51,
    "start_time": "2022-06-27T12:03:16.903Z"
   },
   {
    "duration": 44,
    "start_time": "2022-06-27T12:03:16.955Z"
   },
   {
    "duration": 192,
    "start_time": "2022-06-27T12:03:17.000Z"
   },
   {
    "duration": 7,
    "start_time": "2022-06-27T12:03:17.194Z"
   },
   {
    "duration": 41,
    "start_time": "2022-06-27T12:03:17.202Z"
   },
   {
    "duration": 348,
    "start_time": "2022-06-27T12:03:17.248Z"
   },
   {
    "duration": 15,
    "start_time": "2022-06-27T12:03:17.598Z"
   },
   {
    "duration": 1486,
    "start_time": "2022-06-27T12:03:17.614Z"
   },
   {
    "duration": 39,
    "start_time": "2022-06-27T12:03:19.102Z"
   },
   {
    "duration": 17,
    "start_time": "2022-06-27T12:03:19.148Z"
   },
   {
    "duration": 218,
    "start_time": "2022-06-27T12:03:19.166Z"
   },
   {
    "duration": 13,
    "start_time": "2022-06-27T12:03:19.386Z"
   },
   {
    "duration": 1215,
    "start_time": "2022-06-27T12:03:19.401Z"
   },
   {
    "duration": 39,
    "start_time": "2022-06-27T12:03:20.618Z"
   },
   {
    "duration": 109,
    "start_time": "2022-06-27T12:03:20.659Z"
   },
   {
    "duration": 240,
    "start_time": "2022-06-27T12:03:20.770Z"
   },
   {
    "duration": 2,
    "start_time": "2022-06-27T12:03:21.014Z"
   },
   {
    "duration": 176,
    "start_time": "2022-06-27T12:03:21.018Z"
   },
   {
    "duration": 19,
    "start_time": "2022-06-27T12:03:21.196Z"
   },
   {
    "duration": 152,
    "start_time": "2022-06-27T12:03:21.234Z"
   },
   {
    "duration": 5,
    "start_time": "2022-06-27T12:03:21.389Z"
   },
   {
    "duration": 183,
    "start_time": "2022-06-27T12:03:21.395Z"
   },
   {
    "duration": 5,
    "start_time": "2022-06-27T12:03:21.580Z"
   },
   {
    "duration": 26,
    "start_time": "2022-06-27T12:03:21.587Z"
   },
   {
    "duration": 196,
    "start_time": "2022-06-27T12:03:21.629Z"
   },
   {
    "duration": 21,
    "start_time": "2022-06-27T12:03:21.831Z"
   },
   {
    "duration": 166,
    "start_time": "2022-06-27T12:03:21.855Z"
   },
   {
    "duration": 8,
    "start_time": "2022-06-27T12:03:22.022Z"
   },
   {
    "duration": 254,
    "start_time": "2022-06-27T12:03:22.032Z"
   },
   {
    "duration": 5,
    "start_time": "2022-06-27T12:03:22.288Z"
   },
   {
    "duration": 153,
    "start_time": "2022-06-27T12:03:22.295Z"
   },
   {
    "duration": 6,
    "start_time": "2022-06-27T12:03:22.453Z"
   },
   {
    "duration": 17,
    "start_time": "2022-06-27T12:03:22.461Z"
   },
   {
    "duration": 196,
    "start_time": "2022-06-27T12:03:22.480Z"
   },
   {
    "duration": 199,
    "start_time": "2022-06-27T12:03:22.678Z"
   },
   {
    "duration": 14,
    "start_time": "2022-06-27T12:03:22.879Z"
   },
   {
    "duration": 17,
    "start_time": "2022-06-27T12:03:22.896Z"
   },
   {
    "duration": 17,
    "start_time": "2022-06-27T12:03:22.928Z"
   },
   {
    "duration": 27,
    "start_time": "2022-06-27T12:03:22.946Z"
   },
   {
    "duration": 13,
    "start_time": "2022-06-27T12:03:22.975Z"
   },
   {
    "duration": 10,
    "start_time": "2022-06-27T12:03:22.989Z"
   },
   {
    "duration": 13,
    "start_time": "2022-06-27T12:03:23.001Z"
   },
   {
    "duration": 19,
    "start_time": "2022-06-27T12:03:23.028Z"
   },
   {
    "duration": 21,
    "start_time": "2022-06-27T12:03:23.050Z"
   },
   {
    "duration": 13,
    "start_time": "2022-06-27T12:03:23.072Z"
   },
   {
    "duration": 21,
    "start_time": "2022-06-27T12:03:23.087Z"
   },
   {
    "duration": 10,
    "start_time": "2022-06-27T12:03:23.110Z"
   },
   {
    "duration": 41,
    "start_time": "2022-06-27T12:03:23.122Z"
   },
   {
    "duration": 23,
    "start_time": "2022-06-27T12:03:23.164Z"
   },
   {
    "duration": 5,
    "start_time": "2022-06-27T12:03:23.189Z"
   },
   {
    "duration": 6,
    "start_time": "2022-06-27T12:03:23.196Z"
   },
   {
    "duration": 6,
    "start_time": "2022-06-27T12:03:23.204Z"
   },
   {
    "duration": 11,
    "start_time": "2022-06-27T12:03:23.212Z"
   },
   {
    "duration": 39,
    "start_time": "2022-06-27T12:03:23.224Z"
   },
   {
    "duration": 16,
    "start_time": "2022-06-27T12:03:23.265Z"
   },
   {
    "duration": 6,
    "start_time": "2022-06-27T12:03:23.283Z"
   },
   {
    "duration": 9,
    "start_time": "2022-06-27T12:03:23.290Z"
   },
   {
    "duration": 9,
    "start_time": "2022-06-27T12:03:23.300Z"
   },
   {
    "duration": 8,
    "start_time": "2022-06-27T12:03:23.311Z"
   },
   {
    "duration": 14,
    "start_time": "2022-06-27T12:03:23.320Z"
   },
   {
    "duration": 1172,
    "start_time": "2022-06-27T12:03:38.868Z"
   },
   {
    "duration": 58,
    "start_time": "2022-06-27T12:03:40.052Z"
   },
   {
    "duration": 16,
    "start_time": "2022-06-27T12:03:40.111Z"
   },
   {
    "duration": 43,
    "start_time": "2022-06-27T12:03:40.135Z"
   },
   {
    "duration": 30,
    "start_time": "2022-06-27T12:03:40.179Z"
   },
   {
    "duration": 6,
    "start_time": "2022-06-27T12:03:40.210Z"
   },
   {
    "duration": 15,
    "start_time": "2022-06-27T12:03:40.217Z"
   },
   {
    "duration": 35,
    "start_time": "2022-06-27T12:03:40.233Z"
   },
   {
    "duration": 23,
    "start_time": "2022-06-27T12:03:40.270Z"
   },
   {
    "duration": 11,
    "start_time": "2022-06-27T12:03:40.295Z"
   },
   {
    "duration": 10,
    "start_time": "2022-06-27T12:03:40.307Z"
   },
   {
    "duration": 24,
    "start_time": "2022-06-27T12:03:40.318Z"
   },
   {
    "duration": 41,
    "start_time": "2022-06-27T12:03:40.344Z"
   },
   {
    "duration": 205,
    "start_time": "2022-06-27T12:03:40.386Z"
   },
   {
    "duration": 6,
    "start_time": "2022-06-27T12:03:40.593Z"
   },
   {
    "duration": 50,
    "start_time": "2022-06-27T12:03:40.601Z"
   },
   {
    "duration": 347,
    "start_time": "2022-06-27T12:03:40.656Z"
   },
   {
    "duration": 34,
    "start_time": "2022-06-27T12:03:41.005Z"
   },
   {
    "duration": 1547,
    "start_time": "2022-06-27T12:03:41.047Z"
   },
   {
    "duration": 22,
    "start_time": "2022-06-27T12:03:42.596Z"
   },
   {
    "duration": 34,
    "start_time": "2022-06-27T12:03:42.626Z"
   },
   {
    "duration": 218,
    "start_time": "2022-06-27T12:03:42.661Z"
   },
   {
    "duration": 13,
    "start_time": "2022-06-27T12:03:42.881Z"
   },
   {
    "duration": 1171,
    "start_time": "2022-06-27T12:03:42.896Z"
   },
   {
    "duration": 24,
    "start_time": "2022-06-27T12:03:44.068Z"
   },
   {
    "duration": 116,
    "start_time": "2022-06-27T12:03:44.094Z"
   },
   {
    "duration": 250,
    "start_time": "2022-06-27T12:03:44.212Z"
   },
   {
    "duration": 2,
    "start_time": "2022-06-27T12:03:44.466Z"
   },
   {
    "duration": 193,
    "start_time": "2022-06-27T12:03:44.470Z"
   },
   {
    "duration": 33,
    "start_time": "2022-06-27T12:03:44.665Z"
   },
   {
    "duration": 174,
    "start_time": "2022-06-27T12:03:44.699Z"
   },
   {
    "duration": 5,
    "start_time": "2022-06-27T12:03:44.875Z"
   },
   {
    "duration": 186,
    "start_time": "2022-06-27T12:03:44.882Z"
   },
   {
    "duration": 5,
    "start_time": "2022-06-27T12:03:45.070Z"
   },
   {
    "duration": 22,
    "start_time": "2022-06-27T12:03:45.076Z"
   },
   {
    "duration": 160,
    "start_time": "2022-06-27T12:03:45.100Z"
   },
   {
    "duration": 5,
    "start_time": "2022-06-27T12:03:45.261Z"
   },
   {
    "duration": 183,
    "start_time": "2022-06-27T12:03:45.268Z"
   },
   {
    "duration": 5,
    "start_time": "2022-06-27T12:03:45.453Z"
   },
   {
    "duration": 247,
    "start_time": "2022-06-27T12:03:45.460Z"
   },
   {
    "duration": 6,
    "start_time": "2022-06-27T12:03:45.709Z"
   },
   {
    "duration": 153,
    "start_time": "2022-06-27T12:03:45.718Z"
   },
   {
    "duration": 5,
    "start_time": "2022-06-27T12:03:45.873Z"
   },
   {
    "duration": 17,
    "start_time": "2022-06-27T12:03:45.879Z"
   },
   {
    "duration": 207,
    "start_time": "2022-06-27T12:03:45.898Z"
   },
   {
    "duration": 203,
    "start_time": "2022-06-27T12:03:46.107Z"
   },
   {
    "duration": 21,
    "start_time": "2022-06-27T12:03:46.312Z"
   },
   {
    "duration": 38,
    "start_time": "2022-06-27T12:03:46.334Z"
   },
   {
    "duration": 20,
    "start_time": "2022-06-27T12:03:46.374Z"
   },
   {
    "duration": 15,
    "start_time": "2022-06-27T12:03:46.396Z"
   },
   {
    "duration": 15,
    "start_time": "2022-06-27T12:03:46.413Z"
   },
   {
    "duration": 37,
    "start_time": "2022-06-27T12:03:46.429Z"
   },
   {
    "duration": 13,
    "start_time": "2022-06-27T12:03:46.467Z"
   },
   {
    "duration": 12,
    "start_time": "2022-06-27T12:03:46.482Z"
   },
   {
    "duration": 14,
    "start_time": "2022-06-27T12:03:46.495Z"
   },
   {
    "duration": 14,
    "start_time": "2022-06-27T12:03:46.510Z"
   },
   {
    "duration": 21,
    "start_time": "2022-06-27T12:03:46.526Z"
   },
   {
    "duration": 20,
    "start_time": "2022-06-27T12:03:46.552Z"
   },
   {
    "duration": 17,
    "start_time": "2022-06-27T12:03:46.574Z"
   },
   {
    "duration": 21,
    "start_time": "2022-06-27T12:03:46.592Z"
   },
   {
    "duration": 22,
    "start_time": "2022-06-27T12:03:46.615Z"
   },
   {
    "duration": 25,
    "start_time": "2022-06-27T12:03:46.639Z"
   },
   {
    "duration": 11,
    "start_time": "2022-06-27T12:03:46.665Z"
   },
   {
    "duration": 10,
    "start_time": "2022-06-27T12:03:46.678Z"
   },
   {
    "duration": 9,
    "start_time": "2022-06-27T12:03:46.689Z"
   },
   {
    "duration": 17,
    "start_time": "2022-06-27T12:03:46.699Z"
   },
   {
    "duration": 11,
    "start_time": "2022-06-27T12:03:46.718Z"
   },
   {
    "duration": 41,
    "start_time": "2022-06-27T12:03:46.731Z"
   },
   {
    "duration": 13,
    "start_time": "2022-06-27T12:03:46.775Z"
   },
   {
    "duration": 10,
    "start_time": "2022-06-27T12:03:46.789Z"
   },
   {
    "duration": 8,
    "start_time": "2022-06-27T12:03:46.801Z"
   },
   {
    "duration": 1145,
    "start_time": "2022-06-27T12:08:33.998Z"
   },
   {
    "duration": 60,
    "start_time": "2022-06-27T12:08:35.148Z"
   },
   {
    "duration": 14,
    "start_time": "2022-06-27T12:08:35.209Z"
   },
   {
    "duration": 41,
    "start_time": "2022-06-27T12:08:35.225Z"
   },
   {
    "duration": 30,
    "start_time": "2022-06-27T12:08:35.268Z"
   },
   {
    "duration": 9,
    "start_time": "2022-06-27T12:08:35.300Z"
   },
   {
    "duration": 44,
    "start_time": "2022-06-27T12:08:35.311Z"
   },
   {
    "duration": 25,
    "start_time": "2022-06-27T12:08:35.357Z"
   },
   {
    "duration": 52,
    "start_time": "2022-06-27T12:08:35.384Z"
   },
   {
    "duration": 37,
    "start_time": "2022-06-27T12:08:35.439Z"
   },
   {
    "duration": 29,
    "start_time": "2022-06-27T12:08:35.477Z"
   },
   {
    "duration": 49,
    "start_time": "2022-06-27T12:08:35.508Z"
   },
   {
    "duration": 22,
    "start_time": "2022-06-27T12:08:35.558Z"
   },
   {
    "duration": 212,
    "start_time": "2022-06-27T12:08:35.582Z"
   },
   {
    "duration": 7,
    "start_time": "2022-06-27T12:08:35.796Z"
   },
   {
    "duration": 63,
    "start_time": "2022-06-27T12:08:35.804Z"
   },
   {
    "duration": 351,
    "start_time": "2022-06-27T12:08:35.869Z"
   },
   {
    "duration": 27,
    "start_time": "2022-06-27T12:08:36.228Z"
   },
   {
    "duration": 1581,
    "start_time": "2022-06-27T12:08:36.257Z"
   },
   {
    "duration": 22,
    "start_time": "2022-06-27T12:08:37.840Z"
   },
   {
    "duration": 51,
    "start_time": "2022-06-27T12:08:37.863Z"
   },
   {
    "duration": 256,
    "start_time": "2022-06-27T12:08:37.916Z"
   },
   {
    "duration": 13,
    "start_time": "2022-06-27T12:08:38.174Z"
   },
   {
    "duration": 1218,
    "start_time": "2022-06-27T12:08:38.189Z"
   },
   {
    "duration": 41,
    "start_time": "2022-06-27T12:08:39.409Z"
   },
   {
    "duration": 121,
    "start_time": "2022-06-27T12:08:39.452Z"
   },
   {
    "duration": 236,
    "start_time": "2022-06-27T12:08:39.574Z"
   },
   {
    "duration": 3,
    "start_time": "2022-06-27T12:08:39.814Z"
   },
   {
    "duration": 184,
    "start_time": "2022-06-27T12:08:39.818Z"
   },
   {
    "duration": 33,
    "start_time": "2022-06-27T12:08:40.004Z"
   },
   {
    "duration": 166,
    "start_time": "2022-06-27T12:08:40.039Z"
   },
   {
    "duration": 5,
    "start_time": "2022-06-27T12:08:40.206Z"
   },
   {
    "duration": 170,
    "start_time": "2022-06-27T12:08:40.212Z"
   },
   {
    "duration": 5,
    "start_time": "2022-06-27T12:08:40.384Z"
   },
   {
    "duration": 26,
    "start_time": "2022-06-27T12:08:40.391Z"
   },
   {
    "duration": 146,
    "start_time": "2022-06-27T12:08:40.431Z"
   },
   {
    "duration": 5,
    "start_time": "2022-06-27T12:08:40.580Z"
   },
   {
    "duration": 172,
    "start_time": "2022-06-27T12:08:40.587Z"
   },
   {
    "duration": 5,
    "start_time": "2022-06-27T12:08:40.760Z"
   },
   {
    "duration": 247,
    "start_time": "2022-06-27T12:08:40.767Z"
   },
   {
    "duration": 21,
    "start_time": "2022-06-27T12:08:41.017Z"
   },
   {
    "duration": 148,
    "start_time": "2022-06-27T12:08:41.040Z"
   },
   {
    "duration": 6,
    "start_time": "2022-06-27T12:08:41.189Z"
   },
   {
    "duration": 16,
    "start_time": "2022-06-27T12:08:41.197Z"
   },
   {
    "duration": 191,
    "start_time": "2022-06-27T12:08:41.226Z"
   },
   {
    "duration": 248,
    "start_time": "2022-06-27T12:08:41.428Z"
   },
   {
    "duration": 17,
    "start_time": "2022-06-27T12:08:41.679Z"
   },
   {
    "duration": 37,
    "start_time": "2022-06-27T12:08:41.698Z"
   },
   {
    "duration": 19,
    "start_time": "2022-06-27T12:08:41.739Z"
   },
   {
    "duration": 26,
    "start_time": "2022-06-27T12:08:41.760Z"
   },
   {
    "duration": 15,
    "start_time": "2022-06-27T12:08:41.788Z"
   },
   {
    "duration": 12,
    "start_time": "2022-06-27T12:08:41.805Z"
   },
   {
    "duration": 36,
    "start_time": "2022-06-27T12:08:41.819Z"
   },
   {
    "duration": 16,
    "start_time": "2022-06-27T12:08:41.857Z"
   },
   {
    "duration": 13,
    "start_time": "2022-06-27T12:08:41.875Z"
   },
   {
    "duration": 18,
    "start_time": "2022-06-27T12:08:41.890Z"
   },
   {
    "duration": 13,
    "start_time": "2022-06-27T12:08:41.910Z"
   },
   {
    "duration": 11,
    "start_time": "2022-06-27T12:08:41.925Z"
   },
   {
    "duration": 22,
    "start_time": "2022-06-27T12:08:41.941Z"
   },
   {
    "duration": 985,
    "start_time": "2022-06-27T12:08:41.965Z"
   },
   {
    "duration": 0,
    "start_time": "2022-06-27T12:08:42.952Z"
   },
   {
    "duration": 0,
    "start_time": "2022-06-27T12:08:42.953Z"
   },
   {
    "duration": 0,
    "start_time": "2022-06-27T12:08:42.954Z"
   },
   {
    "duration": 0,
    "start_time": "2022-06-27T12:08:42.956Z"
   },
   {
    "duration": 0,
    "start_time": "2022-06-27T12:08:42.957Z"
   },
   {
    "duration": 0,
    "start_time": "2022-06-27T12:08:42.958Z"
   },
   {
    "duration": 0,
    "start_time": "2022-06-27T12:08:42.959Z"
   },
   {
    "duration": 0,
    "start_time": "2022-06-27T12:08:42.960Z"
   },
   {
    "duration": 0,
    "start_time": "2022-06-27T12:08:42.961Z"
   },
   {
    "duration": 0,
    "start_time": "2022-06-27T12:08:42.962Z"
   },
   {
    "duration": 1195,
    "start_time": "2022-06-27T12:09:46.766Z"
   },
   {
    "duration": 59,
    "start_time": "2022-06-27T12:09:47.963Z"
   },
   {
    "duration": 20,
    "start_time": "2022-06-27T12:09:48.023Z"
   },
   {
    "duration": 22,
    "start_time": "2022-06-27T12:09:48.045Z"
   },
   {
    "duration": 16,
    "start_time": "2022-06-27T12:09:48.069Z"
   },
   {
    "duration": 4,
    "start_time": "2022-06-27T12:09:48.087Z"
   },
   {
    "duration": 14,
    "start_time": "2022-06-27T12:09:48.093Z"
   },
   {
    "duration": 32,
    "start_time": "2022-06-27T12:09:48.108Z"
   },
   {
    "duration": 21,
    "start_time": "2022-06-27T12:09:48.141Z"
   },
   {
    "duration": 8,
    "start_time": "2022-06-27T12:09:48.165Z"
   },
   {
    "duration": 8,
    "start_time": "2022-06-27T12:09:48.175Z"
   },
   {
    "duration": 5,
    "start_time": "2022-06-27T12:09:48.185Z"
   },
   {
    "duration": 19,
    "start_time": "2022-06-27T12:09:48.192Z"
   },
   {
    "duration": 209,
    "start_time": "2022-06-27T12:09:48.213Z"
   },
   {
    "duration": 17,
    "start_time": "2022-06-27T12:09:48.424Z"
   },
   {
    "duration": 35,
    "start_time": "2022-06-27T12:09:48.442Z"
   },
   {
    "duration": 367,
    "start_time": "2022-06-27T12:09:48.479Z"
   },
   {
    "duration": 18,
    "start_time": "2022-06-27T12:09:48.850Z"
   },
   {
    "duration": 1495,
    "start_time": "2022-06-27T12:09:48.870Z"
   },
   {
    "duration": 23,
    "start_time": "2022-06-27T12:09:50.366Z"
   },
   {
    "duration": 19,
    "start_time": "2022-06-27T12:09:50.391Z"
   },
   {
    "duration": 252,
    "start_time": "2022-06-27T12:09:50.412Z"
   },
   {
    "duration": 14,
    "start_time": "2022-06-27T12:09:50.667Z"
   },
   {
    "duration": 1289,
    "start_time": "2022-06-27T12:09:50.683Z"
   },
   {
    "duration": 24,
    "start_time": "2022-06-27T12:09:51.973Z"
   },
   {
    "duration": 120,
    "start_time": "2022-06-27T12:09:51.998Z"
   },
   {
    "duration": 246,
    "start_time": "2022-06-27T12:09:52.120Z"
   },
   {
    "duration": 3,
    "start_time": "2022-06-27T12:09:52.370Z"
   },
   {
    "duration": 191,
    "start_time": "2022-06-27T12:09:52.374Z"
   },
   {
    "duration": 21,
    "start_time": "2022-06-27T12:09:52.567Z"
   },
   {
    "duration": 179,
    "start_time": "2022-06-27T12:09:52.590Z"
   },
   {
    "duration": 5,
    "start_time": "2022-06-27T12:09:52.771Z"
   },
   {
    "duration": 178,
    "start_time": "2022-06-27T12:09:52.777Z"
   },
   {
    "duration": 6,
    "start_time": "2022-06-27T12:09:52.956Z"
   },
   {
    "duration": 23,
    "start_time": "2022-06-27T12:09:52.963Z"
   },
   {
    "duration": 171,
    "start_time": "2022-06-27T12:09:52.987Z"
   },
   {
    "duration": 5,
    "start_time": "2022-06-27T12:09:53.160Z"
   },
   {
    "duration": 164,
    "start_time": "2022-06-27T12:09:53.166Z"
   },
   {
    "duration": 20,
    "start_time": "2022-06-27T12:09:53.336Z"
   },
   {
    "duration": 241,
    "start_time": "2022-06-27T12:09:53.358Z"
   },
   {
    "duration": 5,
    "start_time": "2022-06-27T12:09:53.601Z"
   },
   {
    "duration": 156,
    "start_time": "2022-06-27T12:09:53.607Z"
   },
   {
    "duration": 5,
    "start_time": "2022-06-27T12:09:53.765Z"
   },
   {
    "duration": 16,
    "start_time": "2022-06-27T12:09:53.772Z"
   },
   {
    "duration": 207,
    "start_time": "2022-06-27T12:09:53.789Z"
   },
   {
    "duration": 207,
    "start_time": "2022-06-27T12:09:53.998Z"
   },
   {
    "duration": 21,
    "start_time": "2022-06-27T12:09:54.206Z"
   },
   {
    "duration": 25,
    "start_time": "2022-06-27T12:09:54.235Z"
   },
   {
    "duration": 10,
    "start_time": "2022-06-27T12:09:54.262Z"
   },
   {
    "duration": 14,
    "start_time": "2022-06-27T12:09:54.273Z"
   },
   {
    "duration": 13,
    "start_time": "2022-06-27T12:09:54.289Z"
   },
   {
    "duration": 28,
    "start_time": "2022-06-27T12:09:54.304Z"
   },
   {
    "duration": 22,
    "start_time": "2022-06-27T12:09:54.333Z"
   },
   {
    "duration": 24,
    "start_time": "2022-06-27T12:09:54.357Z"
   },
   {
    "duration": 10,
    "start_time": "2022-06-27T12:09:54.383Z"
   },
   {
    "duration": 19,
    "start_time": "2022-06-27T12:09:54.395Z"
   },
   {
    "duration": 26,
    "start_time": "2022-06-27T12:09:54.416Z"
   },
   {
    "duration": 35,
    "start_time": "2022-06-27T12:09:54.443Z"
   },
   {
    "duration": 11,
    "start_time": "2022-06-27T12:09:54.479Z"
   },
   {
    "duration": 7,
    "start_time": "2022-06-27T12:09:54.492Z"
   },
   {
    "duration": 12,
    "start_time": "2022-06-27T12:09:54.500Z"
   },
   {
    "duration": 8,
    "start_time": "2022-06-27T12:09:54.514Z"
   },
   {
    "duration": 32,
    "start_time": "2022-06-27T12:09:54.525Z"
   },
   {
    "duration": 26,
    "start_time": "2022-06-27T12:09:54.559Z"
   },
   {
    "duration": 21,
    "start_time": "2022-06-27T12:09:54.586Z"
   },
   {
    "duration": 13,
    "start_time": "2022-06-27T12:09:54.609Z"
   },
   {
    "duration": 41,
    "start_time": "2022-06-27T12:09:54.624Z"
   },
   {
    "duration": 22,
    "start_time": "2022-06-27T12:09:54.667Z"
   },
   {
    "duration": 15,
    "start_time": "2022-06-27T12:09:54.691Z"
   },
   {
    "duration": 15,
    "start_time": "2022-06-27T12:09:54.708Z"
   },
   {
    "duration": 1225,
    "start_time": "2022-06-27T12:11:06.445Z"
   },
   {
    "duration": 63,
    "start_time": "2022-06-27T12:11:07.672Z"
   },
   {
    "duration": 19,
    "start_time": "2022-06-27T12:11:07.743Z"
   },
   {
    "duration": 16,
    "start_time": "2022-06-27T12:11:07.764Z"
   },
   {
    "duration": 29,
    "start_time": "2022-06-27T12:11:07.781Z"
   },
   {
    "duration": 12,
    "start_time": "2022-06-27T12:11:07.811Z"
   },
   {
    "duration": 46,
    "start_time": "2022-06-27T12:11:07.825Z"
   },
   {
    "duration": 14,
    "start_time": "2022-06-27T12:11:07.873Z"
   },
   {
    "duration": 23,
    "start_time": "2022-06-27T12:11:07.889Z"
   },
   {
    "duration": 28,
    "start_time": "2022-06-27T12:11:07.914Z"
   },
   {
    "duration": 38,
    "start_time": "2022-06-27T12:11:07.944Z"
   },
   {
    "duration": 11,
    "start_time": "2022-06-27T12:11:07.984Z"
   },
   {
    "duration": 34,
    "start_time": "2022-06-27T12:11:07.996Z"
   },
   {
    "duration": 223,
    "start_time": "2022-06-27T12:11:08.039Z"
   },
   {
    "duration": 7,
    "start_time": "2022-06-27T12:11:08.263Z"
   },
   {
    "duration": 38,
    "start_time": "2022-06-27T12:11:08.272Z"
   },
   {
    "duration": 376,
    "start_time": "2022-06-27T12:11:08.311Z"
   },
   {
    "duration": 14,
    "start_time": "2022-06-27T12:11:08.688Z"
   },
   {
    "duration": 1564,
    "start_time": "2022-06-27T12:11:08.703Z"
   },
   {
    "duration": 20,
    "start_time": "2022-06-27T12:11:10.269Z"
   },
   {
    "duration": 13,
    "start_time": "2022-06-27T12:11:10.290Z"
   },
   {
    "duration": 254,
    "start_time": "2022-06-27T12:11:10.305Z"
   },
   {
    "duration": 16,
    "start_time": "2022-06-27T12:11:10.560Z"
   },
   {
    "duration": 1323,
    "start_time": "2022-06-27T12:11:10.578Z"
   },
   {
    "duration": 46,
    "start_time": "2022-06-27T12:11:11.903Z"
   },
   {
    "duration": 110,
    "start_time": "2022-06-27T12:11:11.950Z"
   },
   {
    "duration": 243,
    "start_time": "2022-06-27T12:11:12.062Z"
   },
   {
    "duration": 2,
    "start_time": "2022-06-27T12:11:12.307Z"
   },
   {
    "duration": 181,
    "start_time": "2022-06-27T12:11:12.311Z"
   },
   {
    "duration": 19,
    "start_time": "2022-06-27T12:11:12.494Z"
   },
   {
    "duration": 173,
    "start_time": "2022-06-27T12:11:12.515Z"
   },
   {
    "duration": 5,
    "start_time": "2022-06-27T12:11:12.690Z"
   },
   {
    "duration": 173,
    "start_time": "2022-06-27T12:11:12.697Z"
   },
   {
    "duration": 5,
    "start_time": "2022-06-27T12:11:12.873Z"
   },
   {
    "duration": 27,
    "start_time": "2022-06-27T12:11:12.879Z"
   },
   {
    "duration": 178,
    "start_time": "2022-06-27T12:11:12.926Z"
   },
   {
    "duration": 4,
    "start_time": "2022-06-27T12:11:13.106Z"
   },
   {
    "duration": 168,
    "start_time": "2022-06-27T12:11:13.111Z"
   },
   {
    "duration": 4,
    "start_time": "2022-06-27T12:11:13.281Z"
   },
   {
    "duration": 389,
    "start_time": "2022-06-27T12:11:13.287Z"
   },
   {
    "duration": 51,
    "start_time": "2022-06-27T12:11:13.678Z"
   },
   {
    "duration": 221,
    "start_time": "2022-06-27T12:11:13.731Z"
   },
   {
    "duration": 6,
    "start_time": "2022-06-27T12:11:13.957Z"
   },
   {
    "duration": 21,
    "start_time": "2022-06-27T12:11:13.965Z"
   },
   {
    "duration": 208,
    "start_time": "2022-06-27T12:11:13.988Z"
   },
   {
    "duration": 209,
    "start_time": "2022-06-27T12:11:14.198Z"
   },
   {
    "duration": 34,
    "start_time": "2022-06-27T12:11:14.409Z"
   },
   {
    "duration": 22,
    "start_time": "2022-06-27T12:11:14.446Z"
   },
   {
    "duration": 20,
    "start_time": "2022-06-27T12:11:14.470Z"
   },
   {
    "duration": 16,
    "start_time": "2022-06-27T12:11:14.492Z"
   },
   {
    "duration": 37,
    "start_time": "2022-06-27T12:11:14.510Z"
   },
   {
    "duration": 17,
    "start_time": "2022-06-27T12:11:14.552Z"
   },
   {
    "duration": 14,
    "start_time": "2022-06-27T12:11:14.570Z"
   },
   {
    "duration": 14,
    "start_time": "2022-06-27T12:11:14.586Z"
   },
   {
    "duration": 10,
    "start_time": "2022-06-27T12:11:14.602Z"
   },
   {
    "duration": 35,
    "start_time": "2022-06-27T12:11:14.614Z"
   },
   {
    "duration": 42,
    "start_time": "2022-06-27T12:11:14.652Z"
   },
   {
    "duration": 15,
    "start_time": "2022-06-27T12:11:14.696Z"
   },
   {
    "duration": 21,
    "start_time": "2022-06-27T12:11:14.713Z"
   },
   {
    "duration": 21,
    "start_time": "2022-06-27T12:11:14.739Z"
   },
   {
    "duration": 7,
    "start_time": "2022-06-27T12:11:14.762Z"
   },
   {
    "duration": 7,
    "start_time": "2022-06-27T12:11:14.770Z"
   },
   {
    "duration": 10,
    "start_time": "2022-06-27T12:11:14.779Z"
   },
   {
    "duration": 8,
    "start_time": "2022-06-27T12:11:14.791Z"
   },
   {
    "duration": 20,
    "start_time": "2022-06-27T12:11:14.801Z"
   },
   {
    "duration": 11,
    "start_time": "2022-06-27T12:11:14.823Z"
   },
   {
    "duration": 30,
    "start_time": "2022-06-27T12:11:14.835Z"
   },
   {
    "duration": 13,
    "start_time": "2022-06-27T12:11:14.866Z"
   },
   {
    "duration": 17,
    "start_time": "2022-06-27T12:11:14.881Z"
   },
   {
    "duration": 9,
    "start_time": "2022-06-27T12:11:14.899Z"
   },
   {
    "duration": 20,
    "start_time": "2022-06-27T12:16:17.064Z"
   },
   {
    "duration": 14,
    "start_time": "2022-06-27T12:19:22.444Z"
   },
   {
    "duration": 374,
    "start_time": "2022-06-27T12:19:31.772Z"
   },
   {
    "duration": 11,
    "start_time": "2022-06-27T12:20:01.200Z"
   },
   {
    "duration": 379,
    "start_time": "2022-06-27T12:20:13.062Z"
   },
   {
    "duration": 1120,
    "start_time": "2022-06-27T12:48:29.349Z"
   },
   {
    "duration": 71,
    "start_time": "2022-06-27T12:48:30.471Z"
   },
   {
    "duration": 15,
    "start_time": "2022-06-27T12:48:30.543Z"
   },
   {
    "duration": 18,
    "start_time": "2022-06-27T12:48:30.560Z"
   },
   {
    "duration": 18,
    "start_time": "2022-06-27T12:48:30.580Z"
   },
   {
    "duration": 40,
    "start_time": "2022-06-27T12:48:30.600Z"
   },
   {
    "duration": 22,
    "start_time": "2022-06-27T12:48:30.642Z"
   },
   {
    "duration": 18,
    "start_time": "2022-06-27T12:48:30.666Z"
   },
   {
    "duration": 29,
    "start_time": "2022-06-27T12:48:30.686Z"
   },
   {
    "duration": 27,
    "start_time": "2022-06-27T12:48:30.719Z"
   },
   {
    "duration": 20,
    "start_time": "2022-06-27T12:48:30.747Z"
   },
   {
    "duration": 17,
    "start_time": "2022-06-27T12:48:30.768Z"
   },
   {
    "duration": 29,
    "start_time": "2022-06-27T12:48:30.787Z"
   },
   {
    "duration": 194,
    "start_time": "2022-06-27T12:48:30.818Z"
   },
   {
    "duration": 14,
    "start_time": "2022-06-27T12:48:31.014Z"
   },
   {
    "duration": 41,
    "start_time": "2022-06-27T12:48:31.032Z"
   },
   {
    "duration": 12,
    "start_time": "2022-06-27T12:48:31.074Z"
   },
   {
    "duration": 13,
    "start_time": "2022-06-27T12:48:31.088Z"
   },
   {
    "duration": 370,
    "start_time": "2022-06-27T12:48:31.103Z"
   },
   {
    "duration": 18,
    "start_time": "2022-06-27T12:48:31.475Z"
   },
   {
    "duration": 1465,
    "start_time": "2022-06-27T12:48:31.495Z"
   },
   {
    "duration": 19,
    "start_time": "2022-06-27T12:48:32.962Z"
   },
   {
    "duration": 20,
    "start_time": "2022-06-27T12:48:32.983Z"
   },
   {
    "duration": 235,
    "start_time": "2022-06-27T12:48:33.005Z"
   },
   {
    "duration": 12,
    "start_time": "2022-06-27T12:48:33.242Z"
   },
   {
    "duration": 1147,
    "start_time": "2022-06-27T12:48:33.256Z"
   },
   {
    "duration": 37,
    "start_time": "2022-06-27T12:48:34.405Z"
   },
   {
    "duration": 114,
    "start_time": "2022-06-27T12:48:34.445Z"
   },
   {
    "duration": 232,
    "start_time": "2022-06-27T12:48:34.561Z"
   },
   {
    "duration": 173,
    "start_time": "2022-06-27T12:48:34.795Z"
   },
   {
    "duration": 20,
    "start_time": "2022-06-27T12:48:34.969Z"
   },
   {
    "duration": 159,
    "start_time": "2022-06-27T12:48:34.991Z"
   },
   {
    "duration": 6,
    "start_time": "2022-06-27T12:48:35.151Z"
   },
   {
    "duration": 149,
    "start_time": "2022-06-27T12:48:35.158Z"
   },
   {
    "duration": 4,
    "start_time": "2022-06-27T12:48:35.308Z"
   },
   {
    "duration": 34,
    "start_time": "2022-06-27T12:48:35.314Z"
   },
   {
    "duration": 140,
    "start_time": "2022-06-27T12:48:35.350Z"
   },
   {
    "duration": 6,
    "start_time": "2022-06-27T12:48:35.492Z"
   },
   {
    "duration": 158,
    "start_time": "2022-06-27T12:48:35.499Z"
   },
   {
    "duration": 5,
    "start_time": "2022-06-27T12:48:35.659Z"
   },
   {
    "duration": 248,
    "start_time": "2022-06-27T12:48:35.665Z"
   },
   {
    "duration": 22,
    "start_time": "2022-06-27T12:48:35.915Z"
   },
   {
    "duration": 134,
    "start_time": "2022-06-27T12:48:35.939Z"
   },
   {
    "duration": 5,
    "start_time": "2022-06-27T12:48:36.075Z"
   },
   {
    "duration": 21,
    "start_time": "2022-06-27T12:48:36.081Z"
   },
   {
    "duration": 186,
    "start_time": "2022-06-27T12:48:36.103Z"
   },
   {
    "duration": 201,
    "start_time": "2022-06-27T12:48:36.290Z"
   },
   {
    "duration": 15,
    "start_time": "2022-06-27T12:48:36.492Z"
   },
   {
    "duration": 34,
    "start_time": "2022-06-27T12:48:36.508Z"
   },
   {
    "duration": 19,
    "start_time": "2022-06-27T12:48:36.544Z"
   },
   {
    "duration": 14,
    "start_time": "2022-06-27T12:48:36.565Z"
   },
   {
    "duration": 24,
    "start_time": "2022-06-27T12:48:36.581Z"
   },
   {
    "duration": 16,
    "start_time": "2022-06-27T12:48:36.607Z"
   },
   {
    "duration": 37,
    "start_time": "2022-06-27T12:48:36.626Z"
   },
   {
    "duration": 34,
    "start_time": "2022-06-27T12:48:36.665Z"
   },
   {
    "duration": 18,
    "start_time": "2022-06-27T12:48:36.700Z"
   },
   {
    "duration": 23,
    "start_time": "2022-06-27T12:48:36.719Z"
   },
   {
    "duration": 15,
    "start_time": "2022-06-27T12:48:36.744Z"
   },
   {
    "duration": 9,
    "start_time": "2022-06-27T12:48:36.760Z"
   },
   {
    "duration": 25,
    "start_time": "2022-06-27T12:48:36.771Z"
   },
   {
    "duration": 10,
    "start_time": "2022-06-27T12:48:36.798Z"
   },
   {
    "duration": 11,
    "start_time": "2022-06-27T12:48:36.810Z"
   },
   {
    "duration": 22,
    "start_time": "2022-06-27T12:48:36.822Z"
   },
   {
    "duration": 11,
    "start_time": "2022-06-27T12:48:36.845Z"
   },
   {
    "duration": 22,
    "start_time": "2022-06-27T12:48:36.858Z"
   },
   {
    "duration": 19,
    "start_time": "2022-06-27T12:48:36.882Z"
   },
   {
    "duration": 19,
    "start_time": "2022-06-27T12:48:36.903Z"
   },
   {
    "duration": 32,
    "start_time": "2022-06-27T12:48:36.924Z"
   },
   {
    "duration": 18,
    "start_time": "2022-06-27T12:48:36.957Z"
   },
   {
    "duration": 9,
    "start_time": "2022-06-27T12:48:36.977Z"
   },
   {
    "duration": 16,
    "start_time": "2022-06-27T12:48:36.987Z"
   },
   {
    "duration": 11,
    "start_time": "2022-06-27T12:49:09.961Z"
   },
   {
    "duration": 1070,
    "start_time": "2022-06-27T12:49:14.551Z"
   },
   {
    "duration": 60,
    "start_time": "2022-06-27T12:49:15.623Z"
   },
   {
    "duration": 13,
    "start_time": "2022-06-27T12:49:15.685Z"
   },
   {
    "duration": 21,
    "start_time": "2022-06-27T12:49:15.700Z"
   },
   {
    "duration": 25,
    "start_time": "2022-06-27T12:49:15.722Z"
   },
   {
    "duration": 4,
    "start_time": "2022-06-27T12:49:15.749Z"
   },
   {
    "duration": 11,
    "start_time": "2022-06-27T12:49:15.755Z"
   },
   {
    "duration": 9,
    "start_time": "2022-06-27T12:49:15.768Z"
   },
   {
    "duration": 16,
    "start_time": "2022-06-27T12:49:15.778Z"
   },
   {
    "duration": 34,
    "start_time": "2022-06-27T12:49:15.796Z"
   },
   {
    "duration": 8,
    "start_time": "2022-06-27T12:49:15.832Z"
   },
   {
    "duration": 8,
    "start_time": "2022-06-27T12:49:15.841Z"
   },
   {
    "duration": 22,
    "start_time": "2022-06-27T12:49:15.850Z"
   },
   {
    "duration": 206,
    "start_time": "2022-06-27T12:49:15.873Z"
   },
   {
    "duration": 8,
    "start_time": "2022-06-27T12:49:16.080Z"
   },
   {
    "duration": 13,
    "start_time": "2022-06-27T12:49:16.089Z"
   },
   {
    "duration": 2,
    "start_time": "2022-06-27T12:49:16.104Z"
   },
   {
    "duration": 18,
    "start_time": "2022-06-27T12:49:16.108Z"
   },
   {
    "duration": 331,
    "start_time": "2022-06-27T12:49:16.128Z"
   },
   {
    "duration": 15,
    "start_time": "2022-06-27T12:49:16.460Z"
   },
   {
    "duration": 1344,
    "start_time": "2022-06-27T12:49:16.478Z"
   },
   {
    "duration": 19,
    "start_time": "2022-06-27T12:49:17.826Z"
   },
   {
    "duration": 17,
    "start_time": "2022-06-27T12:49:17.846Z"
   },
   {
    "duration": 220,
    "start_time": "2022-06-27T12:49:17.864Z"
   },
   {
    "duration": 14,
    "start_time": "2022-06-27T12:49:18.085Z"
   },
   {
    "duration": 1140,
    "start_time": "2022-06-27T12:49:18.100Z"
   },
   {
    "duration": 23,
    "start_time": "2022-06-27T12:49:19.242Z"
   },
   {
    "duration": 112,
    "start_time": "2022-06-27T12:49:19.268Z"
   },
   {
    "duration": 233,
    "start_time": "2022-06-27T12:49:19.382Z"
   },
   {
    "duration": 163,
    "start_time": "2022-06-27T12:49:19.617Z"
   },
   {
    "duration": 19,
    "start_time": "2022-06-27T12:49:19.782Z"
   },
   {
    "duration": 161,
    "start_time": "2022-06-27T12:49:19.802Z"
   },
   {
    "duration": 4,
    "start_time": "2022-06-27T12:49:19.965Z"
   },
   {
    "duration": 157,
    "start_time": "2022-06-27T12:49:19.971Z"
   },
   {
    "duration": 5,
    "start_time": "2022-06-27T12:49:20.130Z"
   },
   {
    "duration": 23,
    "start_time": "2022-06-27T12:49:20.136Z"
   },
   {
    "duration": 152,
    "start_time": "2022-06-27T12:49:20.160Z"
   },
   {
    "duration": 5,
    "start_time": "2022-06-27T12:49:20.314Z"
   },
   {
    "duration": 151,
    "start_time": "2022-06-27T12:49:20.327Z"
   },
   {
    "duration": 5,
    "start_time": "2022-06-27T12:49:20.480Z"
   },
   {
    "duration": 236,
    "start_time": "2022-06-27T12:49:20.486Z"
   },
   {
    "duration": 8,
    "start_time": "2022-06-27T12:49:20.723Z"
   },
   {
    "duration": 144,
    "start_time": "2022-06-27T12:49:20.732Z"
   },
   {
    "duration": 5,
    "start_time": "2022-06-27T12:49:20.878Z"
   },
   {
    "duration": 23,
    "start_time": "2022-06-27T12:49:20.884Z"
   },
   {
    "duration": 186,
    "start_time": "2022-06-27T12:49:20.909Z"
   },
   {
    "duration": 188,
    "start_time": "2022-06-27T12:49:21.097Z"
   },
   {
    "duration": 15,
    "start_time": "2022-06-27T12:49:21.287Z"
   },
   {
    "duration": 30,
    "start_time": "2022-06-27T12:49:21.303Z"
   },
   {
    "duration": 10,
    "start_time": "2022-06-27T12:49:21.335Z"
   },
   {
    "duration": 17,
    "start_time": "2022-06-27T12:49:21.347Z"
   },
   {
    "duration": 13,
    "start_time": "2022-06-27T12:49:21.366Z"
   },
   {
    "duration": 9,
    "start_time": "2022-06-27T12:49:21.380Z"
   },
   {
    "duration": 39,
    "start_time": "2022-06-27T12:49:21.391Z"
   },
   {
    "duration": 19,
    "start_time": "2022-06-27T12:49:21.431Z"
   },
   {
    "duration": 21,
    "start_time": "2022-06-27T12:49:21.452Z"
   },
   {
    "duration": 23,
    "start_time": "2022-06-27T12:49:21.475Z"
   },
   {
    "duration": 34,
    "start_time": "2022-06-27T12:49:21.500Z"
   },
   {
    "duration": 21,
    "start_time": "2022-06-27T12:49:21.536Z"
   },
   {
    "duration": 21,
    "start_time": "2022-06-27T12:49:21.559Z"
   },
   {
    "duration": 5,
    "start_time": "2022-06-27T12:49:21.582Z"
   },
   {
    "duration": 17,
    "start_time": "2022-06-27T12:49:21.590Z"
   },
   {
    "duration": 9,
    "start_time": "2022-06-27T12:49:21.610Z"
   },
   {
    "duration": 12,
    "start_time": "2022-06-27T12:49:21.621Z"
   },
   {
    "duration": 18,
    "start_time": "2022-06-27T12:49:21.635Z"
   },
   {
    "duration": 29,
    "start_time": "2022-06-27T12:49:21.654Z"
   },
   {
    "duration": 6,
    "start_time": "2022-06-27T12:49:21.684Z"
   },
   {
    "duration": 17,
    "start_time": "2022-06-27T12:49:21.691Z"
   },
   {
    "duration": 9,
    "start_time": "2022-06-27T12:49:21.710Z"
   },
   {
    "duration": 11,
    "start_time": "2022-06-27T12:49:21.720Z"
   },
   {
    "duration": 12,
    "start_time": "2022-06-27T12:49:21.733Z"
   },
   {
    "duration": 1172,
    "start_time": "2022-07-09T11:13:19.084Z"
   },
   {
    "duration": 90,
    "start_time": "2022-07-09T11:13:20.258Z"
   },
   {
    "duration": 16,
    "start_time": "2022-07-09T11:13:20.350Z"
   },
   {
    "duration": 10,
    "start_time": "2022-07-09T11:13:20.368Z"
   },
   {
    "duration": 23,
    "start_time": "2022-07-09T11:13:20.379Z"
   },
   {
    "duration": 5,
    "start_time": "2022-07-09T11:13:20.404Z"
   },
   {
    "duration": 43,
    "start_time": "2022-07-09T11:13:20.410Z"
   },
   {
    "duration": 8,
    "start_time": "2022-07-09T11:13:20.455Z"
   },
   {
    "duration": 16,
    "start_time": "2022-07-09T11:13:20.464Z"
   },
   {
    "duration": 13,
    "start_time": "2022-07-09T11:13:20.483Z"
   },
   {
    "duration": 16,
    "start_time": "2022-07-09T11:13:20.497Z"
   },
   {
    "duration": 10,
    "start_time": "2022-07-09T11:13:20.515Z"
   },
   {
    "duration": 32,
    "start_time": "2022-07-09T11:13:20.527Z"
   },
   {
    "duration": 212,
    "start_time": "2022-07-09T11:13:20.561Z"
   },
   {
    "duration": 10,
    "start_time": "2022-07-09T11:13:20.775Z"
   },
   {
    "duration": 17,
    "start_time": "2022-07-09T11:13:20.787Z"
   },
   {
    "duration": 3,
    "start_time": "2022-07-09T11:13:20.805Z"
   },
   {
    "duration": 4,
    "start_time": "2022-07-09T11:13:20.810Z"
   },
   {
    "duration": 358,
    "start_time": "2022-07-09T11:13:20.816Z"
   },
   {
    "duration": 15,
    "start_time": "2022-07-09T11:13:21.176Z"
   },
   {
    "duration": 1468,
    "start_time": "2022-07-09T11:13:21.192Z"
   },
   {
    "duration": 21,
    "start_time": "2022-07-09T11:13:22.662Z"
   },
   {
    "duration": 14,
    "start_time": "2022-07-09T11:13:22.685Z"
   },
   {
    "duration": 242,
    "start_time": "2022-07-09T11:13:22.700Z"
   },
   {
    "duration": 16,
    "start_time": "2022-07-09T11:13:22.945Z"
   },
   {
    "duration": 1276,
    "start_time": "2022-07-09T11:13:22.963Z"
   },
   {
    "duration": 27,
    "start_time": "2022-07-09T11:13:24.240Z"
   },
   {
    "duration": 126,
    "start_time": "2022-07-09T11:13:24.271Z"
   },
   {
    "duration": 241,
    "start_time": "2022-07-09T11:13:24.399Z"
   },
   {
    "duration": 184,
    "start_time": "2022-07-09T11:13:24.646Z"
   },
   {
    "duration": 27,
    "start_time": "2022-07-09T11:13:24.831Z"
   },
   {
    "duration": 174,
    "start_time": "2022-07-09T11:13:24.860Z"
   },
   {
    "duration": 11,
    "start_time": "2022-07-09T11:13:25.035Z"
   },
   {
    "duration": 153,
    "start_time": "2022-07-09T11:13:25.050Z"
   },
   {
    "duration": 6,
    "start_time": "2022-07-09T11:13:25.204Z"
   },
   {
    "duration": 36,
    "start_time": "2022-07-09T11:13:25.211Z"
   },
   {
    "duration": 148,
    "start_time": "2022-07-09T11:13:25.248Z"
   },
   {
    "duration": 6,
    "start_time": "2022-07-09T11:13:25.397Z"
   },
   {
    "duration": 166,
    "start_time": "2022-07-09T11:13:25.405Z"
   },
   {
    "duration": 5,
    "start_time": "2022-07-09T11:13:25.572Z"
   },
   {
    "duration": 255,
    "start_time": "2022-07-09T11:13:25.578Z"
   },
   {
    "duration": 7,
    "start_time": "2022-07-09T11:13:25.845Z"
   },
   {
    "duration": 151,
    "start_time": "2022-07-09T11:13:25.854Z"
   },
   {
    "duration": 5,
    "start_time": "2022-07-09T11:13:26.007Z"
   },
   {
    "duration": 31,
    "start_time": "2022-07-09T11:13:26.014Z"
   },
   {
    "duration": 191,
    "start_time": "2022-07-09T11:13:26.047Z"
   },
   {
    "duration": 197,
    "start_time": "2022-07-09T11:13:26.245Z"
   },
   {
    "duration": 16,
    "start_time": "2022-07-09T11:13:26.444Z"
   },
   {
    "duration": 20,
    "start_time": "2022-07-09T11:13:26.462Z"
   },
   {
    "duration": 15,
    "start_time": "2022-07-09T11:13:26.484Z"
   },
   {
    "duration": 16,
    "start_time": "2022-07-09T11:13:26.500Z"
   },
   {
    "duration": 36,
    "start_time": "2022-07-09T11:13:26.518Z"
   },
   {
    "duration": 10,
    "start_time": "2022-07-09T11:13:26.556Z"
   },
   {
    "duration": 28,
    "start_time": "2022-07-09T11:13:26.568Z"
   },
   {
    "duration": 28,
    "start_time": "2022-07-09T11:13:26.598Z"
   },
   {
    "duration": 10,
    "start_time": "2022-07-09T11:13:26.628Z"
   },
   {
    "duration": 15,
    "start_time": "2022-07-09T11:13:26.646Z"
   },
   {
    "duration": 32,
    "start_time": "2022-07-09T11:13:26.663Z"
   },
   {
    "duration": 16,
    "start_time": "2022-07-09T11:13:26.697Z"
   },
   {
    "duration": 16,
    "start_time": "2022-07-09T11:13:26.715Z"
   },
   {
    "duration": 18,
    "start_time": "2022-07-09T11:13:26.733Z"
   },
   {
    "duration": 8,
    "start_time": "2022-07-09T11:13:26.753Z"
   },
   {
    "duration": 9,
    "start_time": "2022-07-09T11:13:26.763Z"
   },
   {
    "duration": 7,
    "start_time": "2022-07-09T11:13:26.773Z"
   },
   {
    "duration": 13,
    "start_time": "2022-07-09T11:13:26.782Z"
   },
   {
    "duration": 23,
    "start_time": "2022-07-09T11:13:26.797Z"
   },
   {
    "duration": 5,
    "start_time": "2022-07-09T11:13:26.822Z"
   },
   {
    "duration": 5,
    "start_time": "2022-07-09T11:13:26.845Z"
   },
   {
    "duration": 7,
    "start_time": "2022-07-09T11:13:26.852Z"
   },
   {
    "duration": 9,
    "start_time": "2022-07-09T11:13:26.860Z"
   },
   {
    "duration": 11,
    "start_time": "2022-07-09T11:13:26.870Z"
   },
   {
    "duration": 1232,
    "start_time": "2022-07-09T11:15:09.833Z"
   },
   {
    "duration": 67,
    "start_time": "2022-07-09T11:15:11.068Z"
   },
   {
    "duration": 16,
    "start_time": "2022-07-09T11:15:11.137Z"
   },
   {
    "duration": 12,
    "start_time": "2022-07-09T11:15:11.155Z"
   },
   {
    "duration": 19,
    "start_time": "2022-07-09T11:15:11.168Z"
   },
   {
    "duration": 5,
    "start_time": "2022-07-09T11:15:11.189Z"
   },
   {
    "duration": 15,
    "start_time": "2022-07-09T11:15:11.196Z"
   },
   {
    "duration": 40,
    "start_time": "2022-07-09T11:15:11.213Z"
   },
   {
    "duration": 21,
    "start_time": "2022-07-09T11:15:11.255Z"
   },
   {
    "duration": 12,
    "start_time": "2022-07-09T11:15:11.279Z"
   },
   {
    "duration": 11,
    "start_time": "2022-07-09T11:15:11.293Z"
   },
   {
    "duration": 8,
    "start_time": "2022-07-09T11:15:11.306Z"
   },
   {
    "duration": 48,
    "start_time": "2022-07-09T11:15:11.316Z"
   },
   {
    "duration": 224,
    "start_time": "2022-07-09T11:15:11.366Z"
   },
   {
    "duration": 8,
    "start_time": "2022-07-09T11:15:11.592Z"
   },
   {
    "duration": 14,
    "start_time": "2022-07-09T11:15:11.602Z"
   },
   {
    "duration": 2,
    "start_time": "2022-07-09T11:15:11.618Z"
   },
   {
    "duration": 24,
    "start_time": "2022-07-09T11:15:11.622Z"
   },
   {
    "duration": 361,
    "start_time": "2022-07-09T11:15:11.647Z"
   },
   {
    "duration": 16,
    "start_time": "2022-07-09T11:15:12.009Z"
   },
   {
    "duration": 1769,
    "start_time": "2022-07-09T11:15:12.027Z"
   },
   {
    "duration": 21,
    "start_time": "2022-07-09T11:15:13.798Z"
   },
   {
    "duration": 28,
    "start_time": "2022-07-09T11:15:13.821Z"
   },
   {
    "duration": 277,
    "start_time": "2022-07-09T11:15:13.851Z"
   },
   {
    "duration": 21,
    "start_time": "2022-07-09T11:15:14.130Z"
   },
   {
    "duration": 1311,
    "start_time": "2022-07-09T11:15:14.152Z"
   },
   {
    "duration": 29,
    "start_time": "2022-07-09T11:15:15.464Z"
   },
   {
    "duration": 120,
    "start_time": "2022-07-09T11:15:15.498Z"
   },
   {
    "duration": 247,
    "start_time": "2022-07-09T11:15:15.620Z"
   },
   {
    "duration": 199,
    "start_time": "2022-07-09T11:15:15.868Z"
   },
   {
    "duration": 22,
    "start_time": "2022-07-09T11:15:16.069Z"
   },
   {
    "duration": 188,
    "start_time": "2022-07-09T11:15:16.093Z"
   },
   {
    "duration": 7,
    "start_time": "2022-07-09T11:15:16.283Z"
   },
   {
    "duration": 166,
    "start_time": "2022-07-09T11:15:16.292Z"
   },
   {
    "duration": 6,
    "start_time": "2022-07-09T11:15:16.461Z"
   },
   {
    "duration": 55,
    "start_time": "2022-07-09T11:15:16.469Z"
   },
   {
    "duration": 168,
    "start_time": "2022-07-09T11:15:16.526Z"
   },
   {
    "duration": 6,
    "start_time": "2022-07-09T11:15:16.696Z"
   },
   {
    "duration": 175,
    "start_time": "2022-07-09T11:15:16.704Z"
   },
   {
    "duration": 6,
    "start_time": "2022-07-09T11:15:16.882Z"
   },
   {
    "duration": 297,
    "start_time": "2022-07-09T11:15:16.890Z"
   },
   {
    "duration": 6,
    "start_time": "2022-07-09T11:15:17.189Z"
   },
   {
    "duration": 153,
    "start_time": "2022-07-09T11:15:17.197Z"
   },
   {
    "duration": 5,
    "start_time": "2022-07-09T11:15:17.352Z"
   },
   {
    "duration": 21,
    "start_time": "2022-07-09T11:15:17.359Z"
   },
   {
    "duration": 235,
    "start_time": "2022-07-09T11:15:17.382Z"
   },
   {
    "duration": 225,
    "start_time": "2022-07-09T11:15:17.620Z"
   },
   {
    "duration": 17,
    "start_time": "2022-07-09T11:15:17.847Z"
   },
   {
    "duration": 17,
    "start_time": "2022-07-09T11:15:17.866Z"
   },
   {
    "duration": 15,
    "start_time": "2022-07-09T11:15:17.885Z"
   },
   {
    "duration": 45,
    "start_time": "2022-07-09T11:15:17.902Z"
   },
   {
    "duration": 17,
    "start_time": "2022-07-09T11:15:17.949Z"
   },
   {
    "duration": 13,
    "start_time": "2022-07-09T11:15:17.968Z"
   },
   {
    "duration": 17,
    "start_time": "2022-07-09T11:15:17.983Z"
   },
   {
    "duration": 45,
    "start_time": "2022-07-09T11:15:18.002Z"
   },
   {
    "duration": 15,
    "start_time": "2022-07-09T11:15:18.049Z"
   },
   {
    "duration": 21,
    "start_time": "2022-07-09T11:15:18.066Z"
   },
   {
    "duration": 21,
    "start_time": "2022-07-09T11:15:18.089Z"
   },
   {
    "duration": 44,
    "start_time": "2022-07-09T11:15:18.112Z"
   },
   {
    "duration": 15,
    "start_time": "2022-07-09T11:15:18.158Z"
   },
   {
    "duration": 6,
    "start_time": "2022-07-09T11:15:18.175Z"
   },
   {
    "duration": 7,
    "start_time": "2022-07-09T11:15:18.183Z"
   },
   {
    "duration": 9,
    "start_time": "2022-07-09T11:15:18.192Z"
   },
   {
    "duration": 6,
    "start_time": "2022-07-09T11:15:18.203Z"
   },
   {
    "duration": 40,
    "start_time": "2022-07-09T11:15:18.211Z"
   },
   {
    "duration": 16,
    "start_time": "2022-07-09T11:15:18.253Z"
   },
   {
    "duration": 6,
    "start_time": "2022-07-09T11:15:18.271Z"
   },
   {
    "duration": 7,
    "start_time": "2022-07-09T11:15:18.279Z"
   },
   {
    "duration": 6,
    "start_time": "2022-07-09T11:15:18.288Z"
   },
   {
    "duration": 8,
    "start_time": "2022-07-09T11:15:18.296Z"
   },
   {
    "duration": 42,
    "start_time": "2022-07-09T11:15:18.306Z"
   }
  ],
  "kernelspec": {
   "display_name": "Python 3 (ipykernel)",
   "language": "python",
   "name": "python3"
  },
  "language_info": {
   "codemirror_mode": {
    "name": "ipython",
    "version": 3
   },
   "file_extension": ".py",
   "mimetype": "text/x-python",
   "name": "python",
   "nbconvert_exporter": "python",
   "pygments_lexer": "ipython3",
   "version": "3.9.5"
  },
  "toc": {
   "base_numbering": 1,
   "nav_menu": {},
   "number_sections": false,
   "sideBar": true,
   "skip_h1_title": true,
   "title_cell": "Table of Contents",
   "title_sidebar": "Contents",
   "toc_cell": false,
   "toc_position": {},
   "toc_section_display": true,
   "toc_window_display": true
  }
 },
 "nbformat": 4,
 "nbformat_minor": 2
}
