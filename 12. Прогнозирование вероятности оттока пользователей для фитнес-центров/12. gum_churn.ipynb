{
 "cells": [
  {
   "cell_type": "markdown",
   "metadata": {},
   "source": [
    "# Шаг 1. Знакомство с данными и предобработка"
   ]
  },
  {
   "cell_type": "markdown",
   "metadata": {},
   "source": [
    "**Наименование исследования:** \"Анализ причин оттока клиентов сети фитнес-центров «Культурист-датасаентист»\""
   ]
  },
  {
   "cell_type": "markdown",
   "metadata": {},
   "source": [
    "- **Цель исследования:** с помощью имеющихся данных предоставить рекомендацию руководству компании о причинах оттока клиентов, а также, предоставить обоснованные рекомендации, направленные на увеличение количества постоянных клиентов сети\n",
    "\n",
    "- **Задачи исследования:** с помощью анализа данных и методов машинного обучения построить модель, прогнозирующую отток клиентов, а также, провести анализ и выявить основные причины потерь прибыли сетью фитнес-центров"
   ]
  },
  {
   "cell_type": "markdown",
   "metadata": {},
   "source": [
    "\"Легенда\" к данным:\n",
    "Данные клиента за предыдущий до проверки факта оттока месяц:\n",
    "- 'gender' — пол;\n",
    "- 'Near_Location' — проживание или работа в районе, где находится фитнес-центр;\n",
    "- 'Partner' — сотрудник компании-партнёра клуба (сотрудничество с компаниями, чьи сотрудники могут получать скидки на абонемент, в таком случае фитнес-центр хранит информацию о работодателе клиента);\n",
    "- Promo_friends — факт первоначальной записи в рамках акции «приведи друга» (использовал промо-код от знакомого при оплате первого абонемента);\n",
    "- 'Phone' — наличие контактного телефона;\n",
    "- 'Age' — возраст;\n",
    "- ' Lifetime' — время с момента первого обращения в фитнес-центр (в месяцах).\n",
    "Информация на основе журнала посещений, покупок и информация о текущем статусе абонемента клиента:\n",
    "- 'Contract_period' — длительность текущего действующего абонемента (месяц, 6 месяцев, год);\n",
    "- 'Month_to_end_contract' — срок до окончания текущего действующего абонемента (в месяцах);\n",
    "- 'Group_visits' — факт посещения групповых занятий;\n",
    "- 'Avg_class_frequency_total' — средняя частота посещений в неделю за все время с начала действия абонемента;\n",
    "- 'Avg_class_frequency_current_month' — средняя частота посещений в неделю за предыдущий месяц;\n",
    "- 'Avg_additional_charges_total' — суммарная выручка от других услуг фитнес-центра: кафе, спорттовары, косметический и массажный салон.\n",
    "- 'Churn' — факт оттока в текущем месяце."
   ]
  },
  {
   "cell_type": "code",
   "execution_count": 1,
   "metadata": {},
   "outputs": [],
   "source": [
    "import pandas as pd\n",
    "import seaborn as sns\n",
    "import numpy as np\n",
    "from sklearn.preprocessing import StandardScaler\n",
    "from sklearn.model_selection import train_test_split\n",
    "from sklearn.linear_model import Lasso, Ridge\n",
    "from sklearn.tree import DecisionTreeRegressor\n",
    "from sklearn.ensemble import RandomForestRegressor, GradientBoostingRegressor\n",
    "import matplotlib.pyplot as plt\n",
    "from sklearn.metrics import mean_absolute_error, mean_squared_error, r2_score\n",
    "from scipy.cluster.hierarchy import dendrogram, linkage\n",
    "from sklearn.cluster import KMeans\n",
    "from sklearn.preprocessing import StandardScaler                                    \n",
    "from sklearn.model_selection import train_test_split                                \n",
    "from sklearn.linear_model import LogisticRegression                                \n",
    "from sklearn.metrics import roc_auc_score                                           \n",
    "from sklearn.metrics import accuracy_score, precision_score, recall_score, f1_score \n",
    "from sklearn.metrics import mean_absolute_error, mean_squared_error, r2_score\n",
    "from sklearn.ensemble import RandomForestRegressor, GradientBoostingRegressor\n",
    "from sklearn.ensemble import RandomForestClassifier\n",
    "import warnings\n",
    "warnings.filterwarnings('ignore')"
   ]
  },
  {
   "cell_type": "code",
   "execution_count": 2,
   "metadata": {},
   "outputs": [
    {
     "data": {
      "text/html": [
       "<div>\n",
       "<style scoped>\n",
       "    .dataframe tbody tr th:only-of-type {\n",
       "        vertical-align: middle;\n",
       "    }\n",
       "\n",
       "    .dataframe tbody tr th {\n",
       "        vertical-align: top;\n",
       "    }\n",
       "\n",
       "    .dataframe thead th {\n",
       "        text-align: right;\n",
       "    }\n",
       "</style>\n",
       "<table border=\"1\" class=\"dataframe\">\n",
       "  <thead>\n",
       "    <tr style=\"text-align: right;\">\n",
       "      <th></th>\n",
       "      <th>gender</th>\n",
       "      <th>Near_Location</th>\n",
       "      <th>Partner</th>\n",
       "      <th>Promo_friends</th>\n",
       "      <th>Phone</th>\n",
       "      <th>Contract_period</th>\n",
       "      <th>Group_visits</th>\n",
       "      <th>Age</th>\n",
       "      <th>Avg_additional_charges_total</th>\n",
       "      <th>Month_to_end_contract</th>\n",
       "      <th>Lifetime</th>\n",
       "      <th>Avg_class_frequency_total</th>\n",
       "      <th>Avg_class_frequency_current_month</th>\n",
       "      <th>Churn</th>\n",
       "    </tr>\n",
       "  </thead>\n",
       "  <tbody>\n",
       "    <tr>\n",
       "      <th>2781</th>\n",
       "      <td>1</td>\n",
       "      <td>1</td>\n",
       "      <td>0</td>\n",
       "      <td>0</td>\n",
       "      <td>1</td>\n",
       "      <td>1</td>\n",
       "      <td>1</td>\n",
       "      <td>30</td>\n",
       "      <td>185.701699</td>\n",
       "      <td>1.0</td>\n",
       "      <td>1</td>\n",
       "      <td>2.150959</td>\n",
       "      <td>2.173061</td>\n",
       "      <td>0</td>\n",
       "    </tr>\n",
       "    <tr>\n",
       "      <th>3825</th>\n",
       "      <td>1</td>\n",
       "      <td>1</td>\n",
       "      <td>0</td>\n",
       "      <td>0</td>\n",
       "      <td>1</td>\n",
       "      <td>1</td>\n",
       "      <td>0</td>\n",
       "      <td>28</td>\n",
       "      <td>32.029892</td>\n",
       "      <td>1.0</td>\n",
       "      <td>15</td>\n",
       "      <td>3.731020</td>\n",
       "      <td>3.809600</td>\n",
       "      <td>0</td>\n",
       "    </tr>\n",
       "    <tr>\n",
       "      <th>2605</th>\n",
       "      <td>1</td>\n",
       "      <td>0</td>\n",
       "      <td>0</td>\n",
       "      <td>0</td>\n",
       "      <td>1</td>\n",
       "      <td>1</td>\n",
       "      <td>0</td>\n",
       "      <td>31</td>\n",
       "      <td>290.594473</td>\n",
       "      <td>1.0</td>\n",
       "      <td>1</td>\n",
       "      <td>3.078771</td>\n",
       "      <td>3.151323</td>\n",
       "      <td>0</td>\n",
       "    </tr>\n",
       "    <tr>\n",
       "      <th>528</th>\n",
       "      <td>1</td>\n",
       "      <td>1</td>\n",
       "      <td>1</td>\n",
       "      <td>1</td>\n",
       "      <td>1</td>\n",
       "      <td>12</td>\n",
       "      <td>0</td>\n",
       "      <td>29</td>\n",
       "      <td>205.985294</td>\n",
       "      <td>12.0</td>\n",
       "      <td>4</td>\n",
       "      <td>4.077632</td>\n",
       "      <td>3.896860</td>\n",
       "      <td>0</td>\n",
       "    </tr>\n",
       "    <tr>\n",
       "      <th>1837</th>\n",
       "      <td>0</td>\n",
       "      <td>1</td>\n",
       "      <td>0</td>\n",
       "      <td>0</td>\n",
       "      <td>1</td>\n",
       "      <td>1</td>\n",
       "      <td>0</td>\n",
       "      <td>29</td>\n",
       "      <td>99.245578</td>\n",
       "      <td>1.0</td>\n",
       "      <td>1</td>\n",
       "      <td>1.357434</td>\n",
       "      <td>1.199090</td>\n",
       "      <td>1</td>\n",
       "    </tr>\n",
       "    <tr>\n",
       "      <th>2729</th>\n",
       "      <td>1</td>\n",
       "      <td>0</td>\n",
       "      <td>1</td>\n",
       "      <td>0</td>\n",
       "      <td>1</td>\n",
       "      <td>1</td>\n",
       "      <td>0</td>\n",
       "      <td>25</td>\n",
       "      <td>51.431734</td>\n",
       "      <td>1.0</td>\n",
       "      <td>4</td>\n",
       "      <td>0.854321</td>\n",
       "      <td>0.328792</td>\n",
       "      <td>1</td>\n",
       "    </tr>\n",
       "    <tr>\n",
       "      <th>2657</th>\n",
       "      <td>0</td>\n",
       "      <td>1</td>\n",
       "      <td>0</td>\n",
       "      <td>0</td>\n",
       "      <td>1</td>\n",
       "      <td>1</td>\n",
       "      <td>1</td>\n",
       "      <td>26</td>\n",
       "      <td>3.326196</td>\n",
       "      <td>1.0</td>\n",
       "      <td>0</td>\n",
       "      <td>2.220491</td>\n",
       "      <td>2.060425</td>\n",
       "      <td>1</td>\n",
       "    </tr>\n",
       "    <tr>\n",
       "      <th>3746</th>\n",
       "      <td>1</td>\n",
       "      <td>1</td>\n",
       "      <td>0</td>\n",
       "      <td>1</td>\n",
       "      <td>1</td>\n",
       "      <td>1</td>\n",
       "      <td>1</td>\n",
       "      <td>32</td>\n",
       "      <td>83.808096</td>\n",
       "      <td>1.0</td>\n",
       "      <td>3</td>\n",
       "      <td>2.176718</td>\n",
       "      <td>2.203311</td>\n",
       "      <td>0</td>\n",
       "    </tr>\n",
       "    <tr>\n",
       "      <th>3458</th>\n",
       "      <td>0</td>\n",
       "      <td>0</td>\n",
       "      <td>0</td>\n",
       "      <td>0</td>\n",
       "      <td>1</td>\n",
       "      <td>12</td>\n",
       "      <td>0</td>\n",
       "      <td>28</td>\n",
       "      <td>252.160476</td>\n",
       "      <td>12.0</td>\n",
       "      <td>5</td>\n",
       "      <td>1.956313</td>\n",
       "      <td>2.119239</td>\n",
       "      <td>0</td>\n",
       "    </tr>\n",
       "    <tr>\n",
       "      <th>3653</th>\n",
       "      <td>0</td>\n",
       "      <td>1</td>\n",
       "      <td>0</td>\n",
       "      <td>0</td>\n",
       "      <td>1</td>\n",
       "      <td>6</td>\n",
       "      <td>1</td>\n",
       "      <td>30</td>\n",
       "      <td>77.146346</td>\n",
       "      <td>6.0</td>\n",
       "      <td>3</td>\n",
       "      <td>3.211115</td>\n",
       "      <td>3.086580</td>\n",
       "      <td>0</td>\n",
       "    </tr>\n",
       "  </tbody>\n",
       "</table>\n",
       "</div>"
      ],
      "text/plain": [
       "      gender  Near_Location  Partner  Promo_friends  Phone  Contract_period  \\\n",
       "2781       1              1        0              0      1                1   \n",
       "3825       1              1        0              0      1                1   \n",
       "2605       1              0        0              0      1                1   \n",
       "528        1              1        1              1      1               12   \n",
       "1837       0              1        0              0      1                1   \n",
       "2729       1              0        1              0      1                1   \n",
       "2657       0              1        0              0      1                1   \n",
       "3746       1              1        0              1      1                1   \n",
       "3458       0              0        0              0      1               12   \n",
       "3653       0              1        0              0      1                6   \n",
       "\n",
       "      Group_visits  Age  Avg_additional_charges_total  Month_to_end_contract  \\\n",
       "2781             1   30                    185.701699                    1.0   \n",
       "3825             0   28                     32.029892                    1.0   \n",
       "2605             0   31                    290.594473                    1.0   \n",
       "528              0   29                    205.985294                   12.0   \n",
       "1837             0   29                     99.245578                    1.0   \n",
       "2729             0   25                     51.431734                    1.0   \n",
       "2657             1   26                      3.326196                    1.0   \n",
       "3746             1   32                     83.808096                    1.0   \n",
       "3458             0   28                    252.160476                   12.0   \n",
       "3653             1   30                     77.146346                    6.0   \n",
       "\n",
       "      Lifetime  Avg_class_frequency_total  Avg_class_frequency_current_month  \\\n",
       "2781         1                   2.150959                           2.173061   \n",
       "3825        15                   3.731020                           3.809600   \n",
       "2605         1                   3.078771                           3.151323   \n",
       "528          4                   4.077632                           3.896860   \n",
       "1837         1                   1.357434                           1.199090   \n",
       "2729         4                   0.854321                           0.328792   \n",
       "2657         0                   2.220491                           2.060425   \n",
       "3746         3                   2.176718                           2.203311   \n",
       "3458         5                   1.956313                           2.119239   \n",
       "3653         3                   3.211115                           3.086580   \n",
       "\n",
       "      Churn  \n",
       "2781      0  \n",
       "3825      0  \n",
       "2605      0  \n",
       "528       0  \n",
       "1837      1  \n",
       "2729      1  \n",
       "2657      1  \n",
       "3746      0  \n",
       "3458      0  \n",
       "3653      0  "
      ]
     },
     "execution_count": 2,
     "metadata": {},
     "output_type": "execute_result"
    }
   ],
   "source": [
    "data = pd.read_csv('/datasets/gym_churn.csv', sep=',')\n",
    "data.sample(10)"
   ]
  },
  {
   "cell_type": "markdown",
   "metadata": {},
   "source": [
    "Проверим типы данных:"
   ]
  },
  {
   "cell_type": "code",
   "execution_count": 3,
   "metadata": {},
   "outputs": [
    {
     "name": "stdout",
     "output_type": "stream",
     "text": [
      "<class 'pandas.core.frame.DataFrame'>\n",
      "RangeIndex: 4000 entries, 0 to 3999\n",
      "Data columns (total 14 columns):\n",
      " #   Column                             Non-Null Count  Dtype  \n",
      "---  ------                             --------------  -----  \n",
      " 0   gender                             4000 non-null   int64  \n",
      " 1   Near_Location                      4000 non-null   int64  \n",
      " 2   Partner                            4000 non-null   int64  \n",
      " 3   Promo_friends                      4000 non-null   int64  \n",
      " 4   Phone                              4000 non-null   int64  \n",
      " 5   Contract_period                    4000 non-null   int64  \n",
      " 6   Group_visits                       4000 non-null   int64  \n",
      " 7   Age                                4000 non-null   int64  \n",
      " 8   Avg_additional_charges_total       4000 non-null   float64\n",
      " 9   Month_to_end_contract              4000 non-null   float64\n",
      " 10  Lifetime                           4000 non-null   int64  \n",
      " 11  Avg_class_frequency_total          4000 non-null   float64\n",
      " 12  Avg_class_frequency_current_month  4000 non-null   float64\n",
      " 13  Churn                              4000 non-null   int64  \n",
      "dtypes: float64(4), int64(10)\n",
      "memory usage: 437.6 KB\n"
     ]
    }
   ],
   "source": [
    "data.info()"
   ]
  },
  {
   "cell_type": "markdown",
   "metadata": {},
   "source": [
    "С типами данных все хорошо. Немного \"выбивается\" 6 знаков после запятой в некоторых столбцах, но поскольку нельзя гарантированно сказать, что нам не нужна такая точность, как-то округлять или менять тип на int не склоняюсь. В столбце, который содержит количество месяцев до окончания договора методом unique() \"дробных\" значений замечено не было, переведем его в int для удобства восприятия"
   ]
  },
  {
   "cell_type": "code",
   "execution_count": 4,
   "metadata": {},
   "outputs": [],
   "source": [
    "data['Month_to_end_contract'] = data['Month_to_end_contract'].astype('int')"
   ]
  },
  {
   "cell_type": "code",
   "execution_count": 5,
   "metadata": {},
   "outputs": [
    {
     "name": "stdout",
     "output_type": "stream",
     "text": [
      "<class 'pandas.core.frame.DataFrame'>\n",
      "RangeIndex: 4000 entries, 0 to 3999\n",
      "Data columns (total 14 columns):\n",
      " #   Column                             Non-Null Count  Dtype  \n",
      "---  ------                             --------------  -----  \n",
      " 0   gender                             4000 non-null   int64  \n",
      " 1   Near_Location                      4000 non-null   int64  \n",
      " 2   Partner                            4000 non-null   int64  \n",
      " 3   Promo_friends                      4000 non-null   int64  \n",
      " 4   Phone                              4000 non-null   int64  \n",
      " 5   Contract_period                    4000 non-null   int64  \n",
      " 6   Group_visits                       4000 non-null   int64  \n",
      " 7   Age                                4000 non-null   int64  \n",
      " 8   Avg_additional_charges_total       4000 non-null   float64\n",
      " 9   Month_to_end_contract              4000 non-null   int64  \n",
      " 10  Lifetime                           4000 non-null   int64  \n",
      " 11  Avg_class_frequency_total          4000 non-null   float64\n",
      " 12  Avg_class_frequency_current_month  4000 non-null   float64\n",
      " 13  Churn                              4000 non-null   int64  \n",
      "dtypes: float64(3), int64(11)\n",
      "memory usage: 437.6 KB\n"
     ]
    }
   ],
   "source": [
    "data.info()"
   ]
  },
  {
   "cell_type": "markdown",
   "metadata": {},
   "source": [
    "Проверим пропуски и дубликаты:"
   ]
  },
  {
   "cell_type": "code",
   "execution_count": 6,
   "metadata": {},
   "outputs": [
    {
     "data": {
      "text/plain": [
       "gender                               0\n",
       "Near_Location                        0\n",
       "Partner                              0\n",
       "Promo_friends                        0\n",
       "Phone                                0\n",
       "Contract_period                      0\n",
       "Group_visits                         0\n",
       "Age                                  0\n",
       "Avg_additional_charges_total         0\n",
       "Month_to_end_contract                0\n",
       "Lifetime                             0\n",
       "Avg_class_frequency_total            0\n",
       "Avg_class_frequency_current_month    0\n",
       "Churn                                0\n",
       "dtype: int64"
      ]
     },
     "execution_count": 6,
     "metadata": {},
     "output_type": "execute_result"
    }
   ],
   "source": [
    "data.isna().sum()"
   ]
  },
  {
   "cell_type": "code",
   "execution_count": 7,
   "metadata": {},
   "outputs": [
    {
     "data": {
      "text/plain": [
       "0"
      ]
     },
     "execution_count": 7,
     "metadata": {},
     "output_type": "execute_result"
    }
   ],
   "source": [
    "data.duplicated().sum()"
   ]
  },
  {
   "cell_type": "markdown",
   "metadata": {},
   "source": [
    "Дубликаты и пропуски не обнаружены"
   ]
  },
  {
   "cell_type": "markdown",
   "metadata": {},
   "source": [
    "Названия столбцов написаны не змеиным регистром, что не очень хорошо (точнее, не всех столбцов). Целесообразно поправить:"
   ]
  },
  {
   "cell_type": "code",
   "execution_count": 8,
   "metadata": {
    "scrolled": true
   },
   "outputs": [
    {
     "data": {
      "text/plain": [
       "['gender',\n",
       " 'near_location',\n",
       " 'partner',\n",
       " 'promo_friends',\n",
       " 'phone',\n",
       " 'contract_period',\n",
       " 'group_visits',\n",
       " 'age',\n",
       " 'avg_additional_charges_total',\n",
       " 'month_to_end_contract',\n",
       " 'lifetime',\n",
       " 'avg_class_frequency_total',\n",
       " 'avg_class_frequency_current_month',\n",
       " 'churn']"
      ]
     },
     "metadata": {},
     "output_type": "display_data"
    }
   ],
   "source": [
    "data.columns = data.columns.str.lower()\n",
    "display(data.columns.tolist())"
   ]
  },
  {
   "cell_type": "markdown",
   "metadata": {},
   "source": [
    "**Вывод:** трудоемкая предобработка данных не потребовалась. Из недочетов в данных можно выделить только немного \"некрасивое\" наименование столбцов, а также, тип данных float, где фактически использовались целые значения."
   ]
  },
  {
   "cell_type": "markdown",
   "metadata": {},
   "source": [
    "# Шаг 2. Исследовательский анализ данных"
   ]
  },
  {
   "cell_type": "markdown",
   "metadata": {},
   "source": [
    "## 2.1. Изучение средних значений и стандартных отклонений"
   ]
  },
  {
   "cell_type": "code",
   "execution_count": 9,
   "metadata": {},
   "outputs": [
    {
     "data": {
      "text/html": [
       "<div>\n",
       "<style scoped>\n",
       "    .dataframe tbody tr th:only-of-type {\n",
       "        vertical-align: middle;\n",
       "    }\n",
       "\n",
       "    .dataframe tbody tr th {\n",
       "        vertical-align: top;\n",
       "    }\n",
       "\n",
       "    .dataframe thead th {\n",
       "        text-align: right;\n",
       "    }\n",
       "</style>\n",
       "<table border=\"1\" class=\"dataframe\">\n",
       "  <thead>\n",
       "    <tr style=\"text-align: right;\">\n",
       "      <th></th>\n",
       "      <th>gender</th>\n",
       "      <th>near_location</th>\n",
       "      <th>partner</th>\n",
       "      <th>promo_friends</th>\n",
       "      <th>phone</th>\n",
       "      <th>contract_period</th>\n",
       "      <th>group_visits</th>\n",
       "      <th>age</th>\n",
       "      <th>avg_additional_charges_total</th>\n",
       "      <th>month_to_end_contract</th>\n",
       "      <th>lifetime</th>\n",
       "      <th>avg_class_frequency_total</th>\n",
       "      <th>avg_class_frequency_current_month</th>\n",
       "      <th>churn</th>\n",
       "    </tr>\n",
       "  </thead>\n",
       "  <tbody>\n",
       "    <tr>\n",
       "      <th>count</th>\n",
       "      <td>4000.000000</td>\n",
       "      <td>4000.000000</td>\n",
       "      <td>4000.000000</td>\n",
       "      <td>4000.000000</td>\n",
       "      <td>4000.000000</td>\n",
       "      <td>4000.000000</td>\n",
       "      <td>4000.000000</td>\n",
       "      <td>4000.000000</td>\n",
       "      <td>4000.000000</td>\n",
       "      <td>4000.000000</td>\n",
       "      <td>4000.000000</td>\n",
       "      <td>4000.000000</td>\n",
       "      <td>4000.000000</td>\n",
       "      <td>4000.000000</td>\n",
       "    </tr>\n",
       "    <tr>\n",
       "      <th>mean</th>\n",
       "      <td>0.510250</td>\n",
       "      <td>0.845250</td>\n",
       "      <td>0.486750</td>\n",
       "      <td>0.308500</td>\n",
       "      <td>0.903500</td>\n",
       "      <td>4.681250</td>\n",
       "      <td>0.412250</td>\n",
       "      <td>29.184250</td>\n",
       "      <td>146.943728</td>\n",
       "      <td>4.322750</td>\n",
       "      <td>3.724750</td>\n",
       "      <td>1.879020</td>\n",
       "      <td>1.767052</td>\n",
       "      <td>0.265250</td>\n",
       "    </tr>\n",
       "    <tr>\n",
       "      <th>std</th>\n",
       "      <td>0.499957</td>\n",
       "      <td>0.361711</td>\n",
       "      <td>0.499887</td>\n",
       "      <td>0.461932</td>\n",
       "      <td>0.295313</td>\n",
       "      <td>4.549706</td>\n",
       "      <td>0.492301</td>\n",
       "      <td>3.258367</td>\n",
       "      <td>96.355602</td>\n",
       "      <td>4.191297</td>\n",
       "      <td>3.749267</td>\n",
       "      <td>0.972245</td>\n",
       "      <td>1.052906</td>\n",
       "      <td>0.441521</td>\n",
       "    </tr>\n",
       "    <tr>\n",
       "      <th>min</th>\n",
       "      <td>0.000000</td>\n",
       "      <td>0.000000</td>\n",
       "      <td>0.000000</td>\n",
       "      <td>0.000000</td>\n",
       "      <td>0.000000</td>\n",
       "      <td>1.000000</td>\n",
       "      <td>0.000000</td>\n",
       "      <td>18.000000</td>\n",
       "      <td>0.148205</td>\n",
       "      <td>1.000000</td>\n",
       "      <td>0.000000</td>\n",
       "      <td>0.000000</td>\n",
       "      <td>0.000000</td>\n",
       "      <td>0.000000</td>\n",
       "    </tr>\n",
       "    <tr>\n",
       "      <th>25%</th>\n",
       "      <td>0.000000</td>\n",
       "      <td>1.000000</td>\n",
       "      <td>0.000000</td>\n",
       "      <td>0.000000</td>\n",
       "      <td>1.000000</td>\n",
       "      <td>1.000000</td>\n",
       "      <td>0.000000</td>\n",
       "      <td>27.000000</td>\n",
       "      <td>68.868830</td>\n",
       "      <td>1.000000</td>\n",
       "      <td>1.000000</td>\n",
       "      <td>1.180875</td>\n",
       "      <td>0.963003</td>\n",
       "      <td>0.000000</td>\n",
       "    </tr>\n",
       "    <tr>\n",
       "      <th>50%</th>\n",
       "      <td>1.000000</td>\n",
       "      <td>1.000000</td>\n",
       "      <td>0.000000</td>\n",
       "      <td>0.000000</td>\n",
       "      <td>1.000000</td>\n",
       "      <td>1.000000</td>\n",
       "      <td>0.000000</td>\n",
       "      <td>29.000000</td>\n",
       "      <td>136.220159</td>\n",
       "      <td>1.000000</td>\n",
       "      <td>3.000000</td>\n",
       "      <td>1.832768</td>\n",
       "      <td>1.719574</td>\n",
       "      <td>0.000000</td>\n",
       "    </tr>\n",
       "    <tr>\n",
       "      <th>75%</th>\n",
       "      <td>1.000000</td>\n",
       "      <td>1.000000</td>\n",
       "      <td>1.000000</td>\n",
       "      <td>1.000000</td>\n",
       "      <td>1.000000</td>\n",
       "      <td>6.000000</td>\n",
       "      <td>1.000000</td>\n",
       "      <td>31.000000</td>\n",
       "      <td>210.949625</td>\n",
       "      <td>6.000000</td>\n",
       "      <td>5.000000</td>\n",
       "      <td>2.536078</td>\n",
       "      <td>2.510336</td>\n",
       "      <td>1.000000</td>\n",
       "    </tr>\n",
       "    <tr>\n",
       "      <th>max</th>\n",
       "      <td>1.000000</td>\n",
       "      <td>1.000000</td>\n",
       "      <td>1.000000</td>\n",
       "      <td>1.000000</td>\n",
       "      <td>1.000000</td>\n",
       "      <td>12.000000</td>\n",
       "      <td>1.000000</td>\n",
       "      <td>41.000000</td>\n",
       "      <td>552.590740</td>\n",
       "      <td>12.000000</td>\n",
       "      <td>31.000000</td>\n",
       "      <td>6.023668</td>\n",
       "      <td>6.146783</td>\n",
       "      <td>1.000000</td>\n",
       "    </tr>\n",
       "  </tbody>\n",
       "</table>\n",
       "</div>"
      ],
      "text/plain": [
       "            gender  near_location      partner  promo_friends        phone  \\\n",
       "count  4000.000000    4000.000000  4000.000000    4000.000000  4000.000000   \n",
       "mean      0.510250       0.845250     0.486750       0.308500     0.903500   \n",
       "std       0.499957       0.361711     0.499887       0.461932     0.295313   \n",
       "min       0.000000       0.000000     0.000000       0.000000     0.000000   \n",
       "25%       0.000000       1.000000     0.000000       0.000000     1.000000   \n",
       "50%       1.000000       1.000000     0.000000       0.000000     1.000000   \n",
       "75%       1.000000       1.000000     1.000000       1.000000     1.000000   \n",
       "max       1.000000       1.000000     1.000000       1.000000     1.000000   \n",
       "\n",
       "       contract_period  group_visits          age  \\\n",
       "count      4000.000000   4000.000000  4000.000000   \n",
       "mean          4.681250      0.412250    29.184250   \n",
       "std           4.549706      0.492301     3.258367   \n",
       "min           1.000000      0.000000    18.000000   \n",
       "25%           1.000000      0.000000    27.000000   \n",
       "50%           1.000000      0.000000    29.000000   \n",
       "75%           6.000000      1.000000    31.000000   \n",
       "max          12.000000      1.000000    41.000000   \n",
       "\n",
       "       avg_additional_charges_total  month_to_end_contract     lifetime  \\\n",
       "count                   4000.000000            4000.000000  4000.000000   \n",
       "mean                     146.943728               4.322750     3.724750   \n",
       "std                       96.355602               4.191297     3.749267   \n",
       "min                        0.148205               1.000000     0.000000   \n",
       "25%                       68.868830               1.000000     1.000000   \n",
       "50%                      136.220159               1.000000     3.000000   \n",
       "75%                      210.949625               6.000000     5.000000   \n",
       "max                      552.590740              12.000000    31.000000   \n",
       "\n",
       "       avg_class_frequency_total  avg_class_frequency_current_month  \\\n",
       "count                4000.000000                        4000.000000   \n",
       "mean                    1.879020                           1.767052   \n",
       "std                     0.972245                           1.052906   \n",
       "min                     0.000000                           0.000000   \n",
       "25%                     1.180875                           0.963003   \n",
       "50%                     1.832768                           1.719574   \n",
       "75%                     2.536078                           2.510336   \n",
       "max                     6.023668                           6.146783   \n",
       "\n",
       "             churn  \n",
       "count  4000.000000  \n",
       "mean      0.265250  \n",
       "std       0.441521  \n",
       "min       0.000000  \n",
       "25%       0.000000  \n",
       "50%       0.000000  \n",
       "75%       1.000000  \n",
       "max       1.000000  "
      ]
     },
     "execution_count": 9,
     "metadata": {},
     "output_type": "execute_result"
    }
   ],
   "source": [
    "data.describe()"
   ]
  },
  {
   "cell_type": "markdown",
   "metadata": {},
   "source": [
    "**Основные тезисы по итогам изучения средних значений:**\n",
    "- по гендерному признаку количество клиентов примерно равное\n",
    "- для 84% клиентов фитнес-клуб имеет территориально удобное расположение \n",
    "- без малого 50% клиентов являются сотрудниками компании-партнёра клуба\n",
    "- акция «приведи друга» принесла клубу 30% клиентов от общего числа\n",
    "- подавляющее большинство клиентов (90%) готовы оставить свой контактный телефон\n",
    "- средний возраст клиента составляет 29 лет\n",
    "- \"лайфтайм\" составляет 3,7 месяца\n",
    "- длительность абонемента составляет 4,68 месяца\n",
    "- до окончания договора в среднем 4,3 месяца\n",
    "- 41% клиентов посещает групповые занятия\n",
    "- среднее количество посещений клуба в неделю составляет \"почти\" 2 раза (1,87)\n",
    "- если оценивать количество еженедельных посещений в разрезе прошлого месяца - чуть меньше (1,76)\n",
    "- средний чек на дополнительные услуги составляет 147 (вероятнее всего долларов, в аннотации валюта не указана)\n",
    "- отток за рассмотренный период (месяц) составил 26%"
   ]
  },
  {
   "cell_type": "markdown",
   "metadata": {},
   "source": [
    "\"Из ряда вон выходящее значение\" стандартного отклонения наблюдается в столбце avg_additional_charges_total - 96,3. В остальных разброс значений от 0.3 до 4"
   ]
  },
  {
   "cell_type": "markdown",
   "metadata": {},
   "source": [
    "Для удобства или возможного повторного исследования можно собрать требуемые параметры в отдельной переменной:"
   ]
  },
  {
   "cell_type": "code",
   "execution_count": 10,
   "metadata": {},
   "outputs": [
    {
     "data": {
      "text/html": [
       "<div>\n",
       "<style scoped>\n",
       "    .dataframe tbody tr th:only-of-type {\n",
       "        vertical-align: middle;\n",
       "    }\n",
       "\n",
       "    .dataframe tbody tr th {\n",
       "        vertical-align: top;\n",
       "    }\n",
       "\n",
       "    .dataframe thead th {\n",
       "        text-align: right;\n",
       "    }\n",
       "</style>\n",
       "<table border=\"1\" class=\"dataframe\">\n",
       "  <thead>\n",
       "    <tr style=\"text-align: right;\">\n",
       "      <th></th>\n",
       "      <th>gender</th>\n",
       "      <th>near_location</th>\n",
       "      <th>partner</th>\n",
       "      <th>promo_friends</th>\n",
       "      <th>phone</th>\n",
       "      <th>contract_period</th>\n",
       "      <th>group_visits</th>\n",
       "      <th>age</th>\n",
       "      <th>avg_additional_charges_total</th>\n",
       "      <th>month_to_end_contract</th>\n",
       "      <th>lifetime</th>\n",
       "      <th>avg_class_frequency_total</th>\n",
       "      <th>avg_class_frequency_current_month</th>\n",
       "      <th>churn</th>\n",
       "    </tr>\n",
       "  </thead>\n",
       "  <tbody>\n",
       "    <tr>\n",
       "      <th>mean</th>\n",
       "      <td>0.510250</td>\n",
       "      <td>0.845250</td>\n",
       "      <td>0.486750</td>\n",
       "      <td>0.308500</td>\n",
       "      <td>0.903500</td>\n",
       "      <td>4.681250</td>\n",
       "      <td>0.412250</td>\n",
       "      <td>29.184250</td>\n",
       "      <td>146.943728</td>\n",
       "      <td>4.322750</td>\n",
       "      <td>3.724750</td>\n",
       "      <td>1.879020</td>\n",
       "      <td>1.767052</td>\n",
       "      <td>0.265250</td>\n",
       "    </tr>\n",
       "    <tr>\n",
       "      <th>std</th>\n",
       "      <td>0.499957</td>\n",
       "      <td>0.361711</td>\n",
       "      <td>0.499887</td>\n",
       "      <td>0.461932</td>\n",
       "      <td>0.295313</td>\n",
       "      <td>4.549706</td>\n",
       "      <td>0.492301</td>\n",
       "      <td>3.258367</td>\n",
       "      <td>96.355602</td>\n",
       "      <td>4.191297</td>\n",
       "      <td>3.749267</td>\n",
       "      <td>0.972245</td>\n",
       "      <td>1.052906</td>\n",
       "      <td>0.441521</td>\n",
       "    </tr>\n",
       "  </tbody>\n",
       "</table>\n",
       "</div>"
      ],
      "text/plain": [
       "        gender  near_location   partner  promo_friends     phone  \\\n",
       "mean  0.510250       0.845250  0.486750       0.308500  0.903500   \n",
       "std   0.499957       0.361711  0.499887       0.461932  0.295313   \n",
       "\n",
       "      contract_period  group_visits        age  avg_additional_charges_total  \\\n",
       "mean         4.681250      0.412250  29.184250                    146.943728   \n",
       "std          4.549706      0.492301   3.258367                     96.355602   \n",
       "\n",
       "      month_to_end_contract  lifetime  avg_class_frequency_total  \\\n",
       "mean               4.322750  3.724750                   1.879020   \n",
       "std                4.191297  3.749267                   0.972245   \n",
       "\n",
       "      avg_class_frequency_current_month     churn  \n",
       "mean                           1.767052  0.265250  \n",
       "std                            1.052906  0.441521  "
      ]
     },
     "execution_count": 10,
     "metadata": {},
     "output_type": "execute_result"
    }
   ],
   "source": [
    "mean_and_std = data.agg(['mean','std'])\n",
    "mean_and_std"
   ]
  },
  {
   "cell_type": "markdown",
   "metadata": {},
   "source": [
    "## 2.2. Изучение средних значений признаков в двух группах"
   ]
  },
  {
   "cell_type": "code",
   "execution_count": 11,
   "metadata": {},
   "outputs": [
    {
     "data": {
      "text/html": [
       "<div>\n",
       "<style scoped>\n",
       "    .dataframe tbody tr th:only-of-type {\n",
       "        vertical-align: middle;\n",
       "    }\n",
       "\n",
       "    .dataframe tbody tr th {\n",
       "        vertical-align: top;\n",
       "    }\n",
       "\n",
       "    .dataframe thead th {\n",
       "        text-align: right;\n",
       "    }\n",
       "</style>\n",
       "<table border=\"1\" class=\"dataframe\">\n",
       "  <thead>\n",
       "    <tr style=\"text-align: right;\">\n",
       "      <th></th>\n",
       "      <th>gender</th>\n",
       "      <th>near_location</th>\n",
       "      <th>partner</th>\n",
       "      <th>promo_friends</th>\n",
       "      <th>phone</th>\n",
       "      <th>contract_period</th>\n",
       "      <th>group_visits</th>\n",
       "      <th>age</th>\n",
       "      <th>avg_additional_charges_total</th>\n",
       "      <th>month_to_end_contract</th>\n",
       "      <th>lifetime</th>\n",
       "      <th>avg_class_frequency_total</th>\n",
       "      <th>avg_class_frequency_current_month</th>\n",
       "    </tr>\n",
       "    <tr>\n",
       "      <th>churn</th>\n",
       "      <th></th>\n",
       "      <th></th>\n",
       "      <th></th>\n",
       "      <th></th>\n",
       "      <th></th>\n",
       "      <th></th>\n",
       "      <th></th>\n",
       "      <th></th>\n",
       "      <th></th>\n",
       "      <th></th>\n",
       "      <th></th>\n",
       "      <th></th>\n",
       "      <th></th>\n",
       "    </tr>\n",
       "  </thead>\n",
       "  <tbody>\n",
       "    <tr>\n",
       "      <th>0</th>\n",
       "      <td>0.510037</td>\n",
       "      <td>0.873086</td>\n",
       "      <td>0.534195</td>\n",
       "      <td>0.353522</td>\n",
       "      <td>0.903709</td>\n",
       "      <td>5.747193</td>\n",
       "      <td>0.464103</td>\n",
       "      <td>29.976523</td>\n",
       "      <td>158.445715</td>\n",
       "      <td>5.283089</td>\n",
       "      <td>4.711807</td>\n",
       "      <td>2.024876</td>\n",
       "      <td>2.027882</td>\n",
       "    </tr>\n",
       "    <tr>\n",
       "      <th>1</th>\n",
       "      <td>0.510839</td>\n",
       "      <td>0.768143</td>\n",
       "      <td>0.355325</td>\n",
       "      <td>0.183789</td>\n",
       "      <td>0.902922</td>\n",
       "      <td>1.728558</td>\n",
       "      <td>0.268615</td>\n",
       "      <td>26.989632</td>\n",
       "      <td>115.082899</td>\n",
       "      <td>1.662582</td>\n",
       "      <td>0.990575</td>\n",
       "      <td>1.474995</td>\n",
       "      <td>1.044546</td>\n",
       "    </tr>\n",
       "  </tbody>\n",
       "</table>\n",
       "</div>"
      ],
      "text/plain": [
       "         gender  near_location   partner  promo_friends     phone  \\\n",
       "churn                                                               \n",
       "0      0.510037       0.873086  0.534195       0.353522  0.903709   \n",
       "1      0.510839       0.768143  0.355325       0.183789  0.902922   \n",
       "\n",
       "       contract_period  group_visits        age  avg_additional_charges_total  \\\n",
       "churn                                                                           \n",
       "0             5.747193      0.464103  29.976523                    158.445715   \n",
       "1             1.728558      0.268615  26.989632                    115.082899   \n",
       "\n",
       "       month_to_end_contract  lifetime  avg_class_frequency_total  \\\n",
       "churn                                                               \n",
       "0                   5.283089  4.711807                   2.024876   \n",
       "1                   1.662582  0.990575                   1.474995   \n",
       "\n",
       "       avg_class_frequency_current_month  \n",
       "churn                                     \n",
       "0                               2.027882  \n",
       "1                               1.044546  "
      ]
     },
     "execution_count": 11,
     "metadata": {},
     "output_type": "execute_result"
    }
   ],
   "source": [
    "outflow_mean = data.groupby('churn').mean()\n",
    "outflow_mean"
   ]
  },
  {
   "cell_type": "markdown",
   "metadata": {},
   "source": [
    "**Основные тезисы:**\n",
    "- нет связи между полом клиента и фактом его удержания/оттока - уходят половну как мужчин, так и женщин\n",
    "- клиенты, фитнес-центр для которых территориально удобен уходят реже\n",
    "- отток среди тех, кто пришел по партнерской программе составил 35%\n",
    "- отток среди тех, кто пришел по рекомендации действующих клиентов составил 18%\n",
    "- нет связи оттока и предоставлением номера телефона, показатели одинаковые - 90% у обоих групп\n",
    "- у многих покинувших клуб клиентов срок договора был менее 2-х месяцев. Закрадывается мысль, что пролонгация им не была интересна\n",
    "- среди ушедших было значительно более худшее посещение групповых занятий, почти в 2 раза реже по сравнению с действующими клиентами\n",
    "- возраст ушедших клиентов на 3 года моложе оставшихся (но в целом из одной категории)\n",
    "- дополнительные услуги более охотно приобретаются действующими клиентами (158 против 115)\n",
    "- у ушедших клиентов в среднем договор истекает в течение 1,5 месяцев\n",
    "- люди покидают зал спустя менее месяца с момента обращения (лайфтайм). Возможно, какой-то компонент деятельности \"негативно\" влияет на новичков\n",
    "- те клиенты, что ушли ходили реже, чем постоянные клиенты\n",
    "- частота посещений в разрезе месяца у ушедших клиентов была в 2 раза реже"
   ]
  },
  {
   "cell_type": "markdown",
   "metadata": {},
   "source": [
    "## 2.3. Построение столбчатых гистограмм и распределения признаков для тех, кто ушёл (отток) и тех, кто остался (не попали в отток)"
   ]
  },
  {
   "cell_type": "code",
   "execution_count": 12,
   "metadata": {},
   "outputs": [],
   "source": [
    "current_clients = data.query('churn == 0')\n",
    "departed_clients = data.query('churn == 1')"
   ]
  },
  {
   "cell_type": "code",
   "execution_count": 13,
   "metadata": {},
   "outputs": [
    {
     "data": {
      "text/plain": [
       "Index(['age', 'avg_additional_charges_total', 'month_to_end_contract',\n",
       "       'lifetime', 'avg_class_frequency_total',\n",
       "       'avg_class_frequency_current_month'],\n",
       "      dtype='object')"
      ]
     },
     "execution_count": 13,
     "metadata": {},
     "output_type": "execute_result"
    }
   ],
   "source": [
    "data_hist = data.drop(columns =(['gender', 'near_location', \n",
    "                              'partner','promo_friends', 'phone',\n",
    "                              'group_visits', 'contract_period', 'churn'])).columns\n",
    "data_hist"
   ]
  },
  {
   "cell_type": "code",
   "execution_count": 14,
   "metadata": {
    "scrolled": false
   },
   "outputs": [
    {
     "data": {
      "image/png": "[encoded data removed]",
      "text/plain": [
       "<Figure size 1080x720 with 1 Axes>"
      ]
     },
     "metadata": {
      "needs_background": "light"
     },
     "output_type": "display_data"
    },
    {
     "data": {
      "image/png": "[encoded data removed]",
      "text/plain": [
       "<Figure size 1080x720 with 1 Axes>"
      ]
     },
     "metadata": {
      "needs_background": "light"
     },
     "output_type": "display_data"
    },
    {
     "data": {
      "image/png": "[encoded data removed]",
      "text/plain": [
       "<Figure size 1080x720 with 1 Axes>"
      ]
     },
     "metadata": {
      "needs_background": "light"
     },
     "output_type": "display_data"
    },
    {
     "data": {
      "image/png": "[encoded data removed]",
      "text/plain": [
       "<Figure size 1080x720 with 1 Axes>"
      ]
     },
     "metadata": {
      "needs_background": "light"
     },
     "output_type": "display_data"
    },
    {
     "data": {
      "image/png": "[encoded data removed]",
      "text/plain": [
       "<Figure size 1080x720 with 1 Axes>"
      ]
     },
     "metadata": {
      "needs_background": "light"
     },
     "output_type": "display_data"
    },
    {
     "data": {
      "image/png": "[encoded data removed]",
      "text/plain": [
       "<Figure size 1080x720 with 1 Axes>"
      ]
     },
     "metadata": {
      "needs_background": "light"
     },
     "output_type": "display_data"
    }
   ],
   "source": [
    "for col in data_hist:\n",
    "    plt.figure(figsize=(15, 10))\n",
    "    sns.distplot(current_clients[col])\n",
    "    sns.distplot(departed_clients[col], color = 'g')\n",
    "    plt.legend(labels = ('Действующие клиенты', 'Ушедшие клиенты'))\n",
    "    plt.title('Распределение для признака ' + col)\n",
    "    plt.show()"
   ]
  },
  {
   "cell_type": "markdown",
   "metadata": {},
   "source": [
    "**Выводы:**\n",
    "- ушедшие клиенты моложе действующих\n",
    "- ушедшие клиенты реже приобретают дополнительные услуги\n",
    "- ушедшие клиенты покупают, в большинстве случаев, абонемент на 1 месяц (скорее всего, самый короткий из возможных сроков соглашения)\n",
    "- в основном покидают фитнес-центр те, что посещал его менее 5-и месяцев. Кто превысил эту отметку, условно переходят в число постоянных клиентов\n",
    "- ушедшие клиенты посещают зал не более 2-х раз в неделю\n",
    "- есть ушедшие клиенты, которые за месяц не посещали зал вообще, максимум среди ушедших клиентов - 4 раза в неделю"
   ]
  },
  {
   "cell_type": "markdown",
   "metadata": {},
   "source": [
    "<div class=\"alert alert-success\">\n",
    "<font size=\"3\"><b>✔️ Комментарий ревьюера ✔️</b></font>\n",
    "  \n",
    "\n",
    "Отличная визуализация! Согласна с выводами. \n",
    "\n",
    "</div>"
   ]
  },
  {
   "cell_type": "markdown",
   "metadata": {},
   "source": [
    "## 2.4. Построение матрицы корреляций"
   ]
  },
  {
   "cell_type": "code",
   "execution_count": 15,
   "metadata": {},
   "outputs": [
    {
     "data": {
      "text/html": [
       "<div>\n",
       "<style scoped>\n",
       "    .dataframe tbody tr th:only-of-type {\n",
       "        vertical-align: middle;\n",
       "    }\n",
       "\n",
       "    .dataframe tbody tr th {\n",
       "        vertical-align: top;\n",
       "    }\n",
       "\n",
       "    .dataframe thead th {\n",
       "        text-align: right;\n",
       "    }\n",
       "</style>\n",
       "<table border=\"1\" class=\"dataframe\">\n",
       "  <thead>\n",
       "    <tr style=\"text-align: right;\">\n",
       "      <th></th>\n",
       "      <th>gender</th>\n",
       "      <th>near_location</th>\n",
       "      <th>partner</th>\n",
       "      <th>promo_friends</th>\n",
       "      <th>phone</th>\n",
       "      <th>contract_period</th>\n",
       "      <th>group_visits</th>\n",
       "      <th>age</th>\n",
       "      <th>avg_additional_charges_total</th>\n",
       "      <th>month_to_end_contract</th>\n",
       "      <th>lifetime</th>\n",
       "      <th>avg_class_frequency_total</th>\n",
       "      <th>avg_class_frequency_current_month</th>\n",
       "      <th>churn</th>\n",
       "    </tr>\n",
       "  </thead>\n",
       "  <tbody>\n",
       "    <tr>\n",
       "      <th>gender</th>\n",
       "      <td>1.000000</td>\n",
       "      <td>0.006699</td>\n",
       "      <td>-0.010463</td>\n",
       "      <td>-0.005033</td>\n",
       "      <td>-0.008542</td>\n",
       "      <td>0.000502</td>\n",
       "      <td>0.017879</td>\n",
       "      <td>0.013807</td>\n",
       "      <td>-0.009334</td>\n",
       "      <td>-0.001281</td>\n",
       "      <td>0.013579</td>\n",
       "      <td>0.014620</td>\n",
       "      <td>0.009156</td>\n",
       "      <td>0.000708</td>\n",
       "    </tr>\n",
       "    <tr>\n",
       "      <th>near_location</th>\n",
       "      <td>0.006699</td>\n",
       "      <td>1.000000</td>\n",
       "      <td>-0.005119</td>\n",
       "      <td>0.210964</td>\n",
       "      <td>-0.015763</td>\n",
       "      <td>0.150233</td>\n",
       "      <td>0.154728</td>\n",
       "      <td>0.058358</td>\n",
       "      <td>0.040761</td>\n",
       "      <td>0.143961</td>\n",
       "      <td>0.070921</td>\n",
       "      <td>0.043127</td>\n",
       "      <td>0.062664</td>\n",
       "      <td>-0.128098</td>\n",
       "    </tr>\n",
       "    <tr>\n",
       "      <th>partner</th>\n",
       "      <td>-0.010463</td>\n",
       "      <td>-0.005119</td>\n",
       "      <td>1.000000</td>\n",
       "      <td>0.451960</td>\n",
       "      <td>0.009970</td>\n",
       "      <td>0.306166</td>\n",
       "      <td>0.022710</td>\n",
       "      <td>0.047480</td>\n",
       "      <td>0.022941</td>\n",
       "      <td>0.294632</td>\n",
       "      <td>0.061229</td>\n",
       "      <td>0.024938</td>\n",
       "      <td>0.045561</td>\n",
       "      <td>-0.157986</td>\n",
       "    </tr>\n",
       "    <tr>\n",
       "      <th>promo_friends</th>\n",
       "      <td>-0.005033</td>\n",
       "      <td>0.210964</td>\n",
       "      <td>0.451960</td>\n",
       "      <td>1.000000</td>\n",
       "      <td>0.001982</td>\n",
       "      <td>0.244552</td>\n",
       "      <td>0.120170</td>\n",
       "      <td>0.050113</td>\n",
       "      <td>0.036898</td>\n",
       "      <td>0.239553</td>\n",
       "      <td>0.072721</td>\n",
       "      <td>0.028063</td>\n",
       "      <td>0.053768</td>\n",
       "      <td>-0.162233</td>\n",
       "    </tr>\n",
       "    <tr>\n",
       "      <th>phone</th>\n",
       "      <td>-0.008542</td>\n",
       "      <td>-0.015763</td>\n",
       "      <td>0.009970</td>\n",
       "      <td>0.001982</td>\n",
       "      <td>1.000000</td>\n",
       "      <td>-0.006893</td>\n",
       "      <td>-0.010099</td>\n",
       "      <td>-0.011403</td>\n",
       "      <td>0.009279</td>\n",
       "      <td>-0.011196</td>\n",
       "      <td>-0.018801</td>\n",
       "      <td>0.008340</td>\n",
       "      <td>0.013375</td>\n",
       "      <td>-0.001177</td>\n",
       "    </tr>\n",
       "    <tr>\n",
       "      <th>contract_period</th>\n",
       "      <td>0.000502</td>\n",
       "      <td>0.150233</td>\n",
       "      <td>0.306166</td>\n",
       "      <td>0.244552</td>\n",
       "      <td>-0.006893</td>\n",
       "      <td>1.000000</td>\n",
       "      <td>0.169991</td>\n",
       "      <td>0.138249</td>\n",
       "      <td>0.111445</td>\n",
       "      <td>0.973064</td>\n",
       "      <td>0.170725</td>\n",
       "      <td>0.096211</td>\n",
       "      <td>0.159407</td>\n",
       "      <td>-0.389984</td>\n",
       "    </tr>\n",
       "    <tr>\n",
       "      <th>group_visits</th>\n",
       "      <td>0.017879</td>\n",
       "      <td>0.154728</td>\n",
       "      <td>0.022710</td>\n",
       "      <td>0.120170</td>\n",
       "      <td>-0.010099</td>\n",
       "      <td>0.169991</td>\n",
       "      <td>1.000000</td>\n",
       "      <td>0.080934</td>\n",
       "      <td>0.032079</td>\n",
       "      <td>0.163703</td>\n",
       "      <td>0.075853</td>\n",
       "      <td>0.056695</td>\n",
       "      <td>0.075923</td>\n",
       "      <td>-0.175325</td>\n",
       "    </tr>\n",
       "    <tr>\n",
       "      <th>age</th>\n",
       "      <td>0.013807</td>\n",
       "      <td>0.058358</td>\n",
       "      <td>0.047480</td>\n",
       "      <td>0.050113</td>\n",
       "      <td>-0.011403</td>\n",
       "      <td>0.138249</td>\n",
       "      <td>0.080934</td>\n",
       "      <td>1.000000</td>\n",
       "      <td>0.080240</td>\n",
       "      <td>0.134511</td>\n",
       "      <td>0.164693</td>\n",
       "      <td>0.119953</td>\n",
       "      <td>0.183095</td>\n",
       "      <td>-0.404735</td>\n",
       "    </tr>\n",
       "    <tr>\n",
       "      <th>avg_additional_charges_total</th>\n",
       "      <td>-0.009334</td>\n",
       "      <td>0.040761</td>\n",
       "      <td>0.022941</td>\n",
       "      <td>0.036898</td>\n",
       "      <td>0.009279</td>\n",
       "      <td>0.111445</td>\n",
       "      <td>0.032079</td>\n",
       "      <td>0.080240</td>\n",
       "      <td>1.000000</td>\n",
       "      <td>0.113958</td>\n",
       "      <td>0.079028</td>\n",
       "      <td>0.044426</td>\n",
       "      <td>0.079570</td>\n",
       "      <td>-0.198697</td>\n",
       "    </tr>\n",
       "    <tr>\n",
       "      <th>month_to_end_contract</th>\n",
       "      <td>-0.001281</td>\n",
       "      <td>0.143961</td>\n",
       "      <td>0.294632</td>\n",
       "      <td>0.239553</td>\n",
       "      <td>-0.011196</td>\n",
       "      <td>0.973064</td>\n",
       "      <td>0.163703</td>\n",
       "      <td>0.134511</td>\n",
       "      <td>0.113958</td>\n",
       "      <td>1.000000</td>\n",
       "      <td>0.161078</td>\n",
       "      <td>0.085387</td>\n",
       "      <td>0.147605</td>\n",
       "      <td>-0.381393</td>\n",
       "    </tr>\n",
       "    <tr>\n",
       "      <th>lifetime</th>\n",
       "      <td>0.013579</td>\n",
       "      <td>0.070921</td>\n",
       "      <td>0.061229</td>\n",
       "      <td>0.072721</td>\n",
       "      <td>-0.018801</td>\n",
       "      <td>0.170725</td>\n",
       "      <td>0.075853</td>\n",
       "      <td>0.164693</td>\n",
       "      <td>0.079028</td>\n",
       "      <td>0.161078</td>\n",
       "      <td>1.000000</td>\n",
       "      <td>0.112338</td>\n",
       "      <td>0.181975</td>\n",
       "      <td>-0.438220</td>\n",
       "    </tr>\n",
       "    <tr>\n",
       "      <th>avg_class_frequency_total</th>\n",
       "      <td>0.014620</td>\n",
       "      <td>0.043127</td>\n",
       "      <td>0.024938</td>\n",
       "      <td>0.028063</td>\n",
       "      <td>0.008340</td>\n",
       "      <td>0.096211</td>\n",
       "      <td>0.056695</td>\n",
       "      <td>0.119953</td>\n",
       "      <td>0.044426</td>\n",
       "      <td>0.085387</td>\n",
       "      <td>0.112338</td>\n",
       "      <td>1.000000</td>\n",
       "      <td>0.952739</td>\n",
       "      <td>-0.249715</td>\n",
       "    </tr>\n",
       "    <tr>\n",
       "      <th>avg_class_frequency_current_month</th>\n",
       "      <td>0.009156</td>\n",
       "      <td>0.062664</td>\n",
       "      <td>0.045561</td>\n",
       "      <td>0.053768</td>\n",
       "      <td>0.013375</td>\n",
       "      <td>0.159407</td>\n",
       "      <td>0.075923</td>\n",
       "      <td>0.183095</td>\n",
       "      <td>0.079570</td>\n",
       "      <td>0.147605</td>\n",
       "      <td>0.181975</td>\n",
       "      <td>0.952739</td>\n",
       "      <td>1.000000</td>\n",
       "      <td>-0.412348</td>\n",
       "    </tr>\n",
       "    <tr>\n",
       "      <th>churn</th>\n",
       "      <td>0.000708</td>\n",
       "      <td>-0.128098</td>\n",
       "      <td>-0.157986</td>\n",
       "      <td>-0.162233</td>\n",
       "      <td>-0.001177</td>\n",
       "      <td>-0.389984</td>\n",
       "      <td>-0.175325</td>\n",
       "      <td>-0.404735</td>\n",
       "      <td>-0.198697</td>\n",
       "      <td>-0.381393</td>\n",
       "      <td>-0.438220</td>\n",
       "      <td>-0.249715</td>\n",
       "      <td>-0.412348</td>\n",
       "      <td>1.000000</td>\n",
       "    </tr>\n",
       "  </tbody>\n",
       "</table>\n",
       "</div>"
      ],
      "text/plain": [
       "                                     gender  near_location   partner  \\\n",
       "gender                             1.000000       0.006699 -0.010463   \n",
       "near_location                      0.006699       1.000000 -0.005119   \n",
       "partner                           -0.010463      -0.005119  1.000000   \n",
       "promo_friends                     -0.005033       0.210964  0.451960   \n",
       "phone                             -0.008542      -0.015763  0.009970   \n",
       "contract_period                    0.000502       0.150233  0.306166   \n",
       "group_visits                       0.017879       0.154728  0.022710   \n",
       "age                                0.013807       0.058358  0.047480   \n",
       "avg_additional_charges_total      -0.009334       0.040761  0.022941   \n",
       "month_to_end_contract             -0.001281       0.143961  0.294632   \n",
       "lifetime                           0.013579       0.070921  0.061229   \n",
       "avg_class_frequency_total          0.014620       0.043127  0.024938   \n",
       "avg_class_frequency_current_month  0.009156       0.062664  0.045561   \n",
       "churn                              0.000708      -0.128098 -0.157986   \n",
       "\n",
       "                                   promo_friends     phone  contract_period  \\\n",
       "gender                                 -0.005033 -0.008542         0.000502   \n",
       "near_location                           0.210964 -0.015763         0.150233   \n",
       "partner                                 0.451960  0.009970         0.306166   \n",
       "promo_friends                           1.000000  0.001982         0.244552   \n",
       "phone                                   0.001982  1.000000        -0.006893   \n",
       "contract_period                         0.244552 -0.006893         1.000000   \n",
       "group_visits                            0.120170 -0.010099         0.169991   \n",
       "age                                     0.050113 -0.011403         0.138249   \n",
       "avg_additional_charges_total            0.036898  0.009279         0.111445   \n",
       "month_to_end_contract                   0.239553 -0.011196         0.973064   \n",
       "lifetime                                0.072721 -0.018801         0.170725   \n",
       "avg_class_frequency_total               0.028063  0.008340         0.096211   \n",
       "avg_class_frequency_current_month       0.053768  0.013375         0.159407   \n",
       "churn                                  -0.162233 -0.001177        -0.389984   \n",
       "\n",
       "                                   group_visits       age  \\\n",
       "gender                                 0.017879  0.013807   \n",
       "near_location                          0.154728  0.058358   \n",
       "partner                                0.022710  0.047480   \n",
       "promo_friends                          0.120170  0.050113   \n",
       "phone                                 -0.010099 -0.011403   \n",
       "contract_period                        0.169991  0.138249   \n",
       "group_visits                           1.000000  0.080934   \n",
       "age                                    0.080934  1.000000   \n",
       "avg_additional_charges_total           0.032079  0.080240   \n",
       "month_to_end_contract                  0.163703  0.134511   \n",
       "lifetime                               0.075853  0.164693   \n",
       "avg_class_frequency_total              0.056695  0.119953   \n",
       "avg_class_frequency_current_month      0.075923  0.183095   \n",
       "churn                                 -0.175325 -0.404735   \n",
       "\n",
       "                                   avg_additional_charges_total  \\\n",
       "gender                                                -0.009334   \n",
       "near_location                                          0.040761   \n",
       "partner                                                0.022941   \n",
       "promo_friends                                          0.036898   \n",
       "phone                                                  0.009279   \n",
       "contract_period                                        0.111445   \n",
       "group_visits                                           0.032079   \n",
       "age                                                    0.080240   \n",
       "avg_additional_charges_total                           1.000000   \n",
       "month_to_end_contract                                  0.113958   \n",
       "lifetime                                               0.079028   \n",
       "avg_class_frequency_total                              0.044426   \n",
       "avg_class_frequency_current_month                      0.079570   \n",
       "churn                                                 -0.198697   \n",
       "\n",
       "                                   month_to_end_contract  lifetime  \\\n",
       "gender                                         -0.001281  0.013579   \n",
       "near_location                                   0.143961  0.070921   \n",
       "partner                                         0.294632  0.061229   \n",
       "promo_friends                                   0.239553  0.072721   \n",
       "phone                                          -0.011196 -0.018801   \n",
       "contract_period                                 0.973064  0.170725   \n",
       "group_visits                                    0.163703  0.075853   \n",
       "age                                             0.134511  0.164693   \n",
       "avg_additional_charges_total                    0.113958  0.079028   \n",
       "month_to_end_contract                           1.000000  0.161078   \n",
       "lifetime                                        0.161078  1.000000   \n",
       "avg_class_frequency_total                       0.085387  0.112338   \n",
       "avg_class_frequency_current_month               0.147605  0.181975   \n",
       "churn                                          -0.381393 -0.438220   \n",
       "\n",
       "                                   avg_class_frequency_total  \\\n",
       "gender                                              0.014620   \n",
       "near_location                                       0.043127   \n",
       "partner                                             0.024938   \n",
       "promo_friends                                       0.028063   \n",
       "phone                                               0.008340   \n",
       "contract_period                                     0.096211   \n",
       "group_visits                                        0.056695   \n",
       "age                                                 0.119953   \n",
       "avg_additional_charges_total                        0.044426   \n",
       "month_to_end_contract                               0.085387   \n",
       "lifetime                                            0.112338   \n",
       "avg_class_frequency_total                           1.000000   \n",
       "avg_class_frequency_current_month                   0.952739   \n",
       "churn                                              -0.249715   \n",
       "\n",
       "                                   avg_class_frequency_current_month     churn  \n",
       "gender                                                      0.009156  0.000708  \n",
       "near_location                                               0.062664 -0.128098  \n",
       "partner                                                     0.045561 -0.157986  \n",
       "promo_friends                                               0.053768 -0.162233  \n",
       "phone                                                       0.013375 -0.001177  \n",
       "contract_period                                             0.159407 -0.389984  \n",
       "group_visits                                                0.075923 -0.175325  \n",
       "age                                                         0.183095 -0.404735  \n",
       "avg_additional_charges_total                                0.079570 -0.198697  \n",
       "month_to_end_contract                                       0.147605 -0.381393  \n",
       "lifetime                                                    0.181975 -0.438220  \n",
       "avg_class_frequency_total                                   0.952739 -0.249715  \n",
       "avg_class_frequency_current_month                           1.000000 -0.412348  \n",
       "churn                                                      -0.412348  1.000000  "
      ]
     },
     "execution_count": 15,
     "metadata": {},
     "output_type": "execute_result"
    }
   ],
   "source": [
    "cm = data.corr()\n",
    "cm"
   ]
  },
  {
   "cell_type": "markdown",
   "metadata": {},
   "source": [
    "Для удобства восприятия построим хитмэп:"
   ]
  },
  {
   "cell_type": "code",
   "execution_count": 16,
   "metadata": {},
   "outputs": [
    {
     "data": {
      "image/png": "[encoded data removed]",
      "text/plain": [
       "<Figure size 1080x1080 with 2 Axes>"
      ]
     },
     "metadata": {
      "needs_background": "light"
     },
     "output_type": "display_data"
    }
   ],
   "source": [
    "plt.figure(figsize=(15, 15))\n",
    "sns.heatmap(cm, annot=True, fmt = '.2f', square=True)\n",
    "plt.show()"
   ]
  },
  {
   "cell_type": "markdown",
   "metadata": {},
   "source": [
    "**Вывод:** наблюдаем \"сильную\" корреляцию по следующим \"сочетаниям\":\n",
    "- длительность текущего действующего абонемента и срок до окончания текущего действующего абонемента (0,97)\n",
    "- средняя частота посещений в неделю за все время с начала действия абонемента - средняя частота посещений в неделю за предыдущий месяц; (0,95)\n",
    "\n",
    "Также, прослеживается более \"низкая\" корреляция по таким \"сочетаниям\":\n",
    "- факт первоначальной записи в рамках акции «приведи друга - сотрудник компании-партнёра клуба (0\n",
    "45)\n",
    "- длительность текущего действующего абонемента - сотрудник компании-партнёра клуба (0,31)\n",
    "\n",
    "В целом, в этой зависимости прослеживается логика, здравому смыслу не противоречит.\n",
    "Возвращаясь к бизнес-задаче, в частности, поиску ответа на вопрос, почему наблюдается отток клиентов (и выручки соответственно), на данной стадии больше всего бросается в глаза то, что есть клиенты, которые приобрели абонемент, но не посещают зал/посещают крайне редко и, как следствие, пролонгация договора с фитнес-центром им неинтересна. Возможно, стоит разработать некий \"онбординг\" для новичков, чтобы все было максимально понятно и доступно и их, в хорошем смысле, \"затягивало\" в мир спорта. Также, можно попробовать провести рекламную кампанию из серии \"3 персональных тренировки бесплатно\" или скидки на дополнительные услуги на период действия первого абонемента, возможно, это сможет удержать \"мнительных\" клиентов, которые не уверены нужен ли им фитнес, даже оплатив услуги зала."
   ]
  },
  {
   "cell_type": "markdown",
   "metadata": {},
   "source": [
    "# Шаг 3. Построение модели прогнозирования оттока клиентов"
   ]
  },
  {
   "cell_type": "markdown",
   "metadata": {},
   "source": [
    "## 3.1. Разделение данные на обучающую и валидационную выборку функцией train_test_split()"
   ]
  },
  {
   "cell_type": "markdown",
   "metadata": {},
   "source": [
    "Данные будут разделены на:\n",
    "- признаки (матрица X),\n",
    "- целевую переменную (y)"
   ]
  },
  {
   "cell_type": "markdown",
   "metadata": {},
   "source": [
    "Пропорция выборки будет \"общепринятой\", т.е. 80/20 (обучающая 80% 'train' и валидационную 20% 'test')"
   ]
  },
  {
   "cell_type": "code",
   "execution_count": 17,
   "metadata": {},
   "outputs": [],
   "source": [
    "X = data.drop('churn', axis = 1)\n",
    "y = data['churn']"
   ]
  },
  {
   "cell_type": "code",
   "execution_count": 18,
   "metadata": {},
   "outputs": [
    {
     "name": "stdout",
     "output_type": "stream",
     "text": [
      "Размер выборки X: 4000\n",
      "\n",
      "Размер выборки y: 4000\n"
     ]
    }
   ],
   "source": [
    "print('Размер выборки X:', len(X))\n",
    "print()\n",
    "print('Размер выборки y:', len(y))"
   ]
  },
  {
   "cell_type": "code",
   "execution_count": 19,
   "metadata": {},
   "outputs": [],
   "source": [
    "X_train, X_test, y_train, y_test = train_test_split(X, y, test_size=0.2, random_state=0)"
   ]
  },
  {
   "cell_type": "code",
   "execution_count": 20,
   "metadata": {},
   "outputs": [
    {
     "name": "stdout",
     "output_type": "stream",
     "text": [
      "Размер переменной X_train: 3200\n",
      "\n",
      "Размер переменной y_train: 3200\n",
      "\n",
      "Размер переменной X_test: 800\n",
      "\n",
      "Размер переменной y_test: 800\n"
     ]
    }
   ],
   "source": [
    "print('Размер переменной X_train:', len(X_train))\n",
    "print()\n",
    "print('Размер переменной y_train:', len(y_train))\n",
    "print()\n",
    "print('Размер переменной X_test:', len(X_test))\n",
    "print()\n",
    "print('Размер переменной y_test:', len(y_test))"
   ]
  },
  {
   "cell_type": "markdown",
   "metadata": {},
   "source": [
    "## 3.2. Обучение модели на train-выборке"
   ]
  },
  {
   "cell_type": "markdown",
   "metadata": {},
   "source": [
    "### 3.2.1. Логистическая регрессия (переменная lr)"
   ]
  },
  {
   "cell_type": "code",
   "execution_count": 21,
   "metadata": {},
   "outputs": [],
   "source": [
    "# Обучение StandartScaler на обучающей выборке\n",
    "scaler = StandardScaler()\n",
    "scaler.fit(X_train)\n",
    "\n",
    "# Преобразуем обучающий и валидационной набор данных\n",
    "X_train_st = scaler.transform(X_train)\n",
    "X_test_st = scaler.transform(X_test)\n",
    "\n",
    "# Алгоритм для модели логистической регрессии.\n",
    "lr_model = LogisticRegression(random_state=0)\n",
    "\n",
    "# Обучение модели\n",
    "lr_model.fit(X_train_st, y_train)\n",
    "\n",
    "# Прогнозирование, с помощью обученной модели\n",
    "lr_predictions = lr_model.predict(X_test_st)\n",
    "lr_probabilities = lr_model.predict_proba(X_test_st)[:,1]"
   ]
  },
  {
   "cell_type": "markdown",
   "metadata": {},
   "source": [
    "### 3.2.2. Случайный лес (переменная rfc)"
   ]
  },
  {
   "cell_type": "code",
   "execution_count": 22,
   "metadata": {},
   "outputs": [],
   "source": [
    "rfc_model = RandomForestClassifier(n_estimators = 100, random_state = 0) \n",
    "\n",
    "# Обучим модель случайного леса.\n",
    "rfc_model.fit(X_train_st, y_train)\n",
    "\n",
    "# Воспользуемся уже обученной моделью, чтобы сделать прогнозы.\n",
    "rfc_predictions = rfc_model.predict(X_test_st) \n",
    "rfc_probabilities = rfc_model.predict_proba(X_test_st)[:,1]"
   ]
  },
  {
   "cell_type": "markdown",
   "metadata": {},
   "source": [
    "## 3.3. Оценка метрик для обоих моделей"
   ]
  },
  {
   "cell_type": "markdown",
   "metadata": {},
   "source": [
    "**Аннотация к рассматриваемым метрикам:**\n",
    "- Доля правильных ответов (англ. accuracy)\n",
    "- Точность (англ. precision)\n",
    "- Полнота (англ. recall)\n",
    "- F1_score (показатель \"баланса\" между метриками\n",
    "- roc_auc, или площадь под кривой ошибок — AUC-ROC (от англ. Area Under Curve, «площадь под кривой», Receiver Operating Characteristic, «рабочая характеристика приёмника»)"
   ]
  },
  {
   "cell_type": "markdown",
   "metadata": {},
   "source": [
    "**Важно:** все перечисленные метрики должны \"стремиться\" к единице, соответственно, чем ближе к единице значение, тем лучше показатели модели"
   ]
  },
  {
   "cell_type": "markdown",
   "metadata": {},
   "source": [
    "Объявим функцию:"
   ]
  },
  {
   "cell_type": "code",
   "execution_count": 23,
   "metadata": {},
   "outputs": [],
   "source": [
    "def print_all_metrics(y_true, y_pred, y_proba, title='Метрики классификации'):\n",
    "    print(title)\n",
    "    print('\\tAccuracy: {:.2f}'.format(accuracy_score(y_true, y_pred)))\n",
    "    print('\\tPrecision: {:.2f}'.format(precision_score(y_true, y_pred)))\n",
    "    print('\\tRecall: {:.2f}'.format(recall_score(y_true, y_pred)))\n",
    "    print('\\tF1: {:.2f}'.format(f1_score(y_true, y_pred)))\n",
    "    print('\\tROC_AUC: {:.2f}'.format(roc_auc_score(y_true, y_proba)))"
   ]
  },
  {
   "cell_type": "code",
   "execution_count": 24,
   "metadata": {},
   "outputs": [
    {
     "name": "stdout",
     "output_type": "stream",
     "text": [
      "Метрики для модели логистической регрессии:\n",
      "\tAccuracy: 0.92\n",
      "\tPrecision: 0.85\n",
      "\tRecall: 0.83\n",
      "\tF1: 0.84\n",
      "\tROC_AUC: 0.97\n"
     ]
    }
   ],
   "source": [
    "print_all_metrics(y_test, lr_predictions, lr_probabilities, title='Метрики для модели логистической регрессии:')"
   ]
  },
  {
   "cell_type": "code",
   "execution_count": 25,
   "metadata": {},
   "outputs": [
    {
     "name": "stdout",
     "output_type": "stream",
     "text": [
      "Метрики для модели случайного леса:\n",
      "\tAccuracy: 0.92\n",
      "\tPrecision: 0.84\n",
      "\tRecall: 0.81\n",
      "\tF1: 0.83\n",
      "\tROC_AUC: 0.97\n"
     ]
    }
   ],
   "source": [
    "print_all_metrics(y_test, rfc_predictions, rfc_probabilities, title='Метрики для модели случайного леса:')"
   ]
  },
  {
   "cell_type": "markdown",
   "metadata": {},
   "source": [
    "**Вывод:** метрики для двух выбранных моделей почти идентичны, критическая разница не прослеживается. Тем не менее, единственное различие в метрике Recall (0,83 у регрессии, 0,84 у леса) говорит о том, что модель случайного леса \"проявила\" себя лучше, следовательно, для решения поставленной задачи данная модель будет \"оптимальнее\" регрессии."
   ]
  },
  {
   "cell_type": "markdown",
   "metadata": {},
   "source": [
    "# Шаг 4. Кластеризация клиентов"
   ]
  },
  {
   "cell_type": "markdown",
   "metadata": {},
   "source": [
    "## 4.1. Стандартизация данных"
   ]
  },
  {
   "cell_type": "code",
   "execution_count": 26,
   "metadata": {},
   "outputs": [],
   "source": [
    "scaler = StandardScaler()\n",
    "X_st = scaler.fit_transform(X)"
   ]
  },
  {
   "cell_type": "markdown",
   "metadata": {},
   "source": [
    "## 4.2. Построение дендрограммы"
   ]
  },
  {
   "cell_type": "code",
   "execution_count": 27,
   "metadata": {},
   "outputs": [
    {
     "data": {
      "image/png": "[encoded data removed]",
      "text/plain": [
       "<Figure size 1080x720 with 1 Axes>"
      ]
     },
     "metadata": {
      "needs_background": "light"
     },
     "output_type": "display_data"
    }
   ],
   "source": [
    "sc = StandardScaler()\n",
    "x_sc = sc.fit_transform(X)\n",
    "\n",
    "linked = linkage(x_sc, method = 'ward')\n",
    "plt.figure(figsize=(15, 10))  \n",
    "dendrogram(linked, orientation='top')\n",
    "plt.title('Дендрограмма клиентов сети фитнес-центров «Культурист-датасаентист»')\n",
    "plt.show()"
   ]
  },
  {
   "cell_type": "markdown",
   "metadata": {},
   "source": [
    "## 4.3. Обучение модели кластеризации на основании алгоритма K-Means и прогнозирование кластеров клиентов"
   ]
  },
  {
   "cell_type": "markdown",
   "metadata": {},
   "source": [
    "Согласно ТЗ/аннотации к проекту за число кластеров принимаем 5. Кроме того, это условие не противоречит тому, о чем \"говорит\" дендрограмма"
   ]
  },
  {
   "cell_type": "code",
   "execution_count": 28,
   "metadata": {},
   "outputs": [],
   "source": [
    "k_means = KMeans(n_clusters = 5, random_state=1)\n",
    "\n",
    "# прогнозируем кластеров для наблюдений\n",
    "labels = k_means.fit_predict(X_st)\n",
    "\n",
    "#устанавливаем соответствие между каждым наблюдением и значением кластера \n",
    "data['cluster_kmeans'] = labels"
   ]
  },
  {
   "cell_type": "markdown",
   "metadata": {},
   "source": [
    "## 4.4. Изучение средних значений признаков для кластеров"
   ]
  },
  {
   "cell_type": "code",
   "execution_count": 29,
   "metadata": {},
   "outputs": [
    {
     "data": {
      "text/html": [
       "<div>\n",
       "<style scoped>\n",
       "    .dataframe tbody tr th:only-of-type {\n",
       "        vertical-align: middle;\n",
       "    }\n",
       "\n",
       "    .dataframe tbody tr th {\n",
       "        vertical-align: top;\n",
       "    }\n",
       "\n",
       "    .dataframe thead th {\n",
       "        text-align: right;\n",
       "    }\n",
       "</style>\n",
       "<table border=\"1\" class=\"dataframe\">\n",
       "  <thead>\n",
       "    <tr style=\"text-align: right;\">\n",
       "      <th>cluster_kmeans</th>\n",
       "      <th>0</th>\n",
       "      <th>1</th>\n",
       "      <th>2</th>\n",
       "      <th>3</th>\n",
       "      <th>4</th>\n",
       "    </tr>\n",
       "  </thead>\n",
       "  <tbody>\n",
       "    <tr>\n",
       "      <th>gender</th>\n",
       "      <td>0.500960</td>\n",
       "      <td>0.519319</td>\n",
       "      <td>0.498371</td>\n",
       "      <td>0.505426</td>\n",
       "      <td>0.523316</td>\n",
       "    </tr>\n",
       "    <tr>\n",
       "      <th>near_location</th>\n",
       "      <td>0.000000</td>\n",
       "      <td>1.000000</td>\n",
       "      <td>0.951140</td>\n",
       "      <td>1.000000</td>\n",
       "      <td>0.862694</td>\n",
       "    </tr>\n",
       "    <tr>\n",
       "      <th>partner</th>\n",
       "      <td>0.464491</td>\n",
       "      <td>0.224623</td>\n",
       "      <td>0.739414</td>\n",
       "      <td>0.773643</td>\n",
       "      <td>0.471503</td>\n",
       "    </tr>\n",
       "    <tr>\n",
       "      <th>promo_friends</th>\n",
       "      <td>0.078695</td>\n",
       "      <td>0.000000</td>\n",
       "      <td>0.466884</td>\n",
       "      <td>1.000000</td>\n",
       "      <td>0.305699</td>\n",
       "    </tr>\n",
       "    <tr>\n",
       "      <th>phone</th>\n",
       "      <td>1.000000</td>\n",
       "      <td>1.000000</td>\n",
       "      <td>1.000000</td>\n",
       "      <td>1.000000</td>\n",
       "      <td>0.000000</td>\n",
       "    </tr>\n",
       "    <tr>\n",
       "      <th>contract_period</th>\n",
       "      <td>2.343570</td>\n",
       "      <td>2.056974</td>\n",
       "      <td>11.511401</td>\n",
       "      <td>2.972093</td>\n",
       "      <td>4.777202</td>\n",
       "    </tr>\n",
       "    <tr>\n",
       "      <th>group_visits</th>\n",
       "      <td>0.216891</td>\n",
       "      <td>0.379175</td>\n",
       "      <td>0.543974</td>\n",
       "      <td>0.451163</td>\n",
       "      <td>0.427461</td>\n",
       "    </tr>\n",
       "    <tr>\n",
       "      <th>age</th>\n",
       "      <td>28.579655</td>\n",
       "      <td>28.918140</td>\n",
       "      <td>29.964169</td>\n",
       "      <td>29.120930</td>\n",
       "      <td>29.297927</td>\n",
       "    </tr>\n",
       "    <tr>\n",
       "      <th>avg_additional_charges_total</th>\n",
       "      <td>136.561586</td>\n",
       "      <td>141.863877</td>\n",
       "      <td>166.325823</td>\n",
       "      <td>141.317434</td>\n",
       "      <td>144.208179</td>\n",
       "    </tr>\n",
       "    <tr>\n",
       "      <th>month_to_end_contract</th>\n",
       "      <td>2.197697</td>\n",
       "      <td>1.963982</td>\n",
       "      <td>10.457112</td>\n",
       "      <td>2.778295</td>\n",
       "      <td>4.466321</td>\n",
       "    </tr>\n",
       "    <tr>\n",
       "      <th>lifetime</th>\n",
       "      <td>2.905950</td>\n",
       "      <td>3.309758</td>\n",
       "      <td>4.829533</td>\n",
       "      <td>3.662016</td>\n",
       "      <td>3.940415</td>\n",
       "    </tr>\n",
       "    <tr>\n",
       "      <th>avg_class_frequency_total</th>\n",
       "      <td>1.738534</td>\n",
       "      <td>1.808608</td>\n",
       "      <td>2.116481</td>\n",
       "      <td>1.834968</td>\n",
       "      <td>1.854211</td>\n",
       "    </tr>\n",
       "    <tr>\n",
       "      <th>avg_class_frequency_current_month</th>\n",
       "      <td>1.562870</td>\n",
       "      <td>1.655857</td>\n",
       "      <td>2.109532</td>\n",
       "      <td>1.731981</td>\n",
       "      <td>1.723967</td>\n",
       "    </tr>\n",
       "    <tr>\n",
       "      <th>churn</th>\n",
       "      <td>0.429942</td>\n",
       "      <td>0.362148</td>\n",
       "      <td>0.019544</td>\n",
       "      <td>0.252713</td>\n",
       "      <td>0.266839</td>\n",
       "    </tr>\n",
       "  </tbody>\n",
       "</table>\n",
       "</div>"
      ],
      "text/plain": [
       "cluster_kmeans                              0           1           2  \\\n",
       "gender                               0.500960    0.519319    0.498371   \n",
       "near_location                        0.000000    1.000000    0.951140   \n",
       "partner                              0.464491    0.224623    0.739414   \n",
       "promo_friends                        0.078695    0.000000    0.466884   \n",
       "phone                                1.000000    1.000000    1.000000   \n",
       "contract_period                      2.343570    2.056974   11.511401   \n",
       "group_visits                         0.216891    0.379175    0.543974   \n",
       "age                                 28.579655   28.918140   29.964169   \n",
       "avg_additional_charges_total       136.561586  141.863877  166.325823   \n",
       "month_to_end_contract                2.197697    1.963982   10.457112   \n",
       "lifetime                             2.905950    3.309758    4.829533   \n",
       "avg_class_frequency_total            1.738534    1.808608    2.116481   \n",
       "avg_class_frequency_current_month    1.562870    1.655857    2.109532   \n",
       "churn                                0.429942    0.362148    0.019544   \n",
       "\n",
       "cluster_kmeans                              3           4  \n",
       "gender                               0.505426    0.523316  \n",
       "near_location                        1.000000    0.862694  \n",
       "partner                              0.773643    0.471503  \n",
       "promo_friends                        1.000000    0.305699  \n",
       "phone                                1.000000    0.000000  \n",
       "contract_period                      2.972093    4.777202  \n",
       "group_visits                         0.451163    0.427461  \n",
       "age                                 29.120930   29.297927  \n",
       "avg_additional_charges_total       141.317434  144.208179  \n",
       "month_to_end_contract                2.778295    4.466321  \n",
       "lifetime                             3.662016    3.940415  \n",
       "avg_class_frequency_total            1.834968    1.854211  \n",
       "avg_class_frequency_current_month    1.731981    1.723967  \n",
       "churn                                0.252713    0.266839  "
      ]
     },
     "execution_count": 29,
     "metadata": {},
     "output_type": "execute_result"
    }
   ],
   "source": [
    "cluster_mean = data.groupby(['cluster_kmeans']).mean().T #применим транспонирование для удобства чтения\n",
    "cluster_mean"
   ]
  },
  {
   "cell_type": "markdown",
   "metadata": {},
   "source": [
    "**Описание средних значений по кластерам:**"
   ]
  },
  {
   "cell_type": "markdown",
   "metadata": {},
   "source": [
    "**Кластер 0:**\n",
    "- равное количество мужчин и женщин (50%)\n",
    "- никто не проживает/работает в непосредственной близости к залу (показатель 0)\n",
    "- 46% клиентов являются \"результатом\" партнерской программы\n",
    "- ~8% клиентов пришли по рекомендации действующего клиента\n",
    "- 100% клиентов оставили свой телефон\n",
    "- средняя длительность абонемента/договора составляет 2,3 месяца\n",
    "- только 21% клиентов посещает групповые занятия\n",
    "- средний возраст 29 лет\n",
    "- средняя выручка по дополнительным услугам составила 137 долларов\n",
    "- договор в среднем истекает через 2,2 месяца\n",
    "- лайфтайм чуть менее 3 месяцев\n",
    "- средняя посещаемость за неделю менее 2-х раз\n",
    "- средняя посещаемость в неделю в разрезе прошлого месяца - 1,56 раза\n",
    "- отток 42%"
   ]
  },
  {
   "cell_type": "markdown",
   "metadata": {},
   "source": [
    "**Кластер 1:**\n",
    "- равное количество мужчин и женщин (51%)\n",
    "- все проживают/работают в непосредственной близости к залу (показатель 100%)\n",
    "- 22% клиентов являются \"результатом\" партнерской программы\n",
    "- нет клиентов, пришедших по рекомендации действующего клиента\n",
    "- 100% клиентов оставили свой телефон\n",
    "- средняя длительность абонемента/договора составляет 2 месяца\n",
    "- только 37% клиентов посещает групповые занятия\n",
    "- средний возраст 29 лет\n",
    "- средняя выручка по дополнительным услугам составила 141 доллар\n",
    "- договор в среднем истекает чуть менее, чем через 2 месяца\n",
    "- лайфтайм 3,3 месяца\n",
    "- средняя посещаемость за неделю менее 2-х раз\n",
    "- средняя посещаемость в неделю в разрезе прошлого месяца - 1,65 раза\n",
    "- отток 36%"
   ]
  },
  {
   "cell_type": "markdown",
   "metadata": {},
   "source": [
    "**Кластер 2:**\n",
    "- равное количество мужчин и женщин (49%)\n",
    "- 95% клиентов проживает/работает в непосредственной близости к залу\n",
    "- 73% клиентов являются \"результатом\" партнерской программы\n",
    "- 46% клиентов пришли по рекомендации действующего клиента\n",
    "- 100% клиентов оставили свой телефон\n",
    "- средняя длительность абонемента/договора составляет 1 год\n",
    "- только 54% клиентов посещает групповые занятия\n",
    "- средний возраст 30 лет\n",
    "- средняя выручка по дополнительным услугам составила 166 долларов\n",
    "- договор в среднем истекает через 10 месяцев\n",
    "- лайфтайм близок к 5 месяцам\n",
    "- средняя посещаемость за неделю более 2-х раз\n",
    "- средняя посещаемость в неделю в разрезе прошлого месяца - 2,1 раза\n",
    "- отток менее 2%"
   ]
  },
  {
   "cell_type": "markdown",
   "metadata": {},
   "source": [
    "**Кластер 3:**\n",
    "- равное количество мужчин и женщин (50%)\n",
    "- 100% клиентов проживает/работает в непосредственной близости к залу\n",
    "- 77% клиентов являются \"результатом\" партнерской программы\n",
    "- 100% клиентов пришли по рекомендации действующего клиента\n",
    "- 100% клиентов оставили свой телефон\n",
    "- средняя длительность абонемента/договора составляет почти 3 месяца\n",
    "- 45% клиентов посещает групповые занятия\n",
    "- средний возраст 29 лет\n",
    "- средняя выручка по дополнительным услугам составила 141 доллар\n",
    "- договор в среднем истекает через 2,7 месяца\n",
    "- лайфтайм более 3,5 месяцев\n",
    "- средняя посещаемость за неделю менее 2-х раз\n",
    "- средняя посещаемость в неделю в разрезе прошлого месяца - 1,73 раза\n",
    "- отток 25%"
   ]
  },
  {
   "cell_type": "markdown",
   "metadata": {},
   "source": [
    "**Кластер 4:**\n",
    "- равное количество мужчин и женщин (52%)\n",
    "- 86% клиентов проживает/работает в непосредственной близости к залу\n",
    "- 47% клиентов являются \"результатом\" партнерской программы\n",
    "- ~3% клиентов пришли по рекомендации действующего клиента\n",
    "- никто не оставил свой телефон\n",
    "- средняя длительность абонемента/договора составляет 4,7 месяцев\n",
    "- 42% клиентов посещает групповые занятия\n",
    "- средний возраст 29 лет\n",
    "- средняя выручка по дополнительным услугам составила 144 доллара\n",
    "- договор в среднем истекает через 4,5 месяца\n",
    "- лайфтайм почти 4 месяца\n",
    "- средняя посещаемость за неделю менее 2-х раз\n",
    "- средняя посещаемость в неделю в разрезе прошлого месяца - 1,72 раза\n",
    "- отток 26%"
   ]
  },
  {
   "cell_type": "markdown",
   "metadata": {},
   "source": [
    "## 4.5. Построение распределения признаков для кластеров"
   ]
  },
  {
   "cell_type": "code",
   "execution_count": 30,
   "metadata": {},
   "outputs": [
    {
     "data": {
      "image/png": "[encoded data removed]",
      "text/plain": [
       "<Figure size 1080x1080 with 8 Axes>"
      ]
     },
     "metadata": {
      "needs_background": "light"
     },
     "output_type": "display_data"
    }
   ],
   "source": [
    "distribution_clusters = ['churn','gender', 'near_location', 'partner', \n",
    "       'promo_friends', 'phone', 'group_visits','contract_period'] \n",
    "\n",
    "\n",
    "fig , ax = plt.subplots(4,2,figsize=(15,15))\n",
    "\n",
    "for axis,column in zip(ax.flat, distribution_clusters):\n",
    "    sns.countplot(x=data[column], hue=data['cluster_kmeans'], palette='muted', ax=axis)"
   ]
  },
  {
   "cell_type": "markdown",
   "metadata": {},
   "source": [
    "**Вывод:** самый худшие показатели оттока у нулевого кластера - 42% клиентов не задерживаются в клубе и не переходят в условный статус \"постоянных клиентов\". При сравнению с другими кластерами, по многим показателям нулевой \"отстает\". Например, по посещаемости (как индивидуальной, так и групповой), лайфтайму, среднему чеку по дополнительным услугам. Также, в этом кластере наблюдается самый \"короткий\" срок действия абонемента.\n",
    "\n",
    "Полностью противоположная картина в кластере 2. Отток всего 2% (в целом, это, скорее всего, как-раз люди, у которых изменились обстоятельства и они не нуждаются более в спортивных услугах, чем факт проблемы с удержанием клиента), более долгие договорные отношения и бОльшая прибыль по допуслугам. Посещаемость также выше"
   ]
  },
  {
   "cell_type": "markdown",
   "metadata": {},
   "source": [
    "## 4.5. Расчет доли оттока"
   ]
  },
  {
   "cell_type": "code",
   "execution_count": 31,
   "metadata": {},
   "outputs": [
    {
     "data": {
      "text/html": [
       "<div>\n",
       "<style scoped>\n",
       "    .dataframe tbody tr th:only-of-type {\n",
       "        vertical-align: middle;\n",
       "    }\n",
       "\n",
       "    .dataframe tbody tr th {\n",
       "        vertical-align: top;\n",
       "    }\n",
       "\n",
       "    .dataframe thead th {\n",
       "        text-align: right;\n",
       "    }\n",
       "</style>\n",
       "<table border=\"1\" class=\"dataframe\">\n",
       "  <thead>\n",
       "    <tr style=\"text-align: right;\">\n",
       "      <th></th>\n",
       "      <th>cluster_kmeans</th>\n",
       "      <th>percent</th>\n",
       "    </tr>\n",
       "  </thead>\n",
       "  <tbody>\n",
       "    <tr>\n",
       "      <th>0</th>\n",
       "      <td>0</td>\n",
       "      <td>42.99%</td>\n",
       "    </tr>\n",
       "    <tr>\n",
       "      <th>1</th>\n",
       "      <td>1</td>\n",
       "      <td>36.21%</td>\n",
       "    </tr>\n",
       "    <tr>\n",
       "      <th>4</th>\n",
       "      <td>4</td>\n",
       "      <td>26.68%</td>\n",
       "    </tr>\n",
       "    <tr>\n",
       "      <th>3</th>\n",
       "      <td>3</td>\n",
       "      <td>25.27%</td>\n",
       "    </tr>\n",
       "    <tr>\n",
       "      <th>2</th>\n",
       "      <td>2</td>\n",
       "      <td>1.95%</td>\n",
       "    </tr>\n",
       "  </tbody>\n",
       "</table>\n",
       "</div>"
      ],
      "text/plain": [
       "   cluster_kmeans percent\n",
       "0               0  42.99%\n",
       "1               1  36.21%\n",
       "4               4  26.68%\n",
       "3               3  25.27%\n",
       "2               2   1.95%"
      ]
     },
     "metadata": {},
     "output_type": "display_data"
    }
   ],
   "source": [
    "outflow_share = data.groupby('cluster_kmeans').mean().reset_index()\n",
    "outflow_share['percent'] = outflow_share['churn'] * 100\n",
    "outflow_share['percent'] = outflow_share['percent'].map('{0:.2f}%'.format)\n",
    "display(outflow_share[['cluster_kmeans', 'percent']].sort_values(by='percent', ascending=False))"
   ]
  },
  {
   "cell_type": "markdown",
   "metadata": {},
   "source": [
    "Доля оттока подтвердила ранее сформулированные преположения: с точки зрения оттока, и, соответственно потери прибыли, наиболее \"опасный\" кластер с индексом 0 - вероятность оттока 43%, наиболее \"стабильный кластер\" - с индексом 2, вероятность оттока менее 2%."
   ]
  },
  {
   "cell_type": "markdown",
   "metadata": {},
   "source": [
    "# Шаг 5. Рекомендации по итогам исследования"
   ]
  },
  {
   "cell_type": "markdown",
   "metadata": {},
   "source": [
    "В процессе исследования был составлен \"портрет\" потребителя, как \"идеального\", который является постоянным клиентом и приносит прибыль компании, так и \"ушедшего\", т.е. клиента, который с большой долей вероятности уже не придет за новым абонементом.\n",
    "\n",
    "**Данные по клиентам, наиболее \"расположенным\" к оттоку:**\n",
    "- равное количество мужчин и женщин (50%)\n",
    "- никто не проживает/работает в непосредственной близости к залу (показатель 0)\n",
    "- 46% клиентов являются \"результатом\" партнерской программы\n",
    "- ~8% клиентов пришли по рекомендации действующего клиента\n",
    "- 100% клиентов оставили свой телефон\n",
    "- средняя длительность абонемента/договора составляет 2,3 месяца\n",
    "- только 21% клиентов посещает групповые занятия\n",
    "- средний возраст 29 лет\n",
    "- средняя выручка по дополнительным услугам составила 137 долларов\n",
    "- договор в среднем истекает через 2,2 месяца\n",
    "- лайфтайм чуть менее 3 месяцев\n",
    "- средняя посещаемость за неделю менее 2-х раз\n",
    "- средняя посещаемость в неделю в разрезе прошлого месяца - 1,56 раза\n",
    "\n",
    "**Данные по клиентам, менее \"расположенным\" к оттоку:**\n",
    "- равное количество мужчин и женщин (49%)\n",
    "- 95% клиентов проживает/работает в непосредственной близости к залу\n",
    "- 73% клиентов являются \"результатом\" партнерской программы\n",
    "- 46% клиентов пришли по рекомендации действующего клиента\n",
    "- 100% клиентов оставили свой телефон\n",
    "- средняя длительность абонемента/договора составляет 1 год\n",
    "- только 54% клиентов посещает групповые занятия\n",
    "- средний возраст 30 лет\n",
    "- средняя выручка по дополнительным услугам составила 166 долларов\n",
    "- договор в среднем истекает через 10 месяцев\n",
    "- лайфтайм близок к 5 месяцам\n",
    "- средняя посещаемость за неделю более 2-х раз\n",
    "- средняя посещаемость в неделю в разрезе прошлого месяца - 2,1 раза\n",
    "\n",
    "Видим, что причинами оттока не является пол клиента (очевидно, возможности фитнес-центров адаптированы под интересы как мужчин, так и женщин), факт предоставления контактного телефона (можно исключить обзвоны и навязывание услуг), какого-либо различия по возрасту также не наблюдается.\n",
    "\n",
    "Также, к оттоку более расположены те, для кого фитнес весьма удален (как время, так и транспортные расходы могли повлиять на такое решение)\n",
    "\n",
    "Также, стоит отметить, срок действия абонементов: разница между уходящим и постоянным клиентом порядка 5 раз. Групповые занятия чаще посещают постоянные клиенты сети, посещаемость у них тоже выше. Логично, что если новичок редко посещает зал, вероятность приобретения дополнительных услуг крайне мала, поэтому и по показателю \"дополнительной прибыли\" постоянные клиенты \"впереди\".\n",
    "\n",
    "Стоит отметить, что не все из нижеизложенных рекомендаций будут построены сугубо на итогах исследования, где-то причиноследственная связь будет дополнена с точки зрения потенциального потребителя, возможно, она окажется близка с истине."
   ]
  },
  {
   "cell_type": "markdown",
   "metadata": {},
   "source": [
    "**Резюмируя:**\n",
    "\n",
    "- в рамках исследования неоднократно был подмечен факт низкой посещаемости клиентов, которые позднее отказываются от услуг компании. Не исключено, что попадая в клуб люди банально не знают, что делать и их интерес быстро угасает. Что можно сделать: каждому клиенту проводить \"онбординг\", вне зависимости от срока действия его абонемента, целей, преследуемых клиентом и прочего\n",
    "- аналогичное предложение и по уходящим клиентам, но имеющим какой-то \"стаж\" в клубе. Например. если клиент не посещал клуб, скажем, месяц, стоит связаться с ним и узнать о причинах (ненавязчиво!), возможно, ситуация решаема. Можно также предложить разнообразить групповые программы, но имеющихся данных недостаточно, чтобы предположить рентабельность такой рекомендации\n",
    "- новичкам, которые не посещают клуб или тем, кто близок к отказу от пролонгации абонемента предлагать индивидуальные решения. Например, персональная тренировка со скидкой 30%, один сеанс массажа без доплаты, и.т.п. Кстати, эта рекомендация коррелирует с тем фактом, что уходящие клиенты реже приобретают дополнительные услуги. В теории, можно и удержать клиента и увеличить выручку.\n",
    "- возможно, нуждается в пересмотре абонементная/договорная система. Видим, что имеются клиенты с лайфтаймом порядка трех месяцев. По имеющимся данным нельзя констатировать эту рекомендацию, как факт, но не исключено, что предлагаются договоры с маленьким сроком действия (условно 1 квартал). На практике, как правило, такие сроки абонемента редко встречаются, а если и бывают, но проигрывают по выгодности годовому абонементу. Склоняюсь эту рекомендацию отнести к \"второстепенным\", но может быть и здесь есть доля истины. Безусловно, не самая эффективная мотивация для клиента не бросать спорт, т.к. уже оплатил, но в связке с вышеуказанными рекомендациями результат может быть\n",
    "- при наличии бюджета, разработать приложение (или дополнение к имеющемуся), которое будет информировать о групповых тренировках. Либо, позволит создавать чек-лист (к примеру, за месяц увеличить дистанцию на беговой дорожке в 2 раза), а приложение будет \"деликатно\" напоминать, на какой стадии клиент\n",
    "- провести аудит качества услуг, качества оборудования, доступности раздевалок, кулеров и прочего (можно также собрать обратную связь от клиентов, желающих ее предоставить)"
   ]
  },
  {
   "cell_type": "markdown",
   "metadata": {},
   "source": [
    "## Спасибо за внимание!"
   ]
  }
 ],
 "metadata": {
  "ExecuteTimeLog": [
   {
    "duration": 1574,
    "start_time": "2022-05-26T11:46:31.711Z"
   },
   {
    "duration": 52,
    "start_time": "2022-05-26T11:47:02.603Z"
   },
   {
    "duration": 148,
    "start_time": "2022-05-26T11:47:31.747Z"
   },
   {
    "duration": 5,
    "start_time": "2022-05-26T11:47:57.290Z"
   },
   {
    "duration": 18,
    "start_time": "2022-05-26T11:49:57.523Z"
   },
   {
    "duration": 4,
    "start_time": "2022-05-26T11:50:42.127Z"
   },
   {
    "duration": 4,
    "start_time": "2022-05-26T11:54:10.870Z"
   },
   {
    "duration": 10,
    "start_time": "2022-05-26T11:54:15.124Z"
   },
   {
    "duration": 16,
    "start_time": "2022-05-26T11:54:21.115Z"
   },
   {
    "duration": 8,
    "start_time": "2022-05-26T11:55:05.971Z"
   },
   {
    "duration": 7,
    "start_time": "2022-05-26T11:55:18.635Z"
   },
   {
    "duration": 30,
    "start_time": "2022-05-26T11:56:16.257Z"
   },
   {
    "duration": 7,
    "start_time": "2022-05-26T11:56:31.001Z"
   },
   {
    "duration": 44,
    "start_time": "2022-05-26T12:27:00.804Z"
   },
   {
    "duration": 24,
    "start_time": "2022-05-26T13:28:54.798Z"
   },
   {
    "duration": 6,
    "start_time": "2022-05-26T13:33:20.454Z"
   },
   {
    "duration": 16,
    "start_time": "2022-05-26T13:33:25.606Z"
   },
   {
    "duration": 599,
    "start_time": "2022-05-26T13:57:14.011Z"
   },
   {
    "duration": 330,
    "start_time": "2022-05-26T13:57:32.869Z"
   },
   {
    "duration": 267,
    "start_time": "2022-05-26T13:57:37.155Z"
   },
   {
    "duration": 150,
    "start_time": "2022-05-26T14:05:52.662Z"
   },
   {
    "duration": 6,
    "start_time": "2022-05-26T14:05:56.980Z"
   },
   {
    "duration": 4,
    "start_time": "2022-05-26T14:06:00.171Z"
   },
   {
    "duration": 9,
    "start_time": "2022-05-26T14:06:19.218Z"
   },
   {
    "duration": 14,
    "start_time": "2022-05-26T14:06:20.554Z"
   },
   {
    "duration": 12,
    "start_time": "2022-05-26T14:06:42.192Z"
   },
   {
    "duration": 4,
    "start_time": "2022-05-26T14:07:15.193Z"
   },
   {
    "duration": 3,
    "start_time": "2022-05-26T14:07:16.313Z"
   },
   {
    "duration": 11,
    "start_time": "2022-05-26T14:07:17.017Z"
   },
   {
    "duration": 9,
    "start_time": "2022-05-26T14:08:30.084Z"
   },
   {
    "duration": 150,
    "start_time": "2022-05-26T14:08:36.249Z"
   },
   {
    "duration": 10,
    "start_time": "2022-05-26T14:08:43.386Z"
   },
   {
    "duration": 4,
    "start_time": "2022-05-26T14:08:45.128Z"
   },
   {
    "duration": 4,
    "start_time": "2022-05-26T14:08:45.791Z"
   },
   {
    "duration": 1768,
    "start_time": "2022-05-26T14:08:46.643Z"
   },
   {
    "duration": 21,
    "start_time": "2022-05-26T14:10:07.375Z"
   },
   {
    "duration": 259,
    "start_time": "2022-05-26T14:10:36.187Z"
   },
   {
    "duration": 233,
    "start_time": "2022-05-26T14:10:52.999Z"
   },
   {
    "duration": 215,
    "start_time": "2022-05-26T14:11:02.757Z"
   },
   {
    "duration": 1685,
    "start_time": "2022-05-26T14:11:06.598Z"
   },
   {
    "duration": 1991,
    "start_time": "2022-05-26T14:11:17.317Z"
   },
   {
    "duration": 7,
    "start_time": "2022-05-26T14:15:27.729Z"
   },
   {
    "duration": 4,
    "start_time": "2022-05-26T14:15:28.944Z"
   },
   {
    "duration": 5,
    "start_time": "2022-05-26T14:15:34.487Z"
   },
   {
    "duration": 2099,
    "start_time": "2022-05-26T14:15:38.832Z"
   },
   {
    "duration": 7,
    "start_time": "2022-05-26T14:16:22.983Z"
   },
   {
    "duration": 2009,
    "start_time": "2022-05-26T14:16:29.030Z"
   },
   {
    "duration": 16,
    "start_time": "2022-05-26T14:16:35.454Z"
   },
   {
    "duration": 2070,
    "start_time": "2022-05-26T14:18:01.381Z"
   },
   {
    "duration": 1976,
    "start_time": "2022-05-26T14:18:12.965Z"
   },
   {
    "duration": 11,
    "start_time": "2022-05-26T14:22:40.816Z"
   },
   {
    "duration": 7,
    "start_time": "2022-05-26T14:22:45.886Z"
   },
   {
    "duration": 6,
    "start_time": "2022-05-26T14:22:46.584Z"
   },
   {
    "duration": 1851,
    "start_time": "2022-05-26T14:22:47.686Z"
   },
   {
    "duration": 1946,
    "start_time": "2022-05-26T14:23:56.319Z"
   },
   {
    "duration": 6,
    "start_time": "2022-05-26T14:53:19.831Z"
   },
   {
    "duration": 20,
    "start_time": "2022-05-26T14:53:24.063Z"
   },
   {
    "duration": 1631,
    "start_time": "2022-05-26T17:17:10.959Z"
   },
   {
    "duration": 152,
    "start_time": "2022-05-26T17:17:12.593Z"
   },
   {
    "duration": 10,
    "start_time": "2022-05-26T17:17:12.747Z"
   },
   {
    "duration": 3,
    "start_time": "2022-05-26T17:17:12.759Z"
   },
   {
    "duration": 10,
    "start_time": "2022-05-26T17:17:12.764Z"
   },
   {
    "duration": 6,
    "start_time": "2022-05-26T17:17:12.775Z"
   },
   {
    "duration": 7,
    "start_time": "2022-05-26T17:17:12.783Z"
   },
   {
    "duration": 6,
    "start_time": "2022-05-26T17:17:12.802Z"
   },
   {
    "duration": 49,
    "start_time": "2022-05-26T17:17:12.810Z"
   },
   {
    "duration": 42,
    "start_time": "2022-05-26T17:17:12.861Z"
   },
   {
    "duration": 18,
    "start_time": "2022-05-26T17:17:12.905Z"
   },
   {
    "duration": 299,
    "start_time": "2022-05-26T17:17:12.925Z"
   },
   {
    "duration": 8,
    "start_time": "2022-05-26T17:17:13.226Z"
   },
   {
    "duration": 5,
    "start_time": "2022-05-26T17:17:13.236Z"
   },
   {
    "duration": 2131,
    "start_time": "2022-05-26T17:17:13.242Z"
   },
   {
    "duration": 34,
    "start_time": "2022-05-26T17:17:15.375Z"
   },
   {
    "duration": 1694,
    "start_time": "2022-05-26T17:18:09.475Z"
   },
   {
    "duration": 1674,
    "start_time": "2022-05-26T17:18:19.761Z"
   },
   {
    "duration": 1822,
    "start_time": "2022-05-27T07:21:53.969Z"
   },
   {
    "duration": 144,
    "start_time": "2022-05-27T07:21:55.796Z"
   },
   {
    "duration": 13,
    "start_time": "2022-05-27T07:21:55.942Z"
   },
   {
    "duration": 9,
    "start_time": "2022-05-27T07:21:55.957Z"
   },
   {
    "duration": 15,
    "start_time": "2022-05-27T07:21:55.969Z"
   },
   {
    "duration": 15,
    "start_time": "2022-05-27T07:21:55.987Z"
   },
   {
    "duration": 24,
    "start_time": "2022-05-27T07:21:56.004Z"
   },
   {
    "duration": 6,
    "start_time": "2022-05-27T07:21:56.031Z"
   },
   {
    "duration": 101,
    "start_time": "2022-05-27T07:21:56.039Z"
   },
   {
    "duration": 45,
    "start_time": "2022-05-27T07:21:56.142Z"
   },
   {
    "duration": 28,
    "start_time": "2022-05-27T07:21:56.189Z"
   },
   {
    "duration": 401,
    "start_time": "2022-05-27T07:21:56.219Z"
   },
   {
    "duration": 10,
    "start_time": "2022-05-27T07:21:56.622Z"
   },
   {
    "duration": 6,
    "start_time": "2022-05-27T07:21:56.634Z"
   },
   {
    "duration": 2785,
    "start_time": "2022-05-27T07:21:56.642Z"
   },
   {
    "duration": 25,
    "start_time": "2022-05-27T07:21:59.430Z"
   },
   {
    "duration": 1845,
    "start_time": "2022-05-27T07:21:59.457Z"
   },
   {
    "duration": 5,
    "start_time": "2022-05-27T07:34:51.841Z"
   },
   {
    "duration": 6,
    "start_time": "2022-05-27T07:35:06.012Z"
   },
   {
    "duration": 147,
    "start_time": "2022-05-27T07:39:11.648Z"
   },
   {
    "duration": 24,
    "start_time": "2022-05-27T07:39:50.225Z"
   },
   {
    "duration": 3,
    "start_time": "2022-05-27T07:40:33.671Z"
   },
   {
    "duration": 990,
    "start_time": "2022-05-27T07:40:34.808Z"
   },
   {
    "duration": 531,
    "start_time": "2022-05-27T07:42:07.165Z"
   },
   {
    "duration": 11,
    "start_time": "2022-05-27T07:44:09.451Z"
   },
   {
    "duration": 17,
    "start_time": "2022-05-27T07:44:36.883Z"
   },
   {
    "duration": 3,
    "start_time": "2022-05-27T07:44:44.036Z"
   },
   {
    "duration": 509,
    "start_time": "2022-05-27T07:44:47.837Z"
   },
   {
    "duration": 414,
    "start_time": "2022-05-27T07:48:08.739Z"
   },
   {
    "duration": 444,
    "start_time": "2022-05-27T07:48:19.982Z"
   },
   {
    "duration": 4,
    "start_time": "2022-05-27T07:48:56.610Z"
   },
   {
    "duration": 15,
    "start_time": "2022-05-27T07:49:04.582Z"
   },
   {
    "duration": 5,
    "start_time": "2022-05-27T07:49:27.102Z"
   },
   {
    "duration": 12,
    "start_time": "2022-05-27T07:49:27.629Z"
   },
   {
    "duration": 35,
    "start_time": "2022-05-27T07:51:40.636Z"
   },
   {
    "duration": 9,
    "start_time": "2022-05-27T07:52:18.267Z"
   },
   {
    "duration": 11,
    "start_time": "2022-05-27T07:52:33.555Z"
   },
   {
    "duration": 22,
    "start_time": "2022-05-27T07:53:01.977Z"
   },
   {
    "duration": 15,
    "start_time": "2022-05-27T07:53:08.585Z"
   },
   {
    "duration": 13,
    "start_time": "2022-05-27T07:53:28.010Z"
   },
   {
    "duration": 438,
    "start_time": "2022-05-27T07:53:41.081Z"
   },
   {
    "duration": 11,
    "start_time": "2022-05-27T07:53:42.513Z"
   },
   {
    "duration": 1688,
    "start_time": "2022-05-27T07:53:47.749Z"
   },
   {
    "duration": 50,
    "start_time": "2022-05-27T07:53:49.439Z"
   },
   {
    "duration": 20,
    "start_time": "2022-05-27T07:53:49.492Z"
   },
   {
    "duration": 5,
    "start_time": "2022-05-27T07:53:49.515Z"
   },
   {
    "duration": 16,
    "start_time": "2022-05-27T07:53:49.522Z"
   },
   {
    "duration": 9,
    "start_time": "2022-05-27T07:53:49.540Z"
   },
   {
    "duration": 20,
    "start_time": "2022-05-27T07:53:49.599Z"
   },
   {
    "duration": 24,
    "start_time": "2022-05-27T07:53:49.623Z"
   },
   {
    "duration": 69,
    "start_time": "2022-05-27T07:53:49.649Z"
   },
   {
    "duration": 31,
    "start_time": "2022-05-27T07:53:49.721Z"
   },
   {
    "duration": 41,
    "start_time": "2022-05-27T07:53:49.753Z"
   },
   {
    "duration": 359,
    "start_time": "2022-05-27T07:53:49.797Z"
   },
   {
    "duration": 60,
    "start_time": "2022-05-27T07:53:50.158Z"
   },
   {
    "duration": 6,
    "start_time": "2022-05-27T07:53:50.220Z"
   },
   {
    "duration": 2698,
    "start_time": "2022-05-27T07:53:50.228Z"
   },
   {
    "duration": 22,
    "start_time": "2022-05-27T07:53:52.928Z"
   },
   {
    "duration": 1682,
    "start_time": "2022-05-27T07:53:52.951Z"
   },
   {
    "duration": 4,
    "start_time": "2022-05-27T07:53:54.635Z"
   },
   {
    "duration": 11,
    "start_time": "2022-05-27T07:53:54.641Z"
   },
   {
    "duration": 31,
    "start_time": "2022-05-27T07:53:54.654Z"
   },
   {
    "duration": 1312,
    "start_time": "2022-05-27T07:53:54.687Z"
   },
   {
    "duration": 85,
    "start_time": "2022-05-27T07:53:56.004Z"
   },
   {
    "duration": 254,
    "start_time": "2022-05-27T07:53:56.093Z"
   },
   {
    "duration": 0,
    "start_time": "2022-05-27T07:53:56.349Z"
   },
   {
    "duration": 0,
    "start_time": "2022-05-27T07:53:56.351Z"
   },
   {
    "duration": 0,
    "start_time": "2022-05-27T07:53:56.352Z"
   },
   {
    "duration": 16,
    "start_time": "2022-05-27T07:54:10.608Z"
   },
   {
    "duration": 3,
    "start_time": "2022-05-27T07:54:16.664Z"
   },
   {
    "duration": 449,
    "start_time": "2022-05-27T07:54:18.609Z"
   },
   {
    "duration": 4,
    "start_time": "2022-05-27T07:54:21.024Z"
   },
   {
    "duration": 11,
    "start_time": "2022-05-27T07:54:22.920Z"
   },
   {
    "duration": 22,
    "start_time": "2022-05-27T07:54:24.000Z"
   },
   {
    "duration": 1278,
    "start_time": "2022-05-27T07:54:28.613Z"
   },
   {
    "duration": 52,
    "start_time": "2022-05-27T07:54:29.894Z"
   },
   {
    "duration": 14,
    "start_time": "2022-05-27T07:54:29.948Z"
   },
   {
    "duration": 8,
    "start_time": "2022-05-27T07:54:29.964Z"
   },
   {
    "duration": 52,
    "start_time": "2022-05-27T07:54:29.974Z"
   },
   {
    "duration": 35,
    "start_time": "2022-05-27T07:54:30.028Z"
   },
   {
    "duration": 47,
    "start_time": "2022-05-27T07:54:30.065Z"
   },
   {
    "duration": 49,
    "start_time": "2022-05-27T07:54:30.114Z"
   },
   {
    "duration": 89,
    "start_time": "2022-05-27T07:54:30.165Z"
   },
   {
    "duration": 28,
    "start_time": "2022-05-27T07:54:30.257Z"
   },
   {
    "duration": 36,
    "start_time": "2022-05-27T07:54:30.300Z"
   },
   {
    "duration": 316,
    "start_time": "2022-05-27T07:54:30.338Z"
   },
   {
    "duration": 31,
    "start_time": "2022-05-27T07:54:30.656Z"
   },
   {
    "duration": 29,
    "start_time": "2022-05-27T07:54:30.689Z"
   },
   {
    "duration": 2380,
    "start_time": "2022-05-27T07:54:30.721Z"
   },
   {
    "duration": 28,
    "start_time": "2022-05-27T07:54:33.103Z"
   },
   {
    "duration": 1631,
    "start_time": "2022-05-27T07:54:33.134Z"
   },
   {
    "duration": 4,
    "start_time": "2022-05-27T07:54:34.767Z"
   },
   {
    "duration": 9,
    "start_time": "2022-05-27T07:54:34.783Z"
   },
   {
    "duration": 22,
    "start_time": "2022-05-27T07:54:34.797Z"
   },
   {
    "duration": 1179,
    "start_time": "2022-05-27T07:54:34.821Z"
   },
   {
    "duration": 92,
    "start_time": "2022-05-27T07:54:36.092Z"
   },
   {
    "duration": 429,
    "start_time": "2022-05-27T07:54:36.187Z"
   },
   {
    "duration": 4,
    "start_time": "2022-05-27T07:54:36.618Z"
   },
   {
    "duration": 13,
    "start_time": "2022-05-27T07:54:36.624Z"
   },
   {
    "duration": 16,
    "start_time": "2022-05-27T07:54:36.639Z"
   },
   {
    "duration": 11,
    "start_time": "2022-05-27T08:09:25.535Z"
   },
   {
    "duration": 7,
    "start_time": "2022-05-27T08:10:09.535Z"
   },
   {
    "duration": 3,
    "start_time": "2022-05-27T08:10:37.614Z"
   },
   {
    "duration": 126793,
    "start_time": "2022-05-27T08:11:24.350Z"
   },
   {
    "duration": 130066,
    "start_time": "2022-05-27T08:14:28.213Z"
   },
   {
    "duration": 1402,
    "start_time": "2022-05-27T08:21:56.030Z"
   },
   {
    "duration": 1333,
    "start_time": "2022-05-27T08:23:29.371Z"
   },
   {
    "duration": 24,
    "start_time": "2022-05-27T08:23:32.730Z"
   },
   {
    "duration": 1297,
    "start_time": "2022-05-27T08:24:38.517Z"
   },
   {
    "duration": 81,
    "start_time": "2022-05-27T08:24:39.817Z"
   },
   {
    "duration": 34,
    "start_time": "2022-05-27T08:50:24.748Z"
   },
   {
    "duration": 27,
    "start_time": "2022-05-27T08:50:37.268Z"
   },
   {
    "duration": 15,
    "start_time": "2022-05-27T08:50:57.546Z"
   },
   {
    "duration": 727,
    "start_time": "2022-05-27T09:09:22.053Z"
   },
   {
    "duration": 1331,
    "start_time": "2022-05-27T09:09:32.049Z"
   },
   {
    "duration": 1134,
    "start_time": "2022-05-27T09:09:37.470Z"
   },
   {
    "duration": 641,
    "start_time": "2022-05-27T09:10:16.798Z"
   },
   {
    "duration": 1164,
    "start_time": "2022-05-27T09:11:32.622Z"
   },
   {
    "duration": 1066,
    "start_time": "2022-05-27T09:11:59.157Z"
   },
   {
    "duration": 1347,
    "start_time": "2022-05-27T09:14:01.691Z"
   },
   {
    "duration": 1777,
    "start_time": "2022-05-27T09:14:12.754Z"
   },
   {
    "duration": 1339,
    "start_time": "2022-05-27T09:14:20.283Z"
   },
   {
    "duration": 1048,
    "start_time": "2022-05-27T09:15:38.846Z"
   },
   {
    "duration": 1493,
    "start_time": "2022-05-27T15:19:35.735Z"
   },
   {
    "duration": 273,
    "start_time": "2022-05-27T15:19:37.231Z"
   },
   {
    "duration": 14,
    "start_time": "2022-05-27T15:19:37.509Z"
   },
   {
    "duration": 5,
    "start_time": "2022-05-27T15:19:37.525Z"
   },
   {
    "duration": 13,
    "start_time": "2022-05-27T15:19:37.532Z"
   },
   {
    "duration": 7,
    "start_time": "2022-05-27T15:19:37.546Z"
   },
   {
    "duration": 10,
    "start_time": "2022-05-27T15:19:37.554Z"
   },
   {
    "duration": 33,
    "start_time": "2022-05-27T15:19:37.565Z"
   },
   {
    "duration": 53,
    "start_time": "2022-05-27T15:19:37.601Z"
   },
   {
    "duration": 46,
    "start_time": "2022-05-27T15:19:37.655Z"
   },
   {
    "duration": 16,
    "start_time": "2022-05-27T15:19:37.703Z"
   },
   {
    "duration": 294,
    "start_time": "2022-05-27T15:19:37.721Z"
   },
   {
    "duration": 10,
    "start_time": "2022-05-27T15:19:38.017Z"
   },
   {
    "duration": 13,
    "start_time": "2022-05-27T15:19:38.029Z"
   },
   {
    "duration": 2093,
    "start_time": "2022-05-27T15:19:38.044Z"
   },
   {
    "duration": 21,
    "start_time": "2022-05-27T15:19:40.139Z"
   },
   {
    "duration": 1543,
    "start_time": "2022-05-27T15:19:40.162Z"
   },
   {
    "duration": 4,
    "start_time": "2022-05-27T15:19:41.707Z"
   },
   {
    "duration": 10,
    "start_time": "2022-05-27T15:19:41.713Z"
   },
   {
    "duration": 5,
    "start_time": "2022-05-27T15:19:41.725Z"
   },
   {
    "duration": 268,
    "start_time": "2022-05-27T15:19:41.732Z"
   },
   {
    "duration": 5,
    "start_time": "2022-05-27T15:19:42.003Z"
   },
   {
    "duration": 474,
    "start_time": "2022-05-27T15:19:42.095Z"
   },
   {
    "duration": 4,
    "start_time": "2022-05-27T15:19:42.571Z"
   },
   {
    "duration": 23,
    "start_time": "2022-05-27T15:19:42.577Z"
   },
   {
    "duration": 11,
    "start_time": "2022-05-27T15:19:42.602Z"
   },
   {
    "duration": 8,
    "start_time": "2022-05-27T15:19:42.616Z"
   },
   {
    "duration": 109273,
    "start_time": "2022-05-27T15:19:42.626Z"
   },
   {
    "duration": 1396,
    "start_time": "2022-05-27T15:21:31.901Z"
   },
   {
    "duration": 127,
    "start_time": "2022-05-27T15:21:33.298Z"
   },
   {
    "duration": 0,
    "start_time": "2022-05-27T15:21:33.426Z"
   },
   {
    "duration": 16,
    "start_time": "2022-05-27T15:22:09.059Z"
   },
   {
    "duration": 1027,
    "start_time": "2022-05-27T15:22:12.692Z"
   },
   {
    "duration": 33,
    "start_time": "2022-05-27T15:28:08.854Z"
   },
   {
    "duration": 6,
    "start_time": "2022-05-27T15:28:29.053Z"
   },
   {
    "duration": 17,
    "start_time": "2022-05-27T15:28:34.229Z"
   },
   {
    "duration": 6,
    "start_time": "2022-05-27T15:28:40.145Z"
   },
   {
    "duration": 23,
    "start_time": "2022-05-27T15:28:40.685Z"
   },
   {
    "duration": 7,
    "start_time": "2022-05-27T15:32:00.451Z"
   },
   {
    "duration": 15,
    "start_time": "2022-05-27T15:32:01.426Z"
   },
   {
    "duration": 8,
    "start_time": "2022-05-27T15:32:21.522Z"
   },
   {
    "duration": 15,
    "start_time": "2022-05-27T15:32:22.826Z"
   },
   {
    "duration": 12,
    "start_time": "2022-05-27T15:33:10.954Z"
   },
   {
    "duration": 13,
    "start_time": "2022-05-27T15:33:29.233Z"
   },
   {
    "duration": 1343,
    "start_time": "2022-05-27T16:36:11.477Z"
   },
   {
    "duration": 47,
    "start_time": "2022-05-27T16:36:12.822Z"
   },
   {
    "duration": 11,
    "start_time": "2022-05-27T16:36:12.871Z"
   },
   {
    "duration": 3,
    "start_time": "2022-05-27T16:36:12.884Z"
   },
   {
    "duration": 18,
    "start_time": "2022-05-27T16:36:12.890Z"
   },
   {
    "duration": 10,
    "start_time": "2022-05-27T16:36:12.910Z"
   },
   {
    "duration": 10,
    "start_time": "2022-05-27T16:36:12.922Z"
   },
   {
    "duration": 5,
    "start_time": "2022-05-27T16:36:12.934Z"
   },
   {
    "duration": 76,
    "start_time": "2022-05-27T16:36:12.940Z"
   },
   {
    "duration": 28,
    "start_time": "2022-05-27T16:36:13.017Z"
   },
   {
    "duration": 16,
    "start_time": "2022-05-27T16:36:13.047Z"
   },
   {
    "duration": 44,
    "start_time": "2022-05-27T16:36:13.064Z"
   },
   {
    "duration": 6,
    "start_time": "2022-05-27T16:36:13.110Z"
   },
   {
    "duration": 2135,
    "start_time": "2022-05-27T16:36:13.118Z"
   },
   {
    "duration": 20,
    "start_time": "2022-05-27T16:36:15.255Z"
   },
   {
    "duration": 1515,
    "start_time": "2022-05-27T16:36:15.277Z"
   },
   {
    "duration": 8,
    "start_time": "2022-05-27T16:36:16.794Z"
   },
   {
    "duration": 10,
    "start_time": "2022-05-27T16:36:16.809Z"
   },
   {
    "duration": 3,
    "start_time": "2022-05-27T16:36:16.821Z"
   },
   {
    "duration": 481,
    "start_time": "2022-05-27T16:36:16.826Z"
   },
   {
    "duration": 2,
    "start_time": "2022-05-27T16:36:17.310Z"
   },
   {
    "duration": 543,
    "start_time": "2022-05-27T16:36:17.394Z"
   },
   {
    "duration": 4,
    "start_time": "2022-05-27T16:36:17.939Z"
   },
   {
    "duration": 18,
    "start_time": "2022-05-27T16:36:17.945Z"
   },
   {
    "duration": 44,
    "start_time": "2022-05-27T16:36:17.965Z"
   },
   {
    "duration": 8,
    "start_time": "2022-05-27T16:36:18.011Z"
   },
   {
    "duration": 114375,
    "start_time": "2022-05-27T16:36:18.021Z"
   },
   {
    "duration": 1090,
    "start_time": "2022-05-27T16:38:12.408Z"
   },
   {
    "duration": 18,
    "start_time": "2022-05-27T16:38:13.502Z"
   },
   {
    "duration": 1129,
    "start_time": "2022-05-27T16:38:13.521Z"
   },
   {
    "duration": 16,
    "start_time": "2022-05-27T16:38:14.652Z"
   },
   {
    "duration": 1305,
    "start_time": "2022-05-27T18:01:25.302Z"
   },
   {
    "duration": 55,
    "start_time": "2022-05-27T18:01:26.612Z"
   },
   {
    "duration": 13,
    "start_time": "2022-05-27T18:01:26.669Z"
   },
   {
    "duration": 3,
    "start_time": "2022-05-27T18:01:26.684Z"
   },
   {
    "duration": 15,
    "start_time": "2022-05-27T18:01:26.689Z"
   },
   {
    "duration": 15,
    "start_time": "2022-05-27T18:01:26.706Z"
   },
   {
    "duration": 9,
    "start_time": "2022-05-27T18:01:26.723Z"
   },
   {
    "duration": 7,
    "start_time": "2022-05-27T18:01:26.734Z"
   },
   {
    "duration": 71,
    "start_time": "2022-05-27T18:01:26.743Z"
   },
   {
    "duration": 27,
    "start_time": "2022-05-27T18:01:26.816Z"
   },
   {
    "duration": 17,
    "start_time": "2022-05-27T18:01:26.844Z"
   },
   {
    "duration": 36,
    "start_time": "2022-05-27T18:01:26.863Z"
   },
   {
    "duration": 10,
    "start_time": "2022-05-27T18:01:26.901Z"
   },
   {
    "duration": 2351,
    "start_time": "2022-05-27T18:01:26.914Z"
   },
   {
    "duration": 46,
    "start_time": "2022-05-27T18:01:29.267Z"
   },
   {
    "duration": 1554,
    "start_time": "2022-05-27T18:01:29.315Z"
   },
   {
    "duration": 4,
    "start_time": "2022-05-27T18:01:30.871Z"
   },
   {
    "duration": 40,
    "start_time": "2022-05-27T18:01:30.876Z"
   },
   {
    "duration": 282,
    "start_time": "2022-05-27T18:01:30.918Z"
   },
   {
    "duration": 504,
    "start_time": "2022-05-27T18:01:31.203Z"
   },
   {
    "duration": 4,
    "start_time": "2022-05-27T18:01:31.709Z"
   },
   {
    "duration": 25,
    "start_time": "2022-05-27T18:01:31.715Z"
   },
   {
    "duration": 12,
    "start_time": "2022-05-27T18:01:31.742Z"
   },
   {
    "duration": 8,
    "start_time": "2022-05-27T18:01:31.756Z"
   },
   {
    "duration": 116900,
    "start_time": "2022-05-27T18:01:31.766Z"
   },
   {
    "duration": 1234,
    "start_time": "2022-05-27T18:03:28.668Z"
   },
   {
    "duration": 19,
    "start_time": "2022-05-27T18:03:29.904Z"
   },
   {
    "duration": 1280,
    "start_time": "2022-05-27T18:03:29.925Z"
   },
   {
    "duration": 14,
    "start_time": "2022-05-27T18:03:31.207Z"
   },
   {
    "duration": 1664,
    "start_time": "2022-05-28T11:51:46.577Z"
   },
   {
    "duration": 76,
    "start_time": "2022-05-28T11:51:48.243Z"
   },
   {
    "duration": 11,
    "start_time": "2022-05-28T11:51:48.321Z"
   },
   {
    "duration": 4,
    "start_time": "2022-05-28T11:51:48.333Z"
   },
   {
    "duration": 15,
    "start_time": "2022-05-28T11:51:48.339Z"
   },
   {
    "duration": 6,
    "start_time": "2022-05-28T11:51:48.356Z"
   },
   {
    "duration": 9,
    "start_time": "2022-05-28T11:51:48.364Z"
   },
   {
    "duration": 4,
    "start_time": "2022-05-28T11:51:48.375Z"
   },
   {
    "duration": 49,
    "start_time": "2022-05-28T11:51:48.380Z"
   },
   {
    "duration": 42,
    "start_time": "2022-05-28T11:51:48.431Z"
   },
   {
    "duration": 15,
    "start_time": "2022-05-28T11:51:48.475Z"
   },
   {
    "duration": 8,
    "start_time": "2022-05-28T11:51:48.491Z"
   },
   {
    "duration": 5,
    "start_time": "2022-05-28T11:51:48.500Z"
   },
   {
    "duration": 2010,
    "start_time": "2022-05-28T11:51:48.507Z"
   },
   {
    "duration": 21,
    "start_time": "2022-05-28T11:51:50.518Z"
   },
   {
    "duration": 1495,
    "start_time": "2022-05-28T11:51:50.541Z"
   },
   {
    "duration": 4,
    "start_time": "2022-05-28T11:51:52.038Z"
   },
   {
    "duration": 9,
    "start_time": "2022-05-28T11:51:52.043Z"
   },
   {
    "duration": 111,
    "start_time": "2022-05-28T11:51:52.054Z"
   },
   {
    "duration": 539,
    "start_time": "2022-05-28T11:51:52.168Z"
   },
   {
    "duration": 4,
    "start_time": "2022-05-28T11:51:52.708Z"
   },
   {
    "duration": 15,
    "start_time": "2022-05-28T11:51:52.714Z"
   },
   {
    "duration": 11,
    "start_time": "2022-05-28T11:51:52.732Z"
   },
   {
    "duration": 20,
    "start_time": "2022-05-28T11:51:52.744Z"
   },
   {
    "duration": 110862,
    "start_time": "2022-05-28T11:51:52.765Z"
   },
   {
    "duration": 1438,
    "start_time": "2022-05-28T11:53:43.628Z"
   },
   {
    "duration": 13,
    "start_time": "2022-05-28T11:53:45.068Z"
   },
   {
    "duration": 1209,
    "start_time": "2022-05-28T11:53:45.083Z"
   },
   {
    "duration": 14,
    "start_time": "2022-05-28T11:53:46.293Z"
   },
   {
    "duration": 280,
    "start_time": "2022-05-28T12:24:34.260Z"
   },
   {
    "duration": 52,
    "start_time": "2022-05-28T12:26:09.140Z"
   },
   {
    "duration": 13,
    "start_time": "2022-05-28T12:29:12.055Z"
   },
   {
    "duration": 25,
    "start_time": "2022-05-28T12:57:45.173Z"
   },
   {
    "duration": 36,
    "start_time": "2022-05-28T12:59:33.269Z"
   },
   {
    "duration": 1451,
    "start_time": "2022-05-28T13:33:09.649Z"
   },
   {
    "duration": 77,
    "start_time": "2022-05-28T13:33:11.102Z"
   },
   {
    "duration": 11,
    "start_time": "2022-05-28T13:33:11.180Z"
   },
   {
    "duration": 7,
    "start_time": "2022-05-28T13:33:11.194Z"
   },
   {
    "duration": 11,
    "start_time": "2022-05-28T13:33:11.203Z"
   },
   {
    "duration": 5,
    "start_time": "2022-05-28T13:33:11.216Z"
   },
   {
    "duration": 10,
    "start_time": "2022-05-28T13:33:11.222Z"
   },
   {
    "duration": 4,
    "start_time": "2022-05-28T13:33:11.234Z"
   },
   {
    "duration": 43,
    "start_time": "2022-05-28T13:33:11.259Z"
   },
   {
    "duration": 26,
    "start_time": "2022-05-28T13:33:11.304Z"
   },
   {
    "duration": 40,
    "start_time": "2022-05-28T13:33:11.332Z"
   },
   {
    "duration": 7,
    "start_time": "2022-05-28T13:33:11.374Z"
   },
   {
    "duration": 5,
    "start_time": "2022-05-28T13:33:11.383Z"
   },
   {
    "duration": 2012,
    "start_time": "2022-05-28T13:33:11.390Z"
   },
   {
    "duration": 11,
    "start_time": "2022-05-28T13:33:13.404Z"
   },
   {
    "duration": 21,
    "start_time": "2022-05-28T13:33:13.417Z"
   },
   {
    "duration": 1505,
    "start_time": "2022-05-28T13:33:13.439Z"
   },
   {
    "duration": 4,
    "start_time": "2022-05-28T13:33:14.945Z"
   },
   {
    "duration": 9,
    "start_time": "2022-05-28T13:33:14.950Z"
   },
   {
    "duration": 5,
    "start_time": "2022-05-28T13:33:14.960Z"
   },
   {
    "duration": 99,
    "start_time": "2022-05-28T13:33:14.967Z"
   },
   {
    "duration": 463,
    "start_time": "2022-05-28T13:33:15.158Z"
   },
   {
    "duration": 5,
    "start_time": "2022-05-28T13:33:15.623Z"
   },
   {
    "duration": 16,
    "start_time": "2022-05-28T13:33:15.630Z"
   },
   {
    "duration": 11,
    "start_time": "2022-05-28T13:33:15.658Z"
   },
   {
    "duration": 8,
    "start_time": "2022-05-28T13:33:15.671Z"
   },
   {
    "duration": 1282,
    "start_time": "2022-05-28T13:34:15.565Z"
   },
   {
    "duration": 54,
    "start_time": "2022-05-28T13:34:16.849Z"
   },
   {
    "duration": 11,
    "start_time": "2022-05-28T13:34:16.905Z"
   },
   {
    "duration": 3,
    "start_time": "2022-05-28T13:34:16.918Z"
   },
   {
    "duration": 16,
    "start_time": "2022-05-28T13:34:16.922Z"
   },
   {
    "duration": 5,
    "start_time": "2022-05-28T13:34:16.939Z"
   },
   {
    "duration": 8,
    "start_time": "2022-05-28T13:34:16.946Z"
   },
   {
    "duration": 6,
    "start_time": "2022-05-28T13:34:16.955Z"
   },
   {
    "duration": 55,
    "start_time": "2022-05-28T13:34:16.962Z"
   },
   {
    "duration": 39,
    "start_time": "2022-05-28T13:34:17.020Z"
   },
   {
    "duration": 15,
    "start_time": "2022-05-28T13:34:17.060Z"
   },
   {
    "duration": 7,
    "start_time": "2022-05-28T13:34:17.077Z"
   },
   {
    "duration": 5,
    "start_time": "2022-05-28T13:34:17.086Z"
   },
   {
    "duration": 2133,
    "start_time": "2022-05-28T13:34:17.092Z"
   },
   {
    "duration": 11,
    "start_time": "2022-05-28T13:34:19.226Z"
   },
   {
    "duration": 31,
    "start_time": "2022-05-28T13:34:19.238Z"
   },
   {
    "duration": 1402,
    "start_time": "2022-05-28T13:34:19.270Z"
   },
   {
    "duration": 4,
    "start_time": "2022-05-28T13:34:20.674Z"
   },
   {
    "duration": 12,
    "start_time": "2022-05-28T13:34:20.680Z"
   },
   {
    "duration": 120,
    "start_time": "2022-05-28T13:34:20.693Z"
   },
   {
    "duration": 0,
    "start_time": "2022-05-28T13:34:20.815Z"
   },
   {
    "duration": 0,
    "start_time": "2022-05-28T13:34:20.816Z"
   },
   {
    "duration": 0,
    "start_time": "2022-05-28T13:34:20.817Z"
   },
   {
    "duration": 0,
    "start_time": "2022-05-28T13:34:20.818Z"
   },
   {
    "duration": 0,
    "start_time": "2022-05-28T13:34:20.819Z"
   },
   {
    "duration": 0,
    "start_time": "2022-05-28T13:34:20.820Z"
   },
   {
    "duration": 0,
    "start_time": "2022-05-28T13:34:20.821Z"
   },
   {
    "duration": 0,
    "start_time": "2022-05-28T13:34:20.822Z"
   },
   {
    "duration": 0,
    "start_time": "2022-05-28T13:34:20.824Z"
   },
   {
    "duration": 0,
    "start_time": "2022-05-28T13:34:20.824Z"
   },
   {
    "duration": 0,
    "start_time": "2022-05-28T13:34:20.825Z"
   },
   {
    "duration": 0,
    "start_time": "2022-05-28T13:34:20.826Z"
   },
   {
    "duration": 4,
    "start_time": "2022-05-28T13:34:41.880Z"
   },
   {
    "duration": 4,
    "start_time": "2022-05-28T13:34:56.310Z"
   },
   {
    "duration": 4,
    "start_time": "2022-05-28T13:35:08.407Z"
   },
   {
    "duration": 4,
    "start_time": "2022-05-28T13:35:19.840Z"
   },
   {
    "duration": 4,
    "start_time": "2022-05-28T13:35:38.279Z"
   },
   {
    "duration": 4,
    "start_time": "2022-05-28T13:35:58.766Z"
   },
   {
    "duration": 4,
    "start_time": "2022-05-28T13:36:13.541Z"
   },
   {
    "duration": 4,
    "start_time": "2022-05-28T13:36:23.045Z"
   },
   {
    "duration": 5,
    "start_time": "2022-05-28T13:40:50.176Z"
   },
   {
    "duration": 6,
    "start_time": "2022-05-28T13:49:53.241Z"
   },
   {
    "duration": 1538,
    "start_time": "2022-05-28T13:56:08.394Z"
   },
   {
    "duration": 63,
    "start_time": "2022-05-28T13:56:09.934Z"
   },
   {
    "duration": 13,
    "start_time": "2022-05-28T13:56:09.999Z"
   },
   {
    "duration": 9,
    "start_time": "2022-05-28T13:56:10.015Z"
   },
   {
    "duration": 17,
    "start_time": "2022-05-28T13:56:10.025Z"
   },
   {
    "duration": 54,
    "start_time": "2022-05-28T13:56:10.045Z"
   },
   {
    "duration": 10,
    "start_time": "2022-05-28T13:56:10.101Z"
   },
   {
    "duration": 6,
    "start_time": "2022-05-28T13:56:10.113Z"
   },
   {
    "duration": 71,
    "start_time": "2022-05-28T13:56:10.122Z"
   },
   {
    "duration": 33,
    "start_time": "2022-05-28T13:56:10.199Z"
   },
   {
    "duration": 28,
    "start_time": "2022-05-28T13:56:10.233Z"
   },
   {
    "duration": 12,
    "start_time": "2022-05-28T13:56:10.264Z"
   },
   {
    "duration": 23,
    "start_time": "2022-05-28T13:56:10.279Z"
   },
   {
    "duration": 2352,
    "start_time": "2022-05-28T13:56:10.304Z"
   },
   {
    "duration": 20,
    "start_time": "2022-05-28T13:56:12.661Z"
   },
   {
    "duration": 53,
    "start_time": "2022-05-28T13:56:12.683Z"
   },
   {
    "duration": 1565,
    "start_time": "2022-05-28T13:56:12.739Z"
   },
   {
    "duration": 4,
    "start_time": "2022-05-28T13:56:14.306Z"
   },
   {
    "duration": 13,
    "start_time": "2022-05-28T13:56:14.312Z"
   },
   {
    "duration": 8,
    "start_time": "2022-05-28T13:56:14.327Z"
   },
   {
    "duration": 9,
    "start_time": "2022-05-28T13:56:14.337Z"
   },
   {
    "duration": 637,
    "start_time": "2022-05-28T13:56:14.347Z"
   },
   {
    "duration": 554,
    "start_time": "2022-05-28T13:56:14.987Z"
   },
   {
    "duration": 4,
    "start_time": "2022-05-28T13:56:15.543Z"
   },
   {
    "duration": 27,
    "start_time": "2022-05-28T13:56:15.549Z"
   },
   {
    "duration": 16,
    "start_time": "2022-05-28T13:56:15.578Z"
   },
   {
    "duration": 13,
    "start_time": "2022-05-28T13:56:15.597Z"
   },
   {
    "duration": 115753,
    "start_time": "2022-05-28T13:56:15.615Z"
   },
   {
    "duration": 1495,
    "start_time": "2022-05-28T13:58:11.375Z"
   },
   {
    "duration": 16,
    "start_time": "2022-05-28T13:58:12.876Z"
   },
   {
    "duration": 1127,
    "start_time": "2022-05-28T13:58:12.894Z"
   },
   {
    "duration": 19,
    "start_time": "2022-05-28T13:58:14.023Z"
   },
   {
    "duration": 1668,
    "start_time": "2022-05-28T14:09:47.045Z"
   },
   {
    "duration": 144,
    "start_time": "2022-05-28T14:09:48.715Z"
   },
   {
    "duration": 11,
    "start_time": "2022-05-28T14:09:48.860Z"
   },
   {
    "duration": 6,
    "start_time": "2022-05-28T14:09:48.873Z"
   },
   {
    "duration": 12,
    "start_time": "2022-05-28T14:09:48.880Z"
   },
   {
    "duration": 5,
    "start_time": "2022-05-28T14:09:48.893Z"
   },
   {
    "duration": 7,
    "start_time": "2022-05-28T14:09:48.899Z"
   },
   {
    "duration": 5,
    "start_time": "2022-05-28T14:09:48.907Z"
   },
   {
    "duration": 84,
    "start_time": "2022-05-28T14:09:48.913Z"
   },
   {
    "duration": 27,
    "start_time": "2022-05-28T14:09:48.999Z"
   },
   {
    "duration": 15,
    "start_time": "2022-05-28T14:09:49.027Z"
   },
   {
    "duration": 8,
    "start_time": "2022-05-28T14:09:49.044Z"
   },
   {
    "duration": 32,
    "start_time": "2022-05-28T14:09:49.053Z"
   },
   {
    "duration": 2047,
    "start_time": "2022-05-28T14:09:49.087Z"
   },
   {
    "duration": 15,
    "start_time": "2022-05-28T14:09:51.136Z"
   },
   {
    "duration": 41,
    "start_time": "2022-05-28T14:09:51.153Z"
   },
   {
    "duration": 1564,
    "start_time": "2022-05-28T14:09:51.196Z"
   },
   {
    "duration": 5,
    "start_time": "2022-05-28T14:09:52.763Z"
   },
   {
    "duration": 6,
    "start_time": "2022-05-28T14:09:52.792Z"
   },
   {
    "duration": 17,
    "start_time": "2022-05-28T14:09:52.800Z"
   },
   {
    "duration": 11,
    "start_time": "2022-05-28T14:09:52.819Z"
   },
   {
    "duration": 157,
    "start_time": "2022-05-28T14:09:52.833Z"
   },
   {
    "duration": 573,
    "start_time": "2022-05-28T14:09:52.993Z"
   },
   {
    "duration": 4,
    "start_time": "2022-05-28T14:09:53.568Z"
   },
   {
    "duration": 11,
    "start_time": "2022-05-28T14:09:53.584Z"
   },
   {
    "duration": 20,
    "start_time": "2022-05-28T14:09:53.597Z"
   },
   {
    "duration": 10,
    "start_time": "2022-05-28T14:09:53.619Z"
   },
   {
    "duration": 1395,
    "start_time": "2022-05-28T14:12:00.257Z"
   },
   {
    "duration": 53,
    "start_time": "2022-05-28T14:12:01.654Z"
   },
   {
    "duration": 13,
    "start_time": "2022-05-28T14:12:01.709Z"
   },
   {
    "duration": 29,
    "start_time": "2022-05-28T14:12:01.724Z"
   },
   {
    "duration": 32,
    "start_time": "2022-05-28T14:12:01.756Z"
   },
   {
    "duration": 7,
    "start_time": "2022-05-28T14:12:01.790Z"
   },
   {
    "duration": 23,
    "start_time": "2022-05-28T14:12:01.799Z"
   },
   {
    "duration": 12,
    "start_time": "2022-05-28T14:12:01.824Z"
   },
   {
    "duration": 67,
    "start_time": "2022-05-28T14:12:01.838Z"
   },
   {
    "duration": 33,
    "start_time": "2022-05-28T14:12:01.907Z"
   },
   {
    "duration": 19,
    "start_time": "2022-05-28T14:12:01.942Z"
   },
   {
    "duration": 28,
    "start_time": "2022-05-28T14:12:01.963Z"
   },
   {
    "duration": 12,
    "start_time": "2022-05-28T14:12:01.994Z"
   },
   {
    "duration": 2081,
    "start_time": "2022-05-28T14:12:02.009Z"
   },
   {
    "duration": 3765,
    "start_time": "2022-05-28T14:12:04.092Z"
   },
   {
    "duration": 11,
    "start_time": "2022-05-28T14:12:07.859Z"
   },
   {
    "duration": 33,
    "start_time": "2022-05-28T14:12:07.883Z"
   },
   {
    "duration": 1679,
    "start_time": "2022-05-28T14:12:07.918Z"
   },
   {
    "duration": 4,
    "start_time": "2022-05-28T14:12:09.599Z"
   },
   {
    "duration": 7,
    "start_time": "2022-05-28T14:12:09.604Z"
   },
   {
    "duration": 5,
    "start_time": "2022-05-28T14:12:09.613Z"
   },
   {
    "duration": 6,
    "start_time": "2022-05-28T14:12:09.620Z"
   },
   {
    "duration": 165,
    "start_time": "2022-05-28T14:12:09.628Z"
   },
   {
    "duration": 499,
    "start_time": "2022-05-28T14:12:09.885Z"
   },
   {
    "duration": 4,
    "start_time": "2022-05-28T14:12:10.385Z"
   },
   {
    "duration": 15,
    "start_time": "2022-05-28T14:12:10.391Z"
   },
   {
    "duration": 10,
    "start_time": "2022-05-28T14:12:10.408Z"
   },
   {
    "duration": 8,
    "start_time": "2022-05-28T14:12:10.420Z"
   },
   {
    "duration": 116221,
    "start_time": "2022-05-28T14:12:10.429Z"
   },
   {
    "duration": 1640,
    "start_time": "2022-05-28T14:14:06.652Z"
   },
   {
    "duration": 19,
    "start_time": "2022-05-28T14:14:08.294Z"
   },
   {
    "duration": 1140,
    "start_time": "2022-05-28T14:14:08.315Z"
   },
   {
    "duration": 14,
    "start_time": "2022-05-28T14:14:09.456Z"
   },
   {
    "duration": 2172,
    "start_time": "2022-05-28T14:14:09.485Z"
   },
   {
    "duration": 3381,
    "start_time": "2022-05-28T14:15:25.930Z"
   },
   {
    "duration": 4391,
    "start_time": "2022-05-28T14:15:45.875Z"
   },
   {
    "duration": 2550,
    "start_time": "2022-05-28T14:16:34.788Z"
   },
   {
    "duration": 7731,
    "start_time": "2022-05-28T14:16:46.372Z"
   },
   {
    "duration": 2615,
    "start_time": "2022-05-28T14:17:04.603Z"
   },
   {
    "duration": 1847,
    "start_time": "2022-05-28T14:17:11.096Z"
   },
   {
    "duration": 2623,
    "start_time": "2022-05-28T14:17:21.735Z"
   },
   {
    "duration": 611,
    "start_time": "2022-05-28T14:22:30.534Z"
   },
   {
    "duration": 514,
    "start_time": "2022-05-28T14:22:41.758Z"
   },
   {
    "duration": 489,
    "start_time": "2022-05-28T14:23:02.579Z"
   },
   {
    "duration": 2071,
    "start_time": "2022-05-28T14:23:41.440Z"
   },
   {
    "duration": 1931,
    "start_time": "2022-05-28T14:23:47.613Z"
   },
   {
    "duration": 1822,
    "start_time": "2022-05-28T14:23:54.833Z"
   },
   {
    "duration": 2064,
    "start_time": "2022-05-28T14:31:53.959Z"
   },
   {
    "duration": 2149,
    "start_time": "2022-05-28T14:32:11.388Z"
   },
   {
    "duration": 2177,
    "start_time": "2022-05-28T14:32:36.282Z"
   },
   {
    "duration": 2871,
    "start_time": "2022-05-28T14:35:16.671Z"
   },
   {
    "duration": 2844,
    "start_time": "2022-05-28T14:37:49.713Z"
   },
   {
    "duration": 2707,
    "start_time": "2022-05-28T14:38:04.371Z"
   },
   {
    "duration": 2894,
    "start_time": "2022-05-28T14:38:54.947Z"
   },
   {
    "duration": 2961,
    "start_time": "2022-05-28T14:40:22.149Z"
   },
   {
    "duration": 25,
    "start_time": "2022-05-28T14:41:01.440Z"
   },
   {
    "duration": 22,
    "start_time": "2022-05-28T14:41:11.083Z"
   },
   {
    "duration": 2979,
    "start_time": "2022-05-28T14:41:15.122Z"
   },
   {
    "duration": 1438,
    "start_time": "2022-05-28T15:03:47.934Z"
   },
   {
    "duration": 60,
    "start_time": "2022-05-28T15:03:52.768Z"
   },
   {
    "duration": 14,
    "start_time": "2022-05-28T15:03:53.461Z"
   },
   {
    "duration": 5,
    "start_time": "2022-05-28T15:03:53.952Z"
   },
   {
    "duration": 12,
    "start_time": "2022-05-28T15:03:54.253Z"
   },
   {
    "duration": 7,
    "start_time": "2022-05-28T15:03:54.973Z"
   },
   {
    "duration": 10,
    "start_time": "2022-05-28T15:03:55.275Z"
   },
   {
    "duration": 5,
    "start_time": "2022-05-28T15:03:56.231Z"
   },
   {
    "duration": 57,
    "start_time": "2022-05-28T15:03:57.455Z"
   },
   {
    "duration": 35,
    "start_time": "2022-05-28T15:03:58.110Z"
   },
   {
    "duration": 19,
    "start_time": "2022-05-28T15:03:58.705Z"
   },
   {
    "duration": 11,
    "start_time": "2022-05-28T15:03:59.393Z"
   },
   {
    "duration": 7,
    "start_time": "2022-05-28T15:03:59.591Z"
   },
   {
    "duration": 2261,
    "start_time": "2022-05-28T15:03:59.786Z"
   },
   {
    "duration": 1402,
    "start_time": "2022-05-28T15:04:02.049Z"
   },
   {
    "duration": 4442,
    "start_time": "2022-05-28T15:10:09.754Z"
   },
   {
    "duration": 159,
    "start_time": "2022-05-28T15:10:22.681Z"
   },
   {
    "duration": 2834,
    "start_time": "2022-05-28T15:10:26.501Z"
   },
   {
    "duration": 2257,
    "start_time": "2022-05-28T15:10:36.949Z"
   },
   {
    "duration": 4479,
    "start_time": "2022-05-28T15:12:42.167Z"
   },
   {
    "duration": 2476,
    "start_time": "2022-05-28T15:13:07.367Z"
   },
   {
    "duration": 2343,
    "start_time": "2022-05-28T15:13:35.382Z"
   },
   {
    "duration": 14,
    "start_time": "2022-05-28T15:14:21.615Z"
   },
   {
    "duration": 534,
    "start_time": "2022-05-28T15:15:06.600Z"
   },
   {
    "duration": 2225,
    "start_time": "2022-05-28T15:15:14.141Z"
   },
   {
    "duration": 5,
    "start_time": "2022-05-28T15:16:17.603Z"
   },
   {
    "duration": 4,
    "start_time": "2022-05-28T15:16:31.256Z"
   },
   {
    "duration": 4,
    "start_time": "2022-05-28T15:16:45.763Z"
   },
   {
    "duration": 6,
    "start_time": "2022-05-28T15:37:50.756Z"
   },
   {
    "duration": 60,
    "start_time": "2022-05-28T15:37:50.765Z"
   },
   {
    "duration": 12,
    "start_time": "2022-05-28T15:37:50.827Z"
   },
   {
    "duration": 5,
    "start_time": "2022-05-28T15:37:50.841Z"
   },
   {
    "duration": 20,
    "start_time": "2022-05-28T15:37:50.849Z"
   },
   {
    "duration": 25,
    "start_time": "2022-05-28T15:37:50.871Z"
   },
   {
    "duration": 15,
    "start_time": "2022-05-28T15:37:50.897Z"
   },
   {
    "duration": 13,
    "start_time": "2022-05-28T15:37:50.913Z"
   },
   {
    "duration": 51,
    "start_time": "2022-05-28T15:37:50.928Z"
   },
   {
    "duration": 34,
    "start_time": "2022-05-28T15:37:50.985Z"
   },
   {
    "duration": 27,
    "start_time": "2022-05-28T15:37:51.022Z"
   },
   {
    "duration": 11,
    "start_time": "2022-05-28T15:37:51.051Z"
   },
   {
    "duration": 33,
    "start_time": "2022-05-28T15:37:51.064Z"
   },
   {
    "duration": 2259,
    "start_time": "2022-05-28T15:37:51.104Z"
   },
   {
    "duration": 28,
    "start_time": "2022-05-28T15:37:53.364Z"
   },
   {
    "duration": 534,
    "start_time": "2022-05-28T15:37:53.401Z"
   },
   {
    "duration": 0,
    "start_time": "2022-05-28T15:37:53.937Z"
   },
   {
    "duration": 0,
    "start_time": "2022-05-28T15:37:53.938Z"
   },
   {
    "duration": 0,
    "start_time": "2022-05-28T15:37:53.940Z"
   },
   {
    "duration": 0,
    "start_time": "2022-05-28T15:37:53.941Z"
   },
   {
    "duration": 0,
    "start_time": "2022-05-28T15:37:53.942Z"
   },
   {
    "duration": 0,
    "start_time": "2022-05-28T15:37:53.943Z"
   },
   {
    "duration": 0,
    "start_time": "2022-05-28T15:37:53.945Z"
   },
   {
    "duration": 0,
    "start_time": "2022-05-28T15:37:53.945Z"
   },
   {
    "duration": 0,
    "start_time": "2022-05-28T15:37:53.947Z"
   },
   {
    "duration": 0,
    "start_time": "2022-05-28T15:37:53.948Z"
   },
   {
    "duration": 0,
    "start_time": "2022-05-28T15:37:53.949Z"
   },
   {
    "duration": 0,
    "start_time": "2022-05-28T15:37:53.950Z"
   },
   {
    "duration": 0,
    "start_time": "2022-05-28T15:37:53.951Z"
   },
   {
    "duration": 0,
    "start_time": "2022-05-28T15:37:53.952Z"
   },
   {
    "duration": 0,
    "start_time": "2022-05-28T15:37:53.953Z"
   },
   {
    "duration": 0,
    "start_time": "2022-05-28T15:37:53.954Z"
   },
   {
    "duration": 0,
    "start_time": "2022-05-28T15:37:53.985Z"
   },
   {
    "duration": 0,
    "start_time": "2022-05-28T15:37:53.986Z"
   },
   {
    "duration": 511,
    "start_time": "2022-05-28T15:38:08.662Z"
   },
   {
    "duration": 2307,
    "start_time": "2022-05-28T15:38:16.231Z"
   },
   {
    "duration": 2323,
    "start_time": "2022-05-28T15:46:16.466Z"
   },
   {
    "duration": 2266,
    "start_time": "2022-05-28T15:46:29.028Z"
   },
   {
    "duration": 1828,
    "start_time": "2022-05-28T15:46:40.591Z"
   },
   {
    "duration": 2286,
    "start_time": "2022-05-28T15:47:11.414Z"
   },
   {
    "duration": 2233,
    "start_time": "2022-05-28T15:49:03.314Z"
   },
   {
    "duration": 1582,
    "start_time": "2022-05-28T15:49:39.760Z"
   },
   {
    "duration": 61,
    "start_time": "2022-05-28T15:49:41.345Z"
   },
   {
    "duration": 18,
    "start_time": "2022-05-28T15:49:41.408Z"
   },
   {
    "duration": 10,
    "start_time": "2022-05-28T15:49:41.428Z"
   },
   {
    "duration": 16,
    "start_time": "2022-05-28T15:49:41.442Z"
   },
   {
    "duration": 33,
    "start_time": "2022-05-28T15:49:41.460Z"
   },
   {
    "duration": 31,
    "start_time": "2022-05-28T15:49:41.498Z"
   },
   {
    "duration": 6,
    "start_time": "2022-05-28T15:49:41.531Z"
   },
   {
    "duration": 67,
    "start_time": "2022-05-28T15:49:41.539Z"
   },
   {
    "duration": 43,
    "start_time": "2022-05-28T15:49:41.613Z"
   },
   {
    "duration": 33,
    "start_time": "2022-05-28T15:49:41.659Z"
   },
   {
    "duration": 16,
    "start_time": "2022-05-28T15:49:41.694Z"
   },
   {
    "duration": 23,
    "start_time": "2022-05-28T15:49:41.712Z"
   },
   {
    "duration": 2492,
    "start_time": "2022-05-28T15:49:41.739Z"
   },
   {
    "duration": 13,
    "start_time": "2022-05-28T15:49:44.232Z"
   },
   {
    "duration": 2215,
    "start_time": "2022-05-28T15:49:44.247Z"
   },
   {
    "duration": 39,
    "start_time": "2022-05-28T15:49:46.465Z"
   },
   {
    "duration": 27,
    "start_time": "2022-05-28T15:49:46.508Z"
   },
   {
    "duration": 2009,
    "start_time": "2022-05-28T15:49:46.537Z"
   },
   {
    "duration": 5,
    "start_time": "2022-05-28T15:49:48.549Z"
   },
   {
    "duration": 12,
    "start_time": "2022-05-28T15:49:48.556Z"
   },
   {
    "duration": 13,
    "start_time": "2022-05-28T15:49:48.589Z"
   },
   {
    "duration": 24,
    "start_time": "2022-05-28T15:49:48.609Z"
   },
   {
    "duration": 1759,
    "start_time": "2022-05-28T15:49:48.635Z"
   },
   {
    "duration": 616,
    "start_time": "2022-05-28T15:49:50.403Z"
   },
   {
    "duration": 5,
    "start_time": "2022-05-28T15:49:51.021Z"
   },
   {
    "duration": 37,
    "start_time": "2022-05-28T15:49:51.028Z"
   },
   {
    "duration": 43,
    "start_time": "2022-05-28T15:49:51.067Z"
   },
   {
    "duration": 31,
    "start_time": "2022-05-28T15:49:51.111Z"
   },
   {
    "duration": 127627,
    "start_time": "2022-05-28T15:49:51.145Z"
   },
   {
    "duration": 1235,
    "start_time": "2022-05-28T15:51:58.774Z"
   },
   {
    "duration": 22,
    "start_time": "2022-05-28T15:52:00.084Z"
   },
   {
    "duration": 1484,
    "start_time": "2022-05-28T15:52:00.108Z"
   },
   {
    "duration": 21,
    "start_time": "2022-05-28T15:52:01.594Z"
   },
   {
    "duration": 1542,
    "start_time": "2022-07-01T09:39:50.904Z"
   },
   {
    "duration": 61,
    "start_time": "2022-07-01T09:39:52.448Z"
   },
   {
    "duration": 13,
    "start_time": "2022-07-01T09:39:52.511Z"
   },
   {
    "duration": 4,
    "start_time": "2022-07-01T09:39:52.526Z"
   },
   {
    "duration": 13,
    "start_time": "2022-07-01T09:39:52.532Z"
   },
   {
    "duration": 7,
    "start_time": "2022-07-01T09:39:52.547Z"
   },
   {
    "duration": 16,
    "start_time": "2022-07-01T09:39:52.556Z"
   },
   {
    "duration": 17,
    "start_time": "2022-07-01T09:39:52.573Z"
   },
   {
    "duration": 48,
    "start_time": "2022-07-01T09:39:52.592Z"
   },
   {
    "duration": 34,
    "start_time": "2022-07-01T09:39:52.643Z"
   },
   {
    "duration": 15,
    "start_time": "2022-07-01T09:39:52.679Z"
   },
   {
    "duration": 9,
    "start_time": "2022-07-01T09:39:52.696Z"
   },
   {
    "duration": 6,
    "start_time": "2022-07-01T09:39:52.706Z"
   },
   {
    "duration": 2185,
    "start_time": "2022-07-01T09:39:52.713Z"
   },
   {
    "duration": 12,
    "start_time": "2022-07-01T09:39:54.900Z"
   },
   {
    "duration": 2127,
    "start_time": "2022-07-01T09:39:54.915Z"
   },
   {
    "duration": 12,
    "start_time": "2022-07-01T09:39:57.043Z"
   },
   {
    "duration": 27,
    "start_time": "2022-07-01T09:39:57.057Z"
   },
   {
    "duration": 1522,
    "start_time": "2022-07-01T09:39:57.085Z"
   },
   {
    "duration": 4,
    "start_time": "2022-07-01T09:39:58.609Z"
   },
   {
    "duration": 11,
    "start_time": "2022-07-01T09:39:58.614Z"
   },
   {
    "duration": 7,
    "start_time": "2022-07-01T09:39:58.626Z"
   },
   {
    "duration": 10,
    "start_time": "2022-07-01T09:39:58.635Z"
   },
   {
    "duration": 320,
    "start_time": "2022-07-01T09:39:58.647Z"
   },
   {
    "duration": 490,
    "start_time": "2022-07-01T09:39:58.969Z"
   },
   {
    "duration": 6,
    "start_time": "2022-07-01T09:39:59.461Z"
   },
   {
    "duration": 13,
    "start_time": "2022-07-01T09:39:59.469Z"
   },
   {
    "duration": 10,
    "start_time": "2022-07-01T09:39:59.485Z"
   },
   {
    "duration": 9,
    "start_time": "2022-07-01T09:39:59.496Z"
   },
   {
    "duration": 125817,
    "start_time": "2022-07-01T09:39:59.506Z"
   },
   {
    "duration": 1056,
    "start_time": "2022-07-01T09:42:05.325Z"
   },
   {
    "duration": 96,
    "start_time": "2022-07-01T09:42:06.384Z"
   },
   {
    "duration": 1228,
    "start_time": "2022-07-01T09:42:06.481Z"
   },
   {
    "duration": 15,
    "start_time": "2022-07-01T09:42:07.711Z"
   },
   {
    "duration": 1374,
    "start_time": "2022-07-10T08:13:11.618Z"
   },
   {
    "duration": 62,
    "start_time": "2022-07-10T08:13:12.994Z"
   },
   {
    "duration": 10,
    "start_time": "2022-07-10T08:13:13.057Z"
   },
   {
    "duration": 6,
    "start_time": "2022-07-10T08:13:13.070Z"
   },
   {
    "duration": 19,
    "start_time": "2022-07-10T08:13:13.078Z"
   },
   {
    "duration": 5,
    "start_time": "2022-07-10T08:13:13.099Z"
   },
   {
    "duration": 9,
    "start_time": "2022-07-10T08:13:13.106Z"
   },
   {
    "duration": 9,
    "start_time": "2022-07-10T08:13:13.117Z"
   },
   {
    "duration": 43,
    "start_time": "2022-07-10T08:13:13.128Z"
   },
   {
    "duration": 24,
    "start_time": "2022-07-10T08:13:13.174Z"
   },
   {
    "duration": 35,
    "start_time": "2022-07-10T08:13:13.200Z"
   },
   {
    "duration": 9,
    "start_time": "2022-07-10T08:13:13.236Z"
   },
   {
    "duration": 6,
    "start_time": "2022-07-10T08:13:13.246Z"
   },
   {
    "duration": 1945,
    "start_time": "2022-07-10T08:13:13.254Z"
   },
   {
    "duration": 32,
    "start_time": "2022-07-10T08:13:15.200Z"
   },
   {
    "duration": 1428,
    "start_time": "2022-07-10T08:13:15.233Z"
   },
   {
    "duration": 4,
    "start_time": "2022-07-10T08:13:16.662Z"
   },
   {
    "duration": 7,
    "start_time": "2022-07-10T08:13:16.668Z"
   },
   {
    "duration": 6,
    "start_time": "2022-07-10T08:13:16.676Z"
   },
   {
    "duration": 5,
    "start_time": "2022-07-10T08:13:16.684Z"
   },
   {
    "duration": 435,
    "start_time": "2022-07-10T08:13:16.691Z"
   },
   {
    "duration": 487,
    "start_time": "2022-07-10T08:13:17.129Z"
   },
   {
    "duration": 11,
    "start_time": "2022-07-10T08:13:17.618Z"
   },
   {
    "duration": 18,
    "start_time": "2022-07-10T08:13:17.631Z"
   },
   {
    "duration": 9,
    "start_time": "2022-07-10T08:13:17.651Z"
   },
   {
    "duration": 8,
    "start_time": "2022-07-10T08:13:17.661Z"
   },
   {
    "duration": 104460,
    "start_time": "2022-07-10T08:13:17.670Z"
   },
   {
    "duration": 1592,
    "start_time": "2022-07-10T08:15:02.133Z"
   },
   {
    "duration": 14,
    "start_time": "2022-07-10T08:15:03.727Z"
   },
   {
    "duration": 1065,
    "start_time": "2022-07-10T08:15:03.743Z"
   },
   {
    "duration": 22,
    "start_time": "2022-07-10T08:15:04.809Z"
   }
  ],
  "kernelspec": {
   "display_name": "Python 3 (ipykernel)",
   "language": "python",
   "name": "python3"
  },
  "language_info": {
   "codemirror_mode": {
    "name": "ipython",
    "version": 3
   },
   "file_extension": ".py",
   "mimetype": "text/x-python",
   "name": "python",
   "nbconvert_exporter": "python",
   "pygments_lexer": "ipython3",
   "version": "3.9.5"
  },
  "toc": {
   "base_numbering": 1,
   "nav_menu": {},
   "number_sections": false,
   "sideBar": true,
   "skip_h1_title": true,
   "title_cell": "Table of Contents",
   "title_sidebar": "Contents",
   "toc_cell": false,
   "toc_position": {},
   "toc_section_display": true,
   "toc_window_display": false
  }
 },
 "nbformat": 4,
 "nbformat_minor": 2
}
